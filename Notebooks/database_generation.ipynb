{
 "cells": [
  {
   "cell_type": "code",
   "execution_count": 1,
   "metadata": {},
   "outputs": [],
   "source": [
    "import sqlite3 as sq\n",
    "import pandas as pd"
   ]
  },
  {
   "cell_type": "code",
   "execution_count": 2,
   "metadata": {},
   "outputs": [
    {
     "data": {
      "text/html": [
       "<div>\n",
       "<style scoped>\n",
       "    .dataframe tbody tr th:only-of-type {\n",
       "        vertical-align: middle;\n",
       "    }\n",
       "\n",
       "    .dataframe tbody tr th {\n",
       "        vertical-align: top;\n",
       "    }\n",
       "\n",
       "    .dataframe thead th {\n",
       "        text-align: right;\n",
       "    }\n",
       "</style>\n",
       "<table border=\"1\" class=\"dataframe\">\n",
       "  <thead>\n",
       "    <tr style=\"text-align: right;\">\n",
       "      <th></th>\n",
       "      <th>id</th>\n",
       "      <th>Postcode</th>\n",
       "      <th>Mean_consumption</th>\n",
       "      <th>Median_consumption</th>\n",
       "      <th>Areacode</th>\n",
       "      <th>longitude</th>\n",
       "      <th>latitude</th>\n",
       "    </tr>\n",
       "  </thead>\n",
       "  <tbody>\n",
       "    <tr>\n",
       "      <th>0</th>\n",
       "      <td>0</td>\n",
       "      <td>AB10 1AU</td>\n",
       "      <td>3099.678261</td>\n",
       "      <td>1735.70</td>\n",
       "      <td>AB</td>\n",
       "      <td>-2.096316</td>\n",
       "      <td>57.147756</td>\n",
       "    </tr>\n",
       "    <tr>\n",
       "      <th>1</th>\n",
       "      <td>1</td>\n",
       "      <td>AB10 1BA</td>\n",
       "      <td>2944.905882</td>\n",
       "      <td>2518.40</td>\n",
       "      <td>AB</td>\n",
       "      <td>-2.098699</td>\n",
       "      <td>57.148823</td>\n",
       "    </tr>\n",
       "    <tr>\n",
       "      <th>2</th>\n",
       "      <td>2</td>\n",
       "      <td>AB10 1BB</td>\n",
       "      <td>2523.860000</td>\n",
       "      <td>2820.80</td>\n",
       "      <td>AB</td>\n",
       "      <td>-2.097108</td>\n",
       "      <td>57.147207</td>\n",
       "    </tr>\n",
       "    <tr>\n",
       "      <th>3</th>\n",
       "      <td>3</td>\n",
       "      <td>AB10 1FG</td>\n",
       "      <td>2363.820833</td>\n",
       "      <td>2087.20</td>\n",
       "      <td>AB</td>\n",
       "      <td>-2.097363</td>\n",
       "      <td>57.149965</td>\n",
       "    </tr>\n",
       "    <tr>\n",
       "      <th>4</th>\n",
       "      <td>4</td>\n",
       "      <td>AB10 1FL</td>\n",
       "      <td>4051.692857</td>\n",
       "      <td>3536.50</td>\n",
       "      <td>AB</td>\n",
       "      <td>-2.096868</td>\n",
       "      <td>57.150190</td>\n",
       "    </tr>\n",
       "    <tr>\n",
       "      <th>...</th>\n",
       "      <td>...</td>\n",
       "      <td>...</td>\n",
       "      <td>...</td>\n",
       "      <td>...</td>\n",
       "      <td>...</td>\n",
       "      <td>...</td>\n",
       "      <td>...</td>\n",
       "    </tr>\n",
       "    <tr>\n",
       "      <th>1186885</th>\n",
       "      <td>1186885</td>\n",
       "      <td>ZE3 9JU</td>\n",
       "      <td>2881.250000</td>\n",
       "      <td>2694.25</td>\n",
       "      <td>ZE</td>\n",
       "      <td>-1.307206</td>\n",
       "      <td>59.889544</td>\n",
       "    </tr>\n",
       "    <tr>\n",
       "      <th>1186886</th>\n",
       "      <td>1186886</td>\n",
       "      <td>ZE3 9JW</td>\n",
       "      <td>6380.195833</td>\n",
       "      <td>5010.25</td>\n",
       "      <td>ZE</td>\n",
       "      <td>-1.305697</td>\n",
       "      <td>59.873651</td>\n",
       "    </tr>\n",
       "    <tr>\n",
       "      <th>1186887</th>\n",
       "      <td>1186887</td>\n",
       "      <td>ZE3 9JX</td>\n",
       "      <td>2943.266667</td>\n",
       "      <td>2085.20</td>\n",
       "      <td>ZE</td>\n",
       "      <td>-1.307502</td>\n",
       "      <td>59.875286</td>\n",
       "    </tr>\n",
       "    <tr>\n",
       "      <th>1186888</th>\n",
       "      <td>1186888</td>\n",
       "      <td>ZE3 9JY</td>\n",
       "      <td>3675.183333</td>\n",
       "      <td>3412.75</td>\n",
       "      <td>ZE</td>\n",
       "      <td>-1.313847</td>\n",
       "      <td>59.891572</td>\n",
       "    </tr>\n",
       "    <tr>\n",
       "      <th>1186889</th>\n",
       "      <td>1186889</td>\n",
       "      <td>ZE3 9JZ</td>\n",
       "      <td>3725.250000</td>\n",
       "      <td>2972.30</td>\n",
       "      <td>ZE</td>\n",
       "      <td>-1.310899</td>\n",
       "      <td>59.892392</td>\n",
       "    </tr>\n",
       "  </tbody>\n",
       "</table>\n",
       "<p>1186890 rows × 7 columns</p>\n",
       "</div>"
      ],
      "text/plain": [
       "              id  Postcode  Mean_consumption  Median_consumption Areacode  \\\n",
       "0              0  AB10 1AU       3099.678261             1735.70       AB   \n",
       "1              1  AB10 1BA       2944.905882             2518.40       AB   \n",
       "2              2  AB10 1BB       2523.860000             2820.80       AB   \n",
       "3              3  AB10 1FG       2363.820833             2087.20       AB   \n",
       "4              4  AB10 1FL       4051.692857             3536.50       AB   \n",
       "...          ...       ...               ...                 ...      ...   \n",
       "1186885  1186885   ZE3 9JU       2881.250000             2694.25       ZE   \n",
       "1186886  1186886   ZE3 9JW       6380.195833             5010.25       ZE   \n",
       "1186887  1186887   ZE3 9JX       2943.266667             2085.20       ZE   \n",
       "1186888  1186888   ZE3 9JY       3675.183333             3412.75       ZE   \n",
       "1186889  1186889   ZE3 9JZ       3725.250000             2972.30       ZE   \n",
       "\n",
       "         longitude   latitude  \n",
       "0        -2.096316  57.147756  \n",
       "1        -2.098699  57.148823  \n",
       "2        -2.097108  57.147207  \n",
       "3        -2.097363  57.149965  \n",
       "4        -2.096868  57.150190  \n",
       "...            ...        ...  \n",
       "1186885  -1.307206  59.889544  \n",
       "1186886  -1.305697  59.873651  \n",
       "1186887  -1.307502  59.875286  \n",
       "1186888  -1.313847  59.891572  \n",
       "1186889  -1.310899  59.892392  \n",
       "\n",
       "[1186890 rows x 7 columns]"
      ]
     },
     "execution_count": 2,
     "metadata": {},
     "output_type": "execute_result"
    }
   ],
   "source": [
    "df = pd.read_csv('Final_UKelectricty_AtoZ.csv')\n",
    "df"
   ]
  },
  {
   "cell_type": "code",
   "execution_count": 3,
   "metadata": {},
   "outputs": [],
   "source": [
    "conn = sq.connect('finalukenergy.sqlite')"
   ]
  },
  {
   "cell_type": "code",
   "execution_count": 4,
   "metadata": {},
   "outputs": [
    {
     "data": {
      "text/plain": [
       "1186890"
      ]
     },
     "execution_count": 4,
     "metadata": {},
     "output_type": "execute_result"
    }
   ],
   "source": [
    "df.to_sql(name=\"UKEnergy\", con=conn, if_exists='replace', index=False)"
   ]
  },
  {
   "cell_type": "code",
   "execution_count": 5,
   "metadata": {},
   "outputs": [],
   "source": [
    "conn.commit()"
   ]
  },
  {
   "cell_type": "code",
   "execution_count": null,
   "metadata": {},
   "outputs": [],
   "source": []
  }
 ],
 "metadata": {
  "kernelspec": {
   "display_name": "Python 3.10.4 ('elec')",
   "language": "python",
   "name": "python3"
  },
  "language_info": {
   "codemirror_mode": {
    "name": "ipython",
    "version": 3
   },
   "file_extension": ".py",
   "mimetype": "text/x-python",
   "name": "python",
   "nbconvert_exporter": "python",
   "pygments_lexer": "ipython3",
   "version": "3.10.4"
  },
  "orig_nbformat": 4,
  "vscode": {
   "interpreter": {
    "hash": "a03df1490dae5edca8350f1d64d7f189571412bea11a20357ccabc9e7f68ebdc"
   }
  }
 },
 "nbformat": 4,
 "nbformat_minor": 2
}
