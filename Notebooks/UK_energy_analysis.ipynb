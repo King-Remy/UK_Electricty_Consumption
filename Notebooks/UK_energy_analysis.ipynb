{
 "cells": [
  {
   "cell_type": "markdown",
   "metadata": {},
   "source": [
    "**Importing the libraries**"
   ]
  },
  {
   "cell_type": "code",
   "execution_count": 37,
   "metadata": {},
   "outputs": [],
   "source": [
    "import numpy as np\n",
    "import matplotlib.pyplot as plt\n",
    "import pandas as pd\n",
    "import geopandas as gdp\n",
    "from pathlib import Path\n",
    "import plotly.express as px\n",
    "import sqlite3 as sq\n",
    "import pandasql as ps"
   ]
  },
  {
   "cell_type": "markdown",
   "metadata": {},
   "source": [
    "**Importing the dataset**"
   ]
  },
  {
   "cell_type": "code",
   "execution_count": 38,
   "metadata": {},
   "outputs": [],
   "source": [
    "path = Path.cwd() / 'codepo_gb.gpkg'"
   ]
  },
  {
   "cell_type": "code",
   "execution_count": 39,
   "metadata": {},
   "outputs": [],
   "source": [
    "data_path = Path.cwd() / 'postcodes.csv'"
   ]
  },
  {
   "cell_type": "code",
   "execution_count": 40,
   "metadata": {},
   "outputs": [],
   "source": [
    "sec_path = Path.cwd() / 'UKElectricity_AtoK.csv'"
   ]
  },
  {
   "cell_type": "code",
   "execution_count": 41,
   "metadata": {},
   "outputs": [],
   "source": [
    "last_path = Path.cwd() / 'UKElectricity_KtoZ.csv'"
   ]
  },
  {
   "cell_type": "markdown",
   "metadata": {},
   "source": [
    "**Preprocessing the dataset**"
   ]
  },
  {
   "cell_type": "code",
   "execution_count": 42,
   "metadata": {},
   "outputs": [],
   "source": [
    "gdf = gdp.read_file(path)"
   ]
  },
  {
   "cell_type": "code",
   "execution_count": 43,
   "metadata": {},
   "outputs": [
    {
     "data": {
      "text/html": [
       "<div>\n",
       "<style scoped>\n",
       "    .dataframe tbody tr th:only-of-type {\n",
       "        vertical-align: middle;\n",
       "    }\n",
       "\n",
       "    .dataframe tbody tr th {\n",
       "        vertical-align: top;\n",
       "    }\n",
       "\n",
       "    .dataframe thead th {\n",
       "        text-align: right;\n",
       "    }\n",
       "</style>\n",
       "<table border=\"1\" class=\"dataframe\">\n",
       "  <thead>\n",
       "    <tr style=\"text-align: right;\">\n",
       "      <th></th>\n",
       "      <th>Postcode</th>\n",
       "      <th>Positional_quality_indicator</th>\n",
       "      <th>Country_code</th>\n",
       "      <th>NHS_regional_HA_code</th>\n",
       "      <th>NHS_HA_code</th>\n",
       "      <th>Admin_county_code</th>\n",
       "      <th>Admin_district_code</th>\n",
       "      <th>Admin_ward_code</th>\n",
       "      <th>geometry</th>\n",
       "    </tr>\n",
       "  </thead>\n",
       "  <tbody>\n",
       "    <tr>\n",
       "      <th>0</th>\n",
       "      <td>AB10 1AB</td>\n",
       "      <td>10</td>\n",
       "      <td>S92000003</td>\n",
       "      <td>None</td>\n",
       "      <td>S08000020</td>\n",
       "      <td>None</td>\n",
       "      <td>S12000033</td>\n",
       "      <td>S13002842</td>\n",
       "      <td>POINT (394235.000 806529.000)</td>\n",
       "    </tr>\n",
       "    <tr>\n",
       "      <th>1</th>\n",
       "      <td>AB10 1AF</td>\n",
       "      <td>10</td>\n",
       "      <td>S92000003</td>\n",
       "      <td>None</td>\n",
       "      <td>S08000020</td>\n",
       "      <td>None</td>\n",
       "      <td>S12000033</td>\n",
       "      <td>S13002842</td>\n",
       "      <td>POINT (394235.000 806529.000)</td>\n",
       "    </tr>\n",
       "    <tr>\n",
       "      <th>2</th>\n",
       "      <td>AB10 1AG</td>\n",
       "      <td>10</td>\n",
       "      <td>S92000003</td>\n",
       "      <td>None</td>\n",
       "      <td>S08000020</td>\n",
       "      <td>None</td>\n",
       "      <td>S12000033</td>\n",
       "      <td>S13002842</td>\n",
       "      <td>POINT (394230.000 806469.000)</td>\n",
       "    </tr>\n",
       "    <tr>\n",
       "      <th>3</th>\n",
       "      <td>AB10 1AH</td>\n",
       "      <td>10</td>\n",
       "      <td>S92000003</td>\n",
       "      <td>None</td>\n",
       "      <td>S08000020</td>\n",
       "      <td>None</td>\n",
       "      <td>S12000033</td>\n",
       "      <td>S13002842</td>\n",
       "      <td>POINT (394235.000 806529.000)</td>\n",
       "    </tr>\n",
       "    <tr>\n",
       "      <th>4</th>\n",
       "      <td>AB10 1AL</td>\n",
       "      <td>10</td>\n",
       "      <td>S92000003</td>\n",
       "      <td>None</td>\n",
       "      <td>S08000020</td>\n",
       "      <td>None</td>\n",
       "      <td>S12000033</td>\n",
       "      <td>S13002842</td>\n",
       "      <td>POINT (394296.000 806581.000)</td>\n",
       "    </tr>\n",
       "    <tr>\n",
       "      <th>...</th>\n",
       "      <td>...</td>\n",
       "      <td>...</td>\n",
       "      <td>...</td>\n",
       "      <td>...</td>\n",
       "      <td>...</td>\n",
       "      <td>...</td>\n",
       "      <td>...</td>\n",
       "      <td>...</td>\n",
       "      <td>...</td>\n",
       "    </tr>\n",
       "    <tr>\n",
       "      <th>1728238</th>\n",
       "      <td>ZE3 9JU</td>\n",
       "      <td>10</td>\n",
       "      <td>S92000003</td>\n",
       "      <td>None</td>\n",
       "      <td>S08000026</td>\n",
       "      <td>None</td>\n",
       "      <td>S12000027</td>\n",
       "      <td>S13003155</td>\n",
       "      <td>POINT (438872.000 1111807.000)</td>\n",
       "    </tr>\n",
       "    <tr>\n",
       "      <th>1728239</th>\n",
       "      <td>ZE3 9JW</td>\n",
       "      <td>10</td>\n",
       "      <td>S92000003</td>\n",
       "      <td>None</td>\n",
       "      <td>S08000026</td>\n",
       "      <td>None</td>\n",
       "      <td>S12000027</td>\n",
       "      <td>S13003155</td>\n",
       "      <td>POINT (438975.000 1110038.000)</td>\n",
       "    </tr>\n",
       "    <tr>\n",
       "      <th>1728240</th>\n",
       "      <td>ZE3 9JX</td>\n",
       "      <td>10</td>\n",
       "      <td>S92000003</td>\n",
       "      <td>None</td>\n",
       "      <td>S08000026</td>\n",
       "      <td>None</td>\n",
       "      <td>S12000027</td>\n",
       "      <td>S13003155</td>\n",
       "      <td>POINT (438872.000 1110219.000)</td>\n",
       "    </tr>\n",
       "    <tr>\n",
       "      <th>1728241</th>\n",
       "      <td>ZE3 9JY</td>\n",
       "      <td>10</td>\n",
       "      <td>S92000003</td>\n",
       "      <td>None</td>\n",
       "      <td>S08000026</td>\n",
       "      <td>None</td>\n",
       "      <td>S12000027</td>\n",
       "      <td>S13003155</td>\n",
       "      <td>POINT (438498.000 1112029.000)</td>\n",
       "    </tr>\n",
       "    <tr>\n",
       "      <th>1728242</th>\n",
       "      <td>ZE3 9JZ</td>\n",
       "      <td>10</td>\n",
       "      <td>S92000003</td>\n",
       "      <td>None</td>\n",
       "      <td>S08000026</td>\n",
       "      <td>None</td>\n",
       "      <td>S12000027</td>\n",
       "      <td>S13003155</td>\n",
       "      <td>POINT (438662.000 1112122.000)</td>\n",
       "    </tr>\n",
       "  </tbody>\n",
       "</table>\n",
       "<p>1728243 rows × 9 columns</p>\n",
       "</div>"
      ],
      "text/plain": [
       "         Postcode  Positional_quality_indicator Country_code  \\\n",
       "0        AB10 1AB                            10    S92000003   \n",
       "1        AB10 1AF                            10    S92000003   \n",
       "2        AB10 1AG                            10    S92000003   \n",
       "3        AB10 1AH                            10    S92000003   \n",
       "4        AB10 1AL                            10    S92000003   \n",
       "...           ...                           ...          ...   \n",
       "1728238   ZE3 9JU                            10    S92000003   \n",
       "1728239   ZE3 9JW                            10    S92000003   \n",
       "1728240   ZE3 9JX                            10    S92000003   \n",
       "1728241   ZE3 9JY                            10    S92000003   \n",
       "1728242   ZE3 9JZ                            10    S92000003   \n",
       "\n",
       "        NHS_regional_HA_code NHS_HA_code Admin_county_code  \\\n",
       "0                       None   S08000020              None   \n",
       "1                       None   S08000020              None   \n",
       "2                       None   S08000020              None   \n",
       "3                       None   S08000020              None   \n",
       "4                       None   S08000020              None   \n",
       "...                      ...         ...               ...   \n",
       "1728238                 None   S08000026              None   \n",
       "1728239                 None   S08000026              None   \n",
       "1728240                 None   S08000026              None   \n",
       "1728241                 None   S08000026              None   \n",
       "1728242                 None   S08000026              None   \n",
       "\n",
       "        Admin_district_code Admin_ward_code                        geometry  \n",
       "0                 S12000033       S13002842   POINT (394235.000 806529.000)  \n",
       "1                 S12000033       S13002842   POINT (394235.000 806529.000)  \n",
       "2                 S12000033       S13002842   POINT (394230.000 806469.000)  \n",
       "3                 S12000033       S13002842   POINT (394235.000 806529.000)  \n",
       "4                 S12000033       S13002842   POINT (394296.000 806581.000)  \n",
       "...                     ...             ...                             ...  \n",
       "1728238           S12000027       S13003155  POINT (438872.000 1111807.000)  \n",
       "1728239           S12000027       S13003155  POINT (438975.000 1110038.000)  \n",
       "1728240           S12000027       S13003155  POINT (438872.000 1110219.000)  \n",
       "1728241           S12000027       S13003155  POINT (438498.000 1112029.000)  \n",
       "1728242           S12000027       S13003155  POINT (438662.000 1112122.000)  \n",
       "\n",
       "[1728243 rows x 9 columns]"
      ]
     },
     "execution_count": 43,
     "metadata": {},
     "output_type": "execute_result"
    }
   ],
   "source": [
    "# Selecting only usefull columns\n",
    "gdf_edit = gdf.loc[:,['Postcode','geometry']]\n",
    "gdf"
   ]
  },
  {
   "cell_type": "code",
   "execution_count": 44,
   "metadata": {},
   "outputs": [
    {
     "name": "stderr",
     "output_type": "stream",
     "text": [
      "C:\\Users\\KingRemy\\AppData\\Local\\Temp\\ipykernel_12404\\1090442520.py:1: DtypeWarning: Columns (7,17,18,21,22,24,29,32,39,47,51) have mixed types. Specify dtype option on import or set low_memory=False.\n",
      "  df = pd.read_csv(data_path)\n"
     ]
    },
    {
     "data": {
      "text/html": [
       "<div>\n",
       "<style scoped>\n",
       "    .dataframe tbody tr th:only-of-type {\n",
       "        vertical-align: middle;\n",
       "    }\n",
       "\n",
       "    .dataframe tbody tr th {\n",
       "        vertical-align: top;\n",
       "    }\n",
       "\n",
       "    .dataframe thead th {\n",
       "        text-align: right;\n",
       "    }\n",
       "</style>\n",
       "<table border=\"1\" class=\"dataframe\">\n",
       "  <thead>\n",
       "    <tr style=\"text-align: right;\">\n",
       "      <th></th>\n",
       "      <th>Postcode</th>\n",
       "      <th>In Use?</th>\n",
       "      <th>Latitude</th>\n",
       "      <th>Longitude</th>\n",
       "      <th>Easting</th>\n",
       "      <th>Northing</th>\n",
       "      <th>Grid Ref</th>\n",
       "      <th>County</th>\n",
       "      <th>District</th>\n",
       "      <th>Ward</th>\n",
       "      <th>...</th>\n",
       "      <th>Police force</th>\n",
       "      <th>Water company</th>\n",
       "      <th>Plus Code</th>\n",
       "      <th>Average Income</th>\n",
       "      <th>Sewage Company</th>\n",
       "      <th>Travel To Work Area</th>\n",
       "      <th>ITL level 2</th>\n",
       "      <th>ITL level 3</th>\n",
       "      <th>UPRNs</th>\n",
       "      <th>Distance to sea</th>\n",
       "    </tr>\n",
       "  </thead>\n",
       "  <tbody>\n",
       "    <tr>\n",
       "      <th>0</th>\n",
       "      <td>AB1 0AA</td>\n",
       "      <td>No</td>\n",
       "      <td>57.101474</td>\n",
       "      <td>-2.242851</td>\n",
       "      <td>385386.0</td>\n",
       "      <td>801193.0</td>\n",
       "      <td>NJ853011</td>\n",
       "      <td>NaN</td>\n",
       "      <td>Aberdeen City</td>\n",
       "      <td>Lower Deeside</td>\n",
       "      <td>...</td>\n",
       "      <td>Scotland</td>\n",
       "      <td>Scottish Water</td>\n",
       "      <td>9C9V4Q24+HV</td>\n",
       "      <td>NaN</td>\n",
       "      <td>NaN</td>\n",
       "      <td>Aberdeen</td>\n",
       "      <td>North Eastern Scotland</td>\n",
       "      <td>Aberdeen City and Aberdeenshire</td>\n",
       "      <td>NaN</td>\n",
       "      <td>9.876610</td>\n",
       "    </tr>\n",
       "    <tr>\n",
       "      <th>1</th>\n",
       "      <td>AB1 0AB</td>\n",
       "      <td>No</td>\n",
       "      <td>57.102554</td>\n",
       "      <td>-2.246308</td>\n",
       "      <td>385177.0</td>\n",
       "      <td>801314.0</td>\n",
       "      <td>NJ851013</td>\n",
       "      <td>NaN</td>\n",
       "      <td>Aberdeen City</td>\n",
       "      <td>Lower Deeside</td>\n",
       "      <td>...</td>\n",
       "      <td>Scotland</td>\n",
       "      <td>Scottish Water</td>\n",
       "      <td>9C9V4Q33+2F</td>\n",
       "      <td>NaN</td>\n",
       "      <td>NaN</td>\n",
       "      <td>Aberdeen</td>\n",
       "      <td>North Eastern Scotland</td>\n",
       "      <td>Aberdeen City and Aberdeenshire</td>\n",
       "      <td>NaN</td>\n",
       "      <td>10.115100</td>\n",
       "    </tr>\n",
       "    <tr>\n",
       "      <th>2</th>\n",
       "      <td>AB1 0AD</td>\n",
       "      <td>No</td>\n",
       "      <td>57.100556</td>\n",
       "      <td>-2.248342</td>\n",
       "      <td>385053.0</td>\n",
       "      <td>801092.0</td>\n",
       "      <td>NJ850010</td>\n",
       "      <td>NaN</td>\n",
       "      <td>Aberdeen City</td>\n",
       "      <td>Lower Deeside</td>\n",
       "      <td>...</td>\n",
       "      <td>Scotland</td>\n",
       "      <td>Scottish Water</td>\n",
       "      <td>9C9V4Q22+6M</td>\n",
       "      <td>NaN</td>\n",
       "      <td>NaN</td>\n",
       "      <td>Aberdeen</td>\n",
       "      <td>North Eastern Scotland</td>\n",
       "      <td>Aberdeen City and Aberdeenshire</td>\n",
       "      <td>NaN</td>\n",
       "      <td>10.147600</td>\n",
       "    </tr>\n",
       "    <tr>\n",
       "      <th>3</th>\n",
       "      <td>AB1 0AE</td>\n",
       "      <td>No</td>\n",
       "      <td>57.084444</td>\n",
       "      <td>-2.255708</td>\n",
       "      <td>384600.0</td>\n",
       "      <td>799300.0</td>\n",
       "      <td>NO845993</td>\n",
       "      <td>NaN</td>\n",
       "      <td>Aberdeenshire</td>\n",
       "      <td>North Kincardine</td>\n",
       "      <td>...</td>\n",
       "      <td>Scotland</td>\n",
       "      <td>Scottish Water</td>\n",
       "      <td>9C9V3PMV+QP</td>\n",
       "      <td>NaN</td>\n",
       "      <td>NaN</td>\n",
       "      <td>Aberdeen</td>\n",
       "      <td>North Eastern Scotland</td>\n",
       "      <td>Aberdeen City and Aberdeenshire</td>\n",
       "      <td>NaN</td>\n",
       "      <td>9.396830</td>\n",
       "    </tr>\n",
       "    <tr>\n",
       "      <th>4</th>\n",
       "      <td>AB1 0AF</td>\n",
       "      <td>No</td>\n",
       "      <td>57.096656</td>\n",
       "      <td>-2.258102</td>\n",
       "      <td>384460.0</td>\n",
       "      <td>800660.0</td>\n",
       "      <td>NJ844006</td>\n",
       "      <td>NaN</td>\n",
       "      <td>Aberdeen City</td>\n",
       "      <td>Lower Deeside</td>\n",
       "      <td>...</td>\n",
       "      <td>Scotland</td>\n",
       "      <td>Scottish Water</td>\n",
       "      <td>9C9V3PWR+MQ</td>\n",
       "      <td>NaN</td>\n",
       "      <td>NaN</td>\n",
       "      <td>Aberdeen</td>\n",
       "      <td>North Eastern Scotland</td>\n",
       "      <td>Aberdeen City and Aberdeenshire</td>\n",
       "      <td>NaN</td>\n",
       "      <td>10.561600</td>\n",
       "    </tr>\n",
       "    <tr>\n",
       "      <th>...</th>\n",
       "      <td>...</td>\n",
       "      <td>...</td>\n",
       "      <td>...</td>\n",
       "      <td>...</td>\n",
       "      <td>...</td>\n",
       "      <td>...</td>\n",
       "      <td>...</td>\n",
       "      <td>...</td>\n",
       "      <td>...</td>\n",
       "      <td>...</td>\n",
       "      <td>...</td>\n",
       "      <td>...</td>\n",
       "      <td>...</td>\n",
       "      <td>...</td>\n",
       "      <td>...</td>\n",
       "      <td>...</td>\n",
       "      <td>...</td>\n",
       "      <td>...</td>\n",
       "      <td>...</td>\n",
       "      <td>...</td>\n",
       "      <td>...</td>\n",
       "    </tr>\n",
       "    <tr>\n",
       "      <th>2667038</th>\n",
       "      <td>ZE3 9JW</td>\n",
       "      <td>Yes</td>\n",
       "      <td>59.873651</td>\n",
       "      <td>-1.305697</td>\n",
       "      <td>438975.0</td>\n",
       "      <td>1110038.0</td>\n",
       "      <td>HU389100</td>\n",
       "      <td>NaN</td>\n",
       "      <td>Shetland Islands</td>\n",
       "      <td>Shetland South</td>\n",
       "      <td>...</td>\n",
       "      <td>Scotland</td>\n",
       "      <td>Scottish Water</td>\n",
       "      <td>9CFWVMFV+FP</td>\n",
       "      <td>NaN</td>\n",
       "      <td>NaN</td>\n",
       "      <td>Shetland Islands</td>\n",
       "      <td>Highlands and Islands</td>\n",
       "      <td>Shetland Islands</td>\n",
       "      <td>10015367960,10025034795,10025038253,1002525343...</td>\n",
       "      <td>0.514631</td>\n",
       "    </tr>\n",
       "    <tr>\n",
       "      <th>2667039</th>\n",
       "      <td>ZE3 9JX</td>\n",
       "      <td>Yes</td>\n",
       "      <td>59.875286</td>\n",
       "      <td>-1.307502</td>\n",
       "      <td>438872.0</td>\n",
       "      <td>1110219.0</td>\n",
       "      <td>HU388102</td>\n",
       "      <td>NaN</td>\n",
       "      <td>Shetland Islands</td>\n",
       "      <td>Shetland South</td>\n",
       "      <td>...</td>\n",
       "      <td>Scotland</td>\n",
       "      <td>Scottish Water</td>\n",
       "      <td>9CFWVMGR+4X</td>\n",
       "      <td>NaN</td>\n",
       "      <td>NaN</td>\n",
       "      <td>Shetland Islands</td>\n",
       "      <td>Highlands and Islands</td>\n",
       "      <td>Shetland Islands</td>\n",
       "      <td>30100009614,30100009615,30100009616,3010000961...</td>\n",
       "      <td>0.511876</td>\n",
       "    </tr>\n",
       "    <tr>\n",
       "      <th>2667040</th>\n",
       "      <td>ZE3 9JY</td>\n",
       "      <td>Yes</td>\n",
       "      <td>59.891572</td>\n",
       "      <td>-1.313847</td>\n",
       "      <td>438498.0</td>\n",
       "      <td>1112029.0</td>\n",
       "      <td>HU384120</td>\n",
       "      <td>NaN</td>\n",
       "      <td>Shetland Islands</td>\n",
       "      <td>Shetland South</td>\n",
       "      <td>...</td>\n",
       "      <td>Scotland</td>\n",
       "      <td>Scottish Water</td>\n",
       "      <td>9CFWVMRP+JF</td>\n",
       "      <td>NaN</td>\n",
       "      <td>NaN</td>\n",
       "      <td>Shetland Islands</td>\n",
       "      <td>Highlands and Islands</td>\n",
       "      <td>Shetland Islands</td>\n",
       "      <td>10025034796,30100003953,30100003954,3010000395...</td>\n",
       "      <td>0.284206</td>\n",
       "    </tr>\n",
       "    <tr>\n",
       "      <th>2667041</th>\n",
       "      <td>ZE3 9JZ</td>\n",
       "      <td>Yes</td>\n",
       "      <td>59.892392</td>\n",
       "      <td>-1.310899</td>\n",
       "      <td>438662.0</td>\n",
       "      <td>1112122.0</td>\n",
       "      <td>HU386121</td>\n",
       "      <td>NaN</td>\n",
       "      <td>Shetland Islands</td>\n",
       "      <td>Shetland South</td>\n",
       "      <td>...</td>\n",
       "      <td>Scotland</td>\n",
       "      <td>Scottish Water</td>\n",
       "      <td>9CFWVMRQ+XJ</td>\n",
       "      <td>NaN</td>\n",
       "      <td>NaN</td>\n",
       "      <td>Shetland Islands</td>\n",
       "      <td>Highlands and Islands</td>\n",
       "      <td>Shetland Islands</td>\n",
       "      <td>10025039964,30100010808,30100010809,3010001081...</td>\n",
       "      <td>0.458381</td>\n",
       "    </tr>\n",
       "    <tr>\n",
       "      <th>2667042</th>\n",
       "      <td>ZE3 9XP</td>\n",
       "      <td>No</td>\n",
       "      <td>59.887104</td>\n",
       "      <td>-1.307578</td>\n",
       "      <td>438854.0</td>\n",
       "      <td>1111535.0</td>\n",
       "      <td>HU388115</td>\n",
       "      <td>NaN</td>\n",
       "      <td>Shetland Islands</td>\n",
       "      <td>Shetland South</td>\n",
       "      <td>...</td>\n",
       "      <td>Scotland</td>\n",
       "      <td>Scottish Water</td>\n",
       "      <td>9CFWVMPR+RX</td>\n",
       "      <td>NaN</td>\n",
       "      <td>NaN</td>\n",
       "      <td>Shetland Islands</td>\n",
       "      <td>Highlands and Islands</td>\n",
       "      <td>Shetland Islands</td>\n",
       "      <td>NaN</td>\n",
       "      <td>0.575034</td>\n",
       "    </tr>\n",
       "  </tbody>\n",
       "</table>\n",
       "<p>2667043 rows × 53 columns</p>\n",
       "</div>"
      ],
      "text/plain": [
       "        Postcode In Use?   Latitude  Longitude   Easting   Northing  Grid Ref  \\\n",
       "0        AB1 0AA      No  57.101474  -2.242851  385386.0   801193.0  NJ853011   \n",
       "1        AB1 0AB      No  57.102554  -2.246308  385177.0   801314.0  NJ851013   \n",
       "2        AB1 0AD      No  57.100556  -2.248342  385053.0   801092.0  NJ850010   \n",
       "3        AB1 0AE      No  57.084444  -2.255708  384600.0   799300.0  NO845993   \n",
       "4        AB1 0AF      No  57.096656  -2.258102  384460.0   800660.0  NJ844006   \n",
       "...          ...     ...        ...        ...       ...        ...       ...   \n",
       "2667038  ZE3 9JW     Yes  59.873651  -1.305697  438975.0  1110038.0  HU389100   \n",
       "2667039  ZE3 9JX     Yes  59.875286  -1.307502  438872.0  1110219.0  HU388102   \n",
       "2667040  ZE3 9JY     Yes  59.891572  -1.313847  438498.0  1112029.0  HU384120   \n",
       "2667041  ZE3 9JZ     Yes  59.892392  -1.310899  438662.0  1112122.0  HU386121   \n",
       "2667042  ZE3 9XP      No  59.887104  -1.307578  438854.0  1111535.0  HU388115   \n",
       "\n",
       "        County          District              Ward  ... Police force  \\\n",
       "0          NaN     Aberdeen City     Lower Deeside  ...     Scotland   \n",
       "1          NaN     Aberdeen City     Lower Deeside  ...     Scotland   \n",
       "2          NaN     Aberdeen City     Lower Deeside  ...     Scotland   \n",
       "3          NaN     Aberdeenshire  North Kincardine  ...     Scotland   \n",
       "4          NaN     Aberdeen City     Lower Deeside  ...     Scotland   \n",
       "...        ...               ...               ...  ...          ...   \n",
       "2667038    NaN  Shetland Islands    Shetland South  ...     Scotland   \n",
       "2667039    NaN  Shetland Islands    Shetland South  ...     Scotland   \n",
       "2667040    NaN  Shetland Islands    Shetland South  ...     Scotland   \n",
       "2667041    NaN  Shetland Islands    Shetland South  ...     Scotland   \n",
       "2667042    NaN  Shetland Islands    Shetland South  ...     Scotland   \n",
       "\n",
       "          Water company    Plus Code Average Income Sewage Company  \\\n",
       "0        Scottish Water  9C9V4Q24+HV            NaN            NaN   \n",
       "1        Scottish Water  9C9V4Q33+2F            NaN            NaN   \n",
       "2        Scottish Water  9C9V4Q22+6M            NaN            NaN   \n",
       "3        Scottish Water  9C9V3PMV+QP            NaN            NaN   \n",
       "4        Scottish Water  9C9V3PWR+MQ            NaN            NaN   \n",
       "...                 ...          ...            ...            ...   \n",
       "2667038  Scottish Water  9CFWVMFV+FP            NaN            NaN   \n",
       "2667039  Scottish Water  9CFWVMGR+4X            NaN            NaN   \n",
       "2667040  Scottish Water  9CFWVMRP+JF            NaN            NaN   \n",
       "2667041  Scottish Water  9CFWVMRQ+XJ            NaN            NaN   \n",
       "2667042  Scottish Water  9CFWVMPR+RX            NaN            NaN   \n",
       "\n",
       "        Travel To Work Area             ITL level 2  \\\n",
       "0                  Aberdeen  North Eastern Scotland   \n",
       "1                  Aberdeen  North Eastern Scotland   \n",
       "2                  Aberdeen  North Eastern Scotland   \n",
       "3                  Aberdeen  North Eastern Scotland   \n",
       "4                  Aberdeen  North Eastern Scotland   \n",
       "...                     ...                     ...   \n",
       "2667038    Shetland Islands   Highlands and Islands   \n",
       "2667039    Shetland Islands   Highlands and Islands   \n",
       "2667040    Shetland Islands   Highlands and Islands   \n",
       "2667041    Shetland Islands   Highlands and Islands   \n",
       "2667042    Shetland Islands   Highlands and Islands   \n",
       "\n",
       "                             ITL level 3  \\\n",
       "0        Aberdeen City and Aberdeenshire   \n",
       "1        Aberdeen City and Aberdeenshire   \n",
       "2        Aberdeen City and Aberdeenshire   \n",
       "3        Aberdeen City and Aberdeenshire   \n",
       "4        Aberdeen City and Aberdeenshire   \n",
       "...                                  ...   \n",
       "2667038                 Shetland Islands   \n",
       "2667039                 Shetland Islands   \n",
       "2667040                 Shetland Islands   \n",
       "2667041                 Shetland Islands   \n",
       "2667042                 Shetland Islands   \n",
       "\n",
       "                                                     UPRNs  Distance to sea  \n",
       "0                                                      NaN         9.876610  \n",
       "1                                                      NaN        10.115100  \n",
       "2                                                      NaN        10.147600  \n",
       "3                                                      NaN         9.396830  \n",
       "4                                                      NaN        10.561600  \n",
       "...                                                    ...              ...  \n",
       "2667038  10015367960,10025034795,10025038253,1002525343...         0.514631  \n",
       "2667039  30100009614,30100009615,30100009616,3010000961...         0.511876  \n",
       "2667040  10025034796,30100003953,30100003954,3010000395...         0.284206  \n",
       "2667041  10025039964,30100010808,30100010809,3010001081...         0.458381  \n",
       "2667042                                                NaN         0.575034  \n",
       "\n",
       "[2667043 rows x 53 columns]"
      ]
     },
     "execution_count": 44,
     "metadata": {},
     "output_type": "execute_result"
    }
   ],
   "source": [
    "df = pd.read_csv(data_path)\n",
    "df"
   ]
  },
  {
   "cell_type": "code",
   "execution_count": 45,
   "metadata": {},
   "outputs": [
    {
     "data": {
      "text/html": [
       "<div>\n",
       "<style scoped>\n",
       "    .dataframe tbody tr th:only-of-type {\n",
       "        vertical-align: middle;\n",
       "    }\n",
       "\n",
       "    .dataframe tbody tr th {\n",
       "        vertical-align: top;\n",
       "    }\n",
       "\n",
       "    .dataframe thead th {\n",
       "        text-align: right;\n",
       "    }\n",
       "</style>\n",
       "<table border=\"1\" class=\"dataframe\">\n",
       "  <thead>\n",
       "    <tr style=\"text-align: right;\">\n",
       "      <th></th>\n",
       "      <th>Postcode</th>\n",
       "      <th>Postcode area</th>\n",
       "    </tr>\n",
       "  </thead>\n",
       "  <tbody>\n",
       "    <tr>\n",
       "      <th>0</th>\n",
       "      <td>AB1 0AA</td>\n",
       "      <td>AB</td>\n",
       "    </tr>\n",
       "    <tr>\n",
       "      <th>1</th>\n",
       "      <td>AB1 0AB</td>\n",
       "      <td>AB</td>\n",
       "    </tr>\n",
       "    <tr>\n",
       "      <th>2</th>\n",
       "      <td>AB1 0AD</td>\n",
       "      <td>AB</td>\n",
       "    </tr>\n",
       "    <tr>\n",
       "      <th>3</th>\n",
       "      <td>AB1 0AE</td>\n",
       "      <td>AB</td>\n",
       "    </tr>\n",
       "    <tr>\n",
       "      <th>4</th>\n",
       "      <td>AB1 0AF</td>\n",
       "      <td>AB</td>\n",
       "    </tr>\n",
       "    <tr>\n",
       "      <th>...</th>\n",
       "      <td>...</td>\n",
       "      <td>...</td>\n",
       "    </tr>\n",
       "    <tr>\n",
       "      <th>2667038</th>\n",
       "      <td>ZE3 9JW</td>\n",
       "      <td>ZE</td>\n",
       "    </tr>\n",
       "    <tr>\n",
       "      <th>2667039</th>\n",
       "      <td>ZE3 9JX</td>\n",
       "      <td>ZE</td>\n",
       "    </tr>\n",
       "    <tr>\n",
       "      <th>2667040</th>\n",
       "      <td>ZE3 9JY</td>\n",
       "      <td>ZE</td>\n",
       "    </tr>\n",
       "    <tr>\n",
       "      <th>2667041</th>\n",
       "      <td>ZE3 9JZ</td>\n",
       "      <td>ZE</td>\n",
       "    </tr>\n",
       "    <tr>\n",
       "      <th>2667042</th>\n",
       "      <td>ZE3 9XP</td>\n",
       "      <td>ZE</td>\n",
       "    </tr>\n",
       "  </tbody>\n",
       "</table>\n",
       "<p>2667043 rows × 2 columns</p>\n",
       "</div>"
      ],
      "text/plain": [
       "        Postcode Postcode area\n",
       "0        AB1 0AA            AB\n",
       "1        AB1 0AB            AB\n",
       "2        AB1 0AD            AB\n",
       "3        AB1 0AE            AB\n",
       "4        AB1 0AF            AB\n",
       "...          ...           ...\n",
       "2667038  ZE3 9JW            ZE\n",
       "2667039  ZE3 9JX            ZE\n",
       "2667040  ZE3 9JY            ZE\n",
       "2667041  ZE3 9JZ            ZE\n",
       "2667042  ZE3 9XP            ZE\n",
       "\n",
       "[2667043 rows x 2 columns]"
      ]
     },
     "execution_count": 45,
     "metadata": {},
     "output_type": "execute_result"
    }
   ],
   "source": [
    "# Selecting only usefull columns from postcode.csv\n",
    "df = df.loc[:,['Postcode','Postcode area']]\n",
    "df"
   ]
  },
  {
   "cell_type": "code",
   "execution_count": 46,
   "metadata": {},
   "outputs": [
    {
     "data": {
      "text/html": [
       "<div>\n",
       "<style scoped>\n",
       "    .dataframe tbody tr th:only-of-type {\n",
       "        vertical-align: middle;\n",
       "    }\n",
       "\n",
       "    .dataframe tbody tr th {\n",
       "        vertical-align: top;\n",
       "    }\n",
       "\n",
       "    .dataframe thead th {\n",
       "        text-align: right;\n",
       "    }\n",
       "</style>\n",
       "<table border=\"1\" class=\"dataframe\">\n",
       "  <thead>\n",
       "    <tr style=\"text-align: right;\">\n",
       "      <th></th>\n",
       "      <th>POSTCODE</th>\n",
       "      <th>Number of meters</th>\n",
       "      <th>Consumption (kWh)</th>\n",
       "      <th>Mean consumption (kWh)</th>\n",
       "      <th>Median consumption (kWh)</th>\n",
       "    </tr>\n",
       "  </thead>\n",
       "  <tbody>\n",
       "    <tr>\n",
       "      <th>0</th>\n",
       "      <td>AB10</td>\n",
       "      <td>197</td>\n",
       "      <td>692976.5</td>\n",
       "      <td>3517.647208</td>\n",
       "      <td>2754.50</td>\n",
       "    </tr>\n",
       "    <tr>\n",
       "      <th>1</th>\n",
       "      <td>AB10 1AU</td>\n",
       "      <td>23</td>\n",
       "      <td>71292.6</td>\n",
       "      <td>3099.678261</td>\n",
       "      <td>1735.70</td>\n",
       "    </tr>\n",
       "    <tr>\n",
       "      <th>2</th>\n",
       "      <td>AB10 1BA</td>\n",
       "      <td>17</td>\n",
       "      <td>50063.4</td>\n",
       "      <td>2944.905882</td>\n",
       "      <td>2518.40</td>\n",
       "    </tr>\n",
       "    <tr>\n",
       "      <th>3</th>\n",
       "      <td>AB10 1BB</td>\n",
       "      <td>5</td>\n",
       "      <td>12619.3</td>\n",
       "      <td>2523.860000</td>\n",
       "      <td>2820.80</td>\n",
       "    </tr>\n",
       "    <tr>\n",
       "      <th>4</th>\n",
       "      <td>AB10 1FG</td>\n",
       "      <td>24</td>\n",
       "      <td>56731.7</td>\n",
       "      <td>2363.820833</td>\n",
       "      <td>2087.20</td>\n",
       "    </tr>\n",
       "    <tr>\n",
       "      <th>...</th>\n",
       "      <td>...</td>\n",
       "      <td>...</td>\n",
       "      <td>...</td>\n",
       "      <td>...</td>\n",
       "      <td>...</td>\n",
       "    </tr>\n",
       "    <tr>\n",
       "      <th>499995</th>\n",
       "      <td>KA3 2JB</td>\n",
       "      <td>15</td>\n",
       "      <td>45012.1</td>\n",
       "      <td>3000.806667</td>\n",
       "      <td>3068.50</td>\n",
       "    </tr>\n",
       "    <tr>\n",
       "      <th>499996</th>\n",
       "      <td>KA3 2JD</td>\n",
       "      <td>46</td>\n",
       "      <td>148075.3</td>\n",
       "      <td>3219.028261</td>\n",
       "      <td>2892.40</td>\n",
       "    </tr>\n",
       "    <tr>\n",
       "      <th>499997</th>\n",
       "      <td>KA3 2JE</td>\n",
       "      <td>12</td>\n",
       "      <td>33062.9</td>\n",
       "      <td>2755.241667</td>\n",
       "      <td>2689.25</td>\n",
       "    </tr>\n",
       "    <tr>\n",
       "      <th>499998</th>\n",
       "      <td>KA3 2JF</td>\n",
       "      <td>15</td>\n",
       "      <td>59247.4</td>\n",
       "      <td>3949.826667</td>\n",
       "      <td>3371.50</td>\n",
       "    </tr>\n",
       "    <tr>\n",
       "      <th>499999</th>\n",
       "      <td>KA3 2JG</td>\n",
       "      <td>47</td>\n",
       "      <td>139831.9</td>\n",
       "      <td>2975.146809</td>\n",
       "      <td>2385.40</td>\n",
       "    </tr>\n",
       "  </tbody>\n",
       "</table>\n",
       "<p>500000 rows × 5 columns</p>\n",
       "</div>"
      ],
      "text/plain": [
       "        POSTCODE  Number of meters  Consumption (kWh)  Mean consumption (kWh)  \\\n",
       "0           AB10               197           692976.5             3517.647208   \n",
       "1       AB10 1AU                23            71292.6             3099.678261   \n",
       "2       AB10 1BA                17            50063.4             2944.905882   \n",
       "3       AB10 1BB                 5            12619.3             2523.860000   \n",
       "4       AB10 1FG                24            56731.7             2363.820833   \n",
       "...          ...               ...                ...                     ...   \n",
       "499995   KA3 2JB                15            45012.1             3000.806667   \n",
       "499996   KA3 2JD                46           148075.3             3219.028261   \n",
       "499997   KA3 2JE                12            33062.9             2755.241667   \n",
       "499998   KA3 2JF                15            59247.4             3949.826667   \n",
       "499999   KA3 2JG                47           139831.9             2975.146809   \n",
       "\n",
       "        Median consumption (kWh)  \n",
       "0                        2754.50  \n",
       "1                        1735.70  \n",
       "2                        2518.40  \n",
       "3                        2820.80  \n",
       "4                        2087.20  \n",
       "...                          ...  \n",
       "499995                   3068.50  \n",
       "499996                   2892.40  \n",
       "499997                   2689.25  \n",
       "499998                   3371.50  \n",
       "499999                   2385.40  \n",
       "\n",
       "[500000 rows x 5 columns]"
      ]
     },
     "execution_count": 46,
     "metadata": {},
     "output_type": "execute_result"
    }
   ],
   "source": [
    "df2 = pd.read_csv(sec_path)\n",
    "df2"
   ]
  },
  {
   "cell_type": "code",
   "execution_count": 47,
   "metadata": {},
   "outputs": [
    {
     "data": {
      "text/html": [
       "<div>\n",
       "<style scoped>\n",
       "    .dataframe tbody tr th:only-of-type {\n",
       "        vertical-align: middle;\n",
       "    }\n",
       "\n",
       "    .dataframe tbody tr th {\n",
       "        vertical-align: top;\n",
       "    }\n",
       "\n",
       "    .dataframe thead th {\n",
       "        text-align: right;\n",
       "    }\n",
       "</style>\n",
       "<table border=\"1\" class=\"dataframe\">\n",
       "  <thead>\n",
       "    <tr style=\"text-align: right;\">\n",
       "      <th></th>\n",
       "      <th>POSTCODE</th>\n",
       "      <th>Number of meters</th>\n",
       "      <th>Consumption (kWh)</th>\n",
       "      <th>Mean consumption (kWh)</th>\n",
       "      <th>Median consumption (kWh)</th>\n",
       "    </tr>\n",
       "  </thead>\n",
       "  <tbody>\n",
       "    <tr>\n",
       "      <th>0</th>\n",
       "      <td>KA3 2JH</td>\n",
       "      <td>15</td>\n",
       "      <td>49218.0</td>\n",
       "      <td>3281.200000</td>\n",
       "      <td>3367.50</td>\n",
       "    </tr>\n",
       "    <tr>\n",
       "      <th>1</th>\n",
       "      <td>KA3 2JJ</td>\n",
       "      <td>9</td>\n",
       "      <td>34452.8</td>\n",
       "      <td>3828.088889</td>\n",
       "      <td>3146.90</td>\n",
       "    </tr>\n",
       "    <tr>\n",
       "      <th>2</th>\n",
       "      <td>KA3 2JL</td>\n",
       "      <td>15</td>\n",
       "      <td>50008.8</td>\n",
       "      <td>3333.920000</td>\n",
       "      <td>2834.10</td>\n",
       "    </tr>\n",
       "    <tr>\n",
       "      <th>3</th>\n",
       "      <td>KA3 2JN</td>\n",
       "      <td>8</td>\n",
       "      <td>23233.8</td>\n",
       "      <td>2904.225000</td>\n",
       "      <td>3031.15</td>\n",
       "    </tr>\n",
       "    <tr>\n",
       "      <th>4</th>\n",
       "      <td>KA3 2JP</td>\n",
       "      <td>22</td>\n",
       "      <td>68306.2</td>\n",
       "      <td>3104.827273</td>\n",
       "      <td>2964.75</td>\n",
       "    </tr>\n",
       "    <tr>\n",
       "      <th>...</th>\n",
       "      <td>...</td>\n",
       "      <td>...</td>\n",
       "      <td>...</td>\n",
       "      <td>...</td>\n",
       "      <td>...</td>\n",
       "    </tr>\n",
       "    <tr>\n",
       "      <th>690348</th>\n",
       "      <td>ZE3 9JU</td>\n",
       "      <td>16</td>\n",
       "      <td>46100.0</td>\n",
       "      <td>2881.250000</td>\n",
       "      <td>2694.25</td>\n",
       "    </tr>\n",
       "    <tr>\n",
       "      <th>690349</th>\n",
       "      <td>ZE3 9JW</td>\n",
       "      <td>24</td>\n",
       "      <td>153124.7</td>\n",
       "      <td>6380.195833</td>\n",
       "      <td>5010.25</td>\n",
       "    </tr>\n",
       "    <tr>\n",
       "      <th>690350</th>\n",
       "      <td>ZE3 9JX</td>\n",
       "      <td>12</td>\n",
       "      <td>35319.2</td>\n",
       "      <td>2943.266667</td>\n",
       "      <td>2085.20</td>\n",
       "    </tr>\n",
       "    <tr>\n",
       "      <th>690351</th>\n",
       "      <td>ZE3 9JY</td>\n",
       "      <td>6</td>\n",
       "      <td>22051.1</td>\n",
       "      <td>3675.183333</td>\n",
       "      <td>3412.75</td>\n",
       "    </tr>\n",
       "    <tr>\n",
       "      <th>690352</th>\n",
       "      <td>ZE3 9JZ</td>\n",
       "      <td>22</td>\n",
       "      <td>81955.5</td>\n",
       "      <td>3725.250000</td>\n",
       "      <td>2972.30</td>\n",
       "    </tr>\n",
       "  </tbody>\n",
       "</table>\n",
       "<p>690353 rows × 5 columns</p>\n",
       "</div>"
      ],
      "text/plain": [
       "       POSTCODE  Number of meters  Consumption (kWh)  Mean consumption (kWh)  \\\n",
       "0       KA3 2JH                15            49218.0             3281.200000   \n",
       "1       KA3 2JJ                 9            34452.8             3828.088889   \n",
       "2       KA3 2JL                15            50008.8             3333.920000   \n",
       "3       KA3 2JN                 8            23233.8             2904.225000   \n",
       "4       KA3 2JP                22            68306.2             3104.827273   \n",
       "...         ...               ...                ...                     ...   \n",
       "690348  ZE3 9JU                16            46100.0             2881.250000   \n",
       "690349  ZE3 9JW                24           153124.7             6380.195833   \n",
       "690350  ZE3 9JX                12            35319.2             2943.266667   \n",
       "690351  ZE3 9JY                 6            22051.1             3675.183333   \n",
       "690352  ZE3 9JZ                22            81955.5             3725.250000   \n",
       "\n",
       "        Median consumption (kWh)  \n",
       "0                        3367.50  \n",
       "1                        3146.90  \n",
       "2                        2834.10  \n",
       "3                        3031.15  \n",
       "4                        2964.75  \n",
       "...                          ...  \n",
       "690348                   2694.25  \n",
       "690349                   5010.25  \n",
       "690350                   2085.20  \n",
       "690351                   3412.75  \n",
       "690352                   2972.30  \n",
       "\n",
       "[690353 rows x 5 columns]"
      ]
     },
     "execution_count": 47,
     "metadata": {},
     "output_type": "execute_result"
    }
   ],
   "source": [
    "df3 = pd.read_csv(last_path)\n",
    "df3"
   ]
  },
  {
   "cell_type": "code",
   "execution_count": 48,
   "metadata": {},
   "outputs": [
    {
     "data": {
      "text/html": [
       "<div>\n",
       "<style scoped>\n",
       "    .dataframe tbody tr th:only-of-type {\n",
       "        vertical-align: middle;\n",
       "    }\n",
       "\n",
       "    .dataframe tbody tr th {\n",
       "        vertical-align: top;\n",
       "    }\n",
       "\n",
       "    .dataframe thead th {\n",
       "        text-align: right;\n",
       "    }\n",
       "</style>\n",
       "<table border=\"1\" class=\"dataframe\">\n",
       "  <thead>\n",
       "    <tr style=\"text-align: right;\">\n",
       "      <th></th>\n",
       "      <th>POSTCODE</th>\n",
       "      <th>Number of meters</th>\n",
       "      <th>Consumption (kWh)</th>\n",
       "      <th>Mean consumption (kWh)</th>\n",
       "      <th>Median consumption (kWh)</th>\n",
       "    </tr>\n",
       "  </thead>\n",
       "  <tbody>\n",
       "    <tr>\n",
       "      <th>0</th>\n",
       "      <td>AB10</td>\n",
       "      <td>197</td>\n",
       "      <td>692976.5</td>\n",
       "      <td>3517.647208</td>\n",
       "      <td>2754.50</td>\n",
       "    </tr>\n",
       "    <tr>\n",
       "      <th>1</th>\n",
       "      <td>AB10 1AU</td>\n",
       "      <td>23</td>\n",
       "      <td>71292.6</td>\n",
       "      <td>3099.678261</td>\n",
       "      <td>1735.70</td>\n",
       "    </tr>\n",
       "    <tr>\n",
       "      <th>2</th>\n",
       "      <td>AB10 1BA</td>\n",
       "      <td>17</td>\n",
       "      <td>50063.4</td>\n",
       "      <td>2944.905882</td>\n",
       "      <td>2518.40</td>\n",
       "    </tr>\n",
       "    <tr>\n",
       "      <th>3</th>\n",
       "      <td>AB10 1BB</td>\n",
       "      <td>5</td>\n",
       "      <td>12619.3</td>\n",
       "      <td>2523.860000</td>\n",
       "      <td>2820.80</td>\n",
       "    </tr>\n",
       "    <tr>\n",
       "      <th>4</th>\n",
       "      <td>AB10 1FG</td>\n",
       "      <td>24</td>\n",
       "      <td>56731.7</td>\n",
       "      <td>2363.820833</td>\n",
       "      <td>2087.20</td>\n",
       "    </tr>\n",
       "    <tr>\n",
       "      <th>...</th>\n",
       "      <td>...</td>\n",
       "      <td>...</td>\n",
       "      <td>...</td>\n",
       "      <td>...</td>\n",
       "      <td>...</td>\n",
       "    </tr>\n",
       "    <tr>\n",
       "      <th>690348</th>\n",
       "      <td>ZE3 9JU</td>\n",
       "      <td>16</td>\n",
       "      <td>46100.0</td>\n",
       "      <td>2881.250000</td>\n",
       "      <td>2694.25</td>\n",
       "    </tr>\n",
       "    <tr>\n",
       "      <th>690349</th>\n",
       "      <td>ZE3 9JW</td>\n",
       "      <td>24</td>\n",
       "      <td>153124.7</td>\n",
       "      <td>6380.195833</td>\n",
       "      <td>5010.25</td>\n",
       "    </tr>\n",
       "    <tr>\n",
       "      <th>690350</th>\n",
       "      <td>ZE3 9JX</td>\n",
       "      <td>12</td>\n",
       "      <td>35319.2</td>\n",
       "      <td>2943.266667</td>\n",
       "      <td>2085.20</td>\n",
       "    </tr>\n",
       "    <tr>\n",
       "      <th>690351</th>\n",
       "      <td>ZE3 9JY</td>\n",
       "      <td>6</td>\n",
       "      <td>22051.1</td>\n",
       "      <td>3675.183333</td>\n",
       "      <td>3412.75</td>\n",
       "    </tr>\n",
       "    <tr>\n",
       "      <th>690352</th>\n",
       "      <td>ZE3 9JZ</td>\n",
       "      <td>22</td>\n",
       "      <td>81955.5</td>\n",
       "      <td>3725.250000</td>\n",
       "      <td>2972.30</td>\n",
       "    </tr>\n",
       "  </tbody>\n",
       "</table>\n",
       "<p>1190353 rows × 5 columns</p>\n",
       "</div>"
      ],
      "text/plain": [
       "        POSTCODE  Number of meters  Consumption (kWh)  Mean consumption (kWh)  \\\n",
       "0           AB10               197           692976.5             3517.647208   \n",
       "1       AB10 1AU                23            71292.6             3099.678261   \n",
       "2       AB10 1BA                17            50063.4             2944.905882   \n",
       "3       AB10 1BB                 5            12619.3             2523.860000   \n",
       "4       AB10 1FG                24            56731.7             2363.820833   \n",
       "...          ...               ...                ...                     ...   \n",
       "690348   ZE3 9JU                16            46100.0             2881.250000   \n",
       "690349   ZE3 9JW                24           153124.7             6380.195833   \n",
       "690350   ZE3 9JX                12            35319.2             2943.266667   \n",
       "690351   ZE3 9JY                 6            22051.1             3675.183333   \n",
       "690352   ZE3 9JZ                22            81955.5             3725.250000   \n",
       "\n",
       "        Median consumption (kWh)  \n",
       "0                        2754.50  \n",
       "1                        1735.70  \n",
       "2                        2518.40  \n",
       "3                        2820.80  \n",
       "4                        2087.20  \n",
       "...                          ...  \n",
       "690348                   2694.25  \n",
       "690349                   5010.25  \n",
       "690350                   2085.20  \n",
       "690351                   3412.75  \n",
       "690352                   2972.30  \n",
       "\n",
       "[1190353 rows x 5 columns]"
      ]
     },
     "execution_count": 48,
     "metadata": {},
     "output_type": "execute_result"
    }
   ],
   "source": [
    "gov_uk_UK_elec = pd.concat([df2,df3])\n",
    "gov_uk_UK_elec"
   ]
  },
  {
   "cell_type": "code",
   "execution_count": 49,
   "metadata": {},
   "outputs": [
    {
     "name": "stdout",
     "output_type": "stream",
     "text": [
      "<class 'pandas.core.frame.DataFrame'>\n",
      "Int64Index: 1190353 entries, 0 to 690352\n",
      "Data columns (total 5 columns):\n",
      " #   Column                    Non-Null Count    Dtype  \n",
      "---  ------                    --------------    -----  \n",
      " 0   POSTCODE                  1190353 non-null  object \n",
      " 1   Number of meters          1190353 non-null  int64  \n",
      " 2   Consumption (kWh)         1190353 non-null  float64\n",
      " 3   Mean consumption (kWh)    1190353 non-null  float64\n",
      " 4   Median consumption (kWh)  1190353 non-null  float64\n",
      "dtypes: float64(3), int64(1), object(1)\n",
      "memory usage: 54.5+ MB\n"
     ]
    }
   ],
   "source": [
    "gov_uk_UK_elec.info()"
   ]
  },
  {
   "cell_type": "code",
   "execution_count": 50,
   "metadata": {},
   "outputs": [],
   "source": [
    "gov_uk_UK_elec.to_csv('UKelectricty_AtoZ.csv')"
   ]
  },
  {
   "cell_type": "markdown",
   "metadata": {},
   "source": [
    "## Renaming"
   ]
  },
  {
   "cell_type": "code",
   "execution_count": 51,
   "metadata": {},
   "outputs": [
    {
     "data": {
      "text/html": [
       "<div>\n",
       "<style scoped>\n",
       "    .dataframe tbody tr th:only-of-type {\n",
       "        vertical-align: middle;\n",
       "    }\n",
       "\n",
       "    .dataframe tbody tr th {\n",
       "        vertical-align: top;\n",
       "    }\n",
       "\n",
       "    .dataframe thead th {\n",
       "        text-align: right;\n",
       "    }\n",
       "</style>\n",
       "<table border=\"1\" class=\"dataframe\">\n",
       "  <thead>\n",
       "    <tr style=\"text-align: right;\">\n",
       "      <th></th>\n",
       "      <th>Postcode</th>\n",
       "      <th>Areacode</th>\n",
       "    </tr>\n",
       "  </thead>\n",
       "  <tbody>\n",
       "    <tr>\n",
       "      <th>0</th>\n",
       "      <td>AB1 0AA</td>\n",
       "      <td>AB</td>\n",
       "    </tr>\n",
       "    <tr>\n",
       "      <th>1</th>\n",
       "      <td>AB1 0AB</td>\n",
       "      <td>AB</td>\n",
       "    </tr>\n",
       "    <tr>\n",
       "      <th>2</th>\n",
       "      <td>AB1 0AD</td>\n",
       "      <td>AB</td>\n",
       "    </tr>\n",
       "    <tr>\n",
       "      <th>3</th>\n",
       "      <td>AB1 0AE</td>\n",
       "      <td>AB</td>\n",
       "    </tr>\n",
       "    <tr>\n",
       "      <th>4</th>\n",
       "      <td>AB1 0AF</td>\n",
       "      <td>AB</td>\n",
       "    </tr>\n",
       "    <tr>\n",
       "      <th>...</th>\n",
       "      <td>...</td>\n",
       "      <td>...</td>\n",
       "    </tr>\n",
       "    <tr>\n",
       "      <th>2667038</th>\n",
       "      <td>ZE3 9JW</td>\n",
       "      <td>ZE</td>\n",
       "    </tr>\n",
       "    <tr>\n",
       "      <th>2667039</th>\n",
       "      <td>ZE3 9JX</td>\n",
       "      <td>ZE</td>\n",
       "    </tr>\n",
       "    <tr>\n",
       "      <th>2667040</th>\n",
       "      <td>ZE3 9JY</td>\n",
       "      <td>ZE</td>\n",
       "    </tr>\n",
       "    <tr>\n",
       "      <th>2667041</th>\n",
       "      <td>ZE3 9JZ</td>\n",
       "      <td>ZE</td>\n",
       "    </tr>\n",
       "    <tr>\n",
       "      <th>2667042</th>\n",
       "      <td>ZE3 9XP</td>\n",
       "      <td>ZE</td>\n",
       "    </tr>\n",
       "  </tbody>\n",
       "</table>\n",
       "<p>2667043 rows × 2 columns</p>\n",
       "</div>"
      ],
      "text/plain": [
       "        Postcode Areacode\n",
       "0        AB1 0AA       AB\n",
       "1        AB1 0AB       AB\n",
       "2        AB1 0AD       AB\n",
       "3        AB1 0AE       AB\n",
       "4        AB1 0AF       AB\n",
       "...          ...      ...\n",
       "2667038  ZE3 9JW       ZE\n",
       "2667039  ZE3 9JX       ZE\n",
       "2667040  ZE3 9JY       ZE\n",
       "2667041  ZE3 9JZ       ZE\n",
       "2667042  ZE3 9XP       ZE\n",
       "\n",
       "[2667043 rows x 2 columns]"
      ]
     },
     "execution_count": 51,
     "metadata": {},
     "output_type": "execute_result"
    }
   ],
   "source": [
    "# Renaming only usefull columns\n",
    "cols = ['Postcode', 'Areacode']\n",
    "df.columns = cols\n",
    "df"
   ]
  },
  {
   "cell_type": "code",
   "execution_count": 52,
   "metadata": {},
   "outputs": [
    {
     "data": {
      "text/html": [
       "<div>\n",
       "<style scoped>\n",
       "    .dataframe tbody tr th:only-of-type {\n",
       "        vertical-align: middle;\n",
       "    }\n",
       "\n",
       "    .dataframe tbody tr th {\n",
       "        vertical-align: top;\n",
       "    }\n",
       "\n",
       "    .dataframe thead th {\n",
       "        text-align: right;\n",
       "    }\n",
       "</style>\n",
       "<table border=\"1\" class=\"dataframe\">\n",
       "  <thead>\n",
       "    <tr style=\"text-align: right;\">\n",
       "      <th></th>\n",
       "      <th>Postcode</th>\n",
       "      <th>Meters</th>\n",
       "      <th>Consumption</th>\n",
       "      <th>Mean_consumption</th>\n",
       "      <th>Median_consumption</th>\n",
       "    </tr>\n",
       "  </thead>\n",
       "  <tbody>\n",
       "    <tr>\n",
       "      <th>0</th>\n",
       "      <td>AB10</td>\n",
       "      <td>197</td>\n",
       "      <td>692976.5</td>\n",
       "      <td>3517.647208</td>\n",
       "      <td>2754.50</td>\n",
       "    </tr>\n",
       "    <tr>\n",
       "      <th>1</th>\n",
       "      <td>AB10 1AU</td>\n",
       "      <td>23</td>\n",
       "      <td>71292.6</td>\n",
       "      <td>3099.678261</td>\n",
       "      <td>1735.70</td>\n",
       "    </tr>\n",
       "    <tr>\n",
       "      <th>2</th>\n",
       "      <td>AB10 1BA</td>\n",
       "      <td>17</td>\n",
       "      <td>50063.4</td>\n",
       "      <td>2944.905882</td>\n",
       "      <td>2518.40</td>\n",
       "    </tr>\n",
       "    <tr>\n",
       "      <th>3</th>\n",
       "      <td>AB10 1BB</td>\n",
       "      <td>5</td>\n",
       "      <td>12619.3</td>\n",
       "      <td>2523.860000</td>\n",
       "      <td>2820.80</td>\n",
       "    </tr>\n",
       "    <tr>\n",
       "      <th>4</th>\n",
       "      <td>AB10 1FG</td>\n",
       "      <td>24</td>\n",
       "      <td>56731.7</td>\n",
       "      <td>2363.820833</td>\n",
       "      <td>2087.20</td>\n",
       "    </tr>\n",
       "    <tr>\n",
       "      <th>...</th>\n",
       "      <td>...</td>\n",
       "      <td>...</td>\n",
       "      <td>...</td>\n",
       "      <td>...</td>\n",
       "      <td>...</td>\n",
       "    </tr>\n",
       "    <tr>\n",
       "      <th>690348</th>\n",
       "      <td>ZE3 9JU</td>\n",
       "      <td>16</td>\n",
       "      <td>46100.0</td>\n",
       "      <td>2881.250000</td>\n",
       "      <td>2694.25</td>\n",
       "    </tr>\n",
       "    <tr>\n",
       "      <th>690349</th>\n",
       "      <td>ZE3 9JW</td>\n",
       "      <td>24</td>\n",
       "      <td>153124.7</td>\n",
       "      <td>6380.195833</td>\n",
       "      <td>5010.25</td>\n",
       "    </tr>\n",
       "    <tr>\n",
       "      <th>690350</th>\n",
       "      <td>ZE3 9JX</td>\n",
       "      <td>12</td>\n",
       "      <td>35319.2</td>\n",
       "      <td>2943.266667</td>\n",
       "      <td>2085.20</td>\n",
       "    </tr>\n",
       "    <tr>\n",
       "      <th>690351</th>\n",
       "      <td>ZE3 9JY</td>\n",
       "      <td>6</td>\n",
       "      <td>22051.1</td>\n",
       "      <td>3675.183333</td>\n",
       "      <td>3412.75</td>\n",
       "    </tr>\n",
       "    <tr>\n",
       "      <th>690352</th>\n",
       "      <td>ZE3 9JZ</td>\n",
       "      <td>22</td>\n",
       "      <td>81955.5</td>\n",
       "      <td>3725.250000</td>\n",
       "      <td>2972.30</td>\n",
       "    </tr>\n",
       "  </tbody>\n",
       "</table>\n",
       "<p>1190353 rows × 5 columns</p>\n",
       "</div>"
      ],
      "text/plain": [
       "        Postcode  Meters  Consumption  Mean_consumption  Median_consumption\n",
       "0           AB10     197     692976.5       3517.647208             2754.50\n",
       "1       AB10 1AU      23      71292.6       3099.678261             1735.70\n",
       "2       AB10 1BA      17      50063.4       2944.905882             2518.40\n",
       "3       AB10 1BB       5      12619.3       2523.860000             2820.80\n",
       "4       AB10 1FG      24      56731.7       2363.820833             2087.20\n",
       "...          ...     ...          ...               ...                 ...\n",
       "690348   ZE3 9JU      16      46100.0       2881.250000             2694.25\n",
       "690349   ZE3 9JW      24     153124.7       6380.195833             5010.25\n",
       "690350   ZE3 9JX      12      35319.2       2943.266667             2085.20\n",
       "690351   ZE3 9JY       6      22051.1       3675.183333             3412.75\n",
       "690352   ZE3 9JZ      22      81955.5       3725.250000             2972.30\n",
       "\n",
       "[1190353 rows x 5 columns]"
      ]
     },
     "execution_count": 52,
     "metadata": {},
     "output_type": "execute_result"
    }
   ],
   "source": [
    "# Renaming only usefull columns\n",
    "cols = ['Postcode', 'Meters', 'Consumption', 'Mean_consumption', 'Median_consumption']\n",
    "gov_uk_UK_elec.columns = cols\n",
    "gov_uk_UK_elec"
   ]
  },
  {
   "cell_type": "markdown",
   "metadata": {},
   "source": [
    "Merging DataFrames together"
   ]
  },
  {
   "cell_type": "code",
   "execution_count": 53,
   "metadata": {},
   "outputs": [
    {
     "data": {
      "text/html": [
       "<div>\n",
       "<style scoped>\n",
       "    .dataframe tbody tr th:only-of-type {\n",
       "        vertical-align: middle;\n",
       "    }\n",
       "\n",
       "    .dataframe tbody tr th {\n",
       "        vertical-align: top;\n",
       "    }\n",
       "\n",
       "    .dataframe thead th {\n",
       "        text-align: right;\n",
       "    }\n",
       "</style>\n",
       "<table border=\"1\" class=\"dataframe\">\n",
       "  <thead>\n",
       "    <tr style=\"text-align: right;\">\n",
       "      <th></th>\n",
       "      <th>Meters</th>\n",
       "      <th>Consumption</th>\n",
       "      <th>Mean_consumption</th>\n",
       "      <th>Median_consumption</th>\n",
       "      <th>Areacode</th>\n",
       "    </tr>\n",
       "    <tr>\n",
       "      <th>Postcode</th>\n",
       "      <th></th>\n",
       "      <th></th>\n",
       "      <th></th>\n",
       "      <th></th>\n",
       "      <th></th>\n",
       "    </tr>\n",
       "  </thead>\n",
       "  <tbody>\n",
       "    <tr>\n",
       "      <th>AB10</th>\n",
       "      <td>197</td>\n",
       "      <td>692976.5</td>\n",
       "      <td>3517.647208</td>\n",
       "      <td>2754.50</td>\n",
       "      <td>NaN</td>\n",
       "    </tr>\n",
       "    <tr>\n",
       "      <th>AB10 1AU</th>\n",
       "      <td>23</td>\n",
       "      <td>71292.6</td>\n",
       "      <td>3099.678261</td>\n",
       "      <td>1735.70</td>\n",
       "      <td>AB</td>\n",
       "    </tr>\n",
       "    <tr>\n",
       "      <th>AB10 1BA</th>\n",
       "      <td>17</td>\n",
       "      <td>50063.4</td>\n",
       "      <td>2944.905882</td>\n",
       "      <td>2518.40</td>\n",
       "      <td>AB</td>\n",
       "    </tr>\n",
       "    <tr>\n",
       "      <th>AB10 1BB</th>\n",
       "      <td>5</td>\n",
       "      <td>12619.3</td>\n",
       "      <td>2523.860000</td>\n",
       "      <td>2820.80</td>\n",
       "      <td>AB</td>\n",
       "    </tr>\n",
       "    <tr>\n",
       "      <th>AB10 1FG</th>\n",
       "      <td>24</td>\n",
       "      <td>56731.7</td>\n",
       "      <td>2363.820833</td>\n",
       "      <td>2087.20</td>\n",
       "      <td>AB</td>\n",
       "    </tr>\n",
       "    <tr>\n",
       "      <th>...</th>\n",
       "      <td>...</td>\n",
       "      <td>...</td>\n",
       "      <td>...</td>\n",
       "      <td>...</td>\n",
       "      <td>...</td>\n",
       "    </tr>\n",
       "    <tr>\n",
       "      <th>ZE3 9JU</th>\n",
       "      <td>16</td>\n",
       "      <td>46100.0</td>\n",
       "      <td>2881.250000</td>\n",
       "      <td>2694.25</td>\n",
       "      <td>ZE</td>\n",
       "    </tr>\n",
       "    <tr>\n",
       "      <th>ZE3 9JW</th>\n",
       "      <td>24</td>\n",
       "      <td>153124.7</td>\n",
       "      <td>6380.195833</td>\n",
       "      <td>5010.25</td>\n",
       "      <td>ZE</td>\n",
       "    </tr>\n",
       "    <tr>\n",
       "      <th>ZE3 9JX</th>\n",
       "      <td>12</td>\n",
       "      <td>35319.2</td>\n",
       "      <td>2943.266667</td>\n",
       "      <td>2085.20</td>\n",
       "      <td>ZE</td>\n",
       "    </tr>\n",
       "    <tr>\n",
       "      <th>ZE3 9JY</th>\n",
       "      <td>6</td>\n",
       "      <td>22051.1</td>\n",
       "      <td>3675.183333</td>\n",
       "      <td>3412.75</td>\n",
       "      <td>ZE</td>\n",
       "    </tr>\n",
       "    <tr>\n",
       "      <th>ZE3 9JZ</th>\n",
       "      <td>22</td>\n",
       "      <td>81955.5</td>\n",
       "      <td>3725.250000</td>\n",
       "      <td>2972.30</td>\n",
       "      <td>ZE</td>\n",
       "    </tr>\n",
       "  </tbody>\n",
       "</table>\n",
       "<p>1190353 rows × 5 columns</p>\n",
       "</div>"
      ],
      "text/plain": [
       "          Meters  Consumption  Mean_consumption  Median_consumption Areacode\n",
       "Postcode                                                                    \n",
       "AB10         197     692976.5       3517.647208             2754.50      NaN\n",
       "AB10 1AU      23      71292.6       3099.678261             1735.70       AB\n",
       "AB10 1BA      17      50063.4       2944.905882             2518.40       AB\n",
       "AB10 1BB       5      12619.3       2523.860000             2820.80       AB\n",
       "AB10 1FG      24      56731.7       2363.820833             2087.20       AB\n",
       "...          ...          ...               ...                 ...      ...\n",
       "ZE3 9JU       16      46100.0       2881.250000             2694.25       ZE\n",
       "ZE3 9JW       24     153124.7       6380.195833             5010.25       ZE\n",
       "ZE3 9JX       12      35319.2       2943.266667             2085.20       ZE\n",
       "ZE3 9JY        6      22051.1       3675.183333             3412.75       ZE\n",
       "ZE3 9JZ       22      81955.5       3725.250000             2972.30       ZE\n",
       "\n",
       "[1190353 rows x 5 columns]"
      ]
     },
     "execution_count": 53,
     "metadata": {},
     "output_type": "execute_result"
    }
   ],
   "source": [
    "# Merging on postcode to form 1 DataFrame\n",
    "merged = gov_uk_UK_elec.set_index('Postcode').join(df.set_index('Postcode'))\n",
    "merged"
   ]
  },
  {
   "cell_type": "code",
   "execution_count": 54,
   "metadata": {},
   "outputs": [
    {
     "data": {
      "text/html": [
       "<div>\n",
       "<style scoped>\n",
       "    .dataframe tbody tr th:only-of-type {\n",
       "        vertical-align: middle;\n",
       "    }\n",
       "\n",
       "    .dataframe tbody tr th {\n",
       "        vertical-align: top;\n",
       "    }\n",
       "\n",
       "    .dataframe thead th {\n",
       "        text-align: right;\n",
       "    }\n",
       "</style>\n",
       "<table border=\"1\" class=\"dataframe\">\n",
       "  <thead>\n",
       "    <tr style=\"text-align: right;\">\n",
       "      <th></th>\n",
       "      <th>Postcode</th>\n",
       "      <th>Meters</th>\n",
       "      <th>Consumption</th>\n",
       "      <th>Mean_consumption</th>\n",
       "      <th>Median_consumption</th>\n",
       "      <th>Areacode</th>\n",
       "    </tr>\n",
       "  </thead>\n",
       "  <tbody>\n",
       "    <tr>\n",
       "      <th>0</th>\n",
       "      <td>AB10</td>\n",
       "      <td>197</td>\n",
       "      <td>692976.5</td>\n",
       "      <td>3517.647208</td>\n",
       "      <td>2754.50</td>\n",
       "      <td>NaN</td>\n",
       "    </tr>\n",
       "    <tr>\n",
       "      <th>1</th>\n",
       "      <td>AB10 1AU</td>\n",
       "      <td>23</td>\n",
       "      <td>71292.6</td>\n",
       "      <td>3099.678261</td>\n",
       "      <td>1735.70</td>\n",
       "      <td>AB</td>\n",
       "    </tr>\n",
       "    <tr>\n",
       "      <th>2</th>\n",
       "      <td>AB10 1BA</td>\n",
       "      <td>17</td>\n",
       "      <td>50063.4</td>\n",
       "      <td>2944.905882</td>\n",
       "      <td>2518.40</td>\n",
       "      <td>AB</td>\n",
       "    </tr>\n",
       "    <tr>\n",
       "      <th>3</th>\n",
       "      <td>AB10 1BB</td>\n",
       "      <td>5</td>\n",
       "      <td>12619.3</td>\n",
       "      <td>2523.860000</td>\n",
       "      <td>2820.80</td>\n",
       "      <td>AB</td>\n",
       "    </tr>\n",
       "    <tr>\n",
       "      <th>4</th>\n",
       "      <td>AB10 1FG</td>\n",
       "      <td>24</td>\n",
       "      <td>56731.7</td>\n",
       "      <td>2363.820833</td>\n",
       "      <td>2087.20</td>\n",
       "      <td>AB</td>\n",
       "    </tr>\n",
       "    <tr>\n",
       "      <th>...</th>\n",
       "      <td>...</td>\n",
       "      <td>...</td>\n",
       "      <td>...</td>\n",
       "      <td>...</td>\n",
       "      <td>...</td>\n",
       "      <td>...</td>\n",
       "    </tr>\n",
       "    <tr>\n",
       "      <th>1190348</th>\n",
       "      <td>ZE3 9JU</td>\n",
       "      <td>16</td>\n",
       "      <td>46100.0</td>\n",
       "      <td>2881.250000</td>\n",
       "      <td>2694.25</td>\n",
       "      <td>ZE</td>\n",
       "    </tr>\n",
       "    <tr>\n",
       "      <th>1190349</th>\n",
       "      <td>ZE3 9JW</td>\n",
       "      <td>24</td>\n",
       "      <td>153124.7</td>\n",
       "      <td>6380.195833</td>\n",
       "      <td>5010.25</td>\n",
       "      <td>ZE</td>\n",
       "    </tr>\n",
       "    <tr>\n",
       "      <th>1190350</th>\n",
       "      <td>ZE3 9JX</td>\n",
       "      <td>12</td>\n",
       "      <td>35319.2</td>\n",
       "      <td>2943.266667</td>\n",
       "      <td>2085.20</td>\n",
       "      <td>ZE</td>\n",
       "    </tr>\n",
       "    <tr>\n",
       "      <th>1190351</th>\n",
       "      <td>ZE3 9JY</td>\n",
       "      <td>6</td>\n",
       "      <td>22051.1</td>\n",
       "      <td>3675.183333</td>\n",
       "      <td>3412.75</td>\n",
       "      <td>ZE</td>\n",
       "    </tr>\n",
       "    <tr>\n",
       "      <th>1190352</th>\n",
       "      <td>ZE3 9JZ</td>\n",
       "      <td>22</td>\n",
       "      <td>81955.5</td>\n",
       "      <td>3725.250000</td>\n",
       "      <td>2972.30</td>\n",
       "      <td>ZE</td>\n",
       "    </tr>\n",
       "  </tbody>\n",
       "</table>\n",
       "<p>1190353 rows × 6 columns</p>\n",
       "</div>"
      ],
      "text/plain": [
       "         Postcode  Meters  Consumption  Mean_consumption  Median_consumption  \\\n",
       "0            AB10     197     692976.5       3517.647208             2754.50   \n",
       "1        AB10 1AU      23      71292.6       3099.678261             1735.70   \n",
       "2        AB10 1BA      17      50063.4       2944.905882             2518.40   \n",
       "3        AB10 1BB       5      12619.3       2523.860000             2820.80   \n",
       "4        AB10 1FG      24      56731.7       2363.820833             2087.20   \n",
       "...           ...     ...          ...               ...                 ...   \n",
       "1190348   ZE3 9JU      16      46100.0       2881.250000             2694.25   \n",
       "1190349   ZE3 9JW      24     153124.7       6380.195833             5010.25   \n",
       "1190350   ZE3 9JX      12      35319.2       2943.266667             2085.20   \n",
       "1190351   ZE3 9JY       6      22051.1       3675.183333             3412.75   \n",
       "1190352   ZE3 9JZ      22      81955.5       3725.250000             2972.30   \n",
       "\n",
       "        Areacode  \n",
       "0            NaN  \n",
       "1             AB  \n",
       "2             AB  \n",
       "3             AB  \n",
       "4             AB  \n",
       "...          ...  \n",
       "1190348       ZE  \n",
       "1190349       ZE  \n",
       "1190350       ZE  \n",
       "1190351       ZE  \n",
       "1190352       ZE  \n",
       "\n",
       "[1190353 rows x 6 columns]"
      ]
     },
     "execution_count": 54,
     "metadata": {},
     "output_type": "execute_result"
    }
   ],
   "source": [
    "# Resetting index\n",
    "merged = merged.reset_index()\n",
    "merged"
   ]
  },
  {
   "cell_type": "code",
   "execution_count": 55,
   "metadata": {},
   "outputs": [
    {
     "data": {
      "text/html": [
       "<div>\n",
       "<style scoped>\n",
       "    .dataframe tbody tr th:only-of-type {\n",
       "        vertical-align: middle;\n",
       "    }\n",
       "\n",
       "    .dataframe tbody tr th {\n",
       "        vertical-align: top;\n",
       "    }\n",
       "\n",
       "    .dataframe thead th {\n",
       "        text-align: right;\n",
       "    }\n",
       "</style>\n",
       "<table border=\"1\" class=\"dataframe\">\n",
       "  <thead>\n",
       "    <tr style=\"text-align: right;\">\n",
       "      <th></th>\n",
       "      <th>Meters</th>\n",
       "      <th>Consumption</th>\n",
       "      <th>Mean_consumption</th>\n",
       "      <th>Median_consumption</th>\n",
       "      <th>Areacode</th>\n",
       "      <th>geometry</th>\n",
       "    </tr>\n",
       "    <tr>\n",
       "      <th>Postcode</th>\n",
       "      <th></th>\n",
       "      <th></th>\n",
       "      <th></th>\n",
       "      <th></th>\n",
       "      <th></th>\n",
       "      <th></th>\n",
       "    </tr>\n",
       "  </thead>\n",
       "  <tbody>\n",
       "    <tr>\n",
       "      <th>AB10</th>\n",
       "      <td>197</td>\n",
       "      <td>692976.5</td>\n",
       "      <td>3517.647208</td>\n",
       "      <td>2754.50</td>\n",
       "      <td>NaN</td>\n",
       "      <td>None</td>\n",
       "    </tr>\n",
       "    <tr>\n",
       "      <th>AB10 1AU</th>\n",
       "      <td>23</td>\n",
       "      <td>71292.6</td>\n",
       "      <td>3099.678261</td>\n",
       "      <td>1735.70</td>\n",
       "      <td>AB</td>\n",
       "      <td>POINT (394271.000 806323.000)</td>\n",
       "    </tr>\n",
       "    <tr>\n",
       "      <th>AB10 1BA</th>\n",
       "      <td>17</td>\n",
       "      <td>50063.4</td>\n",
       "      <td>2944.905882</td>\n",
       "      <td>2518.40</td>\n",
       "      <td>AB</td>\n",
       "      <td>POINT (394127.000 806442.000)</td>\n",
       "    </tr>\n",
       "    <tr>\n",
       "      <th>AB10 1BB</th>\n",
       "      <td>5</td>\n",
       "      <td>12619.3</td>\n",
       "      <td>2523.860000</td>\n",
       "      <td>2820.80</td>\n",
       "      <td>AB</td>\n",
       "      <td>POINT (394223.000 806262.000)</td>\n",
       "    </tr>\n",
       "    <tr>\n",
       "      <th>AB10 1FG</th>\n",
       "      <td>24</td>\n",
       "      <td>56731.7</td>\n",
       "      <td>2363.820833</td>\n",
       "      <td>2087.20</td>\n",
       "      <td>AB</td>\n",
       "      <td>POINT (394208.000 806569.000)</td>\n",
       "    </tr>\n",
       "    <tr>\n",
       "      <th>...</th>\n",
       "      <td>...</td>\n",
       "      <td>...</td>\n",
       "      <td>...</td>\n",
       "      <td>...</td>\n",
       "      <td>...</td>\n",
       "      <td>...</td>\n",
       "    </tr>\n",
       "    <tr>\n",
       "      <th>ZE3 9JU</th>\n",
       "      <td>16</td>\n",
       "      <td>46100.0</td>\n",
       "      <td>2881.250000</td>\n",
       "      <td>2694.25</td>\n",
       "      <td>ZE</td>\n",
       "      <td>POINT (438872.000 1111807.000)</td>\n",
       "    </tr>\n",
       "    <tr>\n",
       "      <th>ZE3 9JW</th>\n",
       "      <td>24</td>\n",
       "      <td>153124.7</td>\n",
       "      <td>6380.195833</td>\n",
       "      <td>5010.25</td>\n",
       "      <td>ZE</td>\n",
       "      <td>POINT (438975.000 1110038.000)</td>\n",
       "    </tr>\n",
       "    <tr>\n",
       "      <th>ZE3 9JX</th>\n",
       "      <td>12</td>\n",
       "      <td>35319.2</td>\n",
       "      <td>2943.266667</td>\n",
       "      <td>2085.20</td>\n",
       "      <td>ZE</td>\n",
       "      <td>POINT (438872.000 1110219.000)</td>\n",
       "    </tr>\n",
       "    <tr>\n",
       "      <th>ZE3 9JY</th>\n",
       "      <td>6</td>\n",
       "      <td>22051.1</td>\n",
       "      <td>3675.183333</td>\n",
       "      <td>3412.75</td>\n",
       "      <td>ZE</td>\n",
       "      <td>POINT (438498.000 1112029.000)</td>\n",
       "    </tr>\n",
       "    <tr>\n",
       "      <th>ZE3 9JZ</th>\n",
       "      <td>22</td>\n",
       "      <td>81955.5</td>\n",
       "      <td>3725.250000</td>\n",
       "      <td>2972.30</td>\n",
       "      <td>ZE</td>\n",
       "      <td>POINT (438662.000 1112122.000)</td>\n",
       "    </tr>\n",
       "  </tbody>\n",
       "</table>\n",
       "<p>1190353 rows × 6 columns</p>\n",
       "</div>"
      ],
      "text/plain": [
       "          Meters  Consumption  Mean_consumption  Median_consumption Areacode  \\\n",
       "Postcode                                                                       \n",
       "AB10         197     692976.5       3517.647208             2754.50      NaN   \n",
       "AB10 1AU      23      71292.6       3099.678261             1735.70       AB   \n",
       "AB10 1BA      17      50063.4       2944.905882             2518.40       AB   \n",
       "AB10 1BB       5      12619.3       2523.860000             2820.80       AB   \n",
       "AB10 1FG      24      56731.7       2363.820833             2087.20       AB   \n",
       "...          ...          ...               ...                 ...      ...   \n",
       "ZE3 9JU       16      46100.0       2881.250000             2694.25       ZE   \n",
       "ZE3 9JW       24     153124.7       6380.195833             5010.25       ZE   \n",
       "ZE3 9JX       12      35319.2       2943.266667             2085.20       ZE   \n",
       "ZE3 9JY        6      22051.1       3675.183333             3412.75       ZE   \n",
       "ZE3 9JZ       22      81955.5       3725.250000             2972.30       ZE   \n",
       "\n",
       "                                geometry  \n",
       "Postcode                                  \n",
       "AB10                                None  \n",
       "AB10 1AU   POINT (394271.000 806323.000)  \n",
       "AB10 1BA   POINT (394127.000 806442.000)  \n",
       "AB10 1BB   POINT (394223.000 806262.000)  \n",
       "AB10 1FG   POINT (394208.000 806569.000)  \n",
       "...                                  ...  \n",
       "ZE3 9JU   POINT (438872.000 1111807.000)  \n",
       "ZE3 9JW   POINT (438975.000 1110038.000)  \n",
       "ZE3 9JX   POINT (438872.000 1110219.000)  \n",
       "ZE3 9JY   POINT (438498.000 1112029.000)  \n",
       "ZE3 9JZ   POINT (438662.000 1112122.000)  \n",
       "\n",
       "[1190353 rows x 6 columns]"
      ]
     },
     "execution_count": 55,
     "metadata": {},
     "output_type": "execute_result"
    }
   ],
   "source": [
    "# Merging on postcode to form 1 DataFrame\n",
    "merged2 = merged.set_index('Postcode').join(gdf_edit.set_index('Postcode'))\n",
    "merged2"
   ]
  },
  {
   "cell_type": "markdown",
   "metadata": {},
   "source": [
    "Dropping None Values"
   ]
  },
  {
   "cell_type": "code",
   "execution_count": 56,
   "metadata": {},
   "outputs": [],
   "source": [
    "# Selecting None value rows to drop\n",
    "rows_to_drop = merged2[merged2['geometry'] == None].index"
   ]
  },
  {
   "cell_type": "code",
   "execution_count": 57,
   "metadata": {},
   "outputs": [
    {
     "data": {
      "text/html": [
       "<div>\n",
       "<style scoped>\n",
       "    .dataframe tbody tr th:only-of-type {\n",
       "        vertical-align: middle;\n",
       "    }\n",
       "\n",
       "    .dataframe tbody tr th {\n",
       "        vertical-align: top;\n",
       "    }\n",
       "\n",
       "    .dataframe thead th {\n",
       "        text-align: right;\n",
       "    }\n",
       "</style>\n",
       "<table border=\"1\" class=\"dataframe\">\n",
       "  <thead>\n",
       "    <tr style=\"text-align: right;\">\n",
       "      <th></th>\n",
       "      <th>Meters</th>\n",
       "      <th>Consumption</th>\n",
       "      <th>Mean_consumption</th>\n",
       "      <th>Median_consumption</th>\n",
       "      <th>Areacode</th>\n",
       "      <th>geometry</th>\n",
       "    </tr>\n",
       "    <tr>\n",
       "      <th>Postcode</th>\n",
       "      <th></th>\n",
       "      <th></th>\n",
       "      <th></th>\n",
       "      <th></th>\n",
       "      <th></th>\n",
       "      <th></th>\n",
       "    </tr>\n",
       "  </thead>\n",
       "  <tbody>\n",
       "    <tr>\n",
       "      <th>AB10 1AU</th>\n",
       "      <td>23</td>\n",
       "      <td>71292.6</td>\n",
       "      <td>3099.678261</td>\n",
       "      <td>1735.70</td>\n",
       "      <td>AB</td>\n",
       "      <td>POINT (394271.000 806323.000)</td>\n",
       "    </tr>\n",
       "    <tr>\n",
       "      <th>AB10 1BA</th>\n",
       "      <td>17</td>\n",
       "      <td>50063.4</td>\n",
       "      <td>2944.905882</td>\n",
       "      <td>2518.40</td>\n",
       "      <td>AB</td>\n",
       "      <td>POINT (394127.000 806442.000)</td>\n",
       "    </tr>\n",
       "    <tr>\n",
       "      <th>AB10 1BB</th>\n",
       "      <td>5</td>\n",
       "      <td>12619.3</td>\n",
       "      <td>2523.860000</td>\n",
       "      <td>2820.80</td>\n",
       "      <td>AB</td>\n",
       "      <td>POINT (394223.000 806262.000)</td>\n",
       "    </tr>\n",
       "    <tr>\n",
       "      <th>AB10 1FG</th>\n",
       "      <td>24</td>\n",
       "      <td>56731.7</td>\n",
       "      <td>2363.820833</td>\n",
       "      <td>2087.20</td>\n",
       "      <td>AB</td>\n",
       "      <td>POINT (394208.000 806569.000)</td>\n",
       "    </tr>\n",
       "    <tr>\n",
       "      <th>AB10 1FL</th>\n",
       "      <td>28</td>\n",
       "      <td>113447.4</td>\n",
       "      <td>4051.692857</td>\n",
       "      <td>3536.50</td>\n",
       "      <td>AB</td>\n",
       "      <td>POINT (394238.000 806594.000)</td>\n",
       "    </tr>\n",
       "    <tr>\n",
       "      <th>...</th>\n",
       "      <td>...</td>\n",
       "      <td>...</td>\n",
       "      <td>...</td>\n",
       "      <td>...</td>\n",
       "      <td>...</td>\n",
       "      <td>...</td>\n",
       "    </tr>\n",
       "    <tr>\n",
       "      <th>ZE3 9JU</th>\n",
       "      <td>16</td>\n",
       "      <td>46100.0</td>\n",
       "      <td>2881.250000</td>\n",
       "      <td>2694.25</td>\n",
       "      <td>ZE</td>\n",
       "      <td>POINT (438872.000 1111807.000)</td>\n",
       "    </tr>\n",
       "    <tr>\n",
       "      <th>ZE3 9JW</th>\n",
       "      <td>24</td>\n",
       "      <td>153124.7</td>\n",
       "      <td>6380.195833</td>\n",
       "      <td>5010.25</td>\n",
       "      <td>ZE</td>\n",
       "      <td>POINT (438975.000 1110038.000)</td>\n",
       "    </tr>\n",
       "    <tr>\n",
       "      <th>ZE3 9JX</th>\n",
       "      <td>12</td>\n",
       "      <td>35319.2</td>\n",
       "      <td>2943.266667</td>\n",
       "      <td>2085.20</td>\n",
       "      <td>ZE</td>\n",
       "      <td>POINT (438872.000 1110219.000)</td>\n",
       "    </tr>\n",
       "    <tr>\n",
       "      <th>ZE3 9JY</th>\n",
       "      <td>6</td>\n",
       "      <td>22051.1</td>\n",
       "      <td>3675.183333</td>\n",
       "      <td>3412.75</td>\n",
       "      <td>ZE</td>\n",
       "      <td>POINT (438498.000 1112029.000)</td>\n",
       "    </tr>\n",
       "    <tr>\n",
       "      <th>ZE3 9JZ</th>\n",
       "      <td>22</td>\n",
       "      <td>81955.5</td>\n",
       "      <td>3725.250000</td>\n",
       "      <td>2972.30</td>\n",
       "      <td>ZE</td>\n",
       "      <td>POINT (438662.000 1112122.000)</td>\n",
       "    </tr>\n",
       "  </tbody>\n",
       "</table>\n",
       "<p>1186890 rows × 6 columns</p>\n",
       "</div>"
      ],
      "text/plain": [
       "          Meters  Consumption  Mean_consumption  Median_consumption Areacode  \\\n",
       "Postcode                                                                       \n",
       "AB10 1AU      23      71292.6       3099.678261             1735.70       AB   \n",
       "AB10 1BA      17      50063.4       2944.905882             2518.40       AB   \n",
       "AB10 1BB       5      12619.3       2523.860000             2820.80       AB   \n",
       "AB10 1FG      24      56731.7       2363.820833             2087.20       AB   \n",
       "AB10 1FL      28     113447.4       4051.692857             3536.50       AB   \n",
       "...          ...          ...               ...                 ...      ...   \n",
       "ZE3 9JU       16      46100.0       2881.250000             2694.25       ZE   \n",
       "ZE3 9JW       24     153124.7       6380.195833             5010.25       ZE   \n",
       "ZE3 9JX       12      35319.2       2943.266667             2085.20       ZE   \n",
       "ZE3 9JY        6      22051.1       3675.183333             3412.75       ZE   \n",
       "ZE3 9JZ       22      81955.5       3725.250000             2972.30       ZE   \n",
       "\n",
       "                                geometry  \n",
       "Postcode                                  \n",
       "AB10 1AU   POINT (394271.000 806323.000)  \n",
       "AB10 1BA   POINT (394127.000 806442.000)  \n",
       "AB10 1BB   POINT (394223.000 806262.000)  \n",
       "AB10 1FG   POINT (394208.000 806569.000)  \n",
       "AB10 1FL   POINT (394238.000 806594.000)  \n",
       "...                                  ...  \n",
       "ZE3 9JU   POINT (438872.000 1111807.000)  \n",
       "ZE3 9JW   POINT (438975.000 1110038.000)  \n",
       "ZE3 9JX   POINT (438872.000 1110219.000)  \n",
       "ZE3 9JY   POINT (438498.000 1112029.000)  \n",
       "ZE3 9JZ   POINT (438662.000 1112122.000)  \n",
       "\n",
       "[1186890 rows x 6 columns]"
      ]
     },
     "execution_count": 57,
     "metadata": {},
     "output_type": "execute_result"
    }
   ],
   "source": [
    "merged2.drop(rows_to_drop,inplace=True)\n",
    "merged2"
   ]
  },
  {
   "cell_type": "code",
   "execution_count": 58,
   "metadata": {},
   "outputs": [
    {
     "data": {
      "text/html": [
       "<div>\n",
       "<style scoped>\n",
       "    .dataframe tbody tr th:only-of-type {\n",
       "        vertical-align: middle;\n",
       "    }\n",
       "\n",
       "    .dataframe tbody tr th {\n",
       "        vertical-align: top;\n",
       "    }\n",
       "\n",
       "    .dataframe thead th {\n",
       "        text-align: right;\n",
       "    }\n",
       "</style>\n",
       "<table border=\"1\" class=\"dataframe\">\n",
       "  <thead>\n",
       "    <tr style=\"text-align: right;\">\n",
       "      <th></th>\n",
       "      <th>Meters</th>\n",
       "      <th>Consumption</th>\n",
       "      <th>Mean_consumption</th>\n",
       "      <th>Median_consumption</th>\n",
       "      <th>Areacode</th>\n",
       "      <th>geometry</th>\n",
       "    </tr>\n",
       "    <tr>\n",
       "      <th>Postcode</th>\n",
       "      <th></th>\n",
       "      <th></th>\n",
       "      <th></th>\n",
       "      <th></th>\n",
       "      <th></th>\n",
       "      <th></th>\n",
       "    </tr>\n",
       "  </thead>\n",
       "  <tbody>\n",
       "    <tr>\n",
       "      <th>AB10 1AU</th>\n",
       "      <td>23</td>\n",
       "      <td>71292.6</td>\n",
       "      <td>3099.678261</td>\n",
       "      <td>1735.70</td>\n",
       "      <td>AB</td>\n",
       "      <td>POINT (394271.000 806323.000)</td>\n",
       "    </tr>\n",
       "    <tr>\n",
       "      <th>AB10 1BA</th>\n",
       "      <td>17</td>\n",
       "      <td>50063.4</td>\n",
       "      <td>2944.905882</td>\n",
       "      <td>2518.40</td>\n",
       "      <td>AB</td>\n",
       "      <td>POINT (394127.000 806442.000)</td>\n",
       "    </tr>\n",
       "    <tr>\n",
       "      <th>AB10 1BB</th>\n",
       "      <td>5</td>\n",
       "      <td>12619.3</td>\n",
       "      <td>2523.860000</td>\n",
       "      <td>2820.80</td>\n",
       "      <td>AB</td>\n",
       "      <td>POINT (394223.000 806262.000)</td>\n",
       "    </tr>\n",
       "    <tr>\n",
       "      <th>AB10 1FG</th>\n",
       "      <td>24</td>\n",
       "      <td>56731.7</td>\n",
       "      <td>2363.820833</td>\n",
       "      <td>2087.20</td>\n",
       "      <td>AB</td>\n",
       "      <td>POINT (394208.000 806569.000)</td>\n",
       "    </tr>\n",
       "    <tr>\n",
       "      <th>AB10 1FL</th>\n",
       "      <td>28</td>\n",
       "      <td>113447.4</td>\n",
       "      <td>4051.692857</td>\n",
       "      <td>3536.50</td>\n",
       "      <td>AB</td>\n",
       "      <td>POINT (394238.000 806594.000)</td>\n",
       "    </tr>\n",
       "    <tr>\n",
       "      <th>...</th>\n",
       "      <td>...</td>\n",
       "      <td>...</td>\n",
       "      <td>...</td>\n",
       "      <td>...</td>\n",
       "      <td>...</td>\n",
       "      <td>...</td>\n",
       "    </tr>\n",
       "    <tr>\n",
       "      <th>ZE3 9JU</th>\n",
       "      <td>16</td>\n",
       "      <td>46100.0</td>\n",
       "      <td>2881.250000</td>\n",
       "      <td>2694.25</td>\n",
       "      <td>ZE</td>\n",
       "      <td>POINT (438872.000 1111807.000)</td>\n",
       "    </tr>\n",
       "    <tr>\n",
       "      <th>ZE3 9JW</th>\n",
       "      <td>24</td>\n",
       "      <td>153124.7</td>\n",
       "      <td>6380.195833</td>\n",
       "      <td>5010.25</td>\n",
       "      <td>ZE</td>\n",
       "      <td>POINT (438975.000 1110038.000)</td>\n",
       "    </tr>\n",
       "    <tr>\n",
       "      <th>ZE3 9JX</th>\n",
       "      <td>12</td>\n",
       "      <td>35319.2</td>\n",
       "      <td>2943.266667</td>\n",
       "      <td>2085.20</td>\n",
       "      <td>ZE</td>\n",
       "      <td>POINT (438872.000 1110219.000)</td>\n",
       "    </tr>\n",
       "    <tr>\n",
       "      <th>ZE3 9JY</th>\n",
       "      <td>6</td>\n",
       "      <td>22051.1</td>\n",
       "      <td>3675.183333</td>\n",
       "      <td>3412.75</td>\n",
       "      <td>ZE</td>\n",
       "      <td>POINT (438498.000 1112029.000)</td>\n",
       "    </tr>\n",
       "    <tr>\n",
       "      <th>ZE3 9JZ</th>\n",
       "      <td>22</td>\n",
       "      <td>81955.5</td>\n",
       "      <td>3725.250000</td>\n",
       "      <td>2972.30</td>\n",
       "      <td>ZE</td>\n",
       "      <td>POINT (438662.000 1112122.000)</td>\n",
       "    </tr>\n",
       "  </tbody>\n",
       "</table>\n",
       "<p>1186890 rows × 6 columns</p>\n",
       "</div>"
      ],
      "text/plain": [
       "          Meters  Consumption  Mean_consumption  Median_consumption Areacode  \\\n",
       "Postcode                                                                       \n",
       "AB10 1AU      23      71292.6       3099.678261             1735.70       AB   \n",
       "AB10 1BA      17      50063.4       2944.905882             2518.40       AB   \n",
       "AB10 1BB       5      12619.3       2523.860000             2820.80       AB   \n",
       "AB10 1FG      24      56731.7       2363.820833             2087.20       AB   \n",
       "AB10 1FL      28     113447.4       4051.692857             3536.50       AB   \n",
       "...          ...          ...               ...                 ...      ...   \n",
       "ZE3 9JU       16      46100.0       2881.250000             2694.25       ZE   \n",
       "ZE3 9JW       24     153124.7       6380.195833             5010.25       ZE   \n",
       "ZE3 9JX       12      35319.2       2943.266667             2085.20       ZE   \n",
       "ZE3 9JY        6      22051.1       3675.183333             3412.75       ZE   \n",
       "ZE3 9JZ       22      81955.5       3725.250000             2972.30       ZE   \n",
       "\n",
       "                                geometry  \n",
       "Postcode                                  \n",
       "AB10 1AU   POINT (394271.000 806323.000)  \n",
       "AB10 1BA   POINT (394127.000 806442.000)  \n",
       "AB10 1BB   POINT (394223.000 806262.000)  \n",
       "AB10 1FG   POINT (394208.000 806569.000)  \n",
       "AB10 1FL   POINT (394238.000 806594.000)  \n",
       "...                                  ...  \n",
       "ZE3 9JU   POINT (438872.000 1111807.000)  \n",
       "ZE3 9JW   POINT (438975.000 1110038.000)  \n",
       "ZE3 9JX   POINT (438872.000 1110219.000)  \n",
       "ZE3 9JY   POINT (438498.000 1112029.000)  \n",
       "ZE3 9JZ   POINT (438662.000 1112122.000)  \n",
       "\n",
       "[1186890 rows x 6 columns]"
      ]
     },
     "execution_count": 58,
     "metadata": {},
     "output_type": "execute_result"
    }
   ],
   "source": [
    "merged2.dropna(inplace=True)\n",
    "merged2"
   ]
  },
  {
   "cell_type": "code",
   "execution_count": 59,
   "metadata": {},
   "outputs": [
    {
     "name": "stdout",
     "output_type": "stream",
     "text": [
      "<class 'pandas.core.frame.DataFrame'>\n",
      "Index: 1186890 entries, AB10 1AU to ZE3 9JZ\n",
      "Data columns (total 6 columns):\n",
      " #   Column              Non-Null Count    Dtype   \n",
      "---  ------              --------------    -----   \n",
      " 0   Meters              1186890 non-null  int64   \n",
      " 1   Consumption         1186890 non-null  float64 \n",
      " 2   Mean_consumption    1186890 non-null  float64 \n",
      " 3   Median_consumption  1186890 non-null  float64 \n",
      " 4   Areacode            1186890 non-null  object  \n",
      " 5   geometry            1186890 non-null  geometry\n",
      "dtypes: float64(3), geometry(1), int64(1), object(1)\n",
      "memory usage: 63.4+ MB\n"
     ]
    }
   ],
   "source": [
    "merged2.info()"
   ]
  },
  {
   "cell_type": "markdown",
   "metadata": {},
   "source": [
    "Changing geometry column to latitude and longitude"
   ]
  },
  {
   "cell_type": "code",
   "execution_count": 60,
   "metadata": {},
   "outputs": [
    {
     "data": {
      "text/html": [
       "<div>\n",
       "<style scoped>\n",
       "    .dataframe tbody tr th:only-of-type {\n",
       "        vertical-align: middle;\n",
       "    }\n",
       "\n",
       "    .dataframe tbody tr th {\n",
       "        vertical-align: top;\n",
       "    }\n",
       "\n",
       "    .dataframe thead th {\n",
       "        text-align: right;\n",
       "    }\n",
       "</style>\n",
       "<table border=\"1\" class=\"dataframe\">\n",
       "  <thead>\n",
       "    <tr style=\"text-align: right;\">\n",
       "      <th></th>\n",
       "      <th>Meters</th>\n",
       "      <th>Consumption</th>\n",
       "      <th>Mean_consumption</th>\n",
       "      <th>Median_consumption</th>\n",
       "      <th>Areacode</th>\n",
       "      <th>geometry</th>\n",
       "      <th>Eastings</th>\n",
       "      <th>Northings</th>\n",
       "    </tr>\n",
       "    <tr>\n",
       "      <th>Postcode</th>\n",
       "      <th></th>\n",
       "      <th></th>\n",
       "      <th></th>\n",
       "      <th></th>\n",
       "      <th></th>\n",
       "      <th></th>\n",
       "      <th></th>\n",
       "      <th></th>\n",
       "    </tr>\n",
       "  </thead>\n",
       "  <tbody>\n",
       "    <tr>\n",
       "      <th>AB10 1AU</th>\n",
       "      <td>23</td>\n",
       "      <td>71292.6</td>\n",
       "      <td>3099.678261</td>\n",
       "      <td>1735.7</td>\n",
       "      <td>AB</td>\n",
       "      <td>POINT (394271.000 806323.000)</td>\n",
       "      <td>0</td>\n",
       "      <td>0</td>\n",
       "    </tr>\n",
       "    <tr>\n",
       "      <th>AB10 1BA</th>\n",
       "      <td>17</td>\n",
       "      <td>50063.4</td>\n",
       "      <td>2944.905882</td>\n",
       "      <td>2518.4</td>\n",
       "      <td>AB</td>\n",
       "      <td>POINT (394127.000 806442.000)</td>\n",
       "      <td>0</td>\n",
       "      <td>0</td>\n",
       "    </tr>\n",
       "    <tr>\n",
       "      <th>AB10 1BB</th>\n",
       "      <td>5</td>\n",
       "      <td>12619.3</td>\n",
       "      <td>2523.860000</td>\n",
       "      <td>2820.8</td>\n",
       "      <td>AB</td>\n",
       "      <td>POINT (394223.000 806262.000)</td>\n",
       "      <td>0</td>\n",
       "      <td>0</td>\n",
       "    </tr>\n",
       "    <tr>\n",
       "      <th>AB10 1FG</th>\n",
       "      <td>24</td>\n",
       "      <td>56731.7</td>\n",
       "      <td>2363.820833</td>\n",
       "      <td>2087.2</td>\n",
       "      <td>AB</td>\n",
       "      <td>POINT (394208.000 806569.000)</td>\n",
       "      <td>0</td>\n",
       "      <td>0</td>\n",
       "    </tr>\n",
       "    <tr>\n",
       "      <th>AB10 1FL</th>\n",
       "      <td>28</td>\n",
       "      <td>113447.4</td>\n",
       "      <td>4051.692857</td>\n",
       "      <td>3536.5</td>\n",
       "      <td>AB</td>\n",
       "      <td>POINT (394238.000 806594.000)</td>\n",
       "      <td>0</td>\n",
       "      <td>0</td>\n",
       "    </tr>\n",
       "  </tbody>\n",
       "</table>\n",
       "</div>"
      ],
      "text/plain": [
       "          Meters  Consumption  Mean_consumption  Median_consumption Areacode  \\\n",
       "Postcode                                                                       \n",
       "AB10 1AU      23      71292.6       3099.678261              1735.7       AB   \n",
       "AB10 1BA      17      50063.4       2944.905882              2518.4       AB   \n",
       "AB10 1BB       5      12619.3       2523.860000              2820.8       AB   \n",
       "AB10 1FG      24      56731.7       2363.820833              2087.2       AB   \n",
       "AB10 1FL      28     113447.4       4051.692857              3536.5       AB   \n",
       "\n",
       "                               geometry  Eastings  Northings  \n",
       "Postcode                                                      \n",
       "AB10 1AU  POINT (394271.000 806323.000)         0          0  \n",
       "AB10 1BA  POINT (394127.000 806442.000)         0          0  \n",
       "AB10 1BB  POINT (394223.000 806262.000)         0          0  \n",
       "AB10 1FG  POINT (394208.000 806569.000)         0          0  \n",
       "AB10 1FL  POINT (394238.000 806594.000)         0          0  "
      ]
     },
     "execution_count": 60,
     "metadata": {},
     "output_type": "execute_result"
    }
   ],
   "source": [
    "# Creating 2 new columns easting and northing\n",
    "merged2['Eastings'] = 0\n",
    "merged2['Northings'] = 0\n",
    "merged2.head()"
   ]
  },
  {
   "cell_type": "code",
   "execution_count": 61,
   "metadata": {},
   "outputs": [],
   "source": [
    "# Accessing each coordinate in geometry using lambda\n",
    "eastings = merged2.apply(lambda row: row['geometry'].x,axis=1)\n",
    "northings = merged2.apply(lambda row: row['geometry'].y,axis=1)"
   ]
  },
  {
   "cell_type": "code",
   "execution_count": 62,
   "metadata": {},
   "outputs": [
    {
     "data": {
      "text/html": [
       "<div>\n",
       "<style scoped>\n",
       "    .dataframe tbody tr th:only-of-type {\n",
       "        vertical-align: middle;\n",
       "    }\n",
       "\n",
       "    .dataframe tbody tr th {\n",
       "        vertical-align: top;\n",
       "    }\n",
       "\n",
       "    .dataframe thead th {\n",
       "        text-align: right;\n",
       "    }\n",
       "</style>\n",
       "<table border=\"1\" class=\"dataframe\">\n",
       "  <thead>\n",
       "    <tr style=\"text-align: right;\">\n",
       "      <th></th>\n",
       "      <th>Meters</th>\n",
       "      <th>Consumption</th>\n",
       "      <th>Mean_consumption</th>\n",
       "      <th>Median_consumption</th>\n",
       "      <th>Areacode</th>\n",
       "      <th>geometry</th>\n",
       "      <th>Eastings</th>\n",
       "      <th>Northings</th>\n",
       "    </tr>\n",
       "    <tr>\n",
       "      <th>Postcode</th>\n",
       "      <th></th>\n",
       "      <th></th>\n",
       "      <th></th>\n",
       "      <th></th>\n",
       "      <th></th>\n",
       "      <th></th>\n",
       "      <th></th>\n",
       "      <th></th>\n",
       "    </tr>\n",
       "  </thead>\n",
       "  <tbody>\n",
       "    <tr>\n",
       "      <th>AB10 1AU</th>\n",
       "      <td>23</td>\n",
       "      <td>71292.6</td>\n",
       "      <td>3099.678261</td>\n",
       "      <td>1735.70</td>\n",
       "      <td>AB</td>\n",
       "      <td>POINT (394271.000 806323.000)</td>\n",
       "      <td>394271.0</td>\n",
       "      <td>806323.0</td>\n",
       "    </tr>\n",
       "    <tr>\n",
       "      <th>AB10 1BA</th>\n",
       "      <td>17</td>\n",
       "      <td>50063.4</td>\n",
       "      <td>2944.905882</td>\n",
       "      <td>2518.40</td>\n",
       "      <td>AB</td>\n",
       "      <td>POINT (394127.000 806442.000)</td>\n",
       "      <td>394127.0</td>\n",
       "      <td>806442.0</td>\n",
       "    </tr>\n",
       "    <tr>\n",
       "      <th>AB10 1BB</th>\n",
       "      <td>5</td>\n",
       "      <td>12619.3</td>\n",
       "      <td>2523.860000</td>\n",
       "      <td>2820.80</td>\n",
       "      <td>AB</td>\n",
       "      <td>POINT (394223.000 806262.000)</td>\n",
       "      <td>394223.0</td>\n",
       "      <td>806262.0</td>\n",
       "    </tr>\n",
       "    <tr>\n",
       "      <th>AB10 1FG</th>\n",
       "      <td>24</td>\n",
       "      <td>56731.7</td>\n",
       "      <td>2363.820833</td>\n",
       "      <td>2087.20</td>\n",
       "      <td>AB</td>\n",
       "      <td>POINT (394208.000 806569.000)</td>\n",
       "      <td>394208.0</td>\n",
       "      <td>806569.0</td>\n",
       "    </tr>\n",
       "    <tr>\n",
       "      <th>AB10 1FL</th>\n",
       "      <td>28</td>\n",
       "      <td>113447.4</td>\n",
       "      <td>4051.692857</td>\n",
       "      <td>3536.50</td>\n",
       "      <td>AB</td>\n",
       "      <td>POINT (394238.000 806594.000)</td>\n",
       "      <td>394238.0</td>\n",
       "      <td>806594.0</td>\n",
       "    </tr>\n",
       "    <tr>\n",
       "      <th>...</th>\n",
       "      <td>...</td>\n",
       "      <td>...</td>\n",
       "      <td>...</td>\n",
       "      <td>...</td>\n",
       "      <td>...</td>\n",
       "      <td>...</td>\n",
       "      <td>...</td>\n",
       "      <td>...</td>\n",
       "    </tr>\n",
       "    <tr>\n",
       "      <th>ZE3 9JU</th>\n",
       "      <td>16</td>\n",
       "      <td>46100.0</td>\n",
       "      <td>2881.250000</td>\n",
       "      <td>2694.25</td>\n",
       "      <td>ZE</td>\n",
       "      <td>POINT (438872.000 1111807.000)</td>\n",
       "      <td>438872.0</td>\n",
       "      <td>1111807.0</td>\n",
       "    </tr>\n",
       "    <tr>\n",
       "      <th>ZE3 9JW</th>\n",
       "      <td>24</td>\n",
       "      <td>153124.7</td>\n",
       "      <td>6380.195833</td>\n",
       "      <td>5010.25</td>\n",
       "      <td>ZE</td>\n",
       "      <td>POINT (438975.000 1110038.000)</td>\n",
       "      <td>438975.0</td>\n",
       "      <td>1110038.0</td>\n",
       "    </tr>\n",
       "    <tr>\n",
       "      <th>ZE3 9JX</th>\n",
       "      <td>12</td>\n",
       "      <td>35319.2</td>\n",
       "      <td>2943.266667</td>\n",
       "      <td>2085.20</td>\n",
       "      <td>ZE</td>\n",
       "      <td>POINT (438872.000 1110219.000)</td>\n",
       "      <td>438872.0</td>\n",
       "      <td>1110219.0</td>\n",
       "    </tr>\n",
       "    <tr>\n",
       "      <th>ZE3 9JY</th>\n",
       "      <td>6</td>\n",
       "      <td>22051.1</td>\n",
       "      <td>3675.183333</td>\n",
       "      <td>3412.75</td>\n",
       "      <td>ZE</td>\n",
       "      <td>POINT (438498.000 1112029.000)</td>\n",
       "      <td>438498.0</td>\n",
       "      <td>1112029.0</td>\n",
       "    </tr>\n",
       "    <tr>\n",
       "      <th>ZE3 9JZ</th>\n",
       "      <td>22</td>\n",
       "      <td>81955.5</td>\n",
       "      <td>3725.250000</td>\n",
       "      <td>2972.30</td>\n",
       "      <td>ZE</td>\n",
       "      <td>POINT (438662.000 1112122.000)</td>\n",
       "      <td>438662.0</td>\n",
       "      <td>1112122.0</td>\n",
       "    </tr>\n",
       "  </tbody>\n",
       "</table>\n",
       "<p>1186890 rows × 8 columns</p>\n",
       "</div>"
      ],
      "text/plain": [
       "          Meters  Consumption  Mean_consumption  Median_consumption Areacode  \\\n",
       "Postcode                                                                       \n",
       "AB10 1AU      23      71292.6       3099.678261             1735.70       AB   \n",
       "AB10 1BA      17      50063.4       2944.905882             2518.40       AB   \n",
       "AB10 1BB       5      12619.3       2523.860000             2820.80       AB   \n",
       "AB10 1FG      24      56731.7       2363.820833             2087.20       AB   \n",
       "AB10 1FL      28     113447.4       4051.692857             3536.50       AB   \n",
       "...          ...          ...               ...                 ...      ...   \n",
       "ZE3 9JU       16      46100.0       2881.250000             2694.25       ZE   \n",
       "ZE3 9JW       24     153124.7       6380.195833             5010.25       ZE   \n",
       "ZE3 9JX       12      35319.2       2943.266667             2085.20       ZE   \n",
       "ZE3 9JY        6      22051.1       3675.183333             3412.75       ZE   \n",
       "ZE3 9JZ       22      81955.5       3725.250000             2972.30       ZE   \n",
       "\n",
       "                                geometry  Eastings  Northings  \n",
       "Postcode                                                       \n",
       "AB10 1AU   POINT (394271.000 806323.000)  394271.0   806323.0  \n",
       "AB10 1BA   POINT (394127.000 806442.000)  394127.0   806442.0  \n",
       "AB10 1BB   POINT (394223.000 806262.000)  394223.0   806262.0  \n",
       "AB10 1FG   POINT (394208.000 806569.000)  394208.0   806569.0  \n",
       "AB10 1FL   POINT (394238.000 806594.000)  394238.0   806594.0  \n",
       "...                                  ...       ...        ...  \n",
       "ZE3 9JU   POINT (438872.000 1111807.000)  438872.0  1111807.0  \n",
       "ZE3 9JW   POINT (438975.000 1110038.000)  438975.0  1110038.0  \n",
       "ZE3 9JX   POINT (438872.000 1110219.000)  438872.0  1110219.0  \n",
       "ZE3 9JY   POINT (438498.000 1112029.000)  438498.0  1112029.0  \n",
       "ZE3 9JZ   POINT (438662.000 1112122.000)  438662.0  1112122.0  \n",
       "\n",
       "[1186890 rows x 8 columns]"
      ]
     },
     "execution_count": 62,
     "metadata": {},
     "output_type": "execute_result"
    }
   ],
   "source": [
    "# Assigning coordinates to Easting and Northing columns\n",
    "merged2['Eastings'] = eastings\n",
    "merged2['Northings'] = northings\n",
    "merged2"
   ]
  },
  {
   "cell_type": "markdown",
   "metadata": {},
   "source": [
    "Converting Easting and Northings to Longitude and Latitude"
   ]
  },
  {
   "cell_type": "code",
   "execution_count": 63,
   "metadata": {},
   "outputs": [
    {
     "name": "stderr",
     "output_type": "stream",
     "text": [
      "c:\\Users\\KingRemy\\anaconda3\\envs\\elec\\lib\\site-packages\\pyproj\\crs\\crs.py:141: FutureWarning: '+init=<authority>:<code>' syntax is deprecated. '<authority>:<code>' is the preferred initialization method. When making the change, be mindful of axis order changes: https://pyproj4.github.io/pyproj/stable/gotchas.html#axis-order-changes-in-proj-6\n",
      "  in_crs_string = _prepare_from_proj_string(in_crs_string)\n"
     ]
    }
   ],
   "source": [
    "# Convert eastings and northings data to longitude and latitude data for plotly to understand\n",
    "# from stackoverflow\n",
    "from pyproj import Proj, transform\n",
    "\n",
    "v84 = Proj(proj= \"latlong\", towgs84=\"0,0,0\", ellps=\"WGS84\")\n",
    "v36 = Proj(proj=\"latlong\", k=0.9996012717, ellps=\"airy\", towgs84=\"446.448,-125.157,542.060,0.1502,0.2470,0.8421,-20.4894\")\n",
    "vgrid = Proj(init=\"world:bng\")\n",
    "\n",
    "def vectorized_convert(df):\n",
    "    vlon36, vlat36 = vgrid(df['Eastings'].values, df['Northings'].values, inverse=True)\n",
    "    converted = transform(v36, v84, vlon36, vlat36)\n",
    "    df['longitude'] = converted[0]\n",
    "    df['latitude' ] = converted[1]\n",
    "    return df"
   ]
  },
  {
   "cell_type": "code",
   "execution_count": 64,
   "metadata": {},
   "outputs": [
    {
     "name": "stderr",
     "output_type": "stream",
     "text": [
      "C:\\Users\\KingRemy\\AppData\\Local\\Temp\\ipykernel_12404\\2659012956.py:11: DeprecationWarning: This function is deprecated. See: https://pyproj4.github.io/pyproj/stable/gotchas.html#upgrading-to-pyproj-2-from-pyproj-1\n",
      "  converted = transform(v36, v84, vlon36, vlat36)\n"
     ]
    },
    {
     "data": {
      "text/html": [
       "<div>\n",
       "<style scoped>\n",
       "    .dataframe tbody tr th:only-of-type {\n",
       "        vertical-align: middle;\n",
       "    }\n",
       "\n",
       "    .dataframe tbody tr th {\n",
       "        vertical-align: top;\n",
       "    }\n",
       "\n",
       "    .dataframe thead th {\n",
       "        text-align: right;\n",
       "    }\n",
       "</style>\n",
       "<table border=\"1\" class=\"dataframe\">\n",
       "  <thead>\n",
       "    <tr style=\"text-align: right;\">\n",
       "      <th></th>\n",
       "      <th>Meters</th>\n",
       "      <th>Consumption</th>\n",
       "      <th>Mean_consumption</th>\n",
       "      <th>Median_consumption</th>\n",
       "      <th>Areacode</th>\n",
       "      <th>geometry</th>\n",
       "      <th>Eastings</th>\n",
       "      <th>Northings</th>\n",
       "      <th>longitude</th>\n",
       "      <th>latitude</th>\n",
       "    </tr>\n",
       "    <tr>\n",
       "      <th>Postcode</th>\n",
       "      <th></th>\n",
       "      <th></th>\n",
       "      <th></th>\n",
       "      <th></th>\n",
       "      <th></th>\n",
       "      <th></th>\n",
       "      <th></th>\n",
       "      <th></th>\n",
       "      <th></th>\n",
       "      <th></th>\n",
       "    </tr>\n",
       "  </thead>\n",
       "  <tbody>\n",
       "    <tr>\n",
       "      <th>AB10 1AU</th>\n",
       "      <td>23</td>\n",
       "      <td>71292.6</td>\n",
       "      <td>3099.678261</td>\n",
       "      <td>1735.70</td>\n",
       "      <td>AB</td>\n",
       "      <td>POINT (394271.000 806323.000)</td>\n",
       "      <td>394271.0</td>\n",
       "      <td>806323.0</td>\n",
       "      <td>-2.096316</td>\n",
       "      <td>57.147756</td>\n",
       "    </tr>\n",
       "    <tr>\n",
       "      <th>AB10 1BA</th>\n",
       "      <td>17</td>\n",
       "      <td>50063.4</td>\n",
       "      <td>2944.905882</td>\n",
       "      <td>2518.40</td>\n",
       "      <td>AB</td>\n",
       "      <td>POINT (394127.000 806442.000)</td>\n",
       "      <td>394127.0</td>\n",
       "      <td>806442.0</td>\n",
       "      <td>-2.098699</td>\n",
       "      <td>57.148823</td>\n",
       "    </tr>\n",
       "    <tr>\n",
       "      <th>AB10 1BB</th>\n",
       "      <td>5</td>\n",
       "      <td>12619.3</td>\n",
       "      <td>2523.860000</td>\n",
       "      <td>2820.80</td>\n",
       "      <td>AB</td>\n",
       "      <td>POINT (394223.000 806262.000)</td>\n",
       "      <td>394223.0</td>\n",
       "      <td>806262.0</td>\n",
       "      <td>-2.097108</td>\n",
       "      <td>57.147207</td>\n",
       "    </tr>\n",
       "    <tr>\n",
       "      <th>AB10 1FG</th>\n",
       "      <td>24</td>\n",
       "      <td>56731.7</td>\n",
       "      <td>2363.820833</td>\n",
       "      <td>2087.20</td>\n",
       "      <td>AB</td>\n",
       "      <td>POINT (394208.000 806569.000)</td>\n",
       "      <td>394208.0</td>\n",
       "      <td>806569.0</td>\n",
       "      <td>-2.097363</td>\n",
       "      <td>57.149965</td>\n",
       "    </tr>\n",
       "    <tr>\n",
       "      <th>AB10 1FL</th>\n",
       "      <td>28</td>\n",
       "      <td>113447.4</td>\n",
       "      <td>4051.692857</td>\n",
       "      <td>3536.50</td>\n",
       "      <td>AB</td>\n",
       "      <td>POINT (394238.000 806594.000)</td>\n",
       "      <td>394238.0</td>\n",
       "      <td>806594.0</td>\n",
       "      <td>-2.096868</td>\n",
       "      <td>57.150190</td>\n",
       "    </tr>\n",
       "    <tr>\n",
       "      <th>...</th>\n",
       "      <td>...</td>\n",
       "      <td>...</td>\n",
       "      <td>...</td>\n",
       "      <td>...</td>\n",
       "      <td>...</td>\n",
       "      <td>...</td>\n",
       "      <td>...</td>\n",
       "      <td>...</td>\n",
       "      <td>...</td>\n",
       "      <td>...</td>\n",
       "    </tr>\n",
       "    <tr>\n",
       "      <th>ZE3 9JU</th>\n",
       "      <td>16</td>\n",
       "      <td>46100.0</td>\n",
       "      <td>2881.250000</td>\n",
       "      <td>2694.25</td>\n",
       "      <td>ZE</td>\n",
       "      <td>POINT (438872.000 1111807.000)</td>\n",
       "      <td>438872.0</td>\n",
       "      <td>1111807.0</td>\n",
       "      <td>-1.307206</td>\n",
       "      <td>59.889544</td>\n",
       "    </tr>\n",
       "    <tr>\n",
       "      <th>ZE3 9JW</th>\n",
       "      <td>24</td>\n",
       "      <td>153124.7</td>\n",
       "      <td>6380.195833</td>\n",
       "      <td>5010.25</td>\n",
       "      <td>ZE</td>\n",
       "      <td>POINT (438975.000 1110038.000)</td>\n",
       "      <td>438975.0</td>\n",
       "      <td>1110038.0</td>\n",
       "      <td>-1.305697</td>\n",
       "      <td>59.873651</td>\n",
       "    </tr>\n",
       "    <tr>\n",
       "      <th>ZE3 9JX</th>\n",
       "      <td>12</td>\n",
       "      <td>35319.2</td>\n",
       "      <td>2943.266667</td>\n",
       "      <td>2085.20</td>\n",
       "      <td>ZE</td>\n",
       "      <td>POINT (438872.000 1110219.000)</td>\n",
       "      <td>438872.0</td>\n",
       "      <td>1110219.0</td>\n",
       "      <td>-1.307502</td>\n",
       "      <td>59.875286</td>\n",
       "    </tr>\n",
       "    <tr>\n",
       "      <th>ZE3 9JY</th>\n",
       "      <td>6</td>\n",
       "      <td>22051.1</td>\n",
       "      <td>3675.183333</td>\n",
       "      <td>3412.75</td>\n",
       "      <td>ZE</td>\n",
       "      <td>POINT (438498.000 1112029.000)</td>\n",
       "      <td>438498.0</td>\n",
       "      <td>1112029.0</td>\n",
       "      <td>-1.313847</td>\n",
       "      <td>59.891572</td>\n",
       "    </tr>\n",
       "    <tr>\n",
       "      <th>ZE3 9JZ</th>\n",
       "      <td>22</td>\n",
       "      <td>81955.5</td>\n",
       "      <td>3725.250000</td>\n",
       "      <td>2972.30</td>\n",
       "      <td>ZE</td>\n",
       "      <td>POINT (438662.000 1112122.000)</td>\n",
       "      <td>438662.0</td>\n",
       "      <td>1112122.0</td>\n",
       "      <td>-1.310899</td>\n",
       "      <td>59.892392</td>\n",
       "    </tr>\n",
       "  </tbody>\n",
       "</table>\n",
       "<p>1186890 rows × 10 columns</p>\n",
       "</div>"
      ],
      "text/plain": [
       "          Meters  Consumption  Mean_consumption  Median_consumption Areacode  \\\n",
       "Postcode                                                                       \n",
       "AB10 1AU      23      71292.6       3099.678261             1735.70       AB   \n",
       "AB10 1BA      17      50063.4       2944.905882             2518.40       AB   \n",
       "AB10 1BB       5      12619.3       2523.860000             2820.80       AB   \n",
       "AB10 1FG      24      56731.7       2363.820833             2087.20       AB   \n",
       "AB10 1FL      28     113447.4       4051.692857             3536.50       AB   \n",
       "...          ...          ...               ...                 ...      ...   \n",
       "ZE3 9JU       16      46100.0       2881.250000             2694.25       ZE   \n",
       "ZE3 9JW       24     153124.7       6380.195833             5010.25       ZE   \n",
       "ZE3 9JX       12      35319.2       2943.266667             2085.20       ZE   \n",
       "ZE3 9JY        6      22051.1       3675.183333             3412.75       ZE   \n",
       "ZE3 9JZ       22      81955.5       3725.250000             2972.30       ZE   \n",
       "\n",
       "                                geometry  Eastings  Northings  longitude  \\\n",
       "Postcode                                                                   \n",
       "AB10 1AU   POINT (394271.000 806323.000)  394271.0   806323.0  -2.096316   \n",
       "AB10 1BA   POINT (394127.000 806442.000)  394127.0   806442.0  -2.098699   \n",
       "AB10 1BB   POINT (394223.000 806262.000)  394223.0   806262.0  -2.097108   \n",
       "AB10 1FG   POINT (394208.000 806569.000)  394208.0   806569.0  -2.097363   \n",
       "AB10 1FL   POINT (394238.000 806594.000)  394238.0   806594.0  -2.096868   \n",
       "...                                  ...       ...        ...        ...   \n",
       "ZE3 9JU   POINT (438872.000 1111807.000)  438872.0  1111807.0  -1.307206   \n",
       "ZE3 9JW   POINT (438975.000 1110038.000)  438975.0  1110038.0  -1.305697   \n",
       "ZE3 9JX   POINT (438872.000 1110219.000)  438872.0  1110219.0  -1.307502   \n",
       "ZE3 9JY   POINT (438498.000 1112029.000)  438498.0  1112029.0  -1.313847   \n",
       "ZE3 9JZ   POINT (438662.000 1112122.000)  438662.0  1112122.0  -1.310899   \n",
       "\n",
       "           latitude  \n",
       "Postcode             \n",
       "AB10 1AU  57.147756  \n",
       "AB10 1BA  57.148823  \n",
       "AB10 1BB  57.147207  \n",
       "AB10 1FG  57.149965  \n",
       "AB10 1FL  57.150190  \n",
       "...             ...  \n",
       "ZE3 9JU   59.889544  \n",
       "ZE3 9JW   59.873651  \n",
       "ZE3 9JX   59.875286  \n",
       "ZE3 9JY   59.891572  \n",
       "ZE3 9JZ   59.892392  \n",
       "\n",
       "[1186890 rows x 10 columns]"
      ]
     },
     "execution_count": 64,
     "metadata": {},
     "output_type": "execute_result"
    }
   ],
   "source": [
    "vectorized_convert(merged2)"
   ]
  },
  {
   "cell_type": "markdown",
   "metadata": {},
   "source": [
    "Droping unecessary columns"
   ]
  },
  {
   "cell_type": "code",
   "execution_count": 65,
   "metadata": {},
   "outputs": [
    {
     "data": {
      "text/html": [
       "<div>\n",
       "<style scoped>\n",
       "    .dataframe tbody tr th:only-of-type {\n",
       "        vertical-align: middle;\n",
       "    }\n",
       "\n",
       "    .dataframe tbody tr th {\n",
       "        vertical-align: top;\n",
       "    }\n",
       "\n",
       "    .dataframe thead th {\n",
       "        text-align: right;\n",
       "    }\n",
       "</style>\n",
       "<table border=\"1\" class=\"dataframe\">\n",
       "  <thead>\n",
       "    <tr style=\"text-align: right;\">\n",
       "      <th></th>\n",
       "      <th>Mean_consumption</th>\n",
       "      <th>Median_consumption</th>\n",
       "      <th>Areacode</th>\n",
       "      <th>longitude</th>\n",
       "      <th>latitude</th>\n",
       "    </tr>\n",
       "    <tr>\n",
       "      <th>Postcode</th>\n",
       "      <th></th>\n",
       "      <th></th>\n",
       "      <th></th>\n",
       "      <th></th>\n",
       "      <th></th>\n",
       "    </tr>\n",
       "  </thead>\n",
       "  <tbody>\n",
       "    <tr>\n",
       "      <th>AB10 1AU</th>\n",
       "      <td>3099.678261</td>\n",
       "      <td>1735.70</td>\n",
       "      <td>AB</td>\n",
       "      <td>-2.096316</td>\n",
       "      <td>57.147756</td>\n",
       "    </tr>\n",
       "    <tr>\n",
       "      <th>AB10 1BA</th>\n",
       "      <td>2944.905882</td>\n",
       "      <td>2518.40</td>\n",
       "      <td>AB</td>\n",
       "      <td>-2.098699</td>\n",
       "      <td>57.148823</td>\n",
       "    </tr>\n",
       "    <tr>\n",
       "      <th>AB10 1BB</th>\n",
       "      <td>2523.860000</td>\n",
       "      <td>2820.80</td>\n",
       "      <td>AB</td>\n",
       "      <td>-2.097108</td>\n",
       "      <td>57.147207</td>\n",
       "    </tr>\n",
       "    <tr>\n",
       "      <th>AB10 1FG</th>\n",
       "      <td>2363.820833</td>\n",
       "      <td>2087.20</td>\n",
       "      <td>AB</td>\n",
       "      <td>-2.097363</td>\n",
       "      <td>57.149965</td>\n",
       "    </tr>\n",
       "    <tr>\n",
       "      <th>AB10 1FL</th>\n",
       "      <td>4051.692857</td>\n",
       "      <td>3536.50</td>\n",
       "      <td>AB</td>\n",
       "      <td>-2.096868</td>\n",
       "      <td>57.150190</td>\n",
       "    </tr>\n",
       "    <tr>\n",
       "      <th>...</th>\n",
       "      <td>...</td>\n",
       "      <td>...</td>\n",
       "      <td>...</td>\n",
       "      <td>...</td>\n",
       "      <td>...</td>\n",
       "    </tr>\n",
       "    <tr>\n",
       "      <th>ZE3 9JU</th>\n",
       "      <td>2881.250000</td>\n",
       "      <td>2694.25</td>\n",
       "      <td>ZE</td>\n",
       "      <td>-1.307206</td>\n",
       "      <td>59.889544</td>\n",
       "    </tr>\n",
       "    <tr>\n",
       "      <th>ZE3 9JW</th>\n",
       "      <td>6380.195833</td>\n",
       "      <td>5010.25</td>\n",
       "      <td>ZE</td>\n",
       "      <td>-1.305697</td>\n",
       "      <td>59.873651</td>\n",
       "    </tr>\n",
       "    <tr>\n",
       "      <th>ZE3 9JX</th>\n",
       "      <td>2943.266667</td>\n",
       "      <td>2085.20</td>\n",
       "      <td>ZE</td>\n",
       "      <td>-1.307502</td>\n",
       "      <td>59.875286</td>\n",
       "    </tr>\n",
       "    <tr>\n",
       "      <th>ZE3 9JY</th>\n",
       "      <td>3675.183333</td>\n",
       "      <td>3412.75</td>\n",
       "      <td>ZE</td>\n",
       "      <td>-1.313847</td>\n",
       "      <td>59.891572</td>\n",
       "    </tr>\n",
       "    <tr>\n",
       "      <th>ZE3 9JZ</th>\n",
       "      <td>3725.250000</td>\n",
       "      <td>2972.30</td>\n",
       "      <td>ZE</td>\n",
       "      <td>-1.310899</td>\n",
       "      <td>59.892392</td>\n",
       "    </tr>\n",
       "  </tbody>\n",
       "</table>\n",
       "<p>1186890 rows × 5 columns</p>\n",
       "</div>"
      ],
      "text/plain": [
       "          Mean_consumption  Median_consumption Areacode  longitude   latitude\n",
       "Postcode                                                                     \n",
       "AB10 1AU       3099.678261             1735.70       AB  -2.096316  57.147756\n",
       "AB10 1BA       2944.905882             2518.40       AB  -2.098699  57.148823\n",
       "AB10 1BB       2523.860000             2820.80       AB  -2.097108  57.147207\n",
       "AB10 1FG       2363.820833             2087.20       AB  -2.097363  57.149965\n",
       "AB10 1FL       4051.692857             3536.50       AB  -2.096868  57.150190\n",
       "...                    ...                 ...      ...        ...        ...\n",
       "ZE3 9JU        2881.250000             2694.25       ZE  -1.307206  59.889544\n",
       "ZE3 9JW        6380.195833             5010.25       ZE  -1.305697  59.873651\n",
       "ZE3 9JX        2943.266667             2085.20       ZE  -1.307502  59.875286\n",
       "ZE3 9JY        3675.183333             3412.75       ZE  -1.313847  59.891572\n",
       "ZE3 9JZ        3725.250000             2972.30       ZE  -1.310899  59.892392\n",
       "\n",
       "[1186890 rows x 5 columns]"
      ]
     },
     "execution_count": 65,
     "metadata": {},
     "output_type": "execute_result"
    }
   ],
   "source": [
    "# Dropping columsn from DataFrame\n",
    "merged2 = merged2.drop(columns=['Meters', 'Consumption', 'geometry', 'Northings', 'Eastings'])\n",
    "merged2"
   ]
  },
  {
   "cell_type": "code",
   "execution_count": 66,
   "metadata": {},
   "outputs": [
    {
     "name": "stdout",
     "output_type": "stream",
     "text": [
      "<class 'pandas.core.frame.DataFrame'>\n"
     ]
    }
   ],
   "source": [
    "# Resetting index\n",
    "merged2 = merged2.reset_index()\n",
    "print(type(merged2))"
   ]
  },
  {
   "cell_type": "code",
   "execution_count": 68,
   "metadata": {},
   "outputs": [
    {
     "name": "stdout",
     "output_type": "stream",
     "text": [
      "['T', '__abs__', '__add__', '__and__', '__annotations__', '__array__', '__array_priority__', '__array_ufunc__', '__array_wrap__', '__bool__', '__class__', '__contains__', '__copy__', '__deepcopy__', '__delattr__', '__dict__', '__dir__', '__divmod__', '__doc__', '__eq__', '__floordiv__', '__format__', '__ge__', '__getattribute__', '__getitem__', '__gt__', '__hash__', '__iadd__', '__init__', '__init_subclass__', '__invert__', '__iter__', '__le__', '__len__', '__lt__', '__mod__', '__module__', '__mul__', '__ne__', '__neg__', '__new__', '__nonzero__', '__or__', '__pos__', '__pow__', '__radd__', '__rand__', '__rdivmod__', '__reduce__', '__reduce_ex__', '__repr__', '__rfloordiv__', '__rmod__', '__rmul__', '__ror__', '__rpow__', '__rsub__', '__rtruediv__', '__rxor__', '__setattr__', '__setitem__', '__sizeof__', '__str__', '__sub__', '__subclasshook__', '__truediv__', '__weakref__', '__xor__', '_accessors', '_arith_method', '_assert_can_do_setop', '_assert_safe_casting', '_attributes', '_cache', '_can_hold_identifiers_and_holds_name', '_can_hold_na', '_can_hold_strings', '_can_use_libjoin', '_check_indexing_error', '_check_indexing_method', '_cleanup', '_cmp_method', '_comparables', '_concat', '_construct_result', '_constructor', '_convert_can_do_setop', '_convert_slice_indexer', '_convert_tolerance', '_data', '_data_cls', '_default_dtype', '_deprecated_arg', '_deprecation_message', '_difference', '_difference_compat', '_dir_additions', '_dir_additions_for_owner', '_dir_deletions', '_drop_level_numbers', '_dtype_to_subclass', '_dtype_validation_metadata', '_duplicated', '_engine', '_engine_type', '_engine_types', '_ensure_array', '_ensure_dtype', '_extended_gcd', '_filter_indexer_tolerance', '_find_common_type_compat', '_format_attrs', '_format_data', '_format_duplicate_message', '_format_native_types', '_format_space', '_format_with_header', '_formatter_func', '_from_join_target', '_get_attributes_dict', '_get_data_as_items', '_get_engine_target', '_get_fill_indexer', '_get_fill_indexer_searchsorted', '_get_grouper_for_level', '_get_indexer', '_get_indexer_non_comparable', '_get_indexer_strict', '_get_level_number', '_get_level_values', '_get_names', '_get_nearest_indexer', '_get_reconciled_name_object', '_get_string_slice', '_get_values_for_loc', '_getitem_slice', '_hidden_attrs', '_id', '_index_as_unique', '_inner_indexer', '_intersection', '_intersection_via_get_indexer', '_invalid_indexer', '_is_all_dates', '_is_backward_compat_public_numeric_index', '_is_comparable_dtype', '_is_memory_usage_qualified', '_is_multi', '_is_numeric_dtype', '_is_strictly_monotonic_decreasing', '_is_strictly_monotonic_increasing', '_isnan', '_join_level', '_join_monotonic', '_join_multi', '_join_non_unique', '_join_precedence', '_join_via_get_indexer', '_left_indexer', '_left_indexer_unique', '_logical_method', '_map_values', '_maybe_cast_indexer', '_maybe_cast_listlike_indexer', '_maybe_cast_slice_bound', '_maybe_check_unique', '_maybe_disable_logical_methods', '_maybe_disallow_fill', '_maybe_preserve_names', '_maybe_promote', '_memory_usage', '_min_fitting_element', '_minmax', '_mpl_repr', '_na_value', '_name', '_no_setting_name', '_outer_indexer', '_raise_if_missing', '_range', '_reduce', '_reindex_non_unique', '_rename', '_require_scalar', '_requires_unique_msg', '_reset_cache', '_reset_identity', '_scalar_data_error', '_searchsorted_monotonic', '_set_names', '_shallow_copy', '_should_compare', '_should_fallback_to_positional', '_should_partial_index', '_simple_new', '_sort_levels_monotonic', '_start', '_step', '_stop', '_string_data_error', '_summary', '_supports_partial_string_indexing', '_transform_index', '_typ', '_unary_method', '_union', '_validate_can_reindex', '_validate_dtype', '_validate_fill_value', '_validate_index_level', '_validate_indexer', '_validate_names', '_validate_positional_slice', '_validate_sort_keyword', '_values', '_view', '_with_infer', '_wrap_difference_result', '_wrap_intersection_result', '_wrap_joined_index', '_wrap_reindex_result', '_wrap_setop_result', 'all', 'any', 'append', 'argmax', 'argmin', 'argsort', 'array', 'asi8', 'asof', 'asof_locs', 'astype', 'copy', 'delete', 'difference', 'drop', 'drop_duplicates', 'droplevel', 'dropna', 'dtype', 'duplicated', 'empty', 'equals', 'factorize', 'fillna', 'format', 'from_range', 'get_indexer', 'get_indexer_for', 'get_indexer_non_unique', 'get_level_values', 'get_loc', 'get_slice_bound', 'get_value', 'groupby', 'has_duplicates', 'hasnans', 'holds_integer', 'identical', 'inferred_type', 'insert', 'intersection', 'is_', 'is_all_dates', 'is_boolean', 'is_categorical', 'is_floating', 'is_integer', 'is_interval', 'is_mixed', 'is_monotonic', 'is_monotonic_decreasing', 'is_monotonic_increasing', 'is_numeric', 'is_object', 'is_type_compatible', 'is_unique', 'isin', 'isna', 'isnull', 'item', 'join', 'map', 'max', 'memory_usage', 'min', 'name', 'names', 'nbytes', 'ndim', 'nlevels', 'notna', 'notnull', 'nunique', 'putmask', 'ravel', 'reindex', 'rename', 'repeat', 'searchsorted', 'set_names', 'shape', 'shift', 'size', 'slice_indexer', 'slice_locs', 'sort', 'sort_values', 'sortlevel', 'start', 'step', 'stop', 'symmetric_difference', 'take', 'to_flat_index', 'to_frame', 'to_list', 'to_native_types', 'to_numpy', 'to_series', 'transpose', 'union', 'unique', 'value_counts', 'values', 'view', 'where']\n"
     ]
    }
   ],
   "source": [
    "print(dir(merged2.index))"
   ]
  },
  {
   "cell_type": "code",
   "execution_count": 69,
   "metadata": {},
   "outputs": [
    {
     "name": "stdout",
     "output_type": "stream",
     "text": [
      "None\n"
     ]
    }
   ],
   "source": [
    "index_name = merged2.index.name\n",
    "print(index_name)"
   ]
  },
  {
   "cell_type": "code",
   "execution_count": 70,
   "metadata": {},
   "outputs": [
    {
     "data": {
      "text/html": [
       "<div>\n",
       "<style scoped>\n",
       "    .dataframe tbody tr th:only-of-type {\n",
       "        vertical-align: middle;\n",
       "    }\n",
       "\n",
       "    .dataframe tbody tr th {\n",
       "        vertical-align: top;\n",
       "    }\n",
       "\n",
       "    .dataframe thead th {\n",
       "        text-align: right;\n",
       "    }\n",
       "</style>\n",
       "<table border=\"1\" class=\"dataframe\">\n",
       "  <thead>\n",
       "    <tr style=\"text-align: right;\">\n",
       "      <th></th>\n",
       "      <th>Postcode</th>\n",
       "      <th>Mean_consumption</th>\n",
       "      <th>Median_consumption</th>\n",
       "      <th>Areacode</th>\n",
       "      <th>longitude</th>\n",
       "      <th>latitude</th>\n",
       "    </tr>\n",
       "    <tr>\n",
       "      <th>id</th>\n",
       "      <th></th>\n",
       "      <th></th>\n",
       "      <th></th>\n",
       "      <th></th>\n",
       "      <th></th>\n",
       "      <th></th>\n",
       "    </tr>\n",
       "  </thead>\n",
       "  <tbody>\n",
       "    <tr>\n",
       "      <th>0</th>\n",
       "      <td>AB10 1AU</td>\n",
       "      <td>3099.678261</td>\n",
       "      <td>1735.70</td>\n",
       "      <td>AB</td>\n",
       "      <td>-2.096316</td>\n",
       "      <td>57.147756</td>\n",
       "    </tr>\n",
       "    <tr>\n",
       "      <th>1</th>\n",
       "      <td>AB10 1BA</td>\n",
       "      <td>2944.905882</td>\n",
       "      <td>2518.40</td>\n",
       "      <td>AB</td>\n",
       "      <td>-2.098699</td>\n",
       "      <td>57.148823</td>\n",
       "    </tr>\n",
       "    <tr>\n",
       "      <th>2</th>\n",
       "      <td>AB10 1BB</td>\n",
       "      <td>2523.860000</td>\n",
       "      <td>2820.80</td>\n",
       "      <td>AB</td>\n",
       "      <td>-2.097108</td>\n",
       "      <td>57.147207</td>\n",
       "    </tr>\n",
       "    <tr>\n",
       "      <th>3</th>\n",
       "      <td>AB10 1FG</td>\n",
       "      <td>2363.820833</td>\n",
       "      <td>2087.20</td>\n",
       "      <td>AB</td>\n",
       "      <td>-2.097363</td>\n",
       "      <td>57.149965</td>\n",
       "    </tr>\n",
       "    <tr>\n",
       "      <th>4</th>\n",
       "      <td>AB10 1FL</td>\n",
       "      <td>4051.692857</td>\n",
       "      <td>3536.50</td>\n",
       "      <td>AB</td>\n",
       "      <td>-2.096868</td>\n",
       "      <td>57.150190</td>\n",
       "    </tr>\n",
       "    <tr>\n",
       "      <th>...</th>\n",
       "      <td>...</td>\n",
       "      <td>...</td>\n",
       "      <td>...</td>\n",
       "      <td>...</td>\n",
       "      <td>...</td>\n",
       "      <td>...</td>\n",
       "    </tr>\n",
       "    <tr>\n",
       "      <th>1186885</th>\n",
       "      <td>ZE3 9JU</td>\n",
       "      <td>2881.250000</td>\n",
       "      <td>2694.25</td>\n",
       "      <td>ZE</td>\n",
       "      <td>-1.307206</td>\n",
       "      <td>59.889544</td>\n",
       "    </tr>\n",
       "    <tr>\n",
       "      <th>1186886</th>\n",
       "      <td>ZE3 9JW</td>\n",
       "      <td>6380.195833</td>\n",
       "      <td>5010.25</td>\n",
       "      <td>ZE</td>\n",
       "      <td>-1.305697</td>\n",
       "      <td>59.873651</td>\n",
       "    </tr>\n",
       "    <tr>\n",
       "      <th>1186887</th>\n",
       "      <td>ZE3 9JX</td>\n",
       "      <td>2943.266667</td>\n",
       "      <td>2085.20</td>\n",
       "      <td>ZE</td>\n",
       "      <td>-1.307502</td>\n",
       "      <td>59.875286</td>\n",
       "    </tr>\n",
       "    <tr>\n",
       "      <th>1186888</th>\n",
       "      <td>ZE3 9JY</td>\n",
       "      <td>3675.183333</td>\n",
       "      <td>3412.75</td>\n",
       "      <td>ZE</td>\n",
       "      <td>-1.313847</td>\n",
       "      <td>59.891572</td>\n",
       "    </tr>\n",
       "    <tr>\n",
       "      <th>1186889</th>\n",
       "      <td>ZE3 9JZ</td>\n",
       "      <td>3725.250000</td>\n",
       "      <td>2972.30</td>\n",
       "      <td>ZE</td>\n",
       "      <td>-1.310899</td>\n",
       "      <td>59.892392</td>\n",
       "    </tr>\n",
       "  </tbody>\n",
       "</table>\n",
       "<p>1186890 rows × 6 columns</p>\n",
       "</div>"
      ],
      "text/plain": [
       "         Postcode  Mean_consumption  Median_consumption Areacode  longitude  \\\n",
       "id                                                                            \n",
       "0        AB10 1AU       3099.678261             1735.70       AB  -2.096316   \n",
       "1        AB10 1BA       2944.905882             2518.40       AB  -2.098699   \n",
       "2        AB10 1BB       2523.860000             2820.80       AB  -2.097108   \n",
       "3        AB10 1FG       2363.820833             2087.20       AB  -2.097363   \n",
       "4        AB10 1FL       4051.692857             3536.50       AB  -2.096868   \n",
       "...           ...               ...                 ...      ...        ...   \n",
       "1186885   ZE3 9JU       2881.250000             2694.25       ZE  -1.307206   \n",
       "1186886   ZE3 9JW       6380.195833             5010.25       ZE  -1.305697   \n",
       "1186887   ZE3 9JX       2943.266667             2085.20       ZE  -1.307502   \n",
       "1186888   ZE3 9JY       3675.183333             3412.75       ZE  -1.313847   \n",
       "1186889   ZE3 9JZ       3725.250000             2972.30       ZE  -1.310899   \n",
       "\n",
       "          latitude  \n",
       "id                  \n",
       "0        57.147756  \n",
       "1        57.148823  \n",
       "2        57.147207  \n",
       "3        57.149965  \n",
       "4        57.150190  \n",
       "...            ...  \n",
       "1186885  59.889544  \n",
       "1186886  59.873651  \n",
       "1186887  59.875286  \n",
       "1186888  59.891572  \n",
       "1186889  59.892392  \n",
       "\n",
       "[1186890 rows x 6 columns]"
      ]
     },
     "execution_count": 70,
     "metadata": {},
     "output_type": "execute_result"
    }
   ],
   "source": [
    "merged2 =merged2.rename_axis('id')\n",
    "merged2"
   ]
  },
  {
   "cell_type": "code",
   "execution_count": 71,
   "metadata": {},
   "outputs": [],
   "source": [
    "merged2.to_csv('Final_UKelectricty_AtoZ.csv')"
   ]
  },
  {
   "cell_type": "markdown",
   "metadata": {},
   "source": [
    "Plotting dataset"
   ]
  },
  {
   "cell_type": "code",
   "execution_count": 19,
   "metadata": {},
   "outputs": [],
   "source": [
    "# plotting\n",
    "fig = px.scatter_mapbox(merged2, lat=\"latitude\", lon=\"longitude\", color=\"Median_consumption\", zoom=5, mapbox_style=\"open-street-map\",\n",
    "                        hover_name=\"Postcode\",hover_data=['Median_consumption'])\n",
    "fig.write_image(\"elec.jpg\") "
   ]
  },
  {
   "cell_type": "markdown",
   "metadata": {},
   "source": [
    "**Exploring regions by postcode with energy consumption**"
   ]
  },
  {
   "cell_type": "markdown",
   "metadata": {},
   "source": [
    "To explore which postcode in a region within the top percentile of highest net energy consumption, let's start by grouping based on postcode and finding the postcode in the top percentile for the year. "
   ]
  },
  {
   "cell_type": "code",
   "execution_count": 20,
   "metadata": {},
   "outputs": [
    {
     "name": "stdout",
     "output_type": "stream",
     "text": [
      "      Postcode  Mean_consumption  Median_consumption  longitude   latitude\n",
      "0      CV1 1EX       2268.500000              808.50  -1.513706  52.405146\n",
      "1      CV1 1FE       1866.100000             1920.00  -1.508911  52.409370\n",
      "2      CV1 1FZ       2266.126667             2164.95  -1.512787  52.409844\n",
      "3      CV1 1GF       7054.376923             7221.50  -1.514060  52.409085\n",
      "4      CV1 1HN       3944.540000             1615.20  -1.511051  52.409999\n",
      "...        ...               ...                 ...        ...        ...\n",
      "14008  CV9 3SN       3477.914286             3101.80  -1.549200  52.585752\n",
      "14009  CV9 3SR       3590.500000             2708.95  -1.547766  52.587392\n",
      "14010  CV9 3SU       4581.966667             3969.60  -1.519477  52.570667\n",
      "14011  CV9 3SX       3209.177778             2870.10  -1.568798  52.658256\n",
      "14012  CV9 3SY       3736.900000             3077.45  -1.516771  52.612801\n",
      "\n",
      "[14013 rows x 5 columns]\n"
     ]
    }
   ],
   "source": [
    "# Stating our SQL query for DataFrame and querying COV postcode\n",
    "sql_query = \"Select * from merged2 where postcode like 'CV%'\"\n",
    "cov_cons = ps.sqldf(sql_query,locals())\n",
    "print(cov_cons)"
   ]
  },
  {
   "cell_type": "code",
   "execution_count": 21,
   "metadata": {},
   "outputs": [
    {
     "data": {
      "text/plain": [
       "2970.9"
      ]
     },
     "execution_count": 21,
     "metadata": {},
     "output_type": "execute_result"
    }
   ],
   "source": [
    "# Median consumption for postcodes A-K per year (2021)\n",
    "merged2['Median_consumption'].median()"
   ]
  },
  {
   "cell_type": "code",
   "execution_count": 22,
   "metadata": {},
   "outputs": [
    {
     "data": {
      "text/plain": [
       "8509.227999999972"
      ]
     },
     "execution_count": 22,
     "metadata": {},
     "output_type": "execute_result"
    }
   ],
   "source": [
    "# top percentile of energy consumption of energy consumption in Coventry 'CV'\n",
    "# threshhold for the top 1% \n",
    "cov_cons['Median_consumption'].quantile(0.99)"
   ]
  },
  {
   "cell_type": "code",
   "execution_count": 23,
   "metadata": {},
   "outputs": [
    {
     "name": "stderr",
     "output_type": "stream",
     "text": [
      "C:\\Users\\KingRemy\\AppData\\Local\\Temp\\ipykernel_20772\\1137586535.py:2: UserWarning:\n",
      "\n",
      "Boolean Series key will be reindexed to match DataFrame index.\n",
      "\n"
     ]
    },
    {
     "data": {
      "text/html": [
       "<div>\n",
       "<style scoped>\n",
       "    .dataframe tbody tr th:only-of-type {\n",
       "        vertical-align: middle;\n",
       "    }\n",
       "\n",
       "    .dataframe tbody tr th {\n",
       "        vertical-align: top;\n",
       "    }\n",
       "\n",
       "    .dataframe thead th {\n",
       "        text-align: right;\n",
       "    }\n",
       "</style>\n",
       "<table border=\"1\" class=\"dataframe\">\n",
       "  <thead>\n",
       "    <tr style=\"text-align: right;\">\n",
       "      <th></th>\n",
       "      <th>Postcode</th>\n",
       "      <th>Mean_consumption</th>\n",
       "      <th>Median_consumption</th>\n",
       "      <th>longitude</th>\n",
       "      <th>latitude</th>\n",
       "    </tr>\n",
       "  </thead>\n",
       "  <tbody>\n",
       "    <tr>\n",
       "      <th>536</th>\n",
       "      <td>CV10 0QA</td>\n",
       "      <td>3731.955556</td>\n",
       "      <td>3474.80</td>\n",
       "      <td>-1.537472</td>\n",
       "      <td>52.538843</td>\n",
       "    </tr>\n",
       "    <tr>\n",
       "      <th>681</th>\n",
       "      <td>CV10 7GS</td>\n",
       "      <td>2535.341177</td>\n",
       "      <td>2626.20</td>\n",
       "      <td>-1.477095</td>\n",
       "      <td>52.505373</td>\n",
       "    </tr>\n",
       "    <tr>\n",
       "      <th>1299</th>\n",
       "      <td>CV11 4SS</td>\n",
       "      <td>3096.941667</td>\n",
       "      <td>2831.80</td>\n",
       "      <td>-1.438392</td>\n",
       "      <td>52.500746</td>\n",
       "    </tr>\n",
       "    <tr>\n",
       "      <th>1305</th>\n",
       "      <td>CV11 4SZ</td>\n",
       "      <td>3659.133333</td>\n",
       "      <td>3000.70</td>\n",
       "      <td>-1.430259</td>\n",
       "      <td>52.502047</td>\n",
       "    </tr>\n",
       "    <tr>\n",
       "      <th>1310</th>\n",
       "      <td>CV11 4TG</td>\n",
       "      <td>3083.778788</td>\n",
       "      <td>2685.50</td>\n",
       "      <td>-1.429395</td>\n",
       "      <td>52.501593</td>\n",
       "    </tr>\n",
       "    <tr>\n",
       "      <th>...</th>\n",
       "      <td>...</td>\n",
       "      <td>...</td>\n",
       "      <td>...</td>\n",
       "      <td>...</td>\n",
       "      <td>...</td>\n",
       "    </tr>\n",
       "    <tr>\n",
       "      <th>13840</th>\n",
       "      <td>CV9 2LE</td>\n",
       "      <td>5794.083333</td>\n",
       "      <td>5419.65</td>\n",
       "      <td>-1.589913</td>\n",
       "      <td>52.569251</td>\n",
       "    </tr>\n",
       "    <tr>\n",
       "      <th>13983</th>\n",
       "      <td>CV9 3PJ</td>\n",
       "      <td>10693.760000</td>\n",
       "      <td>8577.30</td>\n",
       "      <td>-1.501463</td>\n",
       "      <td>52.640795</td>\n",
       "    </tr>\n",
       "    <tr>\n",
       "      <th>13991</th>\n",
       "      <td>CV9 3QE</td>\n",
       "      <td>9667.255556</td>\n",
       "      <td>8228.90</td>\n",
       "      <td>-1.522164</td>\n",
       "      <td>52.657394</td>\n",
       "    </tr>\n",
       "    <tr>\n",
       "      <th>13997</th>\n",
       "      <td>CV9 3QZ</td>\n",
       "      <td>10117.560000</td>\n",
       "      <td>9774.00</td>\n",
       "      <td>-1.525466</td>\n",
       "      <td>52.600807</td>\n",
       "    </tr>\n",
       "    <tr>\n",
       "      <th>14000</th>\n",
       "      <td>CV9 3RE</td>\n",
       "      <td>8306.750000</td>\n",
       "      <td>6478.10</td>\n",
       "      <td>-1.509727</td>\n",
       "      <td>52.608798</td>\n",
       "    </tr>\n",
       "  </tbody>\n",
       "</table>\n",
       "<p>138 rows × 5 columns</p>\n",
       "</div>"
      ],
      "text/plain": [
       "       Postcode  Mean_consumption  Median_consumption  longitude   latitude\n",
       "536    CV10 0QA       3731.955556             3474.80  -1.537472  52.538843\n",
       "681    CV10 7GS       2535.341177             2626.20  -1.477095  52.505373\n",
       "1299   CV11 4SS       3096.941667             2831.80  -1.438392  52.500746\n",
       "1305   CV11 4SZ       3659.133333             3000.70  -1.430259  52.502047\n",
       "1310   CV11 4TG       3083.778788             2685.50  -1.429395  52.501593\n",
       "...         ...               ...                 ...        ...        ...\n",
       "13840   CV9 2LE       5794.083333             5419.65  -1.589913  52.569251\n",
       "13983   CV9 3PJ      10693.760000             8577.30  -1.501463  52.640795\n",
       "13991   CV9 3QE       9667.255556             8228.90  -1.522164  52.657394\n",
       "13997   CV9 3QZ      10117.560000             9774.00  -1.525466  52.600807\n",
       "14000   CV9 3RE       8306.750000             6478.10  -1.509727  52.608798\n",
       "\n",
       "[138 rows x 5 columns]"
      ]
     },
     "execution_count": 23,
     "metadata": {},
     "output_type": "execute_result"
    }
   ],
   "source": [
    "# Data frame consisting of top consuming house holds in Coventry\n",
    "cov_high_consumption = cov_cons[merged2['Median_consumption'] > cov_cons['Median_consumption'].quantile(0.99)]\n",
    "cov_high_consumption"
   ]
  },
  {
   "cell_type": "code",
   "execution_count": 24,
   "metadata": {},
   "outputs": [
    {
     "data": {
      "application/vnd.plotly.v1+json": {
       "config": {
        "plotlyServerURL": "https://plot.ly"
       },
       "data": [
        {
         "customdata": [
          [
           3474.8
          ],
          [
           2626.2
          ],
          [
           2831.8
          ],
          [
           3000.7
          ],
          [
           2685.5
          ],
          [
           3251.15
          ],
          [
           4456.7
          ],
          [
           2110.9
          ],
          [
           3112.6
          ],
          [
           5303.6
          ],
          [
           4031.55
          ],
          [
           5138.1
          ],
          [
           2443.7
          ],
          [
           3252.95
          ],
          [
           3412.6
          ],
          [
           3116.6
          ],
          [
           1916.85
          ],
          [
           2529.05
          ],
          [
           3055.9
          ],
          [
           3636.7
          ],
          [
           3705
          ],
          [
           3168.65
          ],
          [
           3841.2
          ],
          [
           1571.5
          ],
          [
           2942.6
          ],
          [
           3553.1
          ],
          [
           3680.1
          ],
          [
           3306.1
          ],
          [
           2762.9
          ],
          [
           3442.15
          ],
          [
           3075.6
          ],
          [
           2513.4
          ],
          [
           2100.35
          ],
          [
           3530.1
          ],
          [
           2974.3
          ],
          [
           3305
          ],
          [
           2762.87
          ],
          [
           3066
          ],
          [
           2906.6
          ],
          [
           2580.45
          ],
          [
           2215.7
          ],
          [
           2707.6
          ],
          [
           1883.9
          ],
          [
           3375.3
          ],
          [
           2108.8
          ],
          [
           2476.4
          ],
          [
           2918.7
          ],
          [
           2147.2
          ],
          [
           2418.9
          ],
          [
           1856.6
          ],
          [
           2712.4
          ],
          [
           3364.5
          ],
          [
           3194.6
          ],
          [
           3757.7
          ],
          [
           5899.95
          ],
          [
           3718.8
          ],
          [
           3457.05
          ],
          [
           2300.65
          ],
          [
           4857.25
          ],
          [
           2974.7
          ],
          [
           4585.55
          ],
          [
           2410.9
          ],
          [
           2121.45
          ],
          [
           2605.1
          ],
          [
           2971.85
          ],
          [
           3316.05
          ],
          [
           10109.4
          ],
          [
           2646.25
          ],
          [
           3759.6
          ],
          [
           3623.9
          ],
          [
           1922.6
          ],
          [
           2996.5
          ],
          [
           3767.9
          ],
          [
           4483.55
          ],
          [
           2674.3
          ],
          [
           3274.35
          ],
          [
           8182.2
          ],
          [
           1466
          ],
          [
           2002.25
          ],
          [
           2963.6
          ],
          [
           1125.65
          ],
          [
           4482.55
          ],
          [
           3651.15
          ],
          [
           3463.1
          ],
          [
           2666.2
          ],
          [
           3996.4
          ],
          [
           2833.1
          ],
          [
           2719.8
          ],
          [
           3004.8
          ],
          [
           4286.7
          ],
          [
           2458.7
          ],
          [
           2739.3
          ],
          [
           3009.2
          ],
          [
           2827.2
          ],
          [
           2713
          ],
          [
           5191.2
          ],
          [
           1886.7
          ],
          [
           1997.1
          ],
          [
           3908.8
          ],
          [
           3179.7
          ],
          [
           4099.3
          ],
          [
           2763.4
          ],
          [
           3181.5
          ],
          [
           2196.3541667
          ],
          [
           3647
          ],
          [
           3263.2
          ],
          [
           2757.5
          ],
          [
           3621.4
          ],
          [
           2947.1
          ],
          [
           2370.85
          ],
          [
           3635.1
          ],
          [
           2843.45
          ],
          [
           2818
          ],
          [
           2050.8
          ],
          [
           3018.2
          ],
          [
           3491.8
          ],
          [
           3061.5
          ],
          [
           2528
          ],
          [
           3279.9
          ],
          [
           3099.95
          ],
          [
           2677.2
          ],
          [
           4174.05
          ],
          [
           2279.7
          ],
          [
           3969.95
          ],
          [
           3815.8
          ],
          [
           4147.65
          ],
          [
           3185.9
          ],
          [
           3181.25
          ],
          [
           4510.2
          ],
          [
           5131.4
          ],
          [
           4379.05
          ],
          [
           1636.25
          ],
          [
           2245.35
          ],
          [
           5419.65
          ],
          [
           8577.3
          ],
          [
           8228.9
          ],
          [
           9774
          ],
          [
           6478.1
          ]
         ],
         "hovertemplate": "<b>%{hovertext}</b><br><br>latitude=%{lat}<br>longitude=%{lon}<br>Median_consumption=%{marker.color}<extra></extra>",
         "hovertext": [
          "CV10 0QA",
          "CV10 7GS",
          "CV11 4SS",
          "CV11 4SZ",
          "CV11 4TG",
          "CV11 5RD",
          "CV11 5RU",
          "CV11 6AH",
          "CV11 6AL",
          "CV11 6DY",
          "CV11 6EJ",
          "CV11 6ES",
          "CV11 6NU",
          "CV11 6PL",
          "CV11 6QD",
          "CV12 9AF",
          "CV12 9EY",
          "CV13 0JL",
          "CV13 0JQ",
          "CV13 0LH",
          "CV2 3AW",
          "CV2 3NX",
          "CV2 4DR",
          "CV2 4GW",
          "CV21 1JU",
          "CV21 4EN",
          "CV21 4PF",
          "CV23 0FD",
          "CV23 0FN",
          "CV23 0LL",
          "CV23 0LN",
          "CV23 0PW",
          "CV3 1GU",
          "CV3 1LE",
          "CV3 1LJ",
          "CV3 1LN",
          "CV3 1LR",
          "CV3 1LX",
          "CV3 2AZ",
          "CV3 2GS",
          "CV3 2HA",
          "CV3 2HY",
          "CV3 2ND",
          "CV3 2NL",
          "CV3 3EY",
          "CV3 3FH",
          "CV3 3FL",
          "CV3 3FN",
          "CV3 3GT",
          "CV3 5LZ",
          "CV3 6BX",
          "CV3 6EF",
          "CV3 6FB",
          "CV3 6PF",
          "CV31 1JP",
          "CV31 1NR",
          "CV31 2HP",
          "CV31 2HQ",
          "CV32 4EU",
          "CV32 4EX",
          "CV32 4SX",
          "CV32 5BL",
          "CV32 5WB",
          "CV32 6AA",
          "CV32 6BQ",
          "CV32 6EY",
          "CV32 6QN",
          "CV32 7DA",
          "CV32 7ET",
          "CV32 7JE",
          "CV33 9SN",
          "CV34 6AP",
          "CV34 6BG",
          "CV34 6FH",
          "CV34 6JR",
          "CV34 6QJ",
          "CV34 6UA",
          "CV34 7AZ",
          "CV34 7BA",
          "CV34 8AB",
          "CV34 8AX",
          "CV35 0PG",
          "CV35 7JS",
          "CV35 7QJ",
          "CV35 8BH",
          "CV35 8JE",
          "CV37 6SY",
          "CV37 7RS",
          "CV37 8FZ",
          "CV4 7AW",
          "CV4 8FX",
          "CV4 9EZ",
          "CV4 9FH",
          "CV4 9HJ",
          "CV4 9HW",
          "CV4 9SP",
          "CV4 9WA",
          "CV47 1AF",
          "CV47 1EH",
          "CV47 1PE",
          "CV47 8FD",
          "CV47 9AQ",
          "CV5 6AL",
          "CV5 7GH",
          "CV5 9BD",
          "CV5 9FP",
          "CV6 1BQ",
          "CV6 2FW",
          "CV6 2HF",
          "CV6 2HN",
          "CV6 2HP",
          "CV6 2HR",
          "CV6 2HY",
          "CV6 2NH",
          "CV6 2NY",
          "CV6 2PG",
          "CV6 3BL",
          "CV6 3GL",
          "CV6 3LL",
          "CV6 3LP",
          "CV6 4AD",
          "CV6 4EB",
          "CV7 7JB",
          "CV8 1AH",
          "CV8 1HE",
          "CV8 3HU",
          "CV9 1QR",
          "CV9 1RL",
          "CV9 1RS",
          "CV9 1RT",
          "CV9 1SA",
          "CV9 1SD",
          "CV9 2AP",
          "CV9 2LE",
          "CV9 3PJ",
          "CV9 3QE",
          "CV9 3QZ",
          "CV9 3RE"
         ],
         "lat": [
          52.53884262539757,
          52.50537344627676,
          52.50074612398843,
          52.50204677698683,
          52.50159311741829,
          52.51910977758786,
          52.51717757907267,
          52.529729650887084,
          52.5319170826783,
          52.53531433259179,
          52.53122511188459,
          52.531071206374165,
          52.50832738277507,
          52.50910775225084,
          52.507388883637056,
          52.48924539494178,
          52.475291792963596,
          52.64518357604476,
          52.64523425297944,
          52.62835952602031,
          52.4222089292409,
          52.42136097044108,
          52.40688768143353,
          52.412998117655626,
          52.3875782354907,
          52.36042333890491,
          52.35972405374833,
          52.39658385798378,
          52.39568196412478,
          52.41660293372005,
          52.4108045169414,
          52.401036330269676,
          52.405040312324815,
          52.40000806971676,
          52.40519235111343,
          52.40523319652785,
          52.40343502639105,
          52.404099440257525,
          52.3938843575454,
          52.394830801905755,
          52.39859700279956,
          52.40429048576518,
          52.39312989058306,
          52.391058305399085,
          52.38664656768529,
          52.385783141750885,
          52.3867008643222,
          52.38499084999074,
          52.383543019691174,
          52.38407100234171,
          52.381453766922796,
          52.37941404246148,
          52.37358828325921,
          52.38315917017081,
          52.28285136904806,
          52.28248526727941,
          52.26987755387839,
          52.27175278541046,
          52.290509341946354,
          52.29106677700785,
          52.29295195930607,
          52.29185968855277,
          52.29900633106428,
          52.28981179750842,
          52.2927075403642,
          52.2956667815288,
          52.31927239075564,
          52.303815176824436,
          52.31062345051388,
          52.309956804373975,
          52.24472968023198,
          52.276404284800705,
          52.27214203913599,
          52.26551433283599,
          52.273493659333106,
          52.28311302215296,
          52.2617030773802,
          52.26904735278226,
          52.26643477196583,
          52.27811085191918,
          52.28049087429141,
          52.12574404268054,
          52.29701512670244,
          52.319540673677274,
          52.211891504919784,
          52.265553520111105,
          52.20154437597663,
          52.18366020798818,
          52.16967031464205,
          52.38735538126352,
          52.3960921803651,
          52.403847503985595,
          52.40510495639763,
          52.398620621463294,
          52.39983098013098,
          52.40309439744759,
          52.40929230981227,
          52.249096636594636,
          52.257756507045094,
          52.25129230557029,
          52.26963042504315,
          52.27955409162159,
          52.395640674369865,
          52.41611740634111,
          52.424696309549134,
          52.44193729898033,
          52.41663582041619,
          52.44226785267275,
          52.43977666633227,
          52.44030046634397,
          52.439902547094185,
          52.44189909237807,
          52.44408844843997,
          52.439634217071166,
          52.44925628006721,
          52.43897448744556,
          52.42736982355696,
          52.42685675625416,
          52.425598620353604,
          52.42629348647649,
          52.434315270005214,
          52.44206830321694,
          52.382659638084604,
          52.353151293871974,
          52.34157272454562,
          52.38486675971465,
          52.5676756850052,
          52.5692236631154,
          52.57014266910567,
          52.56885561110006,
          52.57294368779953,
          52.57712048807884,
          52.57169561788215,
          52.569250854260375,
          52.64079458600989,
          52.65739405273034,
          52.60080746832442,
          52.608798309335405
         ],
         "legendgroup": "",
         "lon": [
          -1.5374724398493402,
          -1.4770953722611146,
          -1.4383924649460627,
          -1.4302587597983916,
          -1.4293954634947466,
          -1.4709342902607085,
          -1.4690711921220725,
          -1.4537073078594758,
          -1.4543288082836443,
          -1.4444532865570965,
          -1.4389915809793168,
          -1.4368707859535885,
          -1.4351723269931163,
          -1.4404813039362658,
          -1.443921276680826,
          -1.461071761009633,
          -1.460844652508303,
          -1.3696962286796952,
          -1.3707744230818173,
          -1.4036670741844448,
          -1.4538160969616045,
          -1.4709869809290357,
          -1.4813323801575962,
          -1.488935142514313,
          -1.2474314044463894,
          -1.220432381745967,
          -1.2180070682844113,
          -1.231641029503061,
          -1.235360170038968,
          -1.3562709400068074,
          -1.3612949575111017,
          -1.2209957483640461,
          -1.472211079227876,
          -1.4667006983417084,
          -1.4680199536764456,
          -1.46910721485535,
          -1.4710837234365883,
          -1.4688856339994074,
          -1.418705171280106,
          -1.453154670912253,
          -1.4510652311793002,
          -1.4401319986628558,
          -1.4566731750245012,
          -1.4235768301241352,
          -1.4563707143951414,
          -1.4543390020431313,
          -1.4525498139272668,
          -1.4521448697503838,
          -1.469808060426097,
          -1.5044902926383246,
          -1.535224658860181,
          -1.5241839322165258,
          -1.5131123833599165,
          -1.525480665387368,
          -1.5223892103680228,
          -1.5120001443880895,
          -1.5244336580578426,
          -1.519064478902981,
          -1.526412069997857,
          -1.5264207901467135,
          -1.5257262386202062,
          -1.5451793900685278,
          -1.5289463628128714,
          -1.5551258991249326,
          -1.5577507334591854,
          -1.5462694678096827,
          -1.5455147394582567,
          -1.5219878099278898,
          -1.5160033272928854,
          -1.5113022465482726,
          -1.5468474936138612,
          -1.5942760459371481,
          -1.5966597712404014,
          -1.541902813798434,
          -1.6002088384127007,
          -1.5620826139037436,
          -1.6069813682854206,
          -1.5583817306065626,
          -1.554553839411267,
          -1.5539238521466003,
          -1.5532843330488793,
          -1.574303765556283,
          -1.6343976033933196,
          -1.579123006847602,
          -1.6305446931063996,
          -1.6662921323083866,
          -1.707887187246139,
          -1.6826426554735083,
          -1.7177605881033975,
          -1.538556885211783,
          -1.5641989848870046,
          -1.5707076978095174,
          -1.563022486700325,
          -1.5848088188985263,
          -1.5942185596403615,
          -1.5942180365206853,
          -1.5979392634852765,
          -1.376655347462415,
          -1.3856320197326686,
          -1.3873472671229465,
          -1.3647757744549998,
          -1.3848323919755632,
          -1.5422474261711536,
          -1.5802778526402965,
          -1.568431817065686,
          -1.558141949366811,
          -1.5361342378258174,
          -1.529612782863599,
          -1.5271237490510932,
          -1.52323444295654,
          -1.5226503013479167,
          -1.5228346963614292,
          -1.524017459373826,
          -1.5297290789155047,
          -1.5281405521819968,
          -1.5333990245842404,
          -1.5247563155943364,
          -1.5157320288310119,
          -1.5136575418408273,
          -1.5142969774431618,
          -1.5062365572770182,
          -1.5136087067673811,
          -1.641477743097407,
          -1.5856605218850461,
          -1.5782681420625553,
          -1.398841592193196,
          -1.5357825071788065,
          -1.531649780213354,
          -1.5253841291382157,
          -1.5272570163478942,
          -1.5403748380004878,
          -1.5441236654276975,
          -1.5477800917775384,
          -1.5899133703096722,
          -1.501462798404947,
          -1.5221635466793197,
          -1.5254663642566841,
          -1.5097266012679476
         ],
         "marker": {
          "color": [
           3474.8,
           2626.2,
           2831.8,
           3000.7,
           2685.5,
           3251.15,
           4456.7,
           2110.9,
           3112.6,
           5303.6,
           4031.55,
           5138.1,
           2443.7,
           3252.95,
           3412.6,
           3116.6,
           1916.85,
           2529.05,
           3055.9,
           3636.7,
           3705,
           3168.65,
           3841.2,
           1571.5,
           2942.6,
           3553.1,
           3680.1,
           3306.1,
           2762.9,
           3442.15,
           3075.6,
           2513.4,
           2100.35,
           3530.1,
           2974.3,
           3305,
           2762.87,
           3066,
           2906.6,
           2580.45,
           2215.7,
           2707.6,
           1883.9,
           3375.3,
           2108.8,
           2476.4,
           2918.7,
           2147.2,
           2418.9,
           1856.6,
           2712.4,
           3364.5,
           3194.6,
           3757.7,
           5899.95,
           3718.8,
           3457.05,
           2300.65,
           4857.25,
           2974.7,
           4585.55,
           2410.9,
           2121.45,
           2605.1,
           2971.85,
           3316.05,
           10109.4,
           2646.25,
           3759.6,
           3623.9,
           1922.6,
           2996.5,
           3767.9,
           4483.55,
           2674.3,
           3274.35,
           8182.2,
           1466,
           2002.25,
           2963.6,
           1125.65,
           4482.55,
           3651.15,
           3463.1,
           2666.2,
           3996.4,
           2833.1,
           2719.8,
           3004.8,
           4286.7,
           2458.7,
           2739.3,
           3009.2,
           2827.2,
           2713,
           5191.2,
           1886.7,
           1997.1,
           3908.8,
           3179.7,
           4099.3,
           2763.4,
           3181.5,
           2196.3541667,
           3647,
           3263.2,
           2757.5,
           3621.4,
           2947.1,
           2370.85,
           3635.1,
           2843.45,
           2818,
           2050.8,
           3018.2,
           3491.8,
           3061.5,
           2528,
           3279.9,
           3099.95,
           2677.2,
           4174.05,
           2279.7,
           3969.95,
           3815.8,
           4147.65,
           3185.9,
           3181.25,
           4510.2,
           5131.4,
           4379.05,
           1636.25,
           2245.35,
           5419.65,
           8577.3,
           8228.9,
           9774,
           6478.1
          ],
          "coloraxis": "coloraxis"
         },
         "mode": "markers",
         "name": "",
         "showlegend": false,
         "subplot": "mapbox",
         "type": "scattermapbox"
        }
       ],
       "layout": {
        "coloraxis": {
         "colorbar": {
          "title": {
           "text": "Median_consumption"
          }
         },
         "colorscale": [
          [
           0,
           "#0d0887"
          ],
          [
           0.1111111111111111,
           "#46039f"
          ],
          [
           0.2222222222222222,
           "#7201a8"
          ],
          [
           0.3333333333333333,
           "#9c179e"
          ],
          [
           0.4444444444444444,
           "#bd3786"
          ],
          [
           0.5555555555555556,
           "#d8576b"
          ],
          [
           0.6666666666666666,
           "#ed7953"
          ],
          [
           0.7777777777777778,
           "#fb9f3a"
          ],
          [
           0.8888888888888888,
           "#fdca26"
          ],
          [
           1,
           "#f0f921"
          ]
         ]
        },
        "legend": {
         "tracegroupgap": 0
        },
        "mapbox": {
         "center": {
          "lat": 52.40009779879419,
          "lon": -1.4990812718380764
         },
         "domain": {
          "x": [
           0,
           1
          ],
          "y": [
           0,
           1
          ]
         },
         "style": "open-street-map",
         "zoom": 5
        },
        "margin": {
         "t": 60
        },
        "template": {
         "data": {
          "bar": [
           {
            "error_x": {
             "color": "#2a3f5f"
            },
            "error_y": {
             "color": "#2a3f5f"
            },
            "marker": {
             "line": {
              "color": "#E5ECF6",
              "width": 0.5
             },
             "pattern": {
              "fillmode": "overlay",
              "size": 10,
              "solidity": 0.2
             }
            },
            "type": "bar"
           }
          ],
          "barpolar": [
           {
            "marker": {
             "line": {
              "color": "#E5ECF6",
              "width": 0.5
             },
             "pattern": {
              "fillmode": "overlay",
              "size": 10,
              "solidity": 0.2
             }
            },
            "type": "barpolar"
           }
          ],
          "carpet": [
           {
            "aaxis": {
             "endlinecolor": "#2a3f5f",
             "gridcolor": "white",
             "linecolor": "white",
             "minorgridcolor": "white",
             "startlinecolor": "#2a3f5f"
            },
            "baxis": {
             "endlinecolor": "#2a3f5f",
             "gridcolor": "white",
             "linecolor": "white",
             "minorgridcolor": "white",
             "startlinecolor": "#2a3f5f"
            },
            "type": "carpet"
           }
          ],
          "choropleth": [
           {
            "colorbar": {
             "outlinewidth": 0,
             "ticks": ""
            },
            "type": "choropleth"
           }
          ],
          "contour": [
           {
            "colorbar": {
             "outlinewidth": 0,
             "ticks": ""
            },
            "colorscale": [
             [
              0,
              "#0d0887"
             ],
             [
              0.1111111111111111,
              "#46039f"
             ],
             [
              0.2222222222222222,
              "#7201a8"
             ],
             [
              0.3333333333333333,
              "#9c179e"
             ],
             [
              0.4444444444444444,
              "#bd3786"
             ],
             [
              0.5555555555555556,
              "#d8576b"
             ],
             [
              0.6666666666666666,
              "#ed7953"
             ],
             [
              0.7777777777777778,
              "#fb9f3a"
             ],
             [
              0.8888888888888888,
              "#fdca26"
             ],
             [
              1,
              "#f0f921"
             ]
            ],
            "type": "contour"
           }
          ],
          "contourcarpet": [
           {
            "colorbar": {
             "outlinewidth": 0,
             "ticks": ""
            },
            "type": "contourcarpet"
           }
          ],
          "heatmap": [
           {
            "colorbar": {
             "outlinewidth": 0,
             "ticks": ""
            },
            "colorscale": [
             [
              0,
              "#0d0887"
             ],
             [
              0.1111111111111111,
              "#46039f"
             ],
             [
              0.2222222222222222,
              "#7201a8"
             ],
             [
              0.3333333333333333,
              "#9c179e"
             ],
             [
              0.4444444444444444,
              "#bd3786"
             ],
             [
              0.5555555555555556,
              "#d8576b"
             ],
             [
              0.6666666666666666,
              "#ed7953"
             ],
             [
              0.7777777777777778,
              "#fb9f3a"
             ],
             [
              0.8888888888888888,
              "#fdca26"
             ],
             [
              1,
              "#f0f921"
             ]
            ],
            "type": "heatmap"
           }
          ],
          "heatmapgl": [
           {
            "colorbar": {
             "outlinewidth": 0,
             "ticks": ""
            },
            "colorscale": [
             [
              0,
              "#0d0887"
             ],
             [
              0.1111111111111111,
              "#46039f"
             ],
             [
              0.2222222222222222,
              "#7201a8"
             ],
             [
              0.3333333333333333,
              "#9c179e"
             ],
             [
              0.4444444444444444,
              "#bd3786"
             ],
             [
              0.5555555555555556,
              "#d8576b"
             ],
             [
              0.6666666666666666,
              "#ed7953"
             ],
             [
              0.7777777777777778,
              "#fb9f3a"
             ],
             [
              0.8888888888888888,
              "#fdca26"
             ],
             [
              1,
              "#f0f921"
             ]
            ],
            "type": "heatmapgl"
           }
          ],
          "histogram": [
           {
            "marker": {
             "pattern": {
              "fillmode": "overlay",
              "size": 10,
              "solidity": 0.2
             }
            },
            "type": "histogram"
           }
          ],
          "histogram2d": [
           {
            "colorbar": {
             "outlinewidth": 0,
             "ticks": ""
            },
            "colorscale": [
             [
              0,
              "#0d0887"
             ],
             [
              0.1111111111111111,
              "#46039f"
             ],
             [
              0.2222222222222222,
              "#7201a8"
             ],
             [
              0.3333333333333333,
              "#9c179e"
             ],
             [
              0.4444444444444444,
              "#bd3786"
             ],
             [
              0.5555555555555556,
              "#d8576b"
             ],
             [
              0.6666666666666666,
              "#ed7953"
             ],
             [
              0.7777777777777778,
              "#fb9f3a"
             ],
             [
              0.8888888888888888,
              "#fdca26"
             ],
             [
              1,
              "#f0f921"
             ]
            ],
            "type": "histogram2d"
           }
          ],
          "histogram2dcontour": [
           {
            "colorbar": {
             "outlinewidth": 0,
             "ticks": ""
            },
            "colorscale": [
             [
              0,
              "#0d0887"
             ],
             [
              0.1111111111111111,
              "#46039f"
             ],
             [
              0.2222222222222222,
              "#7201a8"
             ],
             [
              0.3333333333333333,
              "#9c179e"
             ],
             [
              0.4444444444444444,
              "#bd3786"
             ],
             [
              0.5555555555555556,
              "#d8576b"
             ],
             [
              0.6666666666666666,
              "#ed7953"
             ],
             [
              0.7777777777777778,
              "#fb9f3a"
             ],
             [
              0.8888888888888888,
              "#fdca26"
             ],
             [
              1,
              "#f0f921"
             ]
            ],
            "type": "histogram2dcontour"
           }
          ],
          "mesh3d": [
           {
            "colorbar": {
             "outlinewidth": 0,
             "ticks": ""
            },
            "type": "mesh3d"
           }
          ],
          "parcoords": [
           {
            "line": {
             "colorbar": {
              "outlinewidth": 0,
              "ticks": ""
             }
            },
            "type": "parcoords"
           }
          ],
          "pie": [
           {
            "automargin": true,
            "type": "pie"
           }
          ],
          "scatter": [
           {
            "fillpattern": {
             "fillmode": "overlay",
             "size": 10,
             "solidity": 0.2
            },
            "type": "scatter"
           }
          ],
          "scatter3d": [
           {
            "line": {
             "colorbar": {
              "outlinewidth": 0,
              "ticks": ""
             }
            },
            "marker": {
             "colorbar": {
              "outlinewidth": 0,
              "ticks": ""
             }
            },
            "type": "scatter3d"
           }
          ],
          "scattercarpet": [
           {
            "marker": {
             "colorbar": {
              "outlinewidth": 0,
              "ticks": ""
             }
            },
            "type": "scattercarpet"
           }
          ],
          "scattergeo": [
           {
            "marker": {
             "colorbar": {
              "outlinewidth": 0,
              "ticks": ""
             }
            },
            "type": "scattergeo"
           }
          ],
          "scattergl": [
           {
            "marker": {
             "colorbar": {
              "outlinewidth": 0,
              "ticks": ""
             }
            },
            "type": "scattergl"
           }
          ],
          "scattermapbox": [
           {
            "marker": {
             "colorbar": {
              "outlinewidth": 0,
              "ticks": ""
             }
            },
            "type": "scattermapbox"
           }
          ],
          "scatterpolar": [
           {
            "marker": {
             "colorbar": {
              "outlinewidth": 0,
              "ticks": ""
             }
            },
            "type": "scatterpolar"
           }
          ],
          "scatterpolargl": [
           {
            "marker": {
             "colorbar": {
              "outlinewidth": 0,
              "ticks": ""
             }
            },
            "type": "scatterpolargl"
           }
          ],
          "scatterternary": [
           {
            "marker": {
             "colorbar": {
              "outlinewidth": 0,
              "ticks": ""
             }
            },
            "type": "scatterternary"
           }
          ],
          "surface": [
           {
            "colorbar": {
             "outlinewidth": 0,
             "ticks": ""
            },
            "colorscale": [
             [
              0,
              "#0d0887"
             ],
             [
              0.1111111111111111,
              "#46039f"
             ],
             [
              0.2222222222222222,
              "#7201a8"
             ],
             [
              0.3333333333333333,
              "#9c179e"
             ],
             [
              0.4444444444444444,
              "#bd3786"
             ],
             [
              0.5555555555555556,
              "#d8576b"
             ],
             [
              0.6666666666666666,
              "#ed7953"
             ],
             [
              0.7777777777777778,
              "#fb9f3a"
             ],
             [
              0.8888888888888888,
              "#fdca26"
             ],
             [
              1,
              "#f0f921"
             ]
            ],
            "type": "surface"
           }
          ],
          "table": [
           {
            "cells": {
             "fill": {
              "color": "#EBF0F8"
             },
             "line": {
              "color": "white"
             }
            },
            "header": {
             "fill": {
              "color": "#C8D4E3"
             },
             "line": {
              "color": "white"
             }
            },
            "type": "table"
           }
          ]
         },
         "layout": {
          "annotationdefaults": {
           "arrowcolor": "#2a3f5f",
           "arrowhead": 0,
           "arrowwidth": 1
          },
          "autotypenumbers": "strict",
          "coloraxis": {
           "colorbar": {
            "outlinewidth": 0,
            "ticks": ""
           }
          },
          "colorscale": {
           "diverging": [
            [
             0,
             "#8e0152"
            ],
            [
             0.1,
             "#c51b7d"
            ],
            [
             0.2,
             "#de77ae"
            ],
            [
             0.3,
             "#f1b6da"
            ],
            [
             0.4,
             "#fde0ef"
            ],
            [
             0.5,
             "#f7f7f7"
            ],
            [
             0.6,
             "#e6f5d0"
            ],
            [
             0.7,
             "#b8e186"
            ],
            [
             0.8,
             "#7fbc41"
            ],
            [
             0.9,
             "#4d9221"
            ],
            [
             1,
             "#276419"
            ]
           ],
           "sequential": [
            [
             0,
             "#0d0887"
            ],
            [
             0.1111111111111111,
             "#46039f"
            ],
            [
             0.2222222222222222,
             "#7201a8"
            ],
            [
             0.3333333333333333,
             "#9c179e"
            ],
            [
             0.4444444444444444,
             "#bd3786"
            ],
            [
             0.5555555555555556,
             "#d8576b"
            ],
            [
             0.6666666666666666,
             "#ed7953"
            ],
            [
             0.7777777777777778,
             "#fb9f3a"
            ],
            [
             0.8888888888888888,
             "#fdca26"
            ],
            [
             1,
             "#f0f921"
            ]
           ],
           "sequentialminus": [
            [
             0,
             "#0d0887"
            ],
            [
             0.1111111111111111,
             "#46039f"
            ],
            [
             0.2222222222222222,
             "#7201a8"
            ],
            [
             0.3333333333333333,
             "#9c179e"
            ],
            [
             0.4444444444444444,
             "#bd3786"
            ],
            [
             0.5555555555555556,
             "#d8576b"
            ],
            [
             0.6666666666666666,
             "#ed7953"
            ],
            [
             0.7777777777777778,
             "#fb9f3a"
            ],
            [
             0.8888888888888888,
             "#fdca26"
            ],
            [
             1,
             "#f0f921"
            ]
           ]
          },
          "colorway": [
           "#636efa",
           "#EF553B",
           "#00cc96",
           "#ab63fa",
           "#FFA15A",
           "#19d3f3",
           "#FF6692",
           "#B6E880",
           "#FF97FF",
           "#FECB52"
          ],
          "font": {
           "color": "#2a3f5f"
          },
          "geo": {
           "bgcolor": "white",
           "lakecolor": "white",
           "landcolor": "#E5ECF6",
           "showlakes": true,
           "showland": true,
           "subunitcolor": "white"
          },
          "hoverlabel": {
           "align": "left"
          },
          "hovermode": "closest",
          "mapbox": {
           "style": "light"
          },
          "paper_bgcolor": "white",
          "plot_bgcolor": "#E5ECF6",
          "polar": {
           "angularaxis": {
            "gridcolor": "white",
            "linecolor": "white",
            "ticks": ""
           },
           "bgcolor": "#E5ECF6",
           "radialaxis": {
            "gridcolor": "white",
            "linecolor": "white",
            "ticks": ""
           }
          },
          "scene": {
           "xaxis": {
            "backgroundcolor": "#E5ECF6",
            "gridcolor": "white",
            "gridwidth": 2,
            "linecolor": "white",
            "showbackground": true,
            "ticks": "",
            "zerolinecolor": "white"
           },
           "yaxis": {
            "backgroundcolor": "#E5ECF6",
            "gridcolor": "white",
            "gridwidth": 2,
            "linecolor": "white",
            "showbackground": true,
            "ticks": "",
            "zerolinecolor": "white"
           },
           "zaxis": {
            "backgroundcolor": "#E5ECF6",
            "gridcolor": "white",
            "gridwidth": 2,
            "linecolor": "white",
            "showbackground": true,
            "ticks": "",
            "zerolinecolor": "white"
           }
          },
          "shapedefaults": {
           "line": {
            "color": "#2a3f5f"
           }
          },
          "ternary": {
           "aaxis": {
            "gridcolor": "white",
            "linecolor": "white",
            "ticks": ""
           },
           "baxis": {
            "gridcolor": "white",
            "linecolor": "white",
            "ticks": ""
           },
           "bgcolor": "#E5ECF6",
           "caxis": {
            "gridcolor": "white",
            "linecolor": "white",
            "ticks": ""
           }
          },
          "title": {
           "x": 0.05
          },
          "xaxis": {
           "automargin": true,
           "gridcolor": "white",
           "linecolor": "white",
           "ticks": "",
           "title": {
            "standoff": 15
           },
           "zerolinecolor": "white",
           "zerolinewidth": 2
          },
          "yaxis": {
           "automargin": true,
           "gridcolor": "white",
           "linecolor": "white",
           "ticks": "",
           "title": {
            "standoff": 15
           },
           "zerolinecolor": "white",
           "zerolinewidth": 2
          }
         }
        }
       }
      }
     },
     "metadata": {},
     "output_type": "display_data"
    }
   ],
   "source": [
    "fig = px.scatter_mapbox(cov_high_consumption, lat=\"latitude\", lon=\"longitude\", color=\"Median_consumption\", zoom=5, mapbox_style=\"open-street-map\",\n",
    "                        hover_name=\"Postcode\",hover_data=['Median_consumption'])\n",
    "fig.show()"
   ]
  },
  {
   "cell_type": "markdown",
   "metadata": {},
   "source": [
    "**Exploring UK postcode A-K energy consumption with the highest consuming household**"
   ]
  },
  {
   "cell_type": "code",
   "execution_count": 82,
   "metadata": {},
   "outputs": [
    {
     "data": {
      "text/plain": [
       "2970.9"
      ]
     },
     "execution_count": 82,
     "metadata": {},
     "output_type": "execute_result"
    }
   ],
   "source": [
    "# Median consumption for postcodes A-K per year (2021)\n",
    "merged['Median_consumption'].median()"
   ]
  },
  {
   "cell_type": "code",
   "execution_count": 83,
   "metadata": {},
   "outputs": [
    {
     "data": {
      "text/plain": [
       "8209.652000000002"
      ]
     },
     "execution_count": 83,
     "metadata": {},
     "output_type": "execute_result"
    }
   ],
   "source": [
    "# top percentile of energy consumption of energy consumption Postcode A-K\n",
    "# threshhold for the top 1% \n",
    "merged['Median_consumption'].quantile(0.99)"
   ]
  },
  {
   "cell_type": "code",
   "execution_count": 84,
   "metadata": {},
   "outputs": [],
   "source": [
    "# Data frame consisting of high consuming huse holds\n",
    "high_consumption = merged[merged['Median_consumption'] > merged['Median_consumption'].quantile(0.99)]"
   ]
  },
  {
   "cell_type": "code",
   "execution_count": 86,
   "metadata": {},
   "outputs": [
    {
     "data": {
      "application/vnd.plotly.v1+json": {
       "config": {
        "plotlyServerURL": "https://plot.ly"
       },
       "data": [
        {
         "customdata": [
          [
           8712.6
          ],
          [
           11354.85
          ],
          [
           11516
          ],
          [
           10541.6
          ],
          [
           11823.5
          ],
          [
           12530.4
          ],
          [
           10868.9
          ],
          [
           10953.65
          ],
          [
           8566.45
          ],
          [
           9758
          ],
          [
           9674.6
          ],
          [
           10588.5
          ],
          [
           8661.5
          ],
          [
           10137
          ],
          [
           9544.8
          ],
          [
           8278.8
          ],
          [
           8407.5
          ],
          [
           8556.7
          ],
          [
           8431.7
          ],
          [
           9522
          ],
          [
           9362.2
          ],
          [
           9013.5
          ],
          [
           12253.6
          ],
          [
           9349.9
          ],
          [
           11912.5
          ],
          [
           11438.5
          ],
          [
           8447
          ],
          [
           9142.7
          ],
          [
           8248.55
          ],
          [
           13251
          ],
          [
           10199.5
          ],
          [
           10439
          ],
          [
           8282.45
          ],
          [
           12743.9
          ],
          [
           13804.4
          ],
          [
           12003.8
          ],
          [
           12194.1
          ],
          [
           9265.3
          ],
          [
           17586.3
          ],
          [
           8956
          ],
          [
           11959.2
          ],
          [
           15217.7
          ],
          [
           9244.9
          ],
          [
           11094.1
          ],
          [
           8498.1
          ],
          [
           11154.4
          ],
          [
           8821.8
          ],
          [
           9023.8
          ],
          [
           11264.5
          ],
          [
           8869.85
          ],
          [
           9792.65
          ],
          [
           17089.6
          ],
          [
           8631.3
          ],
          [
           10230.9
          ],
          [
           18193.2
          ],
          [
           9436.2
          ],
          [
           10213.4
          ],
          [
           12543.3
          ],
          [
           9355.6
          ],
          [
           10209.1
          ],
          [
           13224.9
          ],
          [
           8356.7
          ],
          [
           8307.8
          ],
          [
           8442.95
          ],
          [
           9586.1
          ],
          [
           9211.3
          ],
          [
           8306.3
          ],
          [
           9222.5
          ],
          [
           8848.2
          ],
          [
           9347.8
          ],
          [
           10319.6
          ],
          [
           8298.2
          ],
          [
           10277.8
          ],
          [
           8635.3
          ],
          [
           8957.5
          ],
          [
           10575.7
          ],
          [
           10177.7
          ],
          [
           8395.5
          ],
          [
           10791.8
          ],
          [
           11200.7
          ],
          [
           9447.3
          ],
          [
           8456.7
          ],
          [
           8578.9
          ],
          [
           10291
          ],
          [
           9623.8
          ],
          [
           8829.4
          ],
          [
           9029.6
          ],
          [
           8688
          ],
          [
           11152.8
          ],
          [
           10511.9
          ],
          [
           8576.4
          ],
          [
           8430.6
          ],
          [
           9798.4
          ],
          [
           18480.7
          ],
          [
           9501.75
          ],
          [
           10663.4
          ],
          [
           8602.8
          ],
          [
           10019.45
          ],
          [
           8661.7
          ],
          [
           9775
          ],
          [
           9934.4
          ],
          [
           9740.5
          ],
          [
           8250.3
          ],
          [
           8585.2
          ],
          [
           9943.15
          ],
          [
           8349.2
          ],
          [
           8266.65
          ],
          [
           9380.2
          ],
          [
           11539.15
          ],
          [
           11348.1
          ],
          [
           14030.3
          ],
          [
           8486
          ],
          [
           8577.7
          ],
          [
           8823.15
          ],
          [
           8805.2
          ],
          [
           10190.1
          ],
          [
           8788.4
          ],
          [
           10218
          ],
          [
           11690
          ],
          [
           9830.6
          ],
          [
           8880.1
          ],
          [
           9711.7
          ],
          [
           8267.2
          ],
          [
           9504.65
          ],
          [
           9268.2
          ],
          [
           10176.75
          ],
          [
           8602.1
          ],
          [
           10208.6
          ],
          [
           8663
          ],
          [
           9474.7
          ],
          [
           8769.4
          ],
          [
           9562.75
          ],
          [
           10460.9
          ],
          [
           10062.05
          ],
          [
           8623.1
          ],
          [
           8946.6
          ],
          [
           10421.9
          ],
          [
           9712.5
          ],
          [
           9391.45
          ],
          [
           8849.9
          ],
          [
           9509.2
          ],
          [
           12179.5
          ],
          [
           8488
          ],
          [
           8331.75
          ],
          [
           13831.5
          ],
          [
           9725.9
          ],
          [
           10695.7
          ],
          [
           8498.7
          ],
          [
           9970.5
          ],
          [
           11362.4
          ],
          [
           9085.8
          ],
          [
           9901.5
          ],
          [
           11249.8
          ],
          [
           9073.6
          ],
          [
           10104.1
          ],
          [
           10427.9
          ],
          [
           10419.95
          ],
          [
           9184.8
          ],
          [
           11128
          ],
          [
           10511.4
          ],
          [
           10560.1
          ],
          [
           9837.3
          ],
          [
           9203.4
          ],
          [
           19229.8
          ],
          [
           9448.8
          ],
          [
           9951.5
          ],
          [
           8210.3
          ],
          [
           10225.6
          ],
          [
           9872.4
          ],
          [
           8768.8
          ],
          [
           10739.95
          ],
          [
           8963.1
          ],
          [
           8456.6
          ],
          [
           8334.5
          ],
          [
           11916.8
          ],
          [
           9449.3
          ],
          [
           14615.8
          ],
          [
           8813.6
          ],
          [
           8682.5
          ],
          [
           8636.6
          ],
          [
           8577.9
          ],
          [
           9721.1
          ],
          [
           10982.1
          ],
          [
           12866
          ],
          [
           11878.8
          ],
          [
           11539.3
          ],
          [
           11033.7
          ],
          [
           11631.4
          ],
          [
           8564.7
          ],
          [
           9438.8
          ],
          [
           8303.75
          ],
          [
           8788.6
          ],
          [
           10324
          ],
          [
           10192.5
          ],
          [
           8263.65
          ],
          [
           8906.4
          ],
          [
           11207.4
          ],
          [
           8235.7
          ],
          [
           8732.5
          ],
          [
           8696.1
          ],
          [
           10004.8
          ],
          [
           11373.45
          ],
          [
           17940.1
          ],
          [
           9442.2
          ],
          [
           9527.4
          ],
          [
           9656.45
          ],
          [
           9954.05
          ],
          [
           10403.2
          ],
          [
           11765.7
          ],
          [
           11503.25
          ],
          [
           8687.85
          ],
          [
           9066.65
          ],
          [
           15003.2
          ],
          [
           8713.6
          ],
          [
           10691.4
          ],
          [
           13734.4
          ],
          [
           14018.1
          ],
          [
           8920.9
          ],
          [
           11322.5
          ],
          [
           9666
          ],
          [
           8260.7
          ],
          [
           9515.7
          ],
          [
           9304.4
          ],
          [
           10730.9
          ],
          [
           9537
          ],
          [
           10623.9
          ],
          [
           8261.5
          ],
          [
           8894.55
          ],
          [
           9269.2
          ],
          [
           11069.45
          ],
          [
           11157.8
          ],
          [
           10508.1
          ],
          [
           10771.9
          ],
          [
           14885.6
          ],
          [
           9456.8
          ],
          [
           13801.55
          ],
          [
           18628.5
          ],
          [
           8873.1
          ],
          [
           10443.4
          ],
          [
           9414.65
          ],
          [
           9077.95
          ],
          [
           8281.3
          ],
          [
           11591.35
          ],
          [
           16153.45
          ],
          [
           10857.35
          ],
          [
           8225.1
          ],
          [
           10184.7
          ],
          [
           8597.55
          ],
          [
           9365.1
          ],
          [
           13089.5
          ],
          [
           8514.05
          ],
          [
           9888.35
          ],
          [
           11320.45
          ],
          [
           8768.3
          ],
          [
           8738.3
          ],
          [
           8303.85
          ],
          [
           10474.6
          ],
          [
           9873.2
          ],
          [
           9150.95
          ],
          [
           12004.3
          ],
          [
           11294.2
          ],
          [
           8783.7
          ],
          [
           12574.5
          ],
          [
           8218.7
          ],
          [
           11804.3
          ],
          [
           11969.4
          ],
          [
           8592.2
          ],
          [
           15827.5
          ],
          [
           10304.3
          ],
          [
           9512.55
          ],
          [
           12413.35
          ],
          [
           10319.8
          ],
          [
           9184.1
          ],
          [
           9243.55
          ],
          [
           9415.8
          ],
          [
           9227.2
          ],
          [
           12320.4
          ],
          [
           8329.1
          ],
          [
           9281.1
          ],
          [
           8687.7
          ],
          [
           8289.9
          ],
          [
           9003.9
          ],
          [
           8611.8
          ],
          [
           8542.3
          ],
          [
           9146.75
          ],
          [
           9105.1
          ],
          [
           9450.15
          ],
          [
           11569.4
          ],
          [
           8433
          ],
          [
           8660.9
          ],
          [
           9051.5
          ],
          [
           8671.3
          ],
          [
           16952.2
          ],
          [
           10041.1
          ],
          [
           11594.25
          ],
          [
           9881.5
          ],
          [
           9403.4
          ],
          [
           8214.5
          ],
          [
           12340.2
          ],
          [
           14376
          ],
          [
           8696.9
          ],
          [
           9891.9
          ],
          [
           12409.55
          ],
          [
           9428.6
          ],
          [
           9150.9
          ],
          [
           11462.6
          ],
          [
           8289.3
          ],
          [
           11962.85
          ],
          [
           10352.8
          ],
          [
           8590.1
          ],
          [
           8381.5
          ],
          [
           9035
          ],
          [
           11947.6
          ],
          [
           10371.9
          ],
          [
           9162.8
          ],
          [
           10050.65
          ],
          [
           8659.9
          ],
          [
           11664.25
          ],
          [
           8657.4
          ],
          [
           9564.2
          ],
          [
           12707.8
          ],
          [
           9978
          ],
          [
           9126.6
          ],
          [
           11731.4
          ],
          [
           8710.6
          ],
          [
           11633.4
          ],
          [
           10446.9
          ],
          [
           12987
          ],
          [
           9920.1
          ],
          [
           8353.7
          ],
          [
           10432.05
          ],
          [
           8842.1
          ],
          [
           9204.35
          ],
          [
           8576.7
          ],
          [
           11090.95
          ],
          [
           12071.95
          ],
          [
           9948.15
          ],
          [
           13833.4
          ],
          [
           14886.8
          ],
          [
           9580.8
          ],
          [
           12017.7
          ],
          [
           10359.3
          ],
          [
           11495.9
          ],
          [
           10932.9
          ],
          [
           8234.2
          ],
          [
           11104.6
          ],
          [
           9650.4
          ],
          [
           9060
          ],
          [
           10229.5
          ],
          [
           11705.6
          ],
          [
           8578.5
          ],
          [
           8781.05
          ],
          [
           9615.3
          ],
          [
           16653.9
          ],
          [
           8615.5
          ],
          [
           9106.2
          ],
          [
           9261.6
          ],
          [
           9119.9
          ],
          [
           9174.2
          ],
          [
           8883.55
          ],
          [
           9430.3
          ],
          [
           12396.5
          ],
          [
           9269.2
          ],
          [
           8384.95
          ],
          [
           10513.1
          ],
          [
           8602
          ],
          [
           8834.8
          ],
          [
           10794.5
          ],
          [
           10349.15
          ],
          [
           9080.65
          ],
          [
           8288.3
          ],
          [
           22769.7
          ],
          [
           19653.35
          ],
          [
           11752.4
          ],
          [
           90731.45
          ],
          [
           11030.65
          ],
          [
           9063.8
          ],
          [
           8590.7
          ],
          [
           14200.9
          ],
          [
           9865.6
          ],
          [
           8266.35
          ],
          [
           16882
          ],
          [
           8783.25
          ],
          [
           10256.8
          ],
          [
           8581.2
          ],
          [
           11694.55
          ],
          [
           10565.45
          ],
          [
           8451.7
          ],
          [
           10949
          ],
          [
           9656.2
          ],
          [
           9533.7
          ],
          [
           8567.9
          ],
          [
           10282.15
          ],
          [
           8517.3
          ],
          [
           18551.15
          ],
          [
           8349.1
          ],
          [
           9151.3
          ],
          [
           9225.8
          ],
          [
           8627.75
          ],
          [
           8881.85
          ],
          [
           8730.4
          ],
          [
           8864.3
          ],
          [
           10631
          ],
          [
           9880.2
          ],
          [
           9054.4
          ],
          [
           8217.9
          ],
          [
           12857.8
          ],
          [
           8340.75
          ],
          [
           9111.9
          ],
          [
           12274.9
          ],
          [
           8688.75
          ],
          [
           14421
          ],
          [
           9535.6
          ],
          [
           12492.6
          ],
          [
           8385.65
          ],
          [
           11737.4
          ],
          [
           8437.8
          ],
          [
           8364.3
          ],
          [
           8356.8
          ],
          [
           8232.3
          ],
          [
           12869.5
          ],
          [
           10412.8
          ],
          [
           11468
          ],
          [
           8940.55
          ],
          [
           8795.6
          ],
          [
           11083.7
          ],
          [
           9627.3
          ],
          [
           9092.3
          ],
          [
           13086.45
          ],
          [
           19480
          ],
          [
           11229.05
          ],
          [
           11160.7
          ],
          [
           8782.8
          ],
          [
           8561
          ],
          [
           8659.95
          ],
          [
           12420.15
          ],
          [
           9315.1
          ],
          [
           13508.6
          ],
          [
           8563.7
          ],
          [
           8930.3
          ],
          [
           9201.6
          ],
          [
           9370.1
          ],
          [
           12528.3
          ],
          [
           9360.9
          ],
          [
           8292.5
          ],
          [
           8836.7
          ],
          [
           8299.4
          ],
          [
           10600
          ],
          [
           13668.6
          ],
          [
           17684
          ],
          [
           8307.2
          ],
          [
           8592
          ],
          [
           9676
          ],
          [
           9362.65
          ],
          [
           8307.2
          ],
          [
           8868.7
          ],
          [
           8561.75
          ],
          [
           12697.2
          ],
          [
           8984
          ],
          [
           8217.85
          ],
          [
           8496.7
          ],
          [
           10057.55
          ],
          [
           14743.8
          ],
          [
           17307.6
          ],
          [
           18014.9
          ],
          [
           8434.9
          ],
          [
           8994.4
          ],
          [
           9263.1
          ],
          [
           8901.4
          ],
          [
           13130.9
          ],
          [
           11121.9
          ],
          [
           8307.3
          ],
          [
           11021.4
          ],
          [
           10194.4
          ],
          [
           8372.2
          ],
          [
           8855.4
          ],
          [
           9945.8
          ],
          [
           8432.8
          ],
          [
           9999.6
          ],
          [
           10392.7
          ],
          [
           12286.7
          ],
          [
           9245.3
          ],
          [
           9201.85
          ],
          [
           11682.9
          ],
          [
           9298.2
          ],
          [
           9524.15
          ],
          [
           8255.2
          ],
          [
           10350.2
          ],
          [
           10080.55
          ],
          [
           9317.7
          ],
          [
           8688.3
          ],
          [
           8629.8
          ],
          [
           9567.35
          ],
          [
           12422.1
          ],
          [
           8959.9
          ],
          [
           9181.9
          ],
          [
           12472.1
          ],
          [
           8447.9
          ],
          [
           8847.25
          ],
          [
           8471.9
          ],
          [
           8567.7
          ],
          [
           9529.2
          ],
          [
           11196.9
          ],
          [
           10430.2
          ],
          [
           8290.4
          ],
          [
           9202.5
          ],
          [
           10097.8
          ],
          [
           8423.7
          ],
          [
           10408.4
          ],
          [
           9170
          ],
          [
           15525.6
          ],
          [
           8329.5
          ],
          [
           8490.9
          ],
          [
           9128.4
          ],
          [
           8564.55
          ],
          [
           8864.1
          ],
          [
           9447.65
          ],
          [
           9228.4
          ],
          [
           9955.5
          ],
          [
           14935.1
          ],
          [
           11298.2
          ],
          [
           11131.65
          ],
          [
           21578
          ],
          [
           13361
          ],
          [
           13878.8
          ],
          [
           9085.8
          ],
          [
           8461
          ],
          [
           8671.6
          ],
          [
           9183.15
          ],
          [
           9235.8
          ],
          [
           8501.1
          ],
          [
           9164.2
          ],
          [
           8962.2
          ],
          [
           12159.6
          ],
          [
           10637.45
          ],
          [
           8509.05
          ],
          [
           8808.8
          ],
          [
           8226.95
          ],
          [
           10148.2
          ],
          [
           11749.55
          ],
          [
           9225
          ],
          [
           12590.9
          ],
          [
           8323
          ],
          [
           11195
          ],
          [
           8384.25
          ],
          [
           12919.7
          ],
          [
           9209.25
          ],
          [
           8439.8
          ],
          [
           9967.1
          ],
          [
           8439.2
          ],
          [
           11546.3
          ],
          [
           8516.8
          ],
          [
           9249.1
          ],
          [
           9792.4
          ],
          [
           15673.3
          ],
          [
           8535.4
          ],
          [
           8847.6
          ],
          [
           16633
          ],
          [
           10608.95
          ],
          [
           9328.8
          ],
          [
           8577.7
          ],
          [
           8413.2
          ],
          [
           9132.65
          ],
          [
           9956.3
          ],
          [
           8269.8
          ],
          [
           13076.1
          ],
          [
           8688.1
          ],
          [
           9741.25
          ],
          [
           8469.7
          ],
          [
           9365.4
          ],
          [
           10578.15
          ],
          [
           9462.25
          ],
          [
           13078.3
          ],
          [
           8518.6888889
          ],
          [
           8269
          ],
          [
           10468.8
          ],
          [
           9730.4
          ],
          [
           10331.1
          ],
          [
           10516.9
          ],
          [
           20462.5
          ],
          [
           10939.6
          ],
          [
           10474
          ],
          [
           12145.6
          ],
          [
           8820.3
          ],
          [
           8250.75
          ],
          [
           8651.35
          ],
          [
           11126.15
          ],
          [
           9138.1
          ],
          [
           13587.3
          ],
          [
           8652.85
          ],
          [
           18595.5
          ],
          [
           9343.1
          ],
          [
           8747.3
          ],
          [
           10596.9
          ],
          [
           8307.8
          ],
          [
           11339.3
          ],
          [
           8342.2
          ],
          [
           10354.75
          ],
          [
           8763.15
          ],
          [
           8500.1
          ],
          [
           8482.15
          ],
          [
           10888.4
          ],
          [
           11031.2
          ],
          [
           9526.7
          ],
          [
           12265
          ],
          [
           10509.85
          ],
          [
           10212.2
          ],
          [
           8518.1
          ],
          [
           9594.9
          ],
          [
           9079.6
          ],
          [
           12381.55
          ],
          [
           16697.45
          ],
          [
           11216.4
          ],
          [
           8944.2
          ],
          [
           10771.9
          ],
          [
           10229.25
          ],
          [
           8379.5
          ],
          [
           8543.9
          ],
          [
           9674.9
          ],
          [
           11814.3
          ],
          [
           8858.5
          ],
          [
           14548.55
          ],
          [
           14733.9
          ],
          [
           9231
          ],
          [
           8904
          ],
          [
           8260.25
          ],
          [
           13464.5
          ],
          [
           9026.9
          ],
          [
           10696.7
          ],
          [
           15708
          ],
          [
           8712.8
          ],
          [
           15458.4
          ],
          [
           10479.9
          ],
          [
           9510.55
          ],
          [
           8399.35
          ],
          [
           9547.3
          ],
          [
           8529.6
          ],
          [
           9305.1
          ],
          [
           9155
          ],
          [
           8689.9
          ],
          [
           9513.25
          ],
          [
           13850.2
          ],
          [
           12745.05
          ],
          [
           12352.4
          ],
          [
           9631.7
          ],
          [
           9336
          ],
          [
           8516.8
          ],
          [
           8488.4
          ],
          [
           10794.3
          ],
          [
           10451.2
          ],
          [
           9990.5
          ],
          [
           10181.6
          ],
          [
           10141.05
          ],
          [
           10458.5
          ],
          [
           18021
          ],
          [
           12629.35
          ],
          [
           9645.6
          ],
          [
           21472.6
          ],
          [
           11306.6
          ],
          [
           9773.3
          ],
          [
           13297.5
          ],
          [
           8608.15
          ],
          [
           12315.2
          ],
          [
           10209.55
          ],
          [
           8221.6
          ],
          [
           8529.8
          ],
          [
           11896.5
          ],
          [
           9153.05
          ],
          [
           9473.5
          ],
          [
           11644.4
          ],
          [
           17289.2
          ],
          [
           16475.2
          ],
          [
           12239.55
          ],
          [
           14034.7
          ],
          [
           9667.25
          ],
          [
           9776.2
          ],
          [
           8388.6
          ],
          [
           8273.45
          ],
          [
           14391.1
          ],
          [
           9593.6
          ],
          [
           8983.9
          ],
          [
           12554.1
          ],
          [
           9800.35
          ],
          [
           12098.55
          ],
          [
           14786.7
          ],
          [
           9117.55
          ],
          [
           12162.4
          ],
          [
           9392
          ],
          [
           8929.55
          ],
          [
           9895.5
          ],
          [
           8960.4
          ],
          [
           11047.65
          ],
          [
           8239.7
          ],
          [
           17102.55
          ],
          [
           9198.5
          ],
          [
           9014.9
          ],
          [
           8519.3
          ],
          [
           13732.95
          ],
          [
           9794.25
          ],
          [
           8267.05
          ],
          [
           9945.2
          ],
          [
           9554.25
          ],
          [
           9643.6
          ],
          [
           10213.25
          ],
          [
           11647.9
          ],
          [
           9663.05
          ],
          [
           8284.8
          ],
          [
           8328.3
          ],
          [
           8745
          ],
          [
           13093.1
          ],
          [
           13942
          ],
          [
           8268
          ],
          [
           10596.3
          ],
          [
           8940.2
          ],
          [
           13241.3
          ],
          [
           18346.9
          ],
          [
           8406.1
          ],
          [
           8991.7
          ],
          [
           10289.9
          ],
          [
           9420.6
          ],
          [
           10502.8
          ],
          [
           8270.1
          ],
          [
           9688.3
          ],
          [
           9824.75
          ],
          [
           8810.5
          ],
          [
           10263.95
          ],
          [
           11157.5
          ],
          [
           8798
          ],
          [
           8679.7
          ],
          [
           11286.2
          ],
          [
           8874.85
          ],
          [
           15486.9
          ],
          [
           21979
          ],
          [
           9961.6
          ],
          [
           11122.2
          ],
          [
           9964.85
          ],
          [
           12578.3
          ],
          [
           12463.7
          ],
          [
           19138.3
          ],
          [
           8417.2
          ],
          [
           8585.1
          ],
          [
           14381.7
          ],
          [
           8303.6
          ],
          [
           9077.2
          ],
          [
           8652.2
          ],
          [
           9069.1
          ],
          [
           8399.4
          ],
          [
           8211.4
          ],
          [
           8244.65
          ],
          [
           9482.1
          ],
          [
           9092.2
          ],
          [
           11321.4
          ],
          [
           10898
          ],
          [
           12890.25
          ],
          [
           15987.2
          ],
          [
           10017.8
          ],
          [
           11506.8
          ],
          [
           27301.4
          ],
          [
           12536.3
          ],
          [
           9827.1
          ],
          [
           9350.95
          ],
          [
           8238.8
          ],
          [
           8608.6
          ],
          [
           8884.35
          ],
          [
           8797.05
          ],
          [
           8732.7
          ],
          [
           10403
          ],
          [
           9943.2
          ],
          [
           8619.15
          ],
          [
           15034.7
          ],
          [
           8280.9
          ],
          [
           8875.7
          ],
          [
           8659.65
          ],
          [
           8258.85
          ],
          [
           8501.8
          ],
          [
           8605.4
          ],
          [
           9217.7
          ],
          [
           12072.6
          ],
          [
           8507.55
          ],
          [
           9630.7
          ],
          [
           8838.6
          ],
          [
           9382
          ],
          [
           8213.8
          ],
          [
           11595.75
          ],
          [
           9997.35
          ],
          [
           9696
          ],
          [
           11808
          ],
          [
           12842
          ],
          [
           9734.15
          ],
          [
           8422.45
          ],
          [
           11927.15
          ],
          [
           9545.5
          ],
          [
           12597.7
          ],
          [
           14204.4
          ],
          [
           10026.3
          ],
          [
           8417.35
          ],
          [
           11385.3
          ],
          [
           10897.65
          ],
          [
           10713.3
          ],
          [
           8466.1
          ],
          [
           8430.2
          ],
          [
           11654.9
          ],
          [
           8397.3
          ],
          [
           10906.2
          ],
          [
           13745.8
          ],
          [
           9926.75
          ],
          [
           9131.6
          ],
          [
           9386.2
          ],
          [
           8490.3
          ],
          [
           8581.7
          ],
          [
           8818
          ],
          [
           11550.5
          ],
          [
           8920.2
          ],
          [
           10156.6
          ],
          [
           9871.9
          ],
          [
           10197.25
          ],
          [
           10361.9
          ],
          [
           9121.7
          ],
          [
           8395.8
          ],
          [
           8828.2
          ],
          [
           10479.4
          ],
          [
           9063
          ],
          [
           8242
          ],
          [
           14926.4
          ],
          [
           9939.4
          ],
          [
           9008.55
          ],
          [
           8439.45
          ],
          [
           12388.25
          ],
          [
           10838.4
          ],
          [
           8756.65
          ],
          [
           9567.4
          ],
          [
           10012.8
          ],
          [
           8900.3
          ],
          [
           8814.1
          ],
          [
           8671.4
          ],
          [
           9260.7
          ],
          [
           11134.4
          ],
          [
           9193
          ],
          [
           8451.1
          ],
          [
           9283.35
          ],
          [
           8745.95
          ],
          [
           9190.7
          ],
          [
           9988.3
          ],
          [
           8620.1
          ],
          [
           8593.3
          ],
          [
           10972.65
          ],
          [
           8301.35
          ],
          [
           13415.05
          ],
          [
           8557.5
          ],
          [
           8234.2
          ],
          [
           8501.45
          ],
          [
           9513.8
          ],
          [
           12738.6
          ],
          [
           8763.7
          ],
          [
           8546.5
          ],
          [
           8905.5
          ],
          [
           9825.7
          ],
          [
           8302.8
          ],
          [
           8443.5
          ],
          [
           9104.65
          ],
          [
           11396.4
          ],
          [
           9629.6
          ],
          [
           12748.4
          ],
          [
           8584.6
          ],
          [
           18449.9
          ],
          [
           8277.5
          ],
          [
           9252.5
          ],
          [
           10882.7
          ],
          [
           8913.2
          ],
          [
           9966.75
          ],
          [
           9925.7
          ],
          [
           10282.8
          ],
          [
           8351.3
          ],
          [
           8596.2
          ],
          [
           10113.9
          ],
          [
           10706.4
          ],
          [
           8970.3
          ],
          [
           8586.4
          ],
          [
           8359.6
          ],
          [
           8752.55
          ],
          [
           8689.7
          ],
          [
           14399
          ],
          [
           10625.5
          ],
          [
           8543.3
          ],
          [
           9110.7
          ],
          [
           9912.1
          ],
          [
           12280.2
          ],
          [
           8889.2
          ],
          [
           11501.1
          ],
          [
           19245.1
          ],
          [
           8446.45
          ],
          [
           10484.4
          ],
          [
           8851.4
          ],
          [
           12019.5
          ],
          [
           10817.1
          ],
          [
           8885.4
          ],
          [
           8445.9
          ],
          [
           10818.25
          ],
          [
           11099.9
          ],
          [
           17078.9
          ],
          [
           12575.9
          ],
          [
           14227.05
          ],
          [
           10272.35
          ],
          [
           10885.7
          ],
          [
           8591.5
          ],
          [
           8464.8
          ],
          [
           11126.7
          ],
          [
           8508.5
          ],
          [
           8295.6
          ],
          [
           12739.45
          ],
          [
           14936.1
          ],
          [
           13342.6
          ],
          [
           10777.4
          ],
          [
           8248.4
          ],
          [
           9907.6
          ],
          [
           9278.1
          ],
          [
           8959.85
          ],
          [
           9342.05
          ],
          [
           9067.55
          ],
          [
           8555.55
          ],
          [
           8432.7
          ],
          [
           8675.1
          ],
          [
           11818.5
          ],
          [
           8576.5
          ],
          [
           8631.4
          ],
          [
           9333.6
          ],
          [
           9206.1
          ],
          [
           9680.6
          ],
          [
           9204.3
          ],
          [
           8556.2
          ],
          [
           10057
          ],
          [
           9681.2
          ],
          [
           8835.55
          ],
          [
           9884.15
          ],
          [
           10332.6
          ],
          [
           8367.6
          ],
          [
           9233.5
          ],
          [
           9757.1
          ],
          [
           8648.4
          ],
          [
           10832.95
          ],
          [
           10727.9
          ],
          [
           8442.4
          ],
          [
           9726.7
          ],
          [
           8249.85
          ],
          [
           12141.8
          ],
          [
           8483.85
          ],
          [
           10589.15
          ],
          [
           12548.1
          ],
          [
           8272.9
          ],
          [
           11841.1
          ],
          [
           14543.25
          ],
          [
           9632.4
          ],
          [
           12502.5
          ],
          [
           12466.8
          ],
          [
           17233.3
          ],
          [
           12956.6
          ],
          [
           12430.4
          ],
          [
           8556.3
          ],
          [
           9182.6
          ],
          [
           11532.3
          ],
          [
           14380.9
          ],
          [
           8414.7
          ],
          [
           10448.1
          ],
          [
           8858.2
          ],
          [
           10843.9
          ],
          [
           12683.7
          ],
          [
           14648.45
          ],
          [
           10435.65
          ],
          [
           12524.2
          ],
          [
           8515.9
          ],
          [
           8774.55
          ],
          [
           8309.35
          ],
          [
           8309.3
          ],
          [
           9409.2
          ],
          [
           9370.6
          ],
          [
           14456
          ],
          [
           8709.5
          ],
          [
           10764.95
          ],
          [
           9528.2
          ],
          [
           11321.5
          ],
          [
           8769.3
          ],
          [
           15267.4
          ],
          [
           15549.2
          ],
          [
           10568.2
          ],
          [
           13112.2
          ],
          [
           8963.4
          ],
          [
           17021.8
          ],
          [
           8992.95
          ],
          [
           13229.7
          ],
          [
           10186.7
          ],
          [
           8562.65
          ],
          [
           9514.6
          ],
          [
           20419.6
          ],
          [
           9448.4
          ],
          [
           11041.8
          ],
          [
           13159
          ],
          [
           8912.2
          ],
          [
           8768.2
          ],
          [
           9339.8
          ],
          [
           10933
          ],
          [
           8407.6
          ],
          [
           8718.2
          ],
          [
           8647.7
          ],
          [
           9320.8
          ],
          [
           10777.9
          ],
          [
           12490.6
          ],
          [
           13583.4
          ],
          [
           8507.3
          ],
          [
           11535.55
          ],
          [
           9130.9
          ],
          [
           14914.8
          ],
          [
           8354.9
          ],
          [
           8372
          ],
          [
           13472.5
          ],
          [
           10196.15
          ],
          [
           8874.5
          ],
          [
           8724.2
          ],
          [
           9647.45
          ],
          [
           8880.8
          ],
          [
           8668.3
          ],
          [
           9157.4
          ],
          [
           8363.5
          ],
          [
           8380.25
          ],
          [
           9397.8
          ],
          [
           8401.45
          ],
          [
           8912.1
          ],
          [
           8397.1
          ],
          [
           11594.45
          ],
          [
           11606.55
          ],
          [
           8789.9
          ],
          [
           8921
          ],
          [
           21388.75
          ],
          [
           12924.05
          ],
          [
           17751.5
          ],
          [
           8480.5
          ],
          [
           8529.6
          ],
          [
           8578.5
          ],
          [
           8362.35
          ],
          [
           14981.1
          ],
          [
           10002.1
          ],
          [
           9120.7
          ],
          [
           9067.05
          ],
          [
           8926.1
          ],
          [
           8605.5
          ],
          [
           11911.3
          ],
          [
           11180
          ],
          [
           10519.7
          ],
          [
           8272.6
          ],
          [
           10618.3
          ],
          [
           8477.3
          ],
          [
           8242.85
          ],
          [
           12857.7
          ],
          [
           9627.1
          ],
          [
           8536
          ],
          [
           8930.2
          ],
          [
           8763.5
          ],
          [
           9995.1
          ],
          [
           9969.7
          ],
          [
           9498.9
          ],
          [
           9105.5
          ],
          [
           8700.8
          ],
          [
           8522
          ],
          [
           8294.05
          ],
          [
           8531.9
          ],
          [
           8663.9
          ],
          [
           8468.8
          ],
          [
           8639.7
          ],
          [
           9264.3
          ],
          [
           8739.3
          ],
          [
           9034
          ],
          [
           10999.5
          ],
          [
           11714.9
          ],
          [
           10788.7
          ],
          [
           9109.8
          ],
          [
           11588.9
          ],
          [
           14176.6
          ],
          [
           15403.8
          ],
          [
           18363.4
          ],
          [
           13909.85
          ],
          [
           10313.45
          ],
          [
           12793.15
          ],
          [
           9393.85
          ],
          [
           23105.55
          ],
          [
           8751.6
          ],
          [
           8573.65
          ],
          [
           10102.3
          ],
          [
           10329.9
          ],
          [
           8762.2
          ],
          [
           8411.9
          ],
          [
           11080.85
          ],
          [
           15619.5
          ],
          [
           10779.8
          ],
          [
           12905.7
          ],
          [
           10692.8
          ],
          [
           9345.7
          ],
          [
           15747.7
          ],
          [
           9938.8
          ],
          [
           8554.35
          ],
          [
           10412.7
          ],
          [
           9264.4
          ],
          [
           10091.5
          ],
          [
           8449.8
          ],
          [
           11815.5
          ],
          [
           8456.6
          ],
          [
           9664.3
          ],
          [
           9807.1
          ],
          [
           14182.9
          ],
          [
           13334.85
          ],
          [
           9735.6
          ],
          [
           8702.1
          ],
          [
           10534.65
          ],
          [
           9108.5
          ],
          [
           17896
          ],
          [
           9326.3
          ],
          [
           9854.4
          ],
          [
           9208.85
          ],
          [
           10089.3
          ],
          [
           11705.7
          ],
          [
           10916.25
          ],
          [
           9108.65
          ],
          [
           10022.6
          ],
          [
           12547.2
          ],
          [
           8680.15
          ],
          [
           8274.1
          ],
          [
           13526.8
          ],
          [
           10517.65
          ],
          [
           10613.3
          ],
          [
           8848.1
          ],
          [
           8969.05
          ],
          [
           10006.6
          ],
          [
           10327.8
          ],
          [
           12227.1
          ],
          [
           9297.3
          ],
          [
           9032.05
          ],
          [
           8681.5
          ],
          [
           8692.1
          ],
          [
           11040.6
          ],
          [
           9780
          ],
          [
           8226.1
          ],
          [
           9250.8
          ],
          [
           10900.3
          ],
          [
           8212.4
          ],
          [
           16021.5
          ],
          [
           17398.3
          ],
          [
           9395.35
          ],
          [
           8519.4
          ],
          [
           8495.5
          ],
          [
           10423.8
          ],
          [
           11013
          ],
          [
           8533.25
          ],
          [
           11630.6
          ],
          [
           9746.6
          ],
          [
           13635.9
          ],
          [
           11108.4
          ],
          [
           11082.35
          ],
          [
           9124.5
          ],
          [
           8734.9
          ],
          [
           9365.45
          ],
          [
           11389.7
          ],
          [
           8496.4
          ],
          [
           11205.65
          ],
          [
           8247.4
          ],
          [
           8403.7
          ],
          [
           8446
          ],
          [
           8677.5
          ],
          [
           13126.8
          ],
          [
           9795.4
          ],
          [
           9816.2
          ],
          [
           8322.25
          ],
          [
           8542.8
          ],
          [
           11104.65
          ],
          [
           8461.6
          ],
          [
           9132.4
          ],
          [
           10059.95
          ],
          [
           8259.2
          ],
          [
           10034.4
          ],
          [
           8870
          ],
          [
           8441.75
          ],
          [
           14091.9
          ],
          [
           9290.75
          ],
          [
           9786.9
          ],
          [
           8239.7
          ],
          [
           8762.4
          ],
          [
           19476.1
          ],
          [
           10642.3
          ],
          [
           10984.8
          ],
          [
           14593.7
          ],
          [
           13340.65
          ],
          [
           10539.2
          ],
          [
           8567.4
          ],
          [
           11392.6
          ],
          [
           12113.5
          ],
          [
           10146.3
          ],
          [
           9061.7
          ],
          [
           8280.3
          ],
          [
           8820.1
          ],
          [
           12512
          ],
          [
           8265.6
          ],
          [
           8790.35
          ],
          [
           9391.1
          ],
          [
           18240.2
          ],
          [
           8227
          ],
          [
           8381.4
          ],
          [
           8553
          ],
          [
           9801.55
          ],
          [
           10710.35
          ],
          [
           8719.4
          ],
          [
           9630.45
          ],
          [
           9926.1
          ],
          [
           11018.7
          ],
          [
           8262.9
          ],
          [
           11189.9
          ],
          [
           11184.35
          ],
          [
           12942.1
          ],
          [
           8870.3
          ],
          [
           9243.5
          ],
          [
           10022.5
          ],
          [
           9455.1
          ],
          [
           8553.6
          ],
          [
           8364.1
          ],
          [
           12096.3
          ],
          [
           8728.7
          ],
          [
           9815.6
          ],
          [
           8400.1
          ],
          [
           8224.9
          ],
          [
           10686.6
          ],
          [
           13384.7
          ],
          [
           9449.4
          ],
          [
           13208.2
          ],
          [
           11933.7
          ],
          [
           8968.7
          ],
          [
           10814.1
          ],
          [
           10278.6
          ],
          [
           10924.3
          ],
          [
           8293.7
          ],
          [
           8559.5
          ],
          [
           9458.7
          ],
          [
           8815
          ],
          [
           9349.8
          ],
          [
           10580.6
          ],
          [
           8255.25
          ],
          [
           11610.4
          ],
          [
           13056.6
          ],
          [
           12357.4
          ],
          [
           8892.2
          ],
          [
           8265.9
          ],
          [
           9051.45
          ],
          [
           10848.3
          ],
          [
           9599.6
          ],
          [
           8395
          ],
          [
           14423.6
          ],
          [
           13752.05
          ],
          [
           9762.7
          ],
          [
           8560.2
          ],
          [
           8424.6
          ],
          [
           9460.6
          ],
          [
           19175.3
          ],
          [
           8939.1
          ],
          [
           10680.55
          ],
          [
           8745.9
          ],
          [
           9984.05
          ],
          [
           9303.35
          ],
          [
           8234.6
          ],
          [
           10195.1
          ],
          [
           10287
          ],
          [
           8548.7
          ],
          [
           8263.1
          ],
          [
           9279.9
          ],
          [
           8905.7
          ],
          [
           10700.1
          ],
          [
           9160.1
          ],
          [
           10369.75
          ],
          [
           13664.1
          ],
          [
           9915.6
          ],
          [
           8380.5
          ],
          [
           9933.35
          ],
          [
           9297
          ],
          [
           9116.1
          ],
          [
           9745.25
          ],
          [
           9479.95
          ],
          [
           8393.7
          ],
          [
           10210.3
          ],
          [
           12832.9
          ],
          [
           8738.7
          ],
          [
           9556.1
          ],
          [
           8308.4
          ],
          [
           10454.7
          ],
          [
           8250.6
          ],
          [
           9369.2
          ],
          [
           9347.1
          ],
          [
           11012.8
          ],
          [
           12364.65
          ],
          [
           12168
          ],
          [
           10680.7
          ],
          [
           9292.2
          ],
          [
           12217.4
          ],
          [
           11231.5
          ],
          [
           10056.5
          ],
          [
           8895.2
          ],
          [
           8987.7
          ],
          [
           9222.3
          ],
          [
           14319.9
          ],
          [
           10535.55
          ],
          [
           10043.4
          ],
          [
           8552.5
          ],
          [
           13490.1
          ],
          [
           10904.3
          ],
          [
           14887.8
          ],
          [
           11149.2
          ],
          [
           9137.8
          ],
          [
           11661.1
          ],
          [
           10261.6
          ],
          [
           8991.4
          ],
          [
           9805
          ],
          [
           9867
          ],
          [
           11181.8
          ],
          [
           10564.9
          ],
          [
           10691.1
          ],
          [
           9915.8
          ],
          [
           9361.25
          ],
          [
           9755
          ],
          [
           11411.2
          ],
          [
           12252.9
          ],
          [
           10846.9
          ],
          [
           10922.3
          ],
          [
           8493.3
          ],
          [
           21649.6
          ],
          [
           20611.5
          ],
          [
           9069.9
          ],
          [
           9340.35
          ],
          [
           8915.8
          ],
          [
           17139.8
          ],
          [
           11898.85
          ],
          [
           9648
          ],
          [
           8662.95
          ],
          [
           11396.05
          ],
          [
           9251.4
          ],
          [
           9420.55
          ],
          [
           9595.6
          ],
          [
           9568.8
          ],
          [
           9367.8
          ],
          [
           8979.15
          ],
          [
           10516.3
          ],
          [
           9604.8
          ],
          [
           9121.6
          ],
          [
           11327
          ],
          [
           8476.55
          ],
          [
           11862.4
          ],
          [
           15619.2
          ],
          [
           11287.8
          ],
          [
           10014
          ],
          [
           10292.15
          ],
          [
           9165
          ],
          [
           11910.3
          ],
          [
           13320.9
          ],
          [
           14001.8
          ],
          [
           12196.45
          ],
          [
           9717.7
          ],
          [
           8323.8
          ],
          [
           9446.1
          ],
          [
           9527.9
          ],
          [
           8375.3
          ],
          [
           8291.8
          ],
          [
           9350.2
          ],
          [
           9773.95
          ],
          [
           9862.7
          ],
          [
           15712.25
          ],
          [
           8743.35
          ],
          [
           9120.8
          ],
          [
           11320.2
          ],
          [
           9883.7
          ],
          [
           11619.2
          ],
          [
           9041.05
          ],
          [
           8362.05
          ],
          [
           8955.35
          ],
          [
           8464.2
          ],
          [
           8511.9
          ],
          [
           10056.6
          ],
          [
           9570.7
          ],
          [
           9680.6
          ],
          [
           8745
          ],
          [
           8695.9
          ],
          [
           10146.9
          ],
          [
           10150.6
          ],
          [
           11074.55
          ],
          [
           8577.4
          ],
          [
           10430.85
          ],
          [
           8435.1
          ],
          [
           14329.9
          ],
          [
           8324.8
          ],
          [
           9317.95
          ],
          [
           11321.65
          ],
          [
           8587.35
          ],
          [
           11256.3
          ],
          [
           8450.1
          ],
          [
           9009
          ],
          [
           8517.3
          ],
          [
           9335.6
          ],
          [
           10299.6
          ],
          [
           13466.7
          ],
          [
           11744.4
          ],
          [
           8465.6
          ],
          [
           12752.9
          ],
          [
           9573.65
          ],
          [
           11690.3
          ],
          [
           8320.8
          ],
          [
           8323.8
          ],
          [
           8233.9
          ],
          [
           14525
          ],
          [
           8782.3
          ],
          [
           8702.1
          ],
          [
           10531.1
          ],
          [
           9736.7
          ],
          [
           10396.1
          ],
          [
           17607.8
          ],
          [
           9582
          ],
          [
           8334.25
          ],
          [
           8682
          ],
          [
           8673.65
          ],
          [
           8769
          ],
          [
           9613.35
          ],
          [
           8595.2
          ],
          [
           8248.4
          ],
          [
           9081.3
          ],
          [
           9068.5
          ],
          [
           9230.3
          ],
          [
           11885.1
          ],
          [
           10535.05
          ],
          [
           8213.95
          ],
          [
           10352.25
          ],
          [
           9957.6
          ],
          [
           12831.9
          ],
          [
           12080.9
          ],
          [
           8594.9
          ],
          [
           9439.9
          ],
          [
           9032.8
          ],
          [
           10032.4
          ],
          [
           8415.9
          ],
          [
           8652.7
          ],
          [
           10454.8
          ],
          [
           8953.15
          ],
          [
           9981.2
          ],
          [
           9599.2
          ],
          [
           9815.25
          ],
          [
           9340.7
          ],
          [
           8560.5
          ],
          [
           9537.1
          ],
          [
           8790
          ],
          [
           10546
          ],
          [
           9944.3
          ],
          [
           9209.75
          ],
          [
           9666.1
          ],
          [
           10302.1
          ],
          [
           8724.6
          ],
          [
           11663.9
          ],
          [
           9465.45
          ],
          [
           9809.7
          ],
          [
           8650.2
          ],
          [
           10046.9
          ],
          [
           10384.6
          ],
          [
           8278.75
          ],
          [
           9199.2
          ],
          [
           9525.9
          ],
          [
           10599.75
          ],
          [
           8780.4
          ],
          [
           8712.1
          ],
          [
           9678
          ],
          [
           8622
          ],
          [
           8277.2
          ],
          [
           10958.4
          ],
          [
           8773.95
          ],
          [
           8632.25
          ],
          [
           9380.4
          ],
          [
           11224.15
          ],
          [
           10311.7
          ],
          [
           8703.1
          ],
          [
           9218.5
          ],
          [
           9261.45
          ],
          [
           13234.45
          ],
          [
           10812.8
          ],
          [
           9392.4
          ],
          [
           9025
          ],
          [
           9966.7
          ],
          [
           9279.5
          ],
          [
           8349.7
          ],
          [
           9042.2
          ],
          [
           8280.2
          ],
          [
           8999.6
          ],
          [
           16145.15
          ],
          [
           10440.05
          ],
          [
           8290.7
          ],
          [
           11571.8
          ],
          [
           8278.8
          ],
          [
           12836
          ],
          [
           8316.4
          ],
          [
           8974.9
          ],
          [
           10090
          ],
          [
           8857.7
          ],
          [
           9936.3
          ],
          [
           16599.6
          ],
          [
           13711.6
          ],
          [
           10701.2
          ],
          [
           10045.2
          ],
          [
           10250.75
          ],
          [
           8706.7
          ],
          [
           9057.45
          ],
          [
           15976.1
          ],
          [
           8833.35
          ],
          [
           9744.6
          ],
          [
           8218.85
          ],
          [
           10864.5
          ],
          [
           9356.4
          ],
          [
           10101
          ],
          [
           8411.1
          ],
          [
           11824.6
          ],
          [
           9072.9
          ],
          [
           12922.1
          ],
          [
           8767.05
          ],
          [
           10960.3
          ],
          [
           9103
          ],
          [
           8523.85
          ],
          [
           8612.6
          ],
          [
           10203.1
          ],
          [
           9374.7
          ],
          [
           13744.8
          ],
          [
           9883.9
          ],
          [
           14472.9
          ],
          [
           9968.9
          ],
          [
           11022.3
          ],
          [
           10317
          ],
          [
           8711.7
          ],
          [
           11581.95
          ],
          [
           9822.5
          ],
          [
           9134.9
          ],
          [
           13871.65
          ],
          [
           8268.9
          ],
          [
           19115.9
          ],
          [
           13525.7
          ],
          [
           19749.9
          ],
          [
           9080.9
          ],
          [
           8831.65
          ],
          [
           13292.1
          ],
          [
           8439.2
          ],
          [
           8688.2
          ],
          [
           9139
          ],
          [
           8471.55
          ],
          [
           12958.8
          ],
          [
           9600.15
          ],
          [
           9824.8
          ],
          [
           11040.5
          ],
          [
           9029.5
          ],
          [
           10073.25
          ],
          [
           9298.3
          ],
          [
           10054.7
          ],
          [
           9356.15
          ],
          [
           8988.6
          ],
          [
           8588.7
          ],
          [
           10746
          ],
          [
           11259.45
          ],
          [
           13484.25
          ],
          [
           8521.9
          ],
          [
           15789.05
          ],
          [
           10675.55
          ],
          [
           11180.1
          ],
          [
           10407.7
          ],
          [
           8234.7
          ],
          [
           22837.45
          ],
          [
           11047.2
          ],
          [
           8223.35
          ],
          [
           8220.9
          ],
          [
           9073.2
          ],
          [
           8866.35
          ],
          [
           8797.9
          ],
          [
           11082.8
          ],
          [
           9198
          ],
          [
           10980.05
          ],
          [
           10967.4
          ],
          [
           10477.6
          ],
          [
           9181.9
          ],
          [
           8415.3
          ],
          [
           10817.9
          ],
          [
           12314.25
          ],
          [
           12530.4
          ],
          [
           8304.4
          ],
          [
           9991.8
          ],
          [
           10915.2
          ],
          [
           8703.75
          ],
          [
           9264.85
          ],
          [
           8670.9
          ],
          [
           8249
          ],
          [
           8228.75
          ],
          [
           9029.65
          ],
          [
           12476.1
          ],
          [
           9505
          ],
          [
           10775.8
          ],
          [
           10658.4
          ],
          [
           10470.9
          ],
          [
           9284.6
          ],
          [
           9049.1
          ],
          [
           14921.1
          ],
          [
           8817
          ],
          [
           10203.2
          ],
          [
           9811.9
          ],
          [
           10532
          ],
          [
           10174
          ],
          [
           8555.7
          ],
          [
           11910.5
          ],
          [
           19475.9
          ],
          [
           8982.75
          ],
          [
           10723.2
          ],
          [
           16930.4
          ],
          [
           8952.15
          ],
          [
           8559.2
          ],
          [
           8319.2
          ],
          [
           9075
          ],
          [
           8499.6
          ],
          [
           9519.55
          ],
          [
           14176.75
          ],
          [
           8877.3
          ],
          [
           11474.8
          ],
          [
           8679.1
          ],
          [
           8785.3
          ],
          [
           19889.7
          ],
          [
           12223.2
          ],
          [
           17542.4
          ],
          [
           10236.4
          ],
          [
           8797.35
          ],
          [
           9746.6
          ],
          [
           9681.6
          ],
          [
           9042.4
          ],
          [
           9439.15
          ],
          [
           10186.4
          ],
          [
           12424.7
          ],
          [
           17404.2
          ],
          [
           9370.95
          ],
          [
           8335.2
          ],
          [
           9844.1
          ],
          [
           8248.8
          ],
          [
           14064.6
          ],
          [
           8817.3
          ],
          [
           10379.55
          ],
          [
           9006.3
          ],
          [
           9825.1
          ],
          [
           10784.5
          ],
          [
           13893.4
          ],
          [
           16092.3
          ],
          [
           10538.6
          ],
          [
           14893.3
          ],
          [
           8339.6
          ],
          [
           8694.95
          ],
          [
           9766.6
          ],
          [
           9130.4
          ],
          [
           9807.6
          ],
          [
           8399.4
          ],
          [
           9985.4
          ],
          [
           10239.7
          ],
          [
           10045
          ],
          [
           9056.5
          ],
          [
           8328.2
          ],
          [
           13467.55
          ],
          [
           15512.55
          ],
          [
           8456.1
          ],
          [
           8377.65
          ],
          [
           22068.7
          ],
          [
           14786.5
          ],
          [
           17081.25
          ],
          [
           9708.85
          ],
          [
           9901.75
          ],
          [
           8556.5
          ],
          [
           29455
          ],
          [
           13223.5
          ],
          [
           10003.2
          ],
          [
           16481.8
          ],
          [
           9405
          ],
          [
           13865.7
          ],
          [
           8633.2
          ],
          [
           8694.1
          ],
          [
           13078.3
          ],
          [
           9245.2
          ],
          [
           8760.35
          ],
          [
           13805.3
          ],
          [
           9909.4
          ],
          [
           9328.7
          ],
          [
           8464.3
          ],
          [
           14915.6
          ],
          [
           12853.1
          ],
          [
           8604.2
          ],
          [
           17977.65
          ],
          [
           9081.8
          ],
          [
           10075.9
          ],
          [
           10083.7
          ],
          [
           9264.1
          ],
          [
           10343.8
          ],
          [
           13046.4
          ],
          [
           8810.85
          ],
          [
           8553.85
          ],
          [
           13043
          ],
          [
           15390.7
          ],
          [
           8313.3
          ],
          [
           8391.9
          ],
          [
           8533.7
          ],
          [
           9032.4
          ],
          [
           9799
          ],
          [
           8824.9
          ],
          [
           9095.3
          ],
          [
           11772.1
          ],
          [
           15705.8
          ],
          [
           8808.5
          ],
          [
           9641.6
          ],
          [
           8254.15
          ],
          [
           14049.35
          ],
          [
           9930.2
          ],
          [
           8461.4
          ],
          [
           8938.85
          ],
          [
           8594.6
          ],
          [
           9865.8
          ],
          [
           8384.1
          ],
          [
           11251.8
          ],
          [
           9620.8
          ],
          [
           13293
          ],
          [
           8331.1
          ],
          [
           9138.3
          ],
          [
           11080.45
          ],
          [
           11684.5
          ],
          [
           13117.9
          ],
          [
           10519.6
          ],
          [
           13355.85
          ],
          [
           9625.3
          ],
          [
           8489.55
          ],
          [
           8995.8
          ],
          [
           13835.9
          ],
          [
           9860.1
          ],
          [
           10578.3
          ],
          [
           8511.5
          ],
          [
           8305.8
          ],
          [
           8377.5
          ],
          [
           8975
          ],
          [
           12826.2
          ],
          [
           8504.9
          ],
          [
           9637.4
          ],
          [
           13368.5
          ],
          [
           9344.6
          ],
          [
           9521.7
          ],
          [
           8295.45
          ],
          [
           8870.5
          ],
          [
           9621.2
          ],
          [
           12492.7
          ],
          [
           9704.7
          ],
          [
           8467.6
          ],
          [
           9277.3
          ],
          [
           9984.75
          ],
          [
           9704.8
          ],
          [
           9445.6
          ],
          [
           10818.15
          ],
          [
           8291.9
          ],
          [
           9019.6
          ],
          [
           11306
          ],
          [
           9373.9
          ],
          [
           9980.8
          ],
          [
           8336.2
          ],
          [
           8546.75
          ],
          [
           10093.9
          ],
          [
           8467.55
          ],
          [
           8545.7
          ],
          [
           8247.2
          ],
          [
           9114.5
          ],
          [
           15225.7
          ],
          [
           34764.65
          ],
          [
           11357.7
          ],
          [
           20292.7
          ],
          [
           14728.75
          ],
          [
           9961.6
          ],
          [
           10358.3
          ],
          [
           11883.8
          ],
          [
           9537.95
          ],
          [
           12472.3
          ],
          [
           8370.85
          ],
          [
           9633.3
          ],
          [
           9422.6
          ],
          [
           12003.3
          ],
          [
           9293.1
          ],
          [
           9069
          ],
          [
           8216.8
          ],
          [
           10179.75
          ],
          [
           8921.1
          ],
          [
           13420.45
          ],
          [
           8864.4
          ],
          [
           9843.3
          ],
          [
           8519.8
          ],
          [
           9415.5
          ],
          [
           11079.7
          ],
          [
           10549
          ],
          [
           8642.95
          ],
          [
           9238.7
          ],
          [
           9000.7
          ],
          [
           9723.6
          ],
          [
           8213.2
          ],
          [
           11813.55
          ],
          [
           8868.4
          ],
          [
           12391.6
          ],
          [
           9221.4
          ],
          [
           10150.6
          ],
          [
           9249.1
          ],
          [
           12206.8
          ],
          [
           12829.2
          ],
          [
           11433.3
          ],
          [
           10500.1
          ],
          [
           9238.95
          ],
          [
           8508.45
          ],
          [
           8282.6
          ],
          [
           15491.2
          ],
          [
           8386.5
          ],
          [
           10418.1
          ],
          [
           8331.8
          ],
          [
           14656.6
          ],
          [
           12648.7
          ],
          [
           8995.6
          ],
          [
           9805
          ],
          [
           10272.3
          ],
          [
           8291.65
          ],
          [
           8465.15
          ],
          [
           10517.05
          ],
          [
           9797.8
          ],
          [
           11042.3
          ],
          [
           13487.9
          ],
          [
           8282.8
          ],
          [
           12656.6
          ],
          [
           10459.8
          ],
          [
           12805.15
          ],
          [
           12334.9
          ],
          [
           12081.7
          ],
          [
           9176.4
          ],
          [
           17884.1
          ],
          [
           16812.7
          ],
          [
           8496.9
          ],
          [
           8571.3
          ],
          [
           9662.4
          ],
          [
           16070.6
          ],
          [
           10605.2
          ],
          [
           8719
          ],
          [
           10033
          ],
          [
           11646
          ],
          [
           8409.8
          ],
          [
           10519.7
          ],
          [
           11996.7
          ],
          [
           10219.3
          ],
          [
           9769.65
          ],
          [
           8614.5
          ],
          [
           11932
          ],
          [
           10078.05
          ],
          [
           9384.85
          ],
          [
           8265.3
          ],
          [
           8368.9
          ],
          [
           13043.5
          ],
          [
           8864
          ],
          [
           10892.3
          ],
          [
           9107.9
          ],
          [
           8737.4
          ],
          [
           9975.6
          ],
          [
           9776.6
          ],
          [
           9144.2
          ],
          [
           9128.7
          ],
          [
           8432.4
          ],
          [
           8965.1
          ],
          [
           9891.7
          ],
          [
           10985.3
          ],
          [
           9997.1
          ],
          [
           10338.45
          ],
          [
           11791.9
          ],
          [
           9069.2
          ],
          [
           12455
          ],
          [
           9131
          ],
          [
           8636.3
          ],
          [
           8989.85
          ],
          [
           9786.8
          ],
          [
           9489.7
          ],
          [
           8298.7
          ],
          [
           9641.5
          ],
          [
           9649.6
          ],
          [
           13398.3
          ],
          [
           8392.6
          ],
          [
           9286.3
          ],
          [
           10033.85
          ],
          [
           9812.7
          ],
          [
           9436.9
          ],
          [
           17060.6
          ],
          [
           9220.8
          ],
          [
           12045.2
          ],
          [
           8482
          ],
          [
           9039.6
          ],
          [
           8662.5
          ],
          [
           10407.4
          ],
          [
           8245.1
          ],
          [
           9028.9
          ],
          [
           11276.75
          ],
          [
           10840.6
          ],
          [
           8703.3
          ],
          [
           9764.1
          ],
          [
           13217.8
          ],
          [
           10299.4
          ],
          [
           8225.6
          ],
          [
           10601.3
          ],
          [
           8498.2
          ],
          [
           8879.9
          ],
          [
           13006.8
          ],
          [
           8999.45
          ],
          [
           10085.55
          ],
          [
           9922.65
          ],
          [
           8619.5
          ],
          [
           8658.7
          ],
          [
           16804.7
          ],
          [
           10563.4
          ],
          [
           10505.1
          ],
          [
           9129.75
          ],
          [
           9170.65
          ],
          [
           8353.5
          ],
          [
           9704.8
          ],
          [
           8793.3
          ],
          [
           8619.2
          ],
          [
           12935.9
          ],
          [
           9186.6
          ],
          [
           9874.1
          ],
          [
           12645.75
          ],
          [
           8973.1
          ],
          [
           8768.25
          ],
          [
           10223
          ],
          [
           26235
          ],
          [
           14735.4
          ],
          [
           10550.7
          ],
          [
           10362.55
          ],
          [
           9122
          ],
          [
           12008.1
          ],
          [
           11938.5
          ],
          [
           11289.65
          ],
          [
           9100.4
          ],
          [
           9559.05
          ],
          [
           10058.2
          ],
          [
           9805.25
          ],
          [
           8792.8
          ],
          [
           11786
          ],
          [
           8659.8
          ],
          [
           8571.5
          ],
          [
           8770.1
          ],
          [
           8465.4
          ],
          [
           9332.9
          ],
          [
           10222.5
          ],
          [
           20597.3
          ],
          [
           15927.15
          ],
          [
           10643.05
          ],
          [
           12662.4
          ],
          [
           14518.7
          ],
          [
           9332.25
          ],
          [
           11316
          ],
          [
           9339.1
          ],
          [
           11990.7
          ],
          [
           8648.5
          ],
          [
           8596.15
          ],
          [
           8591.2
          ],
          [
           8296.3
          ],
          [
           11578.6
          ],
          [
           9050.7
          ],
          [
           13642.3
          ],
          [
           9441.5
          ],
          [
           9451.8
          ],
          [
           8878.7
          ],
          [
           8577.15
          ],
          [
           9001.8
          ],
          [
           8305.2
          ],
          [
           8986.3
          ],
          [
           10792.3
          ],
          [
           9467
          ],
          [
           12072.6
          ],
          [
           8993.95
          ],
          [
           10811.9
          ],
          [
           19262.7
          ],
          [
           9957
          ],
          [
           12701.1
          ],
          [
           8497
          ],
          [
           10180.6
          ],
          [
           9642
          ],
          [
           9069.3
          ],
          [
           8320.2
          ],
          [
           10709.45
          ],
          [
           13394.7
          ],
          [
           8765.7
          ],
          [
           8829.1
          ],
          [
           10644.55
          ],
          [
           8664.75
          ],
          [
           8795.75
          ],
          [
           9665.7
          ],
          [
           8379.75
          ],
          [
           14604.5
          ],
          [
           10736.05
          ],
          [
           9494.4
          ],
          [
           8971.45
          ],
          [
           10750.4
          ],
          [
           8418.75
          ],
          [
           11982.4
          ],
          [
           10093.75
          ],
          [
           9127.6
          ],
          [
           8272.5
          ],
          [
           8656.4
          ],
          [
           9545
          ],
          [
           11989.95
          ],
          [
           9511.8
          ],
          [
           8304.8
          ],
          [
           8522.95
          ],
          [
           9679.5
          ],
          [
           8354.9
          ],
          [
           12157.4
          ],
          [
           9461.5
          ],
          [
           9395
          ],
          [
           8406
          ],
          [
           8300.2
          ],
          [
           10231.8
          ],
          [
           8943
          ],
          [
           9828.1
          ],
          [
           10384.5
          ],
          [
           15573
          ],
          [
           12776.7
          ],
          [
           8535.45
          ],
          [
           13581.7
          ],
          [
           8946.2
          ],
          [
           12408.1
          ],
          [
           15880.5
          ],
          [
           10938.9
          ],
          [
           13587.3
          ],
          [
           11423.55
          ],
          [
           9065.5
          ],
          [
           8477.9
          ],
          [
           8312.2
          ],
          [
           11196.75
          ],
          [
           12179.8
          ],
          [
           10259.2
          ],
          [
           11461.65
          ],
          [
           10189.3
          ],
          [
           8685.9
          ],
          [
           11091.6
          ],
          [
           13401.2
          ],
          [
           8265.85
          ],
          [
           14844.35
          ],
          [
           11723.5
          ],
          [
           16465.75
          ],
          [
           13176.8
          ],
          [
           10291.3
          ],
          [
           30273.6
          ],
          [
           9530.8
          ],
          [
           9211.15
          ],
          [
           14559
          ],
          [
           8542.85
          ],
          [
           9175.2
          ],
          [
           9318.5
          ],
          [
           12269.5
          ],
          [
           9943.25
          ],
          [
           10762
          ],
          [
           9249.9
          ],
          [
           18472.3
          ],
          [
           10270.7
          ],
          [
           10053
          ],
          [
           8310.2
          ],
          [
           8709.15
          ],
          [
           8695
          ],
          [
           10109.4
          ],
          [
           10204.5
          ],
          [
           10227.4
          ],
          [
           13685.4
          ],
          [
           10560.3
          ],
          [
           9313.1
          ],
          [
           9873.4
          ],
          [
           9339.5
          ],
          [
           10888.95
          ],
          [
           8283.7
          ],
          [
           20150.1
          ],
          [
           16165.6
          ],
          [
           16771.4
          ],
          [
           9841.2
          ],
          [
           8307.4
          ],
          [
           8435.6
          ],
          [
           8513.5
          ],
          [
           12657.2
          ],
          [
           9301.7
          ],
          [
           8797.5
          ],
          [
           10287.15
          ],
          [
           12636.8
          ],
          [
           8529.4
          ],
          [
           10857.65
          ],
          [
           15885.6
          ],
          [
           8313.1
          ],
          [
           12791.3
          ],
          [
           11820.7
          ],
          [
           8274.75
          ],
          [
           9288.7
          ],
          [
           10309.8
          ],
          [
           11507.2
          ],
          [
           8419.2
          ],
          [
           8836.95
          ],
          [
           10362.9
          ],
          [
           9716.45
          ],
          [
           11138.2
          ],
          [
           12455.6
          ],
          [
           9720.9
          ],
          [
           8412.2
          ],
          [
           14690.7
          ],
          [
           9459.6
          ],
          [
           9407.2
          ],
          [
           8547.6
          ],
          [
           16868.55
          ],
          [
           15180.85
          ],
          [
           10697.6
          ],
          [
           12308.7
          ],
          [
           10701.65
          ],
          [
           13400.1
          ],
          [
           9172.3
          ],
          [
           10505.95
          ],
          [
           8844.6
          ],
          [
           9680.8
          ],
          [
           9853.5
          ],
          [
           12012.5
          ],
          [
           10301.9
          ],
          [
           8669
          ],
          [
           12393.35
          ],
          [
           10403.9
          ],
          [
           10819.95
          ],
          [
           8412.9
          ],
          [
           16459.9
          ],
          [
           13556.8
          ],
          [
           13481.2
          ],
          [
           11127.7
          ],
          [
           10430.3
          ],
          [
           10363.45
          ],
          [
           16453.8
          ],
          [
           9332.85
          ],
          [
           13083.1
          ],
          [
           13754.15
          ],
          [
           12265.8
          ],
          [
           11070.05
          ],
          [
           10405.5
          ],
          [
           10690.8
          ],
          [
           10138.3
          ],
          [
           13198.1
          ],
          [
           8846.1
          ],
          [
           18348.6
          ],
          [
           10583.7
          ],
          [
           9651.1
          ],
          [
           9509.2
          ],
          [
           10591.7
          ],
          [
           9050.9
          ],
          [
           12488.8
          ],
          [
           8236.6
          ],
          [
           9826.9
          ],
          [
           9889.7
          ],
          [
           9735.5
          ],
          [
           12344.5
          ],
          [
           8310.1
          ],
          [
           9440.05
          ],
          [
           12287.2
          ],
          [
           10507.3
          ],
          [
           9627.6
          ],
          [
           17793.7
          ],
          [
           9019.35
          ],
          [
           9980.05
          ],
          [
           12469.7
          ],
          [
           8557.1
          ],
          [
           9265.5
          ],
          [
           13182.25
          ],
          [
           9028.05
          ],
          [
           9857.8
          ],
          [
           8875.15
          ],
          [
           8330.2
          ],
          [
           8310.4
          ],
          [
           8266.1
          ],
          [
           12120.9
          ],
          [
           8577.3
          ],
          [
           8347.2
          ],
          [
           8228.9
          ],
          [
           9774
          ],
          [
           11383.45
          ],
          [
           12324.4
          ],
          [
           11308.5
          ],
          [
           9251.7
          ],
          [
           9799.5
          ],
          [
           8565.2
          ],
          [
           10400.5
          ],
          [
           8754.3
          ],
          [
           9928.25
          ],
          [
           10250.3
          ],
          [
           8360.6
          ],
          [
           17466.4
          ],
          [
           8253.15
          ],
          [
           13874.3
          ],
          [
           16101.6
          ],
          [
           9750.2
          ],
          [
           11759.7
          ],
          [
           8983.1
          ],
          [
           8930.2
          ],
          [
           9767.1
          ],
          [
           12461.8
          ],
          [
           8353.9
          ],
          [
           8423.7
          ],
          [
           19719.4
          ],
          [
           9744.4
          ],
          [
           9698.1
          ],
          [
           10218
          ],
          [
           9012.6
          ],
          [
           8954.2
          ],
          [
           8242.9
          ],
          [
           13284.3
          ],
          [
           8493.75
          ],
          [
           11557.2
          ],
          [
           11237.3
          ],
          [
           8440.7
          ],
          [
           9807
          ],
          [
           13313.5
          ],
          [
           8791.2
          ],
          [
           9850.8
          ],
          [
           10366.5
          ],
          [
           9222.1
          ],
          [
           8239.1
          ],
          [
           10664.8
          ],
          [
           8261.5
          ],
          [
           9875.5
          ],
          [
           8514.5
          ],
          [
           10338
          ],
          [
           9106.8
          ],
          [
           11195.25
          ],
          [
           8349.4
          ],
          [
           11561.1
          ],
          [
           8465
          ],
          [
           8363.3
          ],
          [
           9022.6
          ],
          [
           9397.6
          ],
          [
           8409.8
          ],
          [
           8283.6
          ],
          [
           10566.4
          ],
          [
           8213.4
          ],
          [
           8862.25
          ],
          [
           17157.8
          ],
          [
           9001.6
          ],
          [
           9220.9
          ],
          [
           8678
          ],
          [
           9329.2
          ],
          [
           8776.2
          ],
          [
           10526.5
          ],
          [
           8262.55
          ],
          [
           8253.4
          ],
          [
           8239
          ],
          [
           13186.1
          ],
          [
           12550.9
          ],
          [
           8763.2
          ],
          [
           8805.8
          ],
          [
           8464.85
          ],
          [
           9246
          ],
          [
           10669.9
          ],
          [
           8681.05
          ],
          [
           12291.3
          ],
          [
           10692.4
          ],
          [
           8981.6
          ],
          [
           9168
          ],
          [
           11041.95
          ],
          [
           10160
          ],
          [
           10466.6
          ],
          [
           13085.8
          ],
          [
           9659.2
          ],
          [
           9325
          ],
          [
           9658.1
          ],
          [
           9782.8
          ],
          [
           12895.55
          ],
          [
           8267.4
          ],
          [
           9259.1
          ],
          [
           10621.4
          ],
          [
           11119.3
          ],
          [
           12623
          ],
          [
           8539.65
          ],
          [
           8947
          ],
          [
           8920.7
          ],
          [
           8725.5
          ],
          [
           15084.6
          ],
          [
           10351.8
          ],
          [
           9026.2
          ],
          [
           8270.7
          ],
          [
           10605
          ],
          [
           9012.65
          ],
          [
           9356.75
          ],
          [
           9006.7
          ],
          [
           8280.7
          ],
          [
           10375.25
          ],
          [
           8991.85
          ],
          [
           11928.7
          ],
          [
           14381.9
          ],
          [
           8895.8
          ],
          [
           10685.5
          ],
          [
           8972.95
          ],
          [
           12455.6
          ],
          [
           9328
          ],
          [
           10195.6
          ],
          [
           10496.8
          ],
          [
           9348.8
          ],
          [
           8421
          ],
          [
           8922.7
          ],
          [
           8716.95
          ],
          [
           13826.9
          ],
          [
           8507.6
          ],
          [
           12335.1
          ],
          [
           8619.85
          ],
          [
           8598.6
          ],
          [
           9967.8
          ],
          [
           9169
          ],
          [
           10768.7
          ],
          [
           8553.7
          ],
          [
           13618
          ],
          [
           11095
          ],
          [
           9741.2
          ],
          [
           26424.1
          ],
          [
           20693
          ],
          [
           8236.5
          ],
          [
           10829.1
          ],
          [
           8905.7
          ],
          [
           8506
          ],
          [
           8353.6
          ],
          [
           8387.75
          ],
          [
           8393.1
          ],
          [
           27988.8
          ],
          [
           8486.9
          ],
          [
           8214.05
          ],
          [
           8493.7
          ],
          [
           9060
          ],
          [
           9345.25
          ],
          [
           8417.9
          ],
          [
           12897.75
          ],
          [
           8603.6
          ],
          [
           9851.5
          ],
          [
           9507.35
          ],
          [
           9983.6
          ],
          [
           20429.6
          ],
          [
           8497.45
          ],
          [
           8442.1
          ],
          [
           10269.9
          ],
          [
           10787.25
          ],
          [
           13676.25
          ],
          [
           8575.7
          ],
          [
           16108.75
          ],
          [
           8604.1
          ],
          [
           10988.4
          ],
          [
           9515.5
          ],
          [
           11257.85
          ],
          [
           9890.7
          ],
          [
           8360.7
          ],
          [
           9509.9
          ],
          [
           10294.65
          ],
          [
           10095.65
          ],
          [
           8960.7
          ],
          [
           8781.6
          ],
          [
           8666.8
          ],
          [
           8298.3
          ],
          [
           10119
          ],
          [
           8453.4
          ],
          [
           9971.9
          ],
          [
           9088.6
          ],
          [
           9843
          ],
          [
           9395.9
          ],
          [
           11132.25
          ],
          [
           9198.3
          ],
          [
           9022.7
          ],
          [
           10721.95
          ],
          [
           8830.4
          ],
          [
           8325.8
          ],
          [
           9030.2
          ],
          [
           8462
          ],
          [
           10820.9
          ],
          [
           8402.2
          ],
          [
           10180
          ],
          [
           10751.7
          ],
          [
           8618.8
          ],
          [
           10689.9
          ],
          [
           8233.95
          ],
          [
           9682.7
          ],
          [
           8229.8
          ],
          [
           9552
          ],
          [
           15118.7
          ],
          [
           9406.7
          ],
          [
           8520.2
          ],
          [
           9891.3
          ],
          [
           8389.65
          ],
          [
           11899.4
          ],
          [
           8488.1
          ],
          [
           8476.6
          ],
          [
           12018.9
          ],
          [
           9479.6
          ],
          [
           10877.9
          ],
          [
           8779.05
          ],
          [
           13905.35
          ],
          [
           8473.15
          ],
          [
           10331.2
          ],
          [
           10502.2
          ],
          [
           14868.95
          ],
          [
           9400.9
          ],
          [
           9088.35
          ],
          [
           14083.2
          ],
          [
           8516.3
          ],
          [
           9956.8
          ],
          [
           10135.8
          ],
          [
           8851.9
          ],
          [
           8898.65
          ],
          [
           11257.5
          ],
          [
           8890.7
          ],
          [
           8422.2
          ],
          [
           9433.85
          ],
          [
           9734.3
          ],
          [
           9507.85
          ],
          [
           8685.3
          ],
          [
           8802.2
          ],
          [
           8776.65
          ],
          [
           8375.4
          ],
          [
           9081.2
          ],
          [
           8466.2
          ],
          [
           10426.3
          ],
          [
           11561.65
          ],
          [
           24699
          ],
          [
           17499.4
          ],
          [
           8645.1
          ],
          [
           8508.8
          ],
          [
           8479.4
          ],
          [
           8607.3
          ],
          [
           8384.4
          ],
          [
           15453.95
          ],
          [
           9292.7
          ],
          [
           14876.8
          ],
          [
           9412.8
          ],
          [
           10867.1
          ],
          [
           10951.95
          ],
          [
           8321.4
          ],
          [
           8652
          ],
          [
           9601.65
          ],
          [
           8614.9
          ],
          [
           9837.3
          ],
          [
           15313.9
          ],
          [
           11910.1
          ],
          [
           8219
          ],
          [
           8836
          ],
          [
           11091.5
          ],
          [
           8561.6
          ],
          [
           8335.6
          ],
          [
           8256.4
          ],
          [
           8274.15
          ],
          [
           9526.5
          ],
          [
           10512.95
          ],
          [
           10053.45
          ],
          [
           10492.65
          ],
          [
           8449.15
          ],
          [
           12106.2
          ],
          [
           9498.1
          ],
          [
           11713.3
          ],
          [
           10289.8
          ],
          [
           11046.9
          ],
          [
           9674.8
          ],
          [
           9472.4
          ],
          [
           8605.7
          ],
          [
           9223.9
          ],
          [
           10018.6
          ],
          [
           8899.4
          ],
          [
           9524.9
          ],
          [
           10034.2
          ],
          [
           9384.9
          ],
          [
           11981.5
          ],
          [
           10344.95
          ],
          [
           8646.95
          ],
          [
           11213.3
          ],
          [
           8464.5
          ],
          [
           8210.3
          ],
          [
           8471.95
          ],
          [
           11943.4
          ],
          [
           9141.2
          ],
          [
           12799.95
          ],
          [
           8462.7
          ],
          [
           9919.9
          ],
          [
           9197.5
          ],
          [
           8472.6
          ],
          [
           14501.3
          ],
          [
           9222.7
          ],
          [
           8451.6
          ],
          [
           9839.9
          ],
          [
           9761.2
          ],
          [
           13413.6
          ],
          [
           12328.8
          ],
          [
           8642.2
          ],
          [
           9789.35
          ],
          [
           9982.8
          ],
          [
           10665.6
          ],
          [
           8701.45
          ],
          [
           8995.8
          ],
          [
           8554.7
          ],
          [
           9954.1
          ],
          [
           12446.5
          ],
          [
           10106.05
          ],
          [
           9351.5
          ],
          [
           11512.65
          ],
          [
           13107
          ],
          [
           8750.2
          ],
          [
           10092.35
          ],
          [
           9626.2
          ],
          [
           8531
          ],
          [
           9649.1
          ],
          [
           8897.1
          ],
          [
           10545.8
          ],
          [
           13842.9
          ],
          [
           8254.5
          ],
          [
           9013
          ],
          [
           9037.3
          ],
          [
           9691.45
          ],
          [
           9715.95
          ],
          [
           12444.45
          ],
          [
           8367.4
          ],
          [
           16537.8
          ],
          [
           9715.35
          ],
          [
           8345.8
          ],
          [
           13249.55
          ],
          [
           9698.6
          ],
          [
           8663
          ],
          [
           8709.25
          ],
          [
           13812.8
          ],
          [
           11117.1
          ],
          [
           9153.2
          ],
          [
           8311.6
          ],
          [
           8741
          ],
          [
           8728.6
          ],
          [
           9849.7
          ],
          [
           9721.9
          ],
          [
           8781.9
          ],
          [
           8640.5
          ],
          [
           9786.1
          ],
          [
           8523.1
          ],
          [
           9001
          ],
          [
           9545.2
          ],
          [
           16138.5
          ],
          [
           18625.6
          ],
          [
           8305.5
          ],
          [
           8503.3
          ],
          [
           13166.3
          ],
          [
           8576.4
          ],
          [
           8462.3
          ],
          [
           10232.5
          ],
          [
           9447.6
          ],
          [
           8763.9
          ],
          [
           8284.1
          ],
          [
           10231.2
          ],
          [
           8694.7
          ],
          [
           8914.65
          ],
          [
           8691.8
          ],
          [
           9907.8
          ],
          [
           8650.9
          ],
          [
           11257.3
          ],
          [
           8290.5
          ],
          [
           8805.5
          ],
          [
           8267.4
          ],
          [
           9392.8
          ],
          [
           9962.45
          ],
          [
           10823.75
          ],
          [
           8643.45
          ],
          [
           11103.8
          ],
          [
           9125.4
          ],
          [
           10182.8
          ],
          [
           8416.8
          ],
          [
           10322.3
          ],
          [
           8472.75
          ],
          [
           8696
          ],
          [
           10228.75
          ],
          [
           8493.65
          ],
          [
           8848
          ],
          [
           11452.75
          ],
          [
           9169.6
          ],
          [
           9147.7
          ],
          [
           10551.7
          ],
          [
           10008.5
          ],
          [
           10000.8
          ],
          [
           9874.9
          ],
          [
           10546.6
          ],
          [
           8586.25
          ],
          [
           11004.7
          ],
          [
           8224.95
          ],
          [
           8817.65
          ],
          [
           9942.8
          ],
          [
           13718.35
          ],
          [
           13270.2
          ],
          [
           9072.3
          ],
          [
           8709.9
          ],
          [
           8331.2
          ],
          [
           8761.9
          ],
          [
           9525.2
          ],
          [
           9576.4
          ],
          [
           10250.9
          ],
          [
           8337.8
          ],
          [
           8415.4
          ],
          [
           9756.5
          ],
          [
           11645.15
          ],
          [
           9723.6
          ],
          [
           8781.4
          ],
          [
           12811
          ],
          [
           9111.6
          ],
          [
           8262.7
          ],
          [
           8490.2
          ],
          [
           9171.05
          ],
          [
           8290.9
          ],
          [
           9110.7
          ],
          [
           9962.2
          ],
          [
           10332.2
          ],
          [
           8779.2
          ],
          [
           12448.7
          ],
          [
           8997.35
          ],
          [
           8368.75
          ],
          [
           10234.4
          ],
          [
           12220.15
          ],
          [
           10811.35
          ],
          [
           8969.7
          ],
          [
           9749.4
          ],
          [
           12218.9
          ],
          [
           8681
          ],
          [
           8685.5
          ],
          [
           9539.6
          ],
          [
           8616.3
          ],
          [
           10386.7
          ],
          [
           8565.2
          ],
          [
           12785.3
          ],
          [
           8242.8
          ],
          [
           10309.7
          ],
          [
           11903.45
          ],
          [
           8318.2
          ],
          [
           8857.75
          ],
          [
           9869.1
          ],
          [
           10402.8
          ],
          [
           8672.8
          ],
          [
           8665.1
          ],
          [
           10677.1
          ],
          [
           8460.4
          ],
          [
           9054.4
          ],
          [
           8800.75
          ],
          [
           11442.9
          ],
          [
           8350.7
          ],
          [
           8302.7
          ],
          [
           9720.9
          ],
          [
           8867.7
          ],
          [
           9584
          ],
          [
           8455.5
          ],
          [
           8371.3
          ],
          [
           10678
          ],
          [
           11728.5
          ],
          [
           9026.8
          ],
          [
           12180.8
          ],
          [
           8939.5
          ],
          [
           9337.2
          ],
          [
           8267.1
          ],
          [
           11455.5
          ],
          [
           8915.8
          ],
          [
           10312.1
          ],
          [
           10552.3
          ],
          [
           9340.9
          ],
          [
           11101.9
          ],
          [
           8788.2
          ],
          [
           16617.5
          ],
          [
           16084
          ],
          [
           9519.7
          ],
          [
           12084.6
          ],
          [
           8397
          ],
          [
           8826.1
          ],
          [
           9816.2
          ],
          [
           8677.2
          ],
          [
           8901.7
          ],
          [
           11716.6
          ],
          [
           12533.3
          ],
          [
           12842.1
          ],
          [
           9635.3
          ],
          [
           8348.85
          ],
          [
           8546
          ],
          [
           8402.55
          ],
          [
           8586.3
          ],
          [
           13259.75
          ],
          [
           8460.85
          ],
          [
           10305.05
          ],
          [
           9958
          ],
          [
           9163.5
          ],
          [
           15873.9
          ],
          [
           10211.15
          ],
          [
           10305.85
          ],
          [
           8728.3
          ],
          [
           12878.4
          ],
          [
           11620.8
          ],
          [
           9481.4
          ],
          [
           9911.3
          ],
          [
           13626
          ],
          [
           9462.8
          ],
          [
           8468.45
          ],
          [
           9336.2
          ],
          [
           8329.45
          ],
          [
           10500
          ],
          [
           8729.9
          ],
          [
           8401.65
          ],
          [
           8506.25
          ],
          [
           9561.55
          ],
          [
           9379.2
          ],
          [
           11582.45
          ],
          [
           8655.15
          ],
          [
           8452.05
          ],
          [
           10685.85
          ],
          [
           9250.7
          ],
          [
           10340
          ],
          [
           8588.9
          ],
          [
           11174.2
          ],
          [
           12919.1
          ],
          [
           10951
          ],
          [
           10217.7
          ],
          [
           8715.2
          ],
          [
           8975.45
          ],
          [
           11137.85
          ],
          [
           9049.9
          ],
          [
           8401.6
          ],
          [
           8819.5
          ],
          [
           8912
          ],
          [
           9980.2
          ],
          [
           8756
          ],
          [
           13379.1
          ],
          [
           11684.5
          ],
          [
           10279.65
          ],
          [
           11964.1
          ],
          [
           8790.5
          ],
          [
           8825.85
          ],
          [
           11072.8
          ],
          [
           9207.4
          ],
          [
           8455.9
          ],
          [
           9056.9
          ],
          [
           13006.7
          ],
          [
           8423.1
          ],
          [
           9267.8
          ],
          [
           9135.35
          ],
          [
           9387.8
          ],
          [
           8918.4
          ],
          [
           9631.25
          ],
          [
           9923
          ],
          [
           11244.4
          ],
          [
           8856
          ],
          [
           12051.6
          ],
          [
           15263.85
          ],
          [
           15717.6
          ],
          [
           8301.8
          ],
          [
           12470.3
          ],
          [
           10336.6
          ],
          [
           9199.7
          ],
          [
           9965.7
          ],
          [
           10468.2
          ],
          [
           9118
          ],
          [
           8426.7
          ],
          [
           10392.05
          ],
          [
           10008.6
          ],
          [
           8835.9
          ],
          [
           8897.25
          ],
          [
           9192.5
          ],
          [
           10863.1
          ],
          [
           8904
          ],
          [
           9250.7
          ],
          [
           8748.6
          ],
          [
           9942.75
          ],
          [
           10071.95
          ],
          [
           13294.65
          ],
          [
           9529.4
          ],
          [
           8848.8
          ],
          [
           9142.6
          ],
          [
           8705.8
          ],
          [
           8420.8
          ],
          [
           14121.5
          ],
          [
           8758.5
          ],
          [
           9980.5
          ],
          [
           10540.25
          ],
          [
           9866.7
          ],
          [
           8501.1
          ],
          [
           10654.9
          ],
          [
           12985.4
          ],
          [
           8861.6
          ],
          [
           9699.1
          ],
          [
           9296.3
          ],
          [
           9189
          ],
          [
           10322.85
          ],
          [
           11302.7
          ],
          [
           9128.45
          ],
          [
           10042
          ],
          [
           8605.9
          ],
          [
           9295.85
          ],
          [
           9808.75
          ],
          [
           13669.45
          ],
          [
           11223.1
          ],
          [
           9003.35
          ],
          [
           9260.9
          ],
          [
           8723.5
          ],
          [
           8369
          ],
          [
           8876.35
          ],
          [
           15780.7
          ],
          [
           8577.2
          ],
          [
           8820.7
          ],
          [
           9054.65
          ],
          [
           9932.4
          ],
          [
           8794.5
          ],
          [
           9116.9
          ],
          [
           8423.6
          ],
          [
           8587.65
          ],
          [
           9084.25
          ],
          [
           8967.4
          ],
          [
           8539.8
          ],
          [
           8488
          ],
          [
           9491.8
          ],
          [
           10997.9
          ],
          [
           12921.2
          ],
          [
           8864.5
          ],
          [
           10202.6
          ],
          [
           11713.7
          ],
          [
           8517.95
          ],
          [
           9525.1
          ],
          [
           11266.95
          ],
          [
           8291.8
          ],
          [
           9719.7
          ],
          [
           12130.5
          ],
          [
           8594.3
          ],
          [
           8462.8
          ],
          [
           11764.8
          ],
          [
           8847.45
          ],
          [
           8946.4
          ],
          [
           24252.9
          ],
          [
           9248.2
          ],
          [
           8767.9
          ],
          [
           8767.1
          ],
          [
           11991.55
          ],
          [
           9764.5
          ],
          [
           19311.4
          ],
          [
           12780.6
          ],
          [
           8306.9
          ],
          [
           8350.6
          ],
          [
           19507.4
          ],
          [
           8276.2
          ],
          [
           12314.3
          ],
          [
           8288.85
          ],
          [
           8529.4
          ],
          [
           9846.3
          ],
          [
           11805.5
          ],
          [
           10045
          ],
          [
           20651.2
          ],
          [
           10083.9
          ],
          [
           8245.5
          ],
          [
           8356.85
          ],
          [
           13414.1
          ],
          [
           8842.4
          ],
          [
           8335.1
          ],
          [
           10670.6
          ],
          [
           13490.95
          ],
          [
           11751.65
          ],
          [
           9144.55
          ],
          [
           9956.45
          ],
          [
           8851.4
          ],
          [
           9032.35
          ],
          [
           10753.3
          ],
          [
           10487.3
          ],
          [
           11905.55
          ],
          [
           11437.9
          ],
          [
           9772.9
          ],
          [
           10807.3
          ],
          [
           9867.1
          ],
          [
           15125.2
          ],
          [
           10489.3
          ],
          [
           9838.6
          ],
          [
           8471.5
          ],
          [
           8705.9
          ],
          [
           10122.1
          ],
          [
           8428.6
          ],
          [
           10253.6
          ],
          [
           10860.5
          ],
          [
           9413.3
          ],
          [
           11272.3
          ],
          [
           9800.95
          ],
          [
           13919.4
          ],
          [
           12086
          ],
          [
           9004.25
          ],
          [
           11006.95
          ],
          [
           11018.7
          ],
          [
           11625.25
          ],
          [
           10211.7
          ],
          [
           8315.9
          ],
          [
           13315.6
          ],
          [
           8903.05
          ],
          [
           10495.7
          ],
          [
           8336.3
          ],
          [
           9468.95
          ],
          [
           9545.1
          ],
          [
           8412.2
          ],
          [
           8294.8
          ],
          [
           11780.2
          ],
          [
           9838.35
          ],
          [
           9680.55
          ],
          [
           17240.4
          ],
          [
           9710.3
          ],
          [
           13241
          ],
          [
           8274.6
          ],
          [
           8999.7
          ],
          [
           10730.5
          ],
          [
           19282.55
          ],
          [
           13019.2
          ],
          [
           10677.4
          ],
          [
           8299.3
          ],
          [
           9515.2
          ],
          [
           8286.15
          ],
          [
           9606.4
          ],
          [
           9542.05
          ],
          [
           12066.7
          ],
          [
           9132.5
          ],
          [
           9031.3
          ],
          [
           9671.6
          ],
          [
           8276.1
          ],
          [
           8719.2
          ],
          [
           8364.2
          ],
          [
           8779
          ],
          [
           10217.8
          ],
          [
           8701.9
          ],
          [
           9005.5
          ],
          [
           10974.85
          ],
          [
           11184.5
          ],
          [
           8215.9
          ],
          [
           8842.2
          ],
          [
           8864.5
          ],
          [
           8344.1
          ],
          [
           8242.8
          ],
          [
           10188.8
          ],
          [
           8330.8
          ],
          [
           8659.4
          ],
          [
           12291.4
          ],
          [
           10031.8
          ],
          [
           8406.5
          ],
          [
           10188.3
          ],
          [
           9660.2
          ],
          [
           9407.9
          ],
          [
           9452.9
          ],
          [
           9878.45
          ],
          [
           9398.6
          ],
          [
           9633.1
          ],
          [
           10181.7
          ],
          [
           9116.75
          ],
          [
           9037.7
          ],
          [
           9530.7
          ],
          [
           8300.8
          ],
          [
           9172.8
          ],
          [
           9770.7
          ],
          [
           10904.4
          ],
          [
           9383.2
          ],
          [
           8308.9
          ],
          [
           9752.4
          ],
          [
           10224.4
          ],
          [
           8458.4
          ],
          [
           15327.3
          ],
          [
           11654.35
          ],
          [
           9837.2
          ],
          [
           12121.2
          ],
          [
           11888.3
          ],
          [
           11565
          ],
          [
           13840.75
          ],
          [
           9536.9
          ],
          [
           9194.2
          ],
          [
           8620.5
          ],
          [
           8712.4
          ],
          [
           8975.5
          ],
          [
           11205.65
          ],
          [
           10411.3
          ],
          [
           13210
          ],
          [
           8945.5
          ],
          [
           10804.9
          ],
          [
           10827.2
          ],
          [
           12077.1
          ],
          [
           9927.75
          ],
          [
           8504.55
          ],
          [
           11615.4
          ],
          [
           13281.9
          ],
          [
           10859.3
          ],
          [
           8915.9
          ],
          [
           9075.45
          ],
          [
           10599.8
          ],
          [
           9089.7
          ],
          [
           13582.4
          ],
          [
           12348.2
          ],
          [
           10332.3
          ],
          [
           9420.1
          ],
          [
           9429.1
          ],
          [
           8329.9
          ],
          [
           8364.55
          ],
          [
           8334
          ],
          [
           9039.9
          ],
          [
           9099.2
          ],
          [
           12789
          ],
          [
           8786.2
          ],
          [
           12195.4
          ],
          [
           10208.7
          ],
          [
           20209.6
          ],
          [
           9701.2
          ],
          [
           8462.2
          ],
          [
           9097.7
          ],
          [
           10156.2
          ],
          [
           8784.35
          ],
          [
           8397
          ],
          [
           10577.4
          ],
          [
           9950.1
          ],
          [
           8946.4
          ],
          [
           9733.15
          ],
          [
           8448.5
          ],
          [
           10290.6
          ],
          [
           8227.9
          ],
          [
           8404.7
          ],
          [
           8220.05
          ],
          [
           9575.15
          ],
          [
           12514
          ],
          [
           9429.8
          ],
          [
           8819
          ],
          [
           9133.7
          ],
          [
           10132.8
          ],
          [
           9148.15
          ],
          [
           13119.45
          ],
          [
           12260.35
          ],
          [
           9721.3
          ],
          [
           8307.4
          ],
          [
           11162.5
          ],
          [
           9477.55
          ],
          [
           8583.4
          ],
          [
           9274.9
          ],
          [
           8250.6
          ],
          [
           10042.3
          ],
          [
           9796.9
          ],
          [
           12126.2
          ],
          [
           10763.4
          ],
          [
           15245.4
          ],
          [
           13330.7
          ],
          [
           9328.15
          ],
          [
           10237.6
          ],
          [
           8918.9
          ],
          [
           9176.9
          ],
          [
           8560.2
          ],
          [
           9347.85
          ],
          [
           8942
          ],
          [
           8815.05
          ],
          [
           8468.5
          ],
          [
           12058.1
          ],
          [
           8935.1
          ],
          [
           8589.25
          ],
          [
           8954.4
          ],
          [
           8572.4
          ],
          [
           10111.4
          ],
          [
           10394.5
          ],
          [
           9297.2
          ],
          [
           8956.7
          ],
          [
           8493.9
          ],
          [
           10063.95
          ],
          [
           8820.45
          ],
          [
           8736.8
          ],
          [
           9147.3
          ],
          [
           8302.55
          ],
          [
           12388.15
          ],
          [
           11078.2
          ],
          [
           9905.15
          ],
          [
           8964.5
          ],
          [
           10113.5
          ],
          [
           14052.7
          ],
          [
           8413.7
          ],
          [
           9121.8
          ],
          [
           9726
          ],
          [
           8924.1
          ],
          [
           11511.2
          ],
          [
           8680.7
          ],
          [
           10077.2
          ],
          [
           13366.9
          ],
          [
           11099.3
          ],
          [
           8355.1
          ],
          [
           9476.8
          ],
          [
           8323.9
          ],
          [
           10758.75
          ],
          [
           13566.3
          ],
          [
           8753
          ],
          [
           11875.2
          ],
          [
           11995
          ],
          [
           14367.9
          ],
          [
           10914.4
          ],
          [
           9278.6
          ],
          [
           9988.8
          ],
          [
           9475.7
          ],
          [
           13000.9
          ],
          [
           9033.6
          ],
          [
           13952.8
          ],
          [
           10835.4
          ],
          [
           8482.45
          ],
          [
           9898
          ],
          [
           8428
          ],
          [
           13669.75
          ],
          [
           9064.7
          ],
          [
           13986.5
          ],
          [
           8449.1
          ],
          [
           8642.05
          ],
          [
           8687.9
          ],
          [
           11192.3
          ],
          [
           8597.85
          ],
          [
           9535.45
          ],
          [
           9924.1
          ],
          [
           8663.9
          ],
          [
           8902.6
          ],
          [
           12509.45
          ],
          [
           9412.45
          ],
          [
           9747.1
          ],
          [
           11834.4
          ],
          [
           11060.8
          ],
          [
           9323.2
          ],
          [
           8644.1
          ],
          [
           9428.8
          ],
          [
           9390.4
          ],
          [
           8233.5
          ],
          [
           8585.8
          ],
          [
           9221.5
          ],
          [
           13731.7
          ],
          [
           9378.35
          ],
          [
           9335.3777778
          ],
          [
           8757.8
          ],
          [
           9353.1
          ],
          [
           15377.1
          ],
          [
           10964.4
          ],
          [
           9516.1
          ],
          [
           8713.2
          ],
          [
           12314.4
          ],
          [
           9421.6
          ],
          [
           9610.75
          ],
          [
           8570.8
          ],
          [
           12238.7
          ],
          [
           11193
          ],
          [
           8225.3
          ],
          [
           12790
          ],
          [
           12330.3
          ],
          [
           9037.4
          ],
          [
           9437.4
          ],
          [
           8940.6
          ],
          [
           10385.4
          ],
          [
           10068.4
          ],
          [
           11513.5
          ],
          [
           8795.5
          ],
          [
           9276.95
          ],
          [
           8804.3
          ],
          [
           13618.3
          ],
          [
           8272.15
          ],
          [
           10678
          ],
          [
           9729.35
          ],
          [
           12966.7
          ],
          [
           8229.4
          ],
          [
           9997.8
          ],
          [
           11132.1
          ],
          [
           9588.95
          ],
          [
           9305.3
          ],
          [
           8233
          ],
          [
           8906.2
          ],
          [
           8637
          ],
          [
           8835.7
          ],
          [
           8320.4
          ],
          [
           11399.6
          ],
          [
           13440
          ],
          [
           10107.8
          ],
          [
           9733.3
          ],
          [
           13551.95
          ],
          [
           8665.6
          ],
          [
           9248.5
          ],
          [
           8632.9
          ],
          [
           8671.9
          ],
          [
           8355.8
          ],
          [
           9072.9
          ],
          [
           8607.6
          ],
          [
           8456.8
          ],
          [
           11887.7
          ],
          [
           10551.4
          ],
          [
           9787.8
          ],
          [
           10305.05
          ],
          [
           9709.7
          ],
          [
           15282.4
          ],
          [
           10391.9
          ],
          [
           8337.75
          ],
          [
           9211.2
          ],
          [
           9932.75
          ],
          [
           8260.85
          ],
          [
           9169.8
          ],
          [
           8660.6
          ],
          [
           8822.05
          ],
          [
           10825.9
          ],
          [
           9086.8
          ],
          [
           11708.7
          ],
          [
           11010.4
          ],
          [
           9729.4
          ],
          [
           10793
          ],
          [
           8634.95
          ],
          [
           8954.4
          ],
          [
           12180.4
          ],
          [
           8403.55
          ],
          [
           10727.8
          ],
          [
           11902.7
          ],
          [
           8324.05
          ],
          [
           13737
          ],
          [
           9028
          ],
          [
           11660.1
          ],
          [
           13055.3
          ],
          [
           9221.65
          ],
          [
           15706.5
          ],
          [
           10987.45
          ],
          [
           10662.75
          ],
          [
           12185.8
          ],
          [
           9795.6
          ],
          [
           10246.8
          ],
          [
           12438.05
          ],
          [
           9535
          ],
          [
           9675
          ],
          [
           8630.6
          ],
          [
           8789.9
          ],
          [
           9624.8
          ],
          [
           12714.7
          ],
          [
           8286.5
          ],
          [
           10392.6
          ],
          [
           12602.25
          ],
          [
           8662.2
          ],
          [
           11214
          ],
          [
           10339.1
          ],
          [
           8673.9
          ],
          [
           10381.1
          ],
          [
           8375.3
          ],
          [
           8565.55
          ],
          [
           8937.7
          ],
          [
           9645.7
          ],
          [
           8221.2
          ],
          [
           8599.9
          ],
          [
           8785.35
          ],
          [
           13627.95
          ],
          [
           9002.45
          ],
          [
           9753.6
          ],
          [
           11704.1
          ],
          [
           8569.4
          ],
          [
           9070.2
          ],
          [
           14161
          ],
          [
           12410.9
          ],
          [
           13719
          ],
          [
           9260.4
          ],
          [
           10341
          ],
          [
           8876.2
          ],
          [
           10194
          ],
          [
           9698.7
          ],
          [
           8881.2
          ],
          [
           9094.1
          ],
          [
           14717.9
          ],
          [
           12214
          ],
          [
           10365.4
          ],
          [
           8336.6
          ],
          [
           9494.3
          ],
          [
           10257.3
          ],
          [
           8500.15
          ],
          [
           8914.85
          ],
          [
           8878.15
          ],
          [
           9100
          ],
          [
           8509.9
          ],
          [
           9688.7
          ],
          [
           14386.5
          ],
          [
           8911.55
          ],
          [
           10056.3
          ],
          [
           9601.3
          ],
          [
           8950.7
          ],
          [
           9066.25
          ],
          [
           8526.05
          ],
          [
           13152.4
          ],
          [
           9574
          ],
          [
           8824.65
          ],
          [
           8762
          ],
          [
           9136.7
          ],
          [
           8299.9
          ],
          [
           8947.6
          ],
          [
           9369.9
          ],
          [
           9784.35
          ],
          [
           10795.6
          ],
          [
           9770.9
          ],
          [
           8368.2
          ],
          [
           8851.2
          ],
          [
           8970.1
          ],
          [
           10653
          ],
          [
           9335
          ],
          [
           10986.3
          ],
          [
           8872.5
          ],
          [
           8952.05
          ],
          [
           10092.7
          ],
          [
           8465.5
          ],
          [
           9641.85
          ],
          [
           15981.4
          ],
          [
           10168.6
          ],
          [
           9632.65
          ],
          [
           10886.2
          ],
          [
           9087.3
          ],
          [
           8322.1
          ],
          [
           8661.1
          ],
          [
           10286.8
          ],
          [
           9892.1
          ],
          [
           9266.7
          ],
          [
           10464.9
          ],
          [
           8353.3
          ],
          [
           9934.7
          ],
          [
           8492.4
          ],
          [
           8213.7
          ],
          [
           10400.3
          ],
          [
           8712.4
          ],
          [
           8468.6
          ],
          [
           16494
          ],
          [
           8764.35
          ],
          [
           8880.2
          ],
          [
           8400.3
          ],
          [
           12728.9
          ],
          [
           10931.1
          ],
          [
           9522.5
          ],
          [
           8294.1
          ],
          [
           9045.7
          ],
          [
           8307.1
          ],
          [
           9984
          ],
          [
           12420.9
          ],
          [
           8726.6
          ],
          [
           10775
          ],
          [
           10659
          ],
          [
           12344.1
          ],
          [
           9743.4
          ],
          [
           11475
          ],
          [
           9206.4
          ],
          [
           11623
          ],
          [
           9011.5
          ],
          [
           12825.65
          ],
          [
           8297.35
          ],
          [
           8325.2
          ],
          [
           9977.6
          ],
          [
           8680.6
          ],
          [
           14657.4
          ],
          [
           9038.75
          ],
          [
           11492.1
          ],
          [
           16589.7
          ],
          [
           9574.8
          ],
          [
           14343.6
          ],
          [
           8394.4
          ],
          [
           8479.6
          ],
          [
           10366.5
          ],
          [
           13901.5
          ],
          [
           12011.2
          ],
          [
           9878.1
          ],
          [
           10178.6
          ],
          [
           12154.3
          ],
          [
           10257.6
          ],
          [
           8348.4
          ],
          [
           8366.6
          ],
          [
           8450.2
          ],
          [
           9594.75
          ],
          [
           10744.5
          ],
          [
           18059.9
          ],
          [
           9153
          ],
          [
           11839.9
          ],
          [
           11581.7
          ],
          [
           12402.8
          ],
          [
           8245.6
          ],
          [
           10693.8
          ],
          [
           8376.2
          ],
          [
           9189.8
          ],
          [
           13714.9
          ],
          [
           10221.15
          ],
          [
           10127.8
          ],
          [
           8446.1
          ],
          [
           10530.35
          ],
          [
           10054.95
          ],
          [
           9908.9
          ],
          [
           11814.9
          ],
          [
           8452.6
          ],
          [
           9211.9
          ],
          [
           8530.35
          ],
          [
           9526.9
          ],
          [
           10503.7
          ],
          [
           10349.25
          ],
          [
           9888.5
          ],
          [
           10492.4
          ],
          [
           16330.9
          ],
          [
           8321.35
          ],
          [
           11938.4
          ],
          [
           9348.4
          ],
          [
           9896.25
          ],
          [
           10650
          ],
          [
           8802.7
          ],
          [
           12725.9
          ],
          [
           11266.3
          ],
          [
           8733.5
          ],
          [
           9169.1
          ],
          [
           8656.4
          ],
          [
           13690.4
          ],
          [
           10098.2
          ],
          [
           8912.2
          ],
          [
           11764.3
          ],
          [
           9002.6
          ],
          [
           11545.1
          ],
          [
           9908.2
          ],
          [
           9165.2
          ],
          [
           11872.4
          ],
          [
           8595.7
          ],
          [
           8761
          ],
          [
           9521
          ],
          [
           8881.7
          ],
          [
           8785.7
          ],
          [
           10453.7
          ],
          [
           10385.3
          ],
          [
           8663.5
          ],
          [
           8270.75
          ],
          [
           13623.5
          ],
          [
           12638.7
          ],
          [
           10450.2
          ],
          [
           8547.35
          ],
          [
           10464.8
          ],
          [
           20225
          ],
          [
           10666.55
          ],
          [
           8340.9
          ],
          [
           14692.7
          ],
          [
           11214.1
          ],
          [
           8352.05
          ],
          [
           10386.6
          ],
          [
           9642.3
          ],
          [
           9438.6
          ],
          [
           8913.85
          ],
          [
           9174.3
          ],
          [
           9156.8
          ],
          [
           14369.3
          ],
          [
           8965.7
          ],
          [
           9683
          ],
          [
           11609.4
          ],
          [
           11300.55
          ],
          [
           8786.1
          ],
          [
           8225.7
          ],
          [
           8980
          ],
          [
           10233.25
          ],
          [
           11496.55
          ],
          [
           8808.6
          ],
          [
           8925.6
          ],
          [
           11480.1
          ],
          [
           8489.2
          ],
          [
           8501.9
          ],
          [
           12256.8
          ],
          [
           8470.1
          ],
          [
           9338.55
          ],
          [
           11197.8
          ],
          [
           9452.4
          ],
          [
           10001.2
          ],
          [
           9168.3
          ],
          [
           9576.2
          ],
          [
           11314.2
          ],
          [
           8856.6
          ],
          [
           9333.7
          ],
          [
           8425.2
          ],
          [
           10947.7
          ],
          [
           8354.8
          ],
          [
           8423.75
          ],
          [
           10160.25
          ],
          [
           8249.8
          ],
          [
           8509.95
          ],
          [
           8487.3
          ],
          [
           8226
          ],
          [
           12264.5
          ],
          [
           9337.85
          ],
          [
           8737.7
          ],
          [
           8495
          ],
          [
           9002.4
          ],
          [
           9544
          ],
          [
           8699.4
          ],
          [
           10463.7
          ],
          [
           13242.3
          ],
          [
           8996.75
          ],
          [
           10469.7
          ],
          [
           14414.1
          ],
          [
           10023.6
          ],
          [
           8306.2
          ],
          [
           11060.4
          ],
          [
           8249.6
          ],
          [
           14258.15
          ],
          [
           8301.25
          ],
          [
           10458.45
          ],
          [
           9148.9
          ],
          [
           11794.9
          ],
          [
           10101.9
          ],
          [
           15454.55
          ],
          [
           10744.4
          ],
          [
           9109.2
          ],
          [
           10055.5
          ],
          [
           9258.65
          ],
          [
           8716.6
          ],
          [
           9893.8
          ],
          [
           15049.7
          ],
          [
           9508.55
          ],
          [
           10088.15
          ],
          [
           10071.5
          ],
          [
           11940.4
          ],
          [
           9415.35
          ],
          [
           14776
          ],
          [
           9339.2
          ],
          [
           9135.4
          ],
          [
           8299.25
          ],
          [
           8250.7
          ],
          [
           10218.95
          ],
          [
           10639.1
          ],
          [
           11835.5
          ],
          [
           11259.9
          ],
          [
           8271.9
          ],
          [
           8263.2
          ],
          [
           8477.05
          ],
          [
           9946.9
          ],
          [
           9575.9
          ],
          [
           9430.6
          ],
          [
           8953.5
          ],
          [
           9105.3
          ],
          [
           10230.9
          ],
          [
           8251.15
          ],
          [
           24549.45
          ],
          [
           9110.15
          ],
          [
           9406.3
          ],
          [
           8323.3
          ],
          [
           13647.25
          ],
          [
           8297.3
          ],
          [
           8415.4
          ],
          [
           14015.4
          ],
          [
           8911.4
          ],
          [
           10199.9
          ],
          [
           10578.2
          ],
          [
           14289
          ],
          [
           11351.15
          ],
          [
           14238
          ],
          [
           12636.3
          ],
          [
           12091.85
          ],
          [
           8611.1
          ],
          [
           10782.5
          ],
          [
           9717.35
          ],
          [
           10748.2
          ],
          [
           8550.7
          ],
          [
           12789.3
          ],
          [
           14036.6
          ],
          [
           14747.4
          ],
          [
           13450.8
          ],
          [
           8990.5
          ],
          [
           11654.6
          ],
          [
           10881.6
          ],
          [
           11821.5
          ],
          [
           11943.45
          ],
          [
           8334.3
          ],
          [
           8584.65
          ],
          [
           11024.3
          ],
          [
           9656.4
          ],
          [
           8249.7
          ],
          [
           10140.1
          ],
          [
           8823
          ],
          [
           8380.9
          ],
          [
           10194.05
          ],
          [
           9514.5
          ],
          [
           19387.5
          ],
          [
           11061.8
          ],
          [
           9875.95
          ],
          [
           11079.05
          ],
          [
           10311.6
          ],
          [
           11288.8
          ],
          [
           8421.7
          ],
          [
           11780.3
          ],
          [
           9080.3
          ],
          [
           10521.2
          ],
          [
           8550
          ],
          [
           9188.5
          ],
          [
           8797
          ],
          [
           10545.65
          ],
          [
           8366.65
          ],
          [
           12615.1
          ],
          [
           8750
          ],
          [
           11071.4
          ],
          [
           9214
          ],
          [
           9547.1
          ],
          [
           8464.55
          ],
          [
           8950.9
          ],
          [
           10617.4
          ],
          [
           9749.5
          ],
          [
           11661
          ],
          [
           9522.1
          ],
          [
           9151.1
          ],
          [
           15981.55
          ],
          [
           10262.4
          ],
          [
           8438.6
          ],
          [
           9102.95
          ],
          [
           12937.6
          ],
          [
           8827.9
          ],
          [
           8444.3
          ],
          [
           15597.8
          ],
          [
           9418.3
          ],
          [
           9165.4
          ],
          [
           8410.2
          ],
          [
           13219.3
          ],
          [
           10846.2
          ],
          [
           12211.9
          ],
          [
           12440.35
          ],
          [
           8313.9
          ],
          [
           10345
          ],
          [
           11282
          ],
          [
           10821.6
          ],
          [
           8974.1
          ],
          [
           9436.6
          ],
          [
           10857.4
          ],
          [
           8580.75
          ],
          [
           8849.3
          ],
          [
           8250.2
          ],
          [
           8513.15
          ],
          [
           8634.7
          ],
          [
           8245.15
          ],
          [
           11363.55
          ],
          [
           8716.5
          ],
          [
           11315.6
          ],
          [
           8916.35
          ],
          [
           10521.45
          ],
          [
           11900.1
          ],
          [
           9107.1
          ],
          [
           10661.3
          ],
          [
           9319.4
          ],
          [
           13040.7
          ],
          [
           12843.1
          ],
          [
           9734.6
          ],
          [
           9287.25
          ],
          [
           9127.35
          ],
          [
           9585.65
          ],
          [
           10457.5
          ],
          [
           8838.2
          ],
          [
           10028.8
          ],
          [
           10507.9
          ],
          [
           12428.7
          ],
          [
           10423
          ],
          [
           8678.4
          ],
          [
           10045.9
          ],
          [
           8556.5
          ],
          [
           13897.3
          ],
          [
           8760.5
          ],
          [
           8230.25
          ],
          [
           10452.3
          ],
          [
           10207.2
          ],
          [
           10318.8
          ],
          [
           8554.3
          ],
          [
           10255.3
          ],
          [
           12088.6
          ],
          [
           10138.8
          ],
          [
           8751.4
          ],
          [
           9396.6
          ],
          [
           8511.2
          ],
          [
           10416.2
          ],
          [
           8456.2
          ],
          [
           10018.05
          ],
          [
           10107.1
          ],
          [
           8364.4
          ],
          [
           8304.85
          ],
          [
           11152.9
          ],
          [
           10022
          ],
          [
           8995.2
          ],
          [
           11256.9
          ],
          [
           15869.5
          ],
          [
           9914.7
          ],
          [
           16133.8
          ],
          [
           8553
          ],
          [
           12414.8
          ],
          [
           9029.9
          ],
          [
           10177.6
          ],
          [
           13821.2
          ],
          [
           17320.3
          ],
          [
           9469.2
          ],
          [
           9488.8
          ],
          [
           8976.3
          ],
          [
           8815.447619
          ],
          [
           9499.4
          ],
          [
           15479.5
          ],
          [
           8321
          ],
          [
           8618.4
          ],
          [
           12023.25
          ],
          [
           8993
          ],
          [
           9771.1
          ],
          [
           8220.5
          ],
          [
           11346
          ],
          [
           10732.2
          ],
          [
           8949.6
          ],
          [
           10063.3
          ],
          [
           9443.4
          ],
          [
           11742.1
          ],
          [
           9674.2
          ],
          [
           11806.5
          ],
          [
           10656.7
          ],
          [
           10548.45
          ],
          [
           12748.4
          ],
          [
           9362.6
          ],
          [
           9475.15
          ],
          [
           8787.4
          ],
          [
           11181.75
          ],
          [
           8919.5
          ],
          [
           10657.2
          ],
          [
           9571.2
          ],
          [
           10621.2
          ],
          [
           15789.3
          ],
          [
           8448.9
          ],
          [
           13163.3
          ],
          [
           8442.0238095
          ],
          [
           10899
          ],
          [
           9742.6
          ],
          [
           10383.8
          ],
          [
           9934.3
          ],
          [
           19957.55
          ],
          [
           10366.1
          ],
          [
           8928.1
          ],
          [
           12650
          ],
          [
           8726.05
          ],
          [
           9760.95
          ],
          [
           12802.15
          ],
          [
           14906.2
          ],
          [
           9226.5
          ],
          [
           15054.8
          ],
          [
           16851.6
          ],
          [
           8428.9
          ],
          [
           11673.1
          ],
          [
           9005.5
          ],
          [
           12257.05
          ],
          [
           9060.2
          ],
          [
           8271.7
          ],
          [
           8301
          ],
          [
           9597.8
          ],
          [
           10492.2
          ],
          [
           12358.05
          ],
          [
           11191.5
          ],
          [
           16080.5
          ],
          [
           19702.35
          ],
          [
           9217.6
          ],
          [
           10379.55
          ],
          [
           8375.6
          ],
          [
           9196.2
          ],
          [
           8889.75
          ],
          [
           12794.5
          ],
          [
           9061.7
          ],
          [
           18236.6
          ],
          [
           12170.05
          ],
          [
           31081.95
          ],
          [
           11548.2
          ],
          [
           8968.5
          ],
          [
           9403.45
          ],
          [
           19451
          ],
          [
           22560.25
          ],
          [
           15897.8
          ],
          [
           12096.5
          ],
          [
           11422.6
          ],
          [
           17770.35
          ],
          [
           24828.5
          ],
          [
           8433.75
          ],
          [
           13448.15
          ],
          [
           18976.4
          ],
          [
           15484.6
          ],
          [
           12164.5
          ],
          [
           15683.6
          ],
          [
           11822
          ],
          [
           13053.55
          ],
          [
           8761.35
          ],
          [
           9889.9
          ],
          [
           13640.9
          ],
          [
           9852.8
          ],
          [
           8969.95
          ],
          [
           9933.35
          ],
          [
           9484.35
          ],
          [
           8497.3
          ],
          [
           10938.5
          ],
          [
           8452.05
          ],
          [
           10047.9
          ],
          [
           15937.8
          ],
          [
           8948.45
          ],
          [
           16798.8
          ],
          [
           10342.25
          ],
          [
           8249.2
          ],
          [
           8339.5
          ],
          [
           8583.2
          ],
          [
           8340
          ],
          [
           8438.1
          ],
          [
           9963.9
          ],
          [
           12334.3
          ],
          [
           9619.7
          ],
          [
           8519.8
          ],
          [
           9874.3
          ],
          [
           8721.1
          ],
          [
           8461.8
          ],
          [
           13019.2
          ],
          [
           9089.3
          ],
          [
           10368.4
          ],
          [
           10346
          ],
          [
           9838.9
          ],
          [
           9450.7
          ],
          [
           9277.7
          ],
          [
           9134.95
          ],
          [
           8818.1
          ],
          [
           12699.45
          ],
          [
           11948.6
          ],
          [
           8567.65
          ],
          [
           19123.4
          ],
          [
           8550.55
          ],
          [
           8379
          ],
          [
           8437.9
          ],
          [
           9153.5
          ],
          [
           10541.5
          ],
          [
           8709.8
          ],
          [
           17091.1
          ],
          [
           11822.25
          ],
          [
           8453.7
          ],
          [
           8211.6
          ],
          [
           10386.45
          ],
          [
           8264.7
          ],
          [
           14779.9
          ],
          [
           8832.2
          ],
          [
           10077.1
          ],
          [
           9713.3
          ],
          [
           10034.95
          ],
          [
           10359.5
          ],
          [
           9283.7
          ],
          [
           11839.8
          ],
          [
           8951.4
          ],
          [
           12735.8
          ],
          [
           11008.7
          ],
          [
           11346
          ],
          [
           8781.5
          ],
          [
           9039.4
          ],
          [
           10135
          ],
          [
           12807.25
          ],
          [
           9143.8
          ],
          [
           8674.8
          ],
          [
           10411.2
          ],
          [
           8911.5
          ],
          [
           14564.4
          ],
          [
           9922.6
          ],
          [
           11635
          ],
          [
           13221.5
          ],
          [
           9695.65
          ],
          [
           13407.8
          ],
          [
           8486.7
          ],
          [
           12686.6
          ],
          [
           10356.4
          ],
          [
           17662.5
          ],
          [
           13766.6
          ],
          [
           11478.3
          ],
          [
           10676.2
          ],
          [
           9712.3
          ],
          [
           11554.1
          ],
          [
           11136.3
          ],
          [
           8861.6
          ],
          [
           11649
          ],
          [
           8396.9
          ],
          [
           9437.8
          ],
          [
           9104.1
          ],
          [
           14142.2
          ],
          [
           9371.1
          ],
          [
           8221.8
          ],
          [
           9791.5
          ],
          [
           9984.1
          ],
          [
           10860.8
          ],
          [
           10227.1
          ],
          [
           12708.8
          ],
          [
           8389.5
          ],
          [
           23717.9
          ],
          [
           9005.2
          ],
          [
           9323.15
          ],
          [
           10780.3
          ],
          [
           10196.4
          ],
          [
           9212.6
          ],
          [
           8798.4
          ],
          [
           10320.7
          ],
          [
           17458
          ],
          [
           8313.8
          ],
          [
           9743.5
          ],
          [
           11623.3
          ],
          [
           14985.2
          ],
          [
           12801.5
          ],
          [
           13311.5
          ],
          [
           8329.1
          ],
          [
           8605.8
          ],
          [
           10356.1
          ],
          [
           12872.6
          ],
          [
           8739
          ],
          [
           38231.8
          ],
          [
           10676.2
          ],
          [
           9744
          ],
          [
           10481.1
          ],
          [
           8230.65
          ],
          [
           13564.1
          ],
          [
           10339.6
          ],
          [
           8767.6
          ],
          [
           15591.7
          ],
          [
           13418.2
          ],
          [
           9652.9
          ],
          [
           14142.4
          ],
          [
           9986.55
          ],
          [
           11299.8
          ],
          [
           23186.7
          ],
          [
           8946.9
          ],
          [
           18841.9
          ],
          [
           9700.05
          ],
          [
           8814.95
          ],
          [
           10034.8
          ],
          [
           15157.7
          ],
          [
           9221
          ],
          [
           10219.45
          ],
          [
           9366.35
          ],
          [
           11696.6
          ],
          [
           13055.1
          ],
          [
           9820.35
          ],
          [
           8852.1
          ],
          [
           10352.2
          ],
          [
           14061.5
          ],
          [
           8356.6
          ],
          [
           8434.1
          ],
          [
           9275.9
          ],
          [
           21044.8
          ],
          [
           8945.15
          ],
          [
           13189.9
          ],
          [
           10666
          ],
          [
           11154.65
          ],
          [
           13748.3
          ],
          [
           8267.75
          ],
          [
           9484.2
          ],
          [
           9444.8
          ],
          [
           10343.4
          ],
          [
           10610.6
          ],
          [
           10216.6
          ],
          [
           9383.3
          ],
          [
           9937.4
          ],
          [
           8367.65
          ],
          [
           10136
          ],
          [
           11612.6
          ],
          [
           9476.4
          ],
          [
           8419.95
          ],
          [
           8681.35
          ],
          [
           11654.2
          ],
          [
           13348.9
          ],
          [
           11251.1
          ],
          [
           8331.25
          ],
          [
           8541.6
          ],
          [
           9510.9
          ],
          [
           9489.7
          ],
          [
           8387.3
          ],
          [
           9676.85
          ],
          [
           8280.5
          ],
          [
           11148.1
          ],
          [
           13692.2
          ],
          [
           8489.4
          ],
          [
           8367.4
          ],
          [
           12955.45
          ],
          [
           12705.25
          ],
          [
           14190.15
          ],
          [
           10640.5
          ],
          [
           9179.3
          ],
          [
           13825.25
          ],
          [
           8544.3
          ],
          [
           10213.9
          ],
          [
           10084.25
          ],
          [
           8233.2
          ],
          [
           8407.9
          ],
          [
           9558.6
          ],
          [
           8515.4
          ],
          [
           10378.4
          ],
          [
           8883.15
          ],
          [
           8739.85
          ],
          [
           8579
          ],
          [
           8664.7
          ],
          [
           11564.75
          ],
          [
           10126.45
          ],
          [
           10665.5
          ],
          [
           9301.5
          ],
          [
           8562.95
          ],
          [
           8544.1
          ],
          [
           9570.7
          ],
          [
           10525.5
          ],
          [
           8861.4
          ],
          [
           8294.9
          ],
          [
           8836.8
          ],
          [
           18794.05
          ],
          [
           9481.35
          ],
          [
           10660.9
          ],
          [
           18407.65
          ],
          [
           13273.2
          ],
          [
           8652.6
          ],
          [
           14731.75
          ],
          [
           10702.5
          ],
          [
           8285.75
          ],
          [
           15538.25
          ],
          [
           8406.45
          ],
          [
           9793.5
          ],
          [
           8251
          ],
          [
           11242.05
          ],
          [
           8698.7
          ],
          [
           8442.5
          ],
          [
           11548.9
          ],
          [
           17988.1
          ],
          [
           11496.3
          ],
          [
           12965.7
          ],
          [
           24251.5
          ],
          [
           8548.8
          ],
          [
           9151.6
          ],
          [
           8721.95
          ],
          [
           8655.8
          ],
          [
           8574.1
          ],
          [
           13374.9
          ],
          [
           8394.45
          ],
          [
           8609.5
          ],
          [
           8475
          ],
          [
           8732.45
          ],
          [
           8484.8
          ],
          [
           10180.5
          ],
          [
           11096.05
          ],
          [
           11151.9
          ],
          [
           8423.9
          ],
          [
           9150.4
          ],
          [
           8222.95
          ],
          [
           8351.6
          ],
          [
           9793.7
          ],
          [
           8224.15
          ],
          [
           9572.85
          ],
          [
           9510.2
          ],
          [
           14232.4
          ],
          [
           8378.4
          ],
          [
           8654.1
          ],
          [
           8432.85
          ],
          [
           9599.35
          ],
          [
           10191.25
          ],
          [
           11435.8
          ],
          [
           11337.3
          ],
          [
           8694.4
          ],
          [
           10589.5
          ],
          [
           10617.5
          ],
          [
           8996.9
          ],
          [
           12329.3
          ],
          [
           13515.15
          ],
          [
           8479.1
          ],
          [
           11863.95
          ],
          [
           13397.35
          ],
          [
           10070.7
          ],
          [
           13052
          ],
          [
           15997.5
          ],
          [
           8240
          ],
          [
           9290.3
          ],
          [
           10725.9
          ],
          [
           11637.75
          ],
          [
           9268.1
          ],
          [
           9025.25
          ],
          [
           14970.6
          ],
          [
           10249.5
          ],
          [
           15180.55
          ],
          [
           10869.25
          ],
          [
           8698.7
          ],
          [
           11997.35
          ],
          [
           10675.25
          ],
          [
           8403.7
          ],
          [
           8607.4
          ],
          [
           8325.6
          ],
          [
           8246
          ],
          [
           8426
          ],
          [
           14565.05
          ],
          [
           8975.2
          ],
          [
           8929
          ],
          [
           10039.5
          ],
          [
           11016
          ],
          [
           10586.65
          ],
          [
           8305.3
          ],
          [
           9189.3
          ],
          [
           8708.4
          ],
          [
           10815.85
          ],
          [
           9440.9
          ],
          [
           8942.1
          ],
          [
           16114.2
          ],
          [
           8494.2
          ],
          [
           12319.8
          ],
          [
           8865.15
          ],
          [
           12353.15
          ],
          [
           12540.8
          ],
          [
           8510.6
          ],
          [
           8554.3
          ],
          [
           13656.1
          ],
          [
           10001.05
          ],
          [
           10150.5
          ],
          [
           8545.5
          ],
          [
           8359.2
          ],
          [
           9710.75
          ],
          [
           9313.65
          ],
          [
           8272.9
          ],
          [
           9218.9
          ],
          [
           11453.6
          ],
          [
           21330.8
          ],
          [
           8259.5
          ],
          [
           11440
          ],
          [
           8477.6
          ],
          [
           9027.3
          ],
          [
           9141.1
          ],
          [
           9434.75
          ],
          [
           8681.1
          ],
          [
           8257.1
          ],
          [
           10365.3
          ],
          [
           26782.1
          ],
          [
           10959.05
          ],
          [
           8820.5
          ],
          [
           12825.4
          ],
          [
           10174.45
          ],
          [
           9157.8
          ],
          [
           11903.3
          ],
          [
           9705.95
          ],
          [
           8254.3
          ],
          [
           9234.45
          ],
          [
           8297.8
          ],
          [
           8544
          ],
          [
           8755.6
          ],
          [
           12946.4
          ],
          [
           8412
          ],
          [
           10371
          ],
          [
           15913.2
          ],
          [
           8718.9
          ],
          [
           8676.9
          ],
          [
           11415.7
          ],
          [
           8622.5
          ],
          [
           17627.3
          ],
          [
           12367.3
          ],
          [
           11641.5
          ],
          [
           13893.9
          ],
          [
           14701.9
          ],
          [
           11548.25
          ],
          [
           12051.45
          ],
          [
           10003.35
          ],
          [
           12073.4
          ],
          [
           11911.85
          ],
          [
           10222.75
          ],
          [
           11104.7
          ],
          [
           8980
          ],
          [
           8651.1
          ],
          [
           11310.4
          ],
          [
           9328
          ],
          [
           8692.1
          ],
          [
           10707.1
          ],
          [
           10925.8
          ],
          [
           10612.85
          ],
          [
           9167.2
          ],
          [
           8579.8
          ],
          [
           14903.8
          ],
          [
           16451.6
          ],
          [
           11033.1
          ],
          [
           13878.5
          ],
          [
           8246.2
          ],
          [
           8479.6
          ],
          [
           8697
          ],
          [
           9061.3
          ],
          [
           9051.9
          ],
          [
           12724.5
          ],
          [
           14744.05
          ],
          [
           8416.15
          ],
          [
           9226.8
          ],
          [
           8868.5
          ],
          [
           9748.45
          ],
          [
           8212.2
          ],
          [
           15817.95
          ],
          [
           15543
          ],
          [
           15953.1
          ],
          [
           11399
          ],
          [
           11510.1
          ],
          [
           11239.3
          ],
          [
           26478.4
          ],
          [
           11938.9
          ],
          [
           9840.5
          ],
          [
           9762.3
          ],
          [
           8632.55
          ],
          [
           9323.5
          ],
          [
           11487.55
          ],
          [
           9156.05
          ],
          [
           9032.5
          ],
          [
           10877.05
          ],
          [
           12161
          ],
          [
           12528.75
          ],
          [
           9314.3
          ],
          [
           15510.8
          ],
          [
           13487.8
          ],
          [
           19324.95
          ],
          [
           8346.7
          ],
          [
           13097
          ],
          [
           8762.8
          ],
          [
           10216.3
          ],
          [
           10800.8
          ],
          [
           8300.1
          ],
          [
           11187.5
          ],
          [
           8747.7
          ],
          [
           9120.9
          ],
          [
           9039
          ],
          [
           14626.5
          ],
          [
           8539.1
          ],
          [
           8909.7
          ],
          [
           9779.2
          ],
          [
           8219.2
          ],
          [
           8807
          ],
          [
           9166.9
          ],
          [
           9911.75
          ],
          [
           10503.8
          ],
          [
           10069.8
          ],
          [
           8958.4
          ],
          [
           12039.5
          ],
          [
           8233.8
          ],
          [
           8595.35
          ],
          [
           9533
          ],
          [
           9380.15
          ],
          [
           8960.25
          ],
          [
           12310.7
          ],
          [
           9783.7
          ],
          [
           14396
          ],
          [
           8653.5
          ],
          [
           9068.2
          ],
          [
           8616.5
          ],
          [
           9144.15
          ],
          [
           13664.2
          ],
          [
           9087.55
          ],
          [
           8401.6
          ],
          [
           11473.1
          ],
          [
           11968.9
          ],
          [
           9207.5
          ],
          [
           15096.1
          ],
          [
           8811.8
          ],
          [
           14803.1
          ],
          [
           8841.1
          ],
          [
           18125.4
          ],
          [
           12706.2
          ],
          [
           13430.25
          ],
          [
           18659.2
          ],
          [
           9899.8
          ],
          [
           8214.7
          ],
          [
           8803.8
          ],
          [
           30848.5
          ],
          [
           12009.8
          ],
          [
           10849.35
          ],
          [
           8211.3
          ],
          [
           9280.1
          ],
          [
           19919.8
          ],
          [
           9777.1
          ],
          [
           13215.3
          ],
          [
           9662.1
          ],
          [
           10961.9
          ],
          [
           11099.45
          ],
          [
           8727.8
          ],
          [
           13125.9
          ],
          [
           12312.5
          ],
          [
           9126.1
          ],
          [
           9134.7
          ],
          [
           8393.95
          ],
          [
           8525.9
          ],
          [
           16120.2
          ],
          [
           10263.5
          ],
          [
           8500.05
          ],
          [
           10353.95
          ],
          [
           9035.3
          ],
          [
           9030.35
          ],
          [
           13614.4
          ],
          [
           8730.75
          ],
          [
           8557.3
          ],
          [
           9818.8
          ],
          [
           14017.9
          ],
          [
           12346.9
          ],
          [
           11592.9
          ],
          [
           18364.3
          ],
          [
           9643.9
          ],
          [
           9924.5
          ],
          [
           10560.5
          ],
          [
           9526.3
          ],
          [
           12095.7
          ],
          [
           9100.35
          ],
          [
           9002.9
          ],
          [
           8826.3
          ],
          [
           15768.5
          ],
          [
           9794.55
          ],
          [
           9479.3
          ],
          [
           8234.3
          ],
          [
           8776.4
          ],
          [
           10562.7
          ],
          [
           9054.6
          ],
          [
           10543.5
          ],
          [
           9070.4
          ],
          [
           21430.4
          ],
          [
           10517.3
          ],
          [
           10667.65
          ],
          [
           9793
          ],
          [
           8761.05
          ],
          [
           12315.7
          ],
          [
           20408.45
          ],
          [
           8689.95
          ],
          [
           11018.8
          ],
          [
           16436.9
          ],
          [
           20534.6
          ],
          [
           8457.5
          ],
          [
           8238.5
          ],
          [
           15167.75
          ],
          [
           10714.1
          ],
          [
           10550.6
          ],
          [
           15740.55
          ],
          [
           9167.3
          ],
          [
           8272.1
          ],
          [
           10075
          ],
          [
           9181.25
          ],
          [
           10388
          ],
          [
           10586
          ],
          [
           8841.3
          ],
          [
           11655.9
          ],
          [
           8482.3
          ],
          [
           10026.8
          ],
          [
           13327.3
          ],
          [
           10224
          ],
          [
           8795.75
          ],
          [
           13247.65
          ],
          [
           12913.7
          ],
          [
           15589.4
          ],
          [
           9291.5
          ],
          [
           9128.4
          ],
          [
           8825.8
          ],
          [
           10227.1
          ],
          [
           10451.2
          ],
          [
           12732.2
          ],
          [
           12977.9
          ],
          [
           17013
          ],
          [
           10513.6
          ],
          [
           10256.15
          ],
          [
           8355.6
          ],
          [
           9229.5
          ],
          [
           11626.9
          ],
          [
           9748
          ],
          [
           8703.4
          ],
          [
           9764.3
          ],
          [
           10086.8
          ],
          [
           9587.2
          ],
          [
           17397.1
          ],
          [
           9926.9
          ],
          [
           8435.5
          ],
          [
           11360.05
          ],
          [
           8896.1
          ],
          [
           15003.3
          ],
          [
           11747.4
          ],
          [
           10390.4
          ],
          [
           11297.75
          ],
          [
           10004.7
          ],
          [
           14673.6
          ],
          [
           9145.9
          ],
          [
           9301
          ],
          [
           10865.5
          ],
          [
           11568.15
          ],
          [
           9342.2
          ],
          [
           18114.1
          ],
          [
           9793.5
          ],
          [
           8519.1
          ],
          [
           9694.25
          ],
          [
           10008.1
          ],
          [
           9394.8
          ],
          [
           14751.5
          ],
          [
           10081.5
          ],
          [
           8432.05
          ],
          [
           9816.9
          ],
          [
           11441.45
          ],
          [
           9006.2
          ],
          [
           9095.8
          ],
          [
           10230.2
          ],
          [
           11903.5
          ],
          [
           12373.45
          ],
          [
           8336.4
          ],
          [
           8766.4
          ],
          [
           16506.6
          ],
          [
           8245.15
          ],
          [
           18268.95
          ],
          [
           10850.9
          ],
          [
           8257.6
          ],
          [
           11248.05
          ],
          [
           8670.2
          ],
          [
           9332.9
          ],
          [
           15473.3
          ],
          [
           10565.8
          ],
          [
           11061.6
          ],
          [
           8830.2
          ],
          [
           10598.15
          ],
          [
           13519.1
          ],
          [
           8506.95
          ],
          [
           8808.9
          ],
          [
           8764.5
          ],
          [
           11157.5
          ],
          [
           18247.4
          ],
          [
           10067.75
          ],
          [
           9350.6
          ],
          [
           8297.65
          ],
          [
           12438.4
          ],
          [
           11439.9
          ],
          [
           8733
          ],
          [
           9247.65
          ],
          [
           12623.6
          ],
          [
           9283.7
          ],
          [
           10122.35
          ],
          [
           8687.8
          ],
          [
           10310.9
          ],
          [
           12552.9
          ],
          [
           8209.8
          ],
          [
           8531.8
          ],
          [
           8369.95
          ],
          [
           13002.4
          ],
          [
           13564.9
          ],
          [
           11092.8
          ],
          [
           8328.55
          ],
          [
           8647.3
          ],
          [
           13843.15
          ],
          [
           15506.8
          ],
          [
           8478.5
          ],
          [
           8897.7
          ],
          [
           13818.8
          ],
          [
           8620.3
          ],
          [
           9165.2
          ],
          [
           8268.3
          ],
          [
           8786.5
          ],
          [
           9960.8
          ],
          [
           9703.2
          ],
          [
           8726.6
          ],
          [
           10315.8
          ],
          [
           12239.9
          ],
          [
           13205.8
          ],
          [
           11825.9
          ],
          [
           8688.6
          ],
          [
           8894.9
          ],
          [
           9767.45
          ],
          [
           8869.15
          ],
          [
           9128.7
          ],
          [
           11208.1
          ],
          [
           9612.5
          ],
          [
           18274.6
          ],
          [
           8613.5
          ],
          [
           14046.5
          ],
          [
           12297.35
          ],
          [
           11201.65
          ],
          [
           8452.05
          ],
          [
           9130.5
          ],
          [
           9412.7
          ],
          [
           9389.4
          ],
          [
           16645
          ],
          [
           8589.1
          ],
          [
           9404.5
          ],
          [
           8330.3
          ],
          [
           8338.05
          ],
          [
           9153.7
          ],
          [
           8408.9
          ],
          [
           9738.45
          ],
          [
           13878.3
          ],
          [
           8751.4
          ],
          [
           8243.1
          ],
          [
           8830.6
          ],
          [
           8779.4
          ],
          [
           11677.5
          ],
          [
           8584.9
          ],
          [
           8828.35
          ],
          [
           11453.1
          ],
          [
           8789.5
          ],
          [
           9472.95
          ],
          [
           17175.1
          ],
          [
           8662.1
          ],
          [
           10708.5
          ],
          [
           8311.8
          ],
          [
           9507.3
          ],
          [
           10159
          ],
          [
           10471.6
          ],
          [
           9151.9
          ],
          [
           12094.4
          ],
          [
           10784.55
          ],
          [
           8709.4
          ],
          [
           8278.9
          ],
          [
           11097.2
          ],
          [
           8384.7
          ],
          [
           8686.6
          ],
          [
           8231.4
          ],
          [
           11763
          ],
          [
           20408.9
          ],
          [
           9380.55
          ],
          [
           9758.95
          ],
          [
           9298.2
          ],
          [
           9849.9
          ],
          [
           11046.3
          ],
          [
           9628.4
          ],
          [
           14732.6
          ],
          [
           8322.1
          ],
          [
           9142.6
          ],
          [
           8360
          ],
          [
           10045.3
          ],
          [
           8272.8
          ],
          [
           9029.5
          ],
          [
           13032.1
          ],
          [
           16640.55
          ],
          [
           9164.3
          ],
          [
           10194.8
          ],
          [
           9929.4
          ],
          [
           8285.9
          ],
          [
           10854.7
          ],
          [
           8670.8
          ],
          [
           9445.3
          ],
          [
           8890.3
          ],
          [
           9927.85
          ],
          [
           8540.4
          ],
          [
           10648.7
          ],
          [
           9308.1
          ],
          [
           8942.6
          ],
          [
           12761.1
          ],
          [
           14581.1
          ],
          [
           12734.8
          ],
          [
           10096.1
          ],
          [
           10245.6
          ],
          [
           9362.7
          ],
          [
           10542.85
          ],
          [
           22667.6
          ],
          [
           16485.7
          ],
          [
           12501.7
          ],
          [
           9854.45
          ],
          [
           9097.1
          ],
          [
           8965.15
          ],
          [
           11506.7
          ],
          [
           9284.8
          ],
          [
           8314.1
          ],
          [
           8457.8
          ],
          [
           9809.5
          ],
          [
           12661.4
          ],
          [
           9269.7
          ],
          [
           8393.9
          ],
          [
           8852
          ],
          [
           9547.9
          ],
          [
           15907.45
          ],
          [
           10633.6
          ],
          [
           8265.55
          ],
          [
           8435.95
          ],
          [
           12290.6
          ],
          [
           9701.9
          ],
          [
           16894.7
          ],
          [
           13102.3
          ],
          [
           9540.8
          ],
          [
           10010.8
          ],
          [
           13941.7
          ],
          [
           9817.05
          ],
          [
           9479.5
          ],
          [
           9251.05
          ],
          [
           8701.7
          ],
          [
           8695
          ],
          [
           9752.5
          ],
          [
           9681.3
          ],
          [
           10443.1
          ],
          [
           9994.2
          ],
          [
           14304.7
          ],
          [
           9863.5
          ],
          [
           9837.35
          ],
          [
           8670.9
          ],
          [
           8253.25
          ],
          [
           8300.85
          ],
          [
           8221.5
          ],
          [
           10134.6
          ],
          [
           8222.3
          ],
          [
           9300.3
          ],
          [
           8786.9
          ],
          [
           9525.8
          ],
          [
           8920.75
          ],
          [
           9947.9
          ],
          [
           10526.5
          ],
          [
           9586.1
          ],
          [
           10160
          ],
          [
           8521.7
          ],
          [
           8864.4
          ],
          [
           9381.4
          ],
          [
           8949.7
          ],
          [
           10130.6
          ],
          [
           10708.5
          ],
          [
           9761.2
          ],
          [
           8459.3
          ],
          [
           10284.3
          ],
          [
           8866.8
          ],
          [
           9500.1
          ],
          [
           9771.35
          ],
          [
           9284.5
          ],
          [
           12046.7
          ],
          [
           8236.85
          ],
          [
           9911
          ],
          [
           10441.8
          ],
          [
           9360
          ],
          [
           11187.4
          ],
          [
           9790.4
          ],
          [
           8236.2
          ],
          [
           10117.9
          ],
          [
           8345.6
          ],
          [
           9701.7
          ],
          [
           11313.2
          ],
          [
           9703.5
          ],
          [
           11052.7
          ],
          [
           8274.1
          ],
          [
           8943.8
          ],
          [
           9031.4
          ],
          [
           8975.9
          ],
          [
           8711.1
          ],
          [
           12500.25
          ],
          [
           8870.2
          ],
          [
           12021
          ],
          [
           16257.8
          ],
          [
           12268.1
          ],
          [
           11885.2
          ],
          [
           10432.6
          ],
          [
           10026.95
          ],
          [
           9011.7
          ],
          [
           8750
          ],
          [
           12890.3
          ],
          [
           10813.45
          ],
          [
           11607.8
          ],
          [
           14607.5
          ],
          [
           8736.1
          ],
          [
           8350.05
          ],
          [
           8338.5
          ],
          [
           9714.4
          ],
          [
           8765.8
          ],
          [
           8771.5
          ],
          [
           10360.45
          ],
          [
           9100.8
          ],
          [
           10770.15
          ],
          [
           9300.3
          ],
          [
           8498
          ],
          [
           9419.3
          ],
          [
           9503.5
          ],
          [
           12895.8
          ],
          [
           14253.9
          ],
          [
           10368.4
          ],
          [
           9383.75
          ],
          [
           9572.5
          ],
          [
           10467.2
          ],
          [
           9461.5
          ],
          [
           8946.1
          ],
          [
           8616.9
          ],
          [
           15486.1
          ],
          [
           12909.2
          ],
          [
           8515.1
          ],
          [
           13667
          ],
          [
           9109.5
          ],
          [
           10470.7
          ],
          [
           10634.5
          ],
          [
           8610.9
          ],
          [
           12171.1
          ],
          [
           8451.1
          ],
          [
           10848.4
          ],
          [
           9155.6
          ],
          [
           13332.6
          ],
          [
           9145.6
          ],
          [
           9120
          ],
          [
           10136.55
          ],
          [
           8994.6
          ],
          [
           8487.75
          ],
          [
           9505.6
          ],
          [
           8442.2
          ],
          [
           8554.7
          ],
          [
           9333.4
          ],
          [
           10782.45
          ],
          [
           8222.4
          ],
          [
           10271.1
          ],
          [
           13988.3
          ],
          [
           9512
          ],
          [
           13280.4
          ],
          [
           8446.3
          ],
          [
           8517.8
          ],
          [
           8269.4
          ],
          [
           9870.7
          ],
          [
           10585.9
          ],
          [
           8440.1
          ],
          [
           11238.95
          ],
          [
           8281.6
          ],
          [
           8400.6
          ],
          [
           8778.9
          ],
          [
           14053.35
          ],
          [
           10507.3
          ],
          [
           9057.8
          ],
          [
           9648.65
          ],
          [
           8916.75
          ],
          [
           10124.4
          ],
          [
           8313.7
          ],
          [
           14045.3
          ],
          [
           9016.8
          ],
          [
           11329.75
          ],
          [
           10129.35
          ],
          [
           8454.9
          ],
          [
           10062.9
          ],
          [
           15837.8
          ],
          [
           11484.85
          ],
          [
           15444.5
          ],
          [
           11681.4
          ],
          [
           8922.7
          ],
          [
           10584.95
          ],
          [
           11477.75
          ],
          [
           8283.35
          ],
          [
           9869.6
          ],
          [
           9127.5
          ],
          [
           15519.15
          ],
          [
           8211.75
          ],
          [
           9217.85
          ],
          [
           8262.45
          ],
          [
           10939
          ],
          [
           10172.45
          ],
          [
           17602.1
          ],
          [
           8438.4
          ],
          [
           13115.2
          ],
          [
           11308.5
          ],
          [
           16141.7
          ],
          [
           8373.9
          ],
          [
           8436.15
          ],
          [
           9468.25
          ],
          [
           8670.2
          ],
          [
           9678.35
          ],
          [
           8669.8
          ],
          [
           12203
          ],
          [
           11172.6
          ],
          [
           10974.8
          ],
          [
           10877.2
          ],
          [
           9072.1
          ],
          [
           13933.65
          ],
          [
           12464.4
          ],
          [
           11631.05
          ],
          [
           10628.5
          ],
          [
           10122.6
          ],
          [
           10654.3
          ],
          [
           15851.2
          ],
          [
           8474.6
          ],
          [
           11231.8
          ],
          [
           10583.8
          ],
          [
           9345.9
          ],
          [
           8704.1
          ],
          [
           9101.75
          ],
          [
           9860.5
          ],
          [
           10708.1
          ],
          [
           14185.9
          ],
          [
           8541.4
          ],
          [
           9461.4
          ],
          [
           8573.5
          ],
          [
           10850.3
          ],
          [
           8680.3
          ],
          [
           9214.1
          ],
          [
           9257.55
          ],
          [
           9459.6
          ],
          [
           8928
          ],
          [
           8418.5
          ],
          [
           8811
          ],
          [
           8460.05
          ],
          [
           10026
          ],
          [
           8862.9
          ],
          [
           9349.75
          ],
          [
           10583.7
          ],
          [
           47024.95
          ],
          [
           11281.7
          ],
          [
           8434.05
          ],
          [
           8238.1
          ],
          [
           15183.55
          ],
          [
           10668.5
          ],
          [
           9604.75
          ],
          [
           19043.7
          ],
          [
           14313.9
          ],
          [
           8758.6
          ],
          [
           9013.45
          ],
          [
           8388.3
          ],
          [
           12853.3
          ],
          [
           9519.7
          ],
          [
           10052.7
          ],
          [
           9179.3
          ],
          [
           12759.5
          ],
          [
           10865
          ],
          [
           8768.7
          ],
          [
           10242.3
          ],
          [
           10909.55
          ],
          [
           9951.25
          ],
          [
           8364.9
          ],
          [
           9628.7
          ],
          [
           9323.25
          ],
          [
           11934.8
          ],
          [
           12720.3
          ],
          [
           9675.8
          ],
          [
           9663.9
          ],
          [
           9027.5
          ],
          [
           13894.9
          ],
          [
           10175.25
          ],
          [
           11532.8
          ],
          [
           11725.7
          ],
          [
           16299.1
          ],
          [
           9452.7
          ],
          [
           9308.2
          ],
          [
           9182.3
          ],
          [
           8269.2
          ],
          [
           12811.6
          ],
          [
           10208.75
          ],
          [
           8585.6
          ],
          [
           8648
          ],
          [
           8212.6
          ],
          [
           12628.6
          ],
          [
           9396.45
          ],
          [
           8966.6
          ],
          [
           9130.5
          ],
          [
           12605.5
          ],
          [
           10007.9
          ],
          [
           12628
          ],
          [
           12061
          ],
          [
           9059.6
          ],
          [
           10504.2
          ],
          [
           11258.8
          ],
          [
           8417
          ],
          [
           8995.05
          ],
          [
           8858.4
          ],
          [
           10487.25
          ],
          [
           9790
          ],
          [
           8422.6
          ],
          [
           15479.5
          ],
          [
           8321.4
          ],
          [
           9063
          ],
          [
           8349.35
          ],
          [
           15434.5
          ],
          [
           8450.3
          ],
          [
           9789.2
          ],
          [
           10918.4
          ],
          [
           8796.7
          ],
          [
           8360.3208333
          ],
          [
           15569.5
          ],
          [
           11910.1
          ],
          [
           9631.3
          ],
          [
           9121.1
          ],
          [
           9807.5
          ],
          [
           13989.45
          ],
          [
           11467.1
          ],
          [
           9424.1
          ],
          [
           10273.2
          ],
          [
           15688.65
          ],
          [
           8341.1
          ],
          [
           8800.1
          ],
          [
           9804.8
          ],
          [
           8948.4
          ],
          [
           11639.1
          ],
          [
           12161.4
          ],
          [
           11302.45
          ],
          [
           8328.2
          ],
          [
           9695.1
          ],
          [
           9753.45
          ],
          [
           10800.9
          ],
          [
           14451.25
          ],
          [
           12697.2
          ],
          [
           11283.5
          ],
          [
           8632.2
          ],
          [
           9690.6
          ],
          [
           10570.1
          ],
          [
           8535.7
          ],
          [
           12730.5
          ],
          [
           10701.45
          ],
          [
           9220.2
          ],
          [
           8657.65
          ],
          [
           10399.55
          ],
          [
           9371.4
          ],
          [
           10195.6
          ],
          [
           10875.5
          ],
          [
           9470
          ],
          [
           11130.7
          ],
          [
           9985.9
          ],
          [
           15413.3
          ],
          [
           14351.75
          ],
          [
           16826.9
          ],
          [
           9852
          ],
          [
           10489.45
          ],
          [
           13515.65
          ],
          [
           10376.6
          ],
          [
           8378.85
          ],
          [
           8239.9
          ],
          [
           11819.5
          ],
          [
           10969.5
          ],
          [
           8835.5
          ],
          [
           8212.8
          ],
          [
           8517.2
          ],
          [
           10445.6
          ],
          [
           9247.55
          ],
          [
           10429.9
          ],
          [
           8734.5
          ],
          [
           9554
          ],
          [
           10591.8
          ],
          [
           19246.1
          ],
          [
           10095.75
          ],
          [
           8920.7
          ],
          [
           9778.3
          ],
          [
           10397
          ],
          [
           10711.1
          ],
          [
           12129.9
          ],
          [
           13395.6
          ],
          [
           9698.85
          ],
          [
           9773.65
          ],
          [
           14985.9
          ],
          [
           9706.05
          ],
          [
           9350.6
          ],
          [
           9429.75
          ],
          [
           10212.6
          ],
          [
           8424.4
          ],
          [
           10393.05
          ],
          [
           17449.9
          ],
          [
           10159.2
          ],
          [
           8409.1
          ],
          [
           8253.7
          ],
          [
           8986.2
          ],
          [
           9875.7
          ],
          [
           15121.05
          ],
          [
           8861.4
          ],
          [
           10402.95
          ],
          [
           10522.5
          ],
          [
           11305.1
          ],
          [
           9030.55
          ],
          [
           8791.4
          ],
          [
           8225.3
          ],
          [
           8648
          ],
          [
           13368.3
          ],
          [
           11360.65
          ],
          [
           14564
          ],
          [
           8596
          ],
          [
           9879.15
          ],
          [
           10669.2
          ],
          [
           9380.95
          ],
          [
           8330.95
          ],
          [
           14126.5
          ],
          [
           10209.3
          ],
          [
           9459.2
          ],
          [
           10543.9
          ],
          [
           9312.1
          ],
          [
           11994.95
          ],
          [
           11554.95
          ],
          [
           8977.9
          ],
          [
           11076.1
          ],
          [
           9307.6
          ],
          [
           9862.1
          ],
          [
           11358.8
          ],
          [
           9100.85
          ],
          [
           8839.9
          ],
          [
           10678.15
          ],
          [
           10413.55
          ],
          [
           9860.95
          ],
          [
           9090.6
          ],
          [
           8544.2
          ],
          [
           12838.3
          ],
          [
           16552.4
          ],
          [
           12574.2
          ],
          [
           16034.9
          ],
          [
           10238.75
          ],
          [
           9337.75
          ],
          [
           11453.1
          ],
          [
           9384.8
          ],
          [
           8812.9
          ],
          [
           8799
          ],
          [
           8311.8
          ],
          [
           10604.2
          ],
          [
           8369.7
          ],
          [
           12476.5
          ],
          [
           11723.1
          ],
          [
           11695.5
          ],
          [
           14844.8
          ],
          [
           10066.7
          ],
          [
           12816.15
          ],
          [
           10786.2
          ],
          [
           8298.65
          ],
          [
           8421.75
          ],
          [
           9431.6
          ],
          [
           10433.35
          ],
          [
           10746.7
          ],
          [
           8446.2
          ],
          [
           15363.1
          ],
          [
           9362.9
          ],
          [
           8868.9
          ],
          [
           14751.3
          ],
          [
           11243.4
          ],
          [
           9117
          ],
          [
           10924.6
          ],
          [
           11857.8
          ],
          [
           8904
          ],
          [
           9220.85
          ],
          [
           12258.1
          ],
          [
           9029.9
          ],
          [
           8357.9
          ],
          [
           14998
          ],
          [
           9379.5
          ],
          [
           11710.9
          ],
          [
           8635.6
          ],
          [
           9708.3
          ],
          [
           8311.3
          ],
          [
           13733.2
          ],
          [
           10030.5
          ],
          [
           12109.3
          ],
          [
           8344.7
          ],
          [
           13012.8
          ],
          [
           12119.1
          ],
          [
           9171.8
          ],
          [
           11015.8
          ],
          [
           12016.5
          ],
          [
           10069.2
          ],
          [
           13100.2
          ],
          [
           8227.3
          ],
          [
           11221.2
          ],
          [
           9723.85
          ],
          [
           8570.3
          ]
         ],
         "hovertemplate": "<b>%{hovertext}</b><br><br>latitude=%{lat}<br>longitude=%{lon}<br>Median_consumption=%{marker.color}<extra></extra>",
         "hovertext": [
          "AB11 6BT",
          "AB11 7RT",
          "AB12 5FA",
          "AB12 5GH",
          "AB12 5GQ",
          "AB12 5YN",
          "AB13 0AP",
          "AB13 0EX",
          "AB13 0HA",
          "AB14 0LT",
          "AB14 0PJ",
          "AB14 0PR",
          "AB15 4AN",
          "AB15 4BB",
          "AB15 4BY",
          "AB15 7YD",
          "AB15 8AN",
          "AB15 8DJ",
          "AB15 8DP",
          "AB15 8HE",
          "AB15 9DU",
          "AB15 9DX",
          "AB15 9EL",
          "AB16 7HG",
          "AB21 0JH",
          "AB21 0QT",
          "AB21 0RJ",
          "AB21 0WJ",
          "AB21 7DN",
          "AB21 9WJ",
          "AB23 8UL",
          "AB24 1RP",
          "AB24 3RT",
          "AB24 5RH",
          "AB24 5RW",
          "AB25 1FN",
          "AB25 1GN",
          "AB25 1LX",
          "AB30 1NJ",
          "AB30 1RS",
          "AB30 1SF",
          "AB30 1SG",
          "AB30 1SQ",
          "AB30 1TA",
          "AB31 4AN",
          "AB31 4AW",
          "AB31 4PQ",
          "AB31 4QH",
          "AB31 4SR",
          "AB31 5ET",
          "AB31 5HL",
          "AB31 6HY",
          "AB31 6LN",
          "AB31 6LU",
          "AB31 6LW",
          "AB31 6XF",
          "AB33 8AR",
          "AB33 8JP",
          "AB33 8NX",
          "AB33 8QG",
          "AB34 5FJ",
          "AB34 5GS",
          "AB34 5JQ",
          "AB34 5LX",
          "AB35 5RR",
          "AB35 5XG",
          "AB38 7BU",
          "AB38 9RR",
          "AB38 9RT",
          "AB39 3PA",
          "AB39 3PB",
          "AB39 3QA",
          "AB39 3SR",
          "AB39 3UY",
          "AB41 6PX",
          "AB41 6SR",
          "AB41 7EB",
          "AB41 7EP",
          "AB41 7JB",
          "AB41 7UA",
          "AB41 8LA",
          "AB41 8PH",
          "AB41 8RX",
          "AB41 8XR",
          "AB42 0RQ",
          "AB42 3BS",
          "AB42 3DP",
          "AB42 3JN",
          "AB42 4AD",
          "AB42 4NX",
          "AB42 4TE",
          "AB42 4YH",
          "AB42 4YX",
          "AB42 4YY",
          "AB42 5BS",
          "AB42 5DD",
          "AB42 5PD",
          "AB43 6TN",
          "AB43 7AS",
          "AB43 7FU",
          "AB43 7NN",
          "AB45 3HL",
          "AB51 0DN",
          "AB51 0QQ",
          "AB51 0YG",
          "AB51 5BA",
          "AB51 5NP",
          "AB51 5PQ",
          "AB51 7NQ",
          "AB52 6NG",
          "AB52 6PG",
          "AB52 6RR",
          "AB52 6SZ",
          "AB52 6TW",
          "AB53 4GS",
          "AB53 4PB",
          "AB53 6TZ",
          "AB53 8AB",
          "AB53 8LE",
          "AB54 4XT",
          "AB54 7QL",
          "AB54 7XE",
          "AB55 4DS",
          "AB55 5PE",
          "AB56 4DJ",
          "AB56 4PD",
          "AL1 1DG",
          "AL1 3BW",
          "AL1 3GJ",
          "AL1 3GR",
          "AL1 3GS",
          "AL1 3GU",
          "AL1 3NG",
          "AL1 3SP",
          "AL1 3UE",
          "AL1 3WA",
          "AL1 4DA",
          "AL1 4PL",
          "AL1 4RB",
          "AL1 4RE",
          "AL1 4RT",
          "AL1 4XF",
          "AL1 5GF",
          "AL1 5JR",
          "AL2 1EU",
          "AL2 3NY",
          "AL3 4BD",
          "AL3 5DW",
          "AL3 7DB",
          "AL3 8PJ",
          "AL3 8PZ",
          "AL3 8QF",
          "AL3 8QG",
          "AL3 8QL",
          "AL3 8QQ",
          "AL3 8RN",
          "AL4 0FZ",
          "AL4 8BZ",
          "AL4 8EY",
          "AL4 8FJ",
          "AL4 8HE",
          "AL4 8LA",
          "AL4 8RQ",
          "AL4 9BH",
          "AL5 1BY",
          "AL5 2AH",
          "AL5 2DF",
          "AL5 2DJ",
          "AL5 2DN",
          "AL5 2DP",
          "AL5 2DZ",
          "AL5 2ED",
          "AL5 2EE",
          "AL5 2HL",
          "AL5 2LH",
          "AL5 2LU",
          "AL5 2NB",
          "AL5 2ND",
          "AL5 2NE",
          "AL5 2NH",
          "AL5 2NR",
          "AL5 2NS",
          "AL5 2NT",
          "AL5 2NW",
          "AL5 2NY",
          "AL5 2PG",
          "AL5 2PQ",
          "AL5 2QL",
          "AL5 2QU",
          "AL5 2QZ",
          "AL5 3AG",
          "AL5 3BD",
          "AL5 3EE",
          "AL5 3PE",
          "AL5 3PR",
          "AL5 4AL",
          "AL5 4EL",
          "AL5 4EP",
          "AL5 4QJ",
          "AL5 4QX",
          "AL5 4TS",
          "AL5 5DP",
          "AL6 0AB",
          "AL6 0AP",
          "AL6 0AQ",
          "AL6 0BX",
          "AL6 0EP",
          "AL6 0EU",
          "AL6 0FJ",
          "AL6 0HF",
          "AL6 0HL",
          "AL6 0HQ",
          "AL6 0JD",
          "AL6 0JW",
          "AL6 0LT",
          "AL6 0NR",
          "AL6 0PD",
          "AL6 0PL",
          "AL6 9BG",
          "AL6 9BW",
          "AL6 9EL",
          "AL6 9SQ",
          "AL6 9ST",
          "AL6 9TE",
          "AL6 9TF",
          "AL6 9UA",
          "AL6 9UB",
          "AL7 3BY",
          "AL7 3FD",
          "AL8 6DJ",
          "AL8 7XE",
          "AL9 5DA",
          "AL9 5PE",
          "AL9 6DD",
          "AL9 6GJ",
          "AL9 6HT",
          "AL9 6JJ",
          "AL9 6JQ",
          "AL9 6NG",
          "AL9 6PS",
          "AL9 6PT",
          "AL9 7BU",
          "AL9 7TP",
          "B1 3EN",
          "B1 3ER",
          "B10 9BQ",
          "B10 9RX",
          "B11 3FN",
          "B11 4QA",
          "B13 9PG",
          "B13 9QY",
          "B14 4FE",
          "B14 5SB",
          "B15 1PJ",
          "B15 1PQ",
          "B15 2ER",
          "B15 2ES",
          "B15 2JP",
          "B15 2JT",
          "B15 2QB",
          "B15 2QP",
          "B15 2UH",
          "B15 2UW",
          "B15 3EN",
          "B15 3HG",
          "B15 3QE",
          "B15 3QG",
          "B15 3QH",
          "B15 3QJ",
          "B15 3RA",
          "B15 3RB",
          "B15 3SA",
          "B15 3TQ",
          "B15 3UR",
          "B16 0AE",
          "B16 0AF",
          "B16 0AQ",
          "B16 8EX",
          "B17 0JT",
          "B17 8AD",
          "B17 8PR",
          "B17 9LZ",
          "B18 5ED",
          "B18 6BT",
          "B18 6DT",
          "B18 6EB",
          "B19 1JQ",
          "B20 1BN",
          "B20 2DT",
          "B20 2PN",
          "B20 2RS",
          "B20 2SU",
          "B21 9AJ",
          "B21 9HS",
          "B23 5RX",
          "B23 6DG",
          "B23 6GF",
          "B24 8AU",
          "B27 6AR",
          "B29 7AP",
          "B29 7HL",
          "B29 7JX",
          "B29 7NF",
          "B30 2JU",
          "B31 2GJ",
          "B31 2NS",
          "B31 2TD",
          "B31 4BE",
          "B32 2BS",
          "B33 0GA",
          "B33 0GE",
          "B33 0GF",
          "B34 7JF",
          "B36 8AN",
          "B37 7EU",
          "B38 9EH",
          "B4 6HW",
          "B43 6BT",
          "B43 7HG",
          "B45 8BB",
          "B45 8GG",
          "B45 8HT",
          "B45 8JL",
          "B45 8JW",
          "B45 8LN",
          "B45 9QJ",
          "B46 1UG",
          "B46 2DU",
          "B46 2EG",
          "B48 7AJ",
          "B48 7BD",
          "B48 7HD",
          "B48 7QA",
          "B48 7TQ",
          "B49 5LJ",
          "B49 5LU",
          "B49 6DH",
          "B49 6DU",
          "B49 6FQ",
          "B49 6HB",
          "B49 6JR",
          "B49 6PA",
          "B5 7BQ",
          "B5 7DS",
          "B5 7TX",
          "B50 4HH",
          "B50 4JB",
          "B50 4JS",
          "B50 4LE",
          "B60 1NF",
          "B60 3AD",
          "B60 3GW",
          "B60 3LN",
          "B60 4FP",
          "B60 4HJ",
          "B60 4LQ",
          "B61 0BT",
          "B61 0QU",
          "B61 0RH",
          "B61 7EH",
          "B61 8JY",
          "B61 9ED",
          "B61 9EL",
          "B61 9EW",
          "B61 9LN",
          "B62 0EJ",
          "B62 0EX",
          "B62 0LN",
          "B62 0NE",
          "B64 6BE",
          "B64 7AZ",
          "B66 1JG",
          "B66 1JQ",
          "B67 5RP",
          "B69 2JQ",
          "B70 0RU",
          "B70 8EG",
          "B72 1HS",
          "B72 1HT",
          "B72 1HW",
          "B73 6RE",
          "B73 6RS",
          "B74 2NJ",
          "B74 2NX",
          "B74 2QB",
          "B74 2QL",
          "B74 2QN",
          "B74 2QP",
          "B74 2QR",
          "B74 2QU",
          "B74 2QX",
          "B74 2SN",
          "B74 2SR",
          "B74 2ST",
          "B74 2SW",
          "B74 2TE",
          "B74 2XP",
          "B74 2XX",
          "B74 3AA",
          "B74 3AG",
          "B74 3AJ",
          "B74 3AU",
          "B74 3AW",
          "B74 3AX",
          "B74 3AZ",
          "B74 3BZ",
          "B74 3DB",
          "B74 3DQ",
          "B74 3GA",
          "B74 3UU",
          "B74 4TN",
          "B75 5QN",
          "B76 1LT",
          "B76 9AA",
          "B78 1TT",
          "B78 3DU",
          "B78 3EA",
          "B78 3EG",
          "B79 0PD",
          "B79 9BT",
          "B79 9DQ",
          "B79 9JT",
          "B79 9LA",
          "B80 7EL",
          "B90 2EW",
          "B91 1NF",
          "B91 1NP",
          "B91 1RH",
          "B91 2SZ",
          "B91 2TW",
          "B91 3HW",
          "B92 0BP",
          "B92 0HE",
          "B92 0HQ",
          "B92 0JP",
          "B92 0JS",
          "B92 7JX",
          "B93 0DE",
          "B93 0DF",
          "B93 0DJ",
          "B93 0DS",
          "B93 0EE",
          "B93 0PL",
          "B93 0QA",
          "B93 8LF",
          "B93 8PR",
          "B93 8PU",
          "B93 9AX",
          "B94 5BG",
          "B94 5DJ",
          "B94 5DZ",
          "B94 5EA",
          "B94 5EH",
          "B94 5HL",
          "B94 5NJ",
          "B94 5PQ",
          "B94 6AU",
          "B94 6EU",
          "B94 6LD",
          "B94 6LE",
          "B94 6LY",
          "B94 6PT",
          "B95 5EY",
          "B95 5HH",
          "B95 5HJ",
          "B95 5QS",
          "B95 5RT",
          "B95 6AQ",
          "B95 6AR",
          "B95 6DE",
          "B95 6DU",
          "B96 6BF",
          "B96 6SX",
          "B96 6TE",
          "B97 4PZ",
          "B97 5TP",
          "B97 5TR",
          "B97 6RQ",
          "B98 8PX",
          "B98 9AR",
          "B98 9DA",
          "B98 9DH",
          "B98 9EP",
          "BA1 1UQ",
          "BA1 4AL",
          "BA1 4HL",
          "BA1 5SG",
          "BA1 5SY",
          "BA1 5TD",
          "BA1 5TJ",
          "BA1 7BP",
          "BA1 7LQ",
          "BA1 8HA",
          "BA1 8HE",
          "BA1 9BQ",
          "BA1 9DE",
          "BA11 1RU",
          "BA11 2PW",
          "BA11 2RG",
          "BA11 3LW",
          "BA11 4AU",
          "BA11 5JL",
          "BA11 5LD",
          "BA11 6QW",
          "BA12 0AH",
          "BA12 0LL",
          "BA12 6BJ",
          "BA12 6QU",
          "BA12 7AL",
          "BA12 7BE",
          "BA12 7HX",
          "BA12 8AJ",
          "BA12 9HL",
          "BA12 9JL",
          "BA13 3BE",
          "BA13 4EN",
          "BA13 4PE",
          "BA14 0TX",
          "BA14 6EA",
          "BA14 6GA",
          "BA14 6LQ",
          "BA14 9LE",
          "BA14 9NB",
          "BA14 9NU",
          "BA15 2JD",
          "BA15 2PF",
          "BA16 0TZ",
          "BA16 9RQ",
          "BA2 0ER",
          "BA2 0HH",
          "BA2 4BP",
          "BA2 5JN",
          "BA2 6AJ",
          "BA2 6AS",
          "BA2 6AY",
          "BA2 6BE",
          "BA2 6EX",
          "BA2 6SW",
          "BA2 7DF",
          "BA2 7DJ",
          "BA2 7DQ",
          "BA2 7EX",
          "BA2 7GH",
          "BA2 7JL",
          "BA2 7NP",
          "BA2 7RH",
          "BA2 7TG",
          "BA2 7WL",
          "BA2 8AS",
          "BA2 8JN",
          "BA2 8NN",
          "BA2 8NQ",
          "BA2 8QS",
          "BA2 8QX",
          "BA2 8RF",
          "BA2 9AN",
          "BA2 9DX",
          "BA21 3QE",
          "BA21 5TS",
          "BA22 7AH",
          "BA22 7RG",
          "BA22 8JB",
          "BA22 8QX",
          "BA22 8TB",
          "BA22 8UJ",
          "BA22 9DH",
          "BA22 9FA",
          "BA22 9FG",
          "BA22 9FJ",
          "BA22 9JP",
          "BA22 9QX",
          "BA3 2UD",
          "BA3 3SN",
          "BA3 4LL",
          "BA3 5AW",
          "BA3 5EN",
          "BA3 5EX",
          "BA3 5GL",
          "BA3 5TE",
          "BA3 5XG",
          "BA3 5XX",
          "BA4 4BP",
          "BA4 4EN",
          "BA4 4JE",
          "BA4 4RZ",
          "BA4 5EE",
          "BA4 6TP",
          "BA5 1GE",
          "BA5 1NN",
          "BA5 1NQ",
          "BA6 8JX",
          "BA6 8LG",
          "BA6 8NJ",
          "BA6 8PU",
          "BA6 8TF",
          "BA8 0RT",
          "BA8 0RW",
          "BA8 0TQ",
          "BA9 8BB",
          "BA9 8HA",
          "BA9 8LP",
          "BA9 9PQ",
          "BA9 9QU",
          "BB1 9DP",
          "BB1 9DW",
          "BB10 2LX",
          "BB10 4RS",
          "BB10 4SY",
          "BB11 5NS",
          "BB12 0RP",
          "BB12 7LN",
          "BB12 7RE",
          "BB12 7RF",
          "BB12 9JG",
          "BB12 9JN",
          "BB18 5BZ",
          "BB18 5DF",
          "BB18 5NA",
          "BB18 5SA",
          "BB18 5SQ",
          "BB18 5XD",
          "BB18 5XF",
          "BB18 6JR",
          "BB18 6LF",
          "BB2 5JR",
          "BB2 6PT",
          "BB2 6QF",
          "BB2 6QQ",
          "BB2 7AJ",
          "BB2 7BF",
          "BB2 7LL",
          "BB2 7LW",
          "BB2 7LZ",
          "BB2 7PY",
          "BB4 4AQ",
          "BB4 4AZ",
          "BB4 4QR",
          "BB4 7JH",
          "BB4 7NN",
          "BB4 8TB",
          "BB4 9NE",
          "BB4 9NF",
          "BB4 9SA",
          "BB4 9SB",
          "BB5 1HS",
          "BB5 3RE",
          "BB5 5UD",
          "BB6 7UN",
          "BB6 8AD",
          "BB6 8AH",
          "BB6 8HW",
          "BB6 8HY",
          "BB7 1PR",
          "BB7 1QB",
          "BB7 3AY",
          "BB7 3DL",
          "BB7 3JH",
          "BB7 3LR",
          "BB7 3LU",
          "BB7 4EP",
          "BB7 4HD",
          "BB7 4LZ",
          "BB7 4NF",
          "BB7 4TR",
          "BB7 9PF",
          "BB7 9PW",
          "BB7 9QW",
          "BB7 9QY",
          "BB7 9YD",
          "BB7 9ZE",
          "BB7 9ZF",
          "BB7 9ZH",
          "BB8 7EH",
          "BB8 7LL",
          "BB8 7NN",
          "BB8 8NS",
          "BB8 8PT",
          "BB8 9BJ",
          "BB8 9PN",
          "BB8 9QY",
          "BB9 6QH",
          "BB9 7WD",
          "BD1 1SR",
          "BD1 4QG",
          "BD1 5BD",
          "BD1 5HD",
          "BD10 0LF",
          "BD10 0LP",
          "BD10 0PN",
          "BD12 9JF",
          "BD13 1NJ",
          "BD13 3RU",
          "BD13 4NE",
          "BD13 5BN",
          "BD13 5JD",
          "BD15 9AG",
          "BD16 1HF",
          "BD16 1RY",
          "BD16 2DN",
          "BD17 7ET",
          "BD17 7NZ",
          "BD18 4HJ",
          "BD19 3BX",
          "BD20 0PW",
          "BD20 5UZ",
          "BD20 7AU",
          "BD20 8DY",
          "BD20 8HE",
          "BD20 8HL",
          "BD20 8JJ",
          "BD20 9AB",
          "BD20 9EX",
          "BD20 9HW",
          "BD20 9JG",
          "BD21 5QE",
          "BD21 5QX",
          "BD22 0JP",
          "BD23 1BY",
          "BD23 3HT",
          "BD23 3JL",
          "BD23 3LP",
          "BD23 3PH",
          "BD23 3QE",
          "BD23 3QR",
          "BD23 3TQ",
          "BD23 4BA",
          "BD23 4BL",
          "BD23 4BP",
          "BD23 4BX",
          "BD23 4DU",
          "BD23 4SD",
          "BD23 5RN",
          "BD23 6AL",
          "BD23 6LJ",
          "BD24 0DQ",
          "BD24 0LG",
          "BD24 9PT",
          "BD5 8LE",
          "BD8 9BR",
          "BD9 4DU",
          "BD9 4JX",
          "BD9 5AD",
          "BD9 5NU",
          "BH1 1NL",
          "BH10 4FL",
          "BH12 1AB",
          "BH13 6DA",
          "BH13 6DZ",
          "BH13 6LQ",
          "BH13 7AG",
          "BH13 7AJ",
          "BH13 7AL",
          "BH13 7AN",
          "BH13 7AQ",
          "BH13 7BD",
          "BH13 7BP",
          "BH13 7BZ",
          "BH13 7DB",
          "BH13 7DF",
          "BH13 7DH",
          "BH13 7DQ",
          "BH13 7EN",
          "BH13 7EU",
          "BH13 7NW",
          "BH13 7PH",
          "BH13 7PQ",
          "BH13 7QJ",
          "BH13 7RW",
          "BH14 8EE",
          "BH14 8EH",
          "BH14 8NB",
          "BH15 2BZ",
          "BH15 4AU",
          "BH16 5NA",
          "BH16 6JQ",
          "BH18 8AN",
          "BH18 8BU",
          "BH2 6PL",
          "BH20 5JE",
          "BH20 7EF",
          "BH20 7ET",
          "BH21 2FQ",
          "BH21 3AA",
          "BH21 3BD",
          "BH21 3BG",
          "BH21 3QJ",
          "BH21 3RJ",
          "BH21 3RU",
          "BH21 4JJ",
          "BH21 5ES",
          "BH21 5QY",
          "BH21 6RA",
          "BH21 6RS",
          "BH21 6SD",
          "BH21 7AG",
          "BH21 7HQ",
          "BH21 7JS",
          "BH21 7LS",
          "BH21 7ND",
          "BH21 7NW",
          "BH21 8NB",
          "BH21 8ND",
          "BH22 0AF",
          "BH22 0AW",
          "BH22 0LP",
          "BH22 0LW",
          "BH22 8LL",
          "BH22 8RE",
          "BH23 3NJ",
          "BH23 4DY",
          "BH23 5QN",
          "BH23 7AF",
          "BH23 8EA",
          "BH23 8EG",
          "BH24 2AP",
          "BH24 2BA",
          "BH24 2BW",
          "BH24 2DQ",
          "BH24 2EB",
          "BH24 2SG",
          "BH24 2SL",
          "BH24 3AZ",
          "BH24 3BH",
          "BH24 3EN",
          "BH24 3ES",
          "BH24 3HD",
          "BH24 3JS",
          "BH24 3NA",
          "BH24 3PT",
          "BH24 3QX",
          "BH24 4AZ",
          "BH24 4DE",
          "BH24 4HP",
          "BH25 5PH",
          "BH25 5PJ",
          "BH25 5QU",
          "BH25 5TR",
          "BH25 5TT",
          "BH25 5YB",
          "BH4 8BW",
          "BH6 4JX",
          "BL0 0GX",
          "BL0 0PY",
          "BL0 0RL",
          "BL0 9RT",
          "BL1 3LR",
          "BL1 5AJ",
          "BL1 5AN",
          "BL1 5AQ",
          "BL1 5BQ",
          "BL1 5DR",
          "BL1 5NE",
          "BL1 6LQ",
          "BL1 7LS",
          "BL2 4JS",
          "BL3 3TZ",
          "BL5 1AW",
          "BL5 3GG",
          "BL6 4AE",
          "BL6 4DR",
          "BL6 4PA",
          "BL6 6AX",
          "BL6 6QN",
          "BL6 6SA",
          "BL7 0HB",
          "BL7 0JH",
          "BL7 0JN",
          "BL7 0JX",
          "BL7 0JY",
          "BL7 0JZ",
          "BL7 0PJ",
          "BL7 0QN",
          "BL7 9LW",
          "BL7 9NE",
          "BL8 1PR",
          "BL8 3PT",
          "BL8 4HZ",
          "BL8 4NS",
          "BL9 0JP",
          "BL9 6TB",
          "BL9 6UL",
          "BL9 7LW",
          "BN1 1HA",
          "BN1 2HH",
          "BN1 3DS",
          "BN1 4GX",
          "BN1 5BJ",
          "BN1 5LB",
          "BN1 8AL",
          "BN1 9BN",
          "BN1 9GG",
          "BN10 8AA",
          "BN11 3HX",
          "BN11 3PD",
          "BN13 3DH",
          "BN13 3UB",
          "BN13 3UZ",
          "BN14 0RH",
          "BN15 8ES",
          "BN15 8JG",
          "BN15 9AL",
          "BN16 1SG",
          "BN16 2QT",
          "BN16 2SN",
          "BN16 2SS",
          "BN16 2TE",
          "BN18 0BG",
          "BN18 0GD",
          "BN18 0NU",
          "BN18 9AJ",
          "BN18 9NH",
          "BN18 9QG",
          "BN18 9RN",
          "BN2 0BJ",
          "BN2 1RB",
          "BN2 4EY",
          "BN2 4FN",
          "BN2 5RG",
          "BN2 5RH",
          "BN2 8BU",
          "BN20 0AT",
          "BN20 7FD",
          "BN20 7GE",
          "BN21 3EE",
          "BN21 4FB",
          "BN22 0UB",
          "BN23 5AN",
          "BN24 5BJ",
          "BN25 2NZ",
          "BN26 6GF",
          "BN26 6QN",
          "BN26 6RE",
          "BN26 6RU",
          "BN27 1UQ",
          "BN27 3PR",
          "BN27 3PU",
          "BN27 3YJ",
          "BN27 4EF",
          "BN27 4FT",
          "BN27 4FU",
          "BN27 4FW",
          "BN27 4QY",
          "BN27 4RX",
          "BN27 4SZ",
          "BN27 4TN",
          "BN27 4TQ",
          "BN3 1JN",
          "BN3 1QG",
          "BN3 3JB",
          "BN3 6DA",
          "BN3 6DB",
          "BN3 6QA",
          "BN3 6QB",
          "BN3 6QF",
          "BN3 6QH",
          "BN3 6TN",
          "BN3 7RN",
          "BN41 1WE",
          "BN43 6RZ",
          "BN45 7AE",
          "BN5 9AD",
          "BN5 9AE",
          "BN5 9AN",
          "BN5 9AW",
          "BN5 9BP",
          "BN5 9DN",
          "BN5 9LN",
          "BN5 9NJ",
          "BN5 9TB",
          "BN5 9TG",
          "BN5 9XJ",
          "BN5 9YR",
          "BN6 8PA",
          "BN6 8RL",
          "BN6 8RX",
          "BN6 8TP",
          "BN6 8UZ",
          "BN6 8XB",
          "BN6 8XE",
          "BN6 8XL",
          "BN6 9BX",
          "BN6 9EP",
          "BN6 9HD",
          "BN6 9JZ",
          "BN6 9LH",
          "BN6 9LJ",
          "BN6 9LW",
          "BN6 9YG",
          "BN7 3AU",
          "BN8 4DD",
          "BN8 4FE",
          "BN8 4JJ",
          "BN8 4JR",
          "BN8 4LY",
          "BN8 4QE",
          "BN8 4QG",
          "BN8 4QP",
          "BN8 4QS",
          "BN8 4RX",
          "BN8 4TB",
          "BN8 5BG",
          "BN8 5BT",
          "BN8 5FR",
          "BN8 5SG",
          "BN8 5TB",
          "BN8 5UA",
          "BN8 6HH",
          "BN8 6JG",
          "BN8 6JQ",
          "BN8 6PH",
          "BN8 6PT",
          "BN9 9DR",
          "BR1 1LE",
          "BR1 1RP",
          "BR1 2AE",
          "BR1 2AJ",
          "BR1 2BD",
          "BR1 2GE",
          "BR1 2GF",
          "BR1 2LD",
          "BR1 2NR",
          "BR1 2PJ",
          "BR1 2PP",
          "BR1 2WF",
          "BR1 3DY",
          "BR1 3JN",
          "BR1 4PB",
          "BR2 0QU",
          "BR2 6AR",
          "BR2 6BU",
          "BR2 6DJ",
          "BR2 6EA",
          "BR2 6EE",
          "BR2 6EG",
          "BR2 6EP",
          "BR2 7AR",
          "BR2 7BT",
          "BR2 7BZ",
          "BR2 7EG",
          "BR2 8HJ",
          "BR3 3AA",
          "BR3 3LN",
          "BR3 3LW",
          "BR3 3XL",
          "BR3 4XF",
          "BR3 5BN",
          "BR3 5EQ",
          "BR3 5HD",
          "BR3 5HE",
          "BR3 5LL",
          "BR3 6AB",
          "BR3 6SX",
          "BR3 6SY",
          "BR4 0JF",
          "BR5 1DE",
          "BR5 3FF",
          "BR5 4ET",
          "BR5 4HB",
          "BR6 0PF",
          "BR6 6EP",
          "BR6 6HN",
          "BR6 6HR",
          "BR6 6HS",
          "BR6 7GJ",
          "BR6 7PY",
          "BR6 7QJ",
          "BR6 7SE",
          "BR6 7SL",
          "BR6 7SN",
          "BR6 8LJ",
          "BR6 8LL",
          "BR6 8LP",
          "BR6 8LS",
          "BR6 8LT",
          "BR6 8LW",
          "BR6 8LX",
          "BR6 8NG",
          "BR6 8NQ",
          "BR6 8NT",
          "BR7 5EP",
          "BR7 5EY",
          "BR7 5EZ",
          "BR7 5HD",
          "BR7 5HE",
          "BR7 5HG",
          "BR7 5HT",
          "BR7 5LB",
          "BR7 5PB",
          "BR7 5PH",
          "BR7 5PJ",
          "BR7 5QW",
          "BR7 6AB",
          "BR7 6HD",
          "BR7 6NP",
          "BR7 6RA",
          "BR8 7PD",
          "BR8 7PW",
          "BR8 7QJ",
          "BR8 8DL",
          "BR8 8LT",
          "BS1 3NN",
          "BS1 5DG",
          "BS1 6LS",
          "BS10 7DS",
          "BS11 0FG",
          "BS13 0SA",
          "BS15 3NS",
          "BS15 4PF",
          "BS16 7JH",
          "BS16 9NJ",
          "BS20 7SA",
          "BS20 7SB",
          "BS20 7SD",
          "BS21 7AR",
          "BS21 7AT",
          "BS22 7AD",
          "BS22 9YP",
          "BS23 1BS",
          "BS23 2ER",
          "BS24 0JB",
          "BS24 0NY",
          "BS24 6RQ",
          "BS25 1PP",
          "BS25 5QE",
          "BS26 2PD",
          "BS27 3YR",
          "BS28 4PP",
          "BS28 4TP",
          "BS28 4UE",
          "BS30 5SR",
          "BS30 5TU",
          "BS30 6NG",
          "BS30 6NT",
          "BS31 2SG",
          "BS31 2SJ",
          "BS31 3DG",
          "BS32 4BS",
          "BS32 4DG",
          "BS32 4LE",
          "BS32 4PF",
          "BS34 8PB",
          "BS35 3LG",
          "BS35 4AA",
          "BS35 4AB",
          "BS35 4AX",
          "BS35 4AZ",
          "BS36 1JP",
          "BS36 1RW",
          "BS37 6EA",
          "BS37 6PG",
          "BS37 6PW",
          "BS37 6SB",
          "BS37 7EX",
          "BS37 7LE",
          "BS37 7LS",
          "BS37 7LT",
          "BS37 7LW",
          "BS37 7QP",
          "BS37 8QT",
          "BS37 9XZ",
          "BS39 4AR",
          "BS39 4JL",
          "BS39 4LL",
          "BS39 5UD",
          "BS39 7ST",
          "BS40 5BW",
          "BS40 5PL",
          "BS40 7XF",
          "BS40 8AF",
          "BS40 8BP",
          "BS40 8QP",
          "BS40 8TE",
          "BS41 8JZ",
          "BS41 8NJ",
          "BS41 9LW",
          "BS48 1JT",
          "BS48 1LB",
          "BS48 1LP",
          "BS48 1LX",
          "BS48 1NQ",
          "BS48 1PH",
          "BS48 3AR",
          "BS48 3RY",
          "BS48 4DG",
          "BS6 6PL",
          "BS6 7BE",
          "BS6 7DW",
          "BS6 7QQ",
          "BS7 9DA",
          "BS7 9DB",
          "BS7 9DE",
          "BS7 9EY",
          "BS8 1DU",
          "BS8 2BD",
          "BS8 2DA",
          "BS8 3QF",
          "BS8 3TZ",
          "BS8 3UN",
          "BS8 4HB",
          "BS9 1JL",
          "BS9 1LG",
          "BS9 1QQ",
          "BS9 2RT",
          "BS9 3UP",
          "BS9 4BE",
          "CA1 1LA",
          "CA1 1LU",
          "CA10 1BP",
          "CA10 1BW",
          "CA10 1DW",
          "CA10 1ET",
          "CA10 1FA",
          "CA10 2HN",
          "CA10 2QL",
          "CA10 3AE",
          "CA10 3UJ",
          "CA11 7BB",
          "CA11 8HJ",
          "CA12 4SF",
          "CA12 5UG",
          "CA13 0DD",
          "CA13 0SR",
          "CA13 9TB",
          "CA14 4HF",
          "CA14 4PP",
          "CA15 7RA",
          "CA16 6DQ",
          "CA16 6QF",
          "CA17 4LL",
          "CA17 4NL",
          "CA18 1RN",
          "CA22 2US",
          "CA28 8UP",
          "CA4 0RH",
          "CA4 8LE",
          "CA4 9PS",
          "CA5 6AF",
          "CA5 6HA",
          "CA5 7HG",
          "CA5 7HW",
          "CA5 7JR",
          "CA6 4DS",
          "CA6 4QU",
          "CA6 4QY",
          "CA6 6JJ",
          "CA7 3SB",
          "CA7 3SH",
          "CA7 5EU",
          "CA7 8HH",
          "CA7 8JN",
          "CA8 1AE",
          "CA8 1AQ",
          "CA8 1TR",
          "CA8 7BG",
          "CA9 3BD",
          "CA9 3LD",
          "CB1 2ET",
          "CB10 1NX",
          "CB10 1PE",
          "CB10 1UZ",
          "CB10 2EZ",
          "CB10 2FU",
          "CB10 2HG",
          "CB10 2LX",
          "CB10 2NA",
          "CB10 2NB",
          "CB10 2PJ",
          "CB10 2PQ",
          "CB10 2TF",
          "CB10 2TX",
          "CB10 2UQ",
          "CB10 2UT",
          "CB10 2XG",
          "CB10 2XH",
          "CB11 3BZ",
          "CB11 3JX",
          "CB11 3JY",
          "CB11 3NW",
          "CB11 3RU",
          "CB11 3SB",
          "CB11 3SN",
          "CB11 3SP",
          "CB11 3TX",
          "CB11 3UD",
          "CB11 4NH",
          "CB11 4TG",
          "CB11 4UJ",
          "CB2 3JU",
          "CB2 7EG",
          "CB21 4AQ",
          "CB21 4JX",
          "CB21 4PW",
          "CB21 4TR",
          "CB21 5AG",
          "CB21 6AH",
          "CB21 6AY",
          "CB21 6BX",
          "CB21 6DJ",
          "CB22 3UY",
          "CB22 5DB",
          "CB22 5EU",
          "CB22 5JX",
          "CB22 7SA",
          "CB22 7SE",
          "CB23 2RH",
          "CB23 2TR",
          "CB23 2TU",
          "CB23 3PP",
          "CB23 4GB",
          "CB23 4JE",
          "CB23 4LT",
          "CB23 4LW",
          "CB23 6EU",
          "CB23 6JJ",
          "CB23 7FA",
          "CB23 7PH",
          "CB24 4AG",
          "CB24 4RB",
          "CB24 5AB",
          "CB24 8SN",
          "CB24 9AN",
          "CB25 0FG",
          "CB25 9JQ",
          "CB3 0EG",
          "CB3 0XA",
          "CB4 1XD",
          "CB4 2QL",
          "CB6 2JF",
          "CB6 2SE",
          "CB6 3GJ",
          "CB6 3GL",
          "CB6 3GU",
          "CB6 3GW",
          "CB6 3JF",
          "CB6 3LH",
          "CB6 3QB",
          "CB6 3QF",
          "CB6 3QN",
          "CB7 5FH",
          "CB7 5JZ",
          "CB7 5SR",
          "CB7 5TU",
          "CB7 5UA",
          "CB7 5UL",
          "CB7 5WF",
          "CB7 5YA",
          "CB8 0RG",
          "CB8 0SW",
          "CB8 0XA",
          "CB8 7LG",
          "CB8 8FQ",
          "CB8 8GW",
          "CB8 8XQ",
          "CB8 8YY",
          "CB8 9FF",
          "CB8 9FG",
          "CB8 9NE",
          "CB8 9PA",
          "CB8 9QA",
          "CB9 0DE",
          "CB9 7EJ",
          "CB9 7XR",
          "CF10 1AW",
          "CF10 1FP",
          "CF10 4NQ",
          "CF11 8DR",
          "CF11 9QL",
          "CF14 0XL",
          "CF14 6LQ",
          "CF15 8EL",
          "CF15 9LA",
          "CF23 6AT",
          "CF23 6SU",
          "CF24 5PJ",
          "CF3 0UJ",
          "CF3 2TN",
          "CF31 3PN",
          "CF31 3SR",
          "CF32 8TJ",
          "CF32 9LH",
          "CF35 6EN",
          "CF35 6NE",
          "CF35 6PU",
          "CF36 3TQ",
          "CF38 2AF",
          "CF46 6BL",
          "CF5 6BG",
          "CF5 6BQ",
          "CF5 6EZ",
          "CF5 6JH",
          "CF61 1YX",
          "CF61 2YS",
          "CF62 3AQ",
          "CF62 5QT",
          "CF63 4QR",
          "CF64 2NR",
          "CF64 4DN",
          "CF71 7PX",
          "CF71 7RN",
          "CF71 7UQ",
          "CF72 9LY",
          "CF83 8NR",
          "CH1 1QG",
          "CH1 4EA",
          "CH1 6JD",
          "CH2 1AQ",
          "CH2 4HU",
          "CH3 5BG",
          "CH3 7LX",
          "CH3 7PB",
          "CH3 7RT",
          "CH3 7RZ",
          "CH3 8AZ",
          "CH3 8LQ",
          "CH3 8NU",
          "CH4 8JG",
          "CH4 8JN",
          "CH4 9FH",
          "CH41 5LD",
          "CH42 3UN",
          "CH42 8NA",
          "CH43 6TS",
          "CH43 7PU",
          "CH43 9UQ",
          "CH45 3JQ",
          "CH48 1LP",
          "CH48 1LX",
          "CH48 1LZ",
          "CH48 1NA",
          "CH48 1NB",
          "CH48 2HT",
          "CH48 2HW",
          "CH48 2JF",
          "CH48 2JG",
          "CH48 2JJ",
          "CH48 2JL",
          "CH48 5DR",
          "CH48 7JA",
          "CH49 1TD",
          "CH5 2JX",
          "CH5 3BZ",
          "CH5 3PR",
          "CH5 3PS",
          "CH60 0BT",
          "CH60 0DG",
          "CH60 2SN",
          "CH60 6RY",
          "CH60 6SP",
          "CH60 7SH",
          "CH60 8NF",
          "CH61 4XU",
          "CH62 0DR",
          "CH62 2BE",
          "CH63 4JG",
          "CH64 0TG",
          "CH64 1RN",
          "CH64 1RT",
          "CH64 2TP",
          "CH64 5SD",
          "CH64 5SE",
          "CH64 6QZ",
          "CH64 8TE",
          "CH64 8TJ",
          "CH65 3DX",
          "CH66 5PF",
          "CH66 5PG",
          "CH7 4DZ",
          "CH7 4EA",
          "CH7 4LW",
          "CH7 5LE",
          "CH7 5RP",
          "CH7 6RH",
          "CH7 6TA",
          "CH8 7EZ",
          "CH8 8PQ",
          "CH8 9AF",
          "CH8 9BE",
          "CM0 7BP",
          "CM0 7HU",
          "CM0 7LB",
          "CM0 7NY",
          "CM0 7QZ",
          "CM0 7TR",
          "CM0 8HZ",
          "CM0 8PT",
          "CM1 1RN",
          "CM1 3EW",
          "CM1 3PH",
          "CM1 3PN",
          "CM1 3RB",
          "CM1 3RE",
          "CM1 3RH",
          "CM1 3RY",
          "CM1 3WR",
          "CM1 4NZ",
          "CM1 4PR",
          "CM1 4RL",
          "CM1 4RZ",
          "CM1 4SJ",
          "CM1 4ST",
          "CM1 6TD",
          "CM11 1BB",
          "CM11 1DB",
          "CM11 1EU",
          "CM11 1HG",
          "CM11 1HQ",
          "CM11 1JT",
          "CM11 1JZ",
          "CM11 1NS",
          "CM11 1PH",
          "CM11 1PR",
          "CM11 1RJ",
          "CM11 1RL",
          "CM11 1RP",
          "CM11 2HZ",
          "CM12 9SL",
          "CM12 9ST",
          "CM12 9TE",
          "CM13 1AS",
          "CM13 1FA",
          "CM13 1SL",
          "CM13 2FB",
          "CM13 2HH",
          "CM13 2JJ",
          "CM13 2LJ",
          "CM13 2LQ",
          "CM13 2LR",
          "CM13 2LS",
          "CM13 2LU",
          "CM13 2LX",
          "CM13 2NP",
          "CM13 2NR",
          "CM13 2NY",
          "CM13 2NZ",
          "CM13 2PF",
          "CM13 2PN",
          "CM13 3DT",
          "CM13 3EU",
          "CM13 3HT",
          "CM13 3HX",
          "CM13 3JP",
          "CM13 3PA",
          "CM13 3PN",
          "CM14 4RG",
          "CM14 5FF",
          "CM14 5FH",
          "CM14 5FS",
          "CM14 5FW",
          "CM14 5TB",
          "CM15 0LD",
          "CM15 0LE",
          "CM15 0LG",
          "CM15 0LS",
          "CM15 0NX",
          "CM15 0SP",
          "CM15 0UT",
          "CM15 8BZ",
          "CM15 8DN",
          "CM15 8EU",
          "CM15 9AA",
          "CM15 9SE",
          "CM16 4EE",
          "CM16 4LJ",
          "CM16 5HH",
          "CM16 6AX",
          "CM16 6PP",
          "CM16 7FA",
          "CM16 7JW",
          "CM16 7NB",
          "CM16 7PS",
          "CM16 7QL",
          "CM17 0NP",
          "CM17 0QE",
          "CM17 0RA",
          "CM17 9JF",
          "CM17 9JN",
          "CM17 9NF",
          "CM18 7HX",
          "CM19 5DD",
          "CM19 5DW",
          "CM19 5FF",
          "CM19 5JN",
          "CM19 5JZ",
          "CM2 0HY",
          "CM2 0JA",
          "CM2 6FT",
          "CM2 6FW",
          "CM2 7RP",
          "CM2 7RW",
          "CM2 7RZ",
          "CM2 7SD",
          "CM2 7TF",
          "CM2 7UJ",
          "CM2 8UQ",
          "CM20 2RF",
          "CM21 0AJ",
          "CM21 0HG",
          "CM21 0LB",
          "CM21 0LR",
          "CM21 9EP",
          "CM21 9RD",
          "CM22 6AN",
          "CM22 6BH",
          "CM22 6HU",
          "CM22 6JD",
          "CM22 6UD",
          "CM22 6UE",
          "CM22 6YG",
          "CM22 6YL",
          "CM22 7AS",
          "CM22 7BE",
          "CM22 7DR",
          "CM22 7EZ",
          "CM22 7PJ",
          "CM22 7SE",
          "CM22 7TS",
          "CM23 1AE",
          "CM23 1BJ",
          "CM23 1BX",
          "CM23 1DJ",
          "CM23 1HN",
          "CM23 1JG",
          "CM23 1JL",
          "CM23 2GZ",
          "CM23 2JN",
          "CM23 2QG",
          "CM23 2RN",
          "CM23 2RR",
          "CM23 4PT",
          "CM23 5NN",
          "CM23 5NT",
          "CM24 8AE",
          "CM24 8GP",
          "CM24 8SS",
          "CM24 8TU",
          "CM3 1HQ",
          "CM3 1HU",
          "CM3 1HZ",
          "CM3 1JY",
          "CM3 1QG",
          "CM3 2FE",
          "CM3 2SG",
          "CM3 3AL",
          "CM3 3NA",
          "CM3 4AL",
          "CM3 4JG",
          "CM3 4JW",
          "CM3 4LN",
          "CM3 4LW",
          "CM3 4NN",
          "CM3 4RZ",
          "CM3 4SU",
          "CM3 4SZ",
          "CM3 4TG",
          "CM3 6BG",
          "CM3 6FR",
          "CM3 6HQ",
          "CM3 6HR",
          "CM3 6HT",
          "CM3 6NJ",
          "CM3 6NL",
          "CM3 6QH",
          "CM3 6QL",
          "CM3 6QP",
          "CM3 6RJ",
          "CM3 6TP",
          "CM3 7AL",
          "CM3 8DB",
          "CM3 8DS",
          "CM3 8DW",
          "CM3 8EF",
          "CM3 8EW",
          "CM3 8HB",
          "CM3 8HE",
          "CM3 8HG",
          "CM4 0EE",
          "CM4 0HJ",
          "CM4 0HX",
          "CM4 0HZ",
          "CM4 0LP",
          "CM4 0PE",
          "CM4 0PZ",
          "CM4 9HU",
          "CM4 9LJ",
          "CM4 9LW",
          "CM4 9PS",
          "CM4 9QP",
          "CM4 9QZ",
          "CM4 9RJ",
          "CM4 9RS",
          "CM5 0DL",
          "CM5 0DN",
          "CM5 0EQ",
          "CM5 0EX",
          "CM5 0HP",
          "CM5 0NN",
          "CM5 0NU",
          "CM5 0QA",
          "CM5 0RD",
          "CM5 0RW",
          "CM5 0SD",
          "CM5 0SN",
          "CM5 0TE",
          "CM5 9LJ",
          "CM5 9NW",
          "CM5 9PH",
          "CM5 9PP",
          "CM5 9PU",
          "CM5 9QF",
          "CM5 9QP",
          "CM5 9SF",
          "CM6 1DF",
          "CM6 1HS",
          "CM6 1JB",
          "CM6 1JG",
          "CM6 1JH",
          "CM6 1JN",
          "CM6 1JP",
          "CM6 1JW",
          "CM6 1ND",
          "CM6 1QG",
          "CM6 1TE",
          "CM6 1TG",
          "CM6 2EH",
          "CM6 2HD",
          "CM6 2HN",
          "CM6 2QA",
          "CM6 2QD",
          "CM6 2RQ",
          "CM6 3BH",
          "CM6 3HY",
          "CM6 3JE",
          "CM6 3JP",
          "CM6 3LX",
          "CM6 3PR",
          "CM6 3PW",
          "CM6 3PX",
          "CM6 3PY",
          "CM6 3PZ",
          "CM6 3QF",
          "CM6 3QQ",
          "CM6 3SZ",
          "CM7 1GQ",
          "CM7 4DN",
          "CM7 4FA",
          "CM7 4LL",
          "CM7 4PH",
          "CM7 4TG",
          "CM7 5AW",
          "CM7 5DT",
          "CM7 5FS",
          "CM7 5GG",
          "CM7 5PA",
          "CM7 5WS",
          "CM77 6AA",
          "CM77 6DP",
          "CM77 8AF",
          "CM77 8FQ",
          "CM77 8FS",
          "CM77 8QT",
          "CM8 1GJ",
          "CM8 1TS",
          "CM8 1TU",
          "CM8 1TX",
          "CM8 2YW",
          "CM8 3EN",
          "CM8 3JN",
          "CM8 3JP",
          "CM8 3LU",
          "CM8 3LY",
          "CM9 6RH",
          "CM9 6SP",
          "CM9 6TB",
          "CM9 8BA",
          "CM9 8BX",
          "CM9 8BY",
          "CM9 8DT",
          "CM9 8EL",
          "CM9 8HG",
          "CM9 8JE",
          "CM9 8JF",
          "CM9 8JR",
          "CM9 8JT",
          "CO1 2ZR",
          "CO10 0NL",
          "CO10 0PR",
          "CO10 0RL",
          "CO10 5AJ",
          "CO10 5AN",
          "CO10 5JY",
          "CO10 5LP",
          "CO10 5NJ",
          "CO10 7AE",
          "CO10 8BL",
          "CO10 8HU",
          "CO10 8QX",
          "CO10 8QY",
          "CO10 8RE",
          "CO10 9SA",
          "CO10 9SJ",
          "CO11 2DN",
          "CO11 2QH",
          "CO12 3RF",
          "CO12 4AF",
          "CO13 0JA",
          "CO13 9DS",
          "CO15 1JA",
          "CO15 2HY",
          "CO15 6PW",
          "CO16 0AN",
          "CO16 0FD",
          "CO16 7AQ",
          "CO16 8RX",
          "CO16 8TZ",
          "CO16 9AS",
          "CO16 9BU",
          "CO16 9NF",
          "CO2 0BW",
          "CO2 0HH",
          "CO2 0JN",
          "CO2 7NR",
          "CO2 7NW",
          "CO2 7NX",
          "CO2 7NY",
          "CO2 8YS",
          "CO2 9GF",
          "CO2 9NW",
          "CO3 3NH",
          "CO3 9FH",
          "CO4 5NL",
          "CO4 5YZ",
          "CO5 0PN",
          "CO5 7PZ",
          "CO5 8SL",
          "CO5 9FS",
          "CO5 9SP",
          "CO6 1BZ",
          "CO6 1FH",
          "CO6 2QF",
          "CO6 3AQ",
          "CO6 4JB",
          "CO6 4JQ",
          "CO7 0SP",
          "CO7 6DH",
          "CO7 6EQ",
          "CO7 6PF",
          "CO7 6PJ",
          "CO7 7RU",
          "CO7 9DQ",
          "CO7 9JX",
          "CO8 5BA",
          "CO9 1RB",
          "CO9 1UP",
          "CO9 2GF",
          "CO9 3HA",
          "CO9 3RN",
          "CO9 4BX",
          "CO9 4DJ",
          "CO9 4HJ",
          "CO9 4LN",
          "CO9 4QX",
          "CR0 0SB",
          "CR0 1XX",
          "CR0 2AX",
          "CR0 2FP",
          "CR0 3AZ",
          "CR0 5HQ",
          "CR0 5PL",
          "CR0 5QA",
          "CR0 5QB",
          "CR0 5TG",
          "CR2 6GZ",
          "CR2 7HJ",
          "CR2 7HQ",
          "CR2 8QQ",
          "CR3 0AR",
          "CR3 0HA",
          "CR3 5AA",
          "CR3 5AL",
          "CR3 5BH",
          "CR3 5DR",
          "CR3 6AF",
          "CR3 6AS",
          "CR3 6DR",
          "CR3 6ER",
          "CR3 6YF",
          "CR3 7AX",
          "CR3 7BE",
          "CR3 7DH",
          "CR3 7DL",
          "CR3 7ED",
          "CR3 7EG",
          "CR3 7EJ",
          "CR3 7HD",
          "CR3 7HE",
          "CR3 7JA",
          "CR4 4FX",
          "CR4 4FY",
          "CR5 1JA",
          "CR5 3AZ",
          "CR5 3ES",
          "CR5 3EZ",
          "CR5 3LD",
          "CR5 3LT",
          "CR5 3PL",
          "CR5 3QG",
          "CR5 3QL",
          "CR5 3QZ",
          "CR5 3YF",
          "CR6 9BX",
          "CR6 9FB",
          "CR6 9HN",
          "CR6 9HP",
          "CR6 9LT",
          "CR6 9PG",
          "CR6 9PX",
          "CR7 7NS",
          "CR7 8BX",
          "CR7 8EA",
          "CR8 2HG",
          "CR8 2JQ",
          "CR8 3DN",
          "CR8 3HA",
          "CR8 3HG",
          "CR8 3JJ",
          "CR8 3LB",
          "CR8 3LD",
          "CR8 3LG",
          "CR8 3LH",
          "CR8 3LJ",
          "CR8 3LL",
          "CR8 3LN",
          "CR8 3NJ",
          "CR8 3NQ",
          "CT1 1BP",
          "CT1 2HR",
          "CT1 3HE",
          "CT10 1ET",
          "CT10 2BA",
          "CT10 2FN",
          "CT10 3LX",
          "CT11 0JQ",
          "CT11 9EE",
          "CT11 9PN",
          "CT12 5DN",
          "CT12 5JL",
          "CT13 0FF",
          "CT13 0FR",
          "CT13 9PZ",
          "CT14 0AT",
          "CT14 0BT",
          "CT14 7BD",
          "CT15 5FE",
          "CT15 7DN",
          "CT15 7HX",
          "CT16 1AR",
          "CT16 3AW",
          "CT16 3BE",
          "CT16 3DJ",
          "CT18 7AH",
          "CT18 7BJ",
          "CT18 7EH",
          "CT18 7RP",
          "CT19 4DE",
          "CT19 5LA",
          "CT2 8EQ",
          "CT2 8NU",
          "CT2 9BH",
          "CT20 2AN",
          "CT20 2DJ",
          "CT20 2DR",
          "CT20 2DT",
          "CT20 3UJ",
          "CT21 4HG",
          "CT21 4NX",
          "CT21 4PF",
          "CT21 5EE",
          "CT21 5XL",
          "CT3 1FE",
          "CT3 1SA",
          "CT3 1UP",
          "CT3 2AN",
          "CT3 2EE",
          "CT3 4AB",
          "CT3 4EB",
          "CT3 4NA",
          "CT3 4NG",
          "CT4 5AD",
          "CT4 5LE",
          "CT4 5RD",
          "CT4 5RY",
          "CT4 6BB",
          "CT4 6LN",
          "CT4 6NR",
          "CT4 6NS",
          "CT4 6PG",
          "CT4 6RL",
          "CT4 6XL",
          "CT4 7NJ",
          "CT5 3AP",
          "CT5 3EP",
          "CT5 3FH",
          "CT5 3FJ",
          "CT5 3PB",
          "CT6 7JX",
          "CT6 7NR",
          "CT7 0LB",
          "CT7 0LE",
          "CT7 0NH",
          "CT7 9QG",
          "CT9 1BT",
          "CT9 1HJ",
          "CT9 1RB",
          "CT9 1XS",
          "CT9 2PY",
          "CT9 4LT",
          "CV1 5BF",
          "CV1 5NR",
          "CV10 0GJ",
          "CV11 4LG",
          "CV12 0PW",
          "CV13 0DB",
          "CV13 0DF",
          "CV13 0DR",
          "CV13 0FA",
          "CV13 0FD",
          "CV13 6BJ",
          "CV13 6NG",
          "CV2 2AZ",
          "CV21 2LS",
          "CV21 2NP",
          "CV21 2TP",
          "CV21 3DY",
          "CV22 5AB",
          "CV22 5DF",
          "CV22 6HS",
          "CV22 7QF",
          "CV23 0FR",
          "CV23 0FS",
          "CV23 0FT",
          "CV23 0FU",
          "CV23 0FW",
          "CV23 0RN",
          "CV23 0SW",
          "CV23 0TF",
          "CV23 8AB",
          "CV23 8BG",
          "CV23 8YY",
          "CV23 9FA",
          "CV23 9PB",
          "CV23 9QA",
          "CV23 9QP",
          "CV23 9RS",
          "CV3 2AB",
          "CV32 4DG",
          "CV32 4HD",
          "CV32 4UE",
          "CV32 5EN",
          "CV32 5JS",
          "CV32 5LT",
          "CV32 6HA",
          "CV32 6HE",
          "CV32 6QN",
          "CV32 6QR",
          "CV33 9DU",
          "CV33 9EX",
          "CV33 9JN",
          "CV33 9NS",
          "CV33 9QL",
          "CV33 9TY",
          "CV34 4EH",
          "CV34 4LD",
          "CV35 0BL",
          "CV35 0EQ",
          "CV35 0FH",
          "CV35 0FJ",
          "CV35 0JH",
          "CV35 0NY",
          "CV35 0NZ",
          "CV35 0PL",
          "CV35 0PQ",
          "CV35 0QN",
          "CV35 0RB",
          "CV35 0RF",
          "CV35 0TA",
          "CV35 0TP",
          "CV35 7AA",
          "CV35 7AB",
          "CV35 7BG",
          "CV35 7BT",
          "CV35 7DQ",
          "CV35 7HD",
          "CV35 7HQ",
          "CV35 7NZ",
          "CV35 8AT",
          "CV35 8BZ",
          "CV35 8JT",
          "CV35 8NH",
          "CV35 8PB",
          "CV35 8PJ",
          "CV35 8PP",
          "CV35 8QB",
          "CV35 8RF",
          "CV36 4JQ",
          "CV36 4JW",
          "CV36 4LQ",
          "CV36 5BF",
          "CV36 5BJ",
          "CV36 5BT",
          "CV36 5DE",
          "CV36 5DG",
          "CV36 5LT",
          "CV36 5NY",
          "CV37 0AQ",
          "CV37 0ES",
          "CV37 0EW",
          "CV37 0JA",
          "CV37 0NR",
          "CV37 6RA",
          "CV37 7FD",
          "CV37 7FE",
          "CV37 7ND",
          "CV37 8AF",
          "CV37 8AX",
          "CV37 8BF",
          "CV37 8DJ",
          "CV37 8DS",
          "CV37 8DT",
          "CV37 8DU",
          "CV37 8FA",
          "CV37 8FF",
          "CV37 8JR",
          "CV37 8JS",
          "CV37 8QP",
          "CV37 8QS",
          "CV37 8SP",
          "CV37 8UX",
          "CV37 8XZ",
          "CV37 9TJ",
          "CV37 9UB",
          "CV4 7AD",
          "CV4 7AP",
          "CV47 0HY",
          "CV47 0LU",
          "CV47 2TH",
          "CV47 2UH",
          "CV47 2UJ",
          "CV47 2UY",
          "CV47 8NN",
          "CV47 8PA",
          "CV5 9BY",
          "CV6 5AY",
          "CV6 5GW",
          "CV7 7BS",
          "CV7 7HW",
          "CV7 7HX",
          "CV7 7JZ",
          "CV7 8EH",
          "CV7 9LH",
          "CV8 1NN",
          "CV8 1NS",
          "CV8 1PQ",
          "CV8 1PW",
          "CV8 2JR",
          "CV8 2LL",
          "CV8 2XR",
          "CV8 3BJ",
          "CV8 3DA",
          "CV9 1JP",
          "CV9 2JQ",
          "CV9 2NX",
          "CV9 3DR",
          "CV9 3PJ",
          "CV9 3PY",
          "CV9 3QE",
          "CV9 3QZ",
          "CW1 4PN",
          "CW1 4PT",
          "CW1 5UT",
          "CW1 5XP",
          "CW10 0LL",
          "CW10 0RR",
          "CW10 9NE",
          "CW10 9RG",
          "CW11 1RE",
          "CW11 2UB",
          "CW11 2UR",
          "CW11 2UY",
          "CW11 2UZ",
          "CW11 2XB",
          "CW11 3PS",
          "CW11 4ND",
          "CW11 4YF",
          "CW12 2LT",
          "CW12 2NS",
          "CW12 2PE",
          "CW12 2PG",
          "CW12 3QH",
          "CW12 3QJ",
          "CW12 4RA",
          "CW12 4ST",
          "CW12 4TE",
          "CW12 4UY",
          "CW2 5LD",
          "CW2 5PQ",
          "CW2 7QL",
          "CW3 0JS",
          "CW3 9GB",
          "CW3 9RF",
          "CW4 8ER",
          "CW4 8NH",
          "CW5 5ES",
          "CW5 6DJ",
          "CW5 6DX",
          "CW5 7HU",
          "CW5 7NN",
          "CW5 7PE",
          "CW5 7PQ",
          "CW5 7RB",
          "CW5 8AL",
          "CW5 8AT",
          "CW5 8AZ",
          "CW5 8BE",
          "CW5 8BF",
          "CW5 8BG",
          "CW5 8BP",
          "CW5 8JT",
          "CW5 8LR",
          "CW6 0GL",
          "CW6 9AF",
          "CW6 9DD",
          "CW6 9GQ",
          "CW6 9JN",
          "CW6 9JQ",
          "CW6 9NX",
          "CW6 9SU",
          "CW6 9SY",
          "CW6 9TP",
          "CW7 2QH",
          "CW8 1AY",
          "CW8 1QH",
          "CW8 2AL",
          "CW8 2AX",
          "CW8 2EP",
          "CW8 2RG",
          "CW8 2RR",
          "CW8 2RT",
          "CW8 2TW",
          "CW8 3QP",
          "CW8 4AW",
          "CW8 4GA",
          "CW9 6HR",
          "CW9 6JB",
          "CW9 6JY",
          "CW9 6LT",
          "CW9 6NG",
          "CW9 8ND",
          "DA1 1AU",
          "DA1 2DE",
          "DA1 2TL",
          "DA1 3PW",
          "DA12 2LL",
          "DA12 2NL",
          "DA12 3JT",
          "DA12 3LD",
          "DA13 0BB",
          "DA13 0BN",
          "DA13 0BT",
          "DA13 0DA",
          "DA13 0JB",
          "DA13 0JD",
          "DA13 0JR",
          "DA13 0QJ",
          "DA13 0RN",
          "DA13 0UG",
          "DA13 0XD",
          "DA13 0XE",
          "DA15 7JA",
          "DA2 7QG",
          "DA2 7QQ",
          "DA2 8BU",
          "DA2 8DX",
          "DA3 7HF",
          "DA3 7PW",
          "DA3 8DY",
          "DA3 8LX",
          "DA3 8NA",
          "DA3 8NN",
          "DA3 8QX",
          "DA3 8QY",
          "DA3 8QZ",
          "DA4 0AZ",
          "DA4 0DE",
          "DA4 0HY",
          "DA4 9JJ",
          "DA6 7DU",
          "DA8 1FJ",
          "DA8 1FL",
          "DA8 1FP",
          "DA8 1FQ",
          "DA9 9NP",
          "DD1 3DU",
          "DD1 5DY",
          "DD10 0DN",
          "DD10 0DS",
          "DD10 9BA",
          "DD11 1AB",
          "DD11 1EE",
          "DD11 4QY",
          "DD11 4SL",
          "DD3 0QQ",
          "DD4 0LS",
          "DD5 3JZ",
          "DD5 3PR",
          "DD7 7RF",
          "DD8 1XP",
          "DD8 2NE",
          "DD8 2PL",
          "DD8 5JR",
          "DD9 6EX",
          "DD9 7PT",
          "DE1 1HT",
          "DE1 3QE",
          "DE1 3TE",
          "DE11 8AF",
          "DE11 8BN",
          "DE11 8HB",
          "DE12 7AP",
          "DE12 7DW",
          "DE12 7QA",
          "DE12 7QB",
          "DE12 7QZ",
          "DE12 7RG",
          "DE12 8BT",
          "DE13 0AW",
          "DE13 0QJ",
          "DE13 7DU",
          "DE13 7JA",
          "DE13 8AD",
          "DE13 8NN",
          "DE13 8RL",
          "DE13 9LU",
          "DE13 9PA",
          "DE15 0TP",
          "DE22 2NP",
          "DE23 2TZ",
          "DE23 6PZ",
          "DE4 2PA",
          "DE4 3LX",
          "DE4 3ST",
          "DE4 3TF",
          "DE45 1LN",
          "DE45 1UT",
          "DE55 6BZ",
          "DE55 7PQ",
          "DE56 0LS",
          "DE56 1SU",
          "DE56 2SB",
          "DE56 2SS",
          "DE56 4BE",
          "DE6 1JJ",
          "DE6 1JN",
          "DE6 1LN",
          "DE6 1NS",
          "DE6 1QZ",
          "DE6 2EE",
          "DE6 2GF",
          "DE6 2HF",
          "DE6 3AJ",
          "DE6 3BL",
          "DE6 3DG",
          "DE6 3JJ",
          "DE6 4PL",
          "DE6 5AB",
          "DE6 5GX",
          "DE6 5HA",
          "DE6 5JJ",
          "DE6 5PB",
          "DE65 5FE",
          "DE65 6FS",
          "DE65 6LS",
          "DE7 5FA",
          "DE72 3PW",
          "DE73 7HY",
          "DE73 8AY",
          "DE73 8JT",
          "DE73 8JX",
          "DG1 1LN",
          "DG1 3LS",
          "DG1 3NA",
          "DG1 3SE",
          "DG10 9FA",
          "DG10 9LD",
          "DG10 9PP",
          "DG10 9QH",
          "DG11 1AA",
          "DG11 3EQ",
          "DG11 3LX",
          "DG12 6RS",
          "DG12 6SY",
          "DG13 0LU",
          "DG14 0XZ",
          "DG2 8BF",
          "DG2 8PZ",
          "DG2 9UE",
          "DG3 4BD",
          "DG3 5BE",
          "DG3 5JA",
          "DG3 5JS",
          "DG7 3XH",
          "DG8 7AX",
          "DG8 7EP",
          "DG8 8QG",
          "DG8 9TL",
          "DG9 9JL",
          "DG9 9NQ",
          "DH1 1NS",
          "DH1 3SS",
          "DH1 3ST",
          "DH1 5RJ",
          "DH3 1RA",
          "DH3 2AF",
          "DH3 3DX",
          "DH4 6PW",
          "DH6 1AA",
          "DH6 2AT",
          "DH6 2XS",
          "DH6 3LX",
          "DH6 5JD",
          "DH7 6EY",
          "DH7 6TT",
          "DH7 8DT",
          "DH7 9WA",
          "DH8 8SF",
          "DH8 9HD",
          "DH8 9RU",
          "DH9 6RP",
          "DH9 7EH",
          "DH9 7XR",
          "DH9 9TY",
          "DH9 9UA",
          "DL1 3JN",
          "DL10 4HN",
          "DL10 4SE",
          "DL10 5GZ",
          "DL10 5PW",
          "DL10 6NB",
          "DL10 6QH",
          "DL10 7EE",
          "DL10 7HA",
          "DL10 7HX",
          "DL10 7JJ",
          "DL10 7QE",
          "DL10 7RE",
          "DL11 6HR",
          "DL11 6RT",
          "DL11 6RU",
          "DL11 7PQ",
          "DL11 7SZ",
          "DL12 0QH",
          "DL12 9TA",
          "DL13 1PG",
          "DL13 1QT",
          "DL13 2BG",
          "DL13 5HQ",
          "DL14 0BJ",
          "DL14 6RJ",
          "DL14 7EQ",
          "DL14 9PP",
          "DL15 8BN",
          "DL16 7QX",
          "DL17 0LE",
          "DL2 1HT",
          "DL2 1QD",
          "DL2 1QZ",
          "DL2 1RL",
          "DL2 2LU",
          "DL2 2LX",
          "DL2 2SD",
          "DL2 2UX",
          "DL2 3HB",
          "DL2 3LR",
          "DL2 3TN",
          "DL2 3TT",
          "DL3 0FD",
          "DL3 6RW",
          "DL3 6SS",
          "DL5 6JH",
          "DL6 2HE",
          "DL6 3BD",
          "DL6 3HP",
          "DL6 3HT",
          "DL6 3JX",
          "DL6 3PN",
          "DL6 3PP",
          "DL7 0LH",
          "DL7 0QF",
          "DL7 0RL",
          "DL7 8LH",
          "DL7 9JR",
          "DL7 9NG",
          "DL8 1GZ",
          "DL8 1QG",
          "DL8 2RU",
          "DL8 3BE",
          "DL8 3NH",
          "DL8 4DW",
          "DL8 4PF",
          "DL8 4SN",
          "DL8 5JT",
          "DN1 2DL",
          "DN1 2JB",
          "DN1 2NE",
          "DN1 3EH",
          "DN1 3JL",
          "DN10 4BN",
          "DN10 4SH",
          "DN10 5AT",
          "DN10 5EN",
          "DN10 6SU",
          "DN11 9EX",
          "DN11 9NN",
          "DN11 9QF",
          "DN12 1PX",
          "DN14 0BT",
          "DN14 0EQ",
          "DN14 0HT",
          "DN14 0JS",
          "DN14 0JW",
          "DN14 0QE",
          "DN14 0RD",
          "DN14 0RS",
          "DN14 7RG",
          "DN14 7XL",
          "DN14 7ZB",
          "DN14 9DF",
          "DN14 9EA",
          "DN16 2NE",
          "DN16 2SD",
          "DN18 5DT",
          "DN18 6AU",
          "DN19 7ET",
          "DN19 7NH",
          "DN20 0QE",
          "DN20 9HL",
          "DN21 1QA",
          "DN21 2HL",
          "DN21 3DE",
          "DN21 3EW",
          "DN21 3LQ",
          "DN21 4BD",
          "DN21 4EU",
          "DN21 4GB",
          "DN22 0AE",
          "DN22 6JL",
          "DN22 6JX",
          "DN22 8AD",
          "DN22 8ED",
          "DN22 8QH",
          "DN22 8RW",
          "DN22 8SD",
          "DN3 3RA",
          "DN32 8PL",
          "DN34 4GB",
          "DN34 4GE",
          "DN34 4GF",
          "DN34 4GL",
          "DN34 4GN",
          "DN34 5UU",
          "DN35 8RY",
          "DN36 4RL",
          "DN36 4SJ",
          "DN37 7JR",
          "DN39 6XJ",
          "DN4 6QS",
          "DN4 7AD",
          "DN4 7NY",
          "DN40 2AX",
          "DN40 3ER",
          "DN6 0EZ",
          "DN6 0QU",
          "DN7 6HL",
          "DN7 6PT",
          "DN8 4JL",
          "DN8 5SX",
          "DN8 5TF",
          "DN9 2QD",
          "DN9 3TA",
          "DT1 1UT",
          "DT10 1HQ",
          "DT10 1JU",
          "DT10 1NZ",
          "DT10 1PT",
          "DT10 2AJ",
          "DT10 2BY",
          "DT10 2HP",
          "DT10 2JF",
          "DT10 2RS",
          "DT11 0BJ",
          "DT11 0HE",
          "DT11 0QD",
          "DT11 7SJ",
          "DT11 8HH",
          "DT11 8HW",
          "DT11 8HX",
          "DT11 8LX",
          "DT11 8TL",
          "DT11 9AH",
          "DT11 9ES",
          "DT11 9EX",
          "DT11 9HZ",
          "DT2 0DR",
          "DT2 0NP",
          "DT2 0PR",
          "DT2 7DX",
          "DT2 7HL",
          "DT2 7JQ",
          "DT2 7RG",
          "DT2 7SY",
          "DT2 7SZ",
          "DT2 8BD",
          "DT2 8FP",
          "DT2 8TH",
          "DT2 9NH",
          "DT2 9SE",
          "DT3 4FE",
          "DT3 6HE",
          "DT3 6QB",
          "DT6 4LJ",
          "DT6 4PE",
          "DT6 5HZ",
          "DT6 6AR",
          "DT6 6DE",
          "DT7 3EJ",
          "DT8 3JL",
          "DT9 4LQ",
          "DT9 4QG",
          "DT9 5QG",
          "DT9 6PN",
          "DY1 1QP",
          "DY1 4AD",
          "DY1 4SU",
          "DY10 1QL",
          "DY10 2PA",
          "DY10 2PD",
          "DY10 2PU",
          "DY10 3NB",
          "DY10 4LF",
          "DY10 4PD",
          "DY11 5RD",
          "DY11 5SN",
          "DY11 5SZ",
          "DY11 6XH",
          "DY11 7RL",
          "DY11 7XN",
          "DY12 1NB",
          "DY12 1NP",
          "DY12 1NS",
          "DY12 1RE",
          "DY13 0BL",
          "DY13 0RJ",
          "DY13 0RT",
          "DY13 0TD",
          "DY13 0UJ",
          "DY13 0UW",
          "DY13 8EA",
          "DY13 9EN",
          "DY13 9PQ",
          "DY13 9PR",
          "DY13 9SH",
          "DY13 9SU",
          "DY14 8BB",
          "DY14 8GH",
          "DY14 8PD",
          "DY14 8RQ",
          "DY14 9AG",
          "DY14 9LP",
          "DY14 9LY",
          "DY14 9SH",
          "DY14 9XE",
          "DY2 0PR",
          "DY2 7QQ",
          "DY3 1RP",
          "DY3 4PU",
          "DY5 3AZ",
          "DY5 4UB",
          "DY6 0AH",
          "DY6 0BH",
          "DY7 5JL",
          "DY7 6AE",
          "DY7 6HJ",
          "DY7 6PP",
          "DY8 2XP",
          "DY8 2XY",
          "DY9 0JW",
          "DY9 8LH",
          "DY9 9RR",
          "DY9 9UY",
          "DY9 9XJ",
          "E1 1AS",
          "E1 1LP",
          "E1 1NH",
          "E1 1PP",
          "E1 2EJ",
          "E1 4PE",
          "E1 7NA",
          "E1 7TB",
          "E1 8EB",
          "E10 6JL",
          "E11 2NP",
          "E11 2NR",
          "E11 2NU",
          "E11 2TF",
          "E11 3SF",
          "E14 3SP",
          "E14 4AF",
          "E14 4AX",
          "E14 4AZ",
          "E14 6FN",
          "E14 7JZ",
          "E14 8BU",
          "E14 8DB",
          "E14 8EB",
          "E14 8NF",
          "E14 9AW",
          "E14 9RZ",
          "E15 3BT",
          "E15 4RP",
          "E17 3GU",
          "E17 7BU",
          "E18 2BL",
          "E18 2BN",
          "E18 2ER",
          "E18 2GJ",
          "E1W 1BH",
          "E1W 2ND",
          "E1W 2NL",
          "E1W 2PB",
          "E1W 2YG",
          "E1W 3AL",
          "E1W 3TH",
          "E2 0LT",
          "E2 6AT",
          "E2 6FN",
          "E2 6FQ",
          "E2 6GE",
          "E2 6PG",
          "E2 8DL",
          "E2 9AW",
          "E3 2FX",
          "E3 2GY",
          "E3 2JJ",
          "E3 2LX",
          "E3 2NX",
          "E3 2NZ",
          "E3 2PD",
          "E3 2PF",
          "E3 2UT",
          "E3 2ZD",
          "E3 5SS",
          "E5 0QH",
          "E5 9DU",
          "E5 9HS",
          "E5 9HU",
          "E5 9NB",
          "E6 5PD",
          "E8 1BF",
          "E8 1FD",
          "E8 1FT",
          "E8 1LS",
          "E8 2FB",
          "E8 2FL",
          "E8 3DG",
          "E8 3EZ",
          "E8 4RL",
          "E9 5TY",
          "E9 6ED",
          "E9 7SG",
          "EC1M 4AN",
          "EC1M 5PF",
          "EC1M 6AD",
          "EC1R 0AA",
          "EC1V 0AA",
          "EC1V 3SB",
          "EC2M 4TR",
          "EC2Y 8BH",
          "EC2Y 8BJ",
          "EC3R 8EE",
          "EC4M 7DE",
          "EC4V 3QQ",
          "EC4V 6AB",
          "EH1 1EN",
          "EH1 1PW",
          "EH1 1QN",
          "EH10 5AY",
          "EH10 5DL",
          "EH10 5DW",
          "EH10 5GF",
          "EH10 5QD",
          "EH10 6EE",
          "EH10 6HY",
          "EH10 7AJ",
          "EH10 7DS",
          "EH11 1ND",
          "EH11 2AT",
          "EH11 4FA",
          "EH12 6HF",
          "EH12 6JN",
          "EH12 6JR",
          "EH12 6PG",
          "EH13 0DD",
          "EH13 0HG",
          "EH13 0LE",
          "EH13 0LG",
          "EH13 0LP",
          "EH13 0PJ",
          "EH14 1BL",
          "EH14 1EL",
          "EH14 4AE",
          "EH14 4AR",
          "EH14 7BL",
          "EH14 7BN",
          "EH14 7JS",
          "EH15 2DU",
          "EH15 2LR",
          "EH15 2LY",
          "EH16 4TX",
          "EH2 3JG",
          "EH2 4RR",
          "EH20 9TG",
          "EH22 2NT",
          "EH22 4TP",
          "EH22 5TE",
          "EH25 9PU",
          "EH26 0NH",
          "EH26 0PS",
          "EH26 9LP",
          "EH26 9NH",
          "EH27 8DD",
          "EH27 8DJ",
          "EH28 8NT",
          "EH3 5NU",
          "EH3 6EZ",
          "EH31 2BB",
          "EH31 2EL",
          "EH33 1ED",
          "EH33 1ER",
          "EH33 2LZ",
          "EH34 5EP",
          "EH34 5EY",
          "EH38 5YB",
          "EH39 4BE",
          "EH39 5PH",
          "EH4 3JE",
          "EH4 3SX",
          "EH4 4EN",
          "EH4 4SJ",
          "EH4 4SN",
          "EH4 5BW",
          "EH4 5EG",
          "EH4 6AE",
          "EH4 6AY",
          "EH4 6BY",
          "EH4 6DG",
          "EH4 6DH",
          "EH4 6JJ",
          "EH4 6JL",
          "EH4 6LF",
          "EH4 6LR",
          "EH4 6LW",
          "EH4 6QT",
          "EH41 3SJ",
          "EH41 3SS",
          "EH41 3SU",
          "EH41 4EB",
          "EH41 4JD",
          "EH41 4JE",
          "EH41 4PZ",
          "EH42 1XA",
          "EH44 6RL",
          "EH45 8PJ",
          "EH45 8PU",
          "EH45 8RG",
          "EH46 7AP",
          "EH46 7HB",
          "EH46 7JJ",
          "EH46 7JL",
          "EH46 7JP",
          "EH47 7QN",
          "EH47 8GD",
          "EH47 8RX",
          "EH48 3DF",
          "EH48 3DZ",
          "EH48 4LD",
          "EH49 7SF",
          "EH5 3HW",
          "EH51 9RR",
          "EH52 5PD",
          "EH52 5PF",
          "EH52 6PN",
          "EH52 6PY",
          "EH52 6QT",
          "EH53 0AX",
          "EH53 0AY",
          "EH54 8RX",
          "EH55 8FD",
          "EH55 8LQ",
          "EH55 8RH",
          "EH6 5JJ",
          "EH6 5JW",
          "EH6 6PB",
          "EH6 6PF",
          "EH6 6PT",
          "EH6 6PZ",
          "EH8 7DX",
          "EH8 9SP",
          "EH9 2DH",
          "EH9 2RA",
          "EN1 1XZ",
          "EN1 1YU",
          "EN10 7EQ",
          "EN10 7EW",
          "EN10 7JP",
          "EN10 7PL",
          "EN10 7QJ",
          "EN10 7QN",
          "EN11 8AZ",
          "EN11 8BT",
          "EN11 8BX",
          "EN11 8DH",
          "EN11 8DL",
          "EN11 8LG",
          "EN11 8RW",
          "EN11 9QS",
          "EN2 0PE",
          "EN2 0RJ",
          "EN2 7QJ",
          "EN2 8QL",
          "EN2 9JQ",
          "EN3 4SF",
          "EN3 6FH",
          "EN3 6FQ",
          "EN3 6LU",
          "EN3 7HG",
          "EN3 7WJ",
          "EN4 0DU",
          "EN4 0ET",
          "EN4 0HL",
          "EN4 0HP",
          "EN4 0JA",
          "EN4 0JB",
          "EN4 0JJ",
          "EN4 0JN",
          "EN4 0JP",
          "EN4 0LH",
          "EN4 0LL",
          "EN4 0LN",
          "EN4 0LU",
          "EN4 0LW",
          "EN4 0NL",
          "EN4 0NS",
          "EN4 0NT",
          "EN4 0NX",
          "EN4 0PN",
          "EN4 0PW",
          "EN4 8JA",
          "EN4 8RA",
          "EN4 9HZ",
          "EN4 9TQ",
          "EN5 1EF",
          "EN5 1QJ",
          "EN5 3BH",
          "EN5 3HA",
          "EN5 3HY",
          "EN5 3JX",
          "EN5 3JZ",
          "EN5 3LJ",
          "EN5 3LN",
          "EN5 3LR",
          "EN5 4PP",
          "EN5 4PZ",
          "EN5 5PP",
          "EN5 5PR",
          "EN6 1LX",
          "EN6 1SN",
          "EN6 3LH",
          "EN6 3LY",
          "EN6 3NB",
          "EN6 4AR",
          "EN6 4AS",
          "EN6 4AW",
          "EN6 4EW",
          "EN6 4PH",
          "EN6 4PJ",
          "EN6 5AB",
          "EN7 5NQ",
          "EN7 5RU",
          "EN7 6GT",
          "EN7 6PQ",
          "EN7 6RZ",
          "EN7 6ST",
          "EN7 6SU",
          "EN7 6SZ",
          "EN7 6TH",
          "EN7 6TP",
          "EN8 0JA",
          "EN8 7SG",
          "EN8 8JJ",
          "EN8 9FT",
          "EN9 1ED",
          "EN9 2DB",
          "EN9 2EB",
          "EN9 2ED",
          "EN9 2EU",
          "EN9 2PB",
          "EN9 3QL",
          "EN9 3TQ",
          "EX10 0QD",
          "EX13 5GL",
          "EX13 5ST",
          "EX13 7DL",
          "EX13 7HD",
          "EX13 7RD",
          "EX14 3AB",
          "EX14 3AU",
          "EX14 3BB",
          "EX14 3TY",
          "EX14 4RZ",
          "EX14 4SY",
          "EX14 4SZ",
          "EX14 4XW",
          "EX14 9BY",
          "EX14 9SR",
          "EX14 9TS",
          "EX15 1LR",
          "EX15 1PU",
          "EX15 1QW",
          "EX15 2BN",
          "EX15 2HX",
          "EX15 3DA",
          "EX15 3FY",
          "EX15 3JD",
          "EX15 3JP",
          "EX15 3NA",
          "EX15 3RU",
          "EX15 3TR",
          "EX15 3UJ",
          "EX16 4NY",
          "EX16 7DR",
          "EX16 7RU",
          "EX16 8BN",
          "EX16 8EJ",
          "EX16 8NX",
          "EX16 8QF",
          "EX16 9EU",
          "EX16 9NA",
          "EX16 9QA",
          "EX16 9QE",
          "EX16 9QY",
          "EX17 1AY",
          "EX17 3DH",
          "EX17 4HL",
          "EX17 5DU",
          "EX17 5JG",
          "EX17 5LB",
          "EX17 5PB",
          "EX17 6DA",
          "EX17 6FD",
          "EX17 6RH",
          "EX18 7BB",
          "EX18 7NJ",
          "EX19 8UA",
          "EX2 4LR",
          "EX2 4LZ",
          "EX2 5SZ",
          "EX2 6FD",
          "EX2 6FN",
          "EX2 6FP",
          "EX2 9QL",
          "EX2 9SX",
          "EX20 1FF",
          "EX20 2PZ",
          "EX20 2QG",
          "EX20 3BT",
          "EX20 3QA",
          "EX20 4BQ",
          "EX20 4DP",
          "EX20 4LG",
          "EX20 4QE",
          "EX21 5DD",
          "EX21 5HE",
          "EX21 5PU",
          "EX21 5RJ",
          "EX21 5SR",
          "EX22 6LD",
          "EX22 6PF",
          "EX22 7BU",
          "EX22 7EA",
          "EX22 7EP",
          "EX22 7SQ",
          "EX22 7YQ",
          "EX23 0AW",
          "EX23 0HJ",
          "EX23 0JT",
          "EX23 0NJ",
          "EX23 9HF",
          "EX23 9JU",
          "EX23 9SW",
          "EX24 6EJ",
          "EX24 6JE",
          "EX24 6SA",
          "EX31 3QG",
          "EX31 4HH",
          "EX31 4LE",
          "EX31 4LF",
          "EX31 4NU",
          "EX31 4PR",
          "EX31 4SX",
          "EX31 4TT",
          "EX31 4TW",
          "EX33 1LL",
          "EX33 1QJ",
          "EX34 8JZ",
          "EX34 8NA",
          "EX34 8NZ",
          "EX34 9NG",
          "EX34 9RW",
          "EX34 9TA",
          "EX35 6EW",
          "EX35 6JA",
          "EX35 6NX",
          "EX36 3DX",
          "EX36 3HA",
          "EX36 3JP",
          "EX36 3QU",
          "EX36 4JA",
          "EX36 4QH",
          "EX37 9BJ",
          "EX37 9BN",
          "EX37 9HW",
          "EX37 9JE",
          "EX37 9TG",
          "EX38 7HJ",
          "EX38 8PL",
          "EX38 8QH",
          "EX39 3PT",
          "EX39 4PN",
          "EX39 5EE",
          "EX39 5EY",
          "EX39 5QR",
          "EX39 5TQ",
          "EX4 2LJ",
          "EX4 2LW",
          "EX4 2NB",
          "EX4 4AG",
          "EX4 4SF",
          "EX4 5BD",
          "EX4 9JJ",
          "EX5 1EX",
          "EX5 2BW",
          "EX5 2HE",
          "EX5 2LZ",
          "EX5 2PX",
          "EX5 2QY",
          "EX5 2TJ",
          "EX5 3JL",
          "EX5 4BP",
          "EX5 4DG",
          "EX5 4LA",
          "EX5 5LD",
          "EX5 5LL",
          "EX5 5LN",
          "EX5 5PP",
          "EX6 6AG",
          "EX6 6BX",
          "EX6 7ND",
          "EX6 7QS",
          "EX6 7QT",
          "EX7 0DP",
          "EX7 0QW",
          "EX7 0RD",
          "EX8 5AY",
          "EX8 5AZ",
          "EX9 7HT",
          "EX9 7HZ",
          "FK1 3AD",
          "FK1 3AL",
          "FK1 3DZ",
          "FK10 1NQ",
          "FK10 2NP",
          "FK10 3QJ",
          "FK14 7ND",
          "FK14 7NN",
          "FK14 7NZ",
          "FK14 7PJ",
          "FK15 0LQ",
          "FK15 9NS",
          "FK15 9NZ",
          "FK16 6EA",
          "FK16 6HH",
          "FK17 8HQ",
          "FK4 2HN",
          "FK4 2HP",
          "FK5 3LH",
          "FK8 2JX",
          "FK8 3AP",
          "FK8 3DB",
          "FK8 3QD",
          "FK8 3QE",
          "FK8 3RZ",
          "FK9 4AL",
          "FK9 4NE",
          "FK9 4RP",
          "FK9 4XD",
          "FY1 2JF",
          "FY1 2LB",
          "FY1 6BP",
          "FY1 6HZ",
          "FY2 9GL",
          "FY2 9SU",
          "FY3 0DF",
          "FY3 8NH",
          "FY3 9EP",
          "FY4 5DZ",
          "FY4 5FT",
          "FY4 5LB",
          "FY4 5LH",
          "FY5 2QP",
          "FY5 2QR",
          "FY6 0PG",
          "FY6 0QX",
          "FY6 7HX",
          "FY6 7ZN",
          "FY6 8DH",
          "FY6 9DB",
          "FY6 9DG",
          "FY6 9DX",
          "FY8 1FE",
          "FY8 1QE",
          "FY8 2LT",
          "FY8 3NA",
          "FY8 4AB",
          "FY8 4AD",
          "FY8 4AG",
          "FY8 4GZ",
          "FY8 4LQ",
          "FY8 4LX",
          "FY8 4NG",
          "FY8 4NL",
          "FY8 5FQ",
          "G11 5AQ",
          "G12 0RW",
          "G13 3EW",
          "G13 4TG",
          "G2 1LF",
          "G2 8NF",
          "G21 4EQ",
          "G23 5PU",
          "G3 8EH",
          "G3 8RN",
          "G33 2RY",
          "G4 9TB",
          "G41 3RH",
          "G41 4EW",
          "G41 4HQ",
          "G41 4JE",
          "G41 4LJ",
          "G41 4QB",
          "G41 4QE",
          "G41 4RA",
          "G41 5AP",
          "G41 5LU",
          "G41 5RE",
          "G43 2QT",
          "G43 2RT",
          "G43 2TL",
          "G46 6QB",
          "G46 6RW",
          "G46 6SE",
          "G46 6SJ",
          "G46 6TA",
          "G46 6TB",
          "G46 6TE",
          "G46 6TF",
          "G46 6TH",
          "G46 6TR",
          "G46 6TT",
          "G46 6TX",
          "G46 6UF",
          "G46 6UJ",
          "G46 7NQ",
          "G5 8BE",
          "G5 8BS",
          "G51 1LE",
          "G60 5AB",
          "G61 2RF",
          "G61 2RT",
          "G61 2RZ",
          "G61 3AN",
          "G61 3PL",
          "G61 4AA",
          "G61 4AH",
          "G61 4BS",
          "G62 6HA",
          "G62 7HR",
          "G62 8LS",
          "G63 0NJ",
          "G63 0NQ",
          "G63 0QN",
          "G63 9AT",
          "G63 9AX",
          "G63 9BW",
          "G63 9EX",
          "G63 9QD",
          "G65 0PY",
          "G66 1AG",
          "G66 2TA",
          "G66 3AW",
          "G67 2BW",
          "G68 0AF",
          "G68 0AW",
          "G69 0QE",
          "G71 6DA",
          "G71 8BA",
          "G71 8BP",
          "G71 8BW",
          "G71 8DF",
          "G71 8DN",
          "G71 8FB",
          "G71 8NR",
          "G71 8RR",
          "G72 8YN",
          "G73 3AB",
          "G74 3NB",
          "G74 5AD",
          "G74 5AF",
          "G74 5AG",
          "G74 5AH",
          "G74 5AN",
          "G74 5AT",
          "G74 5DB",
          "G76 8RJ",
          "G76 8RU",
          "G76 8SH",
          "G76 8SZ",
          "G77 5DN",
          "G77 5EB",
          "G77 5GN",
          "G77 5LD",
          "G77 6NJ",
          "G77 6NP",
          "G77 6PP",
          "G77 6RR",
          "G77 6XZ",
          "G81 5QW",
          "G81 6RS",
          "G82 2SG",
          "G84 0NB",
          "G84 0QL",
          "G84 0RR",
          "G84 0RT",
          "G84 0RU",
          "G84 9EE",
          "GL1 1XB",
          "GL1 2AJ",
          "GL1 5EU",
          "GL1 5LJ",
          "GL11 5AU",
          "GL11 5BZ",
          "GL11 6EG",
          "GL11 6PE",
          "GL12 7ED",
          "GL12 7HA",
          "GL12 7PH",
          "GL12 7RN",
          "GL12 8DL",
          "GL12 8DW",
          "GL12 8HQ",
          "GL12 8JZ",
          "GL12 8PD",
          "GL12 8QL",
          "GL13 9DS",
          "GL13 9DY",
          "GL13 9HG",
          "GL13 9JL",
          "GL13 9LJ",
          "GL13 9LT",
          "GL13 9SW",
          "GL14 1QS",
          "GL14 1RE",
          "GL14 2UJ",
          "GL15 5SR",
          "GL15 6EX",
          "GL15 6FF",
          "GL15 6PP",
          "GL15 6PU",
          "GL15 6QJ",
          "GL15 6RT",
          "GL16 7FE",
          "GL16 8NZ",
          "GL17 0QB",
          "GL17 0QD",
          "GL18 1LR",
          "GL18 1LS",
          "GL18 1RN",
          "GL19 3BX",
          "GL19 3BZ",
          "GL19 3HA",
          "GL19 3LG",
          "GL19 3SP",
          "GL19 4EG",
          "GL19 4EJ",
          "GL19 4EX",
          "GL2 7DL",
          "GL2 7JP",
          "GL2 7NQ",
          "GL2 8DZ",
          "GL2 8ED",
          "GL2 8FL",
          "GL2 8JT",
          "GL2 9LT",
          "GL2 9NT",
          "GL2 9PD",
          "GL20 6AS",
          "GL20 6FJ",
          "GL20 6HA",
          "GL20 7BS",
          "GL20 7BW",
          "GL20 7EX",
          "GL3 4SB",
          "GL4 6BN",
          "GL4 8BN",
          "GL4 8DA",
          "GL4 8HD",
          "GL4 8JN",
          "GL5 2PE",
          "GL5 2SN",
          "GL5 2UL",
          "GL5 5BP",
          "GL5 5HD",
          "GL5 5NF",
          "GL5 5PQ",
          "GL50 1TX",
          "GL50 2HY",
          "GL50 2JE",
          "GL50 2SD",
          "GL50 3DA",
          "GL50 3NU",
          "GL50 3RH",
          "GL50 4NA",
          "GL51 6HQ",
          "GL52 2GA",
          "GL52 2QB",
          "GL52 3AD",
          "GL52 3BJ",
          "GL52 3NG",
          "GL52 6PH",
          "GL52 6PR",
          "GL52 6QQ",
          "GL53 0EX",
          "GL53 9NE",
          "GL53 9PP",
          "GL53 9QH",
          "GL53 9QQ",
          "GL53 9QR",
          "GL54 1FR",
          "GL54 1HZ",
          "GL54 1LD",
          "GL54 1LP",
          "GL54 2FN",
          "GL54 2HZ",
          "GL54 3AJ",
          "GL54 3AZ",
          "GL54 3BL",
          "GL54 3BY",
          "GL54 3FA",
          "GL54 3LB",
          "GL54 3LR",
          "GL54 3NS",
          "GL54 3QR",
          "GL54 4AZ",
          "GL54 4BQ",
          "GL54 4DX",
          "GL54 4LU",
          "GL54 5AB",
          "GL54 5AP",
          "GL54 5DP",
          "GL54 5PW",
          "GL54 5RJ",
          "GL56 0AU",
          "GL56 0DJ",
          "GL56 0NL",
          "GL56 0NT",
          "GL56 0PG",
          "GL56 0PQ",
          "GL56 0XG",
          "GL56 0XX",
          "GL56 0YR",
          "GL56 9PU",
          "GL56 9PW",
          "GL56 9RN",
          "GL6 0AH",
          "GL6 0QA",
          "GL6 0QF",
          "GL6 0QG",
          "GL6 6ER",
          "GL6 6NF",
          "GL6 6NJ",
          "GL6 6TN",
          "GL6 7LL",
          "GL6 7LS",
          "GL6 7PN",
          "GL6 7QY",
          "GL6 8HP",
          "GL6 8PA",
          "GL6 8SW",
          "GL6 9AT",
          "GL6 9BB",
          "GL6 9BD",
          "GL7 1GE",
          "GL7 2LF",
          "GL7 3FB",
          "GL7 3FH",
          "GL7 3FJ",
          "GL7 3FU",
          "GL7 3FY",
          "GL7 3LQ",
          "GL7 3NW",
          "GL7 3NX",
          "GL7 4BT",
          "GL7 5AU",
          "GL7 5EL",
          "GL7 5EN",
          "GL7 5EW",
          "GL7 5HS",
          "GL7 5HU",
          "GL7 5LF",
          "GL7 5LW",
          "GL7 5NH",
          "GL7 5NT",
          "GL7 5PD",
          "GL7 5SW",
          "GL7 5UZ",
          "GL7 6AA",
          "GL7 6BL",
          "GL7 6BU",
          "GL7 6DL",
          "GL7 6FS",
          "GL7 6FU",
          "GL7 6LP",
          "GL7 6NS",
          "GL7 6QE",
          "GL7 7AR",
          "GL7 7BA",
          "GL7 7BW",
          "GL7 7DS",
          "GL7 7DU",
          "GL7 7EP",
          "GL7 7HG",
          "GL8 8QJ",
          "GL8 8TZ",
          "GL9 1BS",
          "GU1 1TJ",
          "GU1 1TL",
          "GU1 2UX",
          "GU1 2XL",
          "GU1 2XP",
          "GU1 2XW",
          "GU1 2YA",
          "GU1 3PJ",
          "GU1 3PN",
          "GU1 3PW",
          "GU1 3TD",
          "GU1 3TL",
          "GU1 3TN",
          "GU1 3XS",
          "GU10 1BS",
          "GU10 1HD",
          "GU10 1HE",
          "GU10 1HP",
          "GU10 1JN",
          "GU10 1ND",
          "GU10 1NG",
          "GU10 1NQ",
          "GU10 1PJ",
          "GU10 1PS",
          "GU10 1QD",
          "GU10 1QT",
          "GU10 1QX",
          "GU10 1QY",
          "GU10 1QZ",
          "GU10 1RB",
          "GU10 2AD",
          "GU10 2AL",
          "GU10 2AP",
          "GU10 2BS",
          "GU10 2HP",
          "GU10 2HT",
          "GU10 2JY",
          "GU10 2LT",
          "GU10 2NA",
          "GU10 2NB",
          "GU10 2ND",
          "GU10 2NX",
          "GU10 2NY",
          "GU10 2PX",
          "GU10 3BP",
          "GU10 3HF",
          "GU10 3HG",
          "GU10 3HQ",
          "GU10 3JT",
          "GU10 3LZ",
          "GU10 3RB",
          "GU10 3RG",
          "GU10 4EU",
          "GU10 4HF",
          "GU10 4JY",
          "GU10 4RD",
          "GU10 5AL",
          "GU10 5AR",
          "GU10 5BS",
          "GU10 5DR",
          "GU10 5EB",
          "GU10 5ED",
          "GU10 5EE",
          "GU10 5ET",
          "GU10 5PY",
          "GU11 1FR",
          "GU11 1QP",
          "GU12 6FX",
          "GU12 6LB",
          "GU14 7LY",
          "GU14 8DD",
          "GU15 1AE",
          "GU15 1FD",
          "GU15 1JU",
          "GU15 2AB",
          "GU15 2HG",
          "GU15 2JU",
          "GU15 2NF",
          "GU15 3FB",
          "GU15 3RD",
          "GU15 3TW",
          "GU15 3UQ",
          "GU16 7AT",
          "GU16 7NJ",
          "GU18 5YD",
          "GU19 5HU",
          "GU19 5NN",
          "GU2 4HB",
          "GU2 4HF",
          "GU2 4RH",
          "GU20 6AT",
          "GU20 6BJ",
          "GU20 6BN",
          "GU20 6LH",
          "GU20 6LP",
          "GU20 6LQ",
          "GU20 6LT",
          "GU20 6LX",
          "GU21 2JW",
          "GU21 4XT",
          "GU21 5DA",
          "GU21 5HU",
          "GU21 6AJ",
          "GU21 7QP",
          "GU22 0DX",
          "GU22 0JU",
          "GU22 0JZ",
          "GU22 0LB",
          "GU22 0LU",
          "GU22 0LZ",
          "GU22 0NW",
          "GU22 0QT",
          "GU22 0QU",
          "GU22 0RB",
          "GU22 0RE",
          "GU22 0SB",
          "GU22 0SG",
          "GU22 7DE",
          "GU22 7DQ",
          "GU22 7HH",
          "GU22 7HP",
          "GU22 7LP",
          "GU22 7RG",
          "GU22 7RQ",
          "GU22 8LT",
          "GU22 8QG",
          "GU23 6AD",
          "GU23 6BN",
          "GU23 6ES",
          "GU23 6QT",
          "GU23 7BB",
          "GU23 7JW",
          "GU24 0LN",
          "GU24 0QD",
          "GU24 8AN",
          "GU24 8AP",
          "GU24 8AR",
          "GU24 8AW",
          "GU24 8AZ",
          "GU24 8BD",
          "GU24 8DA",
          "GU24 8DG",
          "GU24 8DS",
          "GU24 8HA",
          "GU24 8HG",
          "GU24 8HJ",
          "GU24 8HL",
          "GU24 8PE",
          "GU24 8RB",
          "GU24 8SL",
          "GU24 8SS",
          "GU24 8SY",
          "GU24 8SZ",
          "GU24 8TA",
          "GU24 9AQ",
          "GU24 9DP",
          "GU24 9ED",
          "GU24 9EJ",
          "GU24 9LD",
          "GU24 9PY",
          "GU25 4AP",
          "GU25 4AS",
          "GU25 4AU",
          "GU25 4AW",
          "GU25 4DU",
          "GU25 4ET",
          "GU25 4HY",
          "GU25 4JR",
          "GU25 4JT",
          "GU25 4JU",
          "GU25 4JY",
          "GU25 4JZ",
          "GU25 4LD",
          "GU25 4LF",
          "GU25 4LT",
          "GU25 4LY",
          "GU25 4NE",
          "GU25 4NG",
          "GU25 4NR",
          "GU25 4NY",
          "GU25 4PH",
          "GU25 4PL",
          "GU25 4PS",
          "GU25 4PW",
          "GU25 4PZ",
          "GU25 4QN",
          "GU25 4QW",
          "GU25 4QX",
          "GU25 4RS",
          "GU25 4RU",
          "GU25 4RW",
          "GU25 4RX",
          "GU25 4RY",
          "GU25 4RZ",
          "GU25 4SA",
          "GU25 4SD",
          "GU25 4SE",
          "GU25 4TD",
          "GU26 6BQ",
          "GU26 6BZ",
          "GU26 6DF",
          "GU26 6DR",
          "GU26 6DS",
          "GU26 6EJ",
          "GU26 6FQ",
          "GU26 6PH",
          "GU26 6PX",
          "GU26 6RB",
          "GU27 1BS",
          "GU27 1EU",
          "GU27 1HG",
          "GU27 1QE",
          "GU27 2DF",
          "GU27 2LD",
          "GU27 2LH",
          "GU27 2LQ",
          "GU27 2NP",
          "GU27 3AF",
          "GU27 3AR",
          "GU27 3BN",
          "GU27 3BS",
          "GU27 3BU",
          "GU27 3BW",
          "GU27 3DA",
          "GU27 3DJ",
          "GU27 3DX",
          "GU27 3HG",
          "GU27 3JA",
          "GU27 3JF",
          "GU27 3JH",
          "GU27 3LA",
          "GU27 3LJ",
          "GU27 3LL",
          "GU27 3LU",
          "GU27 3NF",
          "GU27 3NJ",
          "GU27 3NL",
          "GU27 3PP",
          "GU28 0HN",
          "GU28 0NA",
          "GU28 0PA",
          "GU28 0PX",
          "GU28 9AT",
          "GU28 9AX",
          "GU28 9BQ",
          "GU28 9BY",
          "GU28 9DA",
          "GU28 9DX",
          "GU28 9EA",
          "GU28 9EP",
          "GU28 9EQ",
          "GU28 9ET",
          "GU28 9EU",
          "GU28 9EY",
          "GU28 9HA",
          "GU28 9HX",
          "GU29 0BH",
          "GU29 0BJ",
          "GU29 0DQ",
          "GU29 0HD",
          "GU29 0HX",
          "GU29 0LJ",
          "GU29 0LQ",
          "GU29 0PQ",
          "GU29 0QJ",
          "GU3 1AG",
          "GU3 1BB",
          "GU3 1BQ",
          "GU3 1DR",
          "GU3 1DY",
          "GU3 1EQ",
          "GU3 1JT",
          "GU3 1JW",
          "GU3 2BX",
          "GU3 2JW",
          "GU3 3ED",
          "GU3 3PA",
          "GU3 3PX",
          "GU3 3QB",
          "GU3 3QE",
          "GU3 3QF",
          "GU3 3QU",
          "GU3 3RH",
          "GU3 3RL",
          "GU3 3RQ",
          "GU30 7EH",
          "GU30 7EJ",
          "GU30 7GZ",
          "GU30 7JT",
          "GU30 7JX",
          "GU30 7LG",
          "GU30 7LP",
          "GU30 7LX",
          "GU30 7ND",
          "GU30 7RF",
          "GU30 7RN",
          "GU30 7RT",
          "GU30 7RY",
          "GU30 7SS",
          "GU30 7UZ",
          "GU31 5AJ",
          "GU31 5AL",
          "GU31 5AS",
          "GU31 5BD",
          "GU31 5DA",
          "GU31 5EL",
          "GU31 5EN",
          "GU31 5HS",
          "GU31 5JR",
          "GU31 5NR",
          "GU32 1AA",
          "GU32 1AP",
          "GU32 1BF",
          "GU32 1DT",
          "GU32 1EA",
          "GU32 1ER",
          "GU32 1HL",
          "GU32 1JE",
          "GU32 1JP",
          "GU32 1JT",
          "GU32 1JY",
          "GU32 1LX",
          "GU32 1PJ",
          "GU32 1PW",
          "GU32 1PX",
          "GU32 1QL",
          "GU32 1QT",
          "GU32 3BL",
          "GU32 3NP",
          "GU32 3PL",
          "GU32 3PS",
          "GU33 6BF",
          "GU33 6DD",
          "GU33 6HA",
          "GU33 6HU",
          "GU33 6LP",
          "GU33 7HG",
          "GU33 7JR",
          "GU33 7LH",
          "GU33 7NH",
          "GU33 7NJ",
          "GU33 7NW",
          "GU33 7QD",
          "GU34 1SJ",
          "GU34 2LG",
          "GU34 2UH",
          "GU34 3AH",
          "GU34 3AL",
          "GU34 3AP",
          "GU34 3BP",
          "GU34 3BU",
          "GU34 3NZ",
          "GU34 3PB",
          "GU34 3QA",
          "GU34 4BF",
          "GU34 4NU",
          "GU34 5AG",
          "GU34 5AR",
          "GU34 5DZ",
          "GU34 5FY",
          "GU34 5JA",
          "GU34 5JT",
          "GU34 5JU",
          "GU34 5LZ",
          "GU34 5NP",
          "GU34 5QA",
          "GU34 5QD",
          "GU34 5QT",
          "GU34 5RF",
          "GU35 0AG",
          "GU35 0FD",
          "GU35 0PD",
          "GU35 8AG",
          "GU35 8HR",
          "GU35 8LJ",
          "GU35 8NG",
          "GU35 8SE",
          "GU35 8SQ",
          "GU35 8SR",
          "GU35 8SY",
          "GU35 8TD",
          "GU35 8TF",
          "GU35 9JE",
          "GU4 7LB",
          "GU4 7QG",
          "GU4 7QP",
          "GU4 7QQ",
          "GU4 7SD",
          "GU4 7SY",
          "GU4 7TQ",
          "GU4 7UW",
          "GU4 8AB",
          "GU4 8AF",
          "GU4 8AP",
          "GU4 8HE",
          "GU4 8PL",
          "GU4 8PP",
          "GU4 8PR",
          "GU4 8PS",
          "GU4 8PZ",
          "GU4 8RD",
          "GU4 8SE",
          "GU46 7SR",
          "GU5 0AN",
          "GU5 0BU",
          "GU5 0BX",
          "GU5 0BZ",
          "GU5 0DA",
          "GU5 0LR",
          "GU5 0QS",
          "GU5 0QW",
          "GU5 0RB",
          "GU5 0RD",
          "GU5 0RH",
          "GU5 0SU",
          "GU5 0SX",
          "GU5 0TG",
          "GU5 0TP",
          "GU5 9DB",
          "GU5 9DJ",
          "GU5 9EQ",
          "GU5 9EW",
          "GU5 9HN",
          "GU5 9JG",
          "GU5 9JH",
          "GU5 9JN",
          "GU5 9QQ",
          "GU5 9SR",
          "GU5 9TD",
          "GU51 1DW",
          "GU51 1EP",
          "GU51 2QA",
          "GU51 2RT",
          "GU51 4AQ",
          "GU51 4HN",
          "GU51 4HP",
          "GU51 4HU",
          "GU51 4JH",
          "GU51 4LF",
          "GU51 4QP",
          "GU6 7NH",
          "GU6 7NW",
          "GU6 7PF",
          "GU6 7PJ",
          "GU6 7SL",
          "GU6 8EJ",
          "GU6 8EY",
          "GU6 8JD",
          "GU6 8JP",
          "GU6 8LE",
          "GU6 8PL",
          "GU6 8QY",
          "GU7 1NS",
          "GU7 1PA",
          "GU7 1PG",
          "GU7 1TA",
          "GU7 1TW",
          "GU7 1UD",
          "GU7 2BL",
          "GU7 2HF",
          "GU7 2RA",
          "GU7 2RJ",
          "GU8 4AA",
          "GU8 4AE",
          "GU8 4AP",
          "GU8 4AR",
          "GU8 4AY",
          "GU8 4BD",
          "GU8 4BL",
          "GU8 4BQ",
          "GU8 4BT",
          "GU8 4DD",
          "GU8 4DW",
          "GU8 4EB",
          "GU8 4ED",
          "GU8 4JA",
          "GU8 4JP",
          "GU8 4LB",
          "GU8 4LR",
          "GU8 4NT",
          "GU8 4NU",
          "GU8 4SJ",
          "GU8 4SL",
          "GU8 4SU",
          "GU8 4UU",
          "GU8 4XR",
          "GU8 4XS",
          "GU8 4XU",
          "GU8 4YA",
          "GU8 4YB",
          "GU8 4YD",
          "GU8 5HP",
          "GU8 5HW",
          "GU8 5SS",
          "GU8 5TA",
          "GU8 5TE",
          "GU8 5UL",
          "GU8 5UQ",
          "GU8 6AN",
          "GU8 6AZ",
          "GU8 6BY",
          "GU8 6EY",
          "GU8 6LJ",
          "GU8 6NR",
          "GU8 6QD",
          "GU8 6QN",
          "GU9 7GH",
          "GU9 7GJ",
          "GU9 7GN",
          "GU9 7HR",
          "GU9 8AT",
          "GU9 8EH",
          "GU9 8EL",
          "GU9 8JN",
          "HA0 2NW",
          "HA0 4EF",
          "HA1 1XE",
          "HA1 1XF",
          "HA1 3JW",
          "HA1 3LE",
          "HA1 3NU",
          "HA1 3PB",
          "HA1 4WJ",
          "HA1 4YD",
          "HA2 8NZ",
          "HA3 0AP",
          "HA3 5EB",
          "HA3 5QJ",
          "HA3 5UB",
          "HA3 6RN",
          "HA3 6SH",
          "HA3 7RL",
          "HA4 7HZ",
          "HA4 8AT",
          "HA5 3NZ",
          "HA5 3XZ",
          "HA5 3YD",
          "HA5 3YF",
          "HA5 3YJ",
          "HA5 4AF",
          "HA5 4EL",
          "HA5 4RA",
          "HA5 4YH",
          "HA6 1AP",
          "HA6 1BA",
          "HA6 1EX",
          "HA6 2AZ",
          "HA6 2BA",
          "HA6 2BP",
          "HA6 2DH",
          "HA6 2EH",
          "HA6 2HN",
          "HA6 2HR",
          "HA6 2HW",
          "HA6 2LA",
          "HA6 2LB",
          "HA6 2LD",
          "HA6 2LE",
          "HA6 2LH",
          "HA6 2LL",
          "HA6 2LP",
          "HA6 2LQ",
          "HA6 2LR",
          "HA6 2NJ",
          "HA6 2NT",
          "HA6 2NU",
          "HA6 2NZ",
          "HA6 2PA",
          "HA6 2TR",
          "HA6 2TS",
          "HA6 2TU",
          "HA6 2TZ",
          "HA6 2XA",
          "HA6 2XB",
          "HA6 2XD",
          "HA6 2XE",
          "HA6 2XF",
          "HA6 3BS",
          "HA6 3DD",
          "HA6 3EH",
          "HA6 3ES",
          "HA6 3ET",
          "HA6 3HA",
          "HA6 3HY",
          "HA6 3JZ",
          "HA6 3QT",
          "HA6 3RD",
          "HA7 3AS",
          "HA7 3BX",
          "HA7 3ED",
          "HA7 3EG",
          "HA7 3EJ",
          "HA7 3EN",
          "HA7 3HL",
          "HA7 3HW",
          "HA7 3JA",
          "HA7 3PY",
          "HA7 3QD",
          "HA7 3QH",
          "HA7 3RP",
          "HA7 4AF",
          "HA7 4JH",
          "HA7 4JR",
          "HA7 4JT",
          "HA7 4JU",
          "HA7 4JW",
          "HA7 4JZ",
          "HA7 4LS",
          "HA7 4NT",
          "HA7 4ZF",
          "HA8 6NN",
          "HA8 7QP",
          "HA8 7YB",
          "HA8 8DG",
          "HA8 8DQ",
          "HA8 8EA",
          "HA9 7AX",
          "HA9 7HF",
          "HA9 9EB",
          "HA9 9HG",
          "HA9 9HY",
          "HA9 9QE",
          "HA9 9UB",
          "HA9 9UR",
          "HA9 9UW",
          "HA9 9UZ",
          "HD2 1UL",
          "HD2 2BR",
          "HD2 2HL",
          "HD3 3BH",
          "HD3 3BZ",
          "HD3 3FX",
          "HD3 4YS",
          "HD4 5BU",
          "HD4 6SN",
          "HD4 6XB",
          "HD4 6XS",
          "HD5 0AS",
          "HD5 0NT",
          "HD5 0NX",
          "HD5 9AU",
          "HD7 5UY",
          "HD7 6LD",
          "HD7 6LY",
          "HD7 6NL",
          "HD8 0GD",
          "HD8 0RY",
          "HD8 0TF",
          "HD8 8BR",
          "HD8 8QQ",
          "HD8 8YF",
          "HD8 8YW",
          "HD8 9EP",
          "HD8 9GJ",
          "HD8 9LQ",
          "HD8 9QX",
          "HD8 9RS",
          "HD9 1AJ",
          "HD9 1TP",
          "HD9 3JJ",
          "HD9 3TG",
          "HD9 3US",
          "HD9 3UU",
          "HD9 3YR",
          "HD9 5PT",
          "HD9 7BE",
          "HD9 7DN",
          "HD9 7EH",
          "HG1 2HT",
          "HG1 2QA",
          "HG1 2RT",
          "HG1 2TA",
          "HG1 4DN",
          "HG1 5AP",
          "HG1 5NS",
          "HG1 5PW",
          "HG2 0LL",
          "HG2 8HA",
          "HG2 8HJ",
          "HG3 1DQ",
          "HG3 1DT",
          "HG3 1DW",
          "HG3 1EX",
          "HG3 1HA",
          "HG3 1HD",
          "HG3 1HH",
          "HG3 1HN",
          "HG3 1HU",
          "HG3 1NT",
          "HG3 1QA",
          "HG3 1QG",
          "HG3 1QQ",
          "HG3 1QU",
          "HG3 1SR",
          "HG3 1SU",
          "HG3 2AP",
          "HG3 2FR",
          "HG3 2HR",
          "HG3 2JQ",
          "HG3 2JY",
          "HG3 2LF",
          "HG3 2LG",
          "HG3 2PN",
          "HG3 2PQ",
          "HG3 2QY",
          "HG3 3DU",
          "HG3 3JU",
          "HG3 3NB",
          "HG3 3RS",
          "HG3 3TA",
          "HG3 3TE",
          "HG3 4AZ",
          "HG3 4BB",
          "HG3 4DH",
          "HG3 4DJ",
          "HG3 4JR",
          "HG3 5EW",
          "HG3 5JL",
          "HG3 5SW",
          "HG4 3DN",
          "HG4 3ED",
          "HG4 3JJ",
          "HG4 3LE",
          "HG4 3NS",
          "HG4 3NU",
          "HG4 3QF",
          "HG4 3QW",
          "HG4 3TA",
          "HG4 4PH",
          "HG4 5BG",
          "HG4 5FD",
          "HG4 5JY",
          "HG4 5LH",
          "HG5 0RG",
          "HG5 9EF",
          "HG5 9HT",
          "HP1 1AX",
          "HP1 1GN",
          "HP1 1LR",
          "HP1 3BS",
          "HP1 3BU",
          "HP1 3BY",
          "HP10 0JN",
          "HP10 8EG",
          "HP10 8HY",
          "HP10 8JA",
          "HP10 8JB",
          "HP10 8JU",
          "HP10 8NX",
          "HP10 8PG",
          "HP10 8PQ",
          "HP10 9BE",
          "HP10 9PD",
          "HP11 1GL",
          "HP11 2FZ",
          "HP12 4SE",
          "HP13 5BF",
          "HP13 6PF",
          "HP13 6RG",
          "HP13 6SF",
          "HP13 7QZ",
          "HP14 3LL",
          "HP14 3LP",
          "HP14 3TW",
          "HP14 3UP",
          "HP14 3UT",
          "HP14 3UW",
          "HP14 4NF",
          "HP14 4NG",
          "HP14 4NJ",
          "HP15 6LH",
          "HP15 7FN",
          "HP15 7JH",
          "HP16 0DL",
          "HP16 0DR",
          "HP16 0ES",
          "HP16 0RB",
          "HP16 0RF",
          "HP16 9BG",
          "HP16 9BH",
          "HP16 9HR",
          "HP16 9JR",
          "HP16 9PD",
          "HP16 9QX",
          "HP16 9RG",
          "HP16 9SH",
          "HP17 0UA",
          "HP17 8EF",
          "HP17 8SF",
          "HP17 8SP",
          "HP17 8TW",
          "HP17 8UZ",
          "HP17 8YF",
          "HP18 0AP",
          "HP18 0EA",
          "HP18 0EP",
          "HP18 0RW",
          "HP18 0RX",
          "HP18 0YJ",
          "HP18 0YP",
          "HP18 9GH",
          "HP18 9LQ",
          "HP18 9PQ",
          "HP18 9PT",
          "HP18 9TQ",
          "HP18 9UE",
          "HP2 4HL",
          "HP2 6BN",
          "HP2 6HW",
          "HP20 1RS",
          "HP20 2NF",
          "HP22 4AA",
          "HP22 4ES",
          "HP22 4EW",
          "HP22 4FN",
          "HP22 4HN",
          "HP22 4JS",
          "HP22 4NN",
          "HP22 5AA",
          "HP22 5AX",
          "HP22 5LS",
          "HP22 5NQ",
          "HP22 5RQ",
          "HP22 6BG",
          "HP22 6ES",
          "HP22 6NQ",
          "HP22 6QQ",
          "HP22 6QR",
          "HP23 4LJ",
          "HP23 4ND",
          "HP23 4PP",
          "HP23 5FW",
          "HP23 5QY",
          "HP23 6JH",
          "HP23 6JY",
          "HP23 6LQ",
          "HP23 6LR",
          "HP23 6LU",
          "HP27 0SF",
          "HP27 9FZ",
          "HP27 9LR",
          "HP27 9LS",
          "HP27 9NE",
          "HP27 9NQ",
          "HP27 9RL",
          "HP27 9RU",
          "HP3 0BG",
          "HP3 0BW",
          "HP3 0BZ",
          "HP3 0DW",
          "HP3 0GN",
          "HP3 0JR",
          "HP3 0NQ",
          "HP3 0PG",
          "HP3 0PQ",
          "HP3 8BX",
          "HP3 8BY",
          "HP3 8SE",
          "HP3 9GF",
          "HP4 1LR",
          "HP4 1LU",
          "HP4 1LY",
          "HP4 1NA",
          "HP4 1NZ",
          "HP4 1PE",
          "HP4 1PN",
          "HP4 1PR",
          "HP4 1QJ",
          "HP4 1QN",
          "HP4 1QQ",
          "HP4 2FW",
          "HP4 2NS",
          "HP4 2PH",
          "HP4 2PJ",
          "HP4 2QF",
          "HP4 2RG",
          "HP4 2RQ",
          "HP4 2RZ",
          "HP4 3AE",
          "HP4 3AR",
          "HP4 3TR",
          "HP4 3TZ",
          "HP4 3UE",
          "HP5 1DH",
          "HP5 1EF",
          "HP5 1JY",
          "HP5 1TN",
          "HP5 1UF",
          "HP5 2SY",
          "HP5 2UA",
          "HP5 2UG",
          "HP5 2ZP",
          "HP5 3NT",
          "HP5 3RE",
          "HP6 5FH",
          "HP6 5HS",
          "HP6 5JE",
          "HP6 5JF",
          "HP6 5NS",
          "HP6 5NU",
          "HP6 5QB",
          "HP6 5QP",
          "HP6 5RB",
          "HP6 5SS",
          "HP6 6BW",
          "HP6 6FX",
          "HP7 0QQ",
          "HP7 0QX",
          "HP7 0RP",
          "HP7 9AZ",
          "HP7 9QN",
          "HP7 9QQ",
          "HP8 4BN",
          "HP8 4BP",
          "HP8 4BS",
          "HP8 4HG",
          "HP8 4NR",
          "HP8 4NS",
          "HP8 4NT",
          "HP8 4SF",
          "HP8 4SG",
          "HP8 4SN",
          "HP8 4TH",
          "HP8 4TU",
          "HP8 4TX",
          "HP8 4UB",
          "HP9 1BS",
          "HP9 1EF",
          "HP9 1EH",
          "HP9 1EJ",
          "HP9 1EL",
          "HP9 1EN",
          "HP9 1EQ",
          "HP9 1EW",
          "HP9 1EX",
          "HP9 1EY",
          "HP9 1HL",
          "HP9 1HR",
          "HP9 1HS",
          "HP9 1HW",
          "HP9 1PD",
          "HP9 1PF",
          "HP9 1PH",
          "HP9 1PN",
          "HP9 1PQ",
          "HP9 1PW",
          "HP9 1PX",
          "HP9 1XN",
          "HP9 1XP",
          "HP9 1XT",
          "HP9 1YL",
          "HP9 2AB",
          "HP9 2AH",
          "HP9 2AQ",
          "HP9 2DE",
          "HP9 2DF",
          "HP9 2DG",
          "HP9 2DN",
          "HP9 2DQ",
          "HP9 2GN",
          "HP9 2LN",
          "HP9 2LW",
          "HP9 2QH",
          "HP9 2QJ",
          "HP9 2RA",
          "HP9 2RF",
          "HP9 2RG",
          "HP9 2SR",
          "HP9 2TL",
          "HP9 2TT",
          "HP9 2UA",
          "HP9 2UP",
          "HP9 2UT",
          "HR1 3DD",
          "HR1 3NG",
          "HR1 3NL",
          "HR1 3PL",
          "HR1 4AS",
          "HR1 4BL",
          "HR1 4UB",
          "HR2 0AL",
          "HR2 6PZ",
          "HR2 8DR",
          "HR2 8QY",
          "HR2 8RH",
          "HR3 5QY",
          "HR3 5SS",
          "HR3 5TE",
          "HR3 6QH",
          "HR3 6QX",
          "HR4 7BD",
          "HR4 7RR",
          "HR4 7SS",
          "HR4 8HB",
          "HR4 8JL",
          "HR4 8LN",
          "HR4 8TJ",
          "HR5 3JE",
          "HR5 3LL",
          "HR6 0BJ",
          "HR6 0DT",
          "HR6 0HF",
          "HR6 0HL",
          "HR6 0NA",
          "HR6 0SQ",
          "HR6 9EF",
          "HR6 9HW",
          "HR6 9JS",
          "HR6 9NJ",
          "HR6 9UZ",
          "HR7 4AN",
          "HR7 4JN",
          "HR7 4LU",
          "HR7 4PX",
          "HR8 1HS",
          "HR8 1JG",
          "HR8 1JL",
          "HR8 1NF",
          "HR8 1PW",
          "HR8 1RX",
          "HR8 2JD",
          "HR8 2JN",
          "HR8 2PF",
          "HR8 2PZ",
          "HR8 2QG",
          "HR8 2SH",
          "HR9 5SB",
          "HR9 6FA",
          "HR9 6HL",
          "HR9 6JG",
          "HR9 6JQ",
          "HR9 6PF",
          "HR9 7JH",
          "HR9 7PG",
          "HR9 7RR",
          "HR9 7TF",
          "HR9 7UA",
          "HR9 7WG",
          "HS1 2YD",
          "HS1 2YJ",
          "HS2 0EQ",
          "HS2 0ER",
          "HS2 0NR",
          "HS2 0PP",
          "HS2 0PZ",
          "HS2 0TJ",
          "HS2 9BL",
          "HS2 9DE",
          "HS2 9DX",
          "HS2 9PS",
          "HS8 5SU",
          "HS8 5TR",
          "HU1 3BN",
          "HU11 4QA",
          "HU11 4RD",
          "HU11 4RG",
          "HU11 4UL",
          "HU11 5DA",
          "HU12 0DD",
          "HU13 0ES",
          "HU13 0JX",
          "HU14 3LU",
          "HU14 3LZ",
          "HU14 3NA",
          "HU15 1AL",
          "HU15 1HA",
          "HU15 1QR",
          "HU15 1RU",
          "HU15 2BL",
          "HU15 2DS",
          "HU15 2DW",
          "HU15 2PE",
          "HU17 7PE",
          "HU17 7RB",
          "HU17 8JJ",
          "HU17 9SS",
          "HU19 2RB",
          "HU2 8LD",
          "HU6 7JN",
          "HU8 8JS",
          "HX1 1TT",
          "HX1 2HH",
          "HX1 2XS",
          "HX2 0HB",
          "HX2 6BZ",
          "HX2 6DN",
          "HX2 6XE",
          "HX3 5RS",
          "HX3 7HF",
          "HX3 7RZ",
          "HX3 7SJ",
          "HX3 7UA",
          "HX3 8QY",
          "HX4 0EJ",
          "HX4 8DU",
          "HX4 9LF",
          "HX4 9LL",
          "HX5 9GY",
          "HX6 1NX",
          "HX6 1PB",
          "HX6 1PD",
          "HX6 2PX",
          "HX6 3EZ",
          "HX6 3QP",
          "HX6 4BL",
          "HX6 4LS",
          "HX6 4LT",
          "HX6 4NN",
          "HX6 4NU",
          "HX6 4RY",
          "HX7 6JS",
          "HX7 7HX",
          "HX7 7PH",
          "HX7 8TG",
          "IG1 2BY",
          "IG1 4BT",
          "IG10 1BS",
          "IG10 1BT",
          "IG10 1PD",
          "IG10 1SE",
          "IG10 1TB",
          "IG10 2NY",
          "IG10 2PB",
          "IG10 3JD",
          "IG10 4DP",
          "IG10 4DY",
          "IG10 4DZ",
          "IG10 4FE",
          "IG10 4NF",
          "IG10 4PR",
          "IG10 4QG",
          "IG10 4RP",
          "IG11 0RT",
          "IG11 0RX",
          "IG11 9JU",
          "IG2 7JZ",
          "IG5 0EE",
          "IG6 2GQ",
          "IG7 4BF",
          "IG7 5AF",
          "IG7 5DF",
          "IG7 5EF",
          "IG7 5JN",
          "IG7 5PF",
          "IG7 5PG",
          "IG7 5PL",
          "IG7 5QN",
          "IG7 5QS",
          "IG7 5QW",
          "IG7 5QX",
          "IG7 5QY",
          "IG7 5QZ",
          "IG7 6DJ",
          "IG7 6DN",
          "IG7 6DQ",
          "IG7 6LH",
          "IG7 6LJ",
          "IG7 6LL",
          "IG7 6PN",
          "IG7 6PW",
          "IG8 0EA",
          "IG8 0EJ",
          "IG8 0EN",
          "IG8 0FD",
          "IG8 0LG",
          "IG8 0NF",
          "IG8 0QJ",
          "IG8 0RE",
          "IG8 0TH",
          "IG8 8RZ",
          "IG8 9EY",
          "IG9 5RW",
          "IG9 5UE",
          "IP1 1XF",
          "IP1 3TU",
          "IP1 5PE",
          "IP11 7EJ",
          "IP12 1FF",
          "IP12 1SY",
          "IP12 2AQ",
          "IP12 2DY",
          "IP12 2TF",
          "IP13 6DH",
          "IP13 6HQ",
          "IP13 6JA",
          "IP13 6JG",
          "IP13 6SL",
          "IP13 7DW",
          "IP13 7EN",
          "IP13 7JF",
          "IP13 7JS",
          "IP13 7SL",
          "IP14 1FF",
          "IP14 2EX",
          "IP14 2EY",
          "IP14 2HU",
          "IP14 2JG",
          "IP14 3AP",
          "IP14 3EB",
          "IP14 4EJ",
          "IP14 4NH",
          "IP14 4QL",
          "IP14 4QX",
          "IP14 4SE",
          "IP14 5DP",
          "IP14 5PY",
          "IP14 5TA",
          "IP14 6HU",
          "IP14 6NY",
          "IP15 5PF",
          "IP15 5QE",
          "IP16 4TE",
          "IP17 1ER",
          "IP17 1HT",
          "IP17 1QW",
          "IP17 2PH",
          "IP17 2RT",
          "IP17 3FA",
          "IP17 3LG",
          "IP19 0HL",
          "IP19 8GY",
          "IP19 8PW",
          "IP19 9AN",
          "IP2 9DF",
          "IP2 9GA",
          "IP2 9UD",
          "IP2 9UE",
          "IP2 9YN",
          "IP2 9YR",
          "IP20 0JZ",
          "IP20 0LL",
          "IP20 0PA",
          "IP21 4XJ",
          "IP21 5DD",
          "IP21 5DN",
          "IP21 5EU",
          "IP21 5LQ",
          "IP21 5TJ",
          "IP22 1BU",
          "IP22 1EH",
          "IP22 1RG",
          "IP22 2DH",
          "IP22 2PY",
          "IP22 5TA",
          "IP22 5TD",
          "IP22 5TW",
          "IP22 5TX",
          "IP23 7JH",
          "IP23 7LD",
          "IP23 8JS",
          "IP24 1LP",
          "IP24 2UP",
          "IP25 6FX",
          "IP25 6JL",
          "IP25 6NW",
          "IP25 6QD",
          "IP25 6QG",
          "IP25 6QU",
          "IP25 6XZ",
          "IP25 7BL",
          "IP25 7EG",
          "IP25 7FF",
          "IP25 7GB",
          "IP25 7NP",
          "IP25 7SZ",
          "IP25 7TJ",
          "IP26 4AZ",
          "IP26 4DB",
          "IP26 4DN",
          "IP26 4DS",
          "IP26 4DY",
          "IP26 4EY",
          "IP26 4NN",
          "IP26 4QP",
          "IP26 5AG",
          "IP26 5LH",
          "IP27 0BF",
          "IP27 0PS",
          "IP27 9AX",
          "IP27 9NB",
          "IP27 9RA",
          "IP27 9RB",
          "IP27 9RJ",
          "IP27 9RT",
          "IP27 9RW",
          "IP27 9SA",
          "IP27 9SB",
          "IP27 9SD",
          "IP28 6JY",
          "IP28 6RU",
          "IP28 6SW",
          "IP28 6TT",
          "IP28 6UH",
          "IP28 6UQ",
          "IP28 7FA",
          "IP28 7JH",
          "IP28 7RW",
          "IP28 8DJ",
          "IP28 8DP",
          "IP28 8EA",
          "IP28 8EP",
          "IP28 8FD",
          "IP28 8JN",
          "IP28 8RL",
          "IP28 8RS",
          "IP28 8RT",
          "IP28 8TN",
          "IP28 8UJ",
          "IP28 8UQ",
          "IP28 8WZ",
          "IP28 8XG",
          "IP28 8YQ",
          "IP28 8ZB",
          "IP28 8ZF",
          "IP28 8ZH",
          "IP28 8ZJ",
          "IP29 4SP",
          "IP29 4TS",
          "IP29 5ES",
          "IP29 5QF",
          "IP29 5RW",
          "IP30 0AD",
          "IP30 0DU",
          "IP30 0HJ",
          "IP30 0HW",
          "IP30 0UX",
          "IP30 9FT",
          "IP30 9QR",
          "IP30 9UN",
          "IP31 1FA",
          "IP31 1NT",
          "IP31 1QP",
          "IP31 2FL",
          "IP31 2QY",
          "IP31 3AY",
          "IP31 3JX",
          "IP31 3NB",
          "IP31 3QS",
          "IP32 7BE",
          "IP33 1QQ",
          "IP33 2RR",
          "IP4 1AP",
          "IP4 1BS",
          "IP4 1BW",
          "IP4 1NF",
          "IP4 1QH",
          "IP4 3NX",
          "IP6 0PH",
          "IP6 0SA",
          "IP6 9DR",
          "IP6 9DX",
          "IP6 9FB",
          "IP6 9JD",
          "IP6 9QQ",
          "IP6 9TB",
          "IP7 5FN",
          "IP7 7ND",
          "IP7 7PF",
          "IP8 3GA",
          "IP8 3HX",
          "IP8 4RS",
          "IP9 1RL",
          "IP9 2BG",
          "IP9 2DQ",
          "IP9 2FF",
          "IP9 2FG",
          "IP9 2JB",
          "IP9 2LR",
          "IP9 2NF",
          "IV10 8UZ",
          "IV12 5BJ",
          "IV17 0XN",
          "IV18 0PX",
          "IV18 0PY",
          "IV19 1BW",
          "IV19 1NF",
          "IV2 4FW",
          "IV2 6TW",
          "IV2 6UE",
          "IV23 2QW",
          "IV27 4UL",
          "IV27 4YL",
          "IV3 8LD",
          "IV30 1YF",
          "IV30 8LR",
          "IV30 8NP",
          "IV31 6FG",
          "IV32 7RR",
          "IV36 2AE",
          "IV36 2TA",
          "IV36 2UJ",
          "IV4 7BF",
          "IV40 8NG",
          "IV47 8SW",
          "IV49 9AZ",
          "IV5 7QS",
          "IV51 9NQ",
          "IV52 8TD",
          "IV6 7RF",
          "IV63 6TX",
          "IV63 6XF",
          "IV7 8DQ",
          "IV8 8NP",
          "KA1 5HZ",
          "KA1 5LN",
          "KA10 7EL",
          "KA11 2DY",
          "KA13 7RF",
          "KA17 0NF",
          "KA18 2RJ",
          "KA18 3LL",
          "KA18 4QD",
          "KA18 4QE",
          "KA18 4QP",
          "KA19 7NU",
          "KA19 7QY",
          "KA19 8EP",
          "KA2 9DD",
          "KA25 6LX",
          "KA25 7LE",
          "KA26 9NN",
          "KA26 9UA",
          "KA27 8ET",
          "KA27 8QA"
         ],
         "lat": [
          57.143829775052424,
          57.13361978132747,
          57.06204004857291,
          57.071782988491464,
          57.065918643297714,
          57.11103019260386,
          57.0982436656757,
          57.12226707733852,
          57.10268638625001,
          57.085699892031805,
          57.10604904682248,
          57.121324057636905,
          57.14468789722133,
          57.142920495762276,
          57.144522767689494,
          57.132539222662224,
          57.1351739560273,
          57.14025236618762,
          57.1412891100698,
          57.140811432705476,
          57.12518161549469,
          57.1097473229349,
          57.11824010529537,
          57.16306620168828,
          57.25701393386547,
          57.3202276438406,
          57.26701047665751,
          57.267044961091834,
          57.20815173203528,
          57.17619229732752,
          57.26385569510149,
          57.167989635745315,
          57.16613236468505,
          57.16158441903793,
          57.161959323359454,
          57.153124286270916,
          57.15281790263348,
          57.151655431140036,
          56.85936121737736,
          56.852848870795654,
          56.875730482253935,
          56.87586360508245,
          56.88661539314712,
          56.89551650342549,
          57.05728106849995,
          57.06109860244876,
          57.12016370237211,
          57.13177092440685,
          57.113499908250695,
          57.102955603739986,
          57.09066097812638,
          57.05353052046334,
          57.01539780058797,
          57.00909814733715,
          57.02145309684785,
          57.03999089205575,
          57.25066814369146,
          57.169537225487666,
          57.195647847026805,
          57.23256878076337,
          57.080418895849874,
          57.0750795462879,
          57.09759946303432,
          57.116601926425794,
          57.04820950205054,
          57.00379982153867,
          57.53076162823731,
          57.49081983329419,
          57.499843909707636,
          57.0557532976387,
          57.06298720399849,
          56.97940166652034,
          56.97733206202762,
          56.94486006009474,
          57.34066571958359,
          57.31552718936934,
          57.414697305891515,
          57.41798019164498,
          57.461394679904814,
          57.41896248497241,
          57.38958236390141,
          57.40410441475143,
          57.35581986711455,
          57.465655850462554,
          57.447490238508934,
          57.53956697584389,
          57.52277356589771,
          57.49176474133535,
          57.548474897812085,
          57.548337726716426,
          57.52327645641551,
          57.482568626852384,
          57.49315879571298,
          57.4949091446704,
          57.52000137161797,
          57.49148145411606,
          57.547300800404926,
          57.576077005717266,
          57.63636012074491,
          57.69706156197123,
          57.697196699803136,
          57.65220056902384,
          57.34662497551063,
          57.23266884069984,
          57.25067884118181,
          57.37436925076344,
          57.26674330414855,
          57.2329308216458,
          57.16163386427112,
          57.347798281724316,
          57.347561699062744,
          57.33417537075197,
          57.34738670439065,
          57.34757171549747,
          57.520783925325354,
          57.55100123321701,
          57.51067997271351,
          57.52161963472974,
          57.430188212708266,
          57.46039453924009,
          57.604295317194506,
          57.52275857101366,
          57.409773794677754,
          57.51585041808022,
          57.689925214468204,
          57.69148299991892,
          51.74780291644075,
          51.748845472727986,
          51.754399801723686,
          51.7541828051593,
          51.754119139372534,
          51.75380801652459,
          51.75400683159519,
          51.75519512227505,
          51.74662492576311,
          51.75017988957376,
          51.7597374608984,
          51.75528457337351,
          51.76550186580342,
          51.7624183214186,
          51.76074453902811,
          51.766037375133685,
          51.75036190225018,
          51.74919626691612,
          51.72624448199135,
          51.72104941526815,
          51.738350455843545,
          51.759025800759225,
          51.79584812581568,
          51.83711333392138,
          51.84094319280033,
          51.84543196535991,
          51.85022586758941,
          51.84097708042842,
          51.84628437589862,
          51.831337404107174,
          51.73988535655055,
          51.81361025050572,
          51.794596921960384,
          51.81377751999379,
          51.83586029701465,
          51.834092199126445,
          51.82493478771433,
          51.7946592086997,
          51.80008824899893,
          51.79573561236881,
          51.81415876491058,
          51.81519625118772,
          51.81475001794448,
          51.814247181109,
          51.81380360779008,
          51.815545677001964,
          51.816099737622785,
          51.81951143450893,
          51.7985662502778,
          51.79484953175311,
          51.79985652492754,
          51.798966674688614,
          51.80043139987329,
          51.8004255369967,
          51.794202067422034,
          51.79671791690124,
          51.796209987363326,
          51.79735471592773,
          51.79458490197969,
          51.79448763767435,
          51.79510816731429,
          51.81690090045998,
          51.815584724053984,
          51.81709526984618,
          51.823620570356105,
          51.825713451501635,
          51.82578087607818,
          51.83097219043377,
          51.82892707581697,
          51.8234384109346,
          51.816367395844104,
          51.81786383599015,
          51.82235093778777,
          51.82264045788278,
          51.81914663777752,
          51.830215831918615,
          51.81617196867702,
          51.828822361506276,
          51.82537791708744,
          51.81837846483856,
          51.830254131798824,
          51.83349642486883,
          51.83637131637001,
          51.83179224920962,
          51.827488988983895,
          51.830671151964665,
          51.80516571067628,
          51.81505122550833,
          51.83520009166735,
          51.83284459899788,
          51.82868509774157,
          51.83791985929787,
          51.821920803849984,
          51.83623077232208,
          51.82917285798326,
          51.84396635537725,
          51.84836851039517,
          51.85551547729414,
          51.857095256453015,
          51.84813115272179,
          51.85553415221664,
          51.799041458591,
          51.79817641419296,
          51.801517730416684,
          51.79620807800793,
          51.76829048489096,
          51.773922371254734,
          51.747064598093864,
          51.75283720387272,
          51.757691345501414,
          51.736928462099094,
          51.74216943011892,
          51.725642280270776,
          51.7252641513741,
          51.72837769783002,
          51.72321397370964,
          51.72327480183665,
          52.48632243841247,
          52.484777332214264,
          52.47451151091999,
          52.472924494888886,
          52.44659970067211,
          52.45597729228474,
          52.44289375838064,
          52.438634652708934,
          52.41577351683903,
          52.40529304210036,
          52.46864997685277,
          52.46941346132614,
          52.46200252796446,
          52.46360126041611,
          52.46483015341208,
          52.46536250482777,
          52.458745197968575,
          52.45620030530841,
          52.46404849749229,
          52.46190870968477,
          52.470323978848846,
          52.470087198310814,
          52.46564686335337,
          52.467455409131915,
          52.46990184837141,
          52.47072910279122,
          52.46056876596262,
          52.4617828992047,
          52.45938449853745,
          52.46711612797005,
          52.47163675742171,
          52.482431218977034,
          52.48175696407325,
          52.48208916641904,
          52.47783277242318,
          52.45637874254961,
          52.46877591806949,
          52.469727230509896,
          52.46052479112099,
          52.495918954150625,
          52.48887228813835,
          52.487745401987944,
          52.48798786106379,
          52.50786585858171,
          52.522284627231265,
          52.51668920620131,
          52.51939857071729,
          52.51256186983286,
          52.508264648333935,
          52.50429864584593,
          52.50444257210978,
          52.53268143426379,
          52.523010434269835,
          52.520262253078876,
          52.51883223890303,
          52.45400270805255,
          52.44134761146526,
          52.446133428849,
          52.44837063326407,
          52.44362218262855,
          52.4296833309478,
          52.42818197804931,
          52.41374754910672,
          52.39917691823925,
          52.403668824937206,
          52.45746753997085,
          52.47100626830209,
          52.47152762876466,
          52.47096175135867,
          52.499737491126986,
          52.500323269120386,
          52.46226481515366,
          52.383665452905,
          52.48653753997409,
          52.54446021618015,
          52.5474115557413,
          52.37430161710138,
          52.36076317681341,
          52.364907510397515,
          52.358083956236044,
          52.358604823573025,
          52.36424231756775,
          52.37814852261742,
          52.51225668418846,
          52.53373355139089,
          52.52510610713794,
          52.377271244749096,
          52.367378302440585,
          52.35399661646078,
          52.336737821866336,
          52.36214092001161,
          52.220002670177834,
          52.21028988391404,
          52.19657573384753,
          52.18833269930691,
          52.2363006486956,
          52.223242728251265,
          52.25071397525839,
          52.192979336733686,
          52.46463612880105,
          52.46436678112938,
          52.46276250967146,
          52.17731363851258,
          52.177468080191595,
          52.17973604896462,
          52.177969805748795,
          52.322500730630814,
          52.32339787506407,
          52.3169592993866,
          52.32065020062124,
          52.311346624767644,
          52.27753582815927,
          52.30693226043056,
          52.379678963287574,
          52.3828787878717,
          52.37043069139134,
          52.30529939124073,
          52.34113189567299,
          52.351943635859925,
          52.33825880807251,
          52.328514913698406,
          52.36853390472496,
          52.40734380447691,
          52.40352812940152,
          52.40220735836004,
          52.42002143311723,
          52.4721067217882,
          52.467029380061305,
          52.502140056463624,
          52.501897280319824,
          52.48058907700741,
          52.50618876937619,
          52.53800956292362,
          52.519365076974736,
          52.540771728268126,
          52.54058360453141,
          52.54077139638542,
          52.552696244372754,
          52.55304884556647,
          52.56825407948906,
          52.57369693423287,
          52.57431007135454,
          52.57700060885481,
          52.575627162275154,
          52.57357599832731,
          52.57554949682972,
          52.576849330833134,
          52.57658740682929,
          52.580063635736145,
          52.58141589962908,
          52.57904695797522,
          52.578511137355484,
          52.57657756248332,
          52.58199743231331,
          52.585123942316095,
          52.590303206777186,
          52.59248437875408,
          52.59397531818826,
          52.5998938488444,
          52.596922500123995,
          52.599052610690734,
          52.59766619492075,
          52.589511555628015,
          52.589621335298666,
          52.58610592939657,
          52.60060049613967,
          52.599021400477554,
          52.585755794219246,
          52.597430445513616,
          52.537677346730035,
          52.54063187433077,
          52.601077497455634,
          52.64103468784883,
          52.605938499340624,
          52.59523967883435,
          52.67732155011416,
          52.69200680502396,
          52.690897044593406,
          52.69200086344148,
          52.68129876562475,
          52.27084015815376,
          52.417327527228665,
          52.41267843708957,
          52.411986442140226,
          52.41827495501382,
          52.414829305723394,
          52.42331324763851,
          52.40694521066398,
          52.427766027633965,
          52.43715506303389,
          52.44143098565923,
          52.406483241099636,
          52.400260056420045,
          52.44012544110223,
          52.34964106446884,
          52.34824904221411,
          52.34963256326754,
          52.38272180184524,
          52.37469920701262,
          52.37540333160603,
          52.379798979823285,
          52.373833925371976,
          52.36456708993989,
          52.36306638351618,
          52.39797785997421,
          52.326624137836774,
          52.350025757466916,
          52.341175247259216,
          52.339302567230284,
          52.34704111781638,
          52.34388788174005,
          52.34648298818145,
          52.323916249333834,
          52.34121707042213,
          52.35820462916397,
          52.337324380279206,
          52.33778133487461,
          52.33524316639898,
          52.35903394186112,
          52.3075584612659,
          52.31189984259949,
          52.309222992160244,
          52.31398031320434,
          52.306017540870094,
          52.26640762318709,
          52.278409878825975,
          52.25625283383113,
          52.24063057929674,
          52.25786667237984,
          52.23355118895905,
          52.23111248021075,
          52.30370776525278,
          52.2796881972079,
          52.27756761395013,
          52.32233225798137,
          52.31386276372333,
          52.32362995296056,
          52.34211033299681,
          52.330577237996664,
          52.31841597700725,
          51.37970400065417,
          51.39136698057811,
          51.40193939599468,
          51.394790062969896,
          51.39539946023694,
          51.40133875781931,
          51.40364145271909,
          51.399490456715064,
          51.40814204857913,
          51.428595689044016,
          51.437323821331866,
          51.41183614538067,
          51.43857931435317,
          51.23134980372523,
          51.26388767736098,
          51.26197393338702,
          51.22307331245457,
          51.20266674122398,
          51.23357293791323,
          51.21640950776544,
          51.290141846523994,
          51.227869889487714,
          51.19368078359755,
          51.072056405498955,
          51.131273761742165,
          51.17369496622058,
          51.19169225707633,
          51.13728058279152,
          51.1786419993542,
          51.19893442507557,
          51.20088444735204,
          51.259782060191505,
          51.26578647686164,
          51.278165455945356,
          51.29758506815411,
          51.3249506553798,
          51.341917546238875,
          51.34455018647329,
          51.31603793700843,
          51.29328673041238,
          51.29321189246781,
          51.36019141931528,
          51.362324462962604,
          51.108731580038985,
          51.122413298277685,
          51.32338598696571,
          51.33256859342096,
          51.3842082423295,
          51.36037850196883,
          51.37475006992257,
          51.37355227618598,
          51.37226096252055,
          51.37634759486745,
          51.37809945836994,
          51.393463763254346,
          51.34730960758359,
          51.35115875274293,
          51.349320620749374,
          51.35615025801525,
          51.34338561369101,
          51.34733747609937,
          51.295067870963926,
          51.29170505096373,
          51.321919470030345,
          51.3336336636126,
          51.32605606520438,
          51.31375798552644,
          51.307477603963974,
          51.30005797211891,
          51.323678676690584,
          51.33425845032559,
          51.34167349011408,
          51.38780679905882,
          51.3621690258655,
          50.96619971686694,
          50.96106380912799,
          51.06523095298478,
          51.02594704935233,
          51.04028166432169,
          50.96568298578315,
          50.925821278809806,
          50.93597932104336,
          50.92137179065868,
          50.91434174374817,
          50.915525572859224,
          50.919149355098284,
          50.90848167134922,
          50.866062322856784,
          51.27710970450267,
          51.288985624272115,
          51.275171753168024,
          51.22719484814634,
          51.25080533749551,
          51.258525649110524,
          51.28787491772957,
          51.27191570391525,
          51.300149317376224,
          51.27615411117222,
          51.16334415598919,
          51.1670541667727,
          51.207228149231085,
          51.19481085464477,
          51.190904333180555,
          51.136627229769005,
          51.20641040171989,
          51.195848413529056,
          51.2031870910406,
          51.158533792995414,
          51.126403265240064,
          51.14676364361787,
          51.11199985061986,
          51.09348927984652,
          50.974191514522154,
          50.97445591389672,
          50.9819136910186,
          51.06054295417955,
          51.0723312174798,
          51.083716175107,
          51.05958645504496,
          51.02068202074862,
          53.78728491989384,
          53.784428225039846,
          53.81938921667463,
          53.77292620711647,
          53.75159714590019,
          53.762089987061906,
          53.80164018707886,
          53.785292504265215,
          53.80930454034544,
          53.809537016196685,
          53.84140840915936,
          53.848117660723766,
          53.909759533894565,
          53.91472684013089,
          53.91654157704943,
          53.915659880208565,
          53.898274364899095,
          53.9289749312042,
          53.91306170841017,
          53.92280928815661,
          53.899892541152845,
          53.718370416906254,
          53.75156922161875,
          53.7519845125778,
          53.752124246945,
          53.758892603916635,
          53.759961451245864,
          53.78616181333162,
          53.78351949497478,
          53.79790121134087,
          53.76848403763103,
          53.67519177925378,
          53.68703905130997,
          53.69503254442964,
          53.693528603376734,
          53.7022105994119,
          53.70911008484475,
          53.71828213189438,
          53.721752375670505,
          53.71234171561635,
          53.708137905385584,
          53.75165734648938,
          53.74737765350767,
          53.784907667134135,
          53.798937701561165,
          53.80329971361392,
          53.8148158641825,
          53.82428433454198,
          53.82570142348657,
          53.85901619549319,
          53.87969376643081,
          53.943708791378626,
          53.93566253663816,
          53.893839461321264,
          53.862376658890945,
          53.87202827350379,
          53.892029477385435,
          53.934971190623024,
          53.949256397169655,
          53.935375778411675,
          53.97647174077814,
          53.83507900597391,
          53.848566015021646,
          53.83418367343557,
          53.85859846531506,
          53.82783292452128,
          53.837092485863735,
          53.83790853867084,
          53.837852763192174,
          53.84770461448712,
          53.87552890798658,
          53.87249884616864,
          53.85317231551985,
          53.83243423063106,
          53.85714681029989,
          53.85618727462593,
          53.85680334364897,
          53.844850629118476,
          53.837179351428404,
          53.7935992380449,
          53.80112607147194,
          53.79478511443756,
          53.794100033813855,
          53.83519580524035,
          53.835419691494266,
          53.84219018075839,
          53.73866600760393,
          53.775821287190304,
          53.80656656083503,
          53.802944580618416,
          53.8187984772601,
          53.838726035449916,
          53.809999155001,
          53.844318113535536,
          53.838296160615144,
          53.86238036626573,
          53.838209720512516,
          53.85609997370801,
          53.833456202668756,
          53.72638287465911,
          53.914886772278635,
          53.879469576314335,
          53.887567868040406,
          53.90072133782263,
          53.91077576479422,
          53.90012935086553,
          53.90107639301261,
          53.912341341276644,
          53.94096412022964,
          53.927961679929254,
          53.94450322182711,
          53.83687730735817,
          53.85474203091121,
          53.834520573246444,
          53.96648040500737,
          53.937487492527254,
          53.95728508510493,
          53.95460412883312,
          53.98693857436784,
          54.001221355793795,
          54.02386958126575,
          53.926455751395586,
          54.02992403552206,
          54.044762015484544,
          54.047740414302616,
          54.045758892967534,
          54.002045599798755,
          53.99755470813224,
          54.14707710706815,
          53.984162874010764,
          54.02401783448944,
          54.07596661819673,
          54.035739588258615,
          54.1029285501278,
          53.769984295042406,
          53.799237356257436,
          53.81857361784678,
          53.817706842585736,
          53.806943773325514,
          53.813375236392496,
          50.72231764924886,
          50.75269352394925,
          50.72425770352712,
          50.717816411189865,
          50.72042140876026,
          50.71017627634969,
          50.72123783959105,
          50.713056553234956,
          50.71787392253891,
          50.71440068818738,
          50.7157076950916,
          50.70610662038028,
          50.71134954406726,
          50.71589264807728,
          50.71828593274258,
          50.714573677553595,
          50.71006752897452,
          50.710796698803314,
          50.71089789922761,
          50.708251288059856,
          50.70159363891275,
          50.69969673858965,
          50.70155167898332,
          50.683705153751625,
          50.68806586370027,
          50.71173873155607,
          50.71066976881938,
          50.70311572641045,
          50.72347214048309,
          50.71289877177167,
          50.735382299038875,
          50.736247204090965,
          50.7637686328077,
          50.765136477851115,
          50.72828656116098,
          50.63343353782245,
          50.7543311400757,
          50.74571274649467,
          50.80146037760874,
          50.78469533518449,
          50.778322694903466,
          50.774107794648664,
          50.7618808242499,
          50.779733609464856,
          50.7563189777945,
          50.84310096052461,
          50.89021346429341,
          50.89841749626212,
          50.84311750510336,
          50.8664694053071,
          50.85260447020004,
          50.811535746208634,
          50.854306333420894,
          50.85702791696427,
          50.79384076512593,
          50.79944989085931,
          50.80523549626928,
          50.871603833591784,
          50.87252617993979,
          50.81384205863942,
          50.815935961689284,
          50.83824691996734,
          50.83234864410486,
          50.79154299325833,
          50.78832098111319,
          50.728287304258394,
          50.731951746632795,
          50.74907669877034,
          50.77162793375066,
          50.790915742901895,
          50.79008394156553,
          50.838537425767385,
          50.833761079239544,
          50.83542874615402,
          50.83193037499399,
          50.84171251373903,
          50.81683295055438,
          50.810026507836014,
          50.82769718282771,
          50.82245000015072,
          50.85112440299484,
          50.83234961855115,
          50.844588477678734,
          50.85746420910277,
          50.87260148974043,
          50.89818773989788,
          50.88698479527988,
          50.823105425783545,
          50.83804487664677,
          50.83507713833704,
          50.748903253880854,
          50.74844468144569,
          50.77146293854415,
          50.78882367311745,
          50.79159817691522,
          50.761632802075916,
          50.721911360238146,
          50.7285294980657,
          53.668865551790795,
          53.659926875418776,
          53.65678273280233,
          53.63161822864978,
          53.596289727517544,
          53.58108469227137,
          53.582912597819295,
          53.58263060605739,
          53.58125151878665,
          53.579579037148996,
          53.57797087262706,
          53.59949663028418,
          53.606106415276024,
          53.618865126967556,
          53.555714449064006,
          53.55212983763492,
          53.54946228167544,
          53.57894473271802,
          53.582565661665974,
          53.579184641496184,
          53.59910979006203,
          53.59255521420817,
          53.60603973667821,
          53.6365059279957,
          53.67410534833776,
          53.68474377009773,
          53.659846243815146,
          53.660882150419866,
          53.66375798672411,
          53.65123312756978,
          53.65053575485258,
          53.62049599228315,
          53.617265890724454,
          53.602080913300775,
          53.610968116435494,
          53.63125845498514,
          53.63984023717255,
          53.59405667959325,
          53.63555448740992,
          53.61266447743476,
          53.59627180023838,
          50.82218601939006,
          50.822093983614806,
          50.82576663080753,
          50.830258300047,
          50.847273401369314,
          50.849527144772225,
          50.86016040770823,
          50.86925545115368,
          50.86169078257569,
          50.8109596663916,
          50.810815240438686,
          50.8081699522525,
          50.84348654207381,
          50.84213290542187,
          50.84675853991466,
          50.87623558310835,
          50.821702914146805,
          50.827592484946805,
          50.82850612842379,
          50.80329145700684,
          50.80416923087027,
          50.80437526957634,
          50.80453886368652,
          50.80418692349977,
          50.83938018717257,
          50.8384679182743,
          50.88367573258146,
          50.85478579503628,
          50.90925752312182,
          50.85079007486581,
          50.88007683810262,
          50.822825131680816,
          50.820709208559684,
          50.84088921543207,
          50.838726411157275,
          50.81561857413243,
          50.81520955705147,
          50.80229964362037,
          50.769414951063986,
          50.75538005212885,
          50.75439120078152,
          50.76843843831937,
          50.76189924971653,
          50.807020201315765,
          50.79786791544328,
          50.83461314684434,
          50.77919119191722,
          50.83855447347543,
          50.830586125402654,
          50.83726646077848,
          50.84233216449891,
          50.86787012418072,
          50.86659279196792,
          50.877744648731166,
          50.867223787042846,
          50.91210887801114,
          50.886106202501956,
          50.886954423505,
          50.886753085226644,
          50.92011543457173,
          50.88440317478887,
          50.886894291422685,
          50.884899340520846,
          50.88847689458436,
          50.827438073586606,
          50.82640084797491,
          50.828438750211056,
          50.854497744088825,
          50.85290020872119,
          50.84831244450644,
          50.85056142190308,
          50.85165111725141,
          50.85295536159119,
          50.848741030409805,
          50.83727029941839,
          50.82660257379628,
          50.832477734316065,
          50.896552648135334,
          50.94957338485658,
          50.934246026643294,
          50.9608173715122,
          50.96594315024855,
          50.96420992932444,
          50.92522287433418,
          50.89006150918572,
          50.907264838680646,
          50.931112521724884,
          50.90997488695842,
          50.89191247622355,
          50.90684191650394,
          50.935954226508045,
          50.91022030373437,
          50.922161595865106,
          50.94343212295914,
          50.91706946646664,
          50.911103604219925,
          50.908339128760254,
          50.936498882161146,
          50.9331991947319,
          50.93221398962192,
          50.962695142865904,
          50.950301671792246,
          50.960768458395876,
          50.95548586225947,
          50.95086453502167,
          50.928771061939734,
          50.91811057836688,
          50.963466446865674,
          50.903984302936244,
          50.981994500794734,
          50.98102351389241,
          50.974913958249495,
          50.937739143670015,
          50.938437546621934,
          50.97326405716527,
          50.98023189418256,
          50.96309421191269,
          50.92465657185184,
          50.92328485900217,
          50.91649797012908,
          50.905846003426085,
          50.905485516587824,
          50.89296924965837,
          50.88877977551733,
          50.9049917334173,
          50.893089522659906,
          50.899231120886434,
          50.913427341531964,
          50.938544630719086,
          50.78331573204602,
          51.40132663777951,
          51.407088411638334,
          51.403326496512975,
          51.40538678465322,
          51.40273634612033,
          51.40099195179831,
          51.398669041055214,
          51.39789931333441,
          51.40589605290605,
          51.411014345134866,
          51.406548161853244,
          51.40665093047522,
          51.40641531986625,
          51.40905157177954,
          51.42380144403607,
          51.39498104458607,
          51.33905199304481,
          51.359628015916215,
          51.33668532049231,
          51.36634984013256,
          51.36403284104432,
          51.36428980652091,
          51.36393533817723,
          51.37375101916908,
          51.372217976967754,
          51.37236972595286,
          51.37008440988035,
          51.37177664931046,
          51.39842441361542,
          51.39969967013326,
          51.397835654333534,
          51.393976217555945,
          51.40978225523262,
          51.41435333719297,
          51.41099700391438,
          51.411834335137414,
          51.41359635595243,
          51.40828767948269,
          51.40607622097946,
          51.3882122025094,
          51.38768957480787,
          51.37671388113982,
          51.38973528222297,
          51.392959761989246,
          51.391461959186046,
          51.369232343447614,
          51.37641615985058,
          51.35784713345516,
          51.3528603511087,
          51.35079184076896,
          51.35173505472203,
          51.358299662984685,
          51.36128302171237,
          51.35121177153476,
          51.34535759322518,
          51.3464410642664,
          51.350574730955266,
          51.37051073144824,
          51.37093153622441,
          51.3694713920202,
          51.373277256962595,
          51.37452280962539,
          51.36870491167929,
          51.368314017119694,
          51.364526811285145,
          51.3642069593072,
          51.36535029204406,
          51.41968252202856,
          51.41377410027324,
          51.413308713708744,
          51.408794688273964,
          51.41407769815607,
          51.413633944316246,
          51.41273252314426,
          51.40715634572154,
          51.40713633678565,
          51.41035097104132,
          51.40948793346637,
          51.40655653338298,
          51.41770444753282,
          51.418068940891764,
          51.41613144330621,
          51.39790127002785,
          51.4076788590189,
          51.40551534577792,
          51.39729867745041,
          51.38816939963611,
          51.38716195254096,
          51.460696129005875,
          51.45272296378318,
          51.450189147632955,
          51.50916834980566,
          51.50149733462035,
          51.4065610491556,
          51.432148960860545,
          51.473860400804675,
          51.48400619386615,
          51.483573225484626,
          51.453087316018404,
          51.451391800130686,
          51.45124802390687,
          51.462099845933274,
          51.46453815434294,
          51.358865886394774,
          51.36820609118648,
          51.33874413854229,
          51.35633100713182,
          51.27463451028286,
          51.30265948873153,
          51.36599141595274,
          51.314612755705845,
          51.33524620776703,
          51.24693792959733,
          51.275881290393976,
          51.23555745112678,
          51.218969220640616,
          51.19230188302755,
          51.46271909892861,
          51.46749582553245,
          51.42514854433915,
          51.43620211403427,
          51.401623500210654,
          51.40190075622017,
          51.404425169688736,
          51.54797913119097,
          51.538622210243766,
          51.57252440643993,
          51.588584238186435,
          51.515778003506774,
          51.59417655182214,
          51.592030436730646,
          51.59251660945135,
          51.59810980808901,
          51.59854248009418,
          51.52162295444576,
          51.53407396505623,
          51.53331690683306,
          51.57328037558761,
          51.56391521963831,
          51.516130202753786,
          51.56206185387567,
          51.54914637591887,
          51.566121115537705,
          51.565519853765885,
          51.56076920561769,
          51.57037702279212,
          51.5160514431701,
          51.54923294403743,
          51.369395222525185,
          51.37281882128149,
          51.38160679471283,
          51.3339514229856,
          51.29376927395575,
          51.34133990028763,
          51.37495325387822,
          51.347700320147176,
          51.3843986434386,
          51.36069615536244,
          51.37555291480295,
          51.35126251826396,
          51.404181533098914,
          51.39421204075255,
          51.4292323913935,
          51.44558169961052,
          51.44372633974248,
          51.43969273406608,
          51.43477474206175,
          51.42512244120624,
          51.4483825931844,
          51.40109781278693,
          51.40899168856286,
          51.41340744717022,
          51.468080397199834,
          51.47320215257763,
          51.47391207039359,
          51.48029665041888,
          51.4770901735885,
          51.476422773200746,
          51.47772846619127,
          51.47879591484111,
          51.452495824064236,
          51.46159151465401,
          51.46143797397952,
          51.45950589954164,
          51.457366356463005,
          51.4421425488811,
          51.45441328703643,
          51.47495707584676,
          51.47860966444864,
          51.47802168992255,
          51.497896368572405,
          51.481191288054056,
          51.49161826242613,
          54.89378249530554,
          54.89458495885322,
          54.707455597950236,
          54.7498981014747,
          54.73193403712477,
          54.749206043206684,
          54.70693697751664,
          54.60439589946358,
          54.565121455611646,
          54.62332737703663,
          54.44022420399125,
          54.6620074690574,
          54.65992352187329,
          54.62068825745373,
          54.55958593946362,
          54.707341157520446,
          54.61301134969891,
          54.619039401791596,
          54.63064430953967,
          54.594063305501535,
          54.70886695190192,
          54.599304617476115,
          54.5328701923194,
          54.41083611103327,
          54.42870329308015,
          54.3462190588667,
          54.461621828454774,
          54.56261836196936,
          54.84556934737827,
          54.89014432952945,
          54.805745439133254,
          54.920150072191554,
          54.901574292793065,
          54.78425210299175,
          54.76854642597001,
          54.82861049482165,
          54.93906073478299,
          54.92671378822577,
          54.93937722776982,
          55.02954957372947,
          54.772794587434355,
          54.783358459218974,
          54.88281965708862,
          54.741632505385056,
          54.737005962759675,
          54.9456190849541,
          54.910987503600225,
          54.94055991282419,
          54.99164007381053,
          54.81862417249589,
          54.80978657201575,
          52.19903155688437,
          52.0613920058856,
          52.062168380463696,
          52.04474703318729,
          52.05288884354745,
          52.012731331931995,
          52.0506529359879,
          52.028166021045955,
          52.041533453244924,
          52.046578772885795,
          52.025330947423065,
          52.011930316378944,
          51.99693805874193,
          52.01602624508318,
          52.013647174566835,
          51.99900874721385,
          52.006407215506755,
          51.99045243093738,
          51.94833295101642,
          51.98383890228393,
          51.98438457594415,
          51.989878613490596,
          51.98172697606895,
          51.9637944307127,
          51.95729049988003,
          51.95884604196421,
          51.99632594635189,
          51.98970075535431,
          52.03624175626707,
          52.03319274009369,
          52.00500296385952,
          52.20676732050568,
          52.19031166829705,
          52.15033768581486,
          52.096758825182185,
          52.08138827260143,
          52.05447951993587,
          52.19745140616274,
          52.11122973770721,
          52.10827529734875,
          52.110960382226175,
          52.11367135980401,
          52.13141932055191,
          52.14655360726336,
          52.135395038751575,
          52.15595203939235,
          52.127769898471676,
          52.126895918815116,
          52.18369954510758,
          52.18991444296296,
          52.18730040873618,
          52.20504298413439,
          52.255335416527835,
          52.25674523951014,
          52.27997688830732,
          52.28036847048204,
          52.22037506136,
          52.21300243412385,
          52.187037256951754,
          52.21423616905048,
          52.293879936794134,
          52.289116267735864,
          52.30846398533301,
          52.294146406045286,
          52.26845772479758,
          52.23836487294026,
          52.24213575994578,
          52.2110439221631,
          52.24340054671617,
          52.21902341361847,
          52.23774525817474,
          52.37519602151825,
          52.432418976894944,
          52.346869725884474,
          52.34785458846767,
          52.34421826461781,
          52.36707900448139,
          52.34651120224945,
          52.36101779128254,
          52.36233813190279,
          52.35114506997622,
          52.36461228733536,
          52.34477003336478,
          52.306094636238534,
          52.3437961121626,
          52.35849322814394,
          52.35901268129352,
          52.386012821802815,
          52.34563360754495,
          52.31556561335082,
          52.17809172898122,
          52.159812678224554,
          52.2245237054883,
          52.28287589025555,
          52.250848202577515,
          52.16995695331837,
          52.16028507406792,
          52.1448738890101,
          52.20235397252913,
          52.21185315041783,
          52.181661794707935,
          52.18939386571763,
          52.16578451761025,
          52.08936570397644,
          52.03256912781291,
          52.06902801172882,
          51.480881987789445,
          51.478406591914435,
          51.464613850585444,
          51.463220493107485,
          51.486349871490845,
          51.53608471306565,
          51.522816188103974,
          51.51133206421163,
          51.56162704819902,
          51.50817017485188,
          51.51849190670717,
          51.474290874399735,
          51.52945868603311,
          51.51400625813472,
          51.4966066815328,
          51.499187132132256,
          51.56817952031604,
          51.55292198344914,
          51.576398343540866,
          51.53740605556173,
          51.52728727298054,
          51.48544136278787,
          51.56159668228144,
          51.666024392416766,
          51.45638263012982,
          51.45006773710542,
          51.497989760769144,
          51.51427581255316,
          51.40662702259665,
          51.415283218767364,
          51.40656351927157,
          51.39891218485265,
          51.40087487583125,
          51.44690945315734,
          51.429477352483254,
          51.44681605868304,
          51.4731680638327,
          51.479436032355,
          51.52381826835785,
          51.5889213037713,
          53.19022024024116,
          53.20531864650229,
          53.243972595910265,
          53.20005526431558,
          53.26588375087447,
          53.19027989666379,
          53.22153818149021,
          53.16863689993754,
          53.15471042371604,
          53.17239625601113,
          53.22114121173861,
          53.192112968642064,
          53.214133189128155,
          53.17980448644259,
          53.17803053393321,
          53.12194151184645,
          53.39181368828448,
          53.3790842655654,
          53.370737145906176,
          53.39080530196082,
          53.38925086182253,
          53.38692378653922,
          53.4292973329234,
          53.359550294077025,
          53.35499623323674,
          53.35802399617746,
          53.35448342466132,
          53.35400204122783,
          53.3640851057314,
          53.35853865746422,
          53.36083701128771,
          53.35775107402535,
          53.36246167847971,
          53.356451393539444,
          53.38090204731013,
          53.367802381477695,
          53.37760233932179,
          53.21457465991053,
          53.19699964700628,
          53.18247583290978,
          53.18315089110389,
          53.32298190812945,
          53.32528394381601,
          53.325359041131335,
          53.32926707426585,
          53.335232557785176,
          53.329790133040845,
          53.31954579278097,
          53.36367651493595,
          53.31108736904353,
          53.34136517302082,
          53.321197088532486,
          53.26645053485806,
          53.29564824093857,
          53.29597568961474,
          53.288723974178296,
          53.262418493610944,
          53.258842406447805,
          53.296581684983096,
          53.27899454587579,
          53.2724487132161,
          53.284001836666704,
          53.288046144400134,
          53.28769897590205,
          53.13101191126175,
          53.13907048941502,
          53.11314393055473,
          53.152064428885176,
          53.205874162993304,
          53.187645249475,
          53.161150912267814,
          53.27379182230047,
          53.23076708319727,
          53.291202537068855,
          53.316956212743825,
          51.65679982771722,
          51.71509290251666,
          51.674744742949464,
          51.68085895056344,
          51.72392978457818,
          51.698617595050344,
          51.63830561058263,
          51.6420238432419,
          51.745168950485564,
          51.73114577254874,
          51.72081338626164,
          51.7099146507918,
          51.70134467913038,
          51.71193069525185,
          51.70994670019875,
          51.74121357465343,
          51.71147652854226,
          51.74984227982459,
          51.77410722221891,
          51.79422231962925,
          51.78310372038374,
          51.78667146696609,
          51.759952738170874,
          51.76106485869698,
          51.63112263546708,
          51.63772659621788,
          51.62946216001464,
          51.64066901798255,
          51.6395143786257,
          51.645835665429814,
          51.644076412234206,
          51.6232984335359,
          51.623032939223215,
          51.62983905287935,
          51.618252574547725,
          51.61941941639054,
          51.61786376045381,
          51.624169847375974,
          51.59913701210099,
          51.603330179232415,
          51.60442788557933,
          51.63065286339455,
          51.63847473139541,
          51.627423511298964,
          51.62771736274771,
          51.62159549735834,
          51.6245579070037,
          51.623485370579466,
          51.6208828405179,
          51.62188403304392,
          51.6228274466209,
          51.624480086784594,
          51.624198187464714,
          51.6274043655128,
          51.62933282960418,
          51.627432004627906,
          51.62714906285772,
          51.62412022382432,
          51.63003353558803,
          51.59015487210328,
          51.57634824823709,
          51.59625140957433,
          51.592365829323185,
          51.58805549303254,
          51.59742744562867,
          51.59129650665814,
          51.621299271247445,
          51.607910287158006,
          51.606165690415565,
          51.607677583603866,
          51.60810797444803,
          51.6577161745066,
          51.69112373700128,
          51.68298857096414,
          51.68165359470918,
          51.672236399865355,
          51.67507646447567,
          51.66095468731362,
          51.65404975430571,
          51.61935008903212,
          51.62383020880999,
          51.62694334129549,
          51.62682434639171,
          51.64803520337068,
          51.68805401145232,
          51.700489069994056,
          51.69542462599262,
          51.738132448172244,
          51.725811959240374,
          51.695107945631186,
          51.677412790937005,
          51.67063720188033,
          51.68760735762132,
          51.69949248296473,
          51.76384681179253,
          51.77676867641607,
          51.787325159382256,
          51.75481931918419,
          51.74678455987979,
          51.75591341264522,
          51.74596771642812,
          51.7562280061387,
          51.75331298346784,
          51.76193568810742,
          51.763475935036745,
          51.75001504482981,
          51.729581138034305,
          51.728615703490604,
          51.73671405643044,
          51.735528986887495,
          51.710819103164624,
          51.70654389768628,
          51.72135135696223,
          51.713138782157706,
          51.69437447858811,
          51.7212115273238,
          51.67001978152516,
          51.79477269647798,
          51.79911468063686,
          51.80735063248278,
          51.817747094604115,
          51.8306445397096,
          51.81165538165995,
          51.80780971078407,
          51.93406176151045,
          51.94543000126115,
          51.932418496602416,
          51.94201002987794,
          51.92347143054616,
          51.92262931968451,
          51.86099629071932,
          51.899049812768276,
          51.795977143875916,
          51.811833152207164,
          51.81403373067872,
          51.81530685530627,
          51.84604015856011,
          51.83662585381279,
          51.85766053692061,
          51.94789620758232,
          51.92798543584617,
          51.94751479257904,
          51.91914475856917,
          51.90868310921412,
          51.88644858965987,
          51.88771009013222,
          51.870598583898406,
          51.880729796027545,
          51.87372227610559,
          51.87591804281298,
          51.87362990284685,
          51.85463205121596,
          51.86656991026967,
          51.865972738388855,
          51.90280491645656,
          51.90542134297443,
          51.90578831906816,
          51.892284945414694,
          51.805248110649195,
          51.82606655144777,
          51.80934718623795,
          51.83265646068235,
          51.86087124860844,
          51.77094943809544,
          51.78000173134359,
          51.76625307760673,
          51.790998361690626,
          51.711443170624506,
          51.709317091092885,
          51.70928344804396,
          51.70235152228845,
          51.704095108170506,
          51.71548479528468,
          51.73053652805486,
          51.73346914580161,
          51.73519564303749,
          51.74051949015601,
          51.676249903585315,
          51.67196191544694,
          51.65579003772506,
          51.67085617327784,
          51.67170896018408,
          51.65280666700961,
          51.65472264826028,
          51.68702846031303,
          51.68639715849671,
          51.69668399425531,
          51.68955694896661,
          51.67986192656881,
          51.63924146423465,
          51.64840287236106,
          51.63642415688946,
          51.64005457167682,
          51.66301194183346,
          51.66280868630477,
          51.6560863406452,
          51.65230137305453,
          51.650420669746524,
          51.683322738106014,
          51.6769445017504,
          51.68220982480457,
          51.68583324172288,
          51.714653703983146,
          51.687221842709185,
          51.69514760047076,
          51.68879997342355,
          51.66285115180253,
          51.688889670662135,
          51.656525343846006,
          51.67454711696889,
          51.67535313710996,
          51.65726477174054,
          51.64795003095379,
          51.74578751631794,
          51.750424991727634,
          51.752010403821615,
          51.74671054096559,
          51.72868616580062,
          51.74217576345053,
          51.76787706400668,
          51.73853674768193,
          51.73644251801306,
          51.75641322580163,
          51.73804090672135,
          51.74360744314834,
          51.759102344455464,
          51.70252079747448,
          51.71077505874373,
          51.681320666111475,
          51.67810147713959,
          51.697649004779954,
          51.67655650338028,
          51.698995757489904,
          51.702406047882015,
          51.831811689872495,
          51.8705826582561,
          51.862626796044424,
          51.85918126857851,
          51.84769011262884,
          51.85761205349419,
          51.85070541727394,
          51.84440724077886,
          51.8436523425911,
          51.7966733884325,
          51.855018782759146,
          51.86122310150758,
          51.92170523159609,
          51.90483934707492,
          51.90370854152762,
          51.95119062946871,
          51.95417076129385,
          51.96802579884602,
          51.88899638983816,
          51.866238760975534,
          51.85075534810631,
          51.853255068351864,
          51.84982395914942,
          51.835728785457626,
          51.91777186435652,
          51.955005899850924,
          51.952579346418105,
          51.94886918850847,
          51.93587398931548,
          51.931384682221065,
          51.883835324268915,
          51.87932834763798,
          51.94604991320364,
          51.94456441961438,
          51.963089230963774,
          51.9836519108918,
          51.95689797031904,
          51.89647808911027,
          51.903215229665946,
          51.90222630211217,
          51.901802477520675,
          51.91990619409662,
          51.923039495014294,
          51.87820070678595,
          51.87671368957599,
          51.886428094822726,
          51.85837026573814,
          51.89277815028002,
          51.86112022058135,
          51.794969927101995,
          51.80476844739155,
          51.80358507624898,
          51.802872559324186,
          51.80963225233829,
          51.805928633234075,
          51.77511989609617,
          51.7806404554097,
          51.77531623934921,
          51.777638202464246,
          51.72859533792185,
          51.70657107894542,
          51.715399935259775,
          51.74757652870864,
          51.78121453485199,
          51.785198781676165,
          51.78209274407985,
          51.7781956349086,
          51.79711653308958,
          51.776379947529044,
          51.78078451613794,
          51.77459005670194,
          51.77862954183845,
          51.886930920167,
          52.020641243858556,
          52.054316546271274,
          52.05279041289727,
          52.00968243765562,
          52.00966746083419,
          52.02756170872083,
          52.0019431275749,
          52.003404781888854,
          52.054930543543016,
          52.08205118609765,
          52.07161621090302,
          52.103112274137004,
          52.10390303195632,
          52.12113329874544,
          52.105783000966994,
          52.105392729666875,
          51.94037941810088,
          51.9364376316507,
          51.934699730122276,
          51.937949856025185,
          51.83509722403425,
          51.82750426187501,
          51.78938393709544,
          51.773958572124876,
          51.791343746858324,
          51.87553328299178,
          51.89171587304632,
          51.79686033903988,
          51.79239418812415,
          51.798836996669635,
          51.84929499320077,
          51.83376524632936,
          51.8385275827962,
          51.857931839840376,
          51.859531655655616,
          51.8421122913231,
          51.883550816642334,
          51.88398573460566,
          51.88376873790764,
          51.88434299334021,
          51.8814319687103,
          51.867808154351145,
          51.859389265857466,
          51.88736687367744,
          51.889950927451856,
          51.9419634066744,
          51.92710927907936,
          51.802445505870246,
          51.820893938043014,
          51.791191809406655,
          51.86229836942777,
          51.82855986748573,
          51.869442329224654,
          51.872800706701526,
          51.95123762249168,
          51.9415054887475,
          51.97490743363572,
          51.97396359700361,
          51.81984260890879,
          51.961445444781376,
          51.94217511488908,
          51.9898301466725,
          51.99787833057089,
          51.914689173694576,
          51.85435260683335,
          51.85666708109761,
          51.95200299033762,
          51.9145981573165,
          51.95203762409793,
          51.94700136254963,
          51.98805826475536,
          51.95964138812057,
          52.03948082950942,
          52.00766892670786,
          52.009521623716,
          52.02277308933208,
          52.026295728178546,
          51.34744644492426,
          51.376882426694905,
          51.38351036424051,
          51.39164179960826,
          51.385849977381945,
          51.36227069539787,
          51.37474941464306,
          51.368760173705276,
          51.3716113749028,
          51.371043659238914,
          51.35482704585925,
          51.35841799618557,
          51.36091864116457,
          51.33262207377613,
          51.30522102996501,
          51.299877376880175,
          51.28237169419307,
          51.28242094243265,
          51.27165786364085,
          51.27775429320285,
          51.27177201126233,
          51.26350787028024,
          51.27854419529406,
          51.26488121782747,
          51.2777322696968,
          51.271922536369324,
          51.282818251795625,
          51.28436847449133,
          51.289727328784025,
          51.28968977340357,
          51.289244316404535,
          51.29011689029136,
          51.297804346236205,
          51.29758476721328,
          51.28311671465463,
          51.395346469259216,
          51.39524382107557,
          51.30804797450045,
          51.30771662242657,
          51.30698749305582,
          51.306201326881485,
          51.30758494974516,
          51.309643421896816,
          51.30236654596982,
          51.30518993711621,
          51.30335090517205,
          51.30362869875014,
          51.303681330383434,
          51.30399740304271,
          51.299015445215154,
          51.306817480746275,
          51.30494194602213,
          51.30315735333855,
          51.31465693257117,
          51.32414763916878,
          51.40093182585628,
          51.40251374278867,
          51.40508565413556,
          51.32784154506223,
          51.34518198716924,
          51.33416510804359,
          51.33780493342611,
          51.33633856817069,
          51.34417800828864,
          51.339023071369205,
          51.34017821149722,
          51.34153493195327,
          51.338432591691856,
          51.34110828514548,
          51.339818429411,
          51.33806428789358,
          51.336400225310946,
          51.33490500821148,
          51.28734714121137,
          51.278611792645016,
          51.270812920953055,
          51.359715320238465,
          51.36463892836711,
          51.36669151147864,
          51.36992741772618,
          51.328422242070594,
          51.332641808382476,
          51.32894070947691,
          51.32854177143931,
          51.33034954502091,
          51.25507222769183,
          51.253912970256486,
          51.26836135455388,
          51.24203497945141,
          51.254900672319614,
          51.22016497057585,
          51.16599796253389,
          51.13834796108867,
          51.14220452839738,
          51.12969180774292,
          51.152886750791126,
          51.14749447690898,
          51.15688464033026,
          51.113782523773644,
          51.13412566720612,
          51.10633044065535,
          51.10863150921535,
          51.08679415273989,
          51.08641164864854,
          51.28782113196491,
          51.281131483404565,
          51.273383004198884,
          51.075203696767346,
          51.07638658267833,
          51.07768546105772,
          51.07702613230253,
          51.081042717657404,
          51.087868659582824,
          51.07122616350306,
          51.07981980787394,
          51.07318199180363,
          51.07393070119807,
          51.246573445250114,
          51.2901438432688,
          51.27214084557546,
          51.28057183435201,
          51.289720624006826,
          51.2728390376885,
          51.34538281735572,
          51.331569600361924,
          51.31386169880497,
          51.25361670979208,
          51.244779861249015,
          51.2223292917431,
          51.20979206865185,
          51.18741873407689,
          51.18654212803594,
          51.18294416823122,
          51.18584321927133,
          51.21553066046737,
          51.1817384694337,
          51.14018790087683,
          51.27293212506553,
          51.33736567930222,
          51.336479358193884,
          51.3505404989128,
          51.350197841686295,
          51.347894160727186,
          51.343740599253174,
          51.355515728283244,
          51.33954927547409,
          51.338337920791545,
          51.35555017821359,
          51.380326563336745,
          51.38924952873311,
          51.391075108786474,
          51.38684019392054,
          51.38598919913385,
          51.39162973343842,
          51.354641446177816,
          52.41250771640691,
          52.41156905736009,
          52.5513324320733,
          52.51159969990897,
          52.4782292544293,
          52.64422770920054,
          52.65502648560755,
          52.63584312294951,
          52.65303256045136,
          52.62608883850301,
          52.57466872546009,
          52.64485407028037,
          52.42305065779745,
          52.37749509234629,
          52.38017432484798,
          52.3730345610542,
          52.372181508731444,
          52.36915848516678,
          52.37031903455201,
          52.35593882059939,
          52.36900835317369,
          52.41069475008518,
          52.41027225458512,
          52.41097419104783,
          52.41031002275646,
          52.41045499085837,
          52.41161148202946,
          52.409785239724656,
          52.389625708265,
          52.318581963389505,
          52.302035282439384,
          52.33386248748866,
          52.387030537660955,
          52.327486858673936,
          52.33830669135842,
          52.319680108981444,
          52.30829936178319,
          52.41207787443228,
          52.29326159503446,
          52.289792053316496,
          52.29300481748643,
          52.29137293231486,
          52.29163174809227,
          52.29243171375186,
          52.29730060564694,
          52.296953070259896,
          52.31927239075564,
          52.317389267700285,
          52.311506268869365,
          52.23812363596636,
          52.24043078509188,
          52.231630866206025,
          52.22700704015359,
          52.20113552456678,
          52.281655943045045,
          52.28553410615199,
          52.19751441072104,
          52.173086341042335,
          52.19772809430044,
          52.09354899097608,
          52.16926742570424,
          52.18417754345324,
          52.11144634233983,
          52.15538928431131,
          52.126544965328286,
          52.108605974380175,
          52.107447931224534,
          52.10801414680143,
          52.09168830876146,
          52.0942353658118,
          52.31393478293557,
          52.32072540233571,
          52.30131736846591,
          52.33358171366851,
          52.3248580965984,
          52.326911648507206,
          52.30206476045234,
          52.32734253750052,
          52.23310200133104,
          52.25056116451357,
          52.27402444203597,
          52.2875432383878,
          52.27868840914313,
          52.27588166250474,
          52.28014085517714,
          52.280401947145144,
          52.28089192007663,
          52.0937734022078,
          52.11562498570909,
          52.087345693617706,
          52.050207373099475,
          51.98342967472344,
          52.10891614618117,
          52.10756998367062,
          52.1062136144053,
          52.027375828191275,
          51.98248982954046,
          52.19651784667676,
          52.23061456421944,
          52.22947448064112,
          52.22696109053823,
          52.21030205774832,
          52.19396941058307,
          52.134738211155955,
          52.134384723353826,
          52.15730447027967,
          52.148580036764244,
          52.145566628496475,
          52.16133087115335,
          52.11684720782858,
          52.11754902677484,
          52.16086441645138,
          52.16443445229489,
          52.16167261376629,
          52.161115826135486,
          52.162447958837475,
          52.16167588061542,
          52.12170666603983,
          52.121523069697865,
          52.122052743570336,
          52.12413052940431,
          52.1151284094054,
          52.18411892258297,
          52.17303933699308,
          52.368110796810406,
          52.367814864592184,
          52.24984044674726,
          52.25549617995352,
          52.17034771746139,
          52.16696458691611,
          52.165392176071286,
          52.169666874984955,
          52.24692194068734,
          52.2386256953738,
          52.43825138490946,
          52.424050872487214,
          52.42904010551933,
          52.40423661881084,
          52.452369059081164,
          52.432832928749356,
          52.447920394752984,
          52.48820731949932,
          52.45270555241128,
          52.32774895507267,
          52.37415287676874,
          52.34926091254991,
          52.36372452113369,
          52.354860489243734,
          52.34017693995745,
          52.33414122456284,
          52.34054836942422,
          52.352024300727024,
          52.57724092487466,
          52.55666739831044,
          52.55921526268717,
          52.60714649644255,
          52.64079458600989,
          52.65838790227104,
          52.65739405273034,
          52.60080746832442,
          53.13282505081395,
          53.12021869157291,
          53.08719923078627,
          53.07706252613986,
          53.173387854825855,
          53.17714242952161,
          53.23160014997172,
          53.19337293288767,
          53.16575464335636,
          53.14542635138659,
          53.138884286986396,
          53.141344892693624,
          53.14160215759494,
          53.146061202126695,
          53.15303502840699,
          53.152030732847784,
          53.12840135720005,
          53.20003648494285,
          53.195272457997795,
          53.193346361768086,
          53.20085436700202,
          53.17918638669625,
          53.15739378033833,
          53.17912534986123,
          53.19040660960908,
          53.16116743177187,
          53.181380973644636,
          53.06927347185961,
          53.078164514576024,
          53.09579614634215,
          52.990685039771606,
          53.03494964828585,
          52.973137643960804,
          53.21453259439922,
          53.22605176518762,
          53.06804253489572,
          53.095835625536054,
          53.132745564154156,
          53.0667340189594,
          53.026042119592596,
          53.02136736448031,
          53.02116697518571,
          53.01410592421546,
          53.03185669766548,
          53.03054459914811,
          53.00477448661943,
          53.0367422010909,
          53.02440373190217,
          53.02790512463995,
          53.0452152538547,
          53.04395855113156,
          53.0756754046547,
          53.21941981179257,
          53.166201753548144,
          53.19103875017995,
          53.196730795484164,
          53.125741589571035,
          53.13660013416387,
          53.11643645378464,
          53.119307982369364,
          53.1202811445668,
          53.1201554510619,
          53.20221463576948,
          53.26280821078732,
          53.24692769171797,
          53.2403882452939,
          53.233188369582095,
          53.218389478957384,
          53.26146322395727,
          53.2629193297462,
          53.27766090088996,
          53.25238976600382,
          53.2791533742296,
          53.25379095489282,
          53.279222963549344,
          53.2925796754332,
          53.30410277628268,
          53.316905103289656,
          53.30809053538996,
          53.30264179100473,
          53.252222304708965,
          51.43088757143361,
          51.44496562823279,
          51.4326957295818,
          51.44664919660588,
          51.438066004666105,
          51.4293381560533,
          51.40975641093985,
          51.40496162565502,
          51.36488892937386,
          51.36717603844179,
          51.34907208115401,
          51.354201037915615,
          51.381660372800276,
          51.37954942323791,
          51.36858758173507,
          51.35123246333127,
          51.32967994314187,
          51.34018612934126,
          51.377957629031684,
          51.37198937379933,
          51.43211167178595,
          51.41692398847308,
          51.42033195412559,
          51.429115211191586,
          51.406748931280326,
          51.39463277221465,
          51.39421153798395,
          51.3742818409466,
          51.3827500213937,
          51.377078982008975,
          51.3623147897905,
          51.36896194053443,
          51.369159678226346,
          51.36963902863443,
          51.37147124171964,
          51.37838523998216,
          51.36378660514367,
          51.389588659250414,
          51.45671529176109,
          51.48179835181708,
          51.48153305049873,
          51.48062135451972,
          51.4803732252885,
          51.45302937539166,
          56.46163968961692,
          56.46184770380155,
          56.794520985298476,
          56.79916094400812,
          56.725582022886634,
          56.558700202069,
          56.56156659692267,
          56.598475552244246,
          56.58860080711928,
          56.53702891645748,
          56.491312922796254,
          56.51228309698738,
          56.51455155063791,
          56.499780322124124,
          56.57984661841614,
          56.59075040654245,
          56.631492691270026,
          56.70448965239197,
          56.731908677987875,
          56.75642979786375,
          52.921952946487316,
          52.923063000517665,
          52.92625623581781,
          52.75763762643135,
          52.76469951741574,
          52.75474736488576,
          52.672183044842754,
          52.7110366716918,
          52.72132129995649,
          52.721710876451986,
          52.71283647800272,
          52.714207149904375,
          52.71485688300454,
          52.837791773909835,
          52.80451575261797,
          52.73124689883212,
          52.7489823190052,
          52.76992014793334,
          52.76668942255782,
          52.80003389855779,
          52.858701311077766,
          52.82079084582549,
          52.81352823556164,
          52.948072410927224,
          52.89125000264875,
          52.9084698926314,
          53.13535104322782,
          53.13553145319986,
          53.13996018443448,
          53.14018416679901,
          53.1500179720968,
          53.17420989490904,
          53.13001042824054,
          53.09839675021413,
          53.01273409925051,
          53.01963493089198,
          53.033024317730764,
          53.03695118108704,
          52.98161942769756,
          53.05138318593761,
          53.04682188564856,
          53.01426608372675,
          53.03431072242686,
          53.0541151593767,
          52.969748039294146,
          53.0952684683375,
          52.98175759532132,
          52.95018812497355,
          52.9788514227128,
          52.92732828959364,
          53.04904870372191,
          52.98459823659877,
          52.91937315809332,
          52.87123664817396,
          52.85282656732008,
          52.9198101184288,
          52.905082858223444,
          52.88021253575957,
          52.833882048650686,
          52.89893962647132,
          52.96789442530116,
          52.89506909233388,
          52.84038031912819,
          52.80116660004454,
          52.80082459953205,
          52.80116056645264,
          55.070687079704356,
          55.159829379186014,
          55.17104877065466,
          55.068299277903634,
          55.33624942513855,
          55.346679801175206,
          55.25693533544304,
          55.30649402671827,
          55.092904543313864,
          55.0622445188323,
          55.0440435632087,
          55.00898322679988,
          54.98498849289504,
          55.1331152666921,
          55.06640042642497,
          55.03699658287723,
          55.05600250347322,
          55.086726313235445,
          55.229672179286,
          55.29227372722564,
          55.214405377682,
          55.20425651282502,
          55.12081942013998,
          54.94147217647084,
          54.91758185613042,
          54.72850684371839,
          54.88049628723503,
          54.80593963573041,
          54.72185461604507,
          54.791201975487546,
          54.74446000346153,
          54.74757859055758,
          54.80854120113006,
          54.90295924371768,
          54.87827436508774,
          54.85404257650671,
          54.817870975039604,
          54.7835314725638,
          54.76861450736892,
          54.78813649714007,
          54.73945634214628,
          54.72462018749971,
          54.8360530169072,
          54.816745241648924,
          54.73454984275168,
          54.79591971774319,
          54.861769058501594,
          54.80969548324705,
          54.89392510065726,
          54.87522923539692,
          54.857441110273854,
          54.84515176354352,
          54.871972194682506,
          54.875216433545894,
          54.54195596391596,
          54.404133397203594,
          54.40197482053173,
          54.431214050146366,
          54.48367322860827,
          54.46387817592194,
          54.4210271621282,
          54.40968603157992,
          54.395913477440544,
          54.3905516761668,
          54.40841417666835,
          54.356897950676775,
          54.35544076431043,
          54.378721092522376,
          54.435401001838095,
          54.4296162934134,
          54.48514653861483,
          54.498749126708596,
          54.62561782072921,
          54.49193486987048,
          54.74304727987828,
          54.73776997729587,
          54.7806889398158,
          54.6135923293969,
          54.676184066192235,
          54.6410687583003,
          54.66235526408724,
          54.61427518174327,
          54.703342182672,
          54.70702643757495,
          54.66420596970424,
          54.51373732691257,
          54.501441430443215,
          54.51003358632296,
          54.534261831350456,
          54.56202086166585,
          54.53444593959014,
          54.49773273694326,
          54.59999090960945,
          54.5698617934642,
          54.57918886026039,
          54.54616713551468,
          54.55127968880523,
          54.54072677983,
          54.53195909925014,
          54.53452542776475,
          54.61017461588264,
          54.43209915152224,
          54.370249769948124,
          54.42951203879099,
          54.41356468781473,
          54.41856026862823,
          54.36805064972662,
          54.36801105604189,
          54.34357455543283,
          54.33116870696141,
          54.33062900235953,
          54.34079189194042,
          54.32316946000428,
          54.28571445931598,
          54.30819787260704,
          54.32565135557581,
          54.21924152330977,
          54.265318657847324,
          54.30354070746482,
          54.299518471897606,
          54.28604431775375,
          54.269271190548636,
          54.32911009128036,
          53.520363286895375,
          53.525992064607145,
          53.528317728177505,
          53.52206161416855,
          53.52038269938459,
          53.442534645836844,
          53.420046710836445,
          53.413111765942396,
          53.40159306471029,
          53.42824774234023,
          53.43219603880324,
          53.429500484157266,
          53.4334394624706,
          53.46916209730059,
          53.684936458084564,
          53.65313802657094,
          53.69049888130544,
          53.69013222494193,
          53.661762778004416,
          53.69908100951418,
          53.70167007922822,
          53.70311234289062,
          53.72544815311389,
          53.75062805065027,
          53.73116493822857,
          53.68543937586644,
          53.685046457205736,
          53.5648782399746,
          53.56693545367904,
          53.67797523076847,
          53.6752495412921,
          53.69596503888996,
          53.71067302637942,
          53.63667654444037,
          53.55294627598429,
          53.40834472406392,
          53.40074413681955,
          53.42685336080725,
          53.43641556173532,
          53.45367264741753,
          53.483441913188344,
          53.45385763480541,
          53.471749250742285,
          53.33148283617023,
          53.31918465854308,
          53.32231839010034,
          53.27046571074135,
          53.26357973958583,
          53.33534672040934,
          53.372198573286006,
          53.352100421789785,
          53.5057117012855,
          53.55238383769558,
          53.564435761142384,
          53.5635728298337,
          53.56396927052249,
          53.564450564056585,
          53.5642163741077,
          53.55796465658376,
          53.555363352349374,
          53.5294952862832,
          53.52413410274996,
          53.52714745265072,
          53.64600429427883,
          53.50101214103687,
          53.509362161426665,
          53.492999783299034,
          53.6134649797897,
          53.63147599858386,
          53.638537135078664,
          53.61616304715602,
          53.58822276585011,
          53.56878634227058,
          53.62317148166683,
          53.56465861074182,
          53.58194045479614,
          53.486122831162255,
          53.48338767050484,
          50.715222909588384,
          50.96668092792766,
          50.979915046982605,
          50.95638436674425,
          50.973335594022075,
          50.899654187899316,
          50.910234103553364,
          50.9190399648606,
          50.93009137986408,
          50.967056166240546,
          50.81268637520412,
          50.8586226868125,
          50.8794546744413,
          50.866592353000954,
          50.904124985013155,
          50.93170865371367,
          50.896802044165845,
          50.93003584264286,
          50.88692349139544,
          50.82035894033329,
          50.78020945117789,
          50.77515254713592,
          50.838311477552956,
          50.77719784148142,
          50.83233569811437,
          50.82150290285405,
          50.87287937312069,
          50.75862041144562,
          50.80991994848871,
          50.811099123784814,
          50.76235024457867,
          50.76782459412491,
          50.70155125618316,
          50.70174569733477,
          50.749389260501744,
          50.751020315998744,
          50.726131368205905,
          50.62149189788458,
          50.63540330229861,
          50.638937134624115,
          50.72773666929485,
          50.740795592671624,
          50.77077712885352,
          50.72302432337781,
          50.76159923771276,
          50.72287102591447,
          50.803774880830375,
          50.994534405793246,
          50.95596556833298,
          50.876428673869526,
          50.87062866177955,
          52.50819378619987,
          52.51368852874275,
          52.52046606208965,
          52.385022997282015,
          52.39332372427153,
          52.3942423150629,
          52.396561159907286,
          52.40480626394311,
          52.361713031842335,
          52.382635612359636,
          52.396801556615415,
          52.42987567162869,
          52.425951851388945,
          52.3892923422194,
          52.35415200520058,
          52.32793747537337,
          52.38644051507247,
          52.399061016603675,
          52.40341165333656,
          52.41437988486718,
          52.33151702408171,
          52.305555639299136,
          52.3080787673794,
          52.33696769785628,
          52.32697119258323,
          52.32239881569263,
          52.343826388702645,
          52.33701275963535,
          52.33091722428218,
          52.331361376586386,
          52.31985891507949,
          52.30845131877263,
          52.37675623340601,
          52.37933469172693,
          52.38032741491239,
          52.375718869065395,
          52.35173265843167,
          52.35655398540423,
          52.356780849676674,
          52.33528137848352,
          52.36361462702763,
          52.4920683076537,
          52.51286435515008,
          52.541758243173376,
          52.52749887624442,
          52.48076375436758,
          52.50982147053271,
          52.49664734316834,
          52.50902548690882,
          52.501982738047396,
          52.456139317961615,
          52.44755360253384,
          52.44130570285135,
          52.422913128407366,
          52.41711118871939,
          52.415357226066206,
          52.4575836674803,
          52.40943762125646,
          52.395003111791574,
          52.392804892612936,
          51.51658469828278,
          51.51472258102393,
          51.51305216989714,
          51.51335794215066,
          51.51197983847983,
          51.523088926406125,
          51.51831253765429,
          51.516595939659695,
          51.51422632290381,
          51.570158021264255,
          51.572816292345216,
          51.572460105667766,
          51.573707541397354,
          51.57874744779593,
          51.564575750858,
          51.49211498506846,
          51.50751673868209,
          51.50751673868209,
          51.50751673868209,
          51.512771900292975,
          51.51205454686947,
          51.50846660596705,
          51.50938816269879,
          51.51037534074152,
          51.50194427452368,
          51.50007528045746,
          51.50129028996448,
          51.527924087776206,
          51.53952846773521,
          51.58220325768009,
          51.58420989465519,
          51.587282570442305,
          51.58492642423299,
          51.584325810564835,
          51.597156567879026,
          51.50497072053642,
          51.5029979193307,
          51.503770201565345,
          51.504142057561296,
          51.50346183296461,
          51.50485435683245,
          51.50615332639957,
          51.527842302039694,
          51.52680216417625,
          51.526036467953254,
          51.53044334441719,
          51.531669075215966,
          51.530873997523,
          51.5296573395454,
          51.53465721338318,
          51.53021658242139,
          51.5406942603,
          51.53625564793753,
          51.5406942603,
          51.53713749521479,
          51.5406942603,
          51.54156202388512,
          51.54126791960832,
          51.53235350515962,
          51.5312464850366,
          51.53223986622597,
          51.556485852946096,
          51.567391740677884,
          51.5647831194622,
          51.565728258322586,
          51.564279675145194,
          51.513331724512106,
          51.546918575487325,
          51.54860495148676,
          51.54896789575228,
          51.54731454476249,
          51.55298056330196,
          51.55139044706484,
          51.54540755594894,
          51.54516050681705,
          51.53427386385365,
          51.54645096548955,
          51.54917202436689,
          51.53838008049732,
          51.52114457343444,
          51.523189430341944,
          51.52060434969796,
          51.52320626333646,
          51.523383280162896,
          51.52542213901205,
          51.51719033804277,
          51.51827592477873,
          51.51836447532818,
          51.50986240383229,
          51.51397767179904,
          51.510686531181754,
          51.513725139837916,
          55.947496549006395,
          55.94986119517317,
          55.9504701097465,
          55.934604531785304,
          55.93298909567871,
          55.91622939976001,
          55.915161832126955,
          55.92132037783808,
          55.92191625666121,
          55.915912557573165,
          55.898988817517065,
          55.89501318978738,
          55.93636028029805,
          55.94195584952446,
          55.92113470014291,
          55.9515216836013,
          55.946764612752226,
          55.942812793878595,
          55.94609557246369,
          55.90386287237502,
          55.90290024407597,
          55.908021416574236,
          55.9083833291894,
          55.90791990355991,
          55.901819104391585,
          55.92005973280774,
          55.91617390237859,
          55.89568987054338,
          55.911239657099244,
          55.884739393403436,
          55.88637647116135,
          55.85100555925764,
          55.951283846742044,
          55.9478917478586,
          55.94582691728102,
          55.929953408886824,
          55.95176139363536,
          55.94994807094737,
          55.88144769476506,
          55.90478541105303,
          55.87189266171744,
          55.878142711352936,
          55.856146697774875,
          55.844478856763956,
          55.850817799588775,
          55.81778029672698,
          55.787367998128424,
          55.88483523178113,
          55.85837708791145,
          55.91517107118586,
          55.96275080359452,
          55.9551760373199,
          56.03404223374841,
          56.03908568388869,
          55.94936138756846,
          55.94791419517497,
          55.91909285899247,
          55.891686233022696,
          55.89842446399074,
          55.7775915641621,
          56.05783374326681,
          56.0548302978092,
          55.95159636253378,
          55.95964833345829,
          55.97221485617639,
          55.97289786831259,
          55.97270442024732,
          55.96263069796157,
          55.96166730763641,
          55.96964085517834,
          55.964193152860595,
          55.966584829474634,
          55.96854360440767,
          55.96669298241689,
          55.965842976166975,
          55.966896099790645,
          55.96697222491174,
          55.96989824900734,
          55.96876475979992,
          55.97541661142728,
          55.97436552553338,
          55.95043135373759,
          55.95070449712277,
          55.95454281513877,
          55.90464347548405,
          55.90019598559602,
          55.96343757581351,
          56.024180070518305,
          55.63128729093849,
          55.684073538227615,
          55.66211809317368,
          55.71487766757616,
          55.77591880222696,
          55.75797114428381,
          55.75291263244513,
          55.752202667377105,
          55.75231938556991,
          55.87156267042252,
          55.84690370597632,
          55.858352813672575,
          55.92396479144708,
          55.922639649382894,
          55.915353862000714,
          55.98104533361822,
          55.978383874228136,
          56.00290588967776,
          55.91729202727061,
          55.91567154213804,
          55.94752067303669,
          55.96810539561797,
          55.95167967202362,
          55.89429597968201,
          55.89401508559751,
          55.909566105331216,
          55.83335095364938,
          55.80125571813254,
          55.835127010209796,
          55.97170228918826,
          55.97178060014585,
          55.98650159748439,
          55.98705435774693,
          55.986428983575884,
          55.9869625373925,
          55.95327757630493,
          55.94405316620203,
          55.93131146848791,
          55.93084777649133,
          51.642764634467255,
          51.65215013502116,
          51.747861982418975,
          51.745782161084264,
          51.7497719022537,
          51.74889608276074,
          51.731807756942395,
          51.73668710488725,
          51.75357126018638,
          51.75443622782571,
          51.75573278074825,
          51.75766559515444,
          51.75802852976099,
          51.75339822399435,
          51.76518527126309,
          51.77697200517465,
          51.666423018713104,
          51.66192320918193,
          51.6557489890938,
          51.65636235774389,
          51.6743519599687,
          51.64452724700358,
          51.67469860027946,
          51.67440158127736,
          51.671647904552465,
          51.65704152009032,
          51.65376837691092,
          51.64690877683937,
          51.668362951436784,
          51.67149696573566,
          51.67123155621059,
          51.67066292533975,
          51.6606829664055,
          51.66647246372054,
          51.66743566143539,
          51.66683327207988,
          51.66664816806738,
          51.66529091535625,
          51.66428418860074,
          51.66296540633938,
          51.66490994351449,
          51.66470343943592,
          51.6650882336167,
          51.66276875847855,
          51.66351187803761,
          51.672433988928894,
          51.672652611548386,
          51.64333502035507,
          51.63175738970777,
          51.65265031937482,
          51.65275936460886,
          51.64029808039459,
          51.64924327158723,
          51.648474625728596,
          51.65006595283071,
          51.640721212600376,
          51.64579845488863,
          51.64395881128998,
          51.646877842675806,
          51.64936193952477,
          51.641135438307586,
          51.660902730324615,
          51.66727710768806,
          51.658222278121286,
          51.65965509755974,
          51.70830235077021,
          51.70413569881599,
          51.6884915776414,
          51.693863387677716,
          51.70460751479732,
          51.71193410027376,
          51.71338716481013,
          51.710561236255856,
          51.69294469947007,
          51.71501066389929,
          51.71766016259335,
          51.69442737042271,
          51.701565112538376,
          51.718500986493915,
          51.719783710119934,
          51.72719830979465,
          51.713342326659884,
          51.71185054330709,
          51.71174940212313,
          51.713431702053896,
          51.71738334998719,
          51.71278802155129,
          51.71135350434051,
          51.68605982750578,
          51.69569927788976,
          51.70429013255966,
          51.68702846157364,
          51.7419199398011,
          51.71744428469432,
          51.70570256182373,
          51.733336075080594,
          51.74582309527028,
          51.66934244210404,
          51.698373661848855,
          50.71741931412029,
          50.79762324321482,
          50.76294962994932,
          50.77902160633324,
          50.79179091661115,
          50.780692160234125,
          50.779303247523515,
          50.77103609913687,
          50.78667700772026,
          50.78107332066079,
          50.863639378252586,
          50.847456502374776,
          50.85268027218957,
          50.853453200910074,
          50.83512922779976,
          50.77833739421195,
          50.7770334214422,
          50.86355809624686,
          50.85556019507354,
          50.872479395869114,
          50.865072236568196,
          50.89900947199203,
          50.89853492610481,
          50.92053669462512,
          50.91398187873089,
          50.91903166375302,
          50.89780916738182,
          50.902838995344595,
          50.94280242939986,
          50.9211415675402,
          50.89293659829859,
          50.93349366393584,
          50.96781059090857,
          50.91331121134528,
          50.95529162238975,
          50.901339377095134,
          50.93452652681201,
          50.97598631778933,
          50.989613237843145,
          50.9725123035766,
          50.96263419410818,
          50.92561452694528,
          50.803834358832354,
          50.780079366795064,
          50.86795438782693,
          50.755337576507316,
          50.78311461140899,
          50.808330170791365,
          50.81078832818078,
          50.80968968630515,
          50.86399516796657,
          50.87031756026306,
          50.912104709351276,
          50.90058253939368,
          50.856912811493046,
          50.71897072143057,
          50.71817851695496,
          50.719511098696714,
          50.70699633262732,
          50.70694091260107,
          50.70722877956685,
          50.68283276040392,
          50.7118493722509,
          50.737113844804846,
          50.71377748119192,
          50.70474867631543,
          50.75411154638802,
          50.83201657419963,
          50.657809671218594,
          50.660177134195166,
          50.7343473923098,
          50.689592083056986,
          50.7328094294731,
          50.74411098282669,
          50.8300955020112,
          50.8780959222168,
          50.85648153828144,
          50.740486084281265,
          50.764810858746564,
          50.848577183573205,
          50.7947195423836,
          50.798961429926166,
          50.90487261822782,
          50.81428092582181,
          50.79716152431745,
          50.7802630311386,
          50.73181895017588,
          50.734863460365375,
          50.845080230955666,
          50.87849559539427,
          50.906603388383765,
          50.76684346018847,
          50.731408101804064,
          50.73590819774518,
          51.05966724517275,
          51.15362727549714,
          51.12101158991314,
          51.12484250952892,
          51.18363870493952,
          51.18899562066453,
          51.121494559197444,
          51.15357343735839,
          51.14897082139021,
          51.11719953899437,
          51.10936886662795,
          51.16007721665098,
          51.188724432070885,
          51.17779635214467,
          51.20608893405153,
          51.18793542969965,
          51.196538286143436,
          51.22978698984841,
          51.22948365485828,
          51.209660623666245,
          51.01725276950796,
          51.09486297679769,
          51.05629679255921,
          51.01574270849249,
          50.9964007857902,
          50.99862720885506,
          50.97654335862348,
          50.95561776059859,
          50.994227593314776,
          50.931584819243106,
          50.985221129593796,
          50.98471747217885,
          50.936812524352085,
          50.894935855408285,
          51.02970027523564,
          51.01295183424845,
          51.000439637962806,
          50.96152265545918,
          50.964464414782206,
          50.99806495596509,
          50.73408791042206,
          50.73363526380899,
          50.73334656071058,
          50.73320284132082,
          50.732657998822695,
          50.7435571232483,
          50.75377626261275,
          50.693558636535904,
          50.72526117248131,
          50.74016616136141,
          50.73221028447039,
          50.75434841218052,
          50.771109016316736,
          50.763277376712395,
          50.77722213924439,
          50.83000469494205,
          50.8258539494677,
          50.8112657154533,
          50.82186905707109,
          50.83511222965747,
          50.840006039938,
          50.8125469160923,
          50.729943357773394,
          50.72861466095697,
          50.65193701770605,
          50.64774076888002,
          50.642777391618196,
          50.58403737190284,
          50.596420018568374,
          50.598458524981645,
          50.64898804876462,
          50.656349766844336,
          50.66034485794943,
          50.657248506073614,
          55.98211150789281,
          55.95663537163536,
          55.92705267525371,
          56.11400188332716,
          56.124861063622,
          56.12492890190188,
          56.14153328864817,
          56.16193189551948,
          56.14321536895075,
          56.17909249065481,
          56.17553997846833,
          56.17110444875777,
          56.17394755455422,
          56.18657369726505,
          56.20189488310006,
          56.22889402283069,
          55.98280860803186,
          55.972524247894796,
          56.01718049045896,
          56.1105132966727,
          56.12322538130066,
          56.125573617776546,
          56.167134677308965,
          56.16379722954789,
          56.13604827163946,
          56.15317885024337,
          56.14650029842155,
          56.15199756337219,
          56.15960122017196,
          53.82855674235577,
          53.83222749741908,
          53.802642748837485,
          53.80060835149863,
          53.84527357541335,
          53.83456960780597,
          53.813299265534866,
          53.81991457092746,
          53.8117669443568,
          53.774576443455565,
          53.78587937123928,
          53.78701537602403,
          53.78540619746966,
          53.8789468112911,
          53.87951622052612,
          53.91669109972278,
          53.92519514325811,
          53.84564046866247,
          53.849869438802884,
          53.82986207526181,
          53.8699567604043,
          53.879017242081495,
          53.884945209029695,
          53.74289943191968,
          53.74697807291527,
          53.75388276766223,
          53.769077030904036,
          53.752136438357496,
          53.75078805905773,
          53.752276840592444,
          53.74946785096427,
          53.7472771511442,
          53.765147047336555,
          53.77153176335833,
          53.7539004845698,
          53.73866247393814,
          55.8763554876639,
          55.88163327914575,
          55.8872200616647,
          55.89850142212236,
          55.86287648457281,
          55.858456932132,
          55.8782063827587,
          55.90157286299583,
          55.86261809433812,
          55.86331419914368,
          55.86676945981387,
          55.872448282824834,
          55.82740540513169,
          55.839424537411105,
          55.84072963468521,
          55.84110155697321,
          55.83814175446367,
          55.839359936162765,
          55.839915081075674,
          55.83542727378137,
          55.843535774575365,
          55.8437721888759,
          55.84217091138336,
          55.81486175695633,
          55.815841333098604,
          55.8135941724239,
          55.79613661674082,
          55.792412456205085,
          55.789232332054596,
          55.78528378164108,
          55.78595187822643,
          55.78400492092706,
          55.785526938561574,
          55.7853593160164,
          55.78380198694144,
          55.78303291337076,
          55.78413021826232,
          55.78183528974341,
          55.79664018005151,
          55.798817166769446,
          55.79957241223597,
          55.85379528897608,
          55.85379528897608,
          55.85381406796283,
          55.93277447196846,
          55.91276452934186,
          55.9181931429081,
          55.912785836253974,
          55.9327906678439,
          55.920895281177955,
          55.91779014145548,
          55.91537139318563,
          55.91930376988408,
          55.94699464705086,
          55.9389762590902,
          55.94996268046035,
          56.052254903048954,
          56.081468916463784,
          56.07373663584949,
          55.98600145341676,
          55.98996612719041,
          55.989633689134536,
          55.97642189869477,
          56.04314826447651,
          55.9816549702277,
          55.93939371244569,
          55.94707362881075,
          55.9244345858475,
          55.95590613540922,
          55.96810539187167,
          55.96824228561441,
          55.906999612250665,
          55.827147027709245,
          55.81013534934529,
          55.809081884140745,
          55.81264442597185,
          55.80236711811899,
          55.800311895644356,
          55.81030407447439,
          55.80575669944815,
          55.802015122900535,
          55.804455784607924,
          55.81686517732246,
          55.77752278731146,
          55.7688806938268,
          55.76950055749966,
          55.77133279699016,
          55.76962485993266,
          55.75617271300832,
          55.76807266545295,
          55.77080058632064,
          55.77013633553058,
          55.77665776442569,
          55.77898440341032,
          55.78255212809439,
          55.78197531981878,
          55.77988888792343,
          55.771319622891745,
          55.77223685568584,
          55.7889856323984,
          55.788743097446854,
          55.772547084082376,
          55.75536740404363,
          55.78105341638388,
          55.93549455527807,
          55.930294545840944,
          55.94431551338247,
          55.9942748570666,
          56.02500028526121,
          56.01060585795687,
          56.0098636808854,
          56.01023271209225,
          56.026868590266574,
          51.85965950644588,
          51.866659706338964,
          51.84546187970421,
          51.840354804315,
          51.707774246945945,
          51.683418170637005,
          51.655455576221115,
          51.69319031659182,
          51.63947456319444,
          51.63572944829888,
          51.64844094821575,
          51.59333036713142,
          51.645544488342175,
          51.634886097119235,
          51.63497344599761,
          51.596007148612884,
          51.580478770943664,
          51.609046117368756,
          51.638830926481866,
          51.63615846789835,
          51.70559905937263,
          51.666387446153806,
          51.66577507806978,
          51.65645293188009,
          51.711071715770004,
          51.822754969239284,
          51.80599218918765,
          51.793067929098314,
          51.736205236431736,
          51.73986937256053,
          51.70418781203674,
          51.68444871420309,
          51.69631553337962,
          51.76210708594667,
          51.72979010786267,
          51.812132061482814,
          51.81193379589196,
          51.865390496196504,
          51.864707265221966,
          51.96865658308038,
          51.95909407954447,
          51.94250703354869,
          51.938524938945676,
          51.94529513221795,
          51.870509935287686,
          51.99041490306801,
          51.956414593627905,
          51.97341652435472,
          51.95602145242904,
          51.958035380498956,
          51.71967935217959,
          51.79722209157731,
          51.79470058463635,
          51.893170645514964,
          51.88755658983357,
          51.888467729199675,
          51.84236639248148,
          51.919522376161844,
          51.90843856356873,
          51.9061879433254,
          52.01810404719434,
          52.02848149323815,
          52.03860506163992,
          51.967467772161115,
          51.965507813953366,
          52.038687866756256,
          51.831771883132966,
          51.83859594922065,
          51.828131187143136,
          51.827551130779824,
          51.82201786557576,
          51.82684273319242,
          51.71576401657961,
          51.721395382344575,
          51.73294446477772,
          51.72908354907471,
          51.704868876898026,
          51.7251534980148,
          51.72383910175836,
          51.894994325115384,
          51.893996225646404,
          51.89411357056477,
          51.884942933785354,
          51.90009059061766,
          51.900586695781236,
          51.899885921461085,
          51.91371355141263,
          51.8902451415907,
          51.90227782263873,
          51.90307836006868,
          51.91205481482785,
          51.91744133370053,
          51.9180319822554,
          51.89472144545126,
          51.898059562779515,
          51.89603479115341,
          51.880479180837646,
          51.86689687511791,
          51.79944314567132,
          51.865664811321814,
          51.868610648643696,
          51.85466186135013,
          51.92580929332315,
          51.89928781985851,
          51.92906608425826,
          51.9259562527005,
          51.851757821002465,
          51.91000711642835,
          51.90721242517452,
          51.91714567301637,
          51.86727809294703,
          51.88896489759618,
          51.83155827406375,
          51.7852825335627,
          51.83270659067547,
          51.854561341894154,
          51.789058665789064,
          51.87724891888011,
          51.83825255753287,
          51.85967594551754,
          51.873333031520374,
          51.95226387329444,
          51.92288012470808,
          51.99975350006343,
          51.955684955784356,
          51.88856778257926,
          51.99244309069593,
          51.991409947969494,
          51.97571317954976,
          51.95738081351385,
          51.98391466063736,
          51.98411265430782,
          51.929622144777746,
          51.94943814799407,
          51.942452194472914,
          51.99559767335447,
          51.99580555262659,
          52.04396055069283,
          51.69928599037998,
          51.68403911857228,
          51.678001406217,
          51.67979730744018,
          51.75292121494882,
          51.785523759696495,
          51.79077576784649,
          51.80108034542751,
          51.75095441428342,
          51.72892069284795,
          51.74292088575908,
          51.78700000895384,
          51.719084710956025,
          51.71504064511432,
          51.722323048264705,
          51.69537707273045,
          51.70461791855092,
          51.70212462231394,
          51.718796740637636,
          51.732668188944274,
          51.69435974909883,
          51.690707777214286,
          51.69195490763342,
          51.69399644297281,
          51.69236584719332,
          51.72006757995988,
          51.744645809810514,
          51.72935940106608,
          51.70210142603388,
          51.75637491693983,
          51.76269581886325,
          51.77679117381295,
          51.77854429550098,
          51.70592417474699,
          51.70581759298487,
          51.69426779673,
          51.667703465109945,
          51.758469354997935,
          51.75816088411603,
          51.77824538776726,
          51.71950039744142,
          51.6746179209402,
          51.672445472980996,
          51.65489241646036,
          51.67662743022621,
          51.65845430121537,
          51.67269689352245,
          51.64801403261906,
          51.73697930183233,
          51.70746107031793,
          51.648212268614685,
          51.75747304243906,
          51.726378449119274,
          51.75231285501258,
          51.779926345385554,
          51.75889593067388,
          51.79161452841741,
          51.787358466542365,
          51.614327178489525,
          51.62521406871638,
          51.59386814312136,
          51.244446259427896,
          51.24484741245268,
          51.25111951594078,
          51.24259072688033,
          51.24513701188345,
          51.2445327127666,
          51.24163387381683,
          51.23728623457873,
          51.23752964069907,
          51.237498946691716,
          51.23108238249694,
          51.22940396366639,
          51.22878679422859,
          51.226990858821594,
          51.2338809363371,
          51.226526058100866,
          51.22787668614396,
          51.22268487622979,
          51.20646645474056,
          51.205939958337574,
          51.20626974101692,
          51.20487740989037,
          51.2253708507743,
          51.217332705724985,
          51.211052867555836,
          51.210880591422494,
          51.20866575292086,
          51.209831483804145,
          51.21091166413574,
          51.20774558360337,
          51.189008941654606,
          51.19565585073295,
          51.19339029977758,
          51.18790829472919,
          51.14436884298732,
          51.141731738470476,
          51.14552722586425,
          51.134610312288885,
          51.136861494275685,
          51.13515177199814,
          51.13652595793764,
          51.13536859625768,
          51.13161654944206,
          51.14977385718882,
          51.17891528779668,
          51.1887788956972,
          51.187846387978674,
          51.18602444682664,
          51.191204002635175,
          51.19489101499139,
          51.200551680818016,
          51.1969221388195,
          51.16695069186095,
          51.15170868327329,
          51.19088821261061,
          51.19367874396638,
          51.23479359474424,
          51.23596616868504,
          51.247217521269455,
          51.21676248877532,
          51.21373727077936,
          51.21247635369294,
          51.20879445828318,
          51.20381097524895,
          51.22699996971322,
          51.24756927688469,
          51.249276249587204,
          51.24317349561717,
          51.24083704129878,
          51.295294952717825,
          51.30958605942484,
          51.3336038486331,
          51.330785544728734,
          51.339825311104136,
          51.337168227205936,
          51.33390733817591,
          51.329728578935935,
          51.331590698282376,
          51.336898559394214,
          51.34024525776473,
          51.34210112508929,
          51.345598036500945,
          51.31524673113565,
          51.31367900003171,
          51.34748271708753,
          51.37391261895928,
          51.360095711045425,
          51.22950992080551,
          51.22666600550419,
          51.229758993205344,
          51.36110749883718,
          51.365751334527104,
          51.36389149423423,
          51.377706972691,
          51.373893878294425,
          51.38478763738786,
          51.38003081343738,
          51.37033915327988,
          51.325181140451235,
          51.333901957060355,
          51.32392045710016,
          51.323989021345035,
          51.322949321127666,
          51.31152473740751,
          51.3075441804259,
          51.3030909831333,
          51.30792357194484,
          51.30212073821436,
          51.30696647037818,
          51.30795820159827,
          51.29636766809001,
          51.30248536723574,
          51.2972334315593,
          51.29588084612281,
          51.294893644848926,
          51.29306248097425,
          51.29017018489887,
          51.32072729688982,
          51.32058615002599,
          51.31209707997707,
          51.314201233773694,
          51.310420510626216,
          51.3169303826042,
          51.317109627669666,
          51.327013895706614,
          51.32808488188033,
          51.298017824264456,
          51.28533718716206,
          51.29023264967304,
          51.31094428500716,
          51.27959167977698,
          51.27744193321813,
          51.29110306255659,
          51.298845205838624,
          51.34346144291929,
          51.337918437465,
          51.33627066627626,
          51.33993196714424,
          51.33953274453079,
          51.339160211996735,
          51.34710092735554,
          51.34512866426263,
          51.33705341790711,
          51.342845431033645,
          51.35268931222954,
          51.36025942018735,
          51.36564632626614,
          51.34861156142491,
          51.3588646147214,
          51.35085163407177,
          51.35304362594249,
          51.3561664175978,
          51.36077045190449,
          51.364419125101655,
          51.32145439800253,
          51.32412549274346,
          51.32748614681382,
          51.330800029878105,
          51.32840101058641,
          51.34288357124879,
          51.40862046717755,
          51.40656352681394,
          51.40442226095332,
          51.40727691414307,
          51.39890122894598,
          51.395003826255376,
          51.39202380860372,
          51.388941555566944,
          51.39491959046447,
          51.39592867420063,
          51.396994336404276,
          51.3967165594146,
          51.40756667595745,
          51.40983175957643,
          51.41031838690902,
          51.3926843904404,
          51.39310918625035,
          51.39784055918124,
          51.40334603924089,
          51.40382727850276,
          51.4064830508692,
          51.40704741652707,
          51.40631396851396,
          51.4052715633945,
          51.40698326427977,
          51.40413640870502,
          51.402395601067894,
          51.39815773587764,
          51.40201333992701,
          51.40022950000774,
          51.404199748045194,
          51.402675856151916,
          51.40197761058957,
          51.400608388148925,
          51.40031448843191,
          51.40262081114513,
          51.40367171884343,
          51.40242095005151,
          51.108097272441626,
          51.10051855296935,
          51.096694615228756,
          51.108072449476,
          51.1108536907352,
          51.10976600837983,
          51.10553967129156,
          51.12325544344947,
          51.12253365552015,
          51.12382434732837,
          51.09099296672251,
          51.09232851322041,
          51.10700341096807,
          51.089569093530166,
          51.09913109622477,
          51.090808508673696,
          51.09766942388152,
          51.094580951138006,
          51.08515150993951,
          51.07741425088559,
          51.08168240251114,
          51.06262789137826,
          51.05347540335936,
          51.04967586153539,
          51.05063545996446,
          51.05224675452894,
          51.0765497470324,
          51.055593901898796,
          51.02736402751687,
          51.04706022726567,
          51.03509973377646,
          51.03586602737864,
          51.074457805759934,
          51.06596947382314,
          51.06381616977671,
          51.062256976547296,
          51.073960801594616,
          51.05216946190076,
          51.05222483885356,
          51.081620222675156,
          50.975846226279195,
          50.937888961865994,
          50.96391796917005,
          50.954216394879246,
          50.996955733587875,
          50.998504547035196,
          50.99616475554246,
          50.99862858448445,
          50.99835089827465,
          51.02417819079778,
          51.01855334954671,
          51.040307407685866,
          51.04712506397624,
          51.035430083593816,
          51.04062477994942,
          51.02900570372451,
          51.03768669368302,
          51.05836453982702,
          51.02053283801366,
          51.016961592987755,
          50.96219535052112,
          50.954027722856885,
          50.95665002286147,
          50.97868716502581,
          50.96146393847482,
          51.01410439593808,
          51.01494612810076,
          51.22606113423962,
          51.21740688524417,
          51.21490540319917,
          51.21160873258568,
          51.21877840775288,
          51.21271999141843,
          51.21368547634709,
          51.207545459740004,
          51.24243737188188,
          51.24100241856681,
          51.26118371580681,
          51.268889955162216,
          51.28770217442918,
          51.287208664818664,
          51.289068818387214,
          51.291827899141765,
          51.26438948194715,
          51.279682153222566,
          51.285672610149064,
          51.281344894087326,
          51.060371817248544,
          51.06106859174996,
          51.082204301964495,
          51.0330573419615,
          51.034411669784504,
          51.07810528883735,
          51.0610839453033,
          51.04902749257559,
          51.0371061746356,
          51.09452230932802,
          51.1038185082292,
          51.096756519395576,
          51.10694340809666,
          51.08452025005721,
          51.082365387607474,
          51.0280122519159,
          51.02592239034798,
          51.01713145359703,
          50.9696624923675,
          51.015445464413105,
          50.99667989790431,
          50.996092817756974,
          50.99816248764432,
          50.98751920454996,
          50.97530166735736,
          51.034751485871496,
          51.013828930758855,
          50.96879222221919,
          51.02636575843176,
          51.035538192949744,
          51.01753257003296,
          50.99286334830852,
          51.012404624118766,
          51.023059310230884,
          51.0302081049665,
          51.02712220372586,
          51.01174435640787,
          51.01670614328834,
          51.00423288510708,
          50.99457635564251,
          50.98767532613936,
          50.99364573348546,
          51.00784459323026,
          50.99240896151956,
          51.007429306023894,
          51.007237763677786,
          51.077904581133154,
          51.084509179564435,
          51.06892067227594,
          51.07398883464289,
          51.0460482645192,
          51.04580802970303,
          51.05596657190272,
          51.038124239613516,
          51.04318752749437,
          51.041292541707534,
          51.034914573703304,
          51.03118682240212,
          51.128664788626374,
          51.16177836655312,
          51.14811246317174,
          51.15002124371408,
          51.152270282960345,
          51.14997946452491,
          51.115912158837155,
          51.10457013095518,
          51.037691769462334,
          51.03747359489758,
          51.05149779350053,
          51.1583694500981,
          51.164562824398665,
          51.10032857061198,
          51.09857849522714,
          51.116173011962644,
          51.1145913579731,
          51.10334899891711,
          51.15761335283955,
          51.15572707547531,
          51.127167583349554,
          51.14045752392052,
          51.11764340650564,
          51.1102512450703,
          51.159454002946,
          51.159225292800585,
          51.09768157405991,
          51.10818344062195,
          51.11809225711801,
          51.12597434280534,
          51.11963174162305,
          51.12085890453325,
          51.11473768596843,
          51.12789099618383,
          51.13025575977677,
          51.12857138127667,
          51.133354137283085,
          51.13738705436344,
          51.14039364417295,
          51.113843007534726,
          51.2648534961429,
          51.28729335876813,
          51.27255719159296,
          51.285832064153716,
          51.25818939907958,
          51.25946845068283,
          51.26608643062033,
          51.27176641570046,
          51.22580803624501,
          51.22076845450823,
          51.22304628344985,
          51.211562288496836,
          51.23406215075121,
          51.23141545780296,
          51.23196566458786,
          51.23129995997357,
          51.22764265075964,
          51.208735496391945,
          51.235299371884565,
          51.346638162741655,
          51.196927293753824,
          51.19434134586408,
          51.19239079469381,
          51.18961778391043,
          51.18667603101459,
          51.165376674784,
          51.19142264416439,
          51.19293237150075,
          51.19126139754587,
          51.193482039690586,
          51.19488221598004,
          51.17382042141262,
          51.16977211283681,
          51.1801436996088,
          51.18926743632843,
          51.20914952763685,
          51.206129819126,
          51.19193281791756,
          51.187449025163794,
          51.21754988457077,
          51.20607617574507,
          51.19126807493741,
          51.194449350692736,
          51.210708074072706,
          51.195398058193504,
          51.22419069813285,
          51.29217392107328,
          51.29480464269909,
          51.29804994514336,
          51.29348032966802,
          51.2812303187851,
          51.28818969866702,
          51.285890552160645,
          51.28709031766025,
          51.283731258210516,
          51.28568369247923,
          51.28902056305917,
          51.16681796423729,
          51.16979963303226,
          51.15494446240986,
          51.163629436496805,
          51.15633859949563,
          51.131162687252335,
          51.09447419010744,
          51.10941221491816,
          51.11371842071426,
          51.12780863923104,
          51.15457314879522,
          51.16475595100125,
          51.18460652690663,
          51.180148035912104,
          51.176668364295935,
          51.18599117834001,
          51.18646108741456,
          51.169962809893654,
          51.20315767429922,
          51.19568021657011,
          51.20118029801445,
          51.20561913824527,
          51.17149820661963,
          51.15431102319533,
          51.17363487179511,
          51.179145094416455,
          51.16376230011414,
          51.1437827660908,
          51.13282055103171,
          51.13972754917746,
          51.141201754834015,
          51.15416733483136,
          51.150533370795955,
          51.13314769394962,
          51.137914888939314,
          51.14649572860656,
          51.15555606516412,
          51.112861386795835,
          51.12448904767629,
          51.10098647279299,
          51.098452329719045,
          51.106934148764715,
          51.10384026477983,
          51.07903708684694,
          51.12006432087316,
          51.10962673197079,
          51.11242140250738,
          51.12091637497192,
          51.10590678282095,
          51.100303035062424,
          51.10129433223487,
          51.172402097016075,
          51.17222585402608,
          51.141058628924995,
          51.126757780334536,
          51.133712747511176,
          51.13638503829496,
          51.13371967332151,
          51.197378505381906,
          51.194257331443346,
          51.19626135399682,
          51.196735316329786,
          51.18368844568097,
          51.12047896936031,
          51.149818082766764,
          51.14717129338537,
          51.21516022636231,
          51.217638079808644,
          51.21900619900355,
          51.215330384065616,
          51.199194169417005,
          51.210692277691166,
          51.21216690813203,
          51.202948075597455,
          51.56009611310773,
          51.55017023636174,
          51.59110951109893,
          51.59114728033737,
          51.566806520349516,
          51.56511687921161,
          51.56230477154852,
          51.56162593703157,
          51.58230037966774,
          51.58344952666324,
          51.56124516888381,
          51.57984635747484,
          51.59867974399567,
          51.593964541523434,
          51.594270944619296,
          51.611848080825894,
          51.619367466094914,
          51.59594809303241,
          51.57368026453531,
          51.57997965230291,
          51.59391394540242,
          51.61032684476169,
          51.61277031546601,
          51.61170214369748,
          51.60749942821561,
          51.615909288940784,
          51.613772240342705,
          51.604493197409056,
          51.60471329573158,
          51.61051132445377,
          51.60937351698912,
          51.60710721187082,
          51.623338042507285,
          51.625125546349174,
          51.61883700509782,
          51.616181349287885,
          51.622912031653854,
          51.630701250705044,
          51.630008991479215,
          51.630485980136825,
          51.620968574217784,
          51.62246370328839,
          51.62418408485766,
          51.626665484019036,
          51.628400065080335,
          51.62682679481598,
          51.62307180270729,
          51.62907833967836,
          51.62285864871353,
          51.61203871744119,
          51.61717253284193,
          51.6177384731848,
          51.61855424269425,
          51.61695079125545,
          51.60460922515832,
          51.605108938587726,
          51.602692386143055,
          51.60591527862481,
          51.60538382409201,
          51.60516874804919,
          51.60252052253171,
          51.60368218558167,
          51.602113182520846,
          51.62196808973261,
          51.625963650378345,
          51.61692877163056,
          51.615154087781626,
          51.615772219089585,
          51.622967347091866,
          51.617807328456614,
          51.61406891524203,
          51.61024819210759,
          51.6116948404025,
          51.61850083100974,
          51.622267963682,
          51.62258721559337,
          51.622522426870674,
          51.62228721717264,
          51.62068869534882,
          51.62738408529703,
          51.62670295578236,
          51.62906199319088,
          51.609694182471834,
          51.61242721755325,
          51.61123632221598,
          51.61644429382767,
          51.61793428535582,
          51.621045641317124,
          51.621083866958365,
          51.62258193331392,
          51.62467492763013,
          51.62125723292758,
          51.62517506009656,
          51.62514386589469,
          51.62155842211376,
          51.62888729327605,
          51.60676943527238,
          51.61286508333328,
          51.614864934969596,
          51.62546151063601,
          51.62636233623347,
          51.61741706361935,
          51.55210401304432,
          51.56309900400463,
          51.566035098775494,
          51.56865250632873,
          51.56498942296102,
          51.56830405429898,
          51.56402108551321,
          51.56512673304317,
          51.56383391357817,
          51.56456074661571,
          53.6732402490718,
          53.66022244678927,
          53.675204645845845,
          53.65882977928347,
          53.65496682161245,
          53.65985120583091,
          53.651908831163105,
          53.638960853822915,
          53.62660644358318,
          53.597346771085206,
          53.590946139640906,
          53.64402732152865,
          53.65126675929092,
          53.64624287571883,
          53.64202769189059,
          53.62922322650079,
          53.599032445298974,
          53.60913111716624,
          53.597993677137644,
          53.645671364030974,
          53.61145243279171,
          53.61090241045078,
          53.579113974169005,
          53.56884741611021,
          53.555703091420305,
          53.57406007388266,
          53.588576814434404,
          53.59018712058916,
          53.57713270150844,
          53.61368751511763,
          53.61715170102822,
          53.56857159742581,
          53.54355672547595,
          53.57978339948723,
          53.58622977559361,
          53.581991938984714,
          53.57854216058095,
          53.57164499734083,
          53.602698353949584,
          53.58946956894941,
          53.58396286366339,
          53.57321737982936,
          53.99797153683746,
          53.9945948955085,
          53.994087220430856,
          53.99320086516711,
          54.011509719712954,
          53.99361574403903,
          53.99325965594909,
          53.99187178153749,
          53.99040109932024,
          53.97536664146898,
          53.971123383434396,
          53.97342071770104,
          53.96882800364742,
          53.96030790574298,
          53.95595097136527,
          53.9485734749603,
          53.93899479794353,
          53.93790902276072,
          53.936604372380884,
          53.925099780036795,
          53.95930311228234,
          53.984523142145235,
          53.965250698408425,
          53.968970769990904,
          53.962257274497695,
          53.99055338232309,
          53.9827809796428,
          54.006483446446765,
          54.021459914850354,
          54.01140648662714,
          54.02997447524463,
          54.010092721017344,
          54.012472778245424,
          54.01704702334356,
          54.0352636364547,
          54.030693956067886,
          54.030195996709345,
          54.031362544976034,
          54.06476601026468,
          54.05997487983253,
          54.06775705485674,
          54.06226836417556,
          54.060208044698975,
          54.022081983902886,
          54.00828496717747,
          54.07349367939883,
          54.07424843784508,
          54.04884770500991,
          54.08725576104112,
          54.06756113754797,
          54.19104504122412,
          54.18372866629293,
          54.09632061164723,
          54.16562076055693,
          54.18860128169324,
          54.142517993312,
          54.147591646649964,
          54.165084330417315,
          54.155590518979274,
          54.149143453377924,
          54.26639353284436,
          54.14301056105574,
          54.20699828450456,
          54.20522577342593,
          54.205590315435444,
          54.04374046955465,
          54.01982690612998,
          54.025803000501305,
          51.74665823498912,
          51.75108816441992,
          51.75752164681613,
          51.79181479097831,
          51.79052489248981,
          51.790147230038,
          51.57628600316035,
          51.63554576520869,
          51.64286431475941,
          51.64516264340558,
          51.64662969293771,
          51.63839169889098,
          51.63149368717363,
          51.63004734562263,
          51.62906711218654,
          51.59425214189206,
          51.60379357826903,
          51.61877025605955,
          51.62866265858031,
          51.616297709323135,
          51.64754383181293,
          51.6319904955662,
          51.62961618259792,
          51.6305903330274,
          51.61778998506878,
          51.61744157271303,
          51.62130592444557,
          51.65936430116127,
          51.639725513060924,
          51.64772502177789,
          51.644858949946034,
          51.68308755661766,
          51.67589437011336,
          51.68019572640154,
          51.65307212796116,
          51.645308051685966,
          51.65736474055904,
          51.68571259060785,
          51.6788070531363,
          51.69143432267335,
          51.706577467692654,
          51.69712451741438,
          51.70418872066588,
          51.703362290674164,
          51.702200730109475,
          51.72934525712961,
          51.70605638216729,
          51.70493069417024,
          51.70726279042027,
          51.70915858852781,
          51.76468574334515,
          51.77580727805455,
          51.789482436234806,
          51.77658345192379,
          51.77056753466863,
          51.792670028807976,
          51.78842003320201,
          51.79412797043906,
          51.802434784155025,
          51.82445448063144,
          51.87948630258312,
          51.8328388451963,
          51.87647939819798,
          51.88132088946702,
          51.75569863919232,
          51.80299160536453,
          51.854705850627866,
          51.8066190275223,
          51.821232860014945,
          51.784616919783,
          51.75339223168566,
          51.811036006801416,
          51.810931081340485,
          51.8176331307988,
          51.819605345693766,
          51.85208568515787,
          51.88076169506339,
          51.863110568432305,
          51.876624535881184,
          51.88474673970986,
          51.87983434506498,
          51.85543438365587,
          51.80864085580285,
          51.841866921728425,
          51.804011572536034,
          51.78267726382948,
          51.79220861297715,
          51.77245582746172,
          51.75730109371711,
          51.757993462126606,
          51.74112613302761,
          51.75737993693473,
          51.81818384600499,
          51.82822079977736,
          51.824363161836125,
          51.788151427620384,
          51.79896470914371,
          51.76219551925693,
          51.78345191846166,
          51.758662151594045,
          51.77715857076931,
          51.775678336646635,
          51.690882203655654,
          51.735945079693806,
          51.73867811060135,
          51.738087724300534,
          51.71613705976601,
          51.7090596199093,
          51.739041019390044,
          51.73313724367166,
          51.7356788182427,
          51.72994747960075,
          51.738569486488146,
          51.73208644881376,
          51.72338499702415,
          51.7175773110864,
          51.7104951358478,
          51.70652372414273,
          51.70378701086141,
          51.73920678376511,
          51.73788263274523,
          51.727457158208374,
          51.73269972680997,
          51.774851596570876,
          51.80671162160193,
          51.80897798820378,
          51.81349252420303,
          51.81501821235365,
          51.81616177386121,
          51.80040298642926,
          51.79774925205121,
          51.81062484047136,
          51.803218475177665,
          51.80783668357333,
          51.75660897217046,
          51.75562772393043,
          51.76370638857971,
          51.765499484197846,
          51.76833044717503,
          51.77568719473027,
          51.775135509918115,
          51.76783141386823,
          51.75492205842775,
          51.75790512734825,
          51.762593784511154,
          51.75669396201481,
          51.751908503180104,
          51.705488938769854,
          51.70771552307095,
          51.700747280893474,
          51.68752533557981,
          51.683364389911155,
          51.7149972084539,
          51.741315040536215,
          51.74890811627323,
          51.719752191171445,
          51.73595833006459,
          51.735061380381396,
          51.69086842238476,
          51.6787637593747,
          51.6806530627453,
          51.680416062597175,
          51.68484218121547,
          51.68477582970378,
          51.68195260301634,
          51.68399671622583,
          51.68332785036358,
          51.68969289356744,
          51.680714816773815,
          51.67946973819656,
          51.65767164680921,
          51.68104323871123,
          51.65531475177326,
          51.671508190465154,
          51.66567371383061,
          51.66424369595372,
          51.66423446326326,
          51.66229178563479,
          51.66594440444052,
          51.637769881950966,
          51.63567530104697,
          51.63679448286348,
          51.637903385253665,
          51.6385351152247,
          51.64086100768042,
          51.6534406869756,
          51.65810792764821,
          51.65976096191427,
          51.66089875598332,
          51.6605617948,
          51.60859167680346,
          51.604833371082684,
          51.60565363688892,
          51.60418361104854,
          51.603513962224646,
          51.602349722088285,
          51.60651724920513,
          51.60155343572384,
          51.60137204469897,
          51.60238669139649,
          51.61061014184677,
          51.60805596246916,
          51.60817721703894,
          51.60882984123806,
          51.607159555800955,
          51.606941445408715,
          51.60799844747618,
          51.605986912415716,
          51.60936133223979,
          51.60514995939132,
          51.60903298932683,
          51.61817615860161,
          51.61827501388623,
          51.61754683651703,
          51.62239612882893,
          51.61827601125036,
          51.6217675881915,
          51.62201667062676,
          51.615176842552465,
          51.615445899307055,
          51.61582181304171,
          51.624087100195545,
          51.61448038604407,
          51.62418416707381,
          51.6159324154304,
          51.618757673949354,
          51.61412298559318,
          51.61384539980115,
          51.61930882515341,
          51.6174521658359,
          51.61671268147514,
          51.62300519688988,
          51.62312499970807,
          51.62614625325388,
          51.62169321702048,
          51.609210329941,
          51.61015178878389,
          52.136759791548975,
          52.078672789462075,
          52.094131539801715,
          52.130122676567105,
          52.05564787428423,
          52.072757872931874,
          51.95225682080964,
          51.99937003928247,
          51.98370446765102,
          51.96422922575466,
          51.89032567262069,
          51.900140166359016,
          52.075686752695354,
          52.087921998014686,
          52.07281335584979,
          52.156361269115166,
          52.166617052644796,
          52.1242820104905,
          52.09460640104003,
          52.09727905279078,
          52.18353413853116,
          52.19495752168642,
          52.10895147277807,
          52.15736503904402,
          52.19941399078773,
          52.19758581063536,
          52.28119549024069,
          52.27118051209567,
          52.24766516980497,
          52.25499906969754,
          52.22019110656655,
          52.229887064334804,
          52.19882515474531,
          52.2310709770629,
          52.18293767068264,
          52.26358227210651,
          52.31249635223494,
          52.18751155626851,
          52.11790001522933,
          52.218084587111605,
          52.243952957375924,
          52.12223498638029,
          52.059958101381625,
          52.08604657781754,
          52.061307513416395,
          51.99469454054502,
          52.00413451129619,
          52.016635816562726,
          52.03876253147059,
          52.008011875143964,
          52.05337449586682,
          52.03620672561992,
          52.06571552204512,
          51.88166310057633,
          51.870191738199196,
          51.87078889999878,
          51.865097994566106,
          51.86416055054715,
          51.88664566419592,
          51.939013641382836,
          51.91478823945888,
          51.91472574064025,
          51.89626792613027,
          51.93439201107366,
          51.93222460726706,
          58.22323436369745,
          58.22233494436944,
          58.219099910558256,
          58.241444903833056,
          58.34033501976898,
          58.231840626249046,
          58.23122090910996,
          58.485050634280576,
          58.31452613735731,
          58.332660836115075,
          58.20294529615694,
          58.09165455243895,
          57.166597996170665,
          57.10893307622295,
          53.74664500331173,
          53.82097087215798,
          53.81904553043618,
          53.829529399861684,
          53.86601928166021,
          53.83603854824931,
          53.73296550245489,
          53.7203511811468,
          53.73315892503029,
          53.73583223387482,
          53.73413270293327,
          53.731618016692934,
          53.73494195540128,
          53.73233718497635,
          53.75495147081152,
          53.738243956169924,
          53.76760809076842,
          53.75143309070122,
          53.75295322536069,
          53.76750996947335,
          53.88204397491574,
          53.8750534258,
          53.84764708474958,
          53.839357595658115,
          53.69047747964783,
          53.74603277855559,
          53.776076098670174,
          53.76038339816125,
          53.72322386144295,
          53.71941569291255,
          53.713636178567434,
          53.729737470125684,
          53.72132664284958,
          53.721279247042304,
          53.72822689137699,
          53.739625657698944,
          53.73800505020907,
          53.74469469212542,
          53.745826217545336,
          53.75653680083144,
          53.740071442580565,
          53.65605356403678,
          53.68299077926992,
          53.65913512817091,
          53.66282529327278,
          53.69116180162614,
          53.69971862431825,
          53.705841956666625,
          53.707873524055316,
          53.71404425235257,
          53.69559104020579,
          53.698195760666586,
          53.67352354809896,
          53.67259753122152,
          53.674366852976185,
          53.68231338772244,
          53.68457187304501,
          53.65784093786443,
          53.737495887894376,
          53.74918712461308,
          53.7556267702474,
          53.751382542721835,
          51.5483509328957,
          51.56046158655946,
          51.645938824588406,
          51.64636367556372,
          51.651622512453635,
          51.658676211885584,
          51.64909554985481,
          51.664566243531944,
          51.663132380129014,
          51.64450020172556,
          51.64550807557908,
          51.64674795184868,
          51.64661197330006,
          51.65260153833141,
          51.640755466229834,
          51.63603415087367,
          51.636031827851006,
          51.638215744508884,
          51.52810908597371,
          51.52729064540804,
          51.53534222739145,
          51.574837762060184,
          51.58524198945271,
          51.599816464033665,
          51.60876820106101,
          51.610347061709426,
          51.617523211829685,
          51.61639621225695,
          51.608494030969,
          51.60732655431894,
          51.60889042372385,
          51.608253290921915,
          51.60753334994648,
          51.60594059110874,
          51.6074245018111,
          51.60732656637817,
          51.60770874410769,
          51.60869514748659,
          51.633562784362645,
          51.62684207228091,
          51.63422340969445,
          51.62401806205995,
          51.62314435479986,
          51.62203025549706,
          51.62060306234594,
          51.62081223569383,
          51.60653328019369,
          51.606990529453,
          51.60718373605635,
          51.61682421462886,
          51.61048421329076,
          51.61317114932574,
          51.621299692907876,
          51.617988927028755,
          51.61631161587851,
          51.604130825835334,
          51.607754373191135,
          51.62654078045161,
          51.62783773652855,
          52.05427017659987,
          52.06797762372042,
          52.087344921327464,
          51.96168809928602,
          52.09794808344844,
          52.11793721494683,
          52.10646268409229,
          52.15966573540943,
          52.13254152776022,
          52.11240832181943,
          52.10467469716689,
          52.10634149194055,
          52.108034530847235,
          52.13748426621598,
          52.1725827500932,
          52.241524418072075,
          52.253360628919815,
          52.18953021135217,
          52.234395524435286,
          52.19165653192681,
          52.15760272333753,
          52.15590608116436,
          52.13424034968074,
          52.16981797061407,
          52.16555122680163,
          52.17462141812434,
          52.22209745154758,
          52.27363098612338,
          52.26589435057236,
          52.26983351039094,
          52.26711953933461,
          52.186672961059884,
          52.2511811766282,
          52.2494070514826,
          52.17678922434022,
          52.239945046973084,
          52.15776524942215,
          52.175211030747946,
          52.21951504076204,
          52.210130731557264,
          52.19810261750173,
          52.181259115600774,
          52.23591827733729,
          52.273406180108424,
          52.27566287214839,
          52.2628474272631,
          52.380173239504714,
          52.35964205772166,
          52.34056992595274,
          52.32330827403634,
          52.03781399049653,
          52.03978058470024,
          52.038676672796846,
          52.03965180781783,
          52.033277993764735,
          52.03219026427593,
          52.370163155726466,
          52.36944285799858,
          52.39875445971114,
          52.44487092273164,
          52.31774737719257,
          52.31414910994109,
          52.31546453687275,
          52.319888368179605,
          52.368276641817744,
          52.34308158034001,
          52.33537702000924,
          52.36590343298896,
          52.41020020288392,
          52.3284601642276,
          52.4014548007424,
          52.4259919557662,
          52.40556862335471,
          52.40064041928236,
          52.28691907073281,
          52.29215726372966,
          52.30651166515057,
          52.443924662252094,
          52.41940576385717,
          52.56486336005617,
          52.569730123459415,
          52.578508464487356,
          52.55674355255694,
          52.545998829799316,
          52.55489185911652,
          52.57122539668657,
          52.611774005703204,
          52.631206457847114,
          52.58023813193462,
          52.64001089874893,
          52.63324030926881,
          52.61510651464443,
          52.59527441498072,
          52.48694866701439,
          52.488566492051255,
          52.4919183375384,
          52.48813944068733,
          52.48638994729035,
          52.48948091991989,
          52.523139285886245,
          52.52349876926525,
          52.55585695535235,
          52.543586556002005,
          52.44656986074245,
          52.471083264108316,
          52.39246944351169,
          52.420834121477334,
          52.385146426719764,
          52.38512524038674,
          52.38771718074275,
          52.38891211671722,
          52.38923110248051,
          52.4243463386306,
          52.42319418986332,
          52.423800724375596,
          52.274131504610324,
          52.26455143939621,
          52.309913933092346,
          52.28557989110606,
          52.277378772695,
          52.27255010542254,
          52.33938224990161,
          52.34339515811125,
          52.344161039892725,
          52.37603504435029,
          52.37281775606781,
          52.40028612123283,
          52.37607065991458,
          52.36770338209142,
          52.30606363211282,
          52.37115705536381,
          52.37212234766061,
          52.30219772693731,
          52.30052623776895,
          52.37845689211621,
          52.33213940522956,
          52.355623417985456,
          52.302147691329004,
          52.37361897036707,
          52.29938206242109,
          52.37256546101145,
          52.37263193062453,
          52.370317622134756,
          52.19114451160649,
          52.18876292979598,
          52.23874965703608,
          52.19785966407686,
          52.198950769771784,
          52.19133686492374,
          52.19791948250596,
          52.16949031819102,
          52.16853549068084,
          52.207013866357705,
          52.2394059887575,
          52.228764119395635,
          52.20677742260737,
          52.314145604661974,
          52.30507945680895,
          52.32196994189368,
          52.32196855551288,
          52.2555379188348,
          52.30148933742085,
          52.27734104558385,
          52.25542022625315,
          52.256018580246966,
          52.25197836005577,
          52.240339288409324,
          52.233578682032594,
          52.055503560712104,
          52.05512611252947,
          52.05561010349622,
          52.055414312418016,
          52.052615944780186,
          52.06941551349332,
          52.119675390764776,
          52.12599898789389,
          52.085557049116765,
          52.08173294533004,
          52.083811410547305,
          52.11330774270964,
          52.133937277304355,
          52.173030177041866,
          52.0044489602409,
          52.12977241834807,
          52.1436668584965,
          52.04941267073832,
          52.03904407063737,
          52.10631273458624,
          51.96015964180834,
          51.9872873147762,
          51.98469995413935,
          51.990307517800225,
          51.990414067178506,
          51.99875218568528,
          52.00496512433446,
          51.98835699366843,
          57.58946242412739,
          57.58402877520668,
          57.72693045273236,
          57.741674863957435,
          57.740918451376,
          57.80870795164368,
          57.79078728486759,
          57.45380017073448,
          57.38462981836569,
          57.307518252856696,
          57.83826721415448,
          58.46850214747339,
          58.43884276377925,
          57.37918820722645,
          57.64093756415401,
          57.65881647840904,
          57.62906230374194,
          57.710827285442555,
          57.672026735042785,
          57.60431597382033,
          57.599236837361374,
          57.649616817295176,
          57.44039416478405,
          57.348048770220935,
          57.28985536608623,
          57.23879710116604,
          57.44024741278697,
          57.416209252731555,
          57.332149081522765,
          57.541589434821006,
          57.33560371602731,
          57.31482115987451,
          57.55232740840408,
          57.542451879374305,
          55.60823669615622,
          55.57993041701857,
          55.533277022871886,
          55.62730262560365,
          55.6580709441247,
          55.63015939075313,
          55.44599093930763,
          55.46430092451277,
          55.407717392634154,
          55.398828830229725,
          55.366383658566974,
          55.347057909899476,
          55.344520435206206,
          55.39496081760096,
          55.56129254569792,
          55.73718990228826,
          55.766310476089096,
          55.33188519236915,
          55.22736144645066,
          55.50124232776586,
          55.50003823614187
         ],
         "legendgroup": "",
         "lon": [
          -2.107889784239107,
          -2.1034986655591275,
          -2.2372677209671172,
          -2.25296515530999,
          -2.2895170514548413,
          -2.1673465467751,
          -2.245767985601871,
          -2.2397835662527616,
          -2.2385015265691446,
          -2.293235078421452,
          -2.2922238327788493,
          -2.3304935670096065,
          -2.139471929479185,
          -2.137432766731512,
          -2.134398094686964,
          -2.142680559748144,
          -2.169355546784477,
          -2.1530703501546022,
          -2.1573377481566567,
          -2.1655313619449896,
          -2.165015571485735,
          -2.1970416246000823,
          -2.221658775215885,
          -2.169384016596287,
          -2.2386534303917354,
          -2.247182703193903,
          -2.224807550491436,
          -2.1933058054509957,
          -2.1882797206136573,
          -2.1464545745268513,
          -2.090270156235065,
          -2.1024539617959963,
          -2.0997205782671764,
          -2.0912931511421817,
          -2.0945014576808214,
          -2.10059457882615,
          -2.1017838195667786,
          -2.1061936736675397,
          -2.4204083084048933,
          -2.4560304702587894,
          -2.4119294731291423,
          -2.412423135191258,
          -2.4688488313056087,
          -2.449721730290799,
          -2.548617783861537,
          -2.538352426977311,
          -2.650121591293241,
          -2.709615015283699,
          -2.7062438963730826,
          -2.343106147449215,
          -2.3938989567858555,
          -2.474990180740787,
          -2.538959660965794,
          -2.585465401537602,
          -2.623937896102112,
          -2.49403171693186,
          -2.705684405841295,
          -2.7436438057385097,
          -2.7577880973549584,
          -2.70378146178564,
          -2.798230055729986,
          -2.7787503953866546,
          -2.8087828969673314,
          -2.914305109592302,
          -3.047423891081736,
          -3.397241458299988,
          -3.2009134340142618,
          -3.180182875301343,
          -3.193039360264277,
          -2.15638174415878,
          -2.1615072746603516,
          -2.213297360486762,
          -2.2446083034059496,
          -2.3525330229053796,
          -2.132772609029968,
          -2.208933774940993,
          -2.256991738796664,
          -2.1886408665398034,
          -2.2836548991204166,
          -2.16733576581168,
          -1.9482157030622236,
          -2.138411019539121,
          -1.9573873591725806,
          -2.108238358573371,
          -1.8986163569209602,
          -1.8358069131154104,
          -1.8387706404572073,
          -1.8118994689315906,
          -2.017728951019911,
          -1.8889141146246549,
          -1.942601109612731,
          -1.9268377757975932,
          -1.9264496619352731,
          -1.9412774157801223,
          -2.010185699483432,
          -2.015081921442591,
          -2.104671699834986,
          -2.1087673421491573,
          -2.04622705604998,
          -2.0676604928711226,
          -2.1163949263446242,
          -2.3514607747067244,
          -2.2827353749077632,
          -2.392811900584706,
          -2.369404027203578,
          -2.4325053434752446,
          -2.3804413784182468,
          -2.417413403588623,
          -2.5970174860067914,
          -2.6065008116924204,
          -2.607128339952446,
          -2.5509133777781807,
          -2.6080227423220346,
          -2.608773548439921,
          -2.618686339955579,
          -2.4588254620142163,
          -2.1947943253709306,
          -2.4636318697495683,
          -2.42453720262037,
          -2.965777425227447,
          -2.6385786412450165,
          -2.6458845418435435,
          -3.099555919294972,
          -2.9294318244660547,
          -2.927528402772316,
          -2.8713914170544435,
          -0.3435572632593102,
          -0.330176972084805,
          -0.32998660348717834,
          -0.3292701922121287,
          -0.329852073533445,
          -0.3294723696578871,
          -0.3301749583233575,
          -0.3315365265677949,
          -0.32768036289071467,
          -0.33550244938806784,
          -0.3253122367762398,
          -0.32328917512886635,
          -0.3159110259951561,
          -0.30907009497586274,
          -0.3177544414265766,
          -0.31312309862736354,
          -0.3104475552830272,
          -0.30568144566039096,
          -0.29854704731303733,
          -0.3684522429165671,
          -0.3543018823271962,
          -0.3397994487340354,
          -0.4034581457501741,
          -0.4616256827532039,
          -0.4574597135878773,
          -0.45554967611916647,
          -0.46045269273706924,
          -0.46761972369945465,
          -0.46502957330087197,
          -0.46826619757039256,
          -0.27878571337896585,
          -0.29047110913446517,
          -0.289551565223572,
          -0.29517971526349485,
          -0.3037948124516639,
          -0.29593659739040107,
          -0.29506325737353034,
          -0.2778030971511973,
          -0.34272951512588207,
          -0.35228613229041206,
          -0.36056539266871895,
          -0.362747439240911,
          -0.36234288902525486,
          -0.36562530999122234,
          -0.36735322782681873,
          -0.36847991794981744,
          -0.36888064200887605,
          -0.3678578677257733,
          -0.35601160981613356,
          -0.3648185516777546,
          -0.3621284164696419,
          -0.36279877619313267,
          -0.360149667264799,
          -0.35650960357942074,
          -0.36352237172582985,
          -0.36338778910804487,
          -0.36049132985651394,
          -0.36133443936458653,
          -0.3619568839171267,
          -0.3594952070245612,
          -0.35950169152461925,
          -0.360538414107861,
          -0.36287843913655926,
          -0.3648113494048597,
          -0.3743406730826773,
          -0.37483126686717066,
          -0.37841310877550843,
          -0.3904174676807225,
          -0.4033191450606809,
          -0.36250668746485604,
          -0.35324563609826504,
          -0.35480154661082947,
          -0.3483987291091173,
          -0.3427726737405965,
          -0.34689087891661824,
          -0.33162461635094526,
          -0.17899340277934525,
          -0.18588460015628722,
          -0.18818518932283157,
          -0.18969926540078083,
          -0.1796155060528689,
          -0.17704639759618163,
          -0.2061198440134901,
          -0.16460456855150266,
          -0.1654325515845312,
          -0.16421475290069482,
          -0.15649014019800744,
          -0.16416775420419932,
          -0.14967558903137893,
          -0.16001894142118506,
          -0.16198801788080894,
          -0.20330036721541556,
          -0.2340167048423331,
          -0.26203652056146326,
          -0.2146635415513686,
          -0.2100424758635177,
          -0.20271007362070387,
          -0.1973138812038918,
          -0.19889168186293188,
          -0.2214050857728093,
          -0.21327181159315556,
          -0.18651458009510805,
          -0.20161755678453247,
          -0.20785173006664961,
          -0.24994393634552176,
          -0.21542908544488415,
          -0.19617517331870274,
          -0.1910161673464416,
          -0.15169643241083797,
          -0.1544541346844255,
          -0.15961616014178048,
          -0.16354583893951719,
          -0.17511872851171684,
          -0.17798638511636067,
          -0.18045316940388512,
          -0.18496065811041662,
          -0.22544052467596526,
          -1.9131746835864682,
          -1.914782817555231,
          -1.8378934194451482,
          -1.8550206373114746,
          -1.8462349986303002,
          -1.869571553946789,
          -1.8750681701564007,
          -1.8771396350089078,
          -1.8692488759585744,
          -1.898795837370728,
          -1.9156823694338647,
          -1.9147535191422704,
          -1.9104259506347403,
          -1.9084798560099905,
          -1.916984920606267,
          -1.919810012236462,
          -1.9332439085216575,
          -1.931967435709224,
          -1.9176634501534855,
          -1.9174172221372827,
          -1.932681788406596,
          -1.9275151498440481,
          -1.945700766569556,
          -1.9492313313028584,
          -1.9520401904813747,
          -1.9524809263918663,
          -1.9307980367837632,
          -1.9316350677030651,
          -1.9350678811571875,
          -1.9355128649725872,
          -1.9516555609616442,
          -1.928834904593343,
          -1.9288212638384619,
          -1.9281139393318403,
          -1.9215689472935542,
          -1.9469335582452971,
          -1.9739600142289424,
          -1.967349877312416,
          -1.9507993278735722,
          -1.9337033794233989,
          -1.9087810122692976,
          -1.9167357489323993,
          -1.9163523965244167,
          -1.9060161284007133,
          -1.9306425154334146,
          -1.9245651748711483,
          -1.930131238602133,
          -1.9230545143880402,
          -1.9229883254615308,
          -1.935664941017006,
          -1.9358267866905383,
          -1.8416451741715036,
          -1.8501987407288565,
          -1.8523744943555938,
          -1.8448486258487806,
          -1.8296102418639155,
          -1.929901234568829,
          -1.9205951723812063,
          -1.918663687331812,
          -1.9161860810415514,
          -1.923095469794026,
          -1.959423940354745,
          -1.9718750160121923,
          -1.9842886153141754,
          -1.9684418754104416,
          -1.9791762879426122,
          -1.7823340576098399,
          -1.782302046010211,
          -1.7825698147128441,
          -1.7677562606055366,
          -1.8033136032413526,
          -1.7365151631353746,
          -1.9267306496887235,
          -1.9008630858970075,
          -1.9429645646611362,
          -1.916977158969182,
          -1.986853168017391,
          -1.9984871767607448,
          -2.005198473828188,
          -2.005975860294675,
          -2.012833229889348,
          -1.9963282974474705,
          -2.018979514619178,
          -1.71645704210011,
          -1.6585002534440667,
          -1.6690172370516554,
          -1.9596319031683012,
          -1.9496539554727834,
          -1.900175406724991,
          -1.9450654840599246,
          -1.9598071369928818,
          -1.9196510466431647,
          -1.9456745058750455,
          -1.8630739953371034,
          -1.835760333005251,
          -1.8261826018808085,
          -1.8495388701165352,
          -1.8274300415620295,
          -1.822357608202006,
          -1.8986748771845174,
          -1.899087622854571,
          -1.9050669326128604,
          -1.8668913922201384,
          -1.8683240848208857,
          -1.854994251846538,
          -1.8446753179223878,
          -2.0080249003924813,
          -2.0223596711769303,
          -2.0546155683690537,
          -2.0627772956334485,
          -2.075848004065846,
          -2.057293046524218,
          -2.0606311495342253,
          -2.0639190565672343,
          -2.065113729945794,
          -2.059014666629224,
          -2.1065630756819274,
          -2.058814021811604,
          -2.121900224637663,
          -2.1319162478019984,
          -2.1305959135719097,
          -2.074624421716911,
          -2.037719884163158,
          -2.0483290169457837,
          -2.065348070388448,
          -2.0725795254605064,
          -2.0770524884934067,
          -2.0578637278882157,
          -1.9903513900213687,
          -1.9897621851839609,
          -1.9755875078466518,
          -2.0377755660757466,
          -2.0111763052536955,
          -1.9975247634991518,
          -1.8221976879114379,
          -1.8226407781462712,
          -1.821976522640827,
          -1.866276877921689,
          -1.868060382404113,
          -1.8224408191971255,
          -1.8313459331258148,
          -1.8391345862796111,
          -1.834476429701723,
          -1.8359129380905577,
          -1.834843435591604,
          -1.838274203775306,
          -1.8422094241574,
          -1.8412954630709786,
          -1.8326939974552656,
          -1.8354043424782291,
          -1.8321075706806562,
          -1.8346478349658,
          -1.8277933495681133,
          -1.8333950434820268,
          -1.8384899311453964,
          -1.8685391876870536,
          -1.8655507928346797,
          -1.8643504930677433,
          -1.8672260455484488,
          -1.8630717666192136,
          -1.8626665101983606,
          -1.86095826810682,
          -1.8763942892678032,
          -1.8697663722548303,
          -1.8778502945581834,
          -1.8640938365764728,
          -1.8590494318866149,
          -1.8338383607021964,
          -1.8254233868715743,
          -1.803913602901105,
          -1.776726525697741,
          -1.614790314014432,
          -1.743467870560998,
          -1.765083951892777,
          -1.7557077268378807,
          -1.5732987876419207,
          -1.7198520385809046,
          -1.7219600232577539,
          -1.6955432901688243,
          -1.6869496784755702,
          -1.8446445878701776,
          -1.8325303287920096,
          -1.7920594586057128,
          -1.8027065676764567,
          -1.8000024934156365,
          -1.7387530977376475,
          -1.745776225591001,
          -1.7600849368487714,
          -1.6972478323538995,
          -1.7057299761101932,
          -1.7080111860998461,
          -1.7103144268249444,
          -1.698699957018395,
          -1.8082594508891778,
          -1.6969592617127451,
          -1.701064586278391,
          -1.6971501701494305,
          -1.7330069852571177,
          -1.7236983645451278,
          -1.7367968565242706,
          -1.744762534771765,
          -1.7468092532238004,
          -1.731412784324595,
          -1.7397484044051457,
          -1.753652222917842,
          -1.8249783357301037,
          -1.8250915972805084,
          -1.8481121513658278,
          -1.846005019884638,
          -1.8514831407903765,
          -1.8686532667269757,
          -1.7766331098853814,
          -1.7490600717188078,
          -1.7424011849243295,
          -1.724711537227412,
          -1.7303301727860108,
          -1.7257482151974337,
          -1.72448708613456,
          -1.7500067466184603,
          -1.7306428924416142,
          -1.72247566048847,
          -1.7273032966869872,
          -1.7703275502790154,
          -1.8125784319079776,
          -1.7818268716869765,
          -1.7819438970960715,
          -1.7652782774154014,
          -1.7713649728902958,
          -1.9455287748076797,
          -2.0052701894147416,
          -2.0238208161130684,
          -1.9449595179688284,
          -1.9819410021306052,
          -1.9925094919491675,
          -1.9592414392317723,
          -1.9219021256051287,
          -1.9027671879145136,
          -1.8794617242175835,
          -1.8807550086315183,
          -1.8662492378843152,
          -2.361143237333312,
          -2.383526212662072,
          -2.3922111821618834,
          -2.36755753481346,
          -2.365334553984127,
          -2.369536338294766,
          -2.372113824236849,
          -2.338472256407598,
          -2.3016871041995226,
          -2.3161912504877504,
          -2.339643978522552,
          -2.3710732470754663,
          -2.387101256891091,
          -2.3138625280662923,
          -2.3050836105121593,
          -2.3839525040551868,
          -2.4031461873773856,
          -2.3773471333679255,
          -2.2885978477023925,
          -2.28032945010313,
          -2.2917633553623262,
          -2.1937567423684845,
          -2.0135878435967465,
          -2.254563654135165,
          -2.331675895194296,
          -2.135225158059271,
          -2.1666307534401374,
          -2.3219854070035866,
          -2.197369687510462,
          -2.15069896267447,
          -2.1711724591758417,
          -2.1825695916737833,
          -2.205525940297747,
          -2.0962067604077297,
          -2.2035023286570206,
          -2.147079612089918,
          -2.1544414924289628,
          -2.126065826739893,
          -2.2532728797941823,
          -2.2582961195651805,
          -2.2384902574411254,
          -2.282901808998326,
          -2.2587133800598513,
          -2.7381603604125915,
          -2.7790297222599203,
          -2.4817928386817103,
          -2.504797693780488,
          -2.3554595206243754,
          -2.340926895652252,
          -2.3491222600053354,
          -2.340608179776565,
          -2.3394062055645133,
          -2.3501257692186295,
          -2.335282720665666,
          -2.329818486738921,
          -2.336062886642585,
          -2.360028333267408,
          -2.352418050919699,
          -2.329105068018499,
          -2.314713943597277,
          -2.309658202904203,
          -2.313207165858552,
          -2.309785468358369,
          -2.2986380125763435,
          -2.2994462308957324,
          -2.438450022742933,
          -2.428002276835231,
          -2.3986065018107343,
          -2.414535262910738,
          -2.371939500564123,
          -2.3615896475414697,
          -2.390562091319393,
          -2.4444293861443644,
          -2.4054441621016402,
          -2.647819932448283,
          -2.616493800203371,
          -2.510174317126879,
          -2.619250858438987,
          -2.6440319480313184,
          -2.683257259733672,
          -2.6767682000015824,
          -2.703215326106434,
          -2.712726262765353,
          -2.680741042509627,
          -2.7216841411071715,
          -2.6673104951472983,
          -2.655068346571688,
          -2.6896718532364225,
          -2.4828280275906267,
          -2.4565237567942746,
          -2.5790013523981057,
          -2.5267574588069,
          -2.4567185035243075,
          -2.464519265961898,
          -2.3770560829329064,
          -2.4409875645125796,
          -2.3568031757096968,
          -2.3920846562516203,
          -2.5850505098475756,
          -2.6034759906204346,
          -2.545396395258594,
          -2.468486047403415,
          -2.5461050983913753,
          -2.574450310397979,
          -2.691552636285598,
          -2.703000930422726,
          -2.6768901701467915,
          -2.6920089134501217,
          -2.656418348224945,
          -2.656035318095778,
          -2.651228587377349,
          -2.6850683428913165,
          -2.3971975027750076,
          -2.3961315331557875,
          -2.3789297331894854,
          -2.415630500696153,
          -2.410683493032535,
          -2.352607450054867,
          -2.371230687678036,
          -2.3696935792678313,
          -2.5137373904966505,
          -2.513383757377872,
          -2.230205948609312,
          -2.180169534066989,
          -2.1863564641877598,
          -2.2612613112733504,
          -2.272044444717431,
          -2.3221904736908896,
          -2.364348676358319,
          -2.3706073436313844,
          -2.2735638032484218,
          -2.259517224964527,
          -2.179175646534355,
          -2.186991685959317,
          -2.1875022226472187,
          -2.1992058719521457,
          -2.2063516746527196,
          -2.1966956023230173,
          -2.2250125702413004,
          -2.122419500577045,
          -2.120328269331856,
          -2.5328233550113293,
          -2.5130283300024403,
          -2.5209345505706473,
          -2.51564354807236,
          -2.5134816523752246,
          -2.5115531624960292,
          -2.563643149043651,
          -2.5597679962604887,
          -2.541999331071262,
          -2.5536055364263803,
          -2.3404074150417515,
          -2.336929538826242,
          -2.3422032213280417,
          -2.265455188061809,
          -2.281429724650154,
          -2.2751583336267887,
          -2.257110286109124,
          -2.252494242003004,
          -2.234893012738491,
          -2.2335515703341007,
          -2.363667331820769,
          -2.4242090646752996,
          -2.371315919775808,
          -2.410002788305178,
          -2.4681235191924604,
          -2.469785899668566,
          -2.457100689115398,
          -2.457890912300511,
          -2.381915558698262,
          -2.3284989529814557,
          -2.5206097874716606,
          -2.449985990710017,
          -2.436069590647268,
          -2.4661069856527713,
          -2.499947342261872,
          -2.358373314998369,
          -2.261808008564167,
          -2.3578889503576352,
          -2.2575913764486,
          -2.3922901462367094,
          -2.4176496745330827,
          -2.458110146727561,
          -2.4859119270831975,
          -2.4828348365029766,
          -2.3970066612425964,
          -2.4777853234126432,
          -2.478250508799477,
          -2.476456703460677,
          -2.083349195797099,
          -2.18829188864287,
          -2.164659039986734,
          -2.145869688469642,
          -2.1246623021222897,
          -2.1716073469957755,
          -2.1937691802148307,
          -2.184984648900869,
          -2.240072972146878,
          -2.2140287182267118,
          -1.7539222414021771,
          -1.7514489509296667,
          -1.7450498000407129,
          -1.7441127643470333,
          -1.709779562990798,
          -1.7094437183885745,
          -1.6995335009352774,
          -1.7682662902296853,
          -1.8529289811865446,
          -1.866093185689594,
          -1.90383589028762,
          -1.8922558256348687,
          -1.904498783803614,
          -1.8575780354704121,
          -1.838676395475261,
          -1.8765688486104384,
          -1.8651095117076195,
          -1.7787046591343458,
          -1.7489040480942237,
          -1.805289901242457,
          -1.7194252891005146,
          -1.9438170173460079,
          -1.8454472668644633,
          -1.997240176994873,
          -2.0333692887290327,
          -2.0781471882379257,
          -2.0970746418650656,
          -2.0062947506488933,
          -1.962027390764569,
          -1.9932914769040802,
          -1.9607493131687768,
          -1.9477994348545118,
          -1.920701747853848,
          -1.903975951156917,
          -2.015006271563769,
          -2.002235146941058,
          -2.0627364001013406,
          -2.174259138924935,
          -2.1421706330920443,
          -2.1112768270299815,
          -2.099476630636324,
          -2.1002176852966516,
          -2.133257561727497,
          -2.1541217777438644,
          -2.1613849549157225,
          -2.1518052696621672,
          -2.1619386138660537,
          -2.145963459005081,
          -2.336764185304163,
          -2.0448361954164374,
          -1.8898176331805066,
          -2.0501522017910454,
          -2.29790748892365,
          -2.3009175265882655,
          -2.174870063379154,
          -1.7353990038866687,
          -1.7832821359244786,
          -1.7752233378034472,
          -1.7731318971983039,
          -1.7803876536889816,
          -1.7986700406553489,
          -1.8734278771660862,
          -1.8999253092660549,
          -1.909647602487162,
          -1.9184281018823632,
          -1.9144005042548304,
          -1.9110908643473732,
          -1.924711910772993,
          -1.927968432413571,
          -1.923697398165484,
          -1.9206011023889784,
          -1.9252589857959974,
          -1.9165648758132852,
          -1.9168246978053167,
          -1.9193946123998484,
          -1.9212036622013655,
          -1.9238018858970478,
          -1.9225628484761748,
          -1.923723009936953,
          -1.9273060700572853,
          -1.9229906943520563,
          -1.9326162939548466,
          -1.9335960114767146,
          -1.9380538414219033,
          -1.946173758029663,
          -1.9445408460660705,
          -1.9539457391931552,
          -1.9570201231788753,
          -1.9367773361343537,
          -1.9779752428340167,
          -2.001548269290355,
          -2.0405458589358987,
          -2.0579339146604223,
          -1.980820695830173,
          -1.9882642796965309,
          -1.879844185298722,
          -2.035084454948128,
          -2.1688980768053012,
          -2.1585629221195632,
          -1.9239023967760371,
          -1.9880892725545392,
          -1.9608589336449955,
          -1.9697403707656929,
          -2.014183047043591,
          -2.041279451553072,
          -2.034921760579895,
          -1.9815982086320187,
          -1.9911196912543214,
          -1.8810715781780243,
          -1.8598932944849935,
          -1.8662605894118807,
          -1.8939872951824248,
          -1.9735769992017096,
          -1.9873616312814926,
          -1.9149896749820643,
          -1.9339030714738086,
          -1.916356735989495,
          -1.9212566780187887,
          -1.9433437813376997,
          -1.935824592331518,
          -1.8713359726371155,
          -1.8701094883248388,
          -1.8978541383489664,
          -1.8987757570488737,
          -1.882193604606658,
          -1.8886422746302727,
          -1.7456997118985582,
          -1.7316097644334254,
          -1.6859267996112548,
          -1.7480460399110147,
          -1.712446272427028,
          -1.749535880081115,
          -1.807318648532037,
          -1.8065146813817103,
          -1.8089787017041352,
          -1.803384139332922,
          -1.813313254828487,
          -1.8329303981711091,
          -1.8335649335538824,
          -1.7892178297537877,
          -1.786714416400715,
          -1.7620369442760506,
          -1.7627996971563944,
          -1.7541304556097954,
          -1.757714110308025,
          -1.7726150800257137,
          -1.7986548772122954,
          -1.7322419739118349,
          -1.6766571706180544,
          -1.7084930421499087,
          -1.6842002112497594,
          -1.6472458887030506,
          -1.647263506503891,
          -1.6433466991192842,
          -1.6726801207369706,
          -1.6743916178576306,
          -1.6371262058153202,
          -1.8995373909639994,
          -1.7857237819487306,
          -2.3030930422723537,
          -2.311805525648373,
          -2.282140564718598,
          -2.339935353503978,
          -2.4525344076926108,
          -2.4793780300478843,
          -2.4808034657364813,
          -2.474894343170861,
          -2.484817418919107,
          -2.4915797778689446,
          -2.466716683031859,
          -2.4601089195016286,
          -2.430226810411851,
          -2.389629933409632,
          -2.467015004505698,
          -2.4619341895802935,
          -2.5079684964648243,
          -2.5036097898821064,
          -2.503939839599363,
          -2.4999878160945004,
          -2.5317287056191717,
          -2.5219922119285383,
          -2.5337653742972583,
          -2.4094233277310337,
          -2.3928493759638303,
          -2.385665567017277,
          -2.374406733302906,
          -2.387808238850119,
          -2.3988670521867226,
          -2.400140635418628,
          -2.390860033440953,
          -2.4151643593097614,
          -2.4109150102037042,
          -2.32442022977371,
          -2.356758267884366,
          -2.3431685552549335,
          -2.3375512548215855,
          -2.2958033761310723,
          -2.273575014886172,
          -2.264221690445589,
          -2.286783426596602,
          -0.14128130793983432,
          -0.15133717547015454,
          -0.15097912630797383,
          -0.1382199901107548,
          -0.15973198007178832,
          -0.16235670305111816,
          -0.14889431818654356,
          -0.102585346097299,
          -0.11360688196170907,
          0.008610117013921762,
          -0.3825271663635052,
          -0.38893460856190937,
          -0.40006201058371943,
          -0.42951001367708647,
          -0.44654287304843,
          -0.4089760205340475,
          -0.3137043173457767,
          -0.3105244418484265,
          -0.3264945476458606,
          -0.45783388534937225,
          -0.5186323492464247,
          -0.5185690653935084,
          -0.517996204876474,
          -0.48985023327406346,
          -0.5788877085585918,
          -0.6136970286884589,
          -0.5934058211605996,
          -0.5547643209774684,
          -0.5353693447779907,
          -0.5151388686954125,
          -0.5205197720041381,
          -0.1244593584217743,
          -0.13215407753612665,
          -0.12366414656709405,
          -0.11335420053581938,
          -0.09157168787419712,
          -0.09185808491608001,
          -0.03579985320736502,
          0.2068034753766599,
          0.2674935878464537,
          0.2693173234455449,
          0.29237715570012274,
          0.28323719807440817,
          0.2685881138180294,
          0.33133954768847057,
          0.29115891154121903,
          0.08914068470772092,
          0.1653366820401074,
          0.23963798328051972,
          0.24255704261150002,
          0.1989780124004742,
          0.25342015413749214,
          0.235195274786254,
          0.2206176935931104,
          0.2039155194980491,
          0.24838646764934255,
          0.3169743585360032,
          0.31728660476499954,
          0.31746145331544096,
          0.3402486776882611,
          0.3437047462180533,
          0.3378863987685204,
          0.34363012452047276,
          0.3432836020831478,
          -0.16113683622957703,
          -0.16151837321634216,
          -0.16872288292106113,
          -0.16962047007875275,
          -0.16925678700718652,
          -0.1623191992373708,
          -0.1669332221757479,
          -0.16931989885758128,
          -0.17162725951404492,
          -0.16612379985880968,
          -0.17388782129068417,
          -0.20216319558553977,
          -0.27257349692730626,
          -0.2085862061459449,
          -0.27952603140749105,
          -0.2508733912069916,
          -0.24046304387138942,
          -0.24103844119482495,
          -0.24778302041729589,
          -0.2712039128419466,
          -0.24782257983411501,
          -0.22574147707115302,
          -0.23805488967260058,
          -0.24498394484870664,
          -0.278537451692435,
          -0.27249650707158685,
          -0.12396797112134561,
          -0.08824561041506875,
          -0.07936131080813627,
          -0.1075244332066071,
          -0.11455523401417898,
          -0.11491011843468503,
          -0.10968767064314897,
          -0.09539477719455997,
          -0.20091655475854003,
          -0.15734920661748256,
          -0.1880002900522132,
          -0.1574882248446492,
          -0.16883667333191804,
          -0.17147913065486337,
          -0.17040761761068857,
          -0.18038210279978018,
          -0.04176857358581455,
          -0.021618901603488026,
          -0.00895116533158197,
          0.0041294242730877725,
          -0.005870866415277056,
          0.015263222603668957,
          -0.03136498400070184,
          -0.02851722113884017,
          0.02796903628980447,
          0.009880350377191514,
          0.014879863105412436,
          -0.00031361814481157575,
          0.020330920403264157,
          0.03722326441851343,
          0.04873468081854144,
          0.06358268525796386,
          0.006163991666079305,
          0.07753219861019717,
          0.20279718244266773,
          0.17372394671180064,
          0.1670127137606951,
          0.11877615488848564,
          0.12333391291627438,
          0.055943327450782426,
          0.016641537428250152,
          0.01836168538313232,
          0.04755542815463127,
          0.051615910964174054,
          0.05044772202606885,
          0.0514623562834909,
          0.05930853219595662,
          0.0493544512556743,
          0.046663710973696426,
          0.04246318753535079,
          0.04124326726615386,
          0.04257069557958981,
          0.02921672991000147,
          0.018203688149763083,
          -0.0039453752791239576,
          0.007018635302169827,
          0.002952201335461021,
          0.03269268046627414,
          0.024484804854965223,
          0.0479455312795632,
          0.04261313193385094,
          0.04489432183080027,
          0.048196947350526625,
          0.014754150730382852,
          0.019701268747779523,
          0.015067076334743586,
          0.017222402821189926,
          0.03688017082706761,
          -0.016695040878225726,
          -0.023511850784440826,
          -0.022830280364409036,
          -0.016355566905824914,
          -0.03483962889418712,
          -0.022707287826986645,
          -0.00983813633981362,
          -0.008838289931021039,
          -0.008804869880508603,
          -0.019776792942154335,
          -0.013977137531179035,
          -0.008426665617391022,
          -0.006250323966855363,
          -0.018711284096675766,
          0.07227477128308861,
          0.11377628532647331,
          0.13636101877023224,
          0.13679153284890752,
          0.10008152683749806,
          0.1259197557319658,
          0.10526596836952398,
          0.11026945649935838,
          0.1123234432151501,
          0.13909799138743498,
          0.15980741546248636,
          0.14801672646383496,
          0.10790890737958815,
          0.11166353180500778,
          0.11781357092302307,
          0.0511914773439806,
          0.053351063403542814,
          0.05456441575870665,
          0.0585567983946173,
          0.05983402129616686,
          0.05570819380129165,
          0.05235758298088806,
          0.05139814226395121,
          0.050148412886585655,
          0.049050206583678854,
          0.042001021690293384,
          0.0656103077474637,
          0.06701304400513282,
          0.06749966705564567,
          0.056017358494918734,
          0.05260352268096824,
          0.05477778117060241,
          0.05275916579754051,
          0.06004842363030005,
          0.07103546612283336,
          0.06898329749826111,
          0.07963511091256541,
          0.07322317646089929,
          0.09570512257596128,
          0.07825756116451744,
          0.08795444219611148,
          0.20610927310444033,
          0.17947629505821572,
          0.14422355300488202,
          0.18083661102958495,
          0.15948796885565125,
          -2.592156778202473,
          -2.59875998559818,
          -2.5895312042494014,
          -2.621963913896486,
          -2.661607882710038,
          -2.5842397606021277,
          -2.509635018731688,
          -2.4865159197981503,
          -2.4769607110694203,
          -2.466126574322566,
          -2.7579647408232595,
          -2.769780558118871,
          -2.7779378918278232,
          -2.8317996724447787,
          -2.827770141949135,
          -2.898607898045003,
          -2.9435095395140016,
          -2.9747746646236743,
          -2.993142969538271,
          -2.918739504084625,
          -2.9271313018037364,
          -2.873121227459407,
          -2.807807259118815,
          -2.833893731519159,
          -2.8523246650591636,
          -2.7613089507969653,
          -2.838148638702517,
          -2.7966527149530305,
          -2.804063290214274,
          -2.4064646585818634,
          -2.4358749727305353,
          -2.4301501400487777,
          -2.453243117720519,
          -2.5114086848573556,
          -2.5259597280957626,
          -2.4648322419325672,
          -2.582805276781476,
          -2.5964698047046135,
          -2.566583353904494,
          -2.560735221479279,
          -2.5459623078656852,
          -2.527860989209483,
          -2.5750831605385023,
          -2.5786115808931966,
          -2.6138953880654885,
          -2.6188244120415543,
          -2.509912969152364,
          -2.516583064483852,
          -2.386246891051975,
          -2.359025620463468,
          -2.380605850015776,
          -2.3819797752480842,
          -2.435221018235306,
          -2.436237016998667,
          -2.4484461999837612,
          -2.4504889086245294,
          -2.4370695534539,
          -2.442933130408944,
          -2.435517094902858,
          -2.458332039225482,
          -2.547637737771567,
          -2.565148087946732,
          -2.511674006089059,
          -2.6022061418834883,
          -2.5067812757920804,
          -2.7658532397197435,
          -2.7586702838421875,
          -2.6962051938320752,
          -2.6695164864291,
          -2.6568332268342187,
          -2.6251936930855795,
          -2.5965744181412327,
          -2.637085124551825,
          -2.616479295623443,
          -2.6501922895387793,
          -2.751998369315465,
          -2.7354784213210914,
          -2.7276875574686663,
          -2.744786142336433,
          -2.6987478678322696,
          -2.7456695473529646,
          -2.7522602606773057,
          -2.6772371558224997,
          -2.7878495831839705,
          -2.605813694632898,
          -2.60474412940288,
          -2.6048255110041896,
          -2.615090886494911,
          -2.5790931582903953,
          -2.5795022710189563,
          -2.5791156442384184,
          -2.581447510736745,
          -2.609680067537338,
          -2.6104202615401473,
          -2.612275063203133,
          -2.6553004542527026,
          -2.7048103573398126,
          -2.695928603831444,
          -2.6178370926945718,
          -2.628380804408226,
          -2.633024492831182,
          -2.638646526282382,
          -2.644629025354473,
          -2.6193654492993104,
          -2.611426319784339,
          -2.925514938805909,
          -2.9228047343165477,
          -2.591389042032835,
          -2.702841956187053,
          -2.598997730555214,
          -2.7074907252272244,
          -2.590853827138495,
          -2.7159523282642932,
          -2.778704604820521,
          -2.643027392841044,
          -2.5505265024753685,
          -2.752140827166955,
          -2.746165118290881,
          -3.0684769941130625,
          -3.1618290372596576,
          -3.383138556573778,
          -3.3710020077916925,
          -3.3145214166282284,
          -3.5378852645011674,
          -3.5336891400507904,
          -3.4651447649597125,
          -2.5600082233825847,
          -2.3918151213361596,
          -2.397151891744966,
          -2.407683051090924,
          -3.3646123233645606,
          -3.538296583121807,
          -3.5670755237756104,
          -2.891800653108231,
          -2.839996753855478,
          -2.7717045169934353,
          -3.0800657843416293,
          -3.0440898147573807,
          -3.039711506796909,
          -3.015962022296539,
          -2.995910087356782,
          -2.948392280216179,
          -2.8664591905853896,
          -2.8522929503341925,
          -2.804535513723004,
          -3.265621067436366,
          -3.2557347856504273,
          -3.2539321012318356,
          -3.089211785779954,
          -3.017641911379512,
          -2.741879089444388,
          -2.7068011408922383,
          -2.7299694463693087,
          -2.573853190982927,
          -2.4551306237759416,
          -2.408230198833786,
          0.1298657862873009,
          0.19012647126792961,
          0.19286340590065695,
          0.24932274269887894,
          0.3182426724559971,
          0.34219352644953943,
          0.30341019894758164,
          0.31700726977503957,
          0.31402388620467653,
          0.28728941710485695,
          0.37758968075871324,
          0.3763398431380202,
          0.341864237776039,
          0.3374832864569077,
          0.2551946619944409,
          0.27616582954900615,
          0.3168592557267584,
          0.3351750149532676,
          0.19587624030915318,
          0.24759461499520535,
          0.2688413292254186,
          0.20591942053806386,
          0.2200379327694429,
          0.2372313655216102,
          0.23641263379583075,
          0.24445188194650389,
          0.2221878299150759,
          0.20821200503818957,
          0.12726558179494202,
          0.20649113203678346,
          0.1890913639769091,
          0.1192294111606061,
          0.11875389589911128,
          0.269771529025764,
          0.2783216755318642,
          0.31078706759881897,
          0.35276436332724037,
          0.2653670522594859,
          0.23071665039892045,
          0.24518784788808293,
          0.23401852545309076,
          0.2413693668897784,
          0.21294927446070158,
          0.14083661616163753,
          0.12888896651128184,
          0.1377643124299018,
          0.029980422382851347,
          0.024330579412765032,
          -0.008549338518551814,
          -0.06209614262666133,
          -0.06115650525847943,
          -0.08939096602520316,
          -0.06745055813504258,
          -0.07393877218262157,
          -0.06498591179712976,
          -0.06145046550391356,
          -0.08116399886643451,
          -0.05920313043716093,
          0.009374461370128801,
          0.047622202214917295,
          -0.0008827930602247359,
          -0.014851136095144091,
          0.07011426210804374,
          0.1378874881699551,
          0.10682535778148788,
          0.27801077280762754,
          0.1851157859168336,
          0.10435635013845077,
          0.08284563211654891,
          0.13070516644076294,
          0.13215843328892024,
          0.21080823282705324,
          0.23713568251036285,
          0.2243266383834816,
          0.22646106719127695,
          0.21613325135708997,
          0.24405614284797414,
          0.22331022748530652,
          0.1423775896371352,
          0.2093436715457905,
          0.14385303318600726,
          0.22471850122053746,
          0.32997615464736735,
          0.3840551766421132,
          0.42350804801545067,
          0.32351634096928056,
          0.2741810989363034,
          0.3392606083725308,
          0.41193580143683733,
          0.2968370585514546,
          0.37727549244820646,
          0.37938615625023064,
          0.3192086267540694,
          0.392543781014841,
          0.519020021317756,
          0.549722362656679,
          0.5561732487685758,
          0.553580103751489,
          0.36245706140159767,
          0.4625469316281735,
          0.38573103267863107,
          0.4662360246750725,
          0.5052471150016492,
          0.4422623718157814,
          0.4646800325482364,
          0.47612874266081295,
          -3.17993107485787,
          -3.176612772804414,
          -3.157557920854651,
          -3.2083091168741897,
          -3.203735633612137,
          -3.1779844831385486,
          -3.2120627573843903,
          -3.2549460783063284,
          -3.2829039263302535,
          -3.166673327727952,
          -3.1622385890575684,
          -3.1528209578293835,
          -3.1020280179377195,
          -3.06157757839187,
          -3.5870626953295512,
          -3.567702738552272,
          -3.590088342927408,
          -3.573256873516233,
          -3.4829762246780698,
          -3.491700608103316,
          -3.524771411185056,
          -3.71886479581155,
          -3.3567377699609398,
          -3.2974046737316507,
          -3.2732432195821817,
          -3.280076030542942,
          -3.30341694528195,
          -3.297598448398512,
          -3.5033994195355977,
          -3.488166788016427,
          -3.386793483344066,
          -3.2800415069181317,
          -3.265749288028993,
          -3.1906965840084873,
          -3.222680707593293,
          -3.5344213930294637,
          -3.488725455516083,
          -3.3552481970721715,
          -3.425237017410931,
          -3.1516358606262096,
          -2.8833822747608266,
          -2.8982606121631296,
          -2.977010013880292,
          -2.894108579815866,
          -2.8382828251030445,
          -2.8617415735587417,
          -2.7831675600657784,
          -2.820603818947487,
          -2.778092249457414,
          -2.7843067054132478,
          -2.752711256671443,
          -2.769983690680177,
          -2.7592522182987387,
          -2.9010192056661475,
          -2.902612935984678,
          -2.9056510661047015,
          -3.009641316895375,
          -3.0171723216311657,
          -3.038661884049778,
          -3.0626386801430523,
          -3.0726144066852905,
          -3.069488570154538,
          -3.060483248256482,
          -3.1564213273000896,
          -3.157920689404058,
          -3.1562297360965546,
          -3.1533242829979558,
          -3.153837138858092,
          -3.171647286234021,
          -3.167994032294184,
          -3.1609191467623807,
          -3.1685584961222344,
          -3.165772095064399,
          -3.1709269833033793,
          -3.1845721554719306,
          -3.1702463787738466,
          -3.1175398003625814,
          -3.0086875991926694,
          -3.066595238586863,
          -2.987014157193988,
          -2.9869099452098298,
          -3.096504147958977,
          -3.09543711690057,
          -3.0832774842387787,
          -3.106050141611732,
          -3.115095033659136,
          -3.1029553950776343,
          -3.089885719913466,
          -3.126327179555449,
          -2.960156070227658,
          -2.984086839545868,
          -3.0273996471700926,
          -3.0524450991778025,
          -3.0054659492249436,
          -3.0198323300179273,
          -3.0205896593655286,
          -3.0355548691145824,
          -3.0228761264606376,
          -3.070680695664373,
          -3.0125288792199196,
          -3.0190621972294953,
          -2.9169498465000743,
          -2.960434304286292,
          -2.962241623678165,
          -3.153039402654041,
          -3.1627929112408477,
          -3.1235770236220097,
          -3.1842588876866826,
          -3.277449973691607,
          -3.115287254042785,
          -3.1184440735756263,
          -3.203787618148589,
          -3.2442132247477775,
          -3.279889854235931,
          -3.31304055624523,
          0.8097792364035553,
          0.8786329143900339,
          0.8096751807746928,
          0.8492898144336294,
          0.889780461410397,
          0.8811471121557651,
          0.8042703079852406,
          0.8037337009992195,
          0.467154005947793,
          0.43323942173471636,
          0.4140352840072168,
          0.4170592690572313,
          0.3675971024063139,
          0.39150023971716913,
          0.3727075102928406,
          0.42736324153559807,
          0.40537340278088374,
          0.38233216542168197,
          0.3428615080361224,
          0.36316357204174426,
          0.36601862888748726,
          0.35763575860145724,
          0.4422225553084952,
          0.503468795517704,
          0.427274695815901,
          0.43884271539631936,
          0.43753230827507905,
          0.44179019406005376,
          0.44195940466169675,
          0.4818779997969952,
          0.5016284775120632,
          0.4789138352345907,
          0.4846641840550454,
          0.4894146371111123,
          0.48787019692342104,
          0.49306273593943895,
          0.4803222789966204,
          0.43080458381519915,
          0.3806009695188227,
          0.40430253431074037,
          0.41172599916791497,
          0.33969487142675076,
          0.3577732656568731,
          0.38575194175233063,
          0.3430405400188203,
          0.34382310553629536,
          0.329180734220598,
          0.33473160414811803,
          0.3371695798359735,
          0.3406306379081666,
          0.34157495982583824,
          0.33897268192510416,
          0.3328032502584935,
          0.3307570246445977,
          0.3314627835360997,
          0.3357000737730157,
          0.33861871297907736,
          0.33581891723363083,
          0.3441425172308112,
          0.3071213292797315,
          0.31226728826679584,
          0.2883272339805176,
          0.2823567290603235,
          0.2908026160232979,
          0.3453651932558551,
          0.35467931613008524,
          0.3047424852174595,
          0.29318866616888783,
          0.3005385620566008,
          0.2926714381158115,
          0.2927364545869608,
          0.26243304491833486,
          0.27457464013812294,
          0.28181975475438575,
          0.28017579130568826,
          0.2950339043050942,
          0.31162344123100044,
          0.31496772819232116,
          0.3555744478554811,
          0.31832463253767246,
          0.31869751933340007,
          0.31816272527197276,
          0.315079024454452,
          0.27431049068289626,
          0.09643300397941611,
          0.11408472619954681,
          0.06770276443740814,
          0.18435131085997325,
          0.0798333276982098,
          0.14650790950302525,
          0.09155869894231206,
          0.10035787775071653,
          0.15146278599110943,
          0.1324028682911173,
          0.16905665280132373,
          0.22725686734410905,
          0.21874339289040842,
          0.14893279538584767,
          0.16143026547650974,
          0.14466678005775066,
          0.10638567922035408,
          0.04478905086115713,
          0.05569780854828636,
          0.06652340956671922,
          0.03753724226246582,
          0.03438152678635299,
          0.471996356957319,
          0.47043755884424243,
          0.4868411976520117,
          0.47993963354667085,
          0.5370569526481704,
          0.5397126647127753,
          0.5357498448461537,
          0.5399953562045904,
          0.5480899978761787,
          0.5347284447160191,
          0.4983430072725735,
          0.09465031411993291,
          0.13273494506446912,
          0.134284235357709,
          0.10076507280814402,
          0.11017508186639027,
          0.14726889744264135,
          0.15937308305323766,
          0.2454549367915764,
          0.2739318476020577,
          0.20154330521224448,
          0.22038950382918973,
          0.22590278362162144,
          0.22621016473704936,
          0.2819726413525304,
          0.27330395133904617,
          0.21248233722031235,
          0.21952635861748798,
          0.19186505788845087,
          0.20073379643763092,
          0.17431301088187268,
          0.15914039991044196,
          0.20463007544134004,
          0.13555265108517828,
          0.14899241338256705,
          0.12930648686183674,
          0.16622458971804138,
          0.13393887098728338,
          0.1406744758462784,
          0.16216942535955883,
          0.14689442856720902,
          0.1534651800489235,
          0.14769697258733674,
          0.14563688723202733,
          0.14487420685191804,
          0.13531575324510506,
          0.16895546981943568,
          0.17305190460780814,
          0.19489054472187986,
          0.20116770237542791,
          0.20989400946586323,
          0.19482836184332686,
          0.41533888287726667,
          0.3747280453446678,
          0.40357482276495926,
          0.44760663198194006,
          0.4966036685996212,
          0.6157047337111692,
          0.5939730064436555,
          0.5623263891839723,
          0.5011385392577935,
          0.5543189618045273,
          0.5914312279636815,
          0.5725092520549626,
          0.6026265431924441,
          0.5986159324315259,
          0.58170728089237,
          0.5773369137137929,
          0.5736077071752357,
          0.570331008931275,
          0.5756743376131817,
          0.7766557863131924,
          0.6628334745542792,
          0.6995221804820669,
          0.6813836500610296,
          0.6747515747504109,
          0.6774262130841217,
          0.6821370680883265,
          0.6607372343276615,
          0.6647804177298388,
          0.6477578786614389,
          0.6255213720199577,
          0.7657516773523493,
          0.5975214929481234,
          0.5367932624849364,
          0.5583237549687641,
          0.5584558803074606,
          0.539518299702916,
          0.5608803165428825,
          0.5345620091499402,
          0.5361724530673595,
          0.5337254043327976,
          0.4025785188431813,
          0.3850417953938275,
          0.37150277584863545,
          0.37243003537085756,
          0.3221249498975254,
          0.3543738207021346,
          0.339373794046332,
          0.4135177461374591,
          0.4432721357463841,
          0.4165899459899165,
          0.4339240114477384,
          0.4282945509304264,
          0.462995226811043,
          0.46700245186104383,
          0.45316810093056226,
          0.21925687422206763,
          0.22035351443228784,
          0.18422407074898886,
          0.20222194467019092,
          0.24655615882988755,
          0.27642848152584754,
          0.2727066808275128,
          0.306243095519884,
          0.26458217667766404,
          0.26329189101693706,
          0.2814350042130375,
          0.3113397749527177,
          0.3072041317348669,
          0.19356243403050627,
          0.28095997714662607,
          0.2286593883505363,
          0.22152912366383778,
          0.19344257043579208,
          0.21381619611023744,
          0.19884776658572714,
          0.18959133898931954,
          0.32711745516764423,
          0.36838569552387956,
          0.35750998310786963,
          0.36071379291225264,
          0.3485110264779504,
          0.3402413916676237,
          0.3234746162052227,
          0.32818818767427904,
          0.37759914610059137,
          0.3159238774919731,
          0.30535551532680066,
          0.3227530217547798,
          0.3068660931633356,
          0.3380873305849295,
          0.3207140856496782,
          0.31699481638447363,
          0.3181818233476731,
          0.3233227219984678,
          0.37880042286532734,
          0.4021043187333132,
          0.46371968150284965,
          0.4880787434284821,
          0.4484656066993461,
          0.3896218438836823,
          0.3452597650835641,
          0.37105751037138573,
          0.3678586352670111,
          0.3699042359877109,
          0.36099943175603655,
          0.3776235195156402,
          0.4311030559981155,
          0.5521590366672618,
          0.5328813218222892,
          0.44234598440256945,
          0.4449544532553084,
          0.47054198123650587,
          0.43083364635504673,
          0.5208757342190073,
          0.47079143251762917,
          0.47291780217113044,
          0.5488100768429823,
          0.5862675582552788,
          0.5025108370378553,
          0.5080109325975672,
          0.511531480149783,
          0.5934858111167256,
          0.6016023806515242,
          0.6169912374924478,
          0.5374894594377906,
          0.6322366859897715,
          0.620346432054367,
          0.6205824164539229,
          0.6210778045036037,
          0.6276651214260739,
          0.6892210154345296,
          0.6566975312777847,
          0.6599362452139143,
          0.6742073285868271,
          0.680448364737197,
          0.6187468046135024,
          0.6304005671711399,
          0.6176366979939565,
          0.7518783529090517,
          0.6868805984652737,
          0.6986453864418114,
          0.7140180306392173,
          0.7863779559878432,
          0.8222400596886749,
          0.7292457438320196,
          0.7254663701365803,
          0.7431565735854763,
          0.7392405788102606,
          0.9134845854177098,
          0.7541831852804547,
          0.7555108046156731,
          0.7734031084206864,
          0.817487163767122,
          0.8181128829469378,
          0.8287148841868728,
          0.8192011044093301,
          0.8175007085773779,
          0.6920180127466699,
          0.6207256378908036,
          0.5240925153779861,
          0.5951342618652022,
          0.5832928755129267,
          0.5943406166195062,
          0.7926107016884221,
          0.7748708863330863,
          1.0945358038267718,
          1.0959959004178104,
          1.2795887504665686,
          1.2714005313853456,
          1.2144419262572235,
          1.2439631839541618,
          1.1505206006880417,
          1.112068853099273,
          1.15759015715042,
          1.1470399018925035,
          1.1077314062653139,
          1.1295736816179052,
          1.0817922860748441,
          1.1262726631330202,
          1.1099618027697478,
          1.1044051096863143,
          1.1451684171221204,
          0.9110869150836278,
          0.8590888768305169,
          0.8708486645327467,
          0.9017849270933719,
          0.9012897640037904,
          0.9006072691886864,
          0.8999321355520661,
          0.9273994864827159,
          0.8788922202864086,
          0.8906571423021061,
          0.8841248788382452,
          0.8496975320105873,
          0.9394900990952216,
          0.9151417972820078,
          0.7322274872510283,
          0.8856368749303112,
          0.931976947835867,
          0.7402554011036517,
          0.7265219524707006,
          0.7989176779602563,
          0.7131875529096283,
          0.7423728434433557,
          0.8076378425168195,
          0.8728248910861699,
          0.836097363648607,
          1.031013801640298,
          0.993990303276098,
          0.9772082030637819,
          0.9992640990797697,
          1.0179568792951577,
          0.9786753591177836,
          0.9607731765663345,
          0.9770327447568019,
          0.7836964089669339,
          0.6494094659619423,
          0.5956848165363595,
          0.6393571959645495,
          0.5967337847135796,
          0.581160027607793,
          0.4845421854332719,
          0.5316244611537841,
          0.5656833934572029,
          0.581091889723791,
          0.5783354103162082,
          -0.021094057121070597,
          -0.10277870320080311,
          -0.09780520109624118,
          -0.09571434932218972,
          -0.12130702006346754,
          -0.051913939960095946,
          -0.07894323285813509,
          -0.07784344367665015,
          -0.0762298017433847,
          -0.0668716619186211,
          -0.09747114260694156,
          -0.07836259994150391,
          -0.08114515327550764,
          -0.05683158476196726,
          -0.08193411818660332,
          -0.0878662532075562,
          -0.10466814189751439,
          -0.12167296515991173,
          -0.11895792347004489,
          -0.10497289659132338,
          -0.09819420931889232,
          -0.09766099028938116,
          -0.07785495861014408,
          -0.09252996252605093,
          -0.0925425518394295,
          -0.029544878822710167,
          -0.03306509904446175,
          -0.04024077874181632,
          -0.044487354344338814,
          -0.03579765502199427,
          -0.03443983746470011,
          -0.03338427861862542,
          -0.03383035888027214,
          -0.039505834096008954,
          -0.06827139335803524,
          -0.17192019603780406,
          -0.1711049220555434,
          -0.11424202673180915,
          -0.14586321948353057,
          -0.14695430534202392,
          -0.15183526609340253,
          -0.15746126702188637,
          -0.16141062378532098,
          -0.16818572384166564,
          -0.15841799030602746,
          -0.16443089185477336,
          -0.1706890934219861,
          -0.17348450922967157,
          -0.060063717239181566,
          -0.06332923372241223,
          -0.0565875062095943,
          -0.06442835124188499,
          -0.051175775912041276,
          -0.022074865058507736,
          -0.03187143421166201,
          -0.11689362150708553,
          -0.10235076956542771,
          -0.10013072763808602,
          -0.11706166029322193,
          -0.1149725146709136,
          -0.1442077897717053,
          -0.1400982909527236,
          -0.13328089606061638,
          -0.13426903656371145,
          -0.12625161596318135,
          -0.13552263695890623,
          -0.13601318883934208,
          -0.13263590115870813,
          -0.13519773625307105,
          -0.13438863214230054,
          -0.13661340072857037,
          -0.14565367094200868,
          -0.14323041593714061,
          1.0912157156741773,
          1.082411320054828,
          1.082089798773405,
          1.4438049519827036,
          1.4296041217203612,
          1.4267830322080497,
          1.4330031625990998,
          1.3957422143114515,
          1.4176504864936401,
          1.4119333410577166,
          1.3469488693553178,
          1.3482149211096108,
          1.286274372808329,
          1.2843138670956495,
          1.3861183487668147,
          1.351680796299883,
          1.3257539212480813,
          1.404077864609125,
          1.3353449917832525,
          1.259756718818693,
          1.1636228383975933,
          1.3065938766225398,
          1.2734971183815005,
          1.2771767941568266,
          1.2585465417977268,
          1.1465607853327857,
          1.164671476161195,
          1.1763020981377466,
          1.1557841314069222,
          1.142014080850268,
          1.1548703658441686,
          1.0636207026413418,
          1.0625012177157012,
          1.0405909797358028,
          1.1628601422145812,
          1.1736356852154528,
          1.1784653276594232,
          1.1762497004667087,
          1.1414813285456689,
          1.0660344129323014,
          1.0316542925922203,
          0.9847087495207223,
          1.1155913981135905,
          1.1087597759514285,
          1.2319952725668866,
          1.1864541121390533,
          1.1730476208920304,
          1.2971885792813964,
          1.2750639107927075,
          1.11831813209891,
          1.187371373687819,
          1.1296120712919446,
          1.1173834160982201,
          1.1109104314248692,
          1.124558601672928,
          1.0485533961054445,
          1.0253001351714712,
          1.0709803500401713,
          1.1438882974694524,
          1.1612324424368985,
          1.1558060633941378,
          1.1559751592694578,
          1.1818012762540142,
          1.096525398724983,
          1.0142197664177461,
          1.0069881122421365,
          1.068516959914749,
          1.0418785349797735,
          1.0422580072900125,
          1.0756857962280924,
          1.1235049324065693,
          1.1126559383463117,
          1.236712029193092,
          1.2388812268559424,
          1.2487586063304754,
          1.286620795126406,
          1.3835560032541556,
          1.3832594756935563,
          1.3878634809670634,
          1.3746610425648436,
          1.3992021198770885,
          1.3587073147772952,
          -1.5004081793614805,
          -1.499536693300828,
          -1.4837466086163205,
          -1.452384886466626,
          -1.4970878726316257,
          -1.4092744436993616,
          -1.4132977795642825,
          -1.3696974329767515,
          -1.4136644531716918,
          -1.3781548955946799,
          -1.4631685113765147,
          -1.4654875582187636,
          -1.4434531738527512,
          -1.2652164366683172,
          -1.2594718001720564,
          -1.2592386479452577,
          -1.2622787517429481,
          -1.2519009516303266,
          -1.2591665576444069,
          -1.2714324529130965,
          -1.269587208964909,
          -1.2366001963399473,
          -1.2366074883912699,
          -1.2381096209504416,
          -1.2396793899708034,
          -1.238456693408015,
          -1.2379516264918093,
          -1.2377625748240573,
          -1.1743362202741081,
          -1.3162488581479872,
          -1.2418573359489355,
          -1.1749197625360523,
          -1.3425512888230091,
          -1.378944208813685,
          -1.4372959921550421,
          -1.366495040716344,
          -1.4101165867186496,
          -1.4091011519520733,
          -1.5357812191739544,
          -1.5291466757705312,
          -1.5322210025639607,
          -1.5378975597539863,
          -1.5374110325569401,
          -1.544308480036559,
          -1.5409885659016012,
          -1.5417839824122548,
          -1.5455147394582567,
          -1.5329176535727105,
          -1.4506025189285738,
          -1.4675732218441429,
          -1.4768743875922987,
          -1.4573282902324682,
          -1.5278342908558828,
          -1.4875780093659188,
          -1.5868696166720975,
          -1.5801634302796141,
          -1.5070638513362817,
          -1.4941002094764604,
          -1.5065640421866267,
          -1.5095381657338072,
          -1.531632871382476,
          -1.4668425479543283,
          -1.540050989763173,
          -1.4974433809528551,
          -1.574515249631423,
          -1.5379191653304702,
          -1.542983142422702,
          -1.5429335530540773,
          -1.5074713197956104,
          -1.505968999626939,
          -1.6911153364054783,
          -1.702805078941061,
          -1.7035654984022266,
          -1.7175999272265943,
          -1.7125787046633878,
          -1.6661098138031374,
          -1.6637008664979747,
          -1.6473099066682406,
          -1.617102785639942,
          -1.5954784698352396,
          -1.6800343467555323,
          -1.6960780006822613,
          -1.7106492912594655,
          -1.7211322294687827,
          -1.7318350390041426,
          -1.7203563300698828,
          -1.645010744757253,
          -1.692972493986614,
          -1.7053233818700424,
          -1.6966652131817326,
          -1.61149235139543,
          -1.579016929031814,
          -1.6225763683370962,
          -1.620528956589063,
          -1.618116735922364,
          -1.6156982381450964,
          -1.5801905752102614,
          -1.7111826647954107,
          -1.7405228328601678,
          -1.7372205803120548,
          -1.7309693588227741,
          -1.6906338845142126,
          -1.7058594134479221,
          -1.6010714467646627,
          -1.6002272237195077,
          -1.6432166766631184,
          -1.7725523132943677,
          -1.8070118313591639,
          -1.8094435490619032,
          -1.8102463960006547,
          -1.810593925790617,
          -1.7839361204658697,
          -1.7843866841534166,
          -1.7834205519301611,
          -1.7837594805563715,
          -1.7612249956486903,
          -1.7803213405524012,
          -1.7457413255025518,
          -1.7439896832547699,
          -1.7436361101932425,
          -1.805336918838432,
          -1.7932258720464045,
          -1.786807318868407,
          -1.8003129828752802,
          -1.546409243881717,
          -1.5513176932741417,
          -1.4005065026850045,
          -1.3901167930627025,
          -1.4297806181897685,
          -1.4481289952728178,
          -1.4464086337979127,
          -1.4265725620362937,
          -1.3213785256786548,
          -1.3248585791115013,
          -1.590644391866026,
          -1.5024983164614223,
          -1.4897645186653332,
          -1.6631162015916823,
          -1.6048312615658096,
          -1.6296278631173637,
          -1.6303106606036117,
          -1.6114762012772392,
          -1.4332351406790278,
          -1.6079374679206306,
          -1.6717323525259986,
          -1.594123605244234,
          -1.643848428253205,
          -1.5808580289380474,
          -1.5078870150284776,
          -1.5224389338507434,
          -1.4571854718126118,
          -1.5161681170923513,
          -1.5450520937426173,
          -1.646448749119262,
          -1.6387431786089437,
          -1.5755607831324623,
          -1.501462798404947,
          -1.525641762754925,
          -1.5221635466793197,
          -1.5254663642566841,
          -2.447452881953403,
          -2.4412255350844547,
          -2.3650700451364695,
          -2.4004509521532276,
          -2.4786787570147126,
          -2.4324286809747675,
          -2.411330302203653,
          -2.4479786325170823,
          -2.3649590021335456,
          -2.3093342240913297,
          -2.2907511026182843,
          -2.2842946835553084,
          -2.2703336528185263,
          -2.270107513450175,
          -2.409247726818671,
          -2.3553024951715917,
          -2.3483075278523393,
          -2.2635310329043064,
          -2.187598865705371,
          -2.1650047082603834,
          -2.163341980552929,
          -2.160237116007953,
          -2.141731460095378,
          -2.252450231325748,
          -2.3060212963138937,
          -2.255739798610909,
          -2.2920112700637723,
          -2.399110077892617,
          -2.3347505753595437,
          -2.448233218319959,
          -2.5065839126192513,
          -2.369534504928205,
          -2.3926390594861395,
          -2.3723669479130924,
          -2.356229895112711,
          -2.5281017033064166,
          -2.509864675270142,
          -2.515951477891091,
          -2.467003548445827,
          -2.430736196803885,
          -2.4711197612417535,
          -2.476290589967886,
          -2.4521257049147276,
          -2.529075919213594,
          -2.51049555808217,
          -2.546433493350409,
          -2.569013749509449,
          -2.6099554423221196,
          -2.5596828823651254,
          -2.5827885994072126,
          -2.6566196736986276,
          -2.5688106556867014,
          -2.673888384249841,
          -2.6402059533627735,
          -2.595091980784787,
          -2.6106784632050974,
          -2.612929095333711,
          -2.6199298125398647,
          -2.6520911640232145,
          -2.670782106572576,
          -2.663953721840073,
          -2.7000073028230864,
          -2.592776685897858,
          -2.5177262633707005,
          -2.545303902471738,
          -2.569329900770806,
          -2.567391614556207,
          -2.616842337861609,
          -2.6136094431925563,
          -2.6426245728195537,
          -2.6410011220161707,
          -2.624690707580973,
          -2.6188270841630406,
          -2.5303126764407815,
          -2.574390347746856,
          -2.5278827521066116,
          -2.5360682607431584,
          -2.531545399239366,
          -2.4685690362826445,
          -2.499931240178873,
          -2.512877152771083,
          0.22004586768818843,
          0.21603714513756986,
          0.20620657373470003,
          0.17658463461661228,
          0.39795744058612825,
          0.42047596567997275,
          0.44703787485073876,
          0.4324170664395012,
          0.3575551113571905,
          0.3765510147660273,
          0.365905617785183,
          0.36888452228956636,
          0.35805774174787935,
          0.35122360596103436,
          0.3277601070467413,
          0.3501755106920534,
          0.3463599494000158,
          0.3502995404482888,
          0.397803129347216,
          0.3989568315550925,
          0.09995886368534752,
          0.1825646535781806,
          0.18692697845899764,
          0.29799141007539715,
          0.2828210676337785,
          0.33089355269490534,
          0.3176754158457986,
          0.31679786093505985,
          0.28953097219568524,
          0.28058280452645923,
          0.28229131016888354,
          0.3074777043185716,
          0.30885257115195475,
          0.3100835819616664,
          0.21998630616060771,
          0.22387032819803823,
          0.19876995740876785,
          0.23437466723018824,
          0.14618665088046878,
          0.16467622886529018,
          0.16443322253195347,
          0.16413081006666205,
          0.16393183309592313,
          0.28504310542127137,
          -2.9645364688647446,
          -2.979277124882664,
          -2.365215742690692,
          -2.46868955053244,
          -2.4645704487033187,
          -2.579514206112137,
          -2.5832514385220677,
          -2.6107741145602934,
          -2.596237679838065,
          -3.0603738622160543,
          -2.915007651320561,
          -2.8504488180461784,
          -2.851117158303735,
          -2.7569103346390618,
          -2.917178134100383,
          -2.7963589555634254,
          -2.7722443140774007,
          -3.173498749716149,
          -2.6610212783322305,
          -2.637786858261065,
          -1.480467022023877,
          -1.477359922701119,
          -1.4860681143037917,
          -1.5110066529826462,
          -1.525540193052972,
          -1.5555631728316317,
          -1.5405769785722183,
          -1.5268771057679462,
          -1.5315184045463732,
          -1.5322841183430684,
          -1.5273461288294408,
          -1.5172357025215935,
          -1.5869514483398448,
          -1.6616739383550305,
          -1.6723748850845832,
          -1.7567112666779527,
          -1.828137658409694,
          -1.800160840927542,
          -1.787785554400451,
          -1.7697509466827201,
          -1.6845914992145707,
          -1.7121400313684854,
          -1.6114176871677102,
          -1.5114228280569788,
          -1.5091038652659732,
          -1.4786506732966616,
          -1.5641586365073945,
          -1.55460545036005,
          -1.5660105229043317,
          -1.56828050999277,
          -1.6860363961570446,
          -1.687041861045025,
          -1.3969128143424465,
          -1.39006674301818,
          -1.4539352407859558,
          -1.4834839200984473,
          -1.570558685227282,
          -1.5676861789340149,
          -1.4835052564847693,
          -1.6868127877275534,
          -1.6922456286670564,
          -1.7040287454122431,
          -1.6567092052819372,
          -1.6865393718010735,
          -1.8130893474629781,
          -1.8107098203056855,
          -1.8248933222832666,
          -1.6958038489921266,
          -1.587254800505789,
          -1.7065106918849637,
          -1.6059924397505436,
          -1.5777714055252767,
          -1.7334097341115418,
          -1.7638628669470366,
          -1.7731993578318361,
          -1.6459395028354704,
          -1.8041790563835953,
          -1.6371827941795591,
          -1.5459689470727076,
          -1.5960564030468067,
          -1.3194964239792126,
          -1.3382667239136705,
          -1.4499821940968465,
          -1.4031758838477069,
          -1.4013116769446858,
          -1.4001946236670872,
          -3.6068909970322993,
          -3.5557712116641316,
          -3.5434746845111738,
          -3.554769835434684,
          -3.4455201282959855,
          -3.4351132851244777,
          -3.4184860320134423,
          -3.450109002074394,
          -3.331171386178405,
          -3.2651419986209795,
          -3.194249920751544,
          -3.178884246277842,
          -3.1908703141811325,
          -3.093244209137598,
          -3.124652953935252,
          -3.830653267676541,
          -3.71357950535904,
          -3.8161752661874258,
          -3.8155773814190495,
          -3.764382799594091,
          -3.7395419912240935,
          -3.7175074229154372,
          -4.075339102491667,
          -4.416611557087413,
          -4.368114573279929,
          -4.42000592158598,
          -4.451312128024681,
          -4.9635500790000835,
          -4.957158577526372,
          -1.5176502944738197,
          -1.5929542945637352,
          -1.5850623381819362,
          -1.6200824872109587,
          -1.5656735369557218,
          -1.5838774512490714,
          -1.5748279623849797,
          -1.5101430984167692,
          -1.5074637664153334,
          -1.405308826428885,
          -1.4170431713686105,
          -1.4342525938881991,
          -1.601878717899221,
          -1.6577813328024882,
          -1.6497746715589765,
          -1.6576582712324786,
          -1.6776086545738396,
          -1.868297632910629,
          -1.840492198439197,
          -1.9639068555374297,
          -1.643673517233049,
          -1.7059985377470046,
          -1.7392880999494404,
          -1.7292513728609258,
          -1.7375203121989946,
          -1.509124003664308,
          -1.7551072023111607,
          -1.7774866668111933,
          -1.7152831516296965,
          -1.7012285938890654,
          -1.6615240056220717,
          -1.6425050068336418,
          -1.6916592914324098,
          -1.6762529049870742,
          -1.6516554424377443,
          -1.6503178816970114,
          -1.6374452405985767,
          -1.678248051674875,
          -1.9303180480634,
          -2.028101645222589,
          -2.0096775219005845,
          -1.7527716562520026,
          -1.6888590595402562,
          -2.083883442032642,
          -1.9229786846153638,
          -2.1406983159678292,
          -2.1885779586593923,
          -2.098026781955456,
          -1.8290110615186268,
          -1.7786124625751643,
          -1.6800580632584887,
          -1.675534780048364,
          -1.7106169459684597,
          -1.7788837536381579,
          -1.6369231704680731,
          -1.5140392423331925,
          -1.4526665755732149,
          -1.5314746247544844,
          -1.533955642498664,
          -1.470442358887739,
          -1.647660397026984,
          -1.6559337856184355,
          -1.5735758668693014,
          -1.6417605590751065,
          -1.7379835661603964,
          -1.803875690621997,
          -1.686566379519919,
          -1.669304502393848,
          -1.5562033230437016,
          -1.5696343292505843,
          -1.5536588376051321,
          -1.5316053105742315,
          -1.4429176743399044,
          -1.2996973977594366,
          -1.264929407191457,
          -1.2525640526123278,
          -1.317659915620517,
          -1.3206366282878188,
          -1.3104788219189354,
          -1.4748641174930313,
          -1.510406165207805,
          -1.5519470819846368,
          -1.4357695221956894,
          -1.4597030744357464,
          -1.5024659197480212,
          -1.6290973540210525,
          -1.711491607707145,
          -1.577230618223174,
          -2.03211471450882,
          -2.194821944870226,
          -2.014701474527199,
          -1.805729755487338,
          -1.7779708658069648,
          -1.7601964308937985,
          -1.1243158867870853,
          -1.1221181127172226,
          -1.1267013384649094,
          -1.1328784431435692,
          -1.1343908375224554,
          -0.8511396183579772,
          -0.8904032555696169,
          -0.9598365166895169,
          -0.9781365470467568,
          -1.0180884132653714,
          -1.092247500677548,
          -1.12002829241217,
          -1.10575284224304,
          -1.1984183537749646,
          -1.103871819324428,
          -1.1236858409390549,
          -1.1543787984077136,
          -1.1546435818975196,
          -1.1429835377289776,
          -1.122868367215269,
          -1.1022895040297735,
          -1.1004410375008884,
          -0.8427002853913147,
          -0.7594009052056325,
          -0.8325082919866434,
          -0.997201702291173,
          -1.0225281219368163,
          -0.6303679182778714,
          -0.6508225702675609,
          -0.44120576644353293,
          -0.4321017095363083,
          -0.3931015068101212,
          -0.30706749517374915,
          -0.5015513600763585,
          -0.42830897546212904,
          -0.7486960197971289,
          -0.7707435318667966,
          -0.8048768805319737,
          -0.776247697853979,
          -0.707756883489839,
          -0.5951803096582078,
          -0.5958857238799805,
          -0.5915587912314532,
          -0.8179503490934177,
          -0.9433863446208375,
          -0.9409668962578616,
          -0.977681590002059,
          -0.9385503249432531,
          -0.9690427507852492,
          -0.9749321026054145,
          -0.9677822756656992,
          -1.043364054755536,
          -0.06553223913988529,
          -0.1125789946262651,
          -0.1103070987703653,
          -0.11207125663161802,
          -0.11180821344629534,
          -0.11064081800318933,
          -0.11324453010398787,
          -0.0250712377694265,
          -0.01613589149539378,
          -0.058100003754249674,
          -0.19652219928185405,
          -0.3548039256163796,
          -1.0674558635751965,
          -1.0871919912734136,
          -1.0589946554269805,
          -0.22049553941165173,
          -0.2612078324977286,
          -1.1134311609198553,
          -1.152931913095265,
          -0.9628843306671827,
          -0.9920050642820073,
          -0.9733979179639392,
          -0.8700590182784279,
          -0.920290899874484,
          -0.8326456436818203,
          -0.9903079219402652,
          -2.440286573853166,
          -2.287509075271629,
          -2.322874900953941,
          -2.325317138590574,
          -2.31854220203053,
          -2.3401227261633677,
          -2.288241856387366,
          -2.3217560165258275,
          -2.3869747532560543,
          -2.3568068030739946,
          -2.279777190383229,
          -2.3397528914284984,
          -2.2018865054045116,
          -2.1504046240440875,
          -2.2288719578331975,
          -2.244603448470433,
          -2.0953313674449596,
          -2.191860504299799,
          -2.1989191965098245,
          -2.1949307183692595,
          -2.13643943437668,
          -2.153358409819271,
          -2.1274065580263852,
          -2.569622402940469,
          -2.6904099044743814,
          -2.627756832835328,
          -2.4238213072237125,
          -2.2654755165419354,
          -2.4758074713296194,
          -2.362982785353457,
          -2.393457698530054,
          -2.3967509074998357,
          -2.313198264637622,
          -2.3144598207011704,
          -2.3430432959248506,
          -2.5334696686366374,
          -2.4982777725080845,
          -2.4959690432631048,
          -2.3760217669566837,
          -2.430649804981586,
          -2.7165413415594726,
          -2.700031703171914,
          -2.759005237689656,
          -2.778265158611245,
          -2.927581357434524,
          -2.9494125195416756,
          -2.7584755834272383,
          -2.5141291021566565,
          -2.5722474897769505,
          -2.439146848639237,
          -2.566398009255053,
          -2.087871267739608,
          -2.085274101743606,
          -2.0731581972731274,
          -2.2415150026749746,
          -2.2444994139744225,
          -2.2437256302050876,
          -2.2440176493711474,
          -2.183811664786599,
          -2.1917238413032654,
          -2.1530578609952107,
          -2.2888871869531022,
          -2.2661011441248737,
          -2.2795777179641568,
          -2.254806950628341,
          -2.2319645374925425,
          -2.226896919548664,
          -2.315222814633906,
          -2.3090371118597752,
          -2.305804437214639,
          -2.302190088984729,
          -2.2953291052190408,
          -2.315248894575073,
          -2.2920048940543523,
          -2.3014122043043312,
          -2.3408447293344037,
          -2.3395771367477955,
          -2.2760204035800027,
          -2.279441620841586,
          -2.2678836182865623,
          -2.2702342617976776,
          -2.2342350236115123,
          -2.2382228775268618,
          -2.487715235531862,
          -2.4837624719270046,
          -2.4828330994633485,
          -2.484193004394829,
          -2.369913844549091,
          -2.454205954318418,
          -2.4489516856169926,
          -2.378171189685917,
          -2.379382463650369,
          -2.0845104695271095,
          -2.066838911704031,
          -2.122426464843519,
          -2.231462699486292,
          -2.1289121344780266,
          -2.13496461145858,
          -2.2061569046140406,
          -2.1961811598173093,
          -2.2628686053589058,
          -2.2346345291562564,
          -2.2301895757899635,
          -2.172003524689406,
          -2.158403146018551,
          -2.160881857846617,
          -2.14781957914861,
          -2.115319708680865,
          -2.10049322172476,
          -2.0708630058337194,
          -2.07819231105147,
          -0.06489543889828893,
          -0.06758304737015819,
          -0.0655351594476238,
          -0.06553661752006264,
          -0.056155279579592196,
          -0.039061360663907266,
          -0.07754955734950796,
          -0.07596431942832998,
          -0.07021270881730989,
          -0.00397673374518493,
          0.030817841415561684,
          0.030094841442246775,
          0.02660027773001706,
          0.021152292770324543,
          0.02528518767629942,
          -0.025466662941316453,
          -0.02263927816997929,
          -0.02263927816997929,
          -0.02263927816997929,
          -0.02177757995722665,
          -0.038497601288643074,
          -0.032599204761844434,
          -0.03392855014720194,
          -0.04025585433485422,
          -0.027087844552926333,
          -0.02130446710560629,
          -0.01816842109010096,
          0.00578114196402654,
          0.0034504836285463086,
          -0.028694151394791197,
          -0.023959321879279478,
          0.02056389159029954,
          0.01900141700557729,
          0.0209812336827729,
          0.023687770523204303,
          -0.06734722483723353,
          -0.058972644251696966,
          -0.05673521911322986,
          -0.057468683371502474,
          -0.06037943144244623,
          -0.05595420698984221,
          -0.052944876223382266,
          -0.05070775689553738,
          -0.06501007571586752,
          -0.06929532180189539,
          -0.05734410326786561,
          -0.06131454553910528,
          -0.06108880474904955,
          -0.07731677069479276,
          -0.06310530115303534,
          -0.015859918675018223,
          -0.02125910735983421,
          -0.022013985116261552,
          -0.02125910735983421,
          -0.022047850628111775,
          -0.02125910735983421,
          -0.021524309530844908,
          -0.022214858509688767,
          -0.020986424894484514,
          -0.019333118143721923,
          -0.042618719387905485,
          -0.054633337373650934,
          -0.05830904628250018,
          -0.058261468693249954,
          -0.057773908776293285,
          -0.052843433594797644,
          0.05907123467716337,
          -0.06610377632728358,
          -0.061488905588011504,
          -0.05462232218237511,
          -0.0601303063677406,
          -0.07053471717587655,
          -0.06353412682001185,
          -0.07373957285188057,
          -0.0652841413791225,
          -0.05895453261316681,
          -0.035792662507396225,
          -0.046882584176144416,
          -0.05549203555057873,
          -0.10180542421901795,
          -0.09980316151872522,
          -0.0978783320213962,
          -0.10640464617805578,
          -0.10011222860711054,
          -0.09718741695777358,
          -0.07985971450615259,
          -0.09404040254499708,
          -0.09340250117937093,
          -0.0837706108247609,
          -0.10181512990005528,
          -0.09738354996575145,
          -0.10454954434473514,
          -3.1917126638479245,
          -3.1915611190649464,
          -3.1880566910490833,
          -3.2181297158068785,
          -3.217022545735369,
          -3.223537376594511,
          -3.2296796544085282,
          -3.2221135660348548,
          -3.2044975428001057,
          -3.2101353482833925,
          -3.196749878829352,
          -3.217320374885794,
          -3.217768606645491,
          -3.2189208864724597,
          -3.295654300411573,
          -3.239111845478661,
          -3.254572410282516,
          -3.27365812234943,
          -3.2487862445483757,
          -3.2523710434087616,
          -3.263040530069503,
          -3.254312749253634,
          -3.254068482017954,
          -3.265987179959016,
          -3.2833022547914026,
          -3.237675637768127,
          -3.244319889201377,
          -3.339903263559048,
          -3.3127943995828772,
          -3.3552096428598306,
          -3.355874257672785,
          -3.331448367722737,
          -3.1024521405461445,
          -3.0867911100523804,
          -3.081481290214967,
          -3.1192923670588657,
          -3.202221292714777,
          -3.209387431636383,
          -3.139124822521068,
          -3.0013707415066024,
          -3.077651009318893,
          -3.030894623438943,
          -3.1590883155008247,
          -3.225386488923266,
          -3.2294834882756738,
          -3.2880193625295306,
          -3.339706081682328,
          -3.425478811614884,
          -3.4172401301659274,
          -3.3489433164107334,
          -3.208633391517974,
          -3.205882751019482,
          -2.838134201695995,
          -2.8203314512946425,
          -2.8687941586988326,
          -2.9654302414068425,
          -2.97866634086186,
          -2.8699670348386768,
          -2.917103069238681,
          -2.953449804560365,
          -2.733871944654667,
          -2.6826584484932035,
          -3.2343578309350725,
          -3.26876490896822,
          -3.243618999201131,
          -3.263045563641223,
          -3.2643852411319036,
          -3.268846491219024,
          -3.261157860253746,
          -3.28086843329385,
          -3.31437882558355,
          -3.309172932926529,
          -3.304945202646026,
          -3.31420725082599,
          -3.2883368010900487,
          -3.2881635273542766,
          -3.3099229986027505,
          -3.3051510377960427,
          -3.3061222594707287,
          -3.296523256020145,
          -2.8055171644828643,
          -2.812049958303991,
          -2.8370209978360057,
          -2.7848941584609292,
          -2.7467143251350943,
          -2.751122821941815,
          -2.6490907784460367,
          -2.6516340171765753,
          -3.0885399442699613,
          -3.210010178740724,
          -3.3201148785962498,
          -3.203544834460933,
          -3.3406364414441123,
          -3.369405799596885,
          -3.3482280615433937,
          -3.3506891556395018,
          -3.349880590925104,
          -3.6221693996251787,
          -3.661281477270573,
          -3.6585746567889323,
          -3.699835682737244,
          -3.7208391066760704,
          -3.637662867023181,
          -3.6286261855078394,
          -3.205130578018472,
          -3.582589538683339,
          -3.4432311627085816,
          -3.4670597367291927,
          -3.478817119503808,
          -3.4901610765714515,
          -3.458588068186393,
          -3.4781666790990915,
          -3.4776122794577,
          -3.541668487476996,
          -3.6189332177042783,
          -3.5750675137833756,
          -3.500861894798842,
          -3.181561226474941,
          -3.180890646613942,
          -3.188071647348713,
          -3.1885213952655787,
          -3.1890792538506636,
          -3.189656660143591,
          -3.1526366287257446,
          -3.177900969608473,
          -3.1732245761450804,
          -3.188784527840119,
          -0.06145007769097793,
          -0.07990055217439482,
          -0.02602427819213115,
          -0.02694066143617574,
          -0.013959855284391249,
          -0.026558679985577538,
          -0.07242805030483468,
          -0.06455880484647945,
          -0.014763912178882461,
          -0.012204892833889213,
          -0.010177394225143606,
          -0.011208154236518206,
          -0.011931203875721044,
          -0.011975189482343216,
          -0.0209209154670536,
          -0.008547309717606026,
          -0.09105369147306286,
          -0.09193687028127355,
          -0.10214283448169822,
          -0.10003533025932086,
          -0.09756142022347257,
          -0.040330122276788574,
          -0.02700882318544928,
          -0.026992805161623744,
          -0.0146023909086503,
          -0.04661439375581958,
          -0.032616390884587426,
          -0.14656919052617354,
          -0.1653753593088851,
          -0.1645256185699711,
          -0.17114553050733206,
          -0.16639599891144455,
          -0.155578901441889,
          -0.16639167256436083,
          -0.16185543970154032,
          -0.16128693332751548,
          -0.17189408354392038,
          -0.17019903312094936,
          -0.1702251339641149,
          -0.1704228588425649,
          -0.17287503841227395,
          -0.18216667198040873,
          -0.17914356377909427,
          -0.1832418031914078,
          -0.1841953319082416,
          -0.1767663881620353,
          -0.17405311292929737,
          -0.1611970855044371,
          -0.15117494590945965,
          -0.1531294090219232,
          -0.1640972626843633,
          -0.17866264489207484,
          -0.17620814559837567,
          -0.23118166434745213,
          -0.22639285326339623,
          -0.24482282618047208,
          -0.23500047148966252,
          -0.23884422176837225,
          -0.23442374498871513,
          -0.23098812083764356,
          -0.24305809310498622,
          -0.20163570242230125,
          -0.196871516050443,
          -0.20041169134766593,
          -0.19885125835967238,
          -0.18072331070502878,
          -0.18109307696287213,
          -0.24628879573884896,
          -0.2598268732188699,
          -0.23921089398886666,
          -0.12235863246041563,
          -0.12325384421495049,
          -0.11860862888244914,
          -0.13888702043648887,
          -0.13485441030724826,
          -0.13069183533067466,
          -0.17782155867313149,
          -0.06850375789970642,
          -0.09680924298984772,
          -0.07234587435018722,
          -0.0841937795034041,
          -0.07765733152994043,
          -0.0744202303367264,
          -0.07648000625058053,
          -0.08202521556416188,
          -0.08502847490227652,
          -0.0773044716722868,
          -0.05028237902821977,
          -0.018688175516054513,
          -0.034184376433022474,
          -0.024187497435542122,
          0.00003159938788313535,
          0.04795250812733162,
          0.016661353260388093,
          -0.005600000987064136,
          0.0023361364303456766,
          0.008856628326045324,
          0.02821955309537116,
          0.05543536917779638,
          -3.230443253949046,
          -2.931118244489637,
          -2.9694078480650545,
          -3.037142272802972,
          -3.0412414420853944,
          -3.0323139645531625,
          -3.2147338902815474,
          -3.2389122798659127,
          -3.267173847624165,
          -3.2027369086639474,
          -3.1796240764775336,
          -3.202114010404988,
          -3.2091810828323166,
          -3.220452789809913,
          -3.100784920504739,
          -3.139364016688887,
          -3.188024228905536,
          -3.4172395803480637,
          -3.416755548666154,
          -3.3728396882570393,
          -3.3322361113145655,
          -3.2628549675334884,
          -3.3478951132241477,
          -3.2770532332575906,
          -3.2786092506737496,
          -3.281450767958006,
          -3.293623611014252,
          -3.2403459671778787,
          -3.1725171811774127,
          -3.256952284481498,
          -3.4379525584752555,
          -3.3995690531459877,
          -3.4833313046333894,
          -3.5860825853511815,
          -3.694825745133525,
          -3.6986964768022035,
          -3.666716657473002,
          -3.569243796638131,
          -3.4865626400670484,
          -3.5170527305239228,
          -3.557643524306915,
          -3.510076610074103,
          -3.606029997118236,
          -3.646281326147242,
          -3.59038330335488,
          -3.8491174331757243,
          -3.7370930866988084,
          -3.7498518005005765,
          -3.7273319476434192,
          -3.7794690044955517,
          -3.8044154926127276,
          -3.7578718641080715,
          -3.907632136933471,
          -3.9784847336220635,
          -3.945702889746683,
          -3.5204089180247724,
          -3.5225365261687864,
          -3.495323367576096,
          -3.507586577142209,
          -3.507004128033341,
          -3.5076931740345048,
          -3.549971953558455,
          -3.5658156310245617,
          -4.005387439512118,
          -3.9072019767359976,
          -3.8699702574284847,
          -4.091393367248176,
          -4.075219871588238,
          -4.20050060201603,
          -4.185584312105927,
          -4.142651140666253,
          -4.096762081261044,
          -4.325168848141804,
          -4.253024280997795,
          -4.181954186612166,
          -4.19008157990105,
          -4.217813513944455,
          -4.4637062899689655,
          -4.32830137581555,
          -4.294467798045269,
          -4.457830966389272,
          -4.451156238418327,
          -4.379209211791873,
          -4.267459530239754,
          -4.556321928547442,
          -4.49016970340999,
          -4.615019303770412,
          -4.584589324790858,
          -4.5317222120917195,
          -4.483946774912049,
          -4.522044289355873,
          -3.1685374073049175,
          -3.154392458275515,
          -3.123652772431718,
          -4.129340803774722,
          -4.0617640761643115,
          -4.024557868759128,
          -4.035443704865418,
          -3.9868924385438387,
          -3.9082277586202894,
          -3.9811517973208246,
          -3.8674844858026365,
          -3.8886458937130417,
          -4.200629782971665,
          -4.1658270395306065,
          -4.147592484226087,
          -4.122277314855375,
          -4.145998080095896,
          -4.125824456563939,
          -4.08968417845485,
          -4.06100317657906,
          -3.8386425487309337,
          -3.8333309038240686,
          -3.713083523443868,
          -3.834198493500987,
          -3.8267574981848353,
          -3.7904069937414477,
          -3.7771391507693295,
          -3.8798064067753217,
          -3.725064746075036,
          -4.015160630060488,
          -3.967052861932955,
          -4.017579913767123,
          -3.9370914981907914,
          -3.8613454082152012,
          -4.114880258964459,
          -4.151093060519614,
          -4.169668580916966,
          -4.234803473372019,
          -4.171039348842569,
          -4.250015838775402,
          -4.374042550655177,
          -4.375773489158376,
          -4.399111472715676,
          -3.5545402583467762,
          -3.5527397461731565,
          -3.5568538825738822,
          -3.5426359160565224,
          -3.5259535013874994,
          -3.54036826131751,
          -3.4910422380380606,
          -3.361619508651997,
          -3.383634726127325,
          -3.3557997802851767,
          -3.4344413285577216,
          -3.3550187464692627,
          -3.348256125173455,
          -3.3434651625423775,
          -3.440924489661133,
          -3.5020753978004637,
          -3.4570886482350556,
          -3.4170612579998036,
          -3.5363567392252317,
          -3.514637298958354,
          -3.517977249199841,
          -3.5564201712020913,
          -3.6391240791116584,
          -3.6466158327914466,
          -3.649124461546384,
          -3.616132669253238,
          -3.618649627364952,
          -3.4711240029985033,
          -3.4938346483357936,
          -3.4456167637010533,
          -3.404052912276063,
          -3.4036216765917637,
          -3.2906660529168947,
          -3.3006117421099055,
          -3.8474159382339908,
          -3.861115222374716,
          -3.8746786032398575,
          -3.8068963926772548,
          -3.796159894706454,
          -3.6868439165026388,
          -3.596362048127416,
          -3.590718710567966,
          -3.6347067003357796,
          -3.632236293125255,
          -3.961267717663732,
          -3.957062776319127,
          -4.026542966537383,
          -4.0478036404642594,
          -4.12087747897885,
          -4.257760957214632,
          -3.934922632358283,
          -3.9380147767905225,
          -3.82178409669901,
          -3.942550446055946,
          -3.9750781593689717,
          -4.082129016761151,
          -4.118750923775213,
          -4.134608482679623,
          -4.348851217296436,
          -4.047298227757356,
          -3.9598522809026324,
          -3.932053483930423,
          -4.097835655290424,
          -3.054272259547474,
          -3.0548962927079524,
          -3.0533030064220554,
          -3.0495472334674547,
          -3.052397208864047,
          -3.0502140842622207,
          -2.982809206205919,
          -3.0225958135286444,
          -3.0346081717039177,
          -3.0078212992531266,
          -2.9856590195936743,
          -2.996113284281059,
          -3.000461576738042,
          -3.029253782415033,
          -3.0278378394853136,
          -2.945893768074386,
          -2.970512674375449,
          -2.977152525186747,
          -3.0145092915975367,
          -2.986418125109972,
          -2.9476370168913313,
          -2.938441088495548,
          -2.9728356210393407,
          -3.0112326603574426,
          -3.026282431003489,
          -3.037583075385568,
          -3.0246063860391477,
          -2.9868099230690826,
          -2.9857318978268323,
          -2.9883146454251777,
          -2.9623773107436406,
          -2.9620694405842336,
          -2.9323796616303275,
          -2.962699992691493,
          -2.963327987126902,
          -2.941041388683224,
          -4.3070000689459595,
          -4.299686312984682,
          -4.361089597718465,
          -4.368477745526607,
          -4.256481935142304,
          -4.264183520660713,
          -4.220567768195936,
          -4.292659815052102,
          -4.279272458741729,
          -4.27322419273197,
          -4.183186192593787,
          -4.257452899817892,
          -4.292300621723641,
          -4.301776791280276,
          -4.297349677083873,
          -4.2966847950004965,
          -4.285745442617125,
          -4.279188594091541,
          -4.27930094999536,
          -4.295407893084421,
          -4.3049270773774495,
          -4.307656629623219,
          -4.276877317066543,
          -4.278601724244437,
          -4.284900255571576,
          -4.286364657256961,
          -4.297163261000147,
          -4.303580293481922,
          -4.3073325285471045,
          -4.301739858948934,
          -4.309243948690785,
          -4.308107961228542,
          -4.30746429815557,
          -4.304902397325493,
          -4.305033693869614,
          -4.3057857110759965,
          -4.303346496949744,
          -4.305906325959689,
          -4.300032823265374,
          -4.295119314015043,
          -4.297509251030161,
          -4.269392689693399,
          -4.269392689693399,
          -4.279555695445328,
          -4.492173235014094,
          -4.3275013713775605,
          -4.329395271653108,
          -4.328750830768926,
          -4.341623091070921,
          -4.326708408422401,
          -4.333116123657152,
          -4.346413674109481,
          -4.341913847556896,
          -4.281089888601775,
          -4.335831391028936,
          -4.319946906784243,
          -4.404557406931055,
          -4.411697836734862,
          -4.374785485983525,
          -4.362571997075814,
          -4.399260257154876,
          -4.319453326670995,
          -4.310856267326548,
          -4.376855031538307,
          -4.030095852007368,
          -4.16597465523741,
          -4.113968078232328,
          -4.142602775342982,
          -3.973226085369399,
          -4.0046930927914985,
          -4.008978573975429,
          -4.086620036156469,
          -4.081989891052102,
          -4.067021258411237,
          -4.089993860887662,
          -4.091365926189915,
          -4.071491995379203,
          -4.0697234946573095,
          -4.089468891025707,
          -4.073539083252691,
          -4.064101715665833,
          -4.1738076040831675,
          -4.210718315151271,
          -4.1527573577213435,
          -4.269890907170099,
          -4.250364575096076,
          -4.249449779222274,
          -4.247501953413323,
          -4.2439387694368795,
          -4.242438507886131,
          -4.248574094947536,
          -4.2821607495704,
          -4.251175868149737,
          -4.268341603517141,
          -4.2576242009670064,
          -4.31136900448737,
          -4.311915231773341,
          -4.295351928499866,
          -4.313056479110746,
          -4.332776473015843,
          -4.339860357293931,
          -4.361004970723724,
          -4.337717200367446,
          -4.3320949383247696,
          -4.392191657131058,
          -4.4200484819889265,
          -4.5186527666130205,
          -4.852503269432264,
          -4.819618071341333,
          -4.799266416215185,
          -4.7975119658879555,
          -4.7986778408570805,
          -4.671984340821044,
          -2.2468639185220804,
          -2.244346227359066,
          -2.242997437430536,
          -2.2431005438205975,
          -2.304126421665239,
          -2.2894842738159866,
          -2.34589896937016,
          -2.3699712730381424,
          -2.353118065541191,
          -2.3517018384735353,
          -2.392110311401717,
          -2.2983372526905494,
          -2.4547650408384416,
          -2.4580249829797434,
          -2.4398923987511463,
          -2.401677326740708,
          -2.422235337530979,
          -2.486776226609487,
          -2.4940746792506,
          -2.509275268372647,
          -2.4279293798030634,
          -2.440312424749557,
          -2.4773643295499324,
          -2.456565604615921,
          -2.45503147664997,
          -2.374775689678857,
          -2.389676759084987,
          -2.4979051126386382,
          -2.525373292357428,
          -2.5906303506658097,
          -2.578863485995102,
          -2.6009886419659174,
          -2.62033123635459,
          -2.651400272689596,
          -2.674160250681685,
          -2.620151047981027,
          -2.6566589298069347,
          -2.4584321978349,
          -2.4675453609661924,
          -2.408030147201494,
          -2.4172280397628754,
          -2.426966379399988,
          -2.30536551704615,
          -2.2947475388801717,
          -2.4163782478706737,
          -2.327228259323366,
          -2.302678602184014,
          -2.231184829975062,
          -2.200681848375766,
          -2.2435334737215147,
          -2.389136555305835,
          -2.4220247992269557,
          -2.3040008056885783,
          -2.3428543998086497,
          -2.328412635835137,
          -2.27462898403241,
          -2.368435798841359,
          -2.193176124980034,
          -2.2578158710356186,
          -2.246595895823591,
          -2.229317003784868,
          -2.1425883952430005,
          -2.181662303633959,
          -2.121041325502035,
          -2.1448624448263733,
          -2.106801115488208,
          -2.1564914793825576,
          -2.2232794698308713,
          -2.1080424464111376,
          -2.2057252108196503,
          -2.15560161559569,
          -2.110984924171762,
          -2.1959676660261387,
          -2.2047937078146327,
          -2.17417709243526,
          -2.2144424703203396,
          -2.2295080697969767,
          -2.233765965842901,
          -2.2346133349431843,
          -2.0766393465054485,
          -2.089498288317276,
          -2.088888184787849,
          -2.088826454799102,
          -2.0789734506654733,
          -2.076547157344018,
          -2.088594402095386,
          -2.076191560203489,
          -2.102786309027061,
          -2.0596028451330946,
          -2.0589062421858815,
          -2.068803627136608,
          -2.0488784172477783,
          -2.0304719808493754,
          -2.048969885333778,
          -2.0425498987180055,
          -2.047314620507438,
          -2.08236744597345,
          -2.0434062124798733,
          -2.083321337715797,
          -2.0785498812006757,
          -2.0693325314303754,
          -2.0996850305195993,
          -1.7220833436044767,
          -1.7042543252583413,
          -1.7347012544607772,
          -1.747429413187363,
          -1.7172546340772306,
          -1.760645706810049,
          -1.8482259182980896,
          -1.8213965826222407,
          -1.7864477042995377,
          -1.8191397193576762,
          -1.837944409686842,
          -1.8756858471076654,
          -1.842714768518511,
          -1.8478655938263404,
          -1.773116143495822,
          -1.9669202175255072,
          -1.9581531809520143,
          -1.8867058986550644,
          -1.989596808811681,
          -1.9956029775024855,
          -1.9172580930361998,
          -1.935586608397888,
          -1.9672849889232786,
          -1.9126858264388997,
          -1.7012967980784972,
          -1.7016094968227808,
          -1.6748245597311413,
          -1.6715227428273236,
          -1.6595781614916771,
          -1.6444186518385964,
          -1.6733105020289867,
          -1.7225048890558379,
          -1.6513961166229167,
          -1.6938332531946245,
          -1.694254215278201,
          -1.6809931730989747,
          -2.2197853133047554,
          -2.262482968292236,
          -2.2210850103269144,
          -2.2223231348977075,
          -2.249699751178441,
          -2.2076647893650247,
          -2.2217381092779225,
          -2.190508049918796,
          -2.1674670765827915,
          -2.1831963896245012,
          -2.1105469576720153,
          -2.173356201599715,
          -2.136819936084653,
          -2.1697369381433202,
          -2.1700248287095847,
          -2.1757832685763336,
          -2.1582946752612915,
          -2.1667655362381,
          -1.9556138056938706,
          -1.9834019097338864,
          -1.6954776875758728,
          -1.7357339348480332,
          -1.7306053454237065,
          -1.7308391880085843,
          -1.725568330283283,
          -1.6390078775129449,
          -1.7054959858718306,
          -1.708505523280997,
          -1.7901771541698663,
          -1.7589225521355871,
          -1.892758564428285,
          -1.8721145869438838,
          -1.8719936838325033,
          -1.8571913918564036,
          -1.8582770848902201,
          -1.8099763038936496,
          -1.901918288038277,
          -1.8372640098668591,
          -1.828963395056769,
          -1.8048555342228667,
          -1.8725075407911436,
          -1.913689508105376,
          -2.0159459039644543,
          -1.9717645282855334,
          -1.9957727318471623,
          -1.9782243197848992,
          -2.018201890042181,
          -1.9713785298158484,
          -2.0987590567697456,
          -2.0376952936544708,
          -1.9732139476492374,
          -2.024871924619956,
          -1.9619043536394445,
          -1.9780493854652166,
          -1.9968508247200183,
          -1.9901875045830746,
          -1.993181864367119,
          -1.9710737805304102,
          -2.200035953579504,
          -2.2009506356260897,
          -2.347913594610079,
          -0.558030758496561,
          -0.5577459962590118,
          -0.5385205614120457,
          -0.5281605153653246,
          -0.5254143452611686,
          -0.530992630974545,
          -0.5257269254893229,
          -0.5659184355963808,
          -0.5659681679626573,
          -0.5663988717249947,
          -0.565996696474201,
          -0.5647884845833254,
          -0.5628598517549043,
          -0.5674700942547747,
          -0.7156216724164265,
          -0.706717981715595,
          -0.6963397735178167,
          -0.709847182496386,
          -0.7241430924182555,
          -0.7377854979143653,
          -0.7341834004915389,
          -0.7301705172267826,
          -0.7518901788952874,
          -0.7427432236316184,
          -0.7508455919882233,
          -0.7642647944209506,
          -0.7597573291142474,
          -0.7569057364437549,
          -0.7536268122156636,
          -0.7535547961953646,
          -0.7496671761348446,
          -0.7405853684321974,
          -0.7423072099729853,
          -0.7367755899326237,
          -0.7879569833962827,
          -0.7894698340529566,
          -0.7688554873496416,
          -0.754409846156737,
          -0.7606241566900263,
          -0.7639144433278735,
          -0.7671652493484842,
          -0.7777014891080195,
          -0.7749135625368554,
          -0.787143438320025,
          -0.7764931966050344,
          -0.7824281183401238,
          -0.7870173569922319,
          -0.7882241846080468,
          -0.8004381780936164,
          -0.8013299431363713,
          -0.7774230760487713,
          -0.7837878424624299,
          -0.8278565228154559,
          -0.8207075688333073,
          -0.8359500165357571,
          -0.8111931137965926,
          -0.8310324523546596,
          -0.8477190530178149,
          -0.8451884965634188,
          -0.8390061440312169,
          -0.8431626394116456,
          -0.835706501428803,
          -0.8325926070705844,
          -0.8387448503670794,
          -0.8885439956298615,
          -0.7634108241411522,
          -0.7718044696514746,
          -0.7349329621026328,
          -0.7375756914799413,
          -0.7535809698102637,
          -0.7495927200191502,
          -0.7146604921989024,
          -0.7159593638849433,
          -0.7194826299459434,
          -0.7265048800177246,
          -0.7351076195778852,
          -0.7370167738152108,
          -0.7479751915141569,
          -0.7448446283705163,
          -0.7357946032905286,
          -0.7361168428967694,
          -0.722753441377983,
          -0.7432975007504011,
          -0.7222336974256116,
          -0.683428952238792,
          -0.6924264909069576,
          -0.6775663521787781,
          -0.5860540854779069,
          -0.5828902279627396,
          -0.5895554774479661,
          -0.6441423104805867,
          -0.6719591988475799,
          -0.6641844652178943,
          -0.6660670113176897,
          -0.6511064139877974,
          -0.6538184330096211,
          -0.6483539299248825,
          -0.6547737050668835,
          -0.6117038489936198,
          -0.6062583414989504,
          -0.549957056760093,
          -0.5453335670212835,
          -0.555053801093682,
          -0.5789577899495305,
          -0.5792098544065264,
          -0.5872229628797455,
          -0.5920099053381439,
          -0.5798650350044995,
          -0.5886964407867136,
          -0.5889099179540316,
          -0.5852348103623907,
          -0.6087449653797331,
          -0.6109835271014429,
          -0.6175074195473921,
          -0.6025201703592883,
          -0.5678101469290627,
          -0.571757950966465,
          -0.5440877542503194,
          -0.5443074860928799,
          -0.5428399918332903,
          -0.5399466033252782,
          -0.5403535490930826,
          -0.551167571977739,
          -0.5511188763200151,
          -0.5290477860427953,
          -0.521262760805904,
          -0.4954202388278155,
          -0.512210854018488,
          -0.4991023006063543,
          -0.4859869885056377,
          -0.5023884310872746,
          -0.5257280620972458,
          -0.6364383711140255,
          -0.6542967661372251,
          -0.5920268350324088,
          -0.5805393748656663,
          -0.5781354309757636,
          -0.5834490593278697,
          -0.5861317207855835,
          -0.6060701732837758,
          -0.6114149620311139,
          -0.6164856686917082,
          -0.6157094830926215,
          -0.5834453960413477,
          -0.5862007215435086,
          -0.5913108037608023,
          -0.5794381270048795,
          -0.5813865094077901,
          -0.6047540619828031,
          -0.6313628559141019,
          -0.6166350431155171,
          -0.6100063198640358,
          -0.613041273369729,
          -0.6235320616048559,
          -0.6296977746741929,
          -0.6335792975991394,
          -0.6380005968514278,
          -0.6399550378570803,
          -0.6541351934965265,
          -0.6545725426649951,
          -0.5646918391143133,
          -0.5678187004979445,
          -0.5677274376682107,
          -0.5643888306008756,
          -0.5545595290355586,
          -0.558635250442845,
          -0.5737776417470032,
          -0.5888062058508163,
          -0.5849281445571856,
          -0.5873262861913946,
          -0.5824922980619909,
          -0.593770609622877,
          -0.577089977976196,
          -0.5747909608047174,
          -0.577838544395561,
          -0.5882311127829519,
          -0.6064436458322133,
          -0.6058111350606329,
          -0.5999649438962888,
          -0.5943432711500741,
          -0.5722783135161449,
          -0.5757977044323592,
          -0.5835412984791818,
          -0.5828546353813165,
          -0.5868419094684302,
          -0.5789648026428317,
          -0.5822390745572462,
          -0.5805444493708369,
          -0.5656031016300244,
          -0.5697416215876993,
          -0.569387746288435,
          -0.5742083036769423,
          -0.5715128899825144,
          -0.5727918697830671,
          -0.5737641953258782,
          -0.5763377402549594,
          -0.5769808226330715,
          -0.5577839242012861,
          -0.7406807348269189,
          -0.7534551120818457,
          -0.7583278410009393,
          -0.7687508201131481,
          -0.7698483375262979,
          -0.7656202224370307,
          -0.7461924014860937,
          -0.758887716216122,
          -0.7460182416712174,
          -0.7431110973884909,
          -0.7174699550829021,
          -0.728599875178603,
          -0.7202695018310876,
          -0.7580045900118403,
          -0.6971215039568509,
          -0.7023817114843591,
          -0.6974910577055696,
          -0.7003625372367593,
          -0.7169889928853282,
          -0.6987592915304377,
          -0.7065630877828993,
          -0.6784954925212087,
          -0.6890574579876397,
          -0.6854410852661341,
          -0.6804204405240755,
          -0.7169138867836075,
          -0.7157279995322977,
          -0.7195466896839154,
          -0.7350550383426944,
          -0.7146604951004705,
          -0.7113687631617489,
          -0.6969423595649091,
          -0.7176701200984958,
          -0.7210158968935848,
          -0.722288273334004,
          -0.7293951434037105,
          -0.7676149818338863,
          -0.7420696345589074,
          -0.7355336140671206,
          -0.7445833281577362,
          -0.5943409732503043,
          -0.6477905180646909,
          -0.6891442879518073,
          -0.6805045220885524,
          -0.6643866741912762,
          -0.6653540408561422,
          -0.6363930707300123,
          -0.6842189880713907,
          -0.6779421307000298,
          -0.681941658102253,
          -0.6983971427423531,
          -0.6555665196036163,
          -0.642444132093143,
          -0.6646929923313006,
          -0.6659986112714406,
          -0.6810061646706339,
          -0.6780925244609457,
          -0.643100088905779,
          -0.7428545731440941,
          -0.744419572666668,
          -0.7410118907909874,
          -0.750857051497616,
          -0.7820253297154148,
          -0.800765027687119,
          -0.8084563826033692,
          -0.7933084911122837,
          -0.7722447680148878,
          -0.646509993815966,
          -0.6840494376199613,
          -0.6783220262878301,
          -0.6463753532845535,
          -0.6435017631257491,
          -0.6298207281987971,
          -0.6293339136258012,
          -0.6210699671144553,
          -0.6748971348099233,
          -0.6594376936211241,
          -0.6034852458071538,
          -0.6125405641296642,
          -0.6194021632737571,
          -0.6217831229836549,
          -0.6232045603427944,
          -0.6108884742497381,
          -0.6374439548275921,
          -0.5983075653076853,
          -0.5857211749822159,
          -0.6080358669557788,
          -0.8091445920818158,
          -0.8060443652105886,
          -0.7932225164261414,
          -0.8131676366417764,
          -0.8217044795364657,
          -0.7812378599718325,
          -0.7891766297212518,
          -0.7998912360178174,
          -0.7897017573255928,
          -0.8088389443163391,
          -0.8237403729916998,
          -0.8189925555105433,
          -0.8135049528355168,
          -0.7876083587749232,
          -0.7922760620307011,
          -0.8852949772852489,
          -0.8830350914294038,
          -0.8957350376487543,
          -0.8799840097575833,
          -0.8207310210934906,
          -0.8173733240750635,
          -0.8109186529347463,
          -0.8505970458659643,
          -0.8194297803245244,
          -0.877256019277286,
          -0.9408262713186756,
          -1.0860669121996511,
          -1.0354388852804532,
          -0.9745838481615389,
          -0.9684626680023651,
          -1.0139985525096025,
          -1.0308648910723788,
          -1.0902288340238224,
          -1.098176053052624,
          -1.056011916475554,
          -1.0772213878430859,
          -1.0759870032246621,
          -1.03022551094275,
          -1.0487429683719345,
          -1.031399200573382,
          -1.0137477708958857,
          -1.0363060585739003,
          -0.946655922750226,
          -0.968335962680342,
          -0.973761289515102,
          -0.9744781882685639,
          -0.9112625042905473,
          -0.9117071402229184,
          -0.8958734520746764,
          -0.9342498902555245,
          -0.9450480396094582,
          -0.8628422050895663,
          -0.8487529592962513,
          -0.8838685657308234,
          -0.8782835838239476,
          -0.8673460528209017,
          -0.8689705133798273,
          -0.8768619512661403,
          -0.9881547858485136,
          -0.974144998516682,
          -0.9642114098566757,
          -0.9187600204316856,
          -0.9159479257657631,
          -0.9123128455067877,
          -0.921570622921272,
          -0.9222630233356525,
          -1.051809278178235,
          -1.0394052054686174,
          -1.0334654480305672,
          -0.95979189158961,
          -0.9072502942234181,
          -1.0579697673864124,
          -1.0395965157263183,
          -1.0435608161694754,
          -1.0392932528165233,
          -1.0623218158545913,
          -1.044034297813154,
          -1.0531389008636807,
          -1.0722144491411507,
          -1.0586257929748717,
          -1.0892070516888026,
          -1.0799527735838852,
          -1.0447970798425532,
          -1.0531674101963744,
          -0.8486314531197008,
          -0.8650550001900625,
          -0.8356940029537707,
          -0.8120171829362867,
          -0.8055501177107656,
          -0.8219217495375357,
          -0.8212916244763814,
          -0.8281879963746046,
          -0.8218970849150448,
          -0.8083063724837217,
          -0.8170445875195734,
          -0.8255034457617068,
          -0.8502568356970862,
          -0.9040609190259841,
          -0.5379990167258086,
          -0.5571481980896446,
          -0.5653941745833694,
          -0.5509560715698368,
          -0.4842093484991543,
          -0.5025407970437749,
          -0.5067262568453036,
          -0.5064704724678214,
          -0.5692826611737476,
          -0.5653004700094637,
          -0.5669910794219957,
          -0.5501529065127839,
          -0.5407942177615788,
          -0.5441722494176748,
          -0.5370935006815432,
          -0.5298957659195034,
          -0.5380039500384146,
          -0.516183671274473,
          -0.5055744556159787,
          -0.8300991389932646,
          -0.5614754155565267,
          -0.5750231441246508,
          -0.5699313538748021,
          -0.5740812547197165,
          -0.5754598589699037,
          -0.552345097446491,
          -0.5489961520775877,
          -0.5445695149467107,
          -0.5231704443919333,
          -0.5124804060627999,
          -0.5172297826197756,
          -0.5009106964881627,
          -0.5177204859493777,
          -0.534384902443989,
          -0.5362420287230144,
          -0.48811047647969147,
          -0.48338507346765724,
          -0.48217678657124063,
          -0.49009416904876874,
          -0.46472461369402623,
          -0.4641040497428857,
          -0.4656840019137001,
          -0.475152907707338,
          -0.45732128020290724,
          -0.43665074357671957,
          -0.4712345488440186,
          -0.8630926166243936,
          -0.8507074753736268,
          -0.8225562271177099,
          -0.8117157398801459,
          -0.8501859259182217,
          -0.8547158121080295,
          -0.8577699860971252,
          -0.8572383250340904,
          -0.8604189009746687,
          -0.8485834172575638,
          -0.8440973926005498,
          -0.46918441748557776,
          -0.4586150772574675,
          -0.45935318889964244,
          -0.44696418394548937,
          -0.4262737666856853,
          -0.4726789085253291,
          -0.5332246537416481,
          -0.5162093764363801,
          -0.4880265843887666,
          -0.536699302493987,
          -0.5105287725070842,
          -0.5009184993999594,
          -0.6089913273078226,
          -0.6106563696837312,
          -0.603894041854643,
          -0.6173203799632263,
          -0.6114395949008706,
          -0.6231065025473198,
          -0.6264686220801059,
          -0.6123503968713966,
          -0.6373198997616835,
          -0.6432155342784218,
          -0.5919342721069417,
          -0.5805748200963425,
          -0.5864189373620605,
          -0.5854921685475543,
          -0.6082739472118904,
          -0.5874309740189685,
          -0.5564790575176747,
          -0.5704440049609084,
          -0.5499421086461207,
          -0.6120658779482331,
          -0.6233987851349466,
          -0.6064359198091267,
          -0.5990024314114158,
          -0.5701777497802577,
          -0.5705698189392188,
          -0.5656156837701369,
          -0.5722433904476956,
          -0.5623125234399365,
          -0.5537076841891064,
          -0.6400358031185508,
          -0.6338275514623978,
          -0.6491766211685709,
          -0.6239758305946862,
          -0.652013573137909,
          -0.6149025087342407,
          -0.5995452102970462,
          -0.599470304945739,
          -0.6106656906397655,
          -0.6153921405104488,
          -0.6433179372169583,
          -0.6420786048613262,
          -0.6344304437339442,
          -0.6473564405472741,
          -0.6437944695489202,
          -0.6729321825261094,
          -0.6655049102758411,
          -0.6632230386687673,
          -0.6521790461537272,
          -0.6622535215732372,
          -0.6604507701955807,
          -0.7183619559698626,
          -0.7043655894740528,
          -0.7113793916023582,
          -0.721761086791674,
          -0.8013764709862139,
          -0.7957279087497695,
          -0.7897498482924643,
          -0.7995536911997551,
          -0.806199141582628,
          -0.7745776478429486,
          -0.7737081331830247,
          -0.7882239639395962,
          -0.32036462253964826,
          -0.29491229683751596,
          -0.33419149137439813,
          -0.3336848374602658,
          -0.3426548867566653,
          -0.3459049287968917,
          -0.34607910258049074,
          -0.3438531219747338,
          -0.353537035537651,
          -0.35789783264943925,
          -0.35835151002987425,
          -0.32122417082696564,
          -0.33918465477885695,
          -0.3364114434963187,
          -0.3370932413828882,
          -0.34072610249061064,
          -0.3440487417612947,
          -0.33488074626562814,
          -0.43191870432320467,
          -0.4102260862433612,
          -0.39017735630317596,
          -0.40021195774734025,
          -0.4020181030565059,
          -0.40215671157943145,
          -0.4005857290415499,
          -0.36549421185538544,
          -0.372836045519147,
          -0.37549269324633194,
          -0.37580253102958583,
          -0.41513889068149096,
          -0.4221251147935356,
          -0.42210259350004287,
          -0.43353017215959744,
          -0.4340609396482183,
          -0.4318073044141193,
          -0.43360324302288467,
          -0.4305833554842619,
          -0.43545831585316874,
          -0.43816955699029037,
          -0.4361737070444533,
          -0.4406179039192378,
          -0.43809636504996935,
          -0.43899077311610823,
          -0.4382843709515884,
          -0.4368666961154803,
          -0.4368918709502821,
          -0.43514288246748656,
          -0.4364821780389841,
          -0.43601699035388974,
          -0.43650441871245993,
          -0.43915912054057243,
          -0.4411475079016577,
          -0.44028175431075284,
          -0.4373611806434112,
          -0.4383769508493035,
          -0.43876414421492854,
          -0.440291007935651,
          -0.44124919786148,
          -0.4344225047865676,
          -0.43515193411854025,
          -0.43751001664703393,
          -0.43628604987187086,
          -0.4373074027538622,
          -0.42522756939498374,
          -0.41743218730599413,
          -0.4056276050641055,
          -0.4060508871499253,
          -0.40455593991899935,
          -0.41063108891427214,
          -0.41406140645797407,
          -0.40626222242935567,
          -0.4089811978236464,
          -0.40890173523972034,
          -0.3216471438743769,
          -0.31658197997837817,
          -0.3187804582414377,
          -0.3224233293319968,
          -0.32169524457704907,
          -0.3218408945015877,
          -0.33040705439544255,
          -0.3267768029561656,
          -0.33712175022542823,
          -0.32708450902818004,
          -0.3150973400085037,
          -0.31921429150795166,
          -0.32435188885808747,
          -0.3141133708382585,
          -0.30537387159384505,
          -0.31177198067320905,
          -0.3146489942779502,
          -0.3163773208758672,
          -0.3106965464186012,
          -0.3180202340700913,
          -0.295902737375,
          -0.29855067418169295,
          -0.3103986852331444,
          -0.2876371446657476,
          -0.28386914812771236,
          -0.2749106762470443,
          -0.2948650769868796,
          -0.2949757801644908,
          -0.28400078860817546,
          -0.29556119598056707,
          -0.2984828756563177,
          -0.2668470439165252,
          -0.27176891659692454,
          -0.2660643986010552,
          -0.28602375501188576,
          -0.27357486735097586,
          -0.27354741821550166,
          -0.27307698343773323,
          -0.27358328361794493,
          -1.7454806953927702,
          -1.8009582585444068,
          -1.7897918572561864,
          -1.8124195487324513,
          -1.825630353700116,
          -1.822099575337506,
          -1.8304994479437726,
          -1.8092406609438387,
          -1.7483164013355945,
          -1.751240138588913,
          -1.7300365290430664,
          -1.7285030049124923,
          -1.7185167447422665,
          -1.7111831847054217,
          -1.7693856306597626,
          -1.904215096862618,
          -1.9172479028848344,
          -1.9114698045818395,
          -1.960041400524068,
          -1.705332907501677,
          -1.7050570794526885,
          -1.6971559470912039,
          -1.7020045963787083,
          -1.6607640428839547,
          -1.7146072232272573,
          -1.6420417618642145,
          -1.6362692811078225,
          -1.622205684196338,
          -1.6211439873778632,
          -1.6069862006402635,
          -1.6249583016489766,
          -1.7816532067478965,
          -1.736796639891634,
          -1.7835136542791277,
          -1.779553241005351,
          -1.8140885942915195,
          -1.8094670661903636,
          -1.8313637096458513,
          -1.8743538480570678,
          -1.7628280855035474,
          -1.7510769660830574,
          -1.7532692803449246,
          -1.543839557048922,
          -1.5493371465091756,
          -1.5457886372333163,
          -1.5466981961377433,
          -1.5036505068301398,
          -1.5283748358032436,
          -1.5292482716895275,
          -1.5328939812001527,
          -1.5431139036628536,
          -1.5342829679020185,
          -1.5248327487224973,
          -1.5017552142283768,
          -1.4784561859922511,
          -1.5018505394959565,
          -1.5245784799627908,
          -1.4984097129346285,
          -1.5054860786431778,
          -1.5081037025700903,
          -1.5012188420515742,
          -1.4925998079013267,
          -1.552598076670021,
          -1.574989002269027,
          -1.56172572990419,
          -1.571458116321694,
          -1.6057136661624212,
          -1.7073744789742016,
          -1.70450110923483,
          -1.5784730431249343,
          -1.6031243566173468,
          -1.6070195740504276,
          -1.650536649143337,
          -1.6501843225182575,
          -1.6653936843941741,
          -1.6556659543633145,
          -1.64285823677276,
          -1.6866053495862972,
          -1.7503763892883655,
          -1.5998699009965585,
          -1.6014895162723406,
          -1.5599964291983395,
          -1.5042180044828548,
          -1.4649878496426887,
          -1.5087535882921055,
          -1.8048843722289578,
          -1.7688020436523628,
          -1.708350834171948,
          -1.7082691365788536,
          -1.6895846011415687,
          -1.7245200360246489,
          -1.8653940633786787,
          -1.8880281355825126,
          -1.6846993701731694,
          -1.6094595487081695,
          -1.6058975832153342,
          -1.5590768819267036,
          -1.6240420624011396,
          -1.6463785981452423,
          -1.66313835642501,
          -1.6652672545797247,
          -1.664170969145148,
          -1.7410152807903911,
          -1.5086930558996854,
          -1.589544075012975,
          -1.5837205933285876,
          -1.5697964243426128,
          -1.4157615846810903,
          -1.468706973661197,
          -1.499984777030251,
          -0.47489819543189743,
          -0.4718950388008403,
          -0.4722284725793504,
          -0.5106553080087265,
          -0.508914335138522,
          -0.5096227672539378,
          -0.6786764202477944,
          -0.6975030071605044,
          -0.7080168928017431,
          -0.7126054223128301,
          -0.7160182386389864,
          -0.7044156765666527,
          -0.6840806903794244,
          -0.6714225801605149,
          -0.6658598801373509,
          -0.7094253310714543,
          -0.7038121365217993,
          -0.7182201076891044,
          -0.7551296642208373,
          -0.7824487857391074,
          -0.7347966652094571,
          -0.7467594675234034,
          -0.7483997162248566,
          -0.7512192182239248,
          -0.7116322570077419,
          -0.8331166867789609,
          -0.8456426968345117,
          -0.9141287641604492,
          -0.876721746217004,
          -0.8670425432372625,
          -0.8908307673260646,
          -0.7677411398493121,
          -0.7660417412954815,
          -0.7732291752095712,
          -0.7354811794150545,
          -0.7234554973369508,
          -0.6971378771360293,
          -0.6952394380573815,
          -0.6976797650610993,
          -0.702004972406698,
          -0.6803114993715361,
          -0.6784739079317208,
          -0.7162999373930002,
          -0.7139065856694671,
          -0.7228247790316956,
          -0.6843980073959225,
          -0.7210084821172051,
          -0.7458741127156056,
          -0.779487537781497,
          -0.6819587275189088,
          -0.7910686488305518,
          -0.926207923556407,
          -0.8408911147385003,
          -0.8186822361544815,
          -0.9166511058192813,
          -0.8850775405567686,
          -0.8371052258999356,
          -0.931718040944313,
          -0.9415287703781585,
          -0.9168246785875845,
          -1.008174999796009,
          -1.0155563965335082,
          -1.0013409787870244,
          -1.014643280383168,
          -1.0379229360909368,
          -1.0781632805247792,
          -1.0472694128248132,
          -1.0740861667640973,
          -1.0552444041344295,
          -1.064939503034685,
          -0.44056697646800036,
          -0.4948772816269056,
          -0.48949895872362614,
          -0.8119075680276554,
          -0.8148879949419929,
          -0.8710076565436454,
          -0.8508508390509711,
          -0.7358749127124891,
          -0.8324635503491159,
          -0.8649445579589289,
          -0.8360850428723192,
          -0.8200890987369056,
          -0.7638420127312265,
          -0.7640935588177029,
          -0.6973241967413296,
          -0.7097971363617375,
          -0.7514733961522946,
          -0.7669612953795977,
          -0.7631578575838679,
          -0.7277715114021961,
          -0.7454227191574061,
          -0.7077942755624981,
          -0.6677683944726722,
          -0.6679802181609671,
          -0.714831580368391,
          -0.6209235346814461,
          -0.6352554082036802,
          -0.6428124979033557,
          -0.6895950380533127,
          -0.6920224232813575,
          -0.6704408147353841,
          -0.6659764685209725,
          -0.7866409859951795,
          -0.854440265414485,
          -0.823450782763419,
          -0.8228578509715094,
          -0.8452856574384343,
          -0.8608363178924684,
          -0.8455420141097766,
          -0.8386112890836335,
          -0.491589192204033,
          -0.4976300164558227,
          -0.494027477366944,
          -0.510968469007896,
          -0.5355052435920981,
          -0.5169460573757896,
          -0.5459954621498149,
          -0.5375404489580828,
          -0.5286416509983933,
          -0.439491158046831,
          -0.4413471361418953,
          -0.4181763792913439,
          -0.46223360639974426,
          -0.5778019404291774,
          -0.5809914001995954,
          -0.570635837608249,
          -0.5706961153078517,
          -0.5513529313105123,
          -0.5668976667830243,
          -0.5495879461031641,
          -0.5480343732557468,
          -0.5429061974192263,
          -0.5402297383828129,
          -0.5457520837311743,
          -0.547774898440455,
          -0.5462271341997581,
          -0.5523871858350229,
          -0.5483156644913256,
          -0.5351526125357724,
          -0.5396107643936986,
          -0.5400779076541923,
          -0.5197199018751278,
          -0.5671127854138692,
          -0.5899836131173287,
          -0.5903157519784297,
          -0.6128844890891054,
          -0.624200667003934,
          -0.6115999380127992,
          -0.6113146826110322,
          -0.6328145139028828,
          -0.5816539311668016,
          -0.5560067636221224,
          -0.6576008544196112,
          -0.678155566014328,
          -0.6282900002952356,
          -0.6255676273211701,
          -0.6120567206629078,
          -0.5858432236291814,
          -0.6093273650529233,
          -0.6114627516090785,
          -0.6115496106319502,
          -0.6150861498180525,
          -0.6152693570785802,
          -0.6180343284016283,
          -0.6127104425920016,
          -0.6183039607452692,
          -0.6126684139203153,
          -0.6301962347989465,
          -0.6046192698013498,
          -0.5892099554442884,
          -0.6494788716648274,
          -0.6685566170518369,
          -0.6439254340692746,
          -0.6016772636581145,
          -0.5711445917323782,
          -0.570379858365937,
          -0.562991488544468,
          -0.5644265096038895,
          -0.563848356713764,
          -0.5548107573518412,
          -0.5769426810944989,
          -0.5802601631412901,
          -0.5857168475248414,
          -0.5585437078460184,
          -0.5531806058642997,
          -0.5649085265440388,
          -0.5715849405595687,
          -0.5744245251054069,
          -0.5711212805465739,
          -0.564871544508292,
          -0.6665612044426295,
          -0.6579060909926926,
          -0.6612320955914859,
          -0.660062366419835,
          -0.6612661384259602,
          -0.6601019017954316,
          -0.659690419267434,
          -0.6580894142799736,
          -0.6618922453670364,
          -0.6625555161547879,
          -0.654327432380185,
          -0.6613636171455063,
          -0.659381597894773,
          -0.6566907031466779,
          -0.6459237205317464,
          -0.6496270764144128,
          -0.6500578378196963,
          -0.6542041755518796,
          -0.6520681313609726,
          -0.6541422768515118,
          -0.6500993628340029,
          -0.6570214621146063,
          -0.6617418867616279,
          -0.6657065792051887,
          -0.6580525566129765,
          -0.6469218217200569,
          -0.6502849241155768,
          -0.6469261378782601,
          -0.6394022445851175,
          -0.6377909600942103,
          -0.6345443126683007,
          -0.6588839011937463,
          -0.6351767384276089,
          -0.6024390002387217,
          -0.6487680897319553,
          -0.6504897688404694,
          -0.6108362166595777,
          -0.6063817615266374,
          -0.5880138667956183,
          -0.5936469849380489,
          -0.5934676234603653,
          -0.6562721813908226,
          -0.6518192686811858,
          -0.6565261238317176,
          -0.6532051352485415,
          -0.6052672614847984,
          -0.5989994795939045,
          -2.676680470756686,
          -2.6684908552960462,
          -2.6630583545564597,
          -2.6024844699763614,
          -2.650762361231488,
          -2.605096541154612,
          -2.6319775903554614,
          -2.903470693451105,
          -2.6807920580057236,
          -2.787620077246664,
          -2.759895264027678,
          -2.7918179075397367,
          -3.115271252140391,
          -3.1491165954174196,
          -3.0928033042080947,
          -2.9534521954700295,
          -2.962634098873093,
          -2.8937985515464764,
          -2.7725587654244888,
          -2.7680649487023126,
          -2.8458124417088295,
          -2.837514586426989,
          -2.793483053742556,
          -2.8713650973087796,
          -3.028819836768292,
          -2.975198326016144,
          -2.7851235042278626,
          -2.7405414170379734,
          -2.7016710790505023,
          -2.661602608568658,
          -2.7194332469877964,
          -2.5817114886199426,
          -2.912441701020633,
          -2.921009611257124,
          -2.9008688097454587,
          -2.896319349148856,
          -2.8568065929047948,
          -2.5126723072758366,
          -2.510076526099809,
          -2.5176059671649487,
          -2.474130229742196,
          -2.475305225977534,
          -2.3973102099535337,
          -2.403292112148524,
          -2.4303451768983964,
          -2.394649175572045,
          -2.366951994324719,
          -2.411891095394092,
          -2.4602920568440307,
          -2.533301252140579,
          -2.4844322559833136,
          -2.485529436866977,
          -2.474164895091243,
          -2.5987055359263973,
          -2.691901095840377,
          -2.618604891307672,
          -2.6185267900531253,
          -2.6189786434665576,
          -2.7099526779989977,
          -2.577663759621964,
          -2.530770786592848,
          -2.4934930059954437,
          -2.6120082341043087,
          -2.5239478557459263,
          -2.477613622058808,
          -6.386585791024023,
          -6.388417778629169,
          -6.410754273084757,
          -6.165319741931032,
          -6.202793245847624,
          -6.206709514881738,
          -6.2058688926784935,
          -6.240835336342613,
          -6.691877429013824,
          -6.635696105311685,
          -6.736335387383411,
          -6.607605006868912,
          -7.362902930095754,
          -7.374789733140018,
          -0.33573976773021186,
          -0.10857250885716917,
          -0.1464717153280633,
          -0.11546563124866102,
          -0.13169609605458632,
          -0.2052057640322553,
          -0.08040021335031053,
          -0.44892945156966046,
          -0.4627539246805882,
          -0.4949037643171243,
          -0.49128051762712593,
          -0.49288650202040807,
          -0.5704956935498472,
          -0.5820143366711233,
          -0.5325796585091858,
          -0.655424890496411,
          -0.5994879303055171,
          -0.6045303772708797,
          -0.6077105422020184,
          -0.6665669467354738,
          -0.5092068587186742,
          -0.4800369054038448,
          -0.49577522932101853,
          -0.33372197384575236,
          0.06567097752759708,
          -0.34540887067463133,
          -0.3572936951486238,
          -0.30388534758776714,
          -1.8609472911924971,
          -1.8715066500325848,
          -1.8713424097635836,
          -1.8934228518276448,
          -1.933708665122624,
          -1.9468776861272488,
          -1.9465809962310758,
          -1.876069167286613,
          -1.8297899337499774,
          -1.8192249481475609,
          -1.8308955996316776,
          -1.8286686221961537,
          -1.794759871430603,
          -1.917076107372039,
          -1.8589599474289857,
          -1.8926472817185385,
          -1.8882947082275052,
          -1.8382317522672684,
          -1.9511305478913512,
          -1.957561642781863,
          -1.9583019279311753,
          -1.9040382010577979,
          -1.9733074511752162,
          -1.912570975184611,
          -1.942774809078246,
          -1.9658443327199349,
          -1.9613925473731078,
          -1.9647313020342787,
          -1.9745407684927976,
          -1.9465182721692706,
          -2.010544373831247,
          -2.0526431331893074,
          -2.062524616118486,
          -1.990606004325755,
          0.06920525160101461,
          0.07494883825136159,
          0.06206789603338774,
          0.06194262899824437,
          0.06511592527509524,
          0.06235694257978955,
          0.06358443029295241,
          0.07715718484913253,
          0.07992576319501278,
          0.06359256139975324,
          0.0512364913661667,
          0.0476932312942142,
          0.045692356943535115,
          0.02073533991741858,
          0.052525086343382,
          0.04429141663311571,
          0.051126787387849405,
          0.03466333531998834,
          0.11603701532847101,
          0.11604231566247528,
          0.10237114546033059,
          0.08628319318414318,
          0.06494813835409761,
          0.07630920306982268,
          0.10385557184597903,
          0.06865819227718581,
          0.05637363369388785,
          0.055513761871787644,
          0.09101780248910585,
          0.0650258541932051,
          0.0722170963892059,
          0.07265024239777755,
          0.06860248753123004,
          0.07172172325814481,
          0.06712442777997885,
          0.07114936435756143,
          0.07445962005158507,
          0.07766753958084142,
          0.08459853221237285,
          0.08731014975540005,
          0.11153631164271663,
          0.08378534842224405,
          0.0818382723384258,
          0.08380984634322741,
          0.07808143581728866,
          0.08099474914430876,
          0.031643400322481696,
          0.03276141098875238,
          0.03199016712045243,
          0.02415813033273003,
          0.03197868487506402,
          0.026884399360229596,
          0.02900910413389615,
          0.025972313822043555,
          0.01841510249601652,
          0.0636822224818402,
          0.02290256234230234,
          0.03221929192187965,
          0.029503108089490332,
          1.1534667622085342,
          1.155119001714038,
          1.110014615319076,
          1.355303981918585,
          1.3177003800964664,
          1.3360317149335241,
          1.5141122743050448,
          1.459411368365627,
          1.4223468050052697,
          1.3467212970330351,
          1.2711099667784793,
          1.2900599434735787,
          1.2806315842891087,
          1.2539287227364257,
          1.2426969616106927,
          1.2452045986136313,
          1.2491173391463326,
          1.3108664141252513,
          1.2850411728136446,
          0.9700643374366529,
          0.9898167331054295,
          0.9865007879097168,
          0.9529714236145539,
          0.9840542354418118,
          0.9333272782428836,
          0.9240797910392247,
          0.9999777756724844,
          1.0238808415139031,
          1.0285283967545784,
          1.0414628760798146,
          0.977922774907369,
          1.0959631395509808,
          1.1332067153694123,
          1.0772682615537335,
          1.2326454092503265,
          1.1720137731917866,
          1.5826057696336993,
          1.583628448778815,
          1.5635900582491158,
          1.497009457058237,
          1.4891993022033232,
          1.4957661213776707,
          1.5193723494759843,
          1.4579908887501836,
          1.5389900443241447,
          1.5184866472926202,
          1.410219295049197,
          1.51167854444196,
          1.5256875169007846,
          1.5628611000951587,
          1.1240152911715322,
          1.1278569166537102,
          1.124381743079462,
          1.124916484635131,
          1.1292109285482357,
          1.1278371449678528,
          1.3889638937047997,
          1.3669855533225372,
          1.3764379484800269,
          1.2285996715038996,
          1.2774345733339554,
          1.2189676608911426,
          1.2033459879849908,
          1.2767709924207755,
          1.3051263426133157,
          1.0057725892266407,
          0.9922129953331588,
          1.0406718132463324,
          1.1003533243421533,
          0.9160627218421344,
          1.1148549064902118,
          1.1195132569948405,
          1.1401873457139156,
          1.1455861491650854,
          1.1265341630002155,
          1.1648475811552808,
          1.0308613003208102,
          0.7563133986261971,
          0.7692120502228056,
          0.8554170316069372,
          0.8605595179022179,
          0.8302052300509184,
          0.8687735288829125,
          0.8426270603123771,
          0.8102863600786445,
          0.8387982217784755,
          0.7834822976677461,
          0.7880857831846602,
          0.8131038194148499,
          0.8410201928594228,
          0.9032648551344925,
          0.9409653372249153,
          0.9569588557637578,
          0.5220791282646254,
          0.5254861107918356,
          0.5407046455990432,
          0.5273766039811889,
          0.5301338827146732,
          0.5331838876314555,
          0.5573962431387217,
          0.519691362540248,
          0.608295140387243,
          0.580222163650776,
          0.625908365498045,
          0.6088437977931838,
          0.5299602213436543,
          0.5188765738419924,
          0.5309521954590304,
          0.5331994965804269,
          0.5322603626993634,
          0.5310501017197865,
          0.532949640481633,
          0.5182090100118869,
          0.5169960426674688,
          0.516383407518262,
          0.689292147009638,
          0.637619272650524,
          0.5213901671927844,
          0.6955725187770118,
          0.7042083912068444,
          0.7069341866937272,
          0.5027777304914761,
          0.5200064706312781,
          0.5068357815659854,
          0.4724522101133013,
          0.46375116600226524,
          0.4387463212102351,
          0.47074981408567745,
          0.4983264006662766,
          0.49351862327733786,
          0.4846526675642153,
          0.48364905822692256,
          0.48024636133141985,
          0.4925767016557551,
          0.4718822375247679,
          0.4782373222035828,
          0.4525728626996934,
          0.4813437013932728,
          0.481323531367895,
          0.4901216083701532,
          0.48267488010385357,
          0.48507338457682403,
          0.49887062808776683,
          0.6818498268053514,
          0.6892856561432084,
          0.5865199373275556,
          0.6110278052952892,
          0.6080477391165825,
          0.8106732043248953,
          0.7661884815408319,
          0.8013244031208585,
          0.8078165757492897,
          0.7480024278936623,
          0.8603821507444949,
          0.8988157108931439,
          0.8674777080366972,
          0.7829562813739566,
          0.7201268292622316,
          0.8095120389824717,
          0.8727220937807191,
          0.7841347530094546,
          0.9443327980847224,
          0.8732497826585954,
          0.872330324585022,
          0.8124034920609225,
          0.735235364593702,
          0.7146994703905981,
          0.7352459979473562,
          1.1557712890367964,
          1.1584437114356625,
          1.1575003719683206,
          1.163789228386091,
          1.1621617067886152,
          1.1898815012658988,
          1.1036169437842873,
          1.1617614457458285,
          1.232204038055044,
          1.2322632943786853,
          1.1760324472426436,
          1.1815045487975022,
          1.1077948767308607,
          1.1478950766107023,
          0.9909739237850484,
          0.9036781881677299,
          0.8554677347936175,
          1.0382200345726003,
          1.0855556375054665,
          0.9922979142800455,
          1.2661176371936085,
          1.1570008541420134,
          1.0612346807949864,
          1.159078170211722,
          1.159799523022257,
          1.0364329342699394,
          1.0821749049919505,
          1.11449509141879,
          -4.116138895106064,
          -3.907289163614833,
          -4.288182264028073,
          -4.074907930453404,
          -4.076107858610533,
          -4.0506978334691714,
          -4.061003507073408,
          -4.2193773504317855,
          -4.326388902369637,
          -4.258121943193789,
          -5.184627974371872,
          -4.689834181261339,
          -4.4794787128968006,
          -4.39139192648897,
          -3.3372742815602434,
          -3.177103598439533,
          -3.26385699842811,
          -3.2861582016799784,
          -3.0830065631401076,
          -3.695544908986829,
          -3.651699973134074,
          -3.5132992681299218,
          -4.4859417881190895,
          -6.071642473496161,
          -6.174998653751958,
          -5.900583260595696,
          -4.422906213533375,
          -6.202892066822215,
          -5.666090394710254,
          -4.415461088791913,
          -4.47968535579342,
          -4.476358578949209,
          -4.404170387375363,
          -4.259256503516111,
          -4.4472770339514565,
          -4.470235742193344,
          -4.6347026623903975,
          -4.61859509976758,
          -4.65661486592461,
          -4.261908577858137,
          -4.383438707201705,
          -4.229397442540594,
          -4.238988635746274,
          -4.215774912218623,
          -4.290275881646539,
          -4.612773630048326,
          -4.612054401626914,
          -4.6589876939315085,
          -4.600750197380998,
          -4.696976992552614,
          -4.70772573184277,
          -4.82080639533448,
          -4.6273597162885824,
          -5.331884168952526,
          -5.09642034457554
         ],
         "marker": {
          "color": [
           8712.6,
           11354.85,
           11516,
           10541.6,
           11823.5,
           12530.4,
           10868.9,
           10953.65,
           8566.45,
           9758,
           9674.6,
           10588.5,
           8661.5,
           10137,
           9544.8,
           8278.8,
           8407.5,
           8556.7,
           8431.7,
           9522,
           9362.2,
           9013.5,
           12253.6,
           9349.9,
           11912.5,
           11438.5,
           8447,
           9142.7,
           8248.55,
           13251,
           10199.5,
           10439,
           8282.45,
           12743.9,
           13804.4,
           12003.8,
           12194.1,
           9265.3,
           17586.3,
           8956,
           11959.2,
           15217.7,
           9244.9,
           11094.1,
           8498.1,
           11154.4,
           8821.8,
           9023.8,
           11264.5,
           8869.85,
           9792.65,
           17089.6,
           8631.3,
           10230.9,
           18193.2,
           9436.2,
           10213.4,
           12543.3,
           9355.6,
           10209.1,
           13224.9,
           8356.7,
           8307.8,
           8442.95,
           9586.1,
           9211.3,
           8306.3,
           9222.5,
           8848.2,
           9347.8,
           10319.6,
           8298.2,
           10277.8,
           8635.3,
           8957.5,
           10575.7,
           10177.7,
           8395.5,
           10791.8,
           11200.7,
           9447.3,
           8456.7,
           8578.9,
           10291,
           9623.8,
           8829.4,
           9029.6,
           8688,
           11152.8,
           10511.9,
           8576.4,
           8430.6,
           9798.4,
           18480.7,
           9501.75,
           10663.4,
           8602.8,
           10019.45,
           8661.7,
           9775,
           9934.4,
           9740.5,
           8250.3,
           8585.2,
           9943.15,
           8349.2,
           8266.65,
           9380.2,
           11539.15,
           11348.1,
           14030.3,
           8486,
           8577.7,
           8823.15,
           8805.2,
           10190.1,
           8788.4,
           10218,
           11690,
           9830.6,
           8880.1,
           9711.7,
           8267.2,
           9504.65,
           9268.2,
           10176.75,
           8602.1,
           10208.6,
           8663,
           9474.7,
           8769.4,
           9562.75,
           10460.9,
           10062.05,
           8623.1,
           8946.6,
           10421.9,
           9712.5,
           9391.45,
           8849.9,
           9509.2,
           12179.5,
           8488,
           8331.75,
           13831.5,
           9725.9,
           10695.7,
           8498.7,
           9970.5,
           11362.4,
           9085.8,
           9901.5,
           11249.8,
           9073.6,
           10104.1,
           10427.9,
           10419.95,
           9184.8,
           11128,
           10511.4,
           10560.1,
           9837.3,
           9203.4,
           19229.8,
           9448.8,
           9951.5,
           8210.3,
           10225.6,
           9872.4,
           8768.8,
           10739.95,
           8963.1,
           8456.6,
           8334.5,
           11916.8,
           9449.3,
           14615.8,
           8813.6,
           8682.5,
           8636.6,
           8577.9,
           9721.1,
           10982.1,
           12866,
           11878.8,
           11539.3,
           11033.7,
           11631.4,
           8564.7,
           9438.8,
           8303.75,
           8788.6,
           10324,
           10192.5,
           8263.65,
           8906.4,
           11207.4,
           8235.7,
           8732.5,
           8696.1,
           10004.8,
           11373.45,
           17940.1,
           9442.2,
           9527.4,
           9656.45,
           9954.05,
           10403.2,
           11765.7,
           11503.25,
           8687.85,
           9066.65,
           15003.2,
           8713.6,
           10691.4,
           13734.4,
           14018.1,
           8920.9,
           11322.5,
           9666,
           8260.7,
           9515.7,
           9304.4,
           10730.9,
           9537,
           10623.9,
           8261.5,
           8894.55,
           9269.2,
           11069.45,
           11157.8,
           10508.1,
           10771.9,
           14885.6,
           9456.8,
           13801.55,
           18628.5,
           8873.1,
           10443.4,
           9414.65,
           9077.95,
           8281.3,
           11591.35,
           16153.45,
           10857.35,
           8225.1,
           10184.7,
           8597.55,
           9365.1,
           13089.5,
           8514.05,
           9888.35,
           11320.45,
           8768.3,
           8738.3,
           8303.85,
           10474.6,
           9873.2,
           9150.95,
           12004.3,
           11294.2,
           8783.7,
           12574.5,
           8218.7,
           11804.3,
           11969.4,
           8592.2,
           15827.5,
           10304.3,
           9512.55,
           12413.35,
           10319.8,
           9184.1,
           9243.55,
           9415.8,
           9227.2,
           12320.4,
           8329.1,
           9281.1,
           8687.7,
           8289.9,
           9003.9,
           8611.8,
           8542.3,
           9146.75,
           9105.1,
           9450.15,
           11569.4,
           8433,
           8660.9,
           9051.5,
           8671.3,
           16952.2,
           10041.1,
           11594.25,
           9881.5,
           9403.4,
           8214.5,
           12340.2,
           14376,
           8696.9,
           9891.9,
           12409.55,
           9428.6,
           9150.9,
           11462.6,
           8289.3,
           11962.85,
           10352.8,
           8590.1,
           8381.5,
           9035,
           11947.6,
           10371.9,
           9162.8,
           10050.65,
           8659.9,
           11664.25,
           8657.4,
           9564.2,
           12707.8,
           9978,
           9126.6,
           11731.4,
           8710.6,
           11633.4,
           10446.9,
           12987,
           9920.1,
           8353.7,
           10432.05,
           8842.1,
           9204.35,
           8576.7,
           11090.95,
           12071.95,
           9948.15,
           13833.4,
           14886.8,
           9580.8,
           12017.7,
           10359.3,
           11495.9,
           10932.9,
           8234.2,
           11104.6,
           9650.4,
           9060,
           10229.5,
           11705.6,
           8578.5,
           8781.05,
           9615.3,
           16653.9,
           8615.5,
           9106.2,
           9261.6,
           9119.9,
           9174.2,
           8883.55,
           9430.3,
           12396.5,
           9269.2,
           8384.95,
           10513.1,
           8602,
           8834.8,
           10794.5,
           10349.15,
           9080.65,
           8288.3,
           22769.7,
           19653.35,
           11752.4,
           90731.45,
           11030.65,
           9063.8,
           8590.7,
           14200.9,
           9865.6,
           8266.35,
           16882,
           8783.25,
           10256.8,
           8581.2,
           11694.55,
           10565.45,
           8451.7,
           10949,
           9656.2,
           9533.7,
           8567.9,
           10282.15,
           8517.3,
           18551.15,
           8349.1,
           9151.3,
           9225.8,
           8627.75,
           8881.85,
           8730.4,
           8864.3,
           10631,
           9880.2,
           9054.4,
           8217.9,
           12857.8,
           8340.75,
           9111.9,
           12274.9,
           8688.75,
           14421,
           9535.6,
           12492.6,
           8385.65,
           11737.4,
           8437.8,
           8364.3,
           8356.8,
           8232.3,
           12869.5,
           10412.8,
           11468,
           8940.55,
           8795.6,
           11083.7,
           9627.3,
           9092.3,
           13086.45,
           19480,
           11229.05,
           11160.7,
           8782.8,
           8561,
           8659.95,
           12420.15,
           9315.1,
           13508.6,
           8563.7,
           8930.3,
           9201.6,
           9370.1,
           12528.3,
           9360.9,
           8292.5,
           8836.7,
           8299.4,
           10600,
           13668.6,
           17684,
           8307.2,
           8592,
           9676,
           9362.65,
           8307.2,
           8868.7,
           8561.75,
           12697.2,
           8984,
           8217.85,
           8496.7,
           10057.55,
           14743.8,
           17307.6,
           18014.9,
           8434.9,
           8994.4,
           9263.1,
           8901.4,
           13130.9,
           11121.9,
           8307.3,
           11021.4,
           10194.4,
           8372.2,
           8855.4,
           9945.8,
           8432.8,
           9999.6,
           10392.7,
           12286.7,
           9245.3,
           9201.85,
           11682.9,
           9298.2,
           9524.15,
           8255.2,
           10350.2,
           10080.55,
           9317.7,
           8688.3,
           8629.8,
           9567.35,
           12422.1,
           8959.9,
           9181.9,
           12472.1,
           8447.9,
           8847.25,
           8471.9,
           8567.7,
           9529.2,
           11196.9,
           10430.2,
           8290.4,
           9202.5,
           10097.8,
           8423.7,
           10408.4,
           9170,
           15525.6,
           8329.5,
           8490.9,
           9128.4,
           8564.55,
           8864.1,
           9447.65,
           9228.4,
           9955.5,
           14935.1,
           11298.2,
           11131.65,
           21578,
           13361,
           13878.8,
           9085.8,
           8461,
           8671.6,
           9183.15,
           9235.8,
           8501.1,
           9164.2,
           8962.2,
           12159.6,
           10637.45,
           8509.05,
           8808.8,
           8226.95,
           10148.2,
           11749.55,
           9225,
           12590.9,
           8323,
           11195,
           8384.25,
           12919.7,
           9209.25,
           8439.8,
           9967.1,
           8439.2,
           11546.3,
           8516.8,
           9249.1,
           9792.4,
           15673.3,
           8535.4,
           8847.6,
           16633,
           10608.95,
           9328.8,
           8577.7,
           8413.2,
           9132.65,
           9956.3,
           8269.8,
           13076.1,
           8688.1,
           9741.25,
           8469.7,
           9365.4,
           10578.15,
           9462.25,
           13078.3,
           8518.6888889,
           8269,
           10468.8,
           9730.4,
           10331.1,
           10516.9,
           20462.5,
           10939.6,
           10474,
           12145.6,
           8820.3,
           8250.75,
           8651.35,
           11126.15,
           9138.1,
           13587.3,
           8652.85,
           18595.5,
           9343.1,
           8747.3,
           10596.9,
           8307.8,
           11339.3,
           8342.2,
           10354.75,
           8763.15,
           8500.1,
           8482.15,
           10888.4,
           11031.2,
           9526.7,
           12265,
           10509.85,
           10212.2,
           8518.1,
           9594.9,
           9079.6,
           12381.55,
           16697.45,
           11216.4,
           8944.2,
           10771.9,
           10229.25,
           8379.5,
           8543.9,
           9674.9,
           11814.3,
           8858.5,
           14548.55,
           14733.9,
           9231,
           8904,
           8260.25,
           13464.5,
           9026.9,
           10696.7,
           15708,
           8712.8,
           15458.4,
           10479.9,
           9510.55,
           8399.35,
           9547.3,
           8529.6,
           9305.1,
           9155,
           8689.9,
           9513.25,
           13850.2,
           12745.05,
           12352.4,
           9631.7,
           9336,
           8516.8,
           8488.4,
           10794.3,
           10451.2,
           9990.5,
           10181.6,
           10141.05,
           10458.5,
           18021,
           12629.35,
           9645.6,
           21472.6,
           11306.6,
           9773.3,
           13297.5,
           8608.15,
           12315.2,
           10209.55,
           8221.6,
           8529.8,
           11896.5,
           9153.05,
           9473.5,
           11644.4,
           17289.2,
           16475.2,
           12239.55,
           14034.7,
           9667.25,
           9776.2,
           8388.6,
           8273.45,
           14391.1,
           9593.6,
           8983.9,
           12554.1,
           9800.35,
           12098.55,
           14786.7,
           9117.55,
           12162.4,
           9392,
           8929.55,
           9895.5,
           8960.4,
           11047.65,
           8239.7,
           17102.55,
           9198.5,
           9014.9,
           8519.3,
           13732.95,
           9794.25,
           8267.05,
           9945.2,
           9554.25,
           9643.6,
           10213.25,
           11647.9,
           9663.05,
           8284.8,
           8328.3,
           8745,
           13093.1,
           13942,
           8268,
           10596.3,
           8940.2,
           13241.3,
           18346.9,
           8406.1,
           8991.7,
           10289.9,
           9420.6,
           10502.8,
           8270.1,
           9688.3,
           9824.75,
           8810.5,
           10263.95,
           11157.5,
           8798,
           8679.7,
           11286.2,
           8874.85,
           15486.9,
           21979,
           9961.6,
           11122.2,
           9964.85,
           12578.3,
           12463.7,
           19138.3,
           8417.2,
           8585.1,
           14381.7,
           8303.6,
           9077.2,
           8652.2,
           9069.1,
           8399.4,
           8211.4,
           8244.65,
           9482.1,
           9092.2,
           11321.4,
           10898,
           12890.25,
           15987.2,
           10017.8,
           11506.8,
           27301.4,
           12536.3,
           9827.1,
           9350.95,
           8238.8,
           8608.6,
           8884.35,
           8797.05,
           8732.7,
           10403,
           9943.2,
           8619.15,
           15034.7,
           8280.9,
           8875.7,
           8659.65,
           8258.85,
           8501.8,
           8605.4,
           9217.7,
           12072.6,
           8507.55,
           9630.7,
           8838.6,
           9382,
           8213.8,
           11595.75,
           9997.35,
           9696,
           11808,
           12842,
           9734.15,
           8422.45,
           11927.15,
           9545.5,
           12597.7,
           14204.4,
           10026.3,
           8417.35,
           11385.3,
           10897.65,
           10713.3,
           8466.1,
           8430.2,
           11654.9,
           8397.3,
           10906.2,
           13745.8,
           9926.75,
           9131.6,
           9386.2,
           8490.3,
           8581.7,
           8818,
           11550.5,
           8920.2,
           10156.6,
           9871.9,
           10197.25,
           10361.9,
           9121.7,
           8395.8,
           8828.2,
           10479.4,
           9063,
           8242,
           14926.4,
           9939.4,
           9008.55,
           8439.45,
           12388.25,
           10838.4,
           8756.65,
           9567.4,
           10012.8,
           8900.3,
           8814.1,
           8671.4,
           9260.7,
           11134.4,
           9193,
           8451.1,
           9283.35,
           8745.95,
           9190.7,
           9988.3,
           8620.1,
           8593.3,
           10972.65,
           8301.35,
           13415.05,
           8557.5,
           8234.2,
           8501.45,
           9513.8,
           12738.6,
           8763.7,
           8546.5,
           8905.5,
           9825.7,
           8302.8,
           8443.5,
           9104.65,
           11396.4,
           9629.6,
           12748.4,
           8584.6,
           18449.9,
           8277.5,
           9252.5,
           10882.7,
           8913.2,
           9966.75,
           9925.7,
           10282.8,
           8351.3,
           8596.2,
           10113.9,
           10706.4,
           8970.3,
           8586.4,
           8359.6,
           8752.55,
           8689.7,
           14399,
           10625.5,
           8543.3,
           9110.7,
           9912.1,
           12280.2,
           8889.2,
           11501.1,
           19245.1,
           8446.45,
           10484.4,
           8851.4,
           12019.5,
           10817.1,
           8885.4,
           8445.9,
           10818.25,
           11099.9,
           17078.9,
           12575.9,
           14227.05,
           10272.35,
           10885.7,
           8591.5,
           8464.8,
           11126.7,
           8508.5,
           8295.6,
           12739.45,
           14936.1,
           13342.6,
           10777.4,
           8248.4,
           9907.6,
           9278.1,
           8959.85,
           9342.05,
           9067.55,
           8555.55,
           8432.7,
           8675.1,
           11818.5,
           8576.5,
           8631.4,
           9333.6,
           9206.1,
           9680.6,
           9204.3,
           8556.2,
           10057,
           9681.2,
           8835.55,
           9884.15,
           10332.6,
           8367.6,
           9233.5,
           9757.1,
           8648.4,
           10832.95,
           10727.9,
           8442.4,
           9726.7,
           8249.85,
           12141.8,
           8483.85,
           10589.15,
           12548.1,
           8272.9,
           11841.1,
           14543.25,
           9632.4,
           12502.5,
           12466.8,
           17233.3,
           12956.6,
           12430.4,
           8556.3,
           9182.6,
           11532.3,
           14380.9,
           8414.7,
           10448.1,
           8858.2,
           10843.9,
           12683.7,
           14648.45,
           10435.65,
           12524.2,
           8515.9,
           8774.55,
           8309.35,
           8309.3,
           9409.2,
           9370.6,
           14456,
           8709.5,
           10764.95,
           9528.2,
           11321.5,
           8769.3,
           15267.4,
           15549.2,
           10568.2,
           13112.2,
           8963.4,
           17021.8,
           8992.95,
           13229.7,
           10186.7,
           8562.65,
           9514.6,
           20419.6,
           9448.4,
           11041.8,
           13159,
           8912.2,
           8768.2,
           9339.8,
           10933,
           8407.6,
           8718.2,
           8647.7,
           9320.8,
           10777.9,
           12490.6,
           13583.4,
           8507.3,
           11535.55,
           9130.9,
           14914.8,
           8354.9,
           8372,
           13472.5,
           10196.15,
           8874.5,
           8724.2,
           9647.45,
           8880.8,
           8668.3,
           9157.4,
           8363.5,
           8380.25,
           9397.8,
           8401.45,
           8912.1,
           8397.1,
           11594.45,
           11606.55,
           8789.9,
           8921,
           21388.75,
           12924.05,
           17751.5,
           8480.5,
           8529.6,
           8578.5,
           8362.35,
           14981.1,
           10002.1,
           9120.7,
           9067.05,
           8926.1,
           8605.5,
           11911.3,
           11180,
           10519.7,
           8272.6,
           10618.3,
           8477.3,
           8242.85,
           12857.7,
           9627.1,
           8536,
           8930.2,
           8763.5,
           9995.1,
           9969.7,
           9498.9,
           9105.5,
           8700.8,
           8522,
           8294.05,
           8531.9,
           8663.9,
           8468.8,
           8639.7,
           9264.3,
           8739.3,
           9034,
           10999.5,
           11714.9,
           10788.7,
           9109.8,
           11588.9,
           14176.6,
           15403.8,
           18363.4,
           13909.85,
           10313.45,
           12793.15,
           9393.85,
           23105.55,
           8751.6,
           8573.65,
           10102.3,
           10329.9,
           8762.2,
           8411.9,
           11080.85,
           15619.5,
           10779.8,
           12905.7,
           10692.8,
           9345.7,
           15747.7,
           9938.8,
           8554.35,
           10412.7,
           9264.4,
           10091.5,
           8449.8,
           11815.5,
           8456.6,
           9664.3,
           9807.1,
           14182.9,
           13334.85,
           9735.6,
           8702.1,
           10534.65,
           9108.5,
           17896,
           9326.3,
           9854.4,
           9208.85,
           10089.3,
           11705.7,
           10916.25,
           9108.65,
           10022.6,
           12547.2,
           8680.15,
           8274.1,
           13526.8,
           10517.65,
           10613.3,
           8848.1,
           8969.05,
           10006.6,
           10327.8,
           12227.1,
           9297.3,
           9032.05,
           8681.5,
           8692.1,
           11040.6,
           9780,
           8226.1,
           9250.8,
           10900.3,
           8212.4,
           16021.5,
           17398.3,
           9395.35,
           8519.4,
           8495.5,
           10423.8,
           11013,
           8533.25,
           11630.6,
           9746.6,
           13635.9,
           11108.4,
           11082.35,
           9124.5,
           8734.9,
           9365.45,
           11389.7,
           8496.4,
           11205.65,
           8247.4,
           8403.7,
           8446,
           8677.5,
           13126.8,
           9795.4,
           9816.2,
           8322.25,
           8542.8,
           11104.65,
           8461.6,
           9132.4,
           10059.95,
           8259.2,
           10034.4,
           8870,
           8441.75,
           14091.9,
           9290.75,
           9786.9,
           8239.7,
           8762.4,
           19476.1,
           10642.3,
           10984.8,
           14593.7,
           13340.65,
           10539.2,
           8567.4,
           11392.6,
           12113.5,
           10146.3,
           9061.7,
           8280.3,
           8820.1,
           12512,
           8265.6,
           8790.35,
           9391.1,
           18240.2,
           8227,
           8381.4,
           8553,
           9801.55,
           10710.35,
           8719.4,
           9630.45,
           9926.1,
           11018.7,
           8262.9,
           11189.9,
           11184.35,
           12942.1,
           8870.3,
           9243.5,
           10022.5,
           9455.1,
           8553.6,
           8364.1,
           12096.3,
           8728.7,
           9815.6,
           8400.1,
           8224.9,
           10686.6,
           13384.7,
           9449.4,
           13208.2,
           11933.7,
           8968.7,
           10814.1,
           10278.6,
           10924.3,
           8293.7,
           8559.5,
           9458.7,
           8815,
           9349.8,
           10580.6,
           8255.25,
           11610.4,
           13056.6,
           12357.4,
           8892.2,
           8265.9,
           9051.45,
           10848.3,
           9599.6,
           8395,
           14423.6,
           13752.05,
           9762.7,
           8560.2,
           8424.6,
           9460.6,
           19175.3,
           8939.1,
           10680.55,
           8745.9,
           9984.05,
           9303.35,
           8234.6,
           10195.1,
           10287,
           8548.7,
           8263.1,
           9279.9,
           8905.7,
           10700.1,
           9160.1,
           10369.75,
           13664.1,
           9915.6,
           8380.5,
           9933.35,
           9297,
           9116.1,
           9745.25,
           9479.95,
           8393.7,
           10210.3,
           12832.9,
           8738.7,
           9556.1,
           8308.4,
           10454.7,
           8250.6,
           9369.2,
           9347.1,
           11012.8,
           12364.65,
           12168,
           10680.7,
           9292.2,
           12217.4,
           11231.5,
           10056.5,
           8895.2,
           8987.7,
           9222.3,
           14319.9,
           10535.55,
           10043.4,
           8552.5,
           13490.1,
           10904.3,
           14887.8,
           11149.2,
           9137.8,
           11661.1,
           10261.6,
           8991.4,
           9805,
           9867,
           11181.8,
           10564.9,
           10691.1,
           9915.8,
           9361.25,
           9755,
           11411.2,
           12252.9,
           10846.9,
           10922.3,
           8493.3,
           21649.6,
           20611.5,
           9069.9,
           9340.35,
           8915.8,
           17139.8,
           11898.85,
           9648,
           8662.95,
           11396.05,
           9251.4,
           9420.55,
           9595.6,
           9568.8,
           9367.8,
           8979.15,
           10516.3,
           9604.8,
           9121.6,
           11327,
           8476.55,
           11862.4,
           15619.2,
           11287.8,
           10014,
           10292.15,
           9165,
           11910.3,
           13320.9,
           14001.8,
           12196.45,
           9717.7,
           8323.8,
           9446.1,
           9527.9,
           8375.3,
           8291.8,
           9350.2,
           9773.95,
           9862.7,
           15712.25,
           8743.35,
           9120.8,
           11320.2,
           9883.7,
           11619.2,
           9041.05,
           8362.05,
           8955.35,
           8464.2,
           8511.9,
           10056.6,
           9570.7,
           9680.6,
           8745,
           8695.9,
           10146.9,
           10150.6,
           11074.55,
           8577.4,
           10430.85,
           8435.1,
           14329.9,
           8324.8,
           9317.95,
           11321.65,
           8587.35,
           11256.3,
           8450.1,
           9009,
           8517.3,
           9335.6,
           10299.6,
           13466.7,
           11744.4,
           8465.6,
           12752.9,
           9573.65,
           11690.3,
           8320.8,
           8323.8,
           8233.9,
           14525,
           8782.3,
           8702.1,
           10531.1,
           9736.7,
           10396.1,
           17607.8,
           9582,
           8334.25,
           8682,
           8673.65,
           8769,
           9613.35,
           8595.2,
           8248.4,
           9081.3,
           9068.5,
           9230.3,
           11885.1,
           10535.05,
           8213.95,
           10352.25,
           9957.6,
           12831.9,
           12080.9,
           8594.9,
           9439.9,
           9032.8,
           10032.4,
           8415.9,
           8652.7,
           10454.8,
           8953.15,
           9981.2,
           9599.2,
           9815.25,
           9340.7,
           8560.5,
           9537.1,
           8790,
           10546,
           9944.3,
           9209.75,
           9666.1,
           10302.1,
           8724.6,
           11663.9,
           9465.45,
           9809.7,
           8650.2,
           10046.9,
           10384.6,
           8278.75,
           9199.2,
           9525.9,
           10599.75,
           8780.4,
           8712.1,
           9678,
           8622,
           8277.2,
           10958.4,
           8773.95,
           8632.25,
           9380.4,
           11224.15,
           10311.7,
           8703.1,
           9218.5,
           9261.45,
           13234.45,
           10812.8,
           9392.4,
           9025,
           9966.7,
           9279.5,
           8349.7,
           9042.2,
           8280.2,
           8999.6,
           16145.15,
           10440.05,
           8290.7,
           11571.8,
           8278.8,
           12836,
           8316.4,
           8974.9,
           10090,
           8857.7,
           9936.3,
           16599.6,
           13711.6,
           10701.2,
           10045.2,
           10250.75,
           8706.7,
           9057.45,
           15976.1,
           8833.35,
           9744.6,
           8218.85,
           10864.5,
           9356.4,
           10101,
           8411.1,
           11824.6,
           9072.9,
           12922.1,
           8767.05,
           10960.3,
           9103,
           8523.85,
           8612.6,
           10203.1,
           9374.7,
           13744.8,
           9883.9,
           14472.9,
           9968.9,
           11022.3,
           10317,
           8711.7,
           11581.95,
           9822.5,
           9134.9,
           13871.65,
           8268.9,
           19115.9,
           13525.7,
           19749.9,
           9080.9,
           8831.65,
           13292.1,
           8439.2,
           8688.2,
           9139,
           8471.55,
           12958.8,
           9600.15,
           9824.8,
           11040.5,
           9029.5,
           10073.25,
           9298.3,
           10054.7,
           9356.15,
           8988.6,
           8588.7,
           10746,
           11259.45,
           13484.25,
           8521.9,
           15789.05,
           10675.55,
           11180.1,
           10407.7,
           8234.7,
           22837.45,
           11047.2,
           8223.35,
           8220.9,
           9073.2,
           8866.35,
           8797.9,
           11082.8,
           9198,
           10980.05,
           10967.4,
           10477.6,
           9181.9,
           8415.3,
           10817.9,
           12314.25,
           12530.4,
           8304.4,
           9991.8,
           10915.2,
           8703.75,
           9264.85,
           8670.9,
           8249,
           8228.75,
           9029.65,
           12476.1,
           9505,
           10775.8,
           10658.4,
           10470.9,
           9284.6,
           9049.1,
           14921.1,
           8817,
           10203.2,
           9811.9,
           10532,
           10174,
           8555.7,
           11910.5,
           19475.9,
           8982.75,
           10723.2,
           16930.4,
           8952.15,
           8559.2,
           8319.2,
           9075,
           8499.6,
           9519.55,
           14176.75,
           8877.3,
           11474.8,
           8679.1,
           8785.3,
           19889.7,
           12223.2,
           17542.4,
           10236.4,
           8797.35,
           9746.6,
           9681.6,
           9042.4,
           9439.15,
           10186.4,
           12424.7,
           17404.2,
           9370.95,
           8335.2,
           9844.1,
           8248.8,
           14064.6,
           8817.3,
           10379.55,
           9006.3,
           9825.1,
           10784.5,
           13893.4,
           16092.3,
           10538.6,
           14893.3,
           8339.6,
           8694.95,
           9766.6,
           9130.4,
           9807.6,
           8399.4,
           9985.4,
           10239.7,
           10045,
           9056.5,
           8328.2,
           13467.55,
           15512.55,
           8456.1,
           8377.65,
           22068.7,
           14786.5,
           17081.25,
           9708.85,
           9901.75,
           8556.5,
           29455,
           13223.5,
           10003.2,
           16481.8,
           9405,
           13865.7,
           8633.2,
           8694.1,
           13078.3,
           9245.2,
           8760.35,
           13805.3,
           9909.4,
           9328.7,
           8464.3,
           14915.6,
           12853.1,
           8604.2,
           17977.65,
           9081.8,
           10075.9,
           10083.7,
           9264.1,
           10343.8,
           13046.4,
           8810.85,
           8553.85,
           13043,
           15390.7,
           8313.3,
           8391.9,
           8533.7,
           9032.4,
           9799,
           8824.9,
           9095.3,
           11772.1,
           15705.8,
           8808.5,
           9641.6,
           8254.15,
           14049.35,
           9930.2,
           8461.4,
           8938.85,
           8594.6,
           9865.8,
           8384.1,
           11251.8,
           9620.8,
           13293,
           8331.1,
           9138.3,
           11080.45,
           11684.5,
           13117.9,
           10519.6,
           13355.85,
           9625.3,
           8489.55,
           8995.8,
           13835.9,
           9860.1,
           10578.3,
           8511.5,
           8305.8,
           8377.5,
           8975,
           12826.2,
           8504.9,
           9637.4,
           13368.5,
           9344.6,
           9521.7,
           8295.45,
           8870.5,
           9621.2,
           12492.7,
           9704.7,
           8467.6,
           9277.3,
           9984.75,
           9704.8,
           9445.6,
           10818.15,
           8291.9,
           9019.6,
           11306,
           9373.9,
           9980.8,
           8336.2,
           8546.75,
           10093.9,
           8467.55,
           8545.7,
           8247.2,
           9114.5,
           15225.7,
           34764.65,
           11357.7,
           20292.7,
           14728.75,
           9961.6,
           10358.3,
           11883.8,
           9537.95,
           12472.3,
           8370.85,
           9633.3,
           9422.6,
           12003.3,
           9293.1,
           9069,
           8216.8,
           10179.75,
           8921.1,
           13420.45,
           8864.4,
           9843.3,
           8519.8,
           9415.5,
           11079.7,
           10549,
           8642.95,
           9238.7,
           9000.7,
           9723.6,
           8213.2,
           11813.55,
           8868.4,
           12391.6,
           9221.4,
           10150.6,
           9249.1,
           12206.8,
           12829.2,
           11433.3,
           10500.1,
           9238.95,
           8508.45,
           8282.6,
           15491.2,
           8386.5,
           10418.1,
           8331.8,
           14656.6,
           12648.7,
           8995.6,
           9805,
           10272.3,
           8291.65,
           8465.15,
           10517.05,
           9797.8,
           11042.3,
           13487.9,
           8282.8,
           12656.6,
           10459.8,
           12805.15,
           12334.9,
           12081.7,
           9176.4,
           17884.1,
           16812.7,
           8496.9,
           8571.3,
           9662.4,
           16070.6,
           10605.2,
           8719,
           10033,
           11646,
           8409.8,
           10519.7,
           11996.7,
           10219.3,
           9769.65,
           8614.5,
           11932,
           10078.05,
           9384.85,
           8265.3,
           8368.9,
           13043.5,
           8864,
           10892.3,
           9107.9,
           8737.4,
           9975.6,
           9776.6,
           9144.2,
           9128.7,
           8432.4,
           8965.1,
           9891.7,
           10985.3,
           9997.1,
           10338.45,
           11791.9,
           9069.2,
           12455,
           9131,
           8636.3,
           8989.85,
           9786.8,
           9489.7,
           8298.7,
           9641.5,
           9649.6,
           13398.3,
           8392.6,
           9286.3,
           10033.85,
           9812.7,
           9436.9,
           17060.6,
           9220.8,
           12045.2,
           8482,
           9039.6,
           8662.5,
           10407.4,
           8245.1,
           9028.9,
           11276.75,
           10840.6,
           8703.3,
           9764.1,
           13217.8,
           10299.4,
           8225.6,
           10601.3,
           8498.2,
           8879.9,
           13006.8,
           8999.45,
           10085.55,
           9922.65,
           8619.5,
           8658.7,
           16804.7,
           10563.4,
           10505.1,
           9129.75,
           9170.65,
           8353.5,
           9704.8,
           8793.3,
           8619.2,
           12935.9,
           9186.6,
           9874.1,
           12645.75,
           8973.1,
           8768.25,
           10223,
           26235,
           14735.4,
           10550.7,
           10362.55,
           9122,
           12008.1,
           11938.5,
           11289.65,
           9100.4,
           9559.05,
           10058.2,
           9805.25,
           8792.8,
           11786,
           8659.8,
           8571.5,
           8770.1,
           8465.4,
           9332.9,
           10222.5,
           20597.3,
           15927.15,
           10643.05,
           12662.4,
           14518.7,
           9332.25,
           11316,
           9339.1,
           11990.7,
           8648.5,
           8596.15,
           8591.2,
           8296.3,
           11578.6,
           9050.7,
           13642.3,
           9441.5,
           9451.8,
           8878.7,
           8577.15,
           9001.8,
           8305.2,
           8986.3,
           10792.3,
           9467,
           12072.6,
           8993.95,
           10811.9,
           19262.7,
           9957,
           12701.1,
           8497,
           10180.6,
           9642,
           9069.3,
           8320.2,
           10709.45,
           13394.7,
           8765.7,
           8829.1,
           10644.55,
           8664.75,
           8795.75,
           9665.7,
           8379.75,
           14604.5,
           10736.05,
           9494.4,
           8971.45,
           10750.4,
           8418.75,
           11982.4,
           10093.75,
           9127.6,
           8272.5,
           8656.4,
           9545,
           11989.95,
           9511.8,
           8304.8,
           8522.95,
           9679.5,
           8354.9,
           12157.4,
           9461.5,
           9395,
           8406,
           8300.2,
           10231.8,
           8943,
           9828.1,
           10384.5,
           15573,
           12776.7,
           8535.45,
           13581.7,
           8946.2,
           12408.1,
           15880.5,
           10938.9,
           13587.3,
           11423.55,
           9065.5,
           8477.9,
           8312.2,
           11196.75,
           12179.8,
           10259.2,
           11461.65,
           10189.3,
           8685.9,
           11091.6,
           13401.2,
           8265.85,
           14844.35,
           11723.5,
           16465.75,
           13176.8,
           10291.3,
           30273.6,
           9530.8,
           9211.15,
           14559,
           8542.85,
           9175.2,
           9318.5,
           12269.5,
           9943.25,
           10762,
           9249.9,
           18472.3,
           10270.7,
           10053,
           8310.2,
           8709.15,
           8695,
           10109.4,
           10204.5,
           10227.4,
           13685.4,
           10560.3,
           9313.1,
           9873.4,
           9339.5,
           10888.95,
           8283.7,
           20150.1,
           16165.6,
           16771.4,
           9841.2,
           8307.4,
           8435.6,
           8513.5,
           12657.2,
           9301.7,
           8797.5,
           10287.15,
           12636.8,
           8529.4,
           10857.65,
           15885.6,
           8313.1,
           12791.3,
           11820.7,
           8274.75,
           9288.7,
           10309.8,
           11507.2,
           8419.2,
           8836.95,
           10362.9,
           9716.45,
           11138.2,
           12455.6,
           9720.9,
           8412.2,
           14690.7,
           9459.6,
           9407.2,
           8547.6,
           16868.55,
           15180.85,
           10697.6,
           12308.7,
           10701.65,
           13400.1,
           9172.3,
           10505.95,
           8844.6,
           9680.8,
           9853.5,
           12012.5,
           10301.9,
           8669,
           12393.35,
           10403.9,
           10819.95,
           8412.9,
           16459.9,
           13556.8,
           13481.2,
           11127.7,
           10430.3,
           10363.45,
           16453.8,
           9332.85,
           13083.1,
           13754.15,
           12265.8,
           11070.05,
           10405.5,
           10690.8,
           10138.3,
           13198.1,
           8846.1,
           18348.6,
           10583.7,
           9651.1,
           9509.2,
           10591.7,
           9050.9,
           12488.8,
           8236.6,
           9826.9,
           9889.7,
           9735.5,
           12344.5,
           8310.1,
           9440.05,
           12287.2,
           10507.3,
           9627.6,
           17793.7,
           9019.35,
           9980.05,
           12469.7,
           8557.1,
           9265.5,
           13182.25,
           9028.05,
           9857.8,
           8875.15,
           8330.2,
           8310.4,
           8266.1,
           12120.9,
           8577.3,
           8347.2,
           8228.9,
           9774,
           11383.45,
           12324.4,
           11308.5,
           9251.7,
           9799.5,
           8565.2,
           10400.5,
           8754.3,
           9928.25,
           10250.3,
           8360.6,
           17466.4,
           8253.15,
           13874.3,
           16101.6,
           9750.2,
           11759.7,
           8983.1,
           8930.2,
           9767.1,
           12461.8,
           8353.9,
           8423.7,
           19719.4,
           9744.4,
           9698.1,
           10218,
           9012.6,
           8954.2,
           8242.9,
           13284.3,
           8493.75,
           11557.2,
           11237.3,
           8440.7,
           9807,
           13313.5,
           8791.2,
           9850.8,
           10366.5,
           9222.1,
           8239.1,
           10664.8,
           8261.5,
           9875.5,
           8514.5,
           10338,
           9106.8,
           11195.25,
           8349.4,
           11561.1,
           8465,
           8363.3,
           9022.6,
           9397.6,
           8409.8,
           8283.6,
           10566.4,
           8213.4,
           8862.25,
           17157.8,
           9001.6,
           9220.9,
           8678,
           9329.2,
           8776.2,
           10526.5,
           8262.55,
           8253.4,
           8239,
           13186.1,
           12550.9,
           8763.2,
           8805.8,
           8464.85,
           9246,
           10669.9,
           8681.05,
           12291.3,
           10692.4,
           8981.6,
           9168,
           11041.95,
           10160,
           10466.6,
           13085.8,
           9659.2,
           9325,
           9658.1,
           9782.8,
           12895.55,
           8267.4,
           9259.1,
           10621.4,
           11119.3,
           12623,
           8539.65,
           8947,
           8920.7,
           8725.5,
           15084.6,
           10351.8,
           9026.2,
           8270.7,
           10605,
           9012.65,
           9356.75,
           9006.7,
           8280.7,
           10375.25,
           8991.85,
           11928.7,
           14381.9,
           8895.8,
           10685.5,
           8972.95,
           12455.6,
           9328,
           10195.6,
           10496.8,
           9348.8,
           8421,
           8922.7,
           8716.95,
           13826.9,
           8507.6,
           12335.1,
           8619.85,
           8598.6,
           9967.8,
           9169,
           10768.7,
           8553.7,
           13618,
           11095,
           9741.2,
           26424.1,
           20693,
           8236.5,
           10829.1,
           8905.7,
           8506,
           8353.6,
           8387.75,
           8393.1,
           27988.8,
           8486.9,
           8214.05,
           8493.7,
           9060,
           9345.25,
           8417.9,
           12897.75,
           8603.6,
           9851.5,
           9507.35,
           9983.6,
           20429.6,
           8497.45,
           8442.1,
           10269.9,
           10787.25,
           13676.25,
           8575.7,
           16108.75,
           8604.1,
           10988.4,
           9515.5,
           11257.85,
           9890.7,
           8360.7,
           9509.9,
           10294.65,
           10095.65,
           8960.7,
           8781.6,
           8666.8,
           8298.3,
           10119,
           8453.4,
           9971.9,
           9088.6,
           9843,
           9395.9,
           11132.25,
           9198.3,
           9022.7,
           10721.95,
           8830.4,
           8325.8,
           9030.2,
           8462,
           10820.9,
           8402.2,
           10180,
           10751.7,
           8618.8,
           10689.9,
           8233.95,
           9682.7,
           8229.8,
           9552,
           15118.7,
           9406.7,
           8520.2,
           9891.3,
           8389.65,
           11899.4,
           8488.1,
           8476.6,
           12018.9,
           9479.6,
           10877.9,
           8779.05,
           13905.35,
           8473.15,
           10331.2,
           10502.2,
           14868.95,
           9400.9,
           9088.35,
           14083.2,
           8516.3,
           9956.8,
           10135.8,
           8851.9,
           8898.65,
           11257.5,
           8890.7,
           8422.2,
           9433.85,
           9734.3,
           9507.85,
           8685.3,
           8802.2,
           8776.65,
           8375.4,
           9081.2,
           8466.2,
           10426.3,
           11561.65,
           24699,
           17499.4,
           8645.1,
           8508.8,
           8479.4,
           8607.3,
           8384.4,
           15453.95,
           9292.7,
           14876.8,
           9412.8,
           10867.1,
           10951.95,
           8321.4,
           8652,
           9601.65,
           8614.9,
           9837.3,
           15313.9,
           11910.1,
           8219,
           8836,
           11091.5,
           8561.6,
           8335.6,
           8256.4,
           8274.15,
           9526.5,
           10512.95,
           10053.45,
           10492.65,
           8449.15,
           12106.2,
           9498.1,
           11713.3,
           10289.8,
           11046.9,
           9674.8,
           9472.4,
           8605.7,
           9223.9,
           10018.6,
           8899.4,
           9524.9,
           10034.2,
           9384.9,
           11981.5,
           10344.95,
           8646.95,
           11213.3,
           8464.5,
           8210.3,
           8471.95,
           11943.4,
           9141.2,
           12799.95,
           8462.7,
           9919.9,
           9197.5,
           8472.6,
           14501.3,
           9222.7,
           8451.6,
           9839.9,
           9761.2,
           13413.6,
           12328.8,
           8642.2,
           9789.35,
           9982.8,
           10665.6,
           8701.45,
           8995.8,
           8554.7,
           9954.1,
           12446.5,
           10106.05,
           9351.5,
           11512.65,
           13107,
           8750.2,
           10092.35,
           9626.2,
           8531,
           9649.1,
           8897.1,
           10545.8,
           13842.9,
           8254.5,
           9013,
           9037.3,
           9691.45,
           9715.95,
           12444.45,
           8367.4,
           16537.8,
           9715.35,
           8345.8,
           13249.55,
           9698.6,
           8663,
           8709.25,
           13812.8,
           11117.1,
           9153.2,
           8311.6,
           8741,
           8728.6,
           9849.7,
           9721.9,
           8781.9,
           8640.5,
           9786.1,
           8523.1,
           9001,
           9545.2,
           16138.5,
           18625.6,
           8305.5,
           8503.3,
           13166.3,
           8576.4,
           8462.3,
           10232.5,
           9447.6,
           8763.9,
           8284.1,
           10231.2,
           8694.7,
           8914.65,
           8691.8,
           9907.8,
           8650.9,
           11257.3,
           8290.5,
           8805.5,
           8267.4,
           9392.8,
           9962.45,
           10823.75,
           8643.45,
           11103.8,
           9125.4,
           10182.8,
           8416.8,
           10322.3,
           8472.75,
           8696,
           10228.75,
           8493.65,
           8848,
           11452.75,
           9169.6,
           9147.7,
           10551.7,
           10008.5,
           10000.8,
           9874.9,
           10546.6,
           8586.25,
           11004.7,
           8224.95,
           8817.65,
           9942.8,
           13718.35,
           13270.2,
           9072.3,
           8709.9,
           8331.2,
           8761.9,
           9525.2,
           9576.4,
           10250.9,
           8337.8,
           8415.4,
           9756.5,
           11645.15,
           9723.6,
           8781.4,
           12811,
           9111.6,
           8262.7,
           8490.2,
           9171.05,
           8290.9,
           9110.7,
           9962.2,
           10332.2,
           8779.2,
           12448.7,
           8997.35,
           8368.75,
           10234.4,
           12220.15,
           10811.35,
           8969.7,
           9749.4,
           12218.9,
           8681,
           8685.5,
           9539.6,
           8616.3,
           10386.7,
           8565.2,
           12785.3,
           8242.8,
           10309.7,
           11903.45,
           8318.2,
           8857.75,
           9869.1,
           10402.8,
           8672.8,
           8665.1,
           10677.1,
           8460.4,
           9054.4,
           8800.75,
           11442.9,
           8350.7,
           8302.7,
           9720.9,
           8867.7,
           9584,
           8455.5,
           8371.3,
           10678,
           11728.5,
           9026.8,
           12180.8,
           8939.5,
           9337.2,
           8267.1,
           11455.5,
           8915.8,
           10312.1,
           10552.3,
           9340.9,
           11101.9,
           8788.2,
           16617.5,
           16084,
           9519.7,
           12084.6,
           8397,
           8826.1,
           9816.2,
           8677.2,
           8901.7,
           11716.6,
           12533.3,
           12842.1,
           9635.3,
           8348.85,
           8546,
           8402.55,
           8586.3,
           13259.75,
           8460.85,
           10305.05,
           9958,
           9163.5,
           15873.9,
           10211.15,
           10305.85,
           8728.3,
           12878.4,
           11620.8,
           9481.4,
           9911.3,
           13626,
           9462.8,
           8468.45,
           9336.2,
           8329.45,
           10500,
           8729.9,
           8401.65,
           8506.25,
           9561.55,
           9379.2,
           11582.45,
           8655.15,
           8452.05,
           10685.85,
           9250.7,
           10340,
           8588.9,
           11174.2,
           12919.1,
           10951,
           10217.7,
           8715.2,
           8975.45,
           11137.85,
           9049.9,
           8401.6,
           8819.5,
           8912,
           9980.2,
           8756,
           13379.1,
           11684.5,
           10279.65,
           11964.1,
           8790.5,
           8825.85,
           11072.8,
           9207.4,
           8455.9,
           9056.9,
           13006.7,
           8423.1,
           9267.8,
           9135.35,
           9387.8,
           8918.4,
           9631.25,
           9923,
           11244.4,
           8856,
           12051.6,
           15263.85,
           15717.6,
           8301.8,
           12470.3,
           10336.6,
           9199.7,
           9965.7,
           10468.2,
           9118,
           8426.7,
           10392.05,
           10008.6,
           8835.9,
           8897.25,
           9192.5,
           10863.1,
           8904,
           9250.7,
           8748.6,
           9942.75,
           10071.95,
           13294.65,
           9529.4,
           8848.8,
           9142.6,
           8705.8,
           8420.8,
           14121.5,
           8758.5,
           9980.5,
           10540.25,
           9866.7,
           8501.1,
           10654.9,
           12985.4,
           8861.6,
           9699.1,
           9296.3,
           9189,
           10322.85,
           11302.7,
           9128.45,
           10042,
           8605.9,
           9295.85,
           9808.75,
           13669.45,
           11223.1,
           9003.35,
           9260.9,
           8723.5,
           8369,
           8876.35,
           15780.7,
           8577.2,
           8820.7,
           9054.65,
           9932.4,
           8794.5,
           9116.9,
           8423.6,
           8587.65,
           9084.25,
           8967.4,
           8539.8,
           8488,
           9491.8,
           10997.9,
           12921.2,
           8864.5,
           10202.6,
           11713.7,
           8517.95,
           9525.1,
           11266.95,
           8291.8,
           9719.7,
           12130.5,
           8594.3,
           8462.8,
           11764.8,
           8847.45,
           8946.4,
           24252.9,
           9248.2,
           8767.9,
           8767.1,
           11991.55,
           9764.5,
           19311.4,
           12780.6,
           8306.9,
           8350.6,
           19507.4,
           8276.2,
           12314.3,
           8288.85,
           8529.4,
           9846.3,
           11805.5,
           10045,
           20651.2,
           10083.9,
           8245.5,
           8356.85,
           13414.1,
           8842.4,
           8335.1,
           10670.6,
           13490.95,
           11751.65,
           9144.55,
           9956.45,
           8851.4,
           9032.35,
           10753.3,
           10487.3,
           11905.55,
           11437.9,
           9772.9,
           10807.3,
           9867.1,
           15125.2,
           10489.3,
           9838.6,
           8471.5,
           8705.9,
           10122.1,
           8428.6,
           10253.6,
           10860.5,
           9413.3,
           11272.3,
           9800.95,
           13919.4,
           12086,
           9004.25,
           11006.95,
           11018.7,
           11625.25,
           10211.7,
           8315.9,
           13315.6,
           8903.05,
           10495.7,
           8336.3,
           9468.95,
           9545.1,
           8412.2,
           8294.8,
           11780.2,
           9838.35,
           9680.55,
           17240.4,
           9710.3,
           13241,
           8274.6,
           8999.7,
           10730.5,
           19282.55,
           13019.2,
           10677.4,
           8299.3,
           9515.2,
           8286.15,
           9606.4,
           9542.05,
           12066.7,
           9132.5,
           9031.3,
           9671.6,
           8276.1,
           8719.2,
           8364.2,
           8779,
           10217.8,
           8701.9,
           9005.5,
           10974.85,
           11184.5,
           8215.9,
           8842.2,
           8864.5,
           8344.1,
           8242.8,
           10188.8,
           8330.8,
           8659.4,
           12291.4,
           10031.8,
           8406.5,
           10188.3,
           9660.2,
           9407.9,
           9452.9,
           9878.45,
           9398.6,
           9633.1,
           10181.7,
           9116.75,
           9037.7,
           9530.7,
           8300.8,
           9172.8,
           9770.7,
           10904.4,
           9383.2,
           8308.9,
           9752.4,
           10224.4,
           8458.4,
           15327.3,
           11654.35,
           9837.2,
           12121.2,
           11888.3,
           11565,
           13840.75,
           9536.9,
           9194.2,
           8620.5,
           8712.4,
           8975.5,
           11205.65,
           10411.3,
           13210,
           8945.5,
           10804.9,
           10827.2,
           12077.1,
           9927.75,
           8504.55,
           11615.4,
           13281.9,
           10859.3,
           8915.9,
           9075.45,
           10599.8,
           9089.7,
           13582.4,
           12348.2,
           10332.3,
           9420.1,
           9429.1,
           8329.9,
           8364.55,
           8334,
           9039.9,
           9099.2,
           12789,
           8786.2,
           12195.4,
           10208.7,
           20209.6,
           9701.2,
           8462.2,
           9097.7,
           10156.2,
           8784.35,
           8397,
           10577.4,
           9950.1,
           8946.4,
           9733.15,
           8448.5,
           10290.6,
           8227.9,
           8404.7,
           8220.05,
           9575.15,
           12514,
           9429.8,
           8819,
           9133.7,
           10132.8,
           9148.15,
           13119.45,
           12260.35,
           9721.3,
           8307.4,
           11162.5,
           9477.55,
           8583.4,
           9274.9,
           8250.6,
           10042.3,
           9796.9,
           12126.2,
           10763.4,
           15245.4,
           13330.7,
           9328.15,
           10237.6,
           8918.9,
           9176.9,
           8560.2,
           9347.85,
           8942,
           8815.05,
           8468.5,
           12058.1,
           8935.1,
           8589.25,
           8954.4,
           8572.4,
           10111.4,
           10394.5,
           9297.2,
           8956.7,
           8493.9,
           10063.95,
           8820.45,
           8736.8,
           9147.3,
           8302.55,
           12388.15,
           11078.2,
           9905.15,
           8964.5,
           10113.5,
           14052.7,
           8413.7,
           9121.8,
           9726,
           8924.1,
           11511.2,
           8680.7,
           10077.2,
           13366.9,
           11099.3,
           8355.1,
           9476.8,
           8323.9,
           10758.75,
           13566.3,
           8753,
           11875.2,
           11995,
           14367.9,
           10914.4,
           9278.6,
           9988.8,
           9475.7,
           13000.9,
           9033.6,
           13952.8,
           10835.4,
           8482.45,
           9898,
           8428,
           13669.75,
           9064.7,
           13986.5,
           8449.1,
           8642.05,
           8687.9,
           11192.3,
           8597.85,
           9535.45,
           9924.1,
           8663.9,
           8902.6,
           12509.45,
           9412.45,
           9747.1,
           11834.4,
           11060.8,
           9323.2,
           8644.1,
           9428.8,
           9390.4,
           8233.5,
           8585.8,
           9221.5,
           13731.7,
           9378.35,
           9335.3777778,
           8757.8,
           9353.1,
           15377.1,
           10964.4,
           9516.1,
           8713.2,
           12314.4,
           9421.6,
           9610.75,
           8570.8,
           12238.7,
           11193,
           8225.3,
           12790,
           12330.3,
           9037.4,
           9437.4,
           8940.6,
           10385.4,
           10068.4,
           11513.5,
           8795.5,
           9276.95,
           8804.3,
           13618.3,
           8272.15,
           10678,
           9729.35,
           12966.7,
           8229.4,
           9997.8,
           11132.1,
           9588.95,
           9305.3,
           8233,
           8906.2,
           8637,
           8835.7,
           8320.4,
           11399.6,
           13440,
           10107.8,
           9733.3,
           13551.95,
           8665.6,
           9248.5,
           8632.9,
           8671.9,
           8355.8,
           9072.9,
           8607.6,
           8456.8,
           11887.7,
           10551.4,
           9787.8,
           10305.05,
           9709.7,
           15282.4,
           10391.9,
           8337.75,
           9211.2,
           9932.75,
           8260.85,
           9169.8,
           8660.6,
           8822.05,
           10825.9,
           9086.8,
           11708.7,
           11010.4,
           9729.4,
           10793,
           8634.95,
           8954.4,
           12180.4,
           8403.55,
           10727.8,
           11902.7,
           8324.05,
           13737,
           9028,
           11660.1,
           13055.3,
           9221.65,
           15706.5,
           10987.45,
           10662.75,
           12185.8,
           9795.6,
           10246.8,
           12438.05,
           9535,
           9675,
           8630.6,
           8789.9,
           9624.8,
           12714.7,
           8286.5,
           10392.6,
           12602.25,
           8662.2,
           11214,
           10339.1,
           8673.9,
           10381.1,
           8375.3,
           8565.55,
           8937.7,
           9645.7,
           8221.2,
           8599.9,
           8785.35,
           13627.95,
           9002.45,
           9753.6,
           11704.1,
           8569.4,
           9070.2,
           14161,
           12410.9,
           13719,
           9260.4,
           10341,
           8876.2,
           10194,
           9698.7,
           8881.2,
           9094.1,
           14717.9,
           12214,
           10365.4,
           8336.6,
           9494.3,
           10257.3,
           8500.15,
           8914.85,
           8878.15,
           9100,
           8509.9,
           9688.7,
           14386.5,
           8911.55,
           10056.3,
           9601.3,
           8950.7,
           9066.25,
           8526.05,
           13152.4,
           9574,
           8824.65,
           8762,
           9136.7,
           8299.9,
           8947.6,
           9369.9,
           9784.35,
           10795.6,
           9770.9,
           8368.2,
           8851.2,
           8970.1,
           10653,
           9335,
           10986.3,
           8872.5,
           8952.05,
           10092.7,
           8465.5,
           9641.85,
           15981.4,
           10168.6,
           9632.65,
           10886.2,
           9087.3,
           8322.1,
           8661.1,
           10286.8,
           9892.1,
           9266.7,
           10464.9,
           8353.3,
           9934.7,
           8492.4,
           8213.7,
           10400.3,
           8712.4,
           8468.6,
           16494,
           8764.35,
           8880.2,
           8400.3,
           12728.9,
           10931.1,
           9522.5,
           8294.1,
           9045.7,
           8307.1,
           9984,
           12420.9,
           8726.6,
           10775,
           10659,
           12344.1,
           9743.4,
           11475,
           9206.4,
           11623,
           9011.5,
           12825.65,
           8297.35,
           8325.2,
           9977.6,
           8680.6,
           14657.4,
           9038.75,
           11492.1,
           16589.7,
           9574.8,
           14343.6,
           8394.4,
           8479.6,
           10366.5,
           13901.5,
           12011.2,
           9878.1,
           10178.6,
           12154.3,
           10257.6,
           8348.4,
           8366.6,
           8450.2,
           9594.75,
           10744.5,
           18059.9,
           9153,
           11839.9,
           11581.7,
           12402.8,
           8245.6,
           10693.8,
           8376.2,
           9189.8,
           13714.9,
           10221.15,
           10127.8,
           8446.1,
           10530.35,
           10054.95,
           9908.9,
           11814.9,
           8452.6,
           9211.9,
           8530.35,
           9526.9,
           10503.7,
           10349.25,
           9888.5,
           10492.4,
           16330.9,
           8321.35,
           11938.4,
           9348.4,
           9896.25,
           10650,
           8802.7,
           12725.9,
           11266.3,
           8733.5,
           9169.1,
           8656.4,
           13690.4,
           10098.2,
           8912.2,
           11764.3,
           9002.6,
           11545.1,
           9908.2,
           9165.2,
           11872.4,
           8595.7,
           8761,
           9521,
           8881.7,
           8785.7,
           10453.7,
           10385.3,
           8663.5,
           8270.75,
           13623.5,
           12638.7,
           10450.2,
           8547.35,
           10464.8,
           20225,
           10666.55,
           8340.9,
           14692.7,
           11214.1,
           8352.05,
           10386.6,
           9642.3,
           9438.6,
           8913.85,
           9174.3,
           9156.8,
           14369.3,
           8965.7,
           9683,
           11609.4,
           11300.55,
           8786.1,
           8225.7,
           8980,
           10233.25,
           11496.55,
           8808.6,
           8925.6,
           11480.1,
           8489.2,
           8501.9,
           12256.8,
           8470.1,
           9338.55,
           11197.8,
           9452.4,
           10001.2,
           9168.3,
           9576.2,
           11314.2,
           8856.6,
           9333.7,
           8425.2,
           10947.7,
           8354.8,
           8423.75,
           10160.25,
           8249.8,
           8509.95,
           8487.3,
           8226,
           12264.5,
           9337.85,
           8737.7,
           8495,
           9002.4,
           9544,
           8699.4,
           10463.7,
           13242.3,
           8996.75,
           10469.7,
           14414.1,
           10023.6,
           8306.2,
           11060.4,
           8249.6,
           14258.15,
           8301.25,
           10458.45,
           9148.9,
           11794.9,
           10101.9,
           15454.55,
           10744.4,
           9109.2,
           10055.5,
           9258.65,
           8716.6,
           9893.8,
           15049.7,
           9508.55,
           10088.15,
           10071.5,
           11940.4,
           9415.35,
           14776,
           9339.2,
           9135.4,
           8299.25,
           8250.7,
           10218.95,
           10639.1,
           11835.5,
           11259.9,
           8271.9,
           8263.2,
           8477.05,
           9946.9,
           9575.9,
           9430.6,
           8953.5,
           9105.3,
           10230.9,
           8251.15,
           24549.45,
           9110.15,
           9406.3,
           8323.3,
           13647.25,
           8297.3,
           8415.4,
           14015.4,
           8911.4,
           10199.9,
           10578.2,
           14289,
           11351.15,
           14238,
           12636.3,
           12091.85,
           8611.1,
           10782.5,
           9717.35,
           10748.2,
           8550.7,
           12789.3,
           14036.6,
           14747.4,
           13450.8,
           8990.5,
           11654.6,
           10881.6,
           11821.5,
           11943.45,
           8334.3,
           8584.65,
           11024.3,
           9656.4,
           8249.7,
           10140.1,
           8823,
           8380.9,
           10194.05,
           9514.5,
           19387.5,
           11061.8,
           9875.95,
           11079.05,
           10311.6,
           11288.8,
           8421.7,
           11780.3,
           9080.3,
           10521.2,
           8550,
           9188.5,
           8797,
           10545.65,
           8366.65,
           12615.1,
           8750,
           11071.4,
           9214,
           9547.1,
           8464.55,
           8950.9,
           10617.4,
           9749.5,
           11661,
           9522.1,
           9151.1,
           15981.55,
           10262.4,
           8438.6,
           9102.95,
           12937.6,
           8827.9,
           8444.3,
           15597.8,
           9418.3,
           9165.4,
           8410.2,
           13219.3,
           10846.2,
           12211.9,
           12440.35,
           8313.9,
           10345,
           11282,
           10821.6,
           8974.1,
           9436.6,
           10857.4,
           8580.75,
           8849.3,
           8250.2,
           8513.15,
           8634.7,
           8245.15,
           11363.55,
           8716.5,
           11315.6,
           8916.35,
           10521.45,
           11900.1,
           9107.1,
           10661.3,
           9319.4,
           13040.7,
           12843.1,
           9734.6,
           9287.25,
           9127.35,
           9585.65,
           10457.5,
           8838.2,
           10028.8,
           10507.9,
           12428.7,
           10423,
           8678.4,
           10045.9,
           8556.5,
           13897.3,
           8760.5,
           8230.25,
           10452.3,
           10207.2,
           10318.8,
           8554.3,
           10255.3,
           12088.6,
           10138.8,
           8751.4,
           9396.6,
           8511.2,
           10416.2,
           8456.2,
           10018.05,
           10107.1,
           8364.4,
           8304.85,
           11152.9,
           10022,
           8995.2,
           11256.9,
           15869.5,
           9914.7,
           16133.8,
           8553,
           12414.8,
           9029.9,
           10177.6,
           13821.2,
           17320.3,
           9469.2,
           9488.8,
           8976.3,
           8815.447619,
           9499.4,
           15479.5,
           8321,
           8618.4,
           12023.25,
           8993,
           9771.1,
           8220.5,
           11346,
           10732.2,
           8949.6,
           10063.3,
           9443.4,
           11742.1,
           9674.2,
           11806.5,
           10656.7,
           10548.45,
           12748.4,
           9362.6,
           9475.15,
           8787.4,
           11181.75,
           8919.5,
           10657.2,
           9571.2,
           10621.2,
           15789.3,
           8448.9,
           13163.3,
           8442.0238095,
           10899,
           9742.6,
           10383.8,
           9934.3,
           19957.55,
           10366.1,
           8928.1,
           12650,
           8726.05,
           9760.95,
           12802.15,
           14906.2,
           9226.5,
           15054.8,
           16851.6,
           8428.9,
           11673.1,
           9005.5,
           12257.05,
           9060.2,
           8271.7,
           8301,
           9597.8,
           10492.2,
           12358.05,
           11191.5,
           16080.5,
           19702.35,
           9217.6,
           10379.55,
           8375.6,
           9196.2,
           8889.75,
           12794.5,
           9061.7,
           18236.6,
           12170.05,
           31081.95,
           11548.2,
           8968.5,
           9403.45,
           19451,
           22560.25,
           15897.8,
           12096.5,
           11422.6,
           17770.35,
           24828.5,
           8433.75,
           13448.15,
           18976.4,
           15484.6,
           12164.5,
           15683.6,
           11822,
           13053.55,
           8761.35,
           9889.9,
           13640.9,
           9852.8,
           8969.95,
           9933.35,
           9484.35,
           8497.3,
           10938.5,
           8452.05,
           10047.9,
           15937.8,
           8948.45,
           16798.8,
           10342.25,
           8249.2,
           8339.5,
           8583.2,
           8340,
           8438.1,
           9963.9,
           12334.3,
           9619.7,
           8519.8,
           9874.3,
           8721.1,
           8461.8,
           13019.2,
           9089.3,
           10368.4,
           10346,
           9838.9,
           9450.7,
           9277.7,
           9134.95,
           8818.1,
           12699.45,
           11948.6,
           8567.65,
           19123.4,
           8550.55,
           8379,
           8437.9,
           9153.5,
           10541.5,
           8709.8,
           17091.1,
           11822.25,
           8453.7,
           8211.6,
           10386.45,
           8264.7,
           14779.9,
           8832.2,
           10077.1,
           9713.3,
           10034.95,
           10359.5,
           9283.7,
           11839.8,
           8951.4,
           12735.8,
           11008.7,
           11346,
           8781.5,
           9039.4,
           10135,
           12807.25,
           9143.8,
           8674.8,
           10411.2,
           8911.5,
           14564.4,
           9922.6,
           11635,
           13221.5,
           9695.65,
           13407.8,
           8486.7,
           12686.6,
           10356.4,
           17662.5,
           13766.6,
           11478.3,
           10676.2,
           9712.3,
           11554.1,
           11136.3,
           8861.6,
           11649,
           8396.9,
           9437.8,
           9104.1,
           14142.2,
           9371.1,
           8221.8,
           9791.5,
           9984.1,
           10860.8,
           10227.1,
           12708.8,
           8389.5,
           23717.9,
           9005.2,
           9323.15,
           10780.3,
           10196.4,
           9212.6,
           8798.4,
           10320.7,
           17458,
           8313.8,
           9743.5,
           11623.3,
           14985.2,
           12801.5,
           13311.5,
           8329.1,
           8605.8,
           10356.1,
           12872.6,
           8739,
           38231.8,
           10676.2,
           9744,
           10481.1,
           8230.65,
           13564.1,
           10339.6,
           8767.6,
           15591.7,
           13418.2,
           9652.9,
           14142.4,
           9986.55,
           11299.8,
           23186.7,
           8946.9,
           18841.9,
           9700.05,
           8814.95,
           10034.8,
           15157.7,
           9221,
           10219.45,
           9366.35,
           11696.6,
           13055.1,
           9820.35,
           8852.1,
           10352.2,
           14061.5,
           8356.6,
           8434.1,
           9275.9,
           21044.8,
           8945.15,
           13189.9,
           10666,
           11154.65,
           13748.3,
           8267.75,
           9484.2,
           9444.8,
           10343.4,
           10610.6,
           10216.6,
           9383.3,
           9937.4,
           8367.65,
           10136,
           11612.6,
           9476.4,
           8419.95,
           8681.35,
           11654.2,
           13348.9,
           11251.1,
           8331.25,
           8541.6,
           9510.9,
           9489.7,
           8387.3,
           9676.85,
           8280.5,
           11148.1,
           13692.2,
           8489.4,
           8367.4,
           12955.45,
           12705.25,
           14190.15,
           10640.5,
           9179.3,
           13825.25,
           8544.3,
           10213.9,
           10084.25,
           8233.2,
           8407.9,
           9558.6,
           8515.4,
           10378.4,
           8883.15,
           8739.85,
           8579,
           8664.7,
           11564.75,
           10126.45,
           10665.5,
           9301.5,
           8562.95,
           8544.1,
           9570.7,
           10525.5,
           8861.4,
           8294.9,
           8836.8,
           18794.05,
           9481.35,
           10660.9,
           18407.65,
           13273.2,
           8652.6,
           14731.75,
           10702.5,
           8285.75,
           15538.25,
           8406.45,
           9793.5,
           8251,
           11242.05,
           8698.7,
           8442.5,
           11548.9,
           17988.1,
           11496.3,
           12965.7,
           24251.5,
           8548.8,
           9151.6,
           8721.95,
           8655.8,
           8574.1,
           13374.9,
           8394.45,
           8609.5,
           8475,
           8732.45,
           8484.8,
           10180.5,
           11096.05,
           11151.9,
           8423.9,
           9150.4,
           8222.95,
           8351.6,
           9793.7,
           8224.15,
           9572.85,
           9510.2,
           14232.4,
           8378.4,
           8654.1,
           8432.85,
           9599.35,
           10191.25,
           11435.8,
           11337.3,
           8694.4,
           10589.5,
           10617.5,
           8996.9,
           12329.3,
           13515.15,
           8479.1,
           11863.95,
           13397.35,
           10070.7,
           13052,
           15997.5,
           8240,
           9290.3,
           10725.9,
           11637.75,
           9268.1,
           9025.25,
           14970.6,
           10249.5,
           15180.55,
           10869.25,
           8698.7,
           11997.35,
           10675.25,
           8403.7,
           8607.4,
           8325.6,
           8246,
           8426,
           14565.05,
           8975.2,
           8929,
           10039.5,
           11016,
           10586.65,
           8305.3,
           9189.3,
           8708.4,
           10815.85,
           9440.9,
           8942.1,
           16114.2,
           8494.2,
           12319.8,
           8865.15,
           12353.15,
           12540.8,
           8510.6,
           8554.3,
           13656.1,
           10001.05,
           10150.5,
           8545.5,
           8359.2,
           9710.75,
           9313.65,
           8272.9,
           9218.9,
           11453.6,
           21330.8,
           8259.5,
           11440,
           8477.6,
           9027.3,
           9141.1,
           9434.75,
           8681.1,
           8257.1,
           10365.3,
           26782.1,
           10959.05,
           8820.5,
           12825.4,
           10174.45,
           9157.8,
           11903.3,
           9705.95,
           8254.3,
           9234.45,
           8297.8,
           8544,
           8755.6,
           12946.4,
           8412,
           10371,
           15913.2,
           8718.9,
           8676.9,
           11415.7,
           8622.5,
           17627.3,
           12367.3,
           11641.5,
           13893.9,
           14701.9,
           11548.25,
           12051.45,
           10003.35,
           12073.4,
           11911.85,
           10222.75,
           11104.7,
           8980,
           8651.1,
           11310.4,
           9328,
           8692.1,
           10707.1,
           10925.8,
           10612.85,
           9167.2,
           8579.8,
           14903.8,
           16451.6,
           11033.1,
           13878.5,
           8246.2,
           8479.6,
           8697,
           9061.3,
           9051.9,
           12724.5,
           14744.05,
           8416.15,
           9226.8,
           8868.5,
           9748.45,
           8212.2,
           15817.95,
           15543,
           15953.1,
           11399,
           11510.1,
           11239.3,
           26478.4,
           11938.9,
           9840.5,
           9762.3,
           8632.55,
           9323.5,
           11487.55,
           9156.05,
           9032.5,
           10877.05,
           12161,
           12528.75,
           9314.3,
           15510.8,
           13487.8,
           19324.95,
           8346.7,
           13097,
           8762.8,
           10216.3,
           10800.8,
           8300.1,
           11187.5,
           8747.7,
           9120.9,
           9039,
           14626.5,
           8539.1,
           8909.7,
           9779.2,
           8219.2,
           8807,
           9166.9,
           9911.75,
           10503.8,
           10069.8,
           8958.4,
           12039.5,
           8233.8,
           8595.35,
           9533,
           9380.15,
           8960.25,
           12310.7,
           9783.7,
           14396,
           8653.5,
           9068.2,
           8616.5,
           9144.15,
           13664.2,
           9087.55,
           8401.6,
           11473.1,
           11968.9,
           9207.5,
           15096.1,
           8811.8,
           14803.1,
           8841.1,
           18125.4,
           12706.2,
           13430.25,
           18659.2,
           9899.8,
           8214.7,
           8803.8,
           30848.5,
           12009.8,
           10849.35,
           8211.3,
           9280.1,
           19919.8,
           9777.1,
           13215.3,
           9662.1,
           10961.9,
           11099.45,
           8727.8,
           13125.9,
           12312.5,
           9126.1,
           9134.7,
           8393.95,
           8525.9,
           16120.2,
           10263.5,
           8500.05,
           10353.95,
           9035.3,
           9030.35,
           13614.4,
           8730.75,
           8557.3,
           9818.8,
           14017.9,
           12346.9,
           11592.9,
           18364.3,
           9643.9,
           9924.5,
           10560.5,
           9526.3,
           12095.7,
           9100.35,
           9002.9,
           8826.3,
           15768.5,
           9794.55,
           9479.3,
           8234.3,
           8776.4,
           10562.7,
           9054.6,
           10543.5,
           9070.4,
           21430.4,
           10517.3,
           10667.65,
           9793,
           8761.05,
           12315.7,
           20408.45,
           8689.95,
           11018.8,
           16436.9,
           20534.6,
           8457.5,
           8238.5,
           15167.75,
           10714.1,
           10550.6,
           15740.55,
           9167.3,
           8272.1,
           10075,
           9181.25,
           10388,
           10586,
           8841.3,
           11655.9,
           8482.3,
           10026.8,
           13327.3,
           10224,
           8795.75,
           13247.65,
           12913.7,
           15589.4,
           9291.5,
           9128.4,
           8825.8,
           10227.1,
           10451.2,
           12732.2,
           12977.9,
           17013,
           10513.6,
           10256.15,
           8355.6,
           9229.5,
           11626.9,
           9748,
           8703.4,
           9764.3,
           10086.8,
           9587.2,
           17397.1,
           9926.9,
           8435.5,
           11360.05,
           8896.1,
           15003.3,
           11747.4,
           10390.4,
           11297.75,
           10004.7,
           14673.6,
           9145.9,
           9301,
           10865.5,
           11568.15,
           9342.2,
           18114.1,
           9793.5,
           8519.1,
           9694.25,
           10008.1,
           9394.8,
           14751.5,
           10081.5,
           8432.05,
           9816.9,
           11441.45,
           9006.2,
           9095.8,
           10230.2,
           11903.5,
           12373.45,
           8336.4,
           8766.4,
           16506.6,
           8245.15,
           18268.95,
           10850.9,
           8257.6,
           11248.05,
           8670.2,
           9332.9,
           15473.3,
           10565.8,
           11061.6,
           8830.2,
           10598.15,
           13519.1,
           8506.95,
           8808.9,
           8764.5,
           11157.5,
           18247.4,
           10067.75,
           9350.6,
           8297.65,
           12438.4,
           11439.9,
           8733,
           9247.65,
           12623.6,
           9283.7,
           10122.35,
           8687.8,
           10310.9,
           12552.9,
           8209.8,
           8531.8,
           8369.95,
           13002.4,
           13564.9,
           11092.8,
           8328.55,
           8647.3,
           13843.15,
           15506.8,
           8478.5,
           8897.7,
           13818.8,
           8620.3,
           9165.2,
           8268.3,
           8786.5,
           9960.8,
           9703.2,
           8726.6,
           10315.8,
           12239.9,
           13205.8,
           11825.9,
           8688.6,
           8894.9,
           9767.45,
           8869.15,
           9128.7,
           11208.1,
           9612.5,
           18274.6,
           8613.5,
           14046.5,
           12297.35,
           11201.65,
           8452.05,
           9130.5,
           9412.7,
           9389.4,
           16645,
           8589.1,
           9404.5,
           8330.3,
           8338.05,
           9153.7,
           8408.9,
           9738.45,
           13878.3,
           8751.4,
           8243.1,
           8830.6,
           8779.4,
           11677.5,
           8584.9,
           8828.35,
           11453.1,
           8789.5,
           9472.95,
           17175.1,
           8662.1,
           10708.5,
           8311.8,
           9507.3,
           10159,
           10471.6,
           9151.9,
           12094.4,
           10784.55,
           8709.4,
           8278.9,
           11097.2,
           8384.7,
           8686.6,
           8231.4,
           11763,
           20408.9,
           9380.55,
           9758.95,
           9298.2,
           9849.9,
           11046.3,
           9628.4,
           14732.6,
           8322.1,
           9142.6,
           8360,
           10045.3,
           8272.8,
           9029.5,
           13032.1,
           16640.55,
           9164.3,
           10194.8,
           9929.4,
           8285.9,
           10854.7,
           8670.8,
           9445.3,
           8890.3,
           9927.85,
           8540.4,
           10648.7,
           9308.1,
           8942.6,
           12761.1,
           14581.1,
           12734.8,
           10096.1,
           10245.6,
           9362.7,
           10542.85,
           22667.6,
           16485.7,
           12501.7,
           9854.45,
           9097.1,
           8965.15,
           11506.7,
           9284.8,
           8314.1,
           8457.8,
           9809.5,
           12661.4,
           9269.7,
           8393.9,
           8852,
           9547.9,
           15907.45,
           10633.6,
           8265.55,
           8435.95,
           12290.6,
           9701.9,
           16894.7,
           13102.3,
           9540.8,
           10010.8,
           13941.7,
           9817.05,
           9479.5,
           9251.05,
           8701.7,
           8695,
           9752.5,
           9681.3,
           10443.1,
           9994.2,
           14304.7,
           9863.5,
           9837.35,
           8670.9,
           8253.25,
           8300.85,
           8221.5,
           10134.6,
           8222.3,
           9300.3,
           8786.9,
           9525.8,
           8920.75,
           9947.9,
           10526.5,
           9586.1,
           10160,
           8521.7,
           8864.4,
           9381.4,
           8949.7,
           10130.6,
           10708.5,
           9761.2,
           8459.3,
           10284.3,
           8866.8,
           9500.1,
           9771.35,
           9284.5,
           12046.7,
           8236.85,
           9911,
           10441.8,
           9360,
           11187.4,
           9790.4,
           8236.2,
           10117.9,
           8345.6,
           9701.7,
           11313.2,
           9703.5,
           11052.7,
           8274.1,
           8943.8,
           9031.4,
           8975.9,
           8711.1,
           12500.25,
           8870.2,
           12021,
           16257.8,
           12268.1,
           11885.2,
           10432.6,
           10026.95,
           9011.7,
           8750,
           12890.3,
           10813.45,
           11607.8,
           14607.5,
           8736.1,
           8350.05,
           8338.5,
           9714.4,
           8765.8,
           8771.5,
           10360.45,
           9100.8,
           10770.15,
           9300.3,
           8498,
           9419.3,
           9503.5,
           12895.8,
           14253.9,
           10368.4,
           9383.75,
           9572.5,
           10467.2,
           9461.5,
           8946.1,
           8616.9,
           15486.1,
           12909.2,
           8515.1,
           13667,
           9109.5,
           10470.7,
           10634.5,
           8610.9,
           12171.1,
           8451.1,
           10848.4,
           9155.6,
           13332.6,
           9145.6,
           9120,
           10136.55,
           8994.6,
           8487.75,
           9505.6,
           8442.2,
           8554.7,
           9333.4,
           10782.45,
           8222.4,
           10271.1,
           13988.3,
           9512,
           13280.4,
           8446.3,
           8517.8,
           8269.4,
           9870.7,
           10585.9,
           8440.1,
           11238.95,
           8281.6,
           8400.6,
           8778.9,
           14053.35,
           10507.3,
           9057.8,
           9648.65,
           8916.75,
           10124.4,
           8313.7,
           14045.3,
           9016.8,
           11329.75,
           10129.35,
           8454.9,
           10062.9,
           15837.8,
           11484.85,
           15444.5,
           11681.4,
           8922.7,
           10584.95,
           11477.75,
           8283.35,
           9869.6,
           9127.5,
           15519.15,
           8211.75,
           9217.85,
           8262.45,
           10939,
           10172.45,
           17602.1,
           8438.4,
           13115.2,
           11308.5,
           16141.7,
           8373.9,
           8436.15,
           9468.25,
           8670.2,
           9678.35,
           8669.8,
           12203,
           11172.6,
           10974.8,
           10877.2,
           9072.1,
           13933.65,
           12464.4,
           11631.05,
           10628.5,
           10122.6,
           10654.3,
           15851.2,
           8474.6,
           11231.8,
           10583.8,
           9345.9,
           8704.1,
           9101.75,
           9860.5,
           10708.1,
           14185.9,
           8541.4,
           9461.4,
           8573.5,
           10850.3,
           8680.3,
           9214.1,
           9257.55,
           9459.6,
           8928,
           8418.5,
           8811,
           8460.05,
           10026,
           8862.9,
           9349.75,
           10583.7,
           47024.95,
           11281.7,
           8434.05,
           8238.1,
           15183.55,
           10668.5,
           9604.75,
           19043.7,
           14313.9,
           8758.6,
           9013.45,
           8388.3,
           12853.3,
           9519.7,
           10052.7,
           9179.3,
           12759.5,
           10865,
           8768.7,
           10242.3,
           10909.55,
           9951.25,
           8364.9,
           9628.7,
           9323.25,
           11934.8,
           12720.3,
           9675.8,
           9663.9,
           9027.5,
           13894.9,
           10175.25,
           11532.8,
           11725.7,
           16299.1,
           9452.7,
           9308.2,
           9182.3,
           8269.2,
           12811.6,
           10208.75,
           8585.6,
           8648,
           8212.6,
           12628.6,
           9396.45,
           8966.6,
           9130.5,
           12605.5,
           10007.9,
           12628,
           12061,
           9059.6,
           10504.2,
           11258.8,
           8417,
           8995.05,
           8858.4,
           10487.25,
           9790,
           8422.6,
           15479.5,
           8321.4,
           9063,
           8349.35,
           15434.5,
           8450.3,
           9789.2,
           10918.4,
           8796.7,
           8360.3208333,
           15569.5,
           11910.1,
           9631.3,
           9121.1,
           9807.5,
           13989.45,
           11467.1,
           9424.1,
           10273.2,
           15688.65,
           8341.1,
           8800.1,
           9804.8,
           8948.4,
           11639.1,
           12161.4,
           11302.45,
           8328.2,
           9695.1,
           9753.45,
           10800.9,
           14451.25,
           12697.2,
           11283.5,
           8632.2,
           9690.6,
           10570.1,
           8535.7,
           12730.5,
           10701.45,
           9220.2,
           8657.65,
           10399.55,
           9371.4,
           10195.6,
           10875.5,
           9470,
           11130.7,
           9985.9,
           15413.3,
           14351.75,
           16826.9,
           9852,
           10489.45,
           13515.65,
           10376.6,
           8378.85,
           8239.9,
           11819.5,
           10969.5,
           8835.5,
           8212.8,
           8517.2,
           10445.6,
           9247.55,
           10429.9,
           8734.5,
           9554,
           10591.8,
           19246.1,
           10095.75,
           8920.7,
           9778.3,
           10397,
           10711.1,
           12129.9,
           13395.6,
           9698.85,
           9773.65,
           14985.9,
           9706.05,
           9350.6,
           9429.75,
           10212.6,
           8424.4,
           10393.05,
           17449.9,
           10159.2,
           8409.1,
           8253.7,
           8986.2,
           9875.7,
           15121.05,
           8861.4,
           10402.95,
           10522.5,
           11305.1,
           9030.55,
           8791.4,
           8225.3,
           8648,
           13368.3,
           11360.65,
           14564,
           8596,
           9879.15,
           10669.2,
           9380.95,
           8330.95,
           14126.5,
           10209.3,
           9459.2,
           10543.9,
           9312.1,
           11994.95,
           11554.95,
           8977.9,
           11076.1,
           9307.6,
           9862.1,
           11358.8,
           9100.85,
           8839.9,
           10678.15,
           10413.55,
           9860.95,
           9090.6,
           8544.2,
           12838.3,
           16552.4,
           12574.2,
           16034.9,
           10238.75,
           9337.75,
           11453.1,
           9384.8,
           8812.9,
           8799,
           8311.8,
           10604.2,
           8369.7,
           12476.5,
           11723.1,
           11695.5,
           14844.8,
           10066.7,
           12816.15,
           10786.2,
           8298.65,
           8421.75,
           9431.6,
           10433.35,
           10746.7,
           8446.2,
           15363.1,
           9362.9,
           8868.9,
           14751.3,
           11243.4,
           9117,
           10924.6,
           11857.8,
           8904,
           9220.85,
           12258.1,
           9029.9,
           8357.9,
           14998,
           9379.5,
           11710.9,
           8635.6,
           9708.3,
           8311.3,
           13733.2,
           10030.5,
           12109.3,
           8344.7,
           13012.8,
           12119.1,
           9171.8,
           11015.8,
           12016.5,
           10069.2,
           13100.2,
           8227.3,
           11221.2,
           9723.85,
           8570.3
          ],
          "coloraxis": "coloraxis"
         },
         "mode": "markers",
         "name": "",
         "showlegend": false,
         "subplot": "mapbox",
         "type": "scattermapbox"
        }
       ],
       "layout": {
        "coloraxis": {
         "colorbar": {
          "title": {
           "text": "Median_consumption"
          }
         },
         "colorscale": [
          [
           0,
           "#0d0887"
          ],
          [
           0.1111111111111111,
           "#46039f"
          ],
          [
           0.2222222222222222,
           "#7201a8"
          ],
          [
           0.3333333333333333,
           "#9c179e"
          ],
          [
           0.4444444444444444,
           "#bd3786"
          ],
          [
           0.5555555555555556,
           "#d8576b"
          ],
          [
           0.6666666666666666,
           "#ed7953"
          ],
          [
           0.7777777777777778,
           "#fb9f3a"
          ],
          [
           0.8888888888888888,
           "#fdca26"
          ],
          [
           1,
           "#f0f921"
          ]
         ]
        },
        "legend": {
         "tracegroupgap": 0
        },
        "mapbox": {
         "center": {
          "lat": 52.462308690611984,
          "lon": -1.3320026078169815
         },
         "domain": {
          "x": [
           0,
           1
          ],
          "y": [
           0,
           1
          ]
         },
         "style": "open-street-map",
         "zoom": 5
        },
        "margin": {
         "t": 60
        },
        "template": {
         "data": {
          "bar": [
           {
            "error_x": {
             "color": "#2a3f5f"
            },
            "error_y": {
             "color": "#2a3f5f"
            },
            "marker": {
             "line": {
              "color": "#E5ECF6",
              "width": 0.5
             },
             "pattern": {
              "fillmode": "overlay",
              "size": 10,
              "solidity": 0.2
             }
            },
            "type": "bar"
           }
          ],
          "barpolar": [
           {
            "marker": {
             "line": {
              "color": "#E5ECF6",
              "width": 0.5
             },
             "pattern": {
              "fillmode": "overlay",
              "size": 10,
              "solidity": 0.2
             }
            },
            "type": "barpolar"
           }
          ],
          "carpet": [
           {
            "aaxis": {
             "endlinecolor": "#2a3f5f",
             "gridcolor": "white",
             "linecolor": "white",
             "minorgridcolor": "white",
             "startlinecolor": "#2a3f5f"
            },
            "baxis": {
             "endlinecolor": "#2a3f5f",
             "gridcolor": "white",
             "linecolor": "white",
             "minorgridcolor": "white",
             "startlinecolor": "#2a3f5f"
            },
            "type": "carpet"
           }
          ],
          "choropleth": [
           {
            "colorbar": {
             "outlinewidth": 0,
             "ticks": ""
            },
            "type": "choropleth"
           }
          ],
          "contour": [
           {
            "colorbar": {
             "outlinewidth": 0,
             "ticks": ""
            },
            "colorscale": [
             [
              0,
              "#0d0887"
             ],
             [
              0.1111111111111111,
              "#46039f"
             ],
             [
              0.2222222222222222,
              "#7201a8"
             ],
             [
              0.3333333333333333,
              "#9c179e"
             ],
             [
              0.4444444444444444,
              "#bd3786"
             ],
             [
              0.5555555555555556,
              "#d8576b"
             ],
             [
              0.6666666666666666,
              "#ed7953"
             ],
             [
              0.7777777777777778,
              "#fb9f3a"
             ],
             [
              0.8888888888888888,
              "#fdca26"
             ],
             [
              1,
              "#f0f921"
             ]
            ],
            "type": "contour"
           }
          ],
          "contourcarpet": [
           {
            "colorbar": {
             "outlinewidth": 0,
             "ticks": ""
            },
            "type": "contourcarpet"
           }
          ],
          "heatmap": [
           {
            "colorbar": {
             "outlinewidth": 0,
             "ticks": ""
            },
            "colorscale": [
             [
              0,
              "#0d0887"
             ],
             [
              0.1111111111111111,
              "#46039f"
             ],
             [
              0.2222222222222222,
              "#7201a8"
             ],
             [
              0.3333333333333333,
              "#9c179e"
             ],
             [
              0.4444444444444444,
              "#bd3786"
             ],
             [
              0.5555555555555556,
              "#d8576b"
             ],
             [
              0.6666666666666666,
              "#ed7953"
             ],
             [
              0.7777777777777778,
              "#fb9f3a"
             ],
             [
              0.8888888888888888,
              "#fdca26"
             ],
             [
              1,
              "#f0f921"
             ]
            ],
            "type": "heatmap"
           }
          ],
          "heatmapgl": [
           {
            "colorbar": {
             "outlinewidth": 0,
             "ticks": ""
            },
            "colorscale": [
             [
              0,
              "#0d0887"
             ],
             [
              0.1111111111111111,
              "#46039f"
             ],
             [
              0.2222222222222222,
              "#7201a8"
             ],
             [
              0.3333333333333333,
              "#9c179e"
             ],
             [
              0.4444444444444444,
              "#bd3786"
             ],
             [
              0.5555555555555556,
              "#d8576b"
             ],
             [
              0.6666666666666666,
              "#ed7953"
             ],
             [
              0.7777777777777778,
              "#fb9f3a"
             ],
             [
              0.8888888888888888,
              "#fdca26"
             ],
             [
              1,
              "#f0f921"
             ]
            ],
            "type": "heatmapgl"
           }
          ],
          "histogram": [
           {
            "marker": {
             "pattern": {
              "fillmode": "overlay",
              "size": 10,
              "solidity": 0.2
             }
            },
            "type": "histogram"
           }
          ],
          "histogram2d": [
           {
            "colorbar": {
             "outlinewidth": 0,
             "ticks": ""
            },
            "colorscale": [
             [
              0,
              "#0d0887"
             ],
             [
              0.1111111111111111,
              "#46039f"
             ],
             [
              0.2222222222222222,
              "#7201a8"
             ],
             [
              0.3333333333333333,
              "#9c179e"
             ],
             [
              0.4444444444444444,
              "#bd3786"
             ],
             [
              0.5555555555555556,
              "#d8576b"
             ],
             [
              0.6666666666666666,
              "#ed7953"
             ],
             [
              0.7777777777777778,
              "#fb9f3a"
             ],
             [
              0.8888888888888888,
              "#fdca26"
             ],
             [
              1,
              "#f0f921"
             ]
            ],
            "type": "histogram2d"
           }
          ],
          "histogram2dcontour": [
           {
            "colorbar": {
             "outlinewidth": 0,
             "ticks": ""
            },
            "colorscale": [
             [
              0,
              "#0d0887"
             ],
             [
              0.1111111111111111,
              "#46039f"
             ],
             [
              0.2222222222222222,
              "#7201a8"
             ],
             [
              0.3333333333333333,
              "#9c179e"
             ],
             [
              0.4444444444444444,
              "#bd3786"
             ],
             [
              0.5555555555555556,
              "#d8576b"
             ],
             [
              0.6666666666666666,
              "#ed7953"
             ],
             [
              0.7777777777777778,
              "#fb9f3a"
             ],
             [
              0.8888888888888888,
              "#fdca26"
             ],
             [
              1,
              "#f0f921"
             ]
            ],
            "type": "histogram2dcontour"
           }
          ],
          "mesh3d": [
           {
            "colorbar": {
             "outlinewidth": 0,
             "ticks": ""
            },
            "type": "mesh3d"
           }
          ],
          "parcoords": [
           {
            "line": {
             "colorbar": {
              "outlinewidth": 0,
              "ticks": ""
             }
            },
            "type": "parcoords"
           }
          ],
          "pie": [
           {
            "automargin": true,
            "type": "pie"
           }
          ],
          "scatter": [
           {
            "fillpattern": {
             "fillmode": "overlay",
             "size": 10,
             "solidity": 0.2
            },
            "type": "scatter"
           }
          ],
          "scatter3d": [
           {
            "line": {
             "colorbar": {
              "outlinewidth": 0,
              "ticks": ""
             }
            },
            "marker": {
             "colorbar": {
              "outlinewidth": 0,
              "ticks": ""
             }
            },
            "type": "scatter3d"
           }
          ],
          "scattercarpet": [
           {
            "marker": {
             "colorbar": {
              "outlinewidth": 0,
              "ticks": ""
             }
            },
            "type": "scattercarpet"
           }
          ],
          "scattergeo": [
           {
            "marker": {
             "colorbar": {
              "outlinewidth": 0,
              "ticks": ""
             }
            },
            "type": "scattergeo"
           }
          ],
          "scattergl": [
           {
            "marker": {
             "colorbar": {
              "outlinewidth": 0,
              "ticks": ""
             }
            },
            "type": "scattergl"
           }
          ],
          "scattermapbox": [
           {
            "marker": {
             "colorbar": {
              "outlinewidth": 0,
              "ticks": ""
             }
            },
            "type": "scattermapbox"
           }
          ],
          "scatterpolar": [
           {
            "marker": {
             "colorbar": {
              "outlinewidth": 0,
              "ticks": ""
             }
            },
            "type": "scatterpolar"
           }
          ],
          "scatterpolargl": [
           {
            "marker": {
             "colorbar": {
              "outlinewidth": 0,
              "ticks": ""
             }
            },
            "type": "scatterpolargl"
           }
          ],
          "scatterternary": [
           {
            "marker": {
             "colorbar": {
              "outlinewidth": 0,
              "ticks": ""
             }
            },
            "type": "scatterternary"
           }
          ],
          "surface": [
           {
            "colorbar": {
             "outlinewidth": 0,
             "ticks": ""
            },
            "colorscale": [
             [
              0,
              "#0d0887"
             ],
             [
              0.1111111111111111,
              "#46039f"
             ],
             [
              0.2222222222222222,
              "#7201a8"
             ],
             [
              0.3333333333333333,
              "#9c179e"
             ],
             [
              0.4444444444444444,
              "#bd3786"
             ],
             [
              0.5555555555555556,
              "#d8576b"
             ],
             [
              0.6666666666666666,
              "#ed7953"
             ],
             [
              0.7777777777777778,
              "#fb9f3a"
             ],
             [
              0.8888888888888888,
              "#fdca26"
             ],
             [
              1,
              "#f0f921"
             ]
            ],
            "type": "surface"
           }
          ],
          "table": [
           {
            "cells": {
             "fill": {
              "color": "#EBF0F8"
             },
             "line": {
              "color": "white"
             }
            },
            "header": {
             "fill": {
              "color": "#C8D4E3"
             },
             "line": {
              "color": "white"
             }
            },
            "type": "table"
           }
          ]
         },
         "layout": {
          "annotationdefaults": {
           "arrowcolor": "#2a3f5f",
           "arrowhead": 0,
           "arrowwidth": 1
          },
          "autotypenumbers": "strict",
          "coloraxis": {
           "colorbar": {
            "outlinewidth": 0,
            "ticks": ""
           }
          },
          "colorscale": {
           "diverging": [
            [
             0,
             "#8e0152"
            ],
            [
             0.1,
             "#c51b7d"
            ],
            [
             0.2,
             "#de77ae"
            ],
            [
             0.3,
             "#f1b6da"
            ],
            [
             0.4,
             "#fde0ef"
            ],
            [
             0.5,
             "#f7f7f7"
            ],
            [
             0.6,
             "#e6f5d0"
            ],
            [
             0.7,
             "#b8e186"
            ],
            [
             0.8,
             "#7fbc41"
            ],
            [
             0.9,
             "#4d9221"
            ],
            [
             1,
             "#276419"
            ]
           ],
           "sequential": [
            [
             0,
             "#0d0887"
            ],
            [
             0.1111111111111111,
             "#46039f"
            ],
            [
             0.2222222222222222,
             "#7201a8"
            ],
            [
             0.3333333333333333,
             "#9c179e"
            ],
            [
             0.4444444444444444,
             "#bd3786"
            ],
            [
             0.5555555555555556,
             "#d8576b"
            ],
            [
             0.6666666666666666,
             "#ed7953"
            ],
            [
             0.7777777777777778,
             "#fb9f3a"
            ],
            [
             0.8888888888888888,
             "#fdca26"
            ],
            [
             1,
             "#f0f921"
            ]
           ],
           "sequentialminus": [
            [
             0,
             "#0d0887"
            ],
            [
             0.1111111111111111,
             "#46039f"
            ],
            [
             0.2222222222222222,
             "#7201a8"
            ],
            [
             0.3333333333333333,
             "#9c179e"
            ],
            [
             0.4444444444444444,
             "#bd3786"
            ],
            [
             0.5555555555555556,
             "#d8576b"
            ],
            [
             0.6666666666666666,
             "#ed7953"
            ],
            [
             0.7777777777777778,
             "#fb9f3a"
            ],
            [
             0.8888888888888888,
             "#fdca26"
            ],
            [
             1,
             "#f0f921"
            ]
           ]
          },
          "colorway": [
           "#636efa",
           "#EF553B",
           "#00cc96",
           "#ab63fa",
           "#FFA15A",
           "#19d3f3",
           "#FF6692",
           "#B6E880",
           "#FF97FF",
           "#FECB52"
          ],
          "font": {
           "color": "#2a3f5f"
          },
          "geo": {
           "bgcolor": "white",
           "lakecolor": "white",
           "landcolor": "#E5ECF6",
           "showlakes": true,
           "showland": true,
           "subunitcolor": "white"
          },
          "hoverlabel": {
           "align": "left"
          },
          "hovermode": "closest",
          "mapbox": {
           "style": "light"
          },
          "paper_bgcolor": "white",
          "plot_bgcolor": "#E5ECF6",
          "polar": {
           "angularaxis": {
            "gridcolor": "white",
            "linecolor": "white",
            "ticks": ""
           },
           "bgcolor": "#E5ECF6",
           "radialaxis": {
            "gridcolor": "white",
            "linecolor": "white",
            "ticks": ""
           }
          },
          "scene": {
           "xaxis": {
            "backgroundcolor": "#E5ECF6",
            "gridcolor": "white",
            "gridwidth": 2,
            "linecolor": "white",
            "showbackground": true,
            "ticks": "",
            "zerolinecolor": "white"
           },
           "yaxis": {
            "backgroundcolor": "#E5ECF6",
            "gridcolor": "white",
            "gridwidth": 2,
            "linecolor": "white",
            "showbackground": true,
            "ticks": "",
            "zerolinecolor": "white"
           },
           "zaxis": {
            "backgroundcolor": "#E5ECF6",
            "gridcolor": "white",
            "gridwidth": 2,
            "linecolor": "white",
            "showbackground": true,
            "ticks": "",
            "zerolinecolor": "white"
           }
          },
          "shapedefaults": {
           "line": {
            "color": "#2a3f5f"
           }
          },
          "ternary": {
           "aaxis": {
            "gridcolor": "white",
            "linecolor": "white",
            "ticks": ""
           },
           "baxis": {
            "gridcolor": "white",
            "linecolor": "white",
            "ticks": ""
           },
           "bgcolor": "#E5ECF6",
           "caxis": {
            "gridcolor": "white",
            "linecolor": "white",
            "ticks": ""
           }
          },
          "title": {
           "x": 0.05
          },
          "xaxis": {
           "automargin": true,
           "gridcolor": "white",
           "linecolor": "white",
           "ticks": "",
           "title": {
            "standoff": 15
           },
           "zerolinecolor": "white",
           "zerolinewidth": 2
          },
          "yaxis": {
           "automargin": true,
           "gridcolor": "white",
           "linecolor": "white",
           "ticks": "",
           "title": {
            "standoff": 15
           },
           "zerolinecolor": "white",
           "zerolinewidth": 2
          }
         }
        }
       }
      }
     },
     "metadata": {},
     "output_type": "display_data"
    }
   ],
   "source": [
    "# plotting high consumers\n",
    "fig = px.scatter_mapbox(high_consumption, lat=\"latitude\", lon=\"longitude\", color=\"Median_consumption\", zoom=5, mapbox_style=\"open-street-map\",\n",
    "                        hover_name=\"Postcode\",hover_data=['Median_consumption'])\n",
    "fig.show()"
   ]
  },
  {
   "cell_type": "markdown",
   "metadata": {},
   "source": [
    "Changing index column to 'id\""
   ]
  },
  {
   "cell_type": "code",
   "execution_count": 87,
   "metadata": {},
   "outputs": [],
   "source": [
    "# Resetting DataFrame\n",
    "high_consumption = high_consumption.reset_index()\n",
    "high_consumption"
   ]
  },
  {
   "cell_type": "code",
   "execution_count": 89,
   "metadata": {},
   "outputs": [],
   "source": [
    "# renaming index column to 'id'\n",
    "high_consumption.index.name = 'id'"
   ]
  },
  {
   "cell_type": "code",
   "execution_count": 90,
   "metadata": {},
   "outputs": [
    {
     "data": {
      "text/html": [
       "<div>\n",
       "<style scoped>\n",
       "    .dataframe tbody tr th:only-of-type {\n",
       "        vertical-align: middle;\n",
       "    }\n",
       "\n",
       "    .dataframe tbody tr th {\n",
       "        vertical-align: top;\n",
       "    }\n",
       "\n",
       "    .dataframe thead th {\n",
       "        text-align: right;\n",
       "    }\n",
       "</style>\n",
       "<table border=\"1\" class=\"dataframe\">\n",
       "  <thead>\n",
       "    <tr style=\"text-align: right;\">\n",
       "      <th></th>\n",
       "      <th>Postcode</th>\n",
       "      <th>Mean_consumption</th>\n",
       "      <th>Median_consumption</th>\n",
       "      <th>longitude</th>\n",
       "      <th>latitude</th>\n",
       "    </tr>\n",
       "    <tr>\n",
       "      <th>id</th>\n",
       "      <th></th>\n",
       "      <th></th>\n",
       "      <th></th>\n",
       "      <th></th>\n",
       "      <th></th>\n",
       "    </tr>\n",
       "  </thead>\n",
       "  <tbody>\n",
       "    <tr>\n",
       "      <th>0</th>\n",
       "      <td>AB11 6BT</td>\n",
       "      <td>6950.200000</td>\n",
       "      <td>8712.60</td>\n",
       "      <td>-2.107890</td>\n",
       "      <td>57.143830</td>\n",
       "    </tr>\n",
       "    <tr>\n",
       "      <th>1</th>\n",
       "      <td>AB11 7RT</td>\n",
       "      <td>11032.000000</td>\n",
       "      <td>11354.85</td>\n",
       "      <td>-2.103499</td>\n",
       "      <td>57.133620</td>\n",
       "    </tr>\n",
       "    <tr>\n",
       "      <th>2</th>\n",
       "      <td>AB12 5FA</td>\n",
       "      <td>12742.700000</td>\n",
       "      <td>11516.00</td>\n",
       "      <td>-2.237268</td>\n",
       "      <td>57.062040</td>\n",
       "    </tr>\n",
       "    <tr>\n",
       "      <th>3</th>\n",
       "      <td>AB12 5GH</td>\n",
       "      <td>9966.835714</td>\n",
       "      <td>10541.60</td>\n",
       "      <td>-2.252965</td>\n",
       "      <td>57.071783</td>\n",
       "    </tr>\n",
       "    <tr>\n",
       "      <th>4</th>\n",
       "      <td>AB12 5GQ</td>\n",
       "      <td>11326.314286</td>\n",
       "      <td>11823.50</td>\n",
       "      <td>-2.289517</td>\n",
       "      <td>57.065919</td>\n",
       "    </tr>\n",
       "    <tr>\n",
       "      <th>...</th>\n",
       "      <td>...</td>\n",
       "      <td>...</td>\n",
       "      <td>...</td>\n",
       "      <td>...</td>\n",
       "      <td>...</td>\n",
       "    </tr>\n",
       "    <tr>\n",
       "      <th>4981</th>\n",
       "      <td>KA25 7LE</td>\n",
       "      <td>13078.633333</td>\n",
       "      <td>13100.20</td>\n",
       "      <td>-4.707726</td>\n",
       "      <td>55.766310</td>\n",
       "    </tr>\n",
       "    <tr>\n",
       "      <th>4982</th>\n",
       "      <td>KA26 9NN</td>\n",
       "      <td>11357.933333</td>\n",
       "      <td>8227.30</td>\n",
       "      <td>-4.820806</td>\n",
       "      <td>55.331885</td>\n",
       "    </tr>\n",
       "    <tr>\n",
       "      <th>4983</th>\n",
       "      <td>KA26 9UA</td>\n",
       "      <td>8694.420000</td>\n",
       "      <td>11221.20</td>\n",
       "      <td>-4.627360</td>\n",
       "      <td>55.227361</td>\n",
       "    </tr>\n",
       "    <tr>\n",
       "      <th>4984</th>\n",
       "      <td>KA27 8ET</td>\n",
       "      <td>8915.216667</td>\n",
       "      <td>9723.85</td>\n",
       "      <td>-5.331884</td>\n",
       "      <td>55.501242</td>\n",
       "    </tr>\n",
       "    <tr>\n",
       "      <th>4985</th>\n",
       "      <td>KA27 8QA</td>\n",
       "      <td>7879.671429</td>\n",
       "      <td>8570.30</td>\n",
       "      <td>-5.096420</td>\n",
       "      <td>55.500038</td>\n",
       "    </tr>\n",
       "  </tbody>\n",
       "</table>\n",
       "<p>4986 rows × 5 columns</p>\n",
       "</div>"
      ],
      "text/plain": [
       "      Postcode  Mean_consumption  Median_consumption  longitude   latitude\n",
       "id                                                                        \n",
       "0     AB11 6BT       6950.200000             8712.60  -2.107890  57.143830\n",
       "1     AB11 7RT      11032.000000            11354.85  -2.103499  57.133620\n",
       "2     AB12 5FA      12742.700000            11516.00  -2.237268  57.062040\n",
       "3     AB12 5GH       9966.835714            10541.60  -2.252965  57.071783\n",
       "4     AB12 5GQ      11326.314286            11823.50  -2.289517  57.065919\n",
       "...        ...               ...                 ...        ...        ...\n",
       "4981  KA25 7LE      13078.633333            13100.20  -4.707726  55.766310\n",
       "4982  KA26 9NN      11357.933333             8227.30  -4.820806  55.331885\n",
       "4983  KA26 9UA       8694.420000            11221.20  -4.627360  55.227361\n",
       "4984  KA27 8ET       8915.216667             9723.85  -5.331884  55.501242\n",
       "4985  KA27 8QA       7879.671429             8570.30  -5.096420  55.500038\n",
       "\n",
       "[4986 rows x 5 columns]"
      ]
     },
     "execution_count": 90,
     "metadata": {},
     "output_type": "execute_result"
    }
   ],
   "source": [
    "# Droping index column\n",
    "high_consumption.drop(columns=['index'])"
   ]
  },
  {
   "cell_type": "code",
   "execution_count": 92,
   "metadata": {},
   "outputs": [
    {
     "data": {
      "text/html": [
       "<div>\n",
       "<style scoped>\n",
       "    .dataframe tbody tr th:only-of-type {\n",
       "        vertical-align: middle;\n",
       "    }\n",
       "\n",
       "    .dataframe tbody tr th {\n",
       "        vertical-align: top;\n",
       "    }\n",
       "\n",
       "    .dataframe thead th {\n",
       "        text-align: right;\n",
       "    }\n",
       "</style>\n",
       "<table border=\"1\" class=\"dataframe\">\n",
       "  <thead>\n",
       "    <tr style=\"text-align: right;\">\n",
       "      <th></th>\n",
       "      <th>index</th>\n",
       "      <th>Postcode</th>\n",
       "      <th>Mean_consumption</th>\n",
       "      <th>Median_consumption</th>\n",
       "      <th>longitude</th>\n",
       "      <th>latitude</th>\n",
       "    </tr>\n",
       "    <tr>\n",
       "      <th>id</th>\n",
       "      <th></th>\n",
       "      <th></th>\n",
       "      <th></th>\n",
       "      <th></th>\n",
       "      <th></th>\n",
       "      <th></th>\n",
       "    </tr>\n",
       "  </thead>\n",
       "  <tbody>\n",
       "    <tr>\n",
       "      <th>0</th>\n",
       "      <td>536</td>\n",
       "      <td>AB11 6BT</td>\n",
       "      <td>6950.200000</td>\n",
       "      <td>8712.60</td>\n",
       "      <td>-2.107890</td>\n",
       "      <td>57.143830</td>\n",
       "    </tr>\n",
       "    <tr>\n",
       "      <th>1</th>\n",
       "      <td>681</td>\n",
       "      <td>AB11 7RT</td>\n",
       "      <td>11032.000000</td>\n",
       "      <td>11354.85</td>\n",
       "      <td>-2.103499</td>\n",
       "      <td>57.133620</td>\n",
       "    </tr>\n",
       "    <tr>\n",
       "      <th>2</th>\n",
       "      <td>1299</td>\n",
       "      <td>AB12 5FA</td>\n",
       "      <td>12742.700000</td>\n",
       "      <td>11516.00</td>\n",
       "      <td>-2.237268</td>\n",
       "      <td>57.062040</td>\n",
       "    </tr>\n",
       "    <tr>\n",
       "      <th>3</th>\n",
       "      <td>1305</td>\n",
       "      <td>AB12 5GH</td>\n",
       "      <td>9966.835714</td>\n",
       "      <td>10541.60</td>\n",
       "      <td>-2.252965</td>\n",
       "      <td>57.071783</td>\n",
       "    </tr>\n",
       "    <tr>\n",
       "      <th>4</th>\n",
       "      <td>1310</td>\n",
       "      <td>AB12 5GQ</td>\n",
       "      <td>11326.314286</td>\n",
       "      <td>11823.50</td>\n",
       "      <td>-2.289517</td>\n",
       "      <td>57.065919</td>\n",
       "    </tr>\n",
       "    <tr>\n",
       "      <th>...</th>\n",
       "      <td>...</td>\n",
       "      <td>...</td>\n",
       "      <td>...</td>\n",
       "      <td>...</td>\n",
       "      <td>...</td>\n",
       "      <td>...</td>\n",
       "    </tr>\n",
       "    <tr>\n",
       "      <th>4981</th>\n",
       "      <td>497832</td>\n",
       "      <td>KA25 7LE</td>\n",
       "      <td>13078.633333</td>\n",
       "      <td>13100.20</td>\n",
       "      <td>-4.707726</td>\n",
       "      <td>55.766310</td>\n",
       "    </tr>\n",
       "    <tr>\n",
       "      <th>4982</th>\n",
       "      <td>498034</td>\n",
       "      <td>KA26 9NN</td>\n",
       "      <td>11357.933333</td>\n",
       "      <td>8227.30</td>\n",
       "      <td>-4.820806</td>\n",
       "      <td>55.331885</td>\n",
       "    </tr>\n",
       "    <tr>\n",
       "      <th>4983</th>\n",
       "      <td>498074</td>\n",
       "      <td>KA26 9UA</td>\n",
       "      <td>8694.420000</td>\n",
       "      <td>11221.20</td>\n",
       "      <td>-4.627360</td>\n",
       "      <td>55.227361</td>\n",
       "    </tr>\n",
       "    <tr>\n",
       "      <th>4984</th>\n",
       "      <td>498118</td>\n",
       "      <td>KA27 8ET</td>\n",
       "      <td>8915.216667</td>\n",
       "      <td>9723.85</td>\n",
       "      <td>-5.331884</td>\n",
       "      <td>55.501242</td>\n",
       "    </tr>\n",
       "    <tr>\n",
       "      <th>4985</th>\n",
       "      <td>498192</td>\n",
       "      <td>KA27 8QA</td>\n",
       "      <td>7879.671429</td>\n",
       "      <td>8570.30</td>\n",
       "      <td>-5.096420</td>\n",
       "      <td>55.500038</td>\n",
       "    </tr>\n",
       "  </tbody>\n",
       "</table>\n",
       "<p>4986 rows × 6 columns</p>\n",
       "</div>"
      ],
      "text/plain": [
       "       index  Postcode  Mean_consumption  Median_consumption  longitude  \\\n",
       "id                                                                        \n",
       "0        536  AB11 6BT       6950.200000             8712.60  -2.107890   \n",
       "1        681  AB11 7RT      11032.000000            11354.85  -2.103499   \n",
       "2       1299  AB12 5FA      12742.700000            11516.00  -2.237268   \n",
       "3       1305  AB12 5GH       9966.835714            10541.60  -2.252965   \n",
       "4       1310  AB12 5GQ      11326.314286            11823.50  -2.289517   \n",
       "...      ...       ...               ...                 ...        ...   \n",
       "4981  497832  KA25 7LE      13078.633333            13100.20  -4.707726   \n",
       "4982  498034  KA26 9NN      11357.933333             8227.30  -4.820806   \n",
       "4983  498074  KA26 9UA       8694.420000            11221.20  -4.627360   \n",
       "4984  498118  KA27 8ET       8915.216667             9723.85  -5.331884   \n",
       "4985  498192  KA27 8QA       7879.671429             8570.30  -5.096420   \n",
       "\n",
       "       latitude  \n",
       "id               \n",
       "0     57.143830  \n",
       "1     57.133620  \n",
       "2     57.062040  \n",
       "3     57.071783  \n",
       "4     57.065919  \n",
       "...         ...  \n",
       "4981  55.766310  \n",
       "4982  55.331885  \n",
       "4983  55.227361  \n",
       "4984  55.501242  \n",
       "4985  55.500038  \n",
       "\n",
       "[4986 rows x 6 columns]"
      ]
     },
     "execution_count": 92,
     "metadata": {},
     "output_type": "execute_result"
    }
   ],
   "source": [
    "high_consumption"
   ]
  },
  {
   "cell_type": "code",
   "execution_count": 93,
   "metadata": {},
   "outputs": [
    {
     "data": {
      "text/html": [
       "<div>\n",
       "<style scoped>\n",
       "    .dataframe tbody tr th:only-of-type {\n",
       "        vertical-align: middle;\n",
       "    }\n",
       "\n",
       "    .dataframe tbody tr th {\n",
       "        vertical-align: top;\n",
       "    }\n",
       "\n",
       "    .dataframe thead th {\n",
       "        text-align: right;\n",
       "    }\n",
       "</style>\n",
       "<table border=\"1\" class=\"dataframe\">\n",
       "  <thead>\n",
       "    <tr style=\"text-align: right;\">\n",
       "      <th></th>\n",
       "      <th>Postcode</th>\n",
       "      <th>Mean_consumption</th>\n",
       "      <th>Median_consumption</th>\n",
       "      <th>longitude</th>\n",
       "      <th>latitude</th>\n",
       "    </tr>\n",
       "    <tr>\n",
       "      <th>id</th>\n",
       "      <th></th>\n",
       "      <th></th>\n",
       "      <th></th>\n",
       "      <th></th>\n",
       "      <th></th>\n",
       "    </tr>\n",
       "  </thead>\n",
       "  <tbody>\n",
       "    <tr>\n",
       "      <th>0</th>\n",
       "      <td>AB11 6BT</td>\n",
       "      <td>6950.200000</td>\n",
       "      <td>8712.60</td>\n",
       "      <td>-2.107890</td>\n",
       "      <td>57.143830</td>\n",
       "    </tr>\n",
       "    <tr>\n",
       "      <th>1</th>\n",
       "      <td>AB11 7RT</td>\n",
       "      <td>11032.000000</td>\n",
       "      <td>11354.85</td>\n",
       "      <td>-2.103499</td>\n",
       "      <td>57.133620</td>\n",
       "    </tr>\n",
       "    <tr>\n",
       "      <th>2</th>\n",
       "      <td>AB12 5FA</td>\n",
       "      <td>12742.700000</td>\n",
       "      <td>11516.00</td>\n",
       "      <td>-2.237268</td>\n",
       "      <td>57.062040</td>\n",
       "    </tr>\n",
       "    <tr>\n",
       "      <th>3</th>\n",
       "      <td>AB12 5GH</td>\n",
       "      <td>9966.835714</td>\n",
       "      <td>10541.60</td>\n",
       "      <td>-2.252965</td>\n",
       "      <td>57.071783</td>\n",
       "    </tr>\n",
       "    <tr>\n",
       "      <th>4</th>\n",
       "      <td>AB12 5GQ</td>\n",
       "      <td>11326.314286</td>\n",
       "      <td>11823.50</td>\n",
       "      <td>-2.289517</td>\n",
       "      <td>57.065919</td>\n",
       "    </tr>\n",
       "    <tr>\n",
       "      <th>...</th>\n",
       "      <td>...</td>\n",
       "      <td>...</td>\n",
       "      <td>...</td>\n",
       "      <td>...</td>\n",
       "      <td>...</td>\n",
       "    </tr>\n",
       "    <tr>\n",
       "      <th>4981</th>\n",
       "      <td>KA25 7LE</td>\n",
       "      <td>13078.633333</td>\n",
       "      <td>13100.20</td>\n",
       "      <td>-4.707726</td>\n",
       "      <td>55.766310</td>\n",
       "    </tr>\n",
       "    <tr>\n",
       "      <th>4982</th>\n",
       "      <td>KA26 9NN</td>\n",
       "      <td>11357.933333</td>\n",
       "      <td>8227.30</td>\n",
       "      <td>-4.820806</td>\n",
       "      <td>55.331885</td>\n",
       "    </tr>\n",
       "    <tr>\n",
       "      <th>4983</th>\n",
       "      <td>KA26 9UA</td>\n",
       "      <td>8694.420000</td>\n",
       "      <td>11221.20</td>\n",
       "      <td>-4.627360</td>\n",
       "      <td>55.227361</td>\n",
       "    </tr>\n",
       "    <tr>\n",
       "      <th>4984</th>\n",
       "      <td>KA27 8ET</td>\n",
       "      <td>8915.216667</td>\n",
       "      <td>9723.85</td>\n",
       "      <td>-5.331884</td>\n",
       "      <td>55.501242</td>\n",
       "    </tr>\n",
       "    <tr>\n",
       "      <th>4985</th>\n",
       "      <td>KA27 8QA</td>\n",
       "      <td>7879.671429</td>\n",
       "      <td>8570.30</td>\n",
       "      <td>-5.096420</td>\n",
       "      <td>55.500038</td>\n",
       "    </tr>\n",
       "  </tbody>\n",
       "</table>\n",
       "<p>4986 rows × 5 columns</p>\n",
       "</div>"
      ],
      "text/plain": [
       "      Postcode  Mean_consumption  Median_consumption  longitude   latitude\n",
       "id                                                                        \n",
       "0     AB11 6BT       6950.200000             8712.60  -2.107890  57.143830\n",
       "1     AB11 7RT      11032.000000            11354.85  -2.103499  57.133620\n",
       "2     AB12 5FA      12742.700000            11516.00  -2.237268  57.062040\n",
       "3     AB12 5GH       9966.835714            10541.60  -2.252965  57.071783\n",
       "4     AB12 5GQ      11326.314286            11823.50  -2.289517  57.065919\n",
       "...        ...               ...                 ...        ...        ...\n",
       "4981  KA25 7LE      13078.633333            13100.20  -4.707726  55.766310\n",
       "4982  KA26 9NN      11357.933333             8227.30  -4.820806  55.331885\n",
       "4983  KA26 9UA       8694.420000            11221.20  -4.627360  55.227361\n",
       "4984  KA27 8ET       8915.216667             9723.85  -5.331884  55.501242\n",
       "4985  KA27 8QA       7879.671429             8570.30  -5.096420  55.500038\n",
       "\n",
       "[4986 rows x 5 columns]"
      ]
     },
     "execution_count": 93,
     "metadata": {},
     "output_type": "execute_result"
    }
   ],
   "source": [
    "# Dropping index column\n",
    "high_consumption = high_consumption.drop(columns=['index'])\n",
    "high_consumption"
   ]
  },
  {
   "cell_type": "code",
   "execution_count": 94,
   "metadata": {},
   "outputs": [],
   "source": [
    "# Saving DataFrame as csv\n",
    "high_consumption.to_csv('electricty.csv')"
   ]
  },
  {
   "cell_type": "code",
   "execution_count": null,
   "metadata": {},
   "outputs": [],
   "source": []
  }
 ],
 "metadata": {
  "kernelspec": {
   "display_name": "Python 3.10.4 ('elec')",
   "language": "python",
   "name": "python3"
  },
  "language_info": {
   "codemirror_mode": {
    "name": "ipython",
    "version": 3
   },
   "file_extension": ".py",
   "mimetype": "text/x-python",
   "name": "python",
   "nbconvert_exporter": "python",
   "pygments_lexer": "ipython3",
   "version": "3.10.4"
  },
  "orig_nbformat": 4,
  "vscode": {
   "interpreter": {
    "hash": "a03df1490dae5edca8350f1d64d7f189571412bea11a20357ccabc9e7f68ebdc"
   }
  }
 },
 "nbformat": 4,
 "nbformat_minor": 2
}
